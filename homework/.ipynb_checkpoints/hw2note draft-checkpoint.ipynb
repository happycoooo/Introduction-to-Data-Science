{
 "cells": [
  {
   "cell_type": "code",
   "execution_count": 3,
   "id": "79d108e4",
   "metadata": {},
   "outputs": [
    {
     "name": "stdout",
     "output_type": "stream",
     "text": [
      "5\n"
     ]
    }
   ],
   "source": [
    "x = 'R\\0S\\0T'\n",
    "print(len(x))"
   ]
  },
  {
   "cell_type": "code",
   "execution_count": 4,
   "id": "7b5bef5b",
   "metadata": {},
   "outputs": [
    {
     "name": "stdout",
     "output_type": "stream",
     "text": [
      "False\n"
     ]
    }
   ],
   "source": [
    "print(0.1 + 0.2 == 0.3)"
   ]
  },
  {
   "cell_type": "code",
   "execution_count": 5,
   "id": "1d9b9ace",
   "metadata": {},
   "outputs": [
    {
     "name": "stdout",
     "output_type": "stream",
     "text": [
      "4199.64\n"
     ]
    }
   ],
   "source": [
    "a = 3.6e-1\n",
    "b = 4.2e3\n",
    "print(b-a)"
   ]
  },
  {
   "cell_type": "code",
   "execution_count": 7,
   "id": "da3728e4",
   "metadata": {},
   "outputs": [
    {
     "name": "stdout",
     "output_type": "stream",
     "text": [
      "Dad loves Mom\n"
     ]
    }
   ],
   "source": [
    "s1,s2 = 'Mom','Dad'\n",
    "print(\"{} loves {}\".format(s2,s1))"
   ]
  },
  {
   "cell_type": "code",
   "execution_count": 10,
   "id": "c6c5b994",
   "metadata": {},
   "outputs": [
    {
     "name": "stdout",
     "output_type": "stream",
     "text": [
      "I love the World\n"
     ]
    }
   ],
   "source": [
    "t = \"the World is so big,I want to see\"\n",
    "s = t[20:21]+' love '+t[:9]\n",
    "print(s)"
   ]
  },
  {
   "cell_type": "code",
   "execution_count": 11,
   "id": "0a8be736",
   "metadata": {},
   "outputs": [
    {
     "name": "stdout",
     "output_type": "stream",
     "text": [
      "False\n"
     ]
    }
   ],
   "source": [
    "Test_list = list(range(6))\n",
    "print(6 in Test_list)"
   ]
  },
  {
   "cell_type": "code",
   "execution_count": 12,
   "id": "83da35de",
   "metadata": {},
   "outputs": [
    {
     "name": "stdout",
     "output_type": "stream",
     "text": [
      "vi\n"
     ]
    }
   ],
   "source": [
    "tstr = 'television'\n",
    "print(tstr[-6:6])"
   ]
  },
  {
   "cell_type": "code",
   "execution_count": 16,
   "id": "b43408cb",
   "metadata": {},
   "outputs": [
    {
     "name": "stdout",
     "output_type": "stream",
     "text": [
      "1,2,3,5,"
     ]
    }
   ],
   "source": [
    "for i in range(1,6):\n",
    "    if i%4 == 0:\n",
    "        continue    \n",
    "    else:\n",
    "        print(i,end=\",\")\n"
   ]
  },
  {
   "cell_type": "code",
   "execution_count": 17,
   "id": "7a847b67",
   "metadata": {},
   "outputs": [
    {
     "name": "stdout",
     "output_type": "stream",
     "text": [
      "granfater"
     ]
    }
   ],
   "source": [
    "for s in \"grandfather\":\n",
    "    if s== \"d\" or s == \"h\":\n",
    "        continue\n",
    "    print(s,end = \"\")"
   ]
  },
  {
   "cell_type": "code",
   "execution_count": 19,
   "id": "db3c0388",
   "metadata": {},
   "outputs": [
    {
     "name": "stdout",
     "output_type": "stream",
     "text": [
      "N"
     ]
    }
   ],
   "source": [
    "for s in \"PythonNCRE\":\n",
    "    if s == \"N\":\n",
    "        break\n",
    "print(s,end=\"\")"
   ]
  },
  {
   "cell_type": "code",
   "execution_count": 21,
   "id": "f230d47e",
   "metadata": {},
   "outputs": [
    {
     "name": "stdout",
     "output_type": "stream",
     "text": [
      "567"
     ]
    }
   ],
   "source": [
    "for i in reversed(range(7,4,-1)):\n",
    "    print(i,end=\"\")"
   ]
  },
  {
   "cell_type": "code",
   "execution_count": 30,
   "id": "9bccfbc6",
   "metadata": {},
   "outputs": [
    {
     "name": "stdout",
     "output_type": "stream",
     "text": [
      "dramdramdram"
     ]
    }
   ],
   "source": [
    "for i in range(3):\n",
    "    for j in 'dream':\n",
    "        if j == \"e\":\n",
    "            continue\n",
    "        print(j,end = \"\")"
   ]
  },
  {
   "cell_type": "code",
   "execution_count": 31,
   "id": "04b423fa",
   "metadata": {},
   "outputs": [
    {
     "name": "stdout",
     "output_type": "stream",
     "text": [
      "7\n"
     ]
    }
   ],
   "source": [
    "for x in range(2,8):\n",
    "    y = 0\n",
    "    y += x\n",
    "print(y)"
   ]
  },
  {
   "cell_type": "code",
   "execution_count": 32,
   "id": "59c57e95",
   "metadata": {},
   "outputs": [
    {
     "name": "stdout",
     "output_type": "stream",
     "text": [
      "123426\n"
     ]
    }
   ],
   "source": [
    "x = 4\n",
    "ca = '123456'\n",
    "if str(x) in ca:\n",
    "    print(ca.replace(ca[x],str(x-2)))"
   ]
  },
  {
   "cell_type": "code",
   "execution_count": 34,
   "id": "e54c8d66",
   "metadata": {},
   "outputs": [
    {
     "name": "stdout",
     "output_type": "stream",
     "text": [
      "6\n"
     ]
    }
   ],
   "source": [
    "ls = [[1,2,3], 'python', [[4,5,'ABC'], 6], [7,8] ]\n",
    "print(ls[2][1])"
   ]
  },
  {
   "cell_type": "code",
   "execution_count": 36,
   "id": "3d473a02",
   "metadata": {},
   "outputs": [],
   "source": [
    "d = {(1,2):1 , (3,4):3 }"
   ]
  },
  {
   "cell_type": "code",
   "execution_count": 38,
   "id": "a5e79c3b",
   "metadata": {},
   "outputs": [
    {
     "name": "stdout",
     "output_type": "stream",
     "text": [
      "no this food\n"
     ]
    }
   ],
   "source": [
    "d = {'food': {'cake':1, 'egg':5}}\n",
    "print(d.get('egg','no this food'))"
   ]
  },
  {
   "cell_type": "code",
   "execution_count": 39,
   "id": "4b2b6565",
   "metadata": {},
   "outputs": [
    {
     "name": "stdout",
     "output_type": "stream",
     "text": [
      "5\n"
     ]
    }
   ],
   "source": [
    "d = {'food': {'cake':1, 'egg':5}}\n",
    "print(d['food']['egg'])"
   ]
  },
  {
   "cell_type": "code",
   "execution_count": 58,
   "id": "2fedc889",
   "metadata": {},
   "outputs": [
    {
     "name": "stdout",
     "output_type": "stream",
     "text": [
      "('English', 20)\n",
      "('Mathematics', 30)\n",
      "('Chinese', 40)\n",
      "{20: 'English', 30: 'Mathematics', 40: 'Chinese'}\n"
     ]
    }
   ],
   "source": [
    "tb = {'English':20, 'Mathematics':30, 'Chinese':40 }\n",
    "stb = {}\n",
    "for it in tb.items():\n",
    "    print(it)\n",
    "    stb[it[1]] = it[0]\n",
    "print(stb)"
   ]
  },
  {
   "cell_type": "code",
   "execution_count": 64,
   "id": "2c339d56",
   "metadata": {},
   "outputs": [
    {
     "name": "stdout",
     "output_type": "stream",
     "text": [
      "{0: [90, 'Aelde']}\n",
      "{0: [90, 'Aelde'], 1: [87, 'Bob']}\n",
      "{0: [90, 'Aelde'], 1: [87, 'Bob'], 2: [93, 'lala']}\n"
     ]
    }
   ],
   "source": [
    "x = [90, 87, 93]\n",
    "y = [\"Aelde\",\"Bob\",\"lala\"]\n",
    "z = {}\n",
    "for i in range(len(x)):\n",
    "    z[i] = [x[i],y[i]]\n",
    "    print(z)"
   ]
  },
  {
   "cell_type": "code",
   "execution_count": 82,
   "id": "3996cec6",
   "metadata": {},
   "outputs": [
    {
     "name": "stdout",
     "output_type": "stream",
     "text": [
      "['90,87,93']\n"
     ]
    }
   ],
   "source": [
    "y = ['90','87','93']\n",
    "l = ''\n",
    "with open (\"a.txt\",\"w\")as fo:\n",
    "    for z in y:\n",
    "        l += '{}'.format(z)+ ','\n",
    "    fo.write(l.strip(','))\n",
    "\n",
    "file = open(\"a.txt\", \"r\")\n",
    "all_data = file.readlines()\n",
    "print(all_data)"
   ]
  },
  {
   "cell_type": "code",
   "execution_count": 90,
   "id": "3ab13bcb",
   "metadata": {},
   "outputs": [
    {
     "ename": "SyntaxError",
     "evalue": "EOL while scanning string literal (3609324533.py, line 2)",
     "output_type": "error",
     "traceback": [
      "\u001b[1;36m  Input \u001b[1;32mIn [90]\u001b[1;36m\u001b[0m\n\u001b[1;33m    str = \"a,b,c,\u001b[0m\n\u001b[1;37m                 ^\u001b[0m\n\u001b[1;31mSyntaxError\u001b[0m\u001b[1;31m:\u001b[0m EOL while scanning string literal\n"
     ]
    }
   ],
   "source": [
    "with open(\"b.txt\",\"w\")as f:\n",
    "    str = \"a,b,c,\n",
    "    d\"\n",
    "    f.write(str)\n",
    "    \n",
    "f = open(\"b.txt\",\"r\")\n",
    "ls = f.read().split(\",\")\n",
    "f.close()\n",
    "print(ls)"
   ]
  },
  {
   "cell_type": "code",
   "execution_count": 2,
   "id": "8a1a5556",
   "metadata": {},
   "outputs": [
    {
     "name": "stdout",
     "output_type": "stream",
     "text": [
      "Please type in an integer:2\n",
      "Execution error\n"
     ]
    }
   ],
   "source": [
    "try:\n",
    "    n = input(\"Please type in an integer:\")\n",
    "    def pow2(n):\n",
    "          return n**5\n",
    "    print(pow2(n))\n",
    "except:\n",
    "    print(\"Execution error\")\n"
   ]
  },
  {
   "cell_type": "code",
   "execution_count": 3,
   "id": "61957dff",
   "metadata": {},
   "outputs": [
    {
     "name": "stdout",
     "output_type": "stream",
     "text": [
      "5555\n"
     ]
    }
   ],
   "source": [
    "def fun(x):\n",
    "    try:\n",
    "        return x*4\n",
    "    except:\n",
    "        return x\n",
    "print(fun(\"5\"))"
   ]
  },
  {
   "cell_type": "code",
   "execution_count": 4,
   "id": "74722553",
   "metadata": {},
   "outputs": [
    {
     "name": "stdout",
     "output_type": "stream",
     "text": [
      "aa aa\n"
     ]
    }
   ],
   "source": [
    "f = lambda x,y: x if x<y else y\n",
    "a = f(\"aa\",\"bb\")\n",
    "b = f(\"bb\",\"aa\")\n",
    "print(a,b)"
   ]
  },
  {
   "cell_type": "code",
   "execution_count": 18,
   "id": "bb945495",
   "metadata": {},
   "outputs": [
    {
     "name": "stdout",
     "output_type": "stream",
     "text": [
      "55\n"
     ]
    }
   ],
   "source": [
    "def add(x):\n",
    "    if x >0:\n",
    "        return x + add(x-1)\n",
    "    else:\n",
    "        return 0\n",
    "result = add(10)\n",
    "print(result)"
   ]
  },
  {
   "cell_type": "code",
   "execution_count": 11,
   "id": "a3307c2c",
   "metadata": {},
   "outputs": [
    {
     "name": "stdout",
     "output_type": "stream",
     "text": [
      "[]\n"
     ]
    }
   ],
   "source": [
    "l = 'abcd'\n",
    "def f(x,result=['a','b','c','d']):\n",
    "    if x:\n",
    "        result.remove(x[-1])\n",
    "        f(x[:-1])\n",
    "    return result\n",
    "print(f(l))"
   ]
  },
  {
   "cell_type": "code",
   "execution_count": 16,
   "id": "57ea36f0",
   "metadata": {},
   "outputs": [
    {
     "name": "stdout",
     "output_type": "stream",
     "text": [
      "1\n",
      "None\n"
     ]
    }
   ],
   "source": [
    "def f(x,y=1,z=2):\n",
    "    print(1)\n",
    "print(f(1,y = 2,z = 3))\n"
   ]
  },
  {
   "cell_type": "code",
   "execution_count": 23,
   "id": "0597efee",
   "metadata": {},
   "outputs": [
    {
     "name": "stdout",
     "output_type": "stream",
     "text": [
      "14\n"
     ]
    }
   ],
   "source": [
    "import random\n",
    "ls = [2,3,4,6]\n",
    "s = 10\n",
    "k = random.randint(0,2)\n",
    "s += ls[k]\n",
    "print(s)"
   ]
  },
  {
   "cell_type": "code",
   "execution_count": null,
   "id": "ce06ed59",
   "metadata": {},
   "outputs": [],
   "source": []
  }
 ],
 "metadata": {
  "kernelspec": {
   "display_name": "Python 3 (ipykernel)",
   "language": "python",
   "name": "python3"
  },
  "language_info": {
   "codemirror_mode": {
    "name": "ipython",
    "version": 3
   },
   "file_extension": ".py",
   "mimetype": "text/x-python",
   "name": "python",
   "nbconvert_exporter": "python",
   "pygments_lexer": "ipython3",
   "version": "3.9.12"
  }
 },
 "nbformat": 4,
 "nbformat_minor": 5
}
