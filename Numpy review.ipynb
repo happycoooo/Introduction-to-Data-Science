{
 "cells": [
  {
   "cell_type": "code",
   "execution_count": 15,
   "id": "ac766d16",
   "metadata": {},
   "outputs": [],
   "source": [
    "import numpy as np\n",
    "import random"
   ]
  },
  {
   "cell_type": "code",
   "execution_count": 8,
   "id": "5c9a50e6",
   "metadata": {
    "scrolled": true
   },
   "outputs": [
    {
     "name": "stdout",
     "output_type": "stream",
     "text": [
      "[1 2 3]\n",
      "<class 'numpy.ndarray'>\n",
      "[0 1 2 3 4 5 6 7 8 9]\n",
      "[4 6 8]\n",
      "int32\n"
     ]
    }
   ],
   "source": [
    "# 使用numpy生成数组，得到ndarray的数据类型\n",
    "t1 = np.array([1,2,3,])\n",
    "print(t1)\n",
    "print(type(t1))   #该数组的类型\n",
    "\n",
    "t2 = np.array(range(10))\n",
    "print(t2)\n",
    "\n",
    "t3 = np.arange(4,10,2)   # start, end, step\n",
    "print(t3)\n",
    "print(t3.dtype)  # 数据的类型"
   ]
  },
  {
   "cell_type": "code",
   "execution_count": 14,
   "id": "78e18cbb",
   "metadata": {},
   "outputs": [
    {
     "name": "stdout",
     "output_type": "stream",
     "text": [
      "[1. 2. 3.]\n",
      "float64\n",
      "[ True  True False  True False False]\n",
      "bool\n",
      "[1 1 0 1 0 0]\n",
      "int8\n"
     ]
    }
   ],
   "source": [
    "# 指定数据类型\n",
    "t4 = np.array(range(1,4),dtype = float)\n",
    "print(t4)\n",
    "print(t4.dtype)\n",
    "\n",
    "#bool类型\n",
    "t5 = np.array([1,1,0,1,0,0],dtype = bool)\n",
    "print(t5)\n",
    "print(t5.dtype)\n",
    "\n",
    "# 调整数据类型\n",
    "t6 = t5.astype(\"int8\")\n",
    "print(t6)\n",
    "print(t6.dtype)"
   ]
  },
  {
   "cell_type": "code",
   "execution_count": 20,
   "id": "e8566390",
   "metadata": {},
   "outputs": [
    {
     "name": "stdout",
     "output_type": "stream",
     "text": [
      "[0.10513667 0.18570536 0.34259343 0.40071156 0.11772398 0.03529579\n",
      " 0.36820857 0.54274247 0.92622186 0.33598915]\n",
      "float64\n",
      "[0.105 0.186 0.343 0.401 0.118 0.035 0.368 0.543 0.926 0.336]\n",
      "0.95\n"
     ]
    }
   ],
   "source": [
    "#小数\n",
    "t7 = np.array([random.random() for i in range(10)])\n",
    "print(t7)\n",
    "print(t7.dtype)\n",
    "\n",
    "# 保留小数位数 np.round(b,x)\n",
    "t8 = np.round(t7,3)\n",
    "print(t8)\n",
    "\n",
    "# 另一种保留小数的办法：\n",
    "print(\"%.2f\"%random.random())"
   ]
  },
  {
   "cell_type": "code",
   "execution_count": 33,
   "id": "1048344e",
   "metadata": {},
   "outputs": [
    {
     "name": "stdout",
     "output_type": "stream",
     "text": [
      "[ 0  1  2  3  4  5  6  7  8  9 10 11]\n",
      "(12,)\n",
      "[[1 2 3]\n",
      " [4 5 6]]\n",
      "(2, 3)\n"
     ]
    }
   ],
   "source": [
    "#数组的形状\n",
    "a1 = np.arange(12)\n",
    "print(a1)\n",
    "print(a1.shape)\n",
    "\n",
    "a2 = np.array([[1,2,3],[4,5,6]])\n",
    "print(a2)\n",
    "print(a2.shape)\n",
    "\n"
   ]
  },
  {
   "cell_type": "code",
   "execution_count": 49,
   "id": "e1439ff4",
   "metadata": {},
   "outputs": [
    {
     "name": "stdout",
     "output_type": "stream",
     "text": [
      "[[ 0  1  2  3]\n",
      " [ 4  5  6  7]\n",
      " [ 8  9 10 11]]\n",
      "-------------\n",
      "[[[ 0  1  2  3]\n",
      "  [ 4  5  6  7]\n",
      "  [ 8  9 10 11]]\n",
      "\n",
      " [[12 13 14 15]\n",
      "  [16 17 18 19]\n",
      "  [20 21 22 23]]]\n",
      "-------------\n",
      "[[ 0  1  2  3  4  5]\n",
      " [ 6  7  8  9 10 11]\n",
      " [12 13 14 15 16 17]\n",
      " [18 19 20 21 22 23]]\n",
      "-------------\n",
      "[ 0  1  2  3  4  5  6  7  8  9 10 11 12 13 14 15 16 17 18 19 20 21 22 23]\n",
      "-------------\n",
      "[[ 0  1  2  3  4  5  6  7  8  9 10 11 12 13 14 15 16 17 18 19 20 21 22 23]]\n",
      "-------------\n",
      "[ 0  1  2  3  4  5  6  7  8  9 10 11 12 13 14 15 16 17 18 19 20 21 22 23]\n",
      "-------------\n",
      "[ 0  1  2  3  4  5  6  7  8  9 10 11 12 13 14 15 16 17 18 19 20 21 22 23]\n"
     ]
    }
   ],
   "source": [
    "# 修改数组形状：二维数据\n",
    "s1 = a1.reshape((3,4))\n",
    "print(s1)\n",
    "print(\"-------------\")\n",
    "# 三维数据\n",
    "a3 = np.arange(24)\n",
    "print(a3.reshape((2,3,4)))# block,roll,column\n",
    "print(\"-------------\")\n",
    "print(a3.reshape((4,6)))\n",
    "print(\"-------------\")\n",
    "# reshape有返回值，不改变本身的值\n",
    "# 修改值则要重新赋值\n",
    "a3 = a3.reshape((4,6))\n",
    "\n",
    "# 重新变回一维数组\n",
    "print(a3.reshape((24,)))\n",
    "print(\"-------------\")\n",
    "# 注意这个仍为二维数组\n",
    "print(a3.reshape((1,24)))\n",
    "print(\"-------------\")\n",
    "\n",
    "# 未知数据个数时变为一维数组\n",
    "# 方法一：采用reshape函数\n",
    "a4 = a3.reshape((a3.shape[0]*a3.shape[1],))  #shape[0]为行数，shape[1]为列数，两个相乘即得元素个数\n",
    "print(a4)\n",
    "print(\"-------------\")\n",
    "# 方法二: 采用flatten()函数\n",
    "print(a3.flatten())"
   ]
  },
  {
   "cell_type": "code",
   "execution_count": 66,
   "id": "15cac801",
   "metadata": {},
   "outputs": [
    {
     "name": "stdout",
     "output_type": "stream",
     "text": [
      "[[ 0  1  2  3  4  5]\n",
      " [ 6  7  8  9 10 11]\n",
      " [12 13 14 15 16 17]\n",
      " [18 19 20 21 22 23]]\n",
      "-------------\n",
      "[[ 2  3  4  5  6  7]\n",
      " [ 8  9 10 11 12 13]\n",
      " [14 15 16 17 18 19]\n",
      " [20 21 22 23 24 25]]\n",
      "-------------\n",
      "[[ 0.   0.5  1.   1.5  2.   2.5]\n",
      " [ 3.   3.5  4.   4.5  5.   5.5]\n",
      " [ 6.   6.5  7.   7.5  8.   8.5]\n",
      " [ 9.   9.5 10.  10.5 11.  11.5]]\n",
      "-------------\n",
      "[[nan inf inf inf inf inf]\n",
      " [inf inf inf inf inf inf]\n",
      " [inf inf inf inf inf inf]\n",
      " [inf inf inf inf inf inf]]\n",
      "-------------\n",
      "[[10 11 12 13 14 15]\n",
      " [16 17 18 19 20 21]\n",
      " [22 23 24 25 26 27]\n",
      " [28 29 30 31 32 33]]\n",
      "[[10 12 14 16 18 20]\n",
      " [22 24 26 28 30 32]\n",
      " [34 36 38 40 42 44]\n",
      " [46 48 50 52 54 56]]\n",
      "[[  0  11  24  39  56  75]\n",
      " [ 96 119 144 171 200 231]\n",
      " [264 299 336 375 416 459]\n",
      " [504 551 600 651 704 759]]\n",
      "-------------\n"
     ]
    },
    {
     "name": "stderr",
     "output_type": "stream",
     "text": [
      "C:\\Windows\\Temp\\ipykernel_24952\\3454063287.py:8: RuntimeWarning: divide by zero encountered in true_divide\n",
      "  print(a3/0)\n",
      "C:\\Windows\\Temp\\ipykernel_24952\\3454063287.py:8: RuntimeWarning: invalid value encountered in true_divide\n",
      "  print(a3/0)\n"
     ]
    }
   ],
   "source": [
    "#数组的计算\n",
    "# 广播机制\n",
    "print(a3)\n",
    "print(\"-------------\")\n",
    "print(a3+2)\n",
    "print(\"-------------\")\n",
    "print(a3/2)\n",
    "print(\"-------------\")\n",
    "print(a3/0)\n",
    "print(\"-------------\")\n",
    "\n",
    "#相同shape的计算\n",
    "a5 = np.arange(10,34).reshape((4,6))\n",
    "print(a5)\n",
    "print(a5+a3)\n",
    "print(a5*a3)\n",
    "print(\"-------------\")\n"
   ]
  },
  {
   "cell_type": "code",
   "execution_count": 67,
   "id": "3576dc7e",
   "metadata": {},
   "outputs": [
    {
     "name": "stdout",
     "output_type": "stream",
     "text": [
      "[[ 0  0  0  0  0  0]\n",
      " [ 6  6  6  6  6  6]\n",
      " [12 12 12 12 12 12]\n",
      " [18 18 18 18 18 18]]\n",
      "-------------\n",
      "[[0]\n",
      " [1]\n",
      " [2]\n",
      " [3]]\n",
      "[[ 0  1  2  3  4  5]\n",
      " [ 5  6  7  8  9 10]\n",
      " [10 11 12 13 14 15]\n",
      " [15 16 17 18 19 20]]\n"
     ]
    }
   ],
   "source": [
    "#不同shape\n",
    "\n",
    "#在行的维度上相同，在每一行上进行加减运算\n",
    "a6 = np.arange(0,6)\n",
    "print(a3-a6)\n",
    "print(\"-------------\")\n",
    "\n",
    "# 在列的维度上相同,\n",
    "a7 = np.arange(4).reshape((4,1))\n",
    "print(a7)\n",
    "print(a3-a7)\n",
    "\n",
    "#其他情况下无法计算"
   ]
  }
 ],
 "metadata": {
  "kernelspec": {
   "display_name": "Python 3 (ipykernel)",
   "language": "python",
   "name": "python3"
  },
  "language_info": {
   "codemirror_mode": {
    "name": "ipython",
    "version": 3
   },
   "file_extension": ".py",
   "mimetype": "text/x-python",
   "name": "python",
   "nbconvert_exporter": "python",
   "pygments_lexer": "ipython3",
   "version": "3.9.12"
  }
 },
 "nbformat": 4,
 "nbformat_minor": 5
}
