{
 "cells": [
  {
   "cell_type": "markdown",
   "id": "422dd9b3",
   "metadata": {
    "slideshow": {
     "slide_type": "slide"
    }
   },
   "source": [
    "# Built-In Types: Simple Values\n",
    "\n",
    "When discussing Python variables and objects, we mentioned the fact that all Python objects have type information attached. Here we'll briefly walk through the built-in simple types offered by Python.\n",
    "We say \"simple types\" to contrast with several compound types, which will be discussed in the following section.\n",
    "\n",
    "Python's simple types are summarized in the following table:\n",
    "\n",
    "<br />\n",
    "<center>**Python Scalar Types**</center>\n",
    "\n",
    "| Type        | Example        | Description                                                  |\n",
    "|-------------|----------------|--------------------------------------------------------------|\n",
    "| ``int``     | ``x = 1``      | integers (i.e., whole numbers)                               |\n",
    "| ``float``   | ``x = 1.0``    | floating-point numbers (i.e., real numbers)                  |\n",
    "| ``complex`` | ``x = 1 + 2j`` | Complex numbers (i.e., numbers with real and imaginary part) |\n",
    "| ``bool``    | ``x = True``   | Boolean: True/False values                                   |\n",
    "| ``str``     | ``x = 'abc'``  | String: characters or text                                   |\n",
    "| ``NoneType``| ``x = None``   | Special object indicating nulls                              |\n",
    "\n",
    "We'll take a quick look at each of these in turn."
   ]
  },
  {
   "cell_type": "markdown",
   "id": "0bff7858",
   "metadata": {
    "slideshow": {
     "slide_type": "slide"
    }
   },
   "source": [
    "## Integers\n",
    "The most basic numerical type is the integer.\n",
    "Any number without a decimal point is an integer:"
   ]
  },
  {
   "cell_type": "code",
   "execution_count": null,
   "id": "4995e333",
   "metadata": {
    "ExecuteTime": {
     "end_time": "2022-09-19T02:36:41.582569Z",
     "start_time": "2022-09-19T02:36:41.546571Z"
    },
    "code_folding": [],
    "slideshow": {
     "slide_type": "slide"
    }
   },
   "outputs": [],
   "source": [
    "#\n",
    "x = 1\n",
    "type(x)"
   ]
  },
  {
   "cell_type": "markdown",
   "id": "e5e5aca7",
   "metadata": {
    "slideshow": {
     "slide_type": "slide"
    }
   },
   "source": [
    "Python integers are actually quite a bit more sophisticated than integers in languages like ``C``.\n",
    "C integers are fixed-precision, and usually \n",
    "<b><a href=\"https://en.wikipedia.org/wiki/Integer_overflow\" target=\"_blank\">overflow</a></b>\n",
    "at some value (often near $2^{31}$ or $2^{63}$, depending on your system).\n",
    "Python integers are **variable-precision**, so you can do computations that would overflow in other languages:"
   ]
  },
  {
   "cell_type": "code",
   "execution_count": 4,
   "id": "79691a47",
   "metadata": {
    "ExecuteTime": {
     "end_time": "2022-09-19T02:36:41.598569Z",
     "start_time": "2022-09-19T02:36:41.587569Z"
    },
    "slideshow": {
     "slide_type": "slide"
    }
   },
   "outputs": [
    {
     "data": {
      "text/plain": [
       "1606938044258990275541962092341162602522202993782792835301376"
      ]
     },
     "execution_count": 4,
     "metadata": {},
     "output_type": "execute_result"
    }
   ],
   "source": [
    "2 ** 200"
   ]
  },
  {
   "cell_type": "markdown",
   "id": "45ee961d",
   "metadata": {
    "slideshow": {
     "slide_type": "slide"
    }
   },
   "source": [
    "Another convenient feature of Python integers is that by default, division up-casts to floating-point type:"
   ]
  },
  {
   "cell_type": "code",
   "execution_count": 2,
   "id": "467d035e",
   "metadata": {
    "ExecuteTime": {
     "end_time": "2022-09-19T02:36:41.614573Z",
     "start_time": "2022-09-19T02:36:41.605568Z"
    }
   },
   "outputs": [
    {
     "data": {
      "text/plain": [
       "2.5"
      ]
     },
     "execution_count": 2,
     "metadata": {},
     "output_type": "execute_result"
    }
   ],
   "source": [
    "5 / 2"
   ]
  },
  {
   "cell_type": "markdown",
   "id": "a1680843",
   "metadata": {
    "slideshow": {
     "slide_type": "slide"
    }
   },
   "source": [
    "Note that this upcasting is a feature of Python 3; in Python 2, like in many statically-typed languages such as C, integer division truncates any decimal and always returns an integer:\n",
    "``` python\n",
    "# Python 2 behavior\n",
    ">>> 5 / 2\n",
    "2\n",
    "```\n",
    "To recover this behavior in Python 3, you can use the floor-division \"double slash\" operator:"
   ]
  },
  {
   "cell_type": "code",
   "execution_count": 1,
   "id": "fdf8f0c4",
   "metadata": {
    "ExecuteTime": {
     "end_time": "2022-09-19T02:36:41.630574Z",
     "start_time": "2022-09-19T02:36:41.618573Z"
    }
   },
   "outputs": [
    {
     "data": {
      "text/plain": [
       "2"
      ]
     },
     "execution_count": 1,
     "metadata": {},
     "output_type": "execute_result"
    }
   ],
   "source": [
    "5 // 2"
   ]
  },
  {
   "cell_type": "markdown",
   "id": "db1d035f",
   "metadata": {
    "slideshow": {
     "slide_type": "-"
    }
   },
   "source": [
    "Finally, note that although Python *2.x* had both an ``int`` and ``long`` type, Python 3 combines the behavior of these two into a single ``int`` type."
   ]
  },
  {
   "cell_type": "markdown",
   "id": "edff2e85",
   "metadata": {
    "slideshow": {
     "slide_type": "slide"
    }
   },
   "source": [
    "## Floating-Point Numbers\n",
    "The floating-point type can store fractional numbers.\n",
    "They can be defined either in standard decimal notation, or in exponential notation:"
   ]
  },
  {
   "cell_type": "code",
   "execution_count": 3,
   "id": "23c58d36",
   "metadata": {
    "ExecuteTime": {
     "end_time": "2022-09-19T02:36:41.646572Z",
     "start_time": "2022-09-19T02:36:41.636570Z"
    },
    "slideshow": {
     "slide_type": "slide"
    }
   },
   "outputs": [
    {
     "name": "stdout",
     "output_type": "stream",
     "text": [
      "True\n"
     ]
    }
   ],
   "source": [
    "x = 0.000005\n",
    "y = 5e-6\n",
    "print(x == y)"
   ]
  },
  {
   "cell_type": "code",
   "execution_count": 5,
   "id": "3675b39e",
   "metadata": {
    "ExecuteTime": {
     "end_time": "2022-09-19T02:36:41.662570Z",
     "start_time": "2022-09-19T02:36:41.649573Z"
    },
    "slideshow": {
     "slide_type": "slide"
    }
   },
   "outputs": [
    {
     "name": "stdout",
     "output_type": "stream",
     "text": [
      "True\n"
     ]
    }
   ],
   "source": [
    "x = 1400000.00\n",
    "y = 1.4e6\n",
    "print(x == y)"
   ]
  },
  {
   "cell_type": "markdown",
   "id": "1c90dc53",
   "metadata": {
    "slideshow": {
     "slide_type": "-"
    }
   },
   "source": [
    "In the exponential notation, the ``e`` or ``E`` can be read \"...times ten to the...\",\n",
    "so that ``1.4e6`` is interpreted as $~1.4 \\times 10^6$."
   ]
  },
  {
   "cell_type": "markdown",
   "id": "6749e963",
   "metadata": {
    "slideshow": {
     "slide_type": "slide"
    }
   },
   "source": [
    "An integer can be explicitly converted to a float with the ``float`` constructor:"
   ]
  },
  {
   "cell_type": "code",
   "execution_count": 108,
   "id": "375ae6a6",
   "metadata": {
    "ExecuteTime": {
     "end_time": "2022-09-19T02:36:41.678571Z",
     "start_time": "2022-09-19T02:36:41.666571Z"
    }
   },
   "outputs": [
    {
     "data": {
      "text/plain": [
       "1.0"
      ]
     },
     "execution_count": 108,
     "metadata": {},
     "output_type": "execute_result"
    }
   ],
   "source": [
    "float(1)\n",
    "int(3.5)\n",
    "str(987)"
   ]
  },
  {
   "cell_type": "markdown",
   "id": "ee17c08f",
   "metadata": {
    "slideshow": {
     "slide_type": "slide"
    }
   },
   "source": [
    "### Aside: Floating-point precision\n",
    "One thing to be aware of with floating point arithmetic is that its precision is limited, which can **cause equality tests to be <span style=\"color:red;\">unstable</span>**. For example:"
   ]
  },
  {
   "cell_type": "code",
   "execution_count": 7,
   "id": "43929107",
   "metadata": {
    "ExecuteTime": {
     "end_time": "2022-09-19T02:36:41.694566Z",
     "start_time": "2022-09-19T02:36:41.682571Z"
    },
    "slideshow": {
     "slide_type": "-"
    }
   },
   "outputs": [
    {
     "data": {
      "text/plain": [
       "False"
      ]
     },
     "execution_count": 7,
     "metadata": {},
     "output_type": "execute_result"
    }
   ],
   "source": [
    "(0.1 + 0.2) == 0.3"
   ]
  },
  {
   "cell_type": "markdown",
   "id": "f799bfc8",
   "metadata": {
    "slideshow": {
     "slide_type": "slide"
    }
   },
   "source": [
    "Why is this the case? It turns out that it is not a behavior unique to Python, but is due to the fixed-precision format of the binary floating-point storage used by most, if not all, scientific computing platforms.\n",
    "\n",
    "All programming languages using floating-point numbers store them in a fixed number of bits, and this leads some numbers to be represented only approximately.\n",
    "We can see this by printing the three values to high precision:"
   ]
  },
  {
   "cell_type": "code",
   "execution_count": 8,
   "id": "b321e1aa",
   "metadata": {
    "ExecuteTime": {
     "end_time": "2022-09-19T02:36:41.710571Z",
     "start_time": "2022-09-19T02:36:41.698569Z"
    },
    "slideshow": {
     "slide_type": "slide"
    }
   },
   "outputs": [
    {
     "name": "stdout",
     "output_type": "stream",
     "text": [
      "0.1 = 0.10000000000000001\n",
      "0.2 = 0.20000000000000001\n",
      "0.3 = 0.29999999999999999\n"
     ]
    }
   ],
   "source": [
    "print(\"0.1 = {0:.17f}\".format(0.1))\n",
    "print(\"0.2 = {0:.17f}\".format(0.2))\n",
    "print(\"0.3 = {0:.17f}\".format(0.3))"
   ]
  },
  {
   "cell_type": "markdown",
   "id": "0a977646",
   "metadata": {
    "slideshow": {
     "slide_type": "slide"
    }
   },
   "source": [
    "By printing so many decimal places, we see that these floats are actually **truncated**.\n",
    "\n",
    "In the familiar base-10 representation of numbers, you are probably familiar with numbers that can't be expressed in a finite number of digits.\n",
    "For example, dividing $1$ by $3$ gives, in standard decimal notation:\n",
    "$$\n",
    "1 / 3 = 0.333333333\\cdots\n",
    "$$\n",
    "The 3s go on forever: that is, to truly represent this quotient, the number of required digits is infinite!\n",
    "\n",
    "Similarly, there are numbers for which binary representations require an infinite number of digits.\n",
    "For example:\n",
    "$$\n",
    "1 / 10 = 0.00011001100110011\\cdots\n",
    "$$\n",
    "Just as decimal notation requires an infinite number of digits to perfectly represent $1/3$, binary notation requires an infinite number of digits to represent $1/10$.\n",
    "Python internally truncates these representations at 52 bits beyond the first nonzero bit on most systems.\n",
    "\n",
    "This rounding error for floating-point values is **a necessary evil** of working with floating-point numbers.\n",
    "The best way to deal with it is to always keep in mind that floating-point arithmetic is approximate, and *never* rely on exact equality tests with floating-point values."
   ]
  },
  {
   "cell_type": "markdown",
   "id": "d425b668",
   "metadata": {
    "slideshow": {
     "slide_type": "slide"
    }
   },
   "source": [
    "## Complex Numbers\n",
    "Complex numbers are numbers with real and imaginary (floating-point) parts.\n",
    "We've seen integers and real numbers before; we can use these to construct a complex number:"
   ]
  },
  {
   "cell_type": "code",
   "execution_count": null,
   "id": "d0d69553",
   "metadata": {
    "ExecuteTime": {
     "end_time": "2022-09-19T02:36:41.726569Z",
     "start_time": "2022-09-19T02:36:41.712570Z"
    },
    "slideshow": {
     "slide_type": "-"
    }
   },
   "outputs": [],
   "source": [
    "complex(1, 2)"
   ]
  },
  {
   "cell_type": "markdown",
   "id": "ac8a47db",
   "metadata": {
    "slideshow": {
     "slide_type": "slide"
    }
   },
   "source": [
    "Alternatively, we can use the \"``j``\" suffix in expressions to indicate the imaginary part:"
   ]
  },
  {
   "cell_type": "code",
   "execution_count": null,
   "id": "d7f0e624",
   "metadata": {
    "ExecuteTime": {
     "end_time": "2022-09-19T02:36:41.742566Z",
     "start_time": "2022-09-19T02:36:41.729571Z"
    }
   },
   "outputs": [],
   "source": [
    "a = 1 + 2j\n",
    "a."
   ]
  },
  {
   "cell_type": "markdown",
   "id": "3c3e9d7b",
   "metadata": {},
   "source": [
    "Complex numbers have a variety of interesting attributes and methods, but they will be seldom used in this course."
   ]
  },
  {
   "cell_type": "markdown",
   "id": "eee7ce36",
   "metadata": {
    "slideshow": {
     "slide_type": "slide"
    }
   },
   "source": [
    "## Strings\n",
    "Strings in Python are created with single or double quotes:"
   ]
  },
  {
   "cell_type": "code",
   "execution_count": null,
   "id": "42fd31ec",
   "metadata": {
    "ExecuteTime": {
     "end_time": "2022-09-19T02:36:41.746570Z",
     "start_time": "2022-09-19T02:36:41.576Z"
    },
    "slideshow": {
     "slide_type": "-"
    }
   },
   "outputs": [],
   "source": [
    "message = \"what do you like?\"\n",
    "response = 'spam'"
   ]
  },
  {
   "cell_type": "markdown",
   "id": "d6dc7484",
   "metadata": {
    "slideshow": {
     "slide_type": "slide"
    }
   },
   "source": [
    "Python has many extremely useful string functions and methods; here are a few of them:"
   ]
  },
  {
   "cell_type": "code",
   "execution_count": 11,
   "id": "565261ed",
   "metadata": {
    "ExecuteTime": {
     "end_time": "2022-09-19T02:36:41.748567Z",
     "start_time": "2022-09-19T02:36:41.579Z"
    }
   },
   "outputs": [
    {
     "data": {
      "text/plain": [
       "4"
      ]
     },
     "execution_count": 11,
     "metadata": {},
     "output_type": "execute_result"
    }
   ],
   "source": [
    "# length of string\n",
    "response = 'spam'\n",
    "len(response)"
   ]
  },
  {
   "cell_type": "code",
   "execution_count": 12,
   "id": "82951266",
   "metadata": {
    "ExecuteTime": {
     "end_time": "2022-09-19T02:36:41.749567Z",
     "start_time": "2022-09-19T02:36:41.581Z"
    },
    "slideshow": {
     "slide_type": "slide"
    }
   },
   "outputs": [
    {
     "name": "stdout",
     "output_type": "stream",
     "text": [
      "SPAM\n"
     ]
    },
    {
     "data": {
      "text/plain": [
       "'spam'"
      ]
     },
     "execution_count": 12,
     "metadata": {},
     "output_type": "execute_result"
    }
   ],
   "source": [
    "# Make upper-case. See also str.lower()\n",
    "response = 'spam'\n",
    "print (response.upper())\n",
    "response"
   ]
  },
  {
   "cell_type": "code",
   "execution_count": 13,
   "id": "c477794e",
   "metadata": {
    "ExecuteTime": {
     "end_time": "2022-09-19T02:36:41.750570Z",
     "start_time": "2022-09-19T02:36:41.583Z"
    }
   },
   "outputs": [
    {
     "data": {
      "text/plain": [
       "'What do you like?'"
      ]
     },
     "execution_count": 13,
     "metadata": {},
     "output_type": "execute_result"
    }
   ],
   "source": [
    "# Capitalize. See also str.title()\n",
    "message = \"what do you like?\"\n",
    "message.capitalize()"
   ]
  },
  {
   "cell_type": "code",
   "execution_count": 14,
   "id": "7422fc8e",
   "metadata": {
    "ExecuteTime": {
     "end_time": "2022-09-19T02:36:41.752571Z",
     "start_time": "2022-09-19T02:36:41.585Z"
    },
    "slideshow": {
     "slide_type": "slide"
    }
   },
   "outputs": [
    {
     "data": {
      "text/plain": [
       "'what do you like?spam'"
      ]
     },
     "execution_count": 14,
     "metadata": {},
     "output_type": "execute_result"
    }
   ],
   "source": [
    "# concatenation with +\n",
    "message = \"what do you like?\"\n",
    "response = 'spam'\n",
    "message + response"
   ]
  },
  {
   "cell_type": "code",
   "execution_count": 15,
   "id": "f0235ce7",
   "metadata": {
    "ExecuteTime": {
     "end_time": "2022-09-19T02:36:41.753572Z",
     "start_time": "2022-09-19T02:36:41.588Z"
    },
    "slideshow": {
     "slide_type": "slide"
    }
   },
   "outputs": [
    {
     "data": {
      "text/plain": [
       "'spamspamspamspamspam'"
      ]
     },
     "execution_count": 15,
     "metadata": {},
     "output_type": "execute_result"
    }
   ],
   "source": [
    "# multiplication is multiple concatenation!!!\n",
    "response = 'spam'\n",
    "5 * response"
   ]
  },
  {
   "cell_type": "code",
   "execution_count": 16,
   "id": "33f4f9ea",
   "metadata": {
    "ExecuteTime": {
     "end_time": "2022-09-19T02:36:41.754570Z",
     "start_time": "2022-09-19T02:36:41.590Z"
    },
    "slideshow": {
     "slide_type": "slide"
    }
   },
   "outputs": [
    {
     "name": "stdout",
     "output_type": "stream",
     "text": [
      "w\n",
      "?\n"
     ]
    }
   ],
   "source": [
    "# Access individual characters (zero-based indexing)\n",
    "message = \"what do you like?\"\n",
    "print(message[0])\n",
    "print(message[-1]) # get last character without knowing how long the str is"
   ]
  },
  {
   "cell_type": "markdown",
   "id": "31c2c3bd",
   "metadata": {},
   "source": [
    "For more discussion of indexing in Python, see List."
   ]
  },
  {
   "cell_type": "markdown",
   "id": "677681df",
   "metadata": {
    "slideshow": {
     "slide_type": "slide"
    }
   },
   "source": [
    "## None Type\n",
    "Python includes a special type, the ``NoneType``, which has only a single possible value: ``None``. For example:"
   ]
  },
  {
   "cell_type": "code",
   "execution_count": 17,
   "id": "d06db0df",
   "metadata": {
    "ExecuteTime": {
     "end_time": "2022-09-19T02:36:41.755572Z",
     "start_time": "2022-09-19T02:36:41.593Z"
    }
   },
   "outputs": [
    {
     "data": {
      "text/plain": [
       "NoneType"
      ]
     },
     "execution_count": 17,
     "metadata": {},
     "output_type": "execute_result"
    }
   ],
   "source": [
    "type(None)"
   ]
  },
  {
   "cell_type": "markdown",
   "id": "b9a2fa1e",
   "metadata": {
    "slideshow": {
     "slide_type": "slide"
    }
   },
   "source": [
    "You'll see ``None`` used in many places, but perhaps most commonly it is used as the **default return value of a function**.\n",
    "For example, the ``print()`` function in Python 3 does not return anything, but we can still catch its value:"
   ]
  },
  {
   "cell_type": "code",
   "execution_count": 18,
   "id": "6efe7e31",
   "metadata": {
    "ExecuteTime": {
     "end_time": "2022-09-19T02:36:41.757571Z",
     "start_time": "2022-09-19T02:36:41.597Z"
    }
   },
   "outputs": [
    {
     "name": "stdout",
     "output_type": "stream",
     "text": [
      "abc\n"
     ]
    }
   ],
   "source": [
    "return_value = print('abc')"
   ]
  },
  {
   "cell_type": "code",
   "execution_count": 19,
   "id": "56f630cf",
   "metadata": {
    "ExecuteTime": {
     "end_time": "2022-09-19T02:36:41.758572Z",
     "start_time": "2022-09-19T02:36:41.599Z"
    }
   },
   "outputs": [
    {
     "name": "stdout",
     "output_type": "stream",
     "text": [
      "None\n"
     ]
    }
   ],
   "source": [
    "print(return_value)"
   ]
  },
  {
   "cell_type": "markdown",
   "id": "9f66d309",
   "metadata": {
    "slideshow": {
     "slide_type": "slide"
    }
   },
   "source": [
    "Likewise, any function in Python with no return value is, in reality, returning ``None``."
   ]
  },
  {
   "cell_type": "markdown",
   "id": "14fcc6b4",
   "metadata": {
    "slideshow": {
     "slide_type": "slide"
    }
   },
   "source": [
    "## Boolean Type\n",
    "The Boolean type is a simple type with two possible values: ``True`` and ``False``, and is returned by comparison operators discussed previously:"
   ]
  },
  {
   "cell_type": "code",
   "execution_count": 20,
   "id": "4b31662e",
   "metadata": {
    "ExecuteTime": {
     "end_time": "2022-09-19T02:36:41.759572Z",
     "start_time": "2022-09-19T02:36:41.602Z"
    }
   },
   "outputs": [
    {
     "name": "stdout",
     "output_type": "stream",
     "text": [
      "True\n"
     ]
    }
   ],
   "source": [
    "result = (4 < 5)\n",
    "print(result)"
   ]
  },
  {
   "cell_type": "code",
   "execution_count": 21,
   "id": "094f22ce",
   "metadata": {
    "ExecuteTime": {
     "end_time": "2022-09-19T02:36:41.760572Z",
     "start_time": "2022-09-19T02:36:41.605Z"
    }
   },
   "outputs": [
    {
     "data": {
      "text/plain": [
       "bool"
      ]
     },
     "execution_count": 21,
     "metadata": {},
     "output_type": "execute_result"
    }
   ],
   "source": [
    "type(result)"
   ]
  },
  {
   "cell_type": "markdown",
   "id": "f89295a9",
   "metadata": {
    "slideshow": {
     "slide_type": "slide"
    }
   },
   "source": [
    "Keep in mind that the Boolean values are case-sensitive: unlike some other languages, ``True`` and ``False`` must be capitalized!"
   ]
  },
  {
   "cell_type": "code",
   "execution_count": 22,
   "id": "c45f0826",
   "metadata": {
    "ExecuteTime": {
     "end_time": "2022-09-19T02:36:41.761569Z",
     "start_time": "2022-09-19T02:36:41.607Z"
    }
   },
   "outputs": [
    {
     "name": "stdout",
     "output_type": "stream",
     "text": [
      "True False\n"
     ]
    }
   ],
   "source": [
    "print(True, False)"
   ]
  },
  {
   "cell_type": "markdown",
   "id": "cf345409",
   "metadata": {
    "slideshow": {
     "slide_type": "slide"
    }
   },
   "source": [
    "Booleans can also be constructed using the ``bool()`` object constructor: values of any other type can be converted to Boolean via predictable rules.\n",
    "For example, any numeric type is False if equal to zero, and True otherwise:"
   ]
  },
  {
   "cell_type": "code",
   "execution_count": 23,
   "id": "ccf6349c",
   "metadata": {
    "ExecuteTime": {
     "end_time": "2022-09-19T02:36:41.762566Z",
     "start_time": "2022-09-19T02:36:41.610Z"
    }
   },
   "outputs": [
    {
     "data": {
      "text/plain": [
       "True"
      ]
     },
     "execution_count": 23,
     "metadata": {},
     "output_type": "execute_result"
    }
   ],
   "source": [
    "bool(2014)"
   ]
  },
  {
   "cell_type": "code",
   "execution_count": 24,
   "id": "837dccde",
   "metadata": {
    "ExecuteTime": {
     "end_time": "2022-09-19T02:36:41.764571Z",
     "start_time": "2022-09-19T02:36:41.613Z"
    }
   },
   "outputs": [
    {
     "data": {
      "text/plain": [
       "False"
      ]
     },
     "execution_count": 24,
     "metadata": {},
     "output_type": "execute_result"
    }
   ],
   "source": [
    "bool(0)"
   ]
  },
  {
   "cell_type": "code",
   "execution_count": 25,
   "id": "d05830d3",
   "metadata": {
    "ExecuteTime": {
     "end_time": "2022-09-19T02:36:41.765574Z",
     "start_time": "2022-09-19T02:36:41.615Z"
    }
   },
   "outputs": [
    {
     "data": {
      "text/plain": [
       "True"
      ]
     },
     "execution_count": 25,
     "metadata": {},
     "output_type": "execute_result"
    }
   ],
   "source": [
    "bool(3.1415)"
   ]
  },
  {
   "cell_type": "markdown",
   "id": "5d4c8214",
   "metadata": {
    "slideshow": {
     "slide_type": "slide"
    }
   },
   "source": [
    "The Boolean conversion of ``None`` is always False:"
   ]
  },
  {
   "cell_type": "code",
   "execution_count": 26,
   "id": "d5f3b0eb",
   "metadata": {
    "ExecuteTime": {
     "end_time": "2022-09-19T02:36:41.766568Z",
     "start_time": "2022-09-19T02:36:41.619Z"
    }
   },
   "outputs": [
    {
     "data": {
      "text/plain": [
       "False"
      ]
     },
     "execution_count": 26,
     "metadata": {},
     "output_type": "execute_result"
    }
   ],
   "source": [
    "bool(None)"
   ]
  },
  {
   "cell_type": "markdown",
   "id": "0ea23073",
   "metadata": {
    "slideshow": {
     "slide_type": "slide"
    }
   },
   "source": [
    "For strings, ``bool(s)`` is False for empty strings and True otherwise:"
   ]
  },
  {
   "cell_type": "code",
   "execution_count": 27,
   "id": "946ac949",
   "metadata": {
    "ExecuteTime": {
     "end_time": "2022-09-19T02:36:41.767571Z",
     "start_time": "2022-09-19T02:36:41.622Z"
    }
   },
   "outputs": [
    {
     "data": {
      "text/plain": [
       "False"
      ]
     },
     "execution_count": 27,
     "metadata": {},
     "output_type": "execute_result"
    }
   ],
   "source": [
    "bool(\"\")"
   ]
  },
  {
   "cell_type": "code",
   "execution_count": 28,
   "id": "15d7538f",
   "metadata": {
    "ExecuteTime": {
     "end_time": "2022-09-19T02:36:41.768574Z",
     "start_time": "2022-09-19T02:36:41.624Z"
    }
   },
   "outputs": [
    {
     "data": {
      "text/plain": [
       "True"
      ]
     },
     "execution_count": 28,
     "metadata": {},
     "output_type": "execute_result"
    }
   ],
   "source": [
    "bool(\"abc\")"
   ]
  },
  {
   "cell_type": "markdown",
   "id": "7d39d778",
   "metadata": {
    "slideshow": {
     "slide_type": "slide"
    }
   },
   "source": [
    "For sequences, which we'll see in the next section, the Boolean representation is False for empty sequences and True for any other sequences"
   ]
  },
  {
   "cell_type": "code",
   "execution_count": 29,
   "id": "635c3a53",
   "metadata": {
    "ExecuteTime": {
     "end_time": "2022-09-19T02:36:41.770570Z",
     "start_time": "2022-09-19T02:36:41.627Z"
    }
   },
   "outputs": [
    {
     "data": {
      "text/plain": [
       "True"
      ]
     },
     "execution_count": 29,
     "metadata": {},
     "output_type": "execute_result"
    }
   ],
   "source": [
    "bool([1, 2, 3])"
   ]
  },
  {
   "cell_type": "code",
   "execution_count": 30,
   "id": "1070a73e",
   "metadata": {
    "ExecuteTime": {
     "end_time": "2022-09-19T02:36:41.771569Z",
     "start_time": "2022-09-19T02:36:41.629Z"
    }
   },
   "outputs": [
    {
     "data": {
      "text/plain": [
       "False"
      ]
     },
     "execution_count": 30,
     "metadata": {},
     "output_type": "execute_result"
    }
   ],
   "source": [
    "bool([])"
   ]
  },
  {
   "cell_type": "markdown",
   "id": "f2c15e69",
   "metadata": {
    "slideshow": {
     "slide_type": "slide"
    }
   },
   "source": [
    "This holds regardless of what is inside the sequence:"
   ]
  },
  {
   "cell_type": "code",
   "execution_count": 31,
   "id": "7e0e30ec",
   "metadata": {
    "ExecuteTime": {
     "end_time": "2022-09-19T02:36:41.775570Z",
     "start_time": "2022-09-19T02:36:41.632Z"
    }
   },
   "outputs": [
    {
     "name": "stdout",
     "output_type": "stream",
     "text": [
      "True\n",
      "True\n",
      "True\n",
      "False\n"
     ]
    }
   ],
   "source": [
    "list1 = [False]\n",
    "list2 = [0]\n",
    "list3 = [None]\n",
    "\n",
    "print(bool(list1))\n",
    "print(bool(list2))\n",
    "print(bool(list3))\n",
    "\n",
    "print(bool(list3[0]))"
   ]
  },
  {
   "cell_type": "markdown",
   "id": "c4624251",
   "metadata": {
    "slideshow": {
     "slide_type": "slide"
    }
   },
   "source": [
    "# Built-In Data Structures\n",
    "\n",
    "We have seen Python's simple types: ``int``, ``float``, ``complex``, ``bool``, ``str``, and so on.\n",
    "Python also has several built-in **compound types**, which group together variables of other types in different ways.\n",
    "These compound types are:\n",
    "\n",
    "| Type Name | Example                   |Description                            |\n",
    "|-----------|---------------------------|---------------------------------------|\n",
    "| ``list``  | ``[1, 2, 3]``             | Ordered collection                    |\n",
    "| ``tuple`` | ``(1, 2, 3)``             | Immutable ordered collection          |\n",
    "| ``dict``  | ``{'a':1, 'b':2, 'c':3}`` | Unordered (key,value) mapping         |\n",
    "| ``set``   | ``{1, 2, 3}``             | Unordered collection of unique values |\n",
    "\n",
    "As you can see, round, square, and curly **brackets** have distinct meanings when it comes to the type of collection produced.\n",
    "We'll take a quick tour of these data structures here."
   ]
  },
  {
   "cell_type": "markdown",
   "id": "c38c4700",
   "metadata": {
    "slideshow": {
     "slide_type": "slide"
    }
   },
   "source": [
    "## Lists\n",
    "Lists are the basic *ordered* and *mutable* data collection type in Python.\n",
    "They can be defined with comma-separated values between square brackets; for example, here is a list of the first several prime numbers:"
   ]
  },
  {
   "cell_type": "code",
   "execution_count": 1,
   "id": "c4e2d163",
   "metadata": {
    "ExecuteTime": {
     "end_time": "2022-09-19T02:36:41.776569Z",
     "start_time": "2022-09-19T02:36:41.637Z"
    }
   },
   "outputs": [],
   "source": [
    "L = [2, 3, 5, 7]"
   ]
  },
  {
   "cell_type": "markdown",
   "id": "83845c14",
   "metadata": {
    "slideshow": {
     "slide_type": "slide"
    }
   },
   "source": [
    "Lists have a number of useful properties and methods available to them.\n",
    "Here we'll take a quick look at some of the more common and useful ones:"
   ]
  },
  {
   "cell_type": "code",
   "execution_count": 2,
   "id": "d0fac5ed",
   "metadata": {
    "ExecuteTime": {
     "end_time": "2022-09-19T02:36:41.777571Z",
     "start_time": "2022-09-19T02:36:41.640Z"
    }
   },
   "outputs": [
    {
     "data": {
      "text/plain": [
       "4"
      ]
     },
     "execution_count": 2,
     "metadata": {},
     "output_type": "execute_result"
    }
   ],
   "source": [
    "# Length of a list\n",
    "L = [2, 3, 5, 7]\n",
    "len(L)"
   ]
  },
  {
   "cell_type": "code",
   "execution_count": 3,
   "id": "814741c7",
   "metadata": {
    "ExecuteTime": {
     "end_time": "2022-09-19T02:36:41.779567Z",
     "start_time": "2022-09-19T02:36:41.642Z"
    },
    "slideshow": {
     "slide_type": "slide"
    }
   },
   "outputs": [
    {
     "data": {
      "text/plain": [
       "[2, 3, 5, 7, 11]"
      ]
     },
     "execution_count": 3,
     "metadata": {},
     "output_type": "execute_result"
    }
   ],
   "source": [
    "# Append a value to the end\n",
    "L = [2, 3, 5, 7]\n",
    "L.append(11)\n",
    "L"
   ]
  },
  {
   "cell_type": "code",
   "execution_count": 4,
   "id": "1086133d",
   "metadata": {
    "ExecuteTime": {
     "end_time": "2022-09-19T02:36:41.781572Z",
     "start_time": "2022-09-19T02:36:41.645Z"
    }
   },
   "outputs": [
    {
     "data": {
      "text/plain": [
       "[2, 3, 5, 7, 13, 17, 19]"
      ]
     },
     "execution_count": 4,
     "metadata": {},
     "output_type": "execute_result"
    }
   ],
   "source": [
    "# Addition concatenates lists\n",
    "L = [2, 3, 5, 7]\n",
    "L + [13, 17, 19]"
   ]
  },
  {
   "cell_type": "code",
   "execution_count": 5,
   "id": "4cdc3757",
   "metadata": {
    "ExecuteTime": {
     "end_time": "2022-09-19T02:36:41.782573Z",
     "start_time": "2022-09-19T02:36:41.647Z"
    },
    "slideshow": {
     "slide_type": "slide"
    }
   },
   "outputs": [
    {
     "data": {
      "text/plain": [
       "[1, 2, 3, 4, 5, 6]"
      ]
     },
     "execution_count": 5,
     "metadata": {},
     "output_type": "execute_result"
    }
   ],
   "source": [
    "# sort() method sorts in-place\n",
    "L = [2, 3, 5, 7]\n",
    "L = [2, 5, 1, 6, 3, 4]\n",
    "L.sort()\n",
    "L"
   ]
  },
  {
   "cell_type": "markdown",
   "id": "b7f2fdf0",
   "metadata": {
    "slideshow": {
     "slide_type": "slide"
    }
   },
   "source": [
    "In addition, there are many more built-in list methods; they are well-covered in Python's [online documentation](https://docs.python.org/3/tutorial/datastructures.html).\n",
    "\n",
    "While we've been demonstrating lists containing values of a single type, Python's compound objects can contain objects of *any* type, or even a mix of types. For example:"
   ]
  },
  {
   "cell_type": "code",
   "execution_count": 6,
   "id": "00165687",
   "metadata": {
    "ExecuteTime": {
     "end_time": "2022-09-19T02:36:41.783570Z",
     "start_time": "2022-09-19T02:36:41.650Z"
    }
   },
   "outputs": [
    {
     "data": {
      "text/plain": [
       "[1, 'two', 3.14, [0, 3, 5]]"
      ]
     },
     "execution_count": 6,
     "metadata": {},
     "output_type": "execute_result"
    }
   ],
   "source": [
    "L = [1, 'two', 3.14, [0, 3, 5]]\n",
    "[x**2 for x in range(10)]\n",
    "L"
   ]
  },
  {
   "cell_type": "markdown",
   "id": "eff24162",
   "metadata": {
    "slideshow": {
     "slide_type": "slide"
    }
   },
   "source": [
    "This flexibility is a consequence of Python's dynamic type system.\n",
    "Creating such a mixed sequence in a statically-typed language like C can be much more of a headache!\n",
    "\n",
    "We see that lists can even contain other lists as elements.\n",
    "\n",
    "Such type flexibility is an essential piece of what makes Python code relatively quick and easy to write.\n",
    "\n",
    "So far we've been considering manipulations of lists as a whole; another essential piece is the accessing of individual elements.\n",
    "This is done in Python via *indexing* and *slicing*, which we'll explore next."
   ]
  },
  {
   "cell_type": "markdown",
   "id": "278a9197",
   "metadata": {
    "slideshow": {
     "slide_type": "slide"
    }
   },
   "source": [
    "### List indexing and slicing\n",
    "Python provides access to elements in compound types through *indexing* for single elements, and *slicing* for multiple elements.\n",
    "As we'll see, both are indicated by a square-bracket syntax.\n",
    "Suppose we return to our list of the first several primes:"
   ]
  },
  {
   "cell_type": "code",
   "execution_count": 7,
   "id": "788c2117",
   "metadata": {
    "ExecuteTime": {
     "end_time": "2022-09-19T02:36:41.785572Z",
     "start_time": "2022-09-19T02:36:41.653Z"
    }
   },
   "outputs": [],
   "source": [
    "L = [2, 3, 5, 7, 11]"
   ]
  },
  {
   "cell_type": "markdown",
   "id": "092f5849",
   "metadata": {
    "slideshow": {
     "slide_type": "slide"
    }
   },
   "source": [
    "Python uses *zero-based* indexing, so we can access the first and second element in using the following syntax:"
   ]
  },
  {
   "cell_type": "code",
   "execution_count": 8,
   "id": "74ea00e2",
   "metadata": {
    "ExecuteTime": {
     "end_time": "2022-09-19T02:36:41.786567Z",
     "start_time": "2022-09-19T02:36:41.656Z"
    }
   },
   "outputs": [
    {
     "data": {
      "text/plain": [
       "2"
      ]
     },
     "execution_count": 8,
     "metadata": {},
     "output_type": "execute_result"
    }
   ],
   "source": [
    "L[0]"
   ]
  },
  {
   "cell_type": "code",
   "execution_count": 3,
   "id": "8549ceb2",
   "metadata": {
    "ExecuteTime": {
     "end_time": "2022-09-19T02:36:41.788569Z",
     "start_time": "2022-09-19T02:36:41.659Z"
    }
   },
   "outputs": [
    {
     "data": {
      "text/plain": [
       "3"
      ]
     },
     "execution_count": 3,
     "metadata": {},
     "output_type": "execute_result"
    }
   ],
   "source": [
    "L[1]"
   ]
  },
  {
   "cell_type": "markdown",
   "id": "d2a944b5",
   "metadata": {
    "slideshow": {
     "slide_type": "slide"
    }
   },
   "source": [
    "Elements at the end of the list can be accessed with negative numbers, starting from -1:"
   ]
  },
  {
   "cell_type": "code",
   "execution_count": 9,
   "id": "14a97222",
   "metadata": {
    "ExecuteTime": {
     "end_time": "2022-09-19T02:36:41.789567Z",
     "start_time": "2022-09-19T02:36:41.662Z"
    }
   },
   "outputs": [
    {
     "data": {
      "text/plain": [
       "11"
      ]
     },
     "execution_count": 9,
     "metadata": {},
     "output_type": "execute_result"
    }
   ],
   "source": [
    "L[-1]"
   ]
  },
  {
   "cell_type": "code",
   "execution_count": 10,
   "id": "a9e4eee5",
   "metadata": {
    "ExecuteTime": {
     "end_time": "2022-09-19T02:36:41.790570Z",
     "start_time": "2022-09-19T02:36:41.665Z"
    }
   },
   "outputs": [
    {
     "data": {
      "text/plain": [
       "7"
      ]
     },
     "execution_count": 10,
     "metadata": {},
     "output_type": "execute_result"
    }
   ],
   "source": [
    "L[-2]"
   ]
  },
  {
   "cell_type": "markdown",
   "id": "1818278a",
   "metadata": {
    "slideshow": {
     "slide_type": "slide"
    }
   },
   "source": [
    "You can visualize this indexing scheme this way:"
   ]
  },
  {
   "cell_type": "markdown",
   "id": "4f810543",
   "metadata": {
    "slideshow": {
     "slide_type": "slide"
    }
   },
   "source": [
    "![List Indexing Figure](fig/list-indexing.png)"
   ]
  },
  {
   "cell_type": "markdown",
   "id": "cab893b1",
   "metadata": {},
   "source": [
    "Here values in the list are represented by large numbers in the squares; list indices are represented by small numbers above and below.\n",
    "In this case, ``L[2]`` returns ``5``, because that is the next value at index ``2``."
   ]
  },
  {
   "cell_type": "markdown",
   "id": "cf343239",
   "metadata": {
    "slideshow": {
     "slide_type": "slide"
    }
   },
   "source": [
    "Where *indexing* is a means of fetching a single value from the list, **slicing** is a means of accessing multiple values in sub-lists.\n",
    "It uses a colon to indicate the start point (inclusive) and end point (non-inclusive) of the sub-array.\n",
    "For example, to get the first three elements of the list, we can write:"
   ]
  },
  {
   "cell_type": "code",
   "execution_count": 11,
   "id": "af6ad953",
   "metadata": {
    "ExecuteTime": {
     "end_time": "2022-09-19T02:36:41.792571Z",
     "start_time": "2022-09-19T02:36:41.669Z"
    }
   },
   "outputs": [
    {
     "data": {
      "text/plain": [
       "[2, 3, 5]"
      ]
     },
     "execution_count": 11,
     "metadata": {},
     "output_type": "execute_result"
    }
   ],
   "source": [
    "L[0:3]"
   ]
  },
  {
   "cell_type": "markdown",
   "id": "932472c8",
   "metadata": {
    "slideshow": {
     "slide_type": "slide"
    }
   },
   "source": [
    "Notice where ``0`` and ``3`` lie in the preceding diagram, and how the slice takes just the values between the indices.\n",
    "If we leave out the first index, ``0`` is assumed, so we can equivalently write:"
   ]
  },
  {
   "cell_type": "code",
   "execution_count": 12,
   "id": "1433bda5",
   "metadata": {
    "ExecuteTime": {
     "end_time": "2022-09-19T02:36:41.794567Z",
     "start_time": "2022-09-19T02:36:41.673Z"
    }
   },
   "outputs": [
    {
     "data": {
      "text/plain": [
       "[2, 3, 5]"
      ]
     },
     "execution_count": 12,
     "metadata": {},
     "output_type": "execute_result"
    }
   ],
   "source": [
    "L[:3]"
   ]
  },
  {
   "cell_type": "markdown",
   "id": "b0b92ce7",
   "metadata": {
    "slideshow": {
     "slide_type": "slide"
    }
   },
   "source": [
    "Similarly, if we leave out the last index, it defaults to the length of the list.\n",
    "Thus, the last three elements can be accessed as follows:"
   ]
  },
  {
   "cell_type": "code",
   "execution_count": 13,
   "id": "f0b9fb5f",
   "metadata": {
    "ExecuteTime": {
     "end_time": "2022-09-19T02:36:41.799571Z",
     "start_time": "2022-09-19T02:36:41.676Z"
    }
   },
   "outputs": [
    {
     "data": {
      "text/plain": [
       "[5, 7, 11]"
      ]
     },
     "execution_count": 13,
     "metadata": {},
     "output_type": "execute_result"
    }
   ],
   "source": [
    "L[-3:]"
   ]
  },
  {
   "cell_type": "markdown",
   "id": "a1297a32",
   "metadata": {
    "slideshow": {
     "slide_type": "slide"
    }
   },
   "source": [
    "Finally, it is possible to specify a third integer that represents the step size; for example, to select every second element of the list, we can write:"
   ]
  },
  {
   "cell_type": "code",
   "execution_count": 28,
   "id": "264b38e4",
   "metadata": {
    "ExecuteTime": {
     "end_time": "2022-09-19T02:36:41.801567Z",
     "start_time": "2022-09-19T02:36:41.679Z"
    }
   },
   "outputs": [
    {
     "data": {
      "text/plain": [
       "[5, 7]"
      ]
     },
     "execution_count": 28,
     "metadata": {},
     "output_type": "execute_result"
    }
   ],
   "source": [
    "L = [2, 3, 5, 7, 11]\n",
    "L[2:4:1]  # equivalent to L[0:len(L):2]"
   ]
  },
  {
   "cell_type": "markdown",
   "id": "028748af",
   "metadata": {
    "slideshow": {
     "slide_type": "slide"
    }
   },
   "source": [
    "A particularly useful version of this is to specify a **negative step**, which will reverse the array:"
   ]
  },
  {
   "cell_type": "code",
   "execution_count": 30,
   "id": "19053072",
   "metadata": {
    "ExecuteTime": {
     "end_time": "2022-09-19T02:36:41.802569Z",
     "start_time": "2022-09-19T02:36:41.682Z"
    }
   },
   "outputs": [
    {
     "data": {
      "text/plain": [
       "[11, 7, 5, 3, 2]"
      ]
     },
     "execution_count": 30,
     "metadata": {},
     "output_type": "execute_result"
    }
   ],
   "source": [
    "L = [2, 3, 5, 7, 11]\n",
    "L[::-1]"
   ]
  },
  {
   "cell_type": "markdown",
   "id": "dad8ccc9",
   "metadata": {
    "slideshow": {
     "slide_type": "slide"
    }
   },
   "source": [
    "Both indexing and slicing can be used to set elements as well as access them.\n",
    "The syntax is as you would expect:"
   ]
  },
  {
   "cell_type": "code",
   "execution_count": 15,
   "id": "cdd3c8a5",
   "metadata": {
    "ExecuteTime": {
     "end_time": "2022-09-19T02:36:41.803569Z",
     "start_time": "2022-09-19T02:36:41.685Z"
    }
   },
   "outputs": [
    {
     "name": "stdout",
     "output_type": "stream",
     "text": [
      "[100, 3, 5, 7, 11]\n"
     ]
    }
   ],
   "source": [
    "L[0] = 100\n",
    "print(L)"
   ]
  },
  {
   "cell_type": "code",
   "execution_count": 17,
   "id": "cbea3fd1",
   "metadata": {
    "ExecuteTime": {
     "end_time": "2022-09-19T02:36:41.805571Z",
     "start_time": "2022-09-19T02:36:41.688Z"
    }
   },
   "outputs": [
    {
     "name": "stdout",
     "output_type": "stream",
     "text": [
      "[100, [55, 56], 5, 7, 11]\n"
     ]
    }
   ],
   "source": [
    "#L[1:2] = [55, 56]\n",
    "L[1] = [55, 56]\n",
    "print(L)"
   ]
  },
  {
   "cell_type": "markdown",
   "id": "8e8541f6",
   "metadata": {
    "slideshow": {
     "slide_type": "slide"
    }
   },
   "source": [
    "A very similar slicing syntax is also used in many data science-oriented Python packages, including NumPy and Pandas.\n"
   ]
  },
  {
   "cell_type": "markdown",
   "id": "5ef63bbf",
   "metadata": {
    "slideshow": {
     "slide_type": "slide"
    }
   },
   "source": [
    "## Tuples\n",
    "Tuples are in many ways similar to lists, but they are defined with parentheses rather than square brackets:"
   ]
  },
  {
   "cell_type": "code",
   "execution_count": null,
   "id": "70d8bc8c",
   "metadata": {
    "ExecuteTime": {
     "end_time": "2022-09-19T02:36:41.806570Z",
     "start_time": "2022-09-19T02:36:41.691Z"
    }
   },
   "outputs": [],
   "source": [
    "t = (1, 2, 3)"
   ]
  },
  {
   "cell_type": "markdown",
   "id": "d74696f6",
   "metadata": {
    "slideshow": {
     "slide_type": "slide"
    }
   },
   "source": [
    "They can actually also be defined without any brackets at all:"
   ]
  },
  {
   "cell_type": "code",
   "execution_count": 29,
   "id": "45df3095",
   "metadata": {
    "ExecuteTime": {
     "end_time": "2022-09-19T02:36:41.808569Z",
     "start_time": "2022-09-19T02:36:41.694Z"
    }
   },
   "outputs": [
    {
     "name": "stdout",
     "output_type": "stream",
     "text": [
      "(1, 2, 3)\n"
     ]
    }
   ],
   "source": [
    "t = 1, 2, 3\n",
    "print(t)"
   ]
  },
  {
   "cell_type": "markdown",
   "id": "e277ecb3",
   "metadata": {
    "slideshow": {
     "slide_type": "slide"
    }
   },
   "source": [
    "Like the lists discussed before, tuples have a length, and individual elements can be extracted using square-bracket indexing:"
   ]
  },
  {
   "cell_type": "code",
   "execution_count": 32,
   "id": "fad1fbcb",
   "metadata": {
    "ExecuteTime": {
     "end_time": "2022-09-19T02:36:41.809570Z",
     "start_time": "2022-09-19T02:36:41.697Z"
    }
   },
   "outputs": [
    {
     "data": {
      "text/plain": [
       "3"
      ]
     },
     "execution_count": 32,
     "metadata": {},
     "output_type": "execute_result"
    }
   ],
   "source": [
    "len(t)"
   ]
  },
  {
   "cell_type": "code",
   "execution_count": 31,
   "id": "b30637cb",
   "metadata": {
    "ExecuteTime": {
     "end_time": "2022-09-19T02:36:41.811570Z",
     "start_time": "2022-09-19T02:36:41.700Z"
    }
   },
   "outputs": [
    {
     "data": {
      "text/plain": [
       "1"
      ]
     },
     "execution_count": 31,
     "metadata": {},
     "output_type": "execute_result"
    }
   ],
   "source": [
    "t[0]"
   ]
  },
  {
   "cell_type": "markdown",
   "id": "9be811b4",
   "metadata": {
    "slideshow": {
     "slide_type": "slide"
    }
   },
   "source": [
    "The main distinguishing feature of tuples is that they are **immutable**: this means that once they are created, their size and contents cannot be changed:"
   ]
  },
  {
   "cell_type": "code",
   "execution_count": 33,
   "id": "874580d6",
   "metadata": {
    "ExecuteTime": {
     "end_time": "2022-09-19T02:36:41.812566Z",
     "start_time": "2022-09-19T02:36:41.703Z"
    }
   },
   "outputs": [
    {
     "ename": "TypeError",
     "evalue": "'tuple' object does not support item assignment",
     "output_type": "error",
     "traceback": [
      "\u001b[1;31m---------------------------------------------------------------------------\u001b[0m",
      "\u001b[1;31mTypeError\u001b[0m                                 Traceback (most recent call last)",
      "Input \u001b[1;32mIn [33]\u001b[0m, in \u001b[0;36m<cell line: 1>\u001b[1;34m()\u001b[0m\n\u001b[1;32m----> 1\u001b[0m t[\u001b[38;5;241m1\u001b[39m] \u001b[38;5;241m=\u001b[39m \u001b[38;5;241m4\u001b[39m\n",
      "\u001b[1;31mTypeError\u001b[0m: 'tuple' object does not support item assignment"
     ]
    }
   ],
   "source": [
    "t[1] = 4"
   ]
  },
  {
   "cell_type": "code",
   "execution_count": 34,
   "id": "33eea1d7",
   "metadata": {
    "ExecuteTime": {
     "end_time": "2022-09-19T02:36:41.813574Z",
     "start_time": "2022-09-19T02:36:41.706Z"
    }
   },
   "outputs": [
    {
     "ename": "AttributeError",
     "evalue": "'tuple' object has no attribute 'append'",
     "output_type": "error",
     "traceback": [
      "\u001b[1;31m---------------------------------------------------------------------------\u001b[0m",
      "\u001b[1;31mAttributeError\u001b[0m                            Traceback (most recent call last)",
      "Input \u001b[1;32mIn [34]\u001b[0m, in \u001b[0;36m<cell line: 1>\u001b[1;34m()\u001b[0m\n\u001b[1;32m----> 1\u001b[0m \u001b[43mt\u001b[49m\u001b[38;5;241;43m.\u001b[39;49m\u001b[43mappend\u001b[49m(\u001b[38;5;241m4\u001b[39m)\n",
      "\u001b[1;31mAttributeError\u001b[0m: 'tuple' object has no attribute 'append'"
     ]
    }
   ],
   "source": [
    "t.append(4)"
   ]
  },
  {
   "cell_type": "markdown",
   "id": "0418c9f7",
   "metadata": {
    "slideshow": {
     "slide_type": "slide"
    }
   },
   "source": [
    "Tuples are often used in a Python program; a particularly common case is in functions that have multiple return values.\n",
    "For example, the ``as_integer_ratio()`` method of floating-point objects returns a numerator and a denominator; this dual return value comes in the form of a tuple:"
   ]
  },
  {
   "cell_type": "code",
   "execution_count": 35,
   "id": "72f81ce6",
   "metadata": {
    "ExecuteTime": {
     "end_time": "2022-09-19T02:36:41.814570Z",
     "start_time": "2022-09-19T02:36:41.709Z"
    }
   },
   "outputs": [
    {
     "data": {
      "text/plain": [
       "(1, 8)"
      ]
     },
     "execution_count": 35,
     "metadata": {},
     "output_type": "execute_result"
    }
   ],
   "source": [
    "x = 0.125\n",
    "x.as_integer_ratio()"
   ]
  },
  {
   "cell_type": "markdown",
   "id": "af72f12b",
   "metadata": {
    "slideshow": {
     "slide_type": "slide"
    }
   },
   "source": [
    "These multiple return values can be individually assigned as follows:"
   ]
  },
  {
   "cell_type": "code",
   "execution_count": 36,
   "id": "6274a6a4",
   "metadata": {
    "ExecuteTime": {
     "end_time": "2022-09-19T02:36:41.816569Z",
     "start_time": "2022-09-19T02:36:41.712Z"
    }
   },
   "outputs": [
    {
     "name": "stdout",
     "output_type": "stream",
     "text": [
      "0.125\n"
     ]
    }
   ],
   "source": [
    "numerator, denominator = x.as_integer_ratio()\n",
    "print(numerator / denominator)"
   ]
  },
  {
   "cell_type": "markdown",
   "id": "f56df333",
   "metadata": {
    "slideshow": {
     "slide_type": "slide"
    }
   },
   "source": [
    "The indexing and slicing logic covered earlier for lists works for tuples as well, along with a host of other methods.\n",
    "Refer to the online [Python documentation](https://docs.python.org/3/tutorial/datastructures.html) for a more complete list of these."
   ]
  },
  {
   "cell_type": "markdown",
   "id": "48c24f73",
   "metadata": {
    "slideshow": {
     "slide_type": "slide"
    }
   },
   "source": [
    "## Dictionaries\n",
    "Dictionaries, sometimes called hashes or associative arrays in other languages, are extremely flexible mappings of keys to values. Dictionaries are one of the **most powerful** and effective aspects of Python! Mastering Python includes mastering dictionaries.\n",
    "\n",
    "They can be created via a comma-separated list of ``key:value`` pairs within curly braces:"
   ]
  },
  {
   "cell_type": "code",
   "execution_count": 41,
   "id": "e75cf175",
   "metadata": {
    "ExecuteTime": {
     "end_time": "2022-09-19T02:36:41.817570Z",
     "start_time": "2022-09-19T02:36:41.716Z"
    }
   },
   "outputs": [],
   "source": [
    "numbers = {'one':1, 'two':2, 'three':3}"
   ]
  },
  {
   "cell_type": "markdown",
   "id": "7c8dfbf1",
   "metadata": {
    "slideshow": {
     "slide_type": "slide"
    }
   },
   "source": [
    "Items are accessed and set via the indexing syntax used for lists and tuples, except here the index is not a zero-based integer value but a valid key in the dictionary:"
   ]
  },
  {
   "cell_type": "code",
   "execution_count": 40,
   "id": "749cdbf1",
   "metadata": {
    "ExecuteTime": {
     "end_time": "2022-09-19T02:36:41.818570Z",
     "start_time": "2022-09-19T02:36:41.719Z"
    }
   },
   "outputs": [
    {
     "data": {
      "text/plain": [
       "2"
      ]
     },
     "execution_count": 40,
     "metadata": {},
     "output_type": "execute_result"
    }
   ],
   "source": [
    "# Access a value via the key\n",
    "numbers['two']"
   ]
  },
  {
   "cell_type": "markdown",
   "id": "f53cfeff",
   "metadata": {
    "slideshow": {
     "slide_type": "slide"
    }
   },
   "source": [
    "New items can be added to the dictionary using indexing as well:"
   ]
  },
  {
   "cell_type": "code",
   "execution_count": 42,
   "id": "a2d84243",
   "metadata": {
    "ExecuteTime": {
     "end_time": "2022-09-19T02:36:41.819569Z",
     "start_time": "2022-09-19T02:36:41.722Z"
    }
   },
   "outputs": [
    {
     "name": "stdout",
     "output_type": "stream",
     "text": [
      "{'one': 1, 'two': 2, 'three': 3, 'ninety': 90}\n"
     ]
    }
   ],
   "source": [
    "# Set a new key:value pair\n",
    "numbers['ninety'] = 90\n",
    "print(numbers)"
   ]
  },
  {
   "cell_type": "markdown",
   "id": "4f8634e8",
   "metadata": {
    "slideshow": {
     "slide_type": "slide"
    }
   },
   "source": [
    "Keep in mind that <span style='color:red;'>dictionaries do not maintain any sense of order</span> for the input parameters; this is by design.\n",
    "This lack of ordering allows dictionaries to be implemented very efficiently, so that random element access is very fast, regardless of the size of the dictionary (if you're curious how this works, read about the concept of a *hash table*).\n",
    "\n",
    "Despite being unordered, **looping** over a dictionary is very possible and pragmatic, as long as you realize you can only expect the keys and values to be paired properly, but not ordered!"
   ]
  },
  {
   "cell_type": "code",
   "execution_count": 39,
   "id": "910ab5af",
   "metadata": {
    "ExecuteTime": {
     "end_time": "2022-09-19T02:36:41.821570Z",
     "start_time": "2022-09-19T02:36:41.725Z"
    },
    "slideshow": {
     "slide_type": "slide"
    }
   },
   "outputs": [
    {
     "name": "stdout",
     "output_type": "stream",
     "text": [
      "one --> 1\n",
      "two --> 2\n",
      "three --> 3\n",
      "---\n",
      "one maps to 1\n",
      "two maps to 2\n",
      "three maps to 3\n"
     ]
    }
   ],
   "source": [
    "for key in numbers:\n",
    "    print(key, \"-->\", numbers[key])\n",
    "\n",
    "print(\"---\")\n",
    "\n",
    "for key, value in numbers.items(): # .items is a handy method\n",
    "    print(key, \"maps to\", value)"
   ]
  },
  {
   "cell_type": "markdown",
   "id": "c12811bb",
   "metadata": {
    "slideshow": {
     "slide_type": "-"
    }
   },
   "source": [
    "The [Python documentation](https://docs.python.org/3/library/stdtypes.html) has a complete list of the methods available for dictionaries."
   ]
  },
  {
   "cell_type": "markdown",
   "id": "1efbe44c",
   "metadata": {
    "slideshow": {
     "slide_type": "slide"
    }
   },
   "source": [
    "## Sets\n",
    "\n",
    "The fourth basic collection is the set, which contains unordered collections of unique items.\n",
    "They are defined much like lists and tuples, except they use the curly brackets of dictionaries:"
   ]
  },
  {
   "cell_type": "code",
   "execution_count": null,
   "id": "cbcb0bdd",
   "metadata": {
    "ExecuteTime": {
     "end_time": "2022-09-19T02:36:41.822566Z",
     "start_time": "2022-09-19T02:36:41.728Z"
    },
    "slideshow": {
     "slide_type": "slide"
    }
   },
   "outputs": [],
   "source": [
    "primes = {2, 3, 5, 7}\n",
    "odds = {1, 3, 5, 7, 9}"
   ]
  },
  {
   "cell_type": "markdown",
   "id": "cfafb104",
   "metadata": {
    "slideshow": {
     "slide_type": "slide"
    }
   },
   "source": [
    "If you're familiar with the mathematics of sets, you'll be familiar with operations like the union, intersection, difference, symmetric difference, and others.\n",
    "Python's sets have all of these operations built-in, via methods or operators.\n",
    "For each, we'll show the two equivalent methods:"
   ]
  },
  {
   "cell_type": "code",
   "execution_count": null,
   "id": "33da6512",
   "metadata": {
    "ExecuteTime": {
     "end_time": "2022-09-19T02:36:41.823570Z",
     "start_time": "2022-09-19T02:36:41.731Z"
    }
   },
   "outputs": [],
   "source": [
    "# union: items appearing in either\n",
    "primes | odds      # with an operator\n",
    "primes.union(odds) # equivalently with a method"
   ]
  },
  {
   "cell_type": "code",
   "execution_count": null,
   "id": "ca7f218d",
   "metadata": {
    "ExecuteTime": {
     "end_time": "2022-09-19T02:36:41.824570Z",
     "start_time": "2022-09-19T02:36:41.734Z"
    },
    "slideshow": {
     "slide_type": "slide"
    }
   },
   "outputs": [],
   "source": [
    "# intersection: items appearing in both\n",
    "primes & odds             # with an operator\n",
    "primes.intersection(odds) # equivalently with a method"
   ]
  },
  {
   "cell_type": "code",
   "execution_count": null,
   "id": "c87f021e",
   "metadata": {
    "ExecuteTime": {
     "end_time": "2022-09-19T02:36:41.826570Z",
     "start_time": "2022-09-19T02:36:41.736Z"
    },
    "slideshow": {
     "slide_type": "slide"
    }
   },
   "outputs": [],
   "source": [
    "# difference: items in primes but not in odds\n",
    "primes - odds           # with an operator\n",
    "primes.difference(odds) # equivalently with a method"
   ]
  },
  {
   "cell_type": "code",
   "execution_count": null,
   "id": "1917f3d1",
   "metadata": {
    "ExecuteTime": {
     "end_time": "2022-09-19T02:36:41.827575Z",
     "start_time": "2022-09-19T02:36:41.739Z"
    },
    "slideshow": {
     "slide_type": "slide"
    }
   },
   "outputs": [],
   "source": [
    "# symmetric difference: items appearing in only one set\n",
    "primes ^ odds                     # with an operator\n",
    "primes.symmetric_difference(odds) # equivalently with a method"
   ]
  },
  {
   "cell_type": "markdown",
   "id": "d48c6f46",
   "metadata": {
    "slideshow": {
     "slide_type": "slide"
    }
   },
   "source": [
    "Many more set methods and operations are available.\n",
    "Refer to Python's [online documentation](https://docs.python.org/3/library/stdtypes.html) for a complete reference."
   ]
  },
  {
   "cell_type": "markdown",
   "id": "8f59cabd",
   "metadata": {
    "slideshow": {
     "slide_type": "slide"
    }
   },
   "source": [
    "# String Manipulation"
   ]
  },
  {
   "cell_type": "markdown",
   "id": "5857f91f",
   "metadata": {
    "slideshow": {
     "slide_type": "slide"
    }
   },
   "source": [
    "One place where the Python language really shines is in the manipulation of strings.\n",
    "This section will cover some of Python's built-in string methods and formatting operations. Formatting and manipulating strings is one of the most common tasks a data scientist performs.\n",
    "\n",
    "Strings in Python can be defined using either single or double quotations (they are functionally equivalent):"
   ]
  },
  {
   "cell_type": "code",
   "execution_count": null,
   "id": "e46bb8e4",
   "metadata": {
    "ExecuteTime": {
     "end_time": "2022-09-19T02:36:41.948570Z",
     "start_time": "2022-09-19T02:36:41.934570Z"
    }
   },
   "outputs": [],
   "source": [
    "x = 'a string'\n",
    "y = \"a string\"\n",
    "x == y\n",
    "#x is y"
   ]
  },
  {
   "cell_type": "markdown",
   "id": "64fdbe1e",
   "metadata": {
    "slideshow": {
     "slide_type": "slide"
    }
   },
   "source": [
    "In addition, it is possible to define multi-line strings using a triple-quote syntax:"
   ]
  },
  {
   "cell_type": "code",
   "execution_count": null,
   "id": "84db52ad",
   "metadata": {
    "ExecuteTime": {
     "end_time": "2022-09-19T02:36:41.964570Z",
     "start_time": "2022-09-19T02:36:41.953569Z"
    }
   },
   "outputs": [],
   "source": [
    "multiline = \"\"\"\n",
    "one\n",
    "\\t\\ttwo\n",
    "three\n",
    "\"\"\"\n",
    "print(multiline)\n",
    "#multiline"
   ]
  },
  {
   "cell_type": "markdown",
   "id": "1ff60da1",
   "metadata": {
    "slideshow": {
     "slide_type": "slide"
    }
   },
   "source": [
    "Since quotes are used to mark the beginning and ending of strings, if you wish to use those characters inside a string you need to \"escape\" them with a backslash (`\\`). This tells Python not to interpret these quotes as the end of the string."
   ]
  },
  {
   "cell_type": "code",
   "execution_count": null,
   "id": "9ef7cd33",
   "metadata": {
    "ExecuteTime": {
     "end_time": "2022-09-19T02:36:41.980570Z",
     "start_time": "2022-09-19T02:36:41.968569Z"
    }
   },
   "outputs": [],
   "source": [
    "print(\"Jon said', \\\"Hello World\\\".\")\n",
    "print('Andrea replied, \"That\\'s nice!\"')"
   ]
  },
  {
   "cell_type": "markdown",
   "id": "39b647bd",
   "metadata": {
    "slideshow": {
     "slide_type": "slide"
    }
   },
   "source": [
    "## Simple String Manipulation in Python\n",
    "\n",
    "For basic manipulation of strings, Python's built-in string methods can be extremely convenient.\n",
    "\n",
    "We introduced Python's string type and a few of these methods earlier; here we'll dive a bit deeper"
   ]
  },
  {
   "cell_type": "markdown",
   "id": "8e98bd33",
   "metadata": {
    "slideshow": {
     "slide_type": "slide"
    }
   },
   "source": [
    "### Formatting strings: Adjusting case\n",
    "\n",
    "Python makes it quite easy to adjust the case of a string.\n",
    "Here we'll look at the ``upper()``, ``lower()``, ``capitalize()``, ``title()``, and ``swapcase()`` methods, using the following messy string as an example:"
   ]
  },
  {
   "cell_type": "code",
   "execution_count": null,
   "id": "a06781e6",
   "metadata": {
    "ExecuteTime": {
     "end_time": "2022-09-19T02:36:41.996567Z",
     "start_time": "2022-09-19T02:36:41.983571Z"
    }
   },
   "outputs": [],
   "source": [
    "fox = \"tHe qUICk bROWn fOx.\""
   ]
  },
  {
   "cell_type": "markdown",
   "id": "d6f8e1f4",
   "metadata": {
    "slideshow": {
     "slide_type": "slide"
    }
   },
   "source": [
    "To convert the entire string into upper-case or lower-case, you can use the ``upper()`` or ``lower()`` methods respectively:"
   ]
  },
  {
   "cell_type": "code",
   "execution_count": 8,
   "id": "8bf05189",
   "metadata": {
    "ExecuteTime": {
     "end_time": "2022-09-19T02:36:42.012570Z",
     "start_time": "2022-09-19T02:36:41.999570Z"
    }
   },
   "outputs": [
    {
     "data": {
      "text/plain": [
       "'THE QUICK BROWN FOX.'"
      ]
     },
     "execution_count": 8,
     "metadata": {},
     "output_type": "execute_result"
    }
   ],
   "source": [
    "fox = \"tHe qUICk bROWn fOx.\"\n",
    "fox.upper()"
   ]
  },
  {
   "cell_type": "code",
   "execution_count": 9,
   "id": "3e71cf50",
   "metadata": {
    "ExecuteTime": {
     "end_time": "2022-09-19T02:36:42.028577Z",
     "start_time": "2022-09-19T02:36:42.015572Z"
    }
   },
   "outputs": [
    {
     "data": {
      "text/plain": [
       "'the quick brown fox.'"
      ]
     },
     "execution_count": 9,
     "metadata": {},
     "output_type": "execute_result"
    }
   ],
   "source": [
    "fox = \"tHe qUICk bROWn fOx.\"\n",
    "fox.lower()"
   ]
  },
  {
   "cell_type": "markdown",
   "id": "2e35ce14",
   "metadata": {
    "slideshow": {
     "slide_type": "slide"
    }
   },
   "source": [
    "A common formatting need is to capitalize just the first letter of each word, or perhaps the first letter of each sentence.\n",
    "This can be done with the ``title()`` and ``capitalize()`` methods:"
   ]
  },
  {
   "cell_type": "code",
   "execution_count": 5,
   "id": "a5fa0980",
   "metadata": {
    "ExecuteTime": {
     "end_time": "2022-09-19T02:36:42.044572Z",
     "start_time": "2022-09-19T02:36:42.031571Z"
    }
   },
   "outputs": [
    {
     "data": {
      "text/plain": [
       "'The Quick Brown Fox.'"
      ]
     },
     "execution_count": 5,
     "metadata": {},
     "output_type": "execute_result"
    }
   ],
   "source": [
    "fox = \"tHe qUICk bROWn fOx.\"\n",
    "fox.title()"
   ]
  },
  {
   "cell_type": "code",
   "execution_count": 6,
   "id": "6e0328ca",
   "metadata": {
    "ExecuteTime": {
     "end_time": "2022-09-19T02:36:42.060567Z",
     "start_time": "2022-09-19T02:36:42.046569Z"
    }
   },
   "outputs": [
    {
     "data": {
      "text/plain": [
       "'The quick brown fox.'"
      ]
     },
     "execution_count": 6,
     "metadata": {},
     "output_type": "execute_result"
    }
   ],
   "source": [
    "fox = \"tHe qUICk bROWn fOx.\"\n",
    "fox.capitalize()"
   ]
  },
  {
   "cell_type": "markdown",
   "id": "5f5a158e",
   "metadata": {},
   "source": [
    "The cases can be swapped using the ``swapcase()`` method:"
   ]
  },
  {
   "cell_type": "code",
   "execution_count": 7,
   "id": "38ace0bf",
   "metadata": {
    "ExecuteTime": {
     "end_time": "2022-09-19T02:36:42.076566Z",
     "start_time": "2022-09-19T02:36:42.062571Z"
    }
   },
   "outputs": [
    {
     "data": {
      "text/plain": [
       "'ThE QuicK BrowN FoX.'"
      ]
     },
     "execution_count": 7,
     "metadata": {},
     "output_type": "execute_result"
    }
   ],
   "source": [
    "fox = \"tHe qUICk bROWn fOx.\"\n",
    "fox.swapcase()"
   ]
  },
  {
   "cell_type": "markdown",
   "id": "f208e109",
   "metadata": {
    "slideshow": {
     "slide_type": "slide"
    }
   },
   "source": [
    "### Formatting strings: Adding and removing spaces\n",
    "\n",
    "Another common need is to remove spaces (or other characters) from the beginning or end of the string.\n",
    "The basic method of removing characters is the ``strip()`` method, which strips whitespace from the beginning and end of the line:"
   ]
  },
  {
   "cell_type": "code",
   "execution_count": 25,
   "id": "e3146a78",
   "metadata": {
    "ExecuteTime": {
     "end_time": "2022-09-19T02:36:42.091569Z",
     "start_time": "2022-09-19T02:36:42.078570Z"
    }
   },
   "outputs": [
    {
     "data": {
      "text/plain": [
       "'         this is the content         '"
      ]
     },
     "execution_count": 25,
     "metadata": {},
     "output_type": "execute_result"
    }
   ],
   "source": [
    "line = '         this is the content         '\n",
    "line.strip()\n",
    "line.strip('0')\n"
   ]
  },
  {
   "cell_type": "markdown",
   "id": "c930b5dd",
   "metadata": {
    "slideshow": {
     "slide_type": "slide"
    }
   },
   "source": [
    "To remove just space to the right or left, use ``rstrip()`` or ``lstrip()`` respectively:"
   ]
  },
  {
   "cell_type": "code",
   "execution_count": 26,
   "id": "ed87c007",
   "metadata": {
    "ExecuteTime": {
     "end_time": "2022-09-19T02:36:42.107573Z",
     "start_time": "2022-09-19T02:36:42.096570Z"
    }
   },
   "outputs": [
    {
     "data": {
      "text/plain": [
       "'         this is the content'"
      ]
     },
     "execution_count": 26,
     "metadata": {},
     "output_type": "execute_result"
    }
   ],
   "source": [
    "line.rstrip()"
   ]
  },
  {
   "cell_type": "code",
   "execution_count": 27,
   "id": "8dbac0b8",
   "metadata": {
    "ExecuteTime": {
     "end_time": "2022-09-19T02:36:42.122573Z",
     "start_time": "2022-09-19T02:36:42.112571Z"
    }
   },
   "outputs": [
    {
     "data": {
      "text/plain": [
       "'this is the content         '"
      ]
     },
     "execution_count": 27,
     "metadata": {},
     "output_type": "execute_result"
    }
   ],
   "source": [
    "line.lstrip()"
   ]
  },
  {
   "cell_type": "markdown",
   "id": "d4d93d3e",
   "metadata": {
    "slideshow": {
     "slide_type": "slide"
    }
   },
   "source": [
    "To remove characters other than spaces, you can pass the desired character to the ``strip()`` method:"
   ]
  },
  {
   "cell_type": "code",
   "execution_count": 30,
   "id": "5eec3589",
   "metadata": {
    "ExecuteTime": {
     "end_time": "2022-09-19T02:36:42.138569Z",
     "start_time": "2022-09-19T02:36:42.126570Z"
    }
   },
   "outputs": [
    {
     "data": {
      "text/plain": [
       "'435'"
      ]
     },
     "execution_count": 30,
     "metadata": {},
     "output_type": "execute_result"
    }
   ],
   "source": [
    "num = \"000000000000435000\"\n",
    "num.strip('0')"
   ]
  },
  {
   "cell_type": "markdown",
   "id": "1e50f24c",
   "metadata": {
    "slideshow": {
     "slide_type": "slide"
    }
   },
   "source": [
    "The opposite of this operation, adding spaces or other characters, can be accomplished using the ``center()``, ``ljust()``, and ``rjust()`` methods.\n",
    "\n",
    "For example, we can use the ``center()`` method to center a given string within a given number of spaces:"
   ]
  },
  {
   "cell_type": "code",
   "execution_count": 32,
   "id": "96f56373",
   "metadata": {
    "ExecuteTime": {
     "end_time": "2022-09-19T02:36:42.154569Z",
     "start_time": "2022-09-19T02:36:42.141569Z"
    }
   },
   "outputs": [
    {
     "data": {
      "text/plain": [
       "'                         this is the content                          '"
      ]
     },
     "execution_count": 32,
     "metadata": {},
     "output_type": "execute_result"
    }
   ],
   "source": [
    "line = \"this is the content\"\n",
    "line.center(70)"
   ]
  },
  {
   "cell_type": "markdown",
   "id": "d7c2c3d1",
   "metadata": {
    "slideshow": {
     "slide_type": "slide"
    }
   },
   "source": [
    "Similarly, ``ljust()`` and ``rjust()`` will left-justify or right-justify the string within spaces of a given length:"
   ]
  },
  {
   "cell_type": "code",
   "execution_count": 33,
   "id": "8c99a3fc",
   "metadata": {
    "ExecuteTime": {
     "end_time": "2022-09-19T02:36:42.170569Z",
     "start_time": "2022-09-19T02:36:42.157570Z"
    }
   },
   "outputs": [
    {
     "data": {
      "text/plain": [
       "'this is the content           '"
      ]
     },
     "execution_count": 33,
     "metadata": {},
     "output_type": "execute_result"
    }
   ],
   "source": [
    "line.ljust(30)"
   ]
  },
  {
   "cell_type": "code",
   "execution_count": 34,
   "id": "21301420",
   "metadata": {
    "ExecuteTime": {
     "end_time": "2022-09-19T02:36:42.185570Z",
     "start_time": "2022-09-19T02:36:42.172571Z"
    }
   },
   "outputs": [
    {
     "data": {
      "text/plain": [
       "'           this is the content'"
      ]
     },
     "execution_count": 34,
     "metadata": {},
     "output_type": "execute_result"
    }
   ],
   "source": [
    "line.rjust(30)"
   ]
  },
  {
   "cell_type": "markdown",
   "id": "f48fafb1",
   "metadata": {},
   "source": [
    "All these methods additionally accept any character which will be used to fill the space.\n",
    "For example:"
   ]
  },
  {
   "cell_type": "code",
   "execution_count": 35,
   "id": "e937c836",
   "metadata": {
    "ExecuteTime": {
     "end_time": "2022-09-19T02:36:42.200571Z",
     "start_time": "2022-09-19T02:36:42.188571Z"
    }
   },
   "outputs": [
    {
     "data": {
      "text/plain": [
       "'\\n\\n\\n\\n\\n\\n\\n435'"
      ]
     },
     "execution_count": 35,
     "metadata": {},
     "output_type": "execute_result"
    }
   ],
   "source": [
    "'435'.rjust(10, '\\n')"
   ]
  },
  {
   "cell_type": "markdown",
   "id": "e8baae84",
   "metadata": {
    "slideshow": {
     "slide_type": "slide"
    }
   },
   "source": [
    "Because zero-filling is such a common need, Python also provides ``zfill()``, which is a special method to right-pad a string with zeros:"
   ]
  },
  {
   "cell_type": "code",
   "execution_count": 39,
   "id": "08def231",
   "metadata": {
    "ExecuteTime": {
     "end_time": "2022-09-19T02:36:42.216572Z",
     "start_time": "2022-09-19T02:36:42.206569Z"
    }
   },
   "outputs": [
    {
     "data": {
      "text/plain": [
       "'00435'"
      ]
     },
     "execution_count": 39,
     "metadata": {},
     "output_type": "execute_result"
    }
   ],
   "source": [
    "'435'.zfill(5)"
   ]
  },
  {
   "cell_type": "markdown",
   "id": "90056e67",
   "metadata": {
    "slideshow": {
     "slide_type": "slide"
    }
   },
   "source": [
    "### Finding and replacing substrings\n",
    "\n",
    "If you want to find occurrences of a certain character in a string, the ``find()``/``rfind()``, ``index()``/``rindex()``, and ``replace()`` methods are the best built-in methods.\n",
    "\n",
    "``find()`` and ``index()`` are very similar, in that they search for the first occurrence of a character or substring within a string, and return the index of the substring:"
   ]
  },
  {
   "cell_type": "code",
   "execution_count": 63,
   "id": "26f38fae",
   "metadata": {
    "ExecuteTime": {
     "end_time": "2022-09-19T02:36:42.231569Z",
     "start_time": "2022-09-19T02:36:42.222569Z"
    }
   },
   "outputs": [
    {
     "name": "stdout",
     "output_type": "stream",
     "text": [
      "16\n",
      "fox jumped over a lazy dog\n"
     ]
    },
    {
     "data": {
      "text/plain": [
       "25"
      ]
     },
     "execution_count": 63,
     "metadata": {},
     "output_type": "execute_result"
    }
   ],
   "source": [
    "line = 'the quick a brown fox jumped over a lazy dog'\n",
    "print(line.find('fox'))\n",
    "print(line[line.find('fox'):])\n",
    "len({x for x in line if \"a\"<=x<=\"z\" })\n"
   ]
  },
  {
   "cell_type": "code",
   "execution_count": 41,
   "id": "3d3a0bef",
   "metadata": {
    "ExecuteTime": {
     "end_time": "2022-09-19T02:36:42.246569Z",
     "start_time": "2022-09-19T02:36:42.235569Z"
    }
   },
   "outputs": [
    {
     "data": {
      "text/plain": [
       "16"
      ]
     },
     "execution_count": 41,
     "metadata": {},
     "output_type": "execute_result"
    }
   ],
   "source": [
    "line.index('fox')"
   ]
  },
  {
   "cell_type": "markdown",
   "id": "c5f7a78a",
   "metadata": {
    "slideshow": {
     "slide_type": "slide"
    }
   },
   "source": [
    "How many unique alphabet in line?"
   ]
  },
  {
   "cell_type": "markdown",
   "id": "1df3c960",
   "metadata": {
    "slideshow": {
     "slide_type": "slide"
    }
   },
   "source": [
    "The only difference between ``find()`` and ``index()`` is their behavior when the search string is not found; ``find()`` returns ``-1``, while ``index()`` raises a ``ValueError``:"
   ]
  },
  {
   "cell_type": "code",
   "execution_count": 43,
   "id": "b058c2f4",
   "metadata": {
    "ExecuteTime": {
     "end_time": "2022-09-19T02:36:42.262569Z",
     "start_time": "2022-09-19T02:36:42.248571Z"
    }
   },
   "outputs": [
    {
     "data": {
      "text/plain": [
       "-1"
      ]
     },
     "execution_count": 43,
     "metadata": {},
     "output_type": "execute_result"
    }
   ],
   "source": [
    "line.find('bear')"
   ]
  },
  {
   "cell_type": "code",
   "execution_count": 46,
   "id": "fba133a0",
   "metadata": {
    "ExecuteTime": {
     "end_time": "2022-09-19T02:36:42.564569Z",
     "start_time": "2022-09-19T02:36:42.264571Z"
    }
   },
   "outputs": [
    {
     "ename": "ValueError",
     "evalue": "substring not found",
     "output_type": "error",
     "traceback": [
      "\u001b[1;31m---------------------------------------------------------------------------\u001b[0m",
      "\u001b[1;31mValueError\u001b[0m                                Traceback (most recent call last)",
      "Input \u001b[1;32mIn [46]\u001b[0m, in \u001b[0;36m<cell line: 1>\u001b[1;34m()\u001b[0m\n\u001b[1;32m----> 1\u001b[0m \u001b[43mline\u001b[49m\u001b[38;5;241;43m.\u001b[39;49m\u001b[43mindex\u001b[49m\u001b[43m(\u001b[49m\u001b[38;5;124;43m'\u001b[39;49m\u001b[38;5;124;43mbear\u001b[39;49m\u001b[38;5;124;43m'\u001b[39;49m\u001b[43m)\u001b[49m\n",
      "\u001b[1;31mValueError\u001b[0m: substring not found"
     ]
    }
   ],
   "source": [
    "line.index('bear')"
   ]
  },
  {
   "cell_type": "markdown",
   "id": "59707666",
   "metadata": {
    "slideshow": {
     "slide_type": "slide"
    }
   },
   "source": [
    "The related ``rfind()`` and ``rindex()`` work similarly, except they search for the first occurrence from the end rather than the beginning of the string:"
   ]
  },
  {
   "cell_type": "code",
   "execution_count": 67,
   "id": "e4f46e28",
   "metadata": {
    "ExecuteTime": {
     "end_time": "2022-09-19T02:36:42.570572Z",
     "start_time": "2022-09-19T02:36:41.810Z"
    }
   },
   "outputs": [
    {
     "data": {
      "text/plain": [
       "1"
      ]
     },
     "execution_count": 67,
     "metadata": {},
     "output_type": "execute_result"
    }
   ],
   "source": [
    "line.rfind('h')    # 从左边开始查找"
   ]
  },
  {
   "cell_type": "markdown",
   "id": "f8e973dd",
   "metadata": {
    "slideshow": {
     "slide_type": "slide"
    }
   },
   "source": [
    "For the special case of checking for a substring at the beginning or end of a string, Python provides the ``startswith()`` and ``endswith()`` methods:"
   ]
  },
  {
   "cell_type": "code",
   "execution_count": 50,
   "id": "4b826590",
   "metadata": {
    "ExecuteTime": {
     "end_time": "2022-09-19T02:36:42.573571Z",
     "start_time": "2022-09-19T02:36:41.813Z"
    }
   },
   "outputs": [
    {
     "data": {
      "text/plain": [
       "True"
      ]
     },
     "execution_count": 50,
     "metadata": {},
     "output_type": "execute_result"
    }
   ],
   "source": [
    "line.endswith('dog')"
   ]
  },
  {
   "cell_type": "code",
   "execution_count": 51,
   "id": "88784b07",
   "metadata": {
    "ExecuteTime": {
     "end_time": "2022-09-19T02:36:42.576571Z",
     "start_time": "2022-09-19T02:36:41.816Z"
    }
   },
   "outputs": [
    {
     "data": {
      "text/plain": [
       "False"
      ]
     },
     "execution_count": 51,
     "metadata": {},
     "output_type": "execute_result"
    }
   ],
   "source": [
    "line.startswith('fox')"
   ]
  },
  {
   "cell_type": "markdown",
   "id": "caab6abb",
   "metadata": {
    "slideshow": {
     "slide_type": "slide"
    }
   },
   "source": [
    "To go one step further and replace a given substring with a new string, you can use the ``replace()`` method.\n",
    "Here, let's replace ``'brown'`` with ``'red'``:"
   ]
  },
  {
   "cell_type": "code",
   "execution_count": 74,
   "id": "45f5a489",
   "metadata": {
    "ExecuteTime": {
     "end_time": "2022-09-19T02:36:42.579569Z",
     "start_time": "2022-09-19T02:36:41.819Z"
    }
   },
   "outputs": [
    {
     "data": {
      "text/plain": [
       "'the quick red fox jumped over s lszy dog'"
      ]
     },
     "execution_count": 74,
     "metadata": {},
     "output_type": "execute_result"
    }
   ],
   "source": [
    "line.replace('brown', 'red').replace('a', 's')"
   ]
  },
  {
   "cell_type": "markdown",
   "id": "1aa42b3d",
   "metadata": {
    "slideshow": {
     "slide_type": "slide"
    }
   },
   "source": [
    "The ``replace()`` function returns a new string, and will replace all occurrences of the input:"
   ]
  },
  {
   "cell_type": "code",
   "execution_count": 53,
   "id": "dfc31d66",
   "metadata": {
    "ExecuteTime": {
     "end_time": "2022-09-19T02:36:42.582571Z",
     "start_time": "2022-09-19T02:36:41.822Z"
    }
   },
   "outputs": [
    {
     "data": {
      "text/plain": [
       "'the-quick-brown-fox-jumped-over-a-lazy-dog'"
      ]
     },
     "execution_count": 53,
     "metadata": {},
     "output_type": "execute_result"
    }
   ],
   "source": [
    "line.replace(' ', '-')     #将标点替换空格"
   ]
  },
  {
   "cell_type": "markdown",
   "id": "2c33eb6b",
   "metadata": {
    "slideshow": {
     "slide_type": "slide"
    }
   },
   "source": [
    " Splitting and partitioning strings\n",
    "\n",
    "If you would like to find a substring *and then* split the string based on its location, the ``partition()`` and/or ``split()`` methods are what you're looking for.\n",
    "Both will return a sequence of substrings.\n",
    "\n",
    "The ``partition()`` method returns a tuple with three elements: the substring before the first instance of the split-point, the split-point itself, and the substring after:"
   ]
  },
  {
   "cell_type": "code",
   "execution_count": 87,
   "id": "ca95f077",
   "metadata": {
    "ExecuteTime": {
     "end_time": "2022-09-19T02:36:42.583569Z",
     "start_time": "2022-09-19T02:36:41.825Z"
    }
   },
   "outputs": [
    {
     "data": {
      "text/plain": [
       "('the quick brown fox jumped over ', 'a', ' lazy dog')"
      ]
     },
     "execution_count": 87,
     "metadata": {},
     "output_type": "execute_result"
    }
   ],
   "source": [
    "line.partition('a')"
   ]
  },
  {
   "cell_type": "markdown",
   "id": "c4c2acc5",
   "metadata": {
    "slideshow": {
     "slide_type": "slide"
    }
   },
   "source": [
    "The ``rpartition()`` method is similar, but searches from the right of the string.\n",
    "\n",
    "The ``split()`` method is perhaps more useful; it finds *all* instances of the split-point and returns the substrings in between.\n",
    "The default is to split on any whitespace, returning a list of the individual words in a string:"
   ]
  },
  {
   "cell_type": "code",
   "execution_count": 94,
   "id": "abf43c3d",
   "metadata": {
    "ExecuteTime": {
     "end_time": "2022-09-19T02:36:42.585569Z",
     "start_time": "2022-09-19T02:36:41.828Z"
    },
    "slideshow": {
     "slide_type": "slide"
    }
   },
   "outputs": [
    {
     "data": {
      "text/plain": [
       "['abd', ',', 'ijio', 'o']"
      ]
     },
     "execution_count": 94,
     "metadata": {},
     "output_type": "execute_result"
    }
   ],
   "source": [
    "\"abd  ,  ijio o\".split()    # 自动去除空字符"
   ]
  },
  {
   "cell_type": "markdown",
   "id": "e58dac79",
   "metadata": {
    "slideshow": {
     "slide_type": "slide"
    }
   },
   "source": [
    "A related method is ``splitlines()``, which splits on newline characters.\n",
    "Let's do this with a Haiku, popularly attributed to the 17th-century poet Matsuo Bashō (松尾 芭蕉):"
   ]
  },
  {
   "cell_type": "code",
   "execution_count": null,
   "id": "a448b3bd",
   "metadata": {
    "ExecuteTime": {
     "end_time": "2022-09-19T02:36:42.586569Z",
     "start_time": "2022-09-19T02:36:41.831Z"
    }
   },
   "outputs": [],
   "source": [
    "haiku = \"\"\"matsushima-ya\n",
    "aah matsushima-ya\n",
    "matsushima-ya\"\"\"\n",
    "\n",
    "haiku.splitlines()"
   ]
  },
  {
   "cell_type": "markdown",
   "id": "38de2569",
   "metadata": {
    "slideshow": {
     "slide_type": "slide"
    }
   },
   "source": [
    "### Joining strings\n",
    "\n",
    "Note that if you would like to undo a ``split()``, you can use the ``join()`` method, which returns a string built from a splitpoint and an iterable:"
   ]
  },
  {
   "cell_type": "code",
   "execution_count": 95,
   "id": "cc338800",
   "metadata": {
    "ExecuteTime": {
     "end_time": "2022-09-19T02:36:42.588570Z",
     "start_time": "2022-09-19T02:36:41.834Z"
    }
   },
   "outputs": [
    {
     "data": {
      "text/plain": [
       "'1--2--3'"
      ]
     },
     "execution_count": 95,
     "metadata": {},
     "output_type": "execute_result"
    }
   ],
   "source": [
    "'--'.join(['1', '2', '3'])"
   ]
  },
  {
   "cell_type": "markdown",
   "id": "6f253192",
   "metadata": {
    "slideshow": {
     "slide_type": "slide"
    }
   },
   "source": [
    "A common pattern is to use the special character ``\"\\n\"`` (newline) to join together lines that have been previously split, and recover the input:"
   ]
  },
  {
   "cell_type": "code",
   "execution_count": 96,
   "id": "4833f543",
   "metadata": {
    "ExecuteTime": {
     "end_time": "2022-09-19T02:36:42.590570Z",
     "start_time": "2022-09-19T02:36:41.837Z"
    }
   },
   "outputs": [
    {
     "name": "stdout",
     "output_type": "stream",
     "text": [
      "matsushima-ya\n",
      "aah matsushima-ya\n",
      "matsushima-ya\n"
     ]
    }
   ],
   "source": [
    "print(\"\\n\".join(['matsushima-ya', 'aah matsushima-ya', 'matsushima-ya']))"
   ]
  },
  {
   "cell_type": "markdown",
   "id": "d83507a2",
   "metadata": {
    "slideshow": {
     "slide_type": "slide"
    }
   },
   "source": [
    "## Format Strings\n",
    "\n",
    "In the preceding methods, we have learned how to extract values from strings, and to manipulate strings themselves into desired formats.\n",
    "Another use of string methods is to manipulate string *representations* of values of other types.\n",
    "Of course, string representations can always be found using the ``str()`` function; for example:"
   ]
  },
  {
   "cell_type": "code",
   "execution_count": 97,
   "id": "33d847a5",
   "metadata": {
    "ExecuteTime": {
     "end_time": "2022-09-19T02:36:42.591570Z",
     "start_time": "2022-09-19T02:36:41.840Z"
    }
   },
   "outputs": [
    {
     "data": {
      "text/plain": [
       "'3.14159'"
      ]
     },
     "execution_count": 97,
     "metadata": {},
     "output_type": "execute_result"
    }
   ],
   "source": [
    "pi = 3.14159\n",
    "str(pi)"
   ]
  },
  {
   "cell_type": "code",
   "execution_count": 98,
   "id": "f0b4e0d1",
   "metadata": {
    "ExecuteTime": {
     "end_time": "2022-09-19T02:36:42.592570Z",
     "start_time": "2022-09-19T02:36:41.843Z"
    }
   },
   "outputs": [
    {
     "data": {
      "text/plain": [
       "'The value of pi is 3.14159'"
      ]
     },
     "execution_count": 98,
     "metadata": {},
     "output_type": "execute_result"
    }
   ],
   "source": [
    "\"The value of pi is \" + str(pi)"
   ]
  },
  {
   "cell_type": "markdown",
   "id": "002e138e",
   "metadata": {
    "slideshow": {
     "slide_type": "slide"
    }
   },
   "source": [
    "However, a more flexible way to do this is to use *format strings*, which are strings with special markers (noted by curly braces) into which string-formatted values will be inserted.\n",
    "Here is a basic example:"
   ]
  },
  {
   "cell_type": "code",
   "execution_count": 99,
   "id": "c4cba575",
   "metadata": {
    "ExecuteTime": {
     "end_time": "2022-09-19T02:36:42.594569Z",
     "start_time": "2022-09-19T02:36:41.846Z"
    }
   },
   "outputs": [
    {
     "data": {
      "text/plain": [
       "'The value of pi is 3.14159'"
      ]
     },
     "execution_count": 99,
     "metadata": {},
     "output_type": "execute_result"
    }
   ],
   "source": [
    "\"The value of pi is {}\".format(pi)"
   ]
  },
  {
   "cell_type": "markdown",
   "id": "fd886506",
   "metadata": {
    "slideshow": {
     "slide_type": "slide"
    }
   },
   "source": [
    "Inside the ``{}`` marker you can also include information on exactly *what* you would like to appear there.\n",
    "If you include a number, it will refer to the index of the argument to insert:"
   ]
  },
  {
   "cell_type": "code",
   "execution_count": 100,
   "id": "a3fc5a44",
   "metadata": {
    "ExecuteTime": {
     "end_time": "2022-09-19T02:36:42.595569Z",
     "start_time": "2022-09-19T02:36:41.849Z"
    }
   },
   "outputs": [
    {
     "data": {
      "text/plain": [
       "'First letter: Z. Last letter: A.'"
      ]
     },
     "execution_count": 100,
     "metadata": {},
     "output_type": "execute_result"
    }
   ],
   "source": [
    "\"First letter: {1}. Last letter: {0}.\".format('A', 'Z')"
   ]
  },
  {
   "cell_type": "markdown",
   "id": "aebbb713",
   "metadata": {
    "slideshow": {
     "slide_type": "slide"
    }
   },
   "source": [
    "If you include a string, it will refer to the key of any keyword argument:"
   ]
  },
  {
   "cell_type": "code",
   "execution_count": null,
   "id": "fdf86639",
   "metadata": {
    "ExecuteTime": {
     "end_time": "2022-09-19T02:36:42.596570Z",
     "start_time": "2022-09-19T02:36:41.852Z"
    }
   },
   "outputs": [],
   "source": [
    "\"\"\"First letter: {first}. Last letter: {last}.\"\"\".format(last='Z', first='A')"
   ]
  },
  {
   "cell_type": "markdown",
   "id": "c978ce5a",
   "metadata": {
    "slideshow": {
     "slide_type": "slide"
    }
   },
   "source": [
    "Finally, for numerical inputs, you can include format codes which control how the value is converted to a string.\n",
    "For example, to print a number as a floating point with three digits after the decimal point, you can use the following:"
   ]
  },
  {
   "cell_type": "code",
   "execution_count": 103,
   "id": "6e0bbf71",
   "metadata": {
    "ExecuteTime": {
     "end_time": "2022-09-19T02:36:42.598570Z",
     "start_time": "2022-09-19T02:36:41.856Z"
    },
    "slideshow": {
     "slide_type": "slide"
    }
   },
   "outputs": [
    {
     "data": {
      "text/plain": [
       "'pi = 3.142'"
      ]
     },
     "execution_count": 103,
     "metadata": {},
     "output_type": "execute_result"
    }
   ],
   "source": [
    "\"pi = {0:.3f}\".format(pi)"
   ]
  },
  {
   "cell_type": "markdown",
   "id": "c16fae85",
   "metadata": {},
   "source": [
    "As before, here the \"``0``\" refers to the index of the value to be inserted.\n",
    "The \"``:``\" marks that format codes will follow.\n",
    "The \"``.3f``\" encodes the desired precision: three digits beyond the decimal point, floating-point format.\n",
    "\n",
    "This style of format specification is very flexible, and the examples here barely scratch the surface of the formatting options available.\n",
    "For more information on the syntax of these format strings, see the [Format Specification](https://docs.python.org/3/library/string.html#formatspec) section of Python's online documentation."
   ]
  },
  {
   "cell_type": "code",
   "execution_count": 106,
   "id": "5b44bb3c",
   "metadata": {
    "ExecuteTime": {
     "end_time": "2022-09-19T02:36:42.599570Z",
     "start_time": "2022-09-19T02:36:41.859Z"
    },
    "slideshow": {
     "slide_type": "slide"
    }
   },
   "outputs": [
    {
     "name": "stdout",
     "output_type": "stream",
     "text": [
      "33.3333333333333285963817615993320941925049%\n"
     ]
    }
   ],
   "source": [
    "a_number = 1 / 3\n",
    "percentage = \"{:.40%}\".format(a_number)\n",
    "print(percentage)"
   ]
  },
  {
   "cell_type": "markdown",
   "id": "09731a02",
   "metadata": {
    "slideshow": {
     "slide_type": "slide"
    }
   },
   "source": [
    "## Special characters\n",
    "\n",
    "Above we saw a special character, the newline, represented in Python strings as `\\n`. While displayed in source code with two characters, `\\` and `n`, when paired they are interpreted as a single character representing what would be emitted when pressing the enter or return key."
   ]
  },
  {
   "cell_type": "code",
   "execution_count": 104,
   "id": "58003f7c",
   "metadata": {
    "ExecuteTime": {
     "end_time": "2022-09-19T02:36:42.601571Z",
     "start_time": "2022-09-19T02:36:41.861Z"
    },
    "slideshow": {
     "slide_type": "-"
    }
   },
   "outputs": [
    {
     "name": "stdout",
     "output_type": "stream",
     "text": [
      "1\n"
     ]
    }
   ],
   "source": [
    "print(len(\"\\n\"))"
   ]
  },
  {
   "cell_type": "markdown",
   "id": "3aa340a9",
   "metadata": {
    "slideshow": {
     "slide_type": "-"
    }
   },
   "source": [
    "Another special character often encountered is the tab (`\\t`)."
   ]
  }
 ],
 "metadata": {
  "celltoolbar": "幻灯片",
  "kernelspec": {
   "display_name": "Python 3 (ipykernel)",
   "language": "python",
   "name": "python3"
  },
  "language_info": {
   "codemirror_mode": {
    "name": "ipython",
    "version": 3
   },
   "file_extension": ".py",
   "mimetype": "text/x-python",
   "name": "python",
   "nbconvert_exporter": "python",
   "pygments_lexer": "ipython3",
   "version": "3.9.12"
  },
  "toc": {
   "base_numbering": 1,
   "nav_menu": {},
   "number_sections": true,
   "sideBar": true,
   "skip_h1_title": false,
   "title_cell": "Table of Contents",
   "title_sidebar": "Contents",
   "toc_cell": false,
   "toc_position": {
    "height": "calc(100% - 180px)",
    "left": "10px",
    "top": "150px",
    "width": "267.77px"
   },
   "toc_section_display": true,
   "toc_window_display": false
  }
 },
 "nbformat": 4,
 "nbformat_minor": 5
}
