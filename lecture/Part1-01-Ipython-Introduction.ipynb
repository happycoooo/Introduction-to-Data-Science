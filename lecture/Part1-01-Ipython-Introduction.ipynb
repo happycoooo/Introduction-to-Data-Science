{
 "cells": [
  {
   "cell_type": "markdown",
   "id": "994b0976",
   "metadata": {
    "slideshow": {
     "slide_type": "slide"
    }
   },
   "source": [
    "# Installation\n",
    "\n",
    "Conceived in the late 1980s as a teaching and scripting language, Python has since become an essential tool for many programmers, engineers, researchers, and data scientists across academia and industry.\n",
    "As computational and data-focused scientists, we have found Python to be a near-perfect fit for the types of problems we face, whether it's extracting meaning from large social network datasets, scraping and munging/wrangling data sources from the Web, or automating day-to-day research tasks.\n",
    "\n",
    "The appeal of Python is in its simplicity and beauty, as well as the convenience of the large ecosystem of domain-specific tools that have been built on top of it."
   ]
  },
  {
   "cell_type": "markdown",
   "id": "1955a3b4",
   "metadata": {
    "slideshow": {
     "slide_type": "slide"
    }
   },
   "source": [
    "For example, most of the Python code in scientific computing and data science is built around a group of mature and useful packages:\n",
    "\n",
    "- [NumPy](https://numpy.org) provides efficient storage and computation for multi-dimensional data arrays.\n",
    "- [SciPy](https://scipy.org) contains a wide array of numerical tools such as numerical integration and interpolation.\n",
    "- [Pandas](https://pandas.pydata.org) provides a DataFrame object along with a powerful set of methods to manipulate, filter, group, and transform data.\n",
    "- [Matplotlib](https://matplotlib.org) provides a useful interface for creation of publication-quality plots and figures.\n",
    "- [Scikit-Learn](https://scikit-learn.org) provides a uniform toolkit for applying common machine learning algorithms to data.\n",
    "- [IPython/Jupyter](https://jupyter.org) provides an enhanced terminal and an interactive notebook environment that is useful for exploratory analysis, as well as creation of interactive, executable documents. For example, the manuscript for this report was composed entirely in Jupyter notebooks."
   ]
  },
  {
   "cell_type": "markdown",
   "id": "d8f6bda3",
   "metadata": {
    "slideshow": {
     "slide_type": "slide"
    }
   },
   "source": [
    "## Installation and Practical Considerations\n",
    "\n",
    "Installing Python and the suite of libraries that enable scientific computing is straightforward whether you use Windows, Linux, or Mac OS X. This section will outline some of the considerations when setting up your computer.\n"
   ]
  },
  {
   "cell_type": "markdown",
   "id": "27f0cf7e",
   "metadata": {
    "slideshow": {
     "slide_type": "slide"
    }
   },
   "source": [
    "## Python 2 vs Python 3\n",
    "\n",
    "This report uses the syntax of Python 3, which contains language enhancements that are not compatible with the *2.x* series of Python.\n",
    "Though Python 3.0 was first released in 2008, adoption was relatively slow at first, particularly in the scientific and web development communities.\n",
    "This was primarily because it took some time for many of the essential packages and toolkits to be made compatible with the new language internals.\n",
    "Since early 2014, however, stable releases of the most important tools in the data science ecosystem have been fully-compatible with both Python 2 and 3, \n",
    "In fact, many major projects are now deprecating Python 2, and so this course will use Python 3 syntax.\n",
    "Even though that is the case, the vast majority of code snippets here will also work with little if any modification in Python 2."
   ]
  },
  {
   "cell_type": "markdown",
   "id": "dd85017a",
   "metadata": {
    "slideshow": {
     "slide_type": "slide"
    }
   },
   "source": [
    "## Installation with conda\n",
    "\n",
    "Though there are various ways to install Python, the one I would **strongly suggest** — particularly if you wish to eventually use the data science tools mentioned above – is via the cross-platform Anaconda distribution:\n",
    "\n",
    " - [Anaconda](https://www.anaconda.com/distribution/) gives you Python and the Python standard library, a command-line tool called ``conda`` which allows you to easily install many third-party packages and libraries, and additionally bundles a suite of other pre-installed third-party packages geared toward scientific computing.\n",
    "\n",
    "To get started, download and install the Anaconda package – make sure to choose a version with Python 3.7+, following our instruction. \n",
    "\n",
    "When finished, run the following script to ensure all packages for the course are available."
   ]
  },
  {
   "cell_type": "code",
   "execution_count": null,
   "id": "eeaaca7f",
   "metadata": {
    "ExecuteTime": {
     "end_time": "2022-09-13T09:49:39.167473Z",
     "start_time": "2022-09-13T09:49:35.201403Z"
    },
    "slideshow": {
     "slide_type": "slide"
    }
   },
   "outputs": [],
   "source": [
    "import scipy\n",
    "import numpy as np\n",
    "import pandas as pd\n",
    "import networkx as nx\n",
    "import matplotlib.pyplot as plt\n",
    "#import seaborn as sns\n",
    "%matplotlib inline"
   ]
  },
  {
   "cell_type": "markdown",
   "id": "83a0523d",
   "metadata": {
    "slideshow": {
     "slide_type": "slide"
    }
   },
   "source": [
    "# Launching"
   ]
  },
  {
   "cell_type": "markdown",
   "id": "26c05320",
   "metadata": {
    "slideshow": {
     "slide_type": "slide"
    }
   },
   "source": [
    "## Launching the IPython Shell\n",
    "\n",
    "Start by launching the IPython interpreter by typing **``ipython``** on the command-line; alternatively, if you've installed a distribution like Anaconda or EPD, there may be a launcher specific to your system.\n",
    "\n",
    "Once you do this, you should see a prompt like the following:\n",
    "```\n",
    "Python 3.8.5 (default, Sep  3 2020, 21:29:08) [MSC v.1916 64 bit (AMD64)]\n",
    "Type 'copyright', 'credits' or 'license' for more information\n",
    "IPython 7.22.0 -- An enhanced Interactive Python. Type '?' for help.\n",
    "IPython 7.22.0 -- An enhanced Interactive Python.\n",
    "\n",
    "In [1]:\n",
    "```\n",
    "With that, you're ready to follow along."
   ]
  },
  {
   "cell_type": "markdown",
   "id": "a031ebf4",
   "metadata": {
    "slideshow": {
     "slide_type": "slide"
    }
   },
   "source": [
    "## Launching the Jupyter Notebook\n",
    "\n",
    "The Jupyter notebook is a browser-based graphical interface to the IPython shell, and builds on it a rich set of dynamic display capabilities.\n",
    "As well as executing Python/IPython statements, the notebook allows the user to include formatted text, static and dynamic visualizations, mathematical equations, JavaScript widgets, and much more.\n",
    "Furthermore, these documents can be saved in a way that lets other people open them and execute the code on their own systems.\n",
    "\n",
    "Though the IPython notebook is viewed and edited through your web browser window, it must connect to a running Python process in order to execute code.\n",
    "This process (known as a \"kernel\") can be started by running the following command in your system shell:\n",
    "\n",
    "```\n",
    "$ jupyter notebook\n",
    "```"
   ]
  },
  {
   "cell_type": "markdown",
   "id": "0c164545",
   "metadata": {
    "slideshow": {
     "slide_type": "slide"
    }
   },
   "source": [
    "\n",
    "This command will launch a local web server that will be visible to your browser.\n",
    "It immediately spits out a log showing what it is doing; that log will look something like this:\n",
    "\n",
    "```\n",
    "$ jupyter notebook\n",
    "[I 09:44:13.661 NotebookApp] Serving notebooks from local directory: C:\\Users\\YifangMa\n",
    "[I 09:44:13.665 NotebookApp] Jupyter Notebook 6.3.0 is running at:\n",
    "[I 09:44:13.665 NotebookApp] http://localhost:8888/\n",
    "[I 09:44:13.665 NotebookApp] Use Control-C to stop this server and shut down all kernels (twice to skip confirmation).\n",
    "```\n",
    "\n",
    "Upon issuing the command, your default browser should automatically open and navigate to the listed local URL;\n",
    "the exact address will depend on your system.\n",
    "If the browser does not open automatically, you can open a window and manually open this address (*http://localhost:8888/* in this example)."
   ]
  },
  {
   "cell_type": "markdown",
   "id": "9184446a",
   "metadata": {
    "slideshow": {
     "slide_type": "slide"
    }
   },
   "source": [
    "# Help and Documentation\n",
    "\n",
    "Accessing Documentation with ``?`` or ``help``\n",
    "\n",
    "Accessing Source Code with ``??``\n",
    "\n",
    "Exploring Modules with Tab-Completion"
   ]
  },
  {
   "cell_type": "code",
   "execution_count": null,
   "id": "d452977f",
   "metadata": {
    "ExecuteTime": {
     "end_time": "2022-09-13T09:49:44.117492Z",
     "start_time": "2022-09-13T09:49:44.038477Z"
    },
    "slideshow": {
     "slide_type": "slide"
    }
   },
   "outputs": [],
   "source": [
    "#Python has a built-in help() function that can access this information and prints the results.\n",
    "help(range)"
   ]
  },
  {
   "cell_type": "code",
   "execution_count": 1,
   "id": "02cc7d5f",
   "metadata": {
    "ExecuteTime": {
     "end_time": "2022-09-13T09:49:48.070834Z",
     "start_time": "2022-09-13T09:49:48.008841Z"
    }
   },
   "outputs": [],
   "source": [
    "range?"
   ]
  },
  {
   "cell_type": "markdown",
   "id": "105cb9b2",
   "metadata": {
    "slideshow": {
     "slide_type": "slide"
    }
   },
   "source": [
    "Because finding help on an object is so common and useful, IPython introduces the ``?`` character as a shorthand for accessing this documentation and other relevant information:"
   ]
  },
  {
   "cell_type": "code",
   "execution_count": null,
   "id": "0a3c7bfd",
   "metadata": {
    "ExecuteTime": {
     "end_time": "2022-09-13T09:49:53.039165Z",
     "start_time": "2022-09-13T09:49:53.024163Z"
    },
    "slideshow": {
     "slide_type": "slide"
    }
   },
   "outputs": [],
   "source": [
    "range?"
   ]
  },
  {
   "cell_type": "code",
   "execution_count": null,
   "id": "560f8269",
   "metadata": {
    "ExecuteTime": {
     "end_time": "2022-09-13T09:50:01.853661Z",
     "start_time": "2022-09-13T09:50:01.837708Z"
    },
    "slideshow": {
     "slide_type": "slide"
    }
   },
   "outputs": [],
   "source": [
    "#This notation works for just about anything, including object methods:\n",
    "L = [1, 2, 3]\n",
    "L.insert?"
   ]
  },
  {
   "cell_type": "code",
   "execution_count": null,
   "id": "9bd5856b",
   "metadata": {
    "ExecuteTime": {
     "end_time": "2022-09-13T09:50:06.551717Z",
     "start_time": "2022-09-13T09:50:06.545716Z"
    },
    "slideshow": {
     "slide_type": "slide"
    }
   },
   "outputs": [],
   "source": [
    "def square(a):\n",
    "    \"\"\"\n",
    "    Return the square of a.\n",
    "    some declarations you want to say...\n",
    "    input:\n",
    "    output:\n",
    "    \"\"\"\n",
    "    return a ** 2"
   ]
  },
  {
   "cell_type": "code",
   "execution_count": null,
   "id": "6521f531",
   "metadata": {
    "ExecuteTime": {
     "end_time": "2022-09-13T09:50:08.027297Z",
     "start_time": "2022-09-13T09:50:08.010297Z"
    },
    "slideshow": {
     "slide_type": "slide"
    }
   },
   "outputs": [],
   "source": [
    "#square?\n",
    "square??"
   ]
  },
  {
   "cell_type": "code",
   "execution_count": null,
   "id": "8c24e90b",
   "metadata": {
    "slideshow": {
     "slide_type": "slide"
    }
   },
   "outputs": [],
   "source": [
    "#IPython's other useful interface is the use of the tab key for \n",
    "#auto-completion and exploration of the contents of objects, \n",
    "#modules, and name-spaces.\n",
    "L."
   ]
  },
  {
   "cell_type": "code",
   "execution_count": null,
   "id": "758dbc21",
   "metadata": {
    "slideshow": {
     "slide_type": "slide"
    }
   },
   "outputs": [],
   "source": [
    "L.append"
   ]
  },
  {
   "cell_type": "markdown",
   "id": "cdb17150",
   "metadata": {
    "slideshow": {
     "slide_type": "slide"
    }
   },
   "source": [
    "# IPython Magic Commands"
   ]
  },
  {
   "cell_type": "markdown",
   "id": "d4418b0f",
   "metadata": {
    "slideshow": {
     "slide_type": "slide"
    }
   },
   "source": [
    "## Timing Code Execution: ``%timeit``\n",
    "\n",
    "- ``%time``: Time the execution of a single statement\n",
    "- ``%timeit``: Time repeated execution of a single statement for more accuracy\n",
    "\n",
    "Another example of a useful magic function is ``%timeit``, which will automatically determine the execution time of the single-line Python statement that follows it.\n",
    "For example, we may want to check the performance of a list comprehension:"
   ]
  },
  {
   "cell_type": "code",
   "execution_count": 11,
   "id": "4fc082fa",
   "metadata": {
    "ExecuteTime": {
     "end_time": "2021-09-13T03:36:42.145971Z",
     "start_time": "2021-09-13T03:36:39.696412Z"
    },
    "slideshow": {
     "slide_type": "slide"
    }
   },
   "outputs": [
    {
     "name": "stdout",
     "output_type": "stream",
     "text": [
      "269 µs ± 20.1 µs per loop (mean ± std. dev. of 7 runs, 1,000 loops each)\n"
     ]
    }
   ],
   "source": [
    "%timeit L = [n ** 2 for n in range(1000)]"
   ]
  },
  {
   "cell_type": "code",
   "execution_count": 4,
   "id": "b3461026",
   "metadata": {
    "ExecuteTime": {
     "end_time": "2021-09-13T03:39:37.515484Z",
     "start_time": "2021-09-13T03:39:34.059707Z"
    },
    "slideshow": {
     "slide_type": "slide"
    }
   },
   "outputs": [
    {
     "name": "stdout",
     "output_type": "stream",
     "text": [
      "27.9 µs ± 2.46 µs per loop (mean ± std. dev. of 7 runs, 10,000 loops each)\n"
     ]
    }
   ],
   "source": [
    "import random\n",
    "L = [random.random() for i in range(10000)]\n",
    "%timeit L.sort()"
   ]
  },
  {
   "cell_type": "code",
   "execution_count": 12,
   "id": "d563e2b3",
   "metadata": {
    "ExecuteTime": {
     "end_time": "2021-09-13T03:39:53.792238Z",
     "start_time": "2021-09-13T03:39:53.785012Z"
    }
   },
   "outputs": [
    {
     "data": {
      "text/plain": [
       "[5.80669372823861e-05,\n",
       " 0.00014330217192881634,\n",
       " 0.0005994658051138302,\n",
       " 0.0006522792440148972,\n",
       " 0.0006764424469017927,\n",
       " 0.0006889641827295678,\n",
       " 0.0007755074711631726,\n",
       " 0.0008085670778178455,\n",
       " 0.0011031787372286495,\n",
       " 0.0011170161363734943]"
      ]
     },
     "execution_count": 12,
     "metadata": {},
     "output_type": "execute_result"
    }
   ],
   "source": [
    "L[:10]"
   ]
  },
  {
   "cell_type": "markdown",
   "id": "ededed75",
   "metadata": {
    "slideshow": {
     "slide_type": "slide"
    }
   },
   "source": [
    "The benefit of ``%timeit`` is that for short commands it will automatically perform multiple runs in order to attain more robust results.\n",
    "For multi line statements, adding a second ``%`` sign will turn this into a cell magic that can handle multiple lines of input.\n",
    "For example, here's the equivalent construction with a ``for``-loop:"
   ]
  },
  {
   "cell_type": "code",
   "execution_count": 13,
   "id": "a0d7534c",
   "metadata": {
    "ExecuteTime": {
     "end_time": "2021-09-13T03:40:54.771409Z",
     "start_time": "2021-09-13T03:40:52.080303Z"
    },
    "slideshow": {
     "slide_type": "slide"
    }
   },
   "outputs": [
    {
     "name": "stdout",
     "output_type": "stream",
     "text": [
      "289 µs ± 13.9 µs per loop (mean ± std. dev. of 7 runs, 1,000 loops each)\n"
     ]
    }
   ],
   "source": [
    "%%timeit\n",
    "L = []\n",
    "for n in range(1000):\n",
    "    L.append(n ** 2)\n"
   ]
  },
  {
   "cell_type": "code",
   "execution_count": null,
   "id": "5c725eb9",
   "metadata": {},
   "outputs": [],
   "source": []
  },
  {
   "cell_type": "code",
   "execution_count": null,
   "id": "4f50eb11",
   "metadata": {},
   "outputs": [],
   "source": []
  },
  {
   "cell_type": "markdown",
   "id": "a63d726a",
   "metadata": {
    "slideshow": {
     "slide_type": "slide"
    }
   },
   "source": [
    "## Profiling Full Scripts: ``%prun``\n",
    "\n",
    "A program is made of many single statements, and sometimes timing these statements in context is more important than timing them on their own.\n",
    "Python contains a built-in code profiler (which you can read about in the Python documentation), but IPython offers a much more convenient way to use this profiler, in the form of the magic function ``%prun``.\n",
    "\n",
    "By way of example, we'll define a simple function that does some calculations:"
   ]
  },
  {
   "cell_type": "code",
   "execution_count": 21,
   "id": "123c1ea7",
   "metadata": {
    "ExecuteTime": {
     "end_time": "2022-09-13T09:35:34.498486Z",
     "start_time": "2022-09-13T09:35:34.480510Z"
    },
    "slideshow": {
     "slide_type": "slide"
    }
   },
   "outputs": [],
   "source": [
    "def sum_of_lists(N):\n",
    "    total = 0\n",
    "    for i in range(5):\n",
    "        L = [j ^ (j >> i) for j in range(N)]\n",
    "        total += sum(L)\n",
    "    return total"
   ]
  },
  {
   "cell_type": "markdown",
   "id": "9f0348be",
   "metadata": {
    "slideshow": {
     "slide_type": "slide"
    }
   },
   "source": [
    "Now we can call ``%prun`` with a function call to see the profiled results:"
   ]
  },
  {
   "cell_type": "code",
   "execution_count": 22,
   "id": "37431a08",
   "metadata": {
    "ExecuteTime": {
     "end_time": "2022-09-13T09:38:36.422850Z",
     "start_time": "2022-09-13T09:38:36.391864Z"
    },
    "slideshow": {
     "slide_type": "slide"
    }
   },
   "outputs": [
    {
     "name": "stdout",
     "output_type": "stream",
     "text": [
      " "
     ]
    }
   ],
   "source": [
    "%prun sum_of_lists(10000)"
   ]
  },
  {
   "cell_type": "markdown",
   "id": "4f34bfd8",
   "metadata": {
    "slideshow": {
     "slide_type": "slide"
    }
   },
   "source": [
    "The result is a table that indicates, in order of total time on each function call, where the execution is spending the most time. In this case, the bulk of execution time is in the list comprehension inside ``sum_of_lists``.\n",
    "From here, we could start thinking about what changes we might make to improve the performance in the algorithm."
   ]
  },
  {
   "cell_type": "markdown",
   "id": "adcf1252",
   "metadata": {
    "slideshow": {
     "slide_type": "slide"
    }
   },
   "source": [
    "## Profiling Memory Use: ``%memit``\n",
    "\n",
    "Another aspect of profiling is the amount of memory an operation uses.\n",
    "This can be evaluated with another IPython extension, the ``memory_profiler``.\n",
    "As with the ``line_profiler``, we start by ``pip``-installing the extension:\n",
    "\n",
    "```\n",
    "$ pip install memory_profiler\n",
    "```\n",
    "\n",
    "Then we can use IPython to load the extension:"
   ]
  },
  {
   "cell_type": "code",
   "execution_count": 23,
   "id": "c6e3353e",
   "metadata": {
    "ExecuteTime": {
     "end_time": "2021-09-13T03:47:54.371332Z",
     "start_time": "2021-09-13T03:46:45.144120Z"
    },
    "slideshow": {
     "slide_type": "slide"
    }
   },
   "outputs": [
    {
     "name": "stdout",
     "output_type": "stream",
     "text": [
      "Collecting memory_profiler\n",
      "  Downloading memory_profiler-0.60.0.tar.gz (38 kB)\n",
      "Requirement already satisfied: psutil in d:\\appgallery\\python\\lib\\site-packages (from memory_profiler) (5.8.0)\n",
      "Building wheels for collected packages: memory-profiler\n",
      "  Building wheel for memory-profiler (setup.py): started\n",
      "  Building wheel for memory-profiler (setup.py): finished with status 'done'\n",
      "  Created wheel for memory-profiler: filename=memory_profiler-0.60.0-py3-none-any.whl size=31282 sha256=e8825bb59f9b036273a920bb118ff4e634566928b885ccccb80633f55a79350a\n",
      "  Stored in directory: c:\\users\\冯钰茹\\appdata\\local\\pip\\cache\\wheels\\0c\\46\\40\\2be5888425b5058e7a3205875fda2ecf2219e515ad89dca951\n",
      "Successfully built memory-profiler\n",
      "Installing collected packages: memory-profiler\n",
      "Successfully installed memory-profiler-0.60.0\n"
     ]
    }
   ],
   "source": [
    "!pip install memory_profiler"
   ]
  },
  {
   "cell_type": "code",
   "execution_count": 24,
   "id": "2547532e",
   "metadata": {
    "ExecuteTime": {
     "end_time": "2022-09-13T09:35:25.798479Z",
     "start_time": "2022-09-13T09:35:25.751479Z"
    },
    "slideshow": {
     "slide_type": "slide"
    }
   },
   "outputs": [],
   "source": [
    "%load_ext memory_profiler"
   ]
  },
  {
   "cell_type": "code",
   "execution_count": 26,
   "id": "fdce9f30",
   "metadata": {
    "ExecuteTime": {
     "end_time": "2022-09-13T09:35:40.147799Z",
     "start_time": "2022-09-13T09:35:37.944018Z"
    },
    "slideshow": {
     "slide_type": "slide"
    }
   },
   "outputs": [
    {
     "name": "stdout",
     "output_type": "stream",
     "text": [
      "peak memory: 159.37 MiB, increment: 70.27 MiB\n"
     ]
    }
   ],
   "source": [
    "%memit sum_of_lists(1000000)"
   ]
  },
  {
   "cell_type": "markdown",
   "id": "b017118a",
   "metadata": {},
   "source": [
    "## tqdm"
   ]
  },
  {
   "cell_type": "markdown",
   "id": "ed8a7ca5",
   "metadata": {},
   "source": [
    "``tqdm`` means \"progress\" in Arabic (taqadum, تقدّم) and is an abbreviation for \"I love you so much\" in Spanish (te quiero demasiado).\n",
    "\n",
    "Instantly make your loops show a smart progress meter - just wrap any iterable with ``tqdm(iterable)``, and you're done!\n",
    "```python\n",
    "from tqdm import tqdm\n",
    "for i in tqdm(range(10000)):\n",
    "    ...\n",
    "```\n",
    "76%|████████████████████████████         | 7568/10000 [00:33<00:10, 229.00it/s]"
   ]
  },
  {
   "cell_type": "code",
   "execution_count": 29,
   "id": "fac13174",
   "metadata": {
    "ExecuteTime": {
     "end_time": "2022-09-13T09:31:31.597049Z",
     "start_time": "2022-09-13T09:31:31.579054Z"
    }
   },
   "outputs": [
    {
     "name": "stderr",
     "output_type": "stream",
     "text": [
      "100%|████████████████████████████████████████████████████████████████████████████| 100/100 [00:00<00:00, 185178.98it/s]\n"
     ]
    }
   ],
   "source": [
    "from tqdm import tqdm\n",
    "\n",
    "for i in tqdm(range(100)):\n",
    "    \n",
    "    pass"
   ]
  },
  {
   "cell_type": "code",
   "execution_count": null,
   "id": "2773fa4f",
   "metadata": {},
   "outputs": [],
   "source": []
  },
  {
   "cell_type": "markdown",
   "id": "eb9104ae",
   "metadata": {
    "slideshow": {
     "slide_type": "slide"
    }
   },
   "source": [
    "## Other Usefull Magic commends\n",
    "\n",
    "``%matplotlib inline``\n",
    "\n",
    "``%conda``\n",
    "\n",
    "``%pwd``\n",
    "\n",
    "Full list: https://ipython.readthedocs.io/en/stable/interactive/magics.html"
   ]
  },
  {
   "cell_type": "code",
   "execution_count": null,
   "id": "067b7338",
   "metadata": {
    "ExecuteTime": {
     "end_time": "2022-09-13T09:52:31.208346Z",
     "start_time": "2022-09-13T09:52:31.189393Z"
    }
   },
   "outputs": [],
   "source": [
    "%pwd"
   ]
  },
  {
   "cell_type": "markdown",
   "id": "175f44ae",
   "metadata": {
    "slideshow": {
     "slide_type": "slide"
    }
   },
   "source": [
    "# How to run python scripts\n",
    "\n",
    "``python test.py``\n",
    "\n",
    "``Jupyter Notebook/Lab``\n",
    "\n",
    "``PyCharm``\n",
    "\n",
    "..."
   ]
  },
  {
   "cell_type": "markdown",
   "id": "6dd5ec2f",
   "metadata": {
    "slideshow": {
     "slide_type": "slide"
    }
   },
   "source": [
    "# Resources for Further Learning\n",
    "\n",
    "I have tried to cover the pieces and patterns in the Python language that will be most useful to a data scientist using Python, but this has by no means been a complete introduction. If you'd like to go deeper in understanding the Python language itself and how to use it effectively, you may check the following book usefull:\n",
    "\n",
    "- [*Dive Into Python*](http://www.diveintopython.net/) by Mark Pilgrim. This is a free online book that provides a ground-up introduction to the Python language.\n",
    "\n",
    "To dig more into Python tools for data science and scientific computing:\n",
    "\n",
    "- [*The Python Data Science Handbook*](http://shop.oreilly.com/product/0636920034919.do) by Jake VanderPlas. This book starts precisely where this mini-text leaves off, and provides a comprehensive guide to the essential tools in Python's data science stack, from data munging and manipulation to machine learning.\n",
    "\n",
    "- [*Python for Data Analysis*](http://shop.oreilly.com/product/0636920023784.do) by Wes McKinney, creator of the Pandas package. This book covers the Pandas library in detail, as well as giving useful information on some of the other tools that enable it."
   ]
  },
  {
   "cell_type": "code",
   "execution_count": null,
   "id": "78e82519",
   "metadata": {},
   "outputs": [],
   "source": []
  },
  {
   "cell_type": "code",
   "execution_count": null,
   "id": "7c6f6777",
   "metadata": {},
   "outputs": [],
   "source": []
  },
  {
   "cell_type": "code",
   "execution_count": null,
   "id": "3a468f14",
   "metadata": {},
   "outputs": [],
   "source": []
  }
 ],
 "metadata": {
  "celltoolbar": "幻灯片",
  "kernelspec": {
   "display_name": "Python 3 (ipykernel)",
   "language": "python",
   "name": "python3"
  },
  "language_info": {
   "codemirror_mode": {
    "name": "ipython",
    "version": 3
   },
   "file_extension": ".py",
   "mimetype": "text/x-python",
   "name": "python",
   "nbconvert_exporter": "python",
   "pygments_lexer": "ipython3",
   "version": "3.9.12"
  },
  "toc": {
   "base_numbering": 1,
   "nav_menu": {},
   "number_sections": true,
   "sideBar": true,
   "skip_h1_title": false,
   "title_cell": "Table of Contents",
   "title_sidebar": "Contents",
   "toc_cell": false,
   "toc_position": {
    "height": "calc(100% - 180px)",
    "left": "10px",
    "top": "150px",
    "width": "299px"
   },
   "toc_section_display": true,
   "toc_window_display": false
  }
 },
 "nbformat": 4,
 "nbformat_minor": 5
}
