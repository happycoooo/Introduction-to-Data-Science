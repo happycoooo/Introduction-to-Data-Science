{
 "cells": [
  {
   "cell_type": "markdown",
   "id": "2cf67291",
   "metadata": {},
   "source": [
    "<div style=\"text-align: center; font-size: 25pt\"> Homework 4 </div>"
   ]
  },
  {
   "cell_type": "markdown",
   "id": "f748b344",
   "metadata": {},
   "source": [
    "# load packages"
   ]
  },
  {
   "cell_type": "code",
   "execution_count": 1,
   "id": "fc8651a9",
   "metadata": {
    "ExecuteTime": {
     "end_time": "2021-11-08T08:58:38.595596Z",
     "start_time": "2021-11-08T08:58:38.430523Z"
    }
   },
   "outputs": [],
   "source": [
    "# packages\n",
    "import numpy as np\n",
    "import pandas as pd\n",
    "import matplotlib.pyplot as plt\n",
    "%matplotlib inline  \n",
    "import scipy.stats as stats\n",
    "# you may add more if you need"
   ]
  },
  {
   "cell_type": "markdown",
   "id": "ad87776d",
   "metadata": {},
   "source": [
    "# Data Relationships"
   ]
  },
  {
   "cell_type": "markdown",
   "id": "f1eac779",
   "metadata": {},
   "source": [
    "<font color='red'>**Question:**</font>  Load the ``insurance.csv`` dataset."
   ]
  },
  {
   "cell_type": "code",
   "execution_count": 20,
   "id": "b45e16b1",
   "metadata": {
    "ExecuteTime": {
     "end_time": "2021-11-08T06:48:09.800336Z",
     "start_time": "2021-11-08T06:48:09.768333Z"
    }
   },
   "outputs": [
    {
     "name": "stdout",
     "output_type": "stream",
     "text": [
      "(1338, 7)\n"
     ]
    },
    {
     "data": {
      "text/html": [
       "<div>\n",
       "<style scoped>\n",
       "    .dataframe tbody tr th:only-of-type {\n",
       "        vertical-align: middle;\n",
       "    }\n",
       "\n",
       "    .dataframe tbody tr th {\n",
       "        vertical-align: top;\n",
       "    }\n",
       "\n",
       "    .dataframe thead th {\n",
       "        text-align: right;\n",
       "    }\n",
       "</style>\n",
       "<table border=\"1\" class=\"dataframe\">\n",
       "  <thead>\n",
       "    <tr style=\"text-align: right;\">\n",
       "      <th></th>\n",
       "      <th>age</th>\n",
       "      <th>sex</th>\n",
       "      <th>bmi</th>\n",
       "      <th>children</th>\n",
       "      <th>smoker</th>\n",
       "      <th>region</th>\n",
       "      <th>charges</th>\n",
       "    </tr>\n",
       "  </thead>\n",
       "  <tbody>\n",
       "    <tr>\n",
       "      <th>0</th>\n",
       "      <td>19</td>\n",
       "      <td>female</td>\n",
       "      <td>27.900</td>\n",
       "      <td>0</td>\n",
       "      <td>yes</td>\n",
       "      <td>southwest</td>\n",
       "      <td>16884.92400</td>\n",
       "    </tr>\n",
       "    <tr>\n",
       "      <th>1</th>\n",
       "      <td>18</td>\n",
       "      <td>male</td>\n",
       "      <td>33.770</td>\n",
       "      <td>1</td>\n",
       "      <td>no</td>\n",
       "      <td>southeast</td>\n",
       "      <td>1725.55230</td>\n",
       "    </tr>\n",
       "    <tr>\n",
       "      <th>2</th>\n",
       "      <td>28</td>\n",
       "      <td>male</td>\n",
       "      <td>33.000</td>\n",
       "      <td>3</td>\n",
       "      <td>no</td>\n",
       "      <td>southeast</td>\n",
       "      <td>4449.46200</td>\n",
       "    </tr>\n",
       "    <tr>\n",
       "      <th>3</th>\n",
       "      <td>33</td>\n",
       "      <td>male</td>\n",
       "      <td>22.705</td>\n",
       "      <td>0</td>\n",
       "      <td>no</td>\n",
       "      <td>northwest</td>\n",
       "      <td>21984.47061</td>\n",
       "    </tr>\n",
       "    <tr>\n",
       "      <th>4</th>\n",
       "      <td>32</td>\n",
       "      <td>male</td>\n",
       "      <td>28.880</td>\n",
       "      <td>0</td>\n",
       "      <td>no</td>\n",
       "      <td>northwest</td>\n",
       "      <td>3866.85520</td>\n",
       "    </tr>\n",
       "  </tbody>\n",
       "</table>\n",
       "</div>"
      ],
      "text/plain": [
       "   age     sex     bmi  children smoker     region      charges\n",
       "0   19  female  27.900         0    yes  southwest  16884.92400\n",
       "1   18    male  33.770         1     no  southeast   1725.55230\n",
       "2   28    male  33.000         3     no  southeast   4449.46200\n",
       "3   33    male  22.705         0     no  northwest  21984.47061\n",
       "4   32    male  28.880         0     no  northwest   3866.85520"
      ]
     },
     "execution_count": 20,
     "metadata": {},
     "output_type": "execute_result"
    }
   ],
   "source": [
    "# load the insurance data\n",
    "insurance  = pd.read_csv(\"./files/insurance.csv\")\n",
    "print (insurance.shape)\n",
    "insurance.head()"
   ]
  },
  {
   "cell_type": "code",
   "execution_count": 30,
   "id": "c7c222f7",
   "metadata": {},
   "outputs": [
    {
     "data": {
      "text/plain": [
       "male      676\n",
       "female    662\n",
       "Name: sex, dtype: int64"
      ]
     },
     "execution_count": 30,
     "metadata": {},
     "output_type": "execute_result"
    }
   ],
   "source": [
    "t = insurance['sex'].value_counts()\n",
    "t"
   ]
  },
  {
   "cell_type": "markdown",
   "id": "ebede282",
   "metadata": {},
   "source": [
    "## Do younger people smoker less?"
   ]
  },
  {
   "cell_type": "markdown",
   "id": "fcb85a9b",
   "metadata": {},
   "source": [
    "<font color='red'>**Question:**</font>  Create a new dummy variable called ``younger`` which split the observations into 2 groups based on age. 1 for people with age <=25; 0 for others.\n",
    "\n"
   ]
  },
  {
   "cell_type": "code",
   "execution_count": 4,
   "id": "6b43718c",
   "metadata": {},
   "outputs": [
    {
     "data": {
      "text/html": [
       "<div>\n",
       "<style scoped>\n",
       "    .dataframe tbody tr th:only-of-type {\n",
       "        vertical-align: middle;\n",
       "    }\n",
       "\n",
       "    .dataframe tbody tr th {\n",
       "        vertical-align: top;\n",
       "    }\n",
       "\n",
       "    .dataframe thead th {\n",
       "        text-align: right;\n",
       "    }\n",
       "</style>\n",
       "<table border=\"1\" class=\"dataframe\">\n",
       "  <thead>\n",
       "    <tr style=\"text-align: right;\">\n",
       "      <th></th>\n",
       "      <th>age</th>\n",
       "      <th>sex</th>\n",
       "      <th>bmi</th>\n",
       "      <th>children</th>\n",
       "      <th>smoker</th>\n",
       "      <th>region</th>\n",
       "      <th>charges</th>\n",
       "      <th>is_valid</th>\n",
       "      <th>younger</th>\n",
       "    </tr>\n",
       "  </thead>\n",
       "  <tbody>\n",
       "    <tr>\n",
       "      <th>0</th>\n",
       "      <td>19</td>\n",
       "      <td>female</td>\n",
       "      <td>27.900</td>\n",
       "      <td>0</td>\n",
       "      <td>yes</td>\n",
       "      <td>southwest</td>\n",
       "      <td>16884.92400</td>\n",
       "      <td>True</td>\n",
       "      <td>1</td>\n",
       "    </tr>\n",
       "    <tr>\n",
       "      <th>1</th>\n",
       "      <td>18</td>\n",
       "      <td>male</td>\n",
       "      <td>33.770</td>\n",
       "      <td>1</td>\n",
       "      <td>no</td>\n",
       "      <td>southeast</td>\n",
       "      <td>1725.55230</td>\n",
       "      <td>True</td>\n",
       "      <td>1</td>\n",
       "    </tr>\n",
       "    <tr>\n",
       "      <th>2</th>\n",
       "      <td>28</td>\n",
       "      <td>male</td>\n",
       "      <td>33.000</td>\n",
       "      <td>3</td>\n",
       "      <td>no</td>\n",
       "      <td>southeast</td>\n",
       "      <td>4449.46200</td>\n",
       "      <td>False</td>\n",
       "      <td>0</td>\n",
       "    </tr>\n",
       "    <tr>\n",
       "      <th>3</th>\n",
       "      <td>33</td>\n",
       "      <td>male</td>\n",
       "      <td>22.705</td>\n",
       "      <td>0</td>\n",
       "      <td>no</td>\n",
       "      <td>northwest</td>\n",
       "      <td>21984.47061</td>\n",
       "      <td>False</td>\n",
       "      <td>0</td>\n",
       "    </tr>\n",
       "    <tr>\n",
       "      <th>4</th>\n",
       "      <td>32</td>\n",
       "      <td>male</td>\n",
       "      <td>28.880</td>\n",
       "      <td>0</td>\n",
       "      <td>no</td>\n",
       "      <td>northwest</td>\n",
       "      <td>3866.85520</td>\n",
       "      <td>False</td>\n",
       "      <td>0</td>\n",
       "    </tr>\n",
       "  </tbody>\n",
       "</table>\n",
       "</div>"
      ],
      "text/plain": [
       "   age     sex     bmi  children smoker     region      charges  is_valid  \\\n",
       "0   19  female  27.900         0    yes  southwest  16884.92400      True   \n",
       "1   18    male  33.770         1     no  southeast   1725.55230      True   \n",
       "2   28    male  33.000         3     no  southeast   4449.46200     False   \n",
       "3   33    male  22.705         0     no  northwest  21984.47061     False   \n",
       "4   32    male  28.880         0     no  northwest   3866.85520     False   \n",
       "\n",
       "   younger  \n",
       "0        1  \n",
       "1        1  \n",
       "2        0  \n",
       "3        0  \n",
       "4        0  "
      ]
     },
     "execution_count": 4,
     "metadata": {},
     "output_type": "execute_result"
    }
   ],
   "source": [
    "insurance[\"is_valid\"] = insurance['age']<= 25\n",
    "insurance.loc[:,\"younger\"] = insurance.loc[:,\"is_valid\"].map({ True :1, False :0})\n",
    "#del insurance[\"is_valid\"]\n",
    "insurance.head()"
   ]
  },
  {
   "cell_type": "markdown",
   "id": "3fdef01b",
   "metadata": {},
   "source": [
    "<font color='red'>**Question:**</font> For female and male person respectively, what's the percentage of smokers for younger and older persons?\n",
    "i.e., make a datafram like this:\n",
    "\n",
    "| sex | younger | %smoker |\n",
    "|:---:|:-------:|:-------:|\n",
    "|  F  | 1       |         |\n",
    "|  F  | 0       |         |\n",
    "|  M  | 1       |         |\n",
    "|  M  | 0       |         |"
   ]
  },
  {
   "cell_type": "code",
   "execution_count": 7,
   "id": "5f4b61ce",
   "metadata": {},
   "outputs": [
    {
     "data": {
      "text/html": [
       "<div>\n",
       "<style scoped>\n",
       "    .dataframe tbody tr th:only-of-type {\n",
       "        vertical-align: middle;\n",
       "    }\n",
       "\n",
       "    .dataframe tbody tr th {\n",
       "        vertical-align: top;\n",
       "    }\n",
       "\n",
       "    .dataframe thead th {\n",
       "        text-align: right;\n",
       "    }\n",
       "</style>\n",
       "<table border=\"1\" class=\"dataframe\">\n",
       "  <thead>\n",
       "    <tr style=\"text-align: right;\">\n",
       "      <th></th>\n",
       "      <th>younger</th>\n",
       "      <th>%smoker</th>\n",
       "    </tr>\n",
       "    <tr>\n",
       "      <th>sex</th>\n",
       "      <th></th>\n",
       "      <th></th>\n",
       "    </tr>\n",
       "  </thead>\n",
       "  <tbody>\n",
       "    <tr>\n",
       "      <th>F</th>\n",
       "      <td>1</td>\n",
       "      <td>2.09%</td>\n",
       "    </tr>\n",
       "    <tr>\n",
       "      <th>F</th>\n",
       "      <td>0</td>\n",
       "      <td>6.50%</td>\n",
       "    </tr>\n",
       "    <tr>\n",
       "      <th>M</th>\n",
       "      <td>1</td>\n",
       "      <td>2.77%</td>\n",
       "    </tr>\n",
       "    <tr>\n",
       "      <th>M</th>\n",
       "      <td>0</td>\n",
       "      <td>9.12%</td>\n",
       "    </tr>\n",
       "  </tbody>\n",
       "</table>\n",
       "</div>"
      ],
      "text/plain": [
       "     younger %smoker\n",
       "sex                 \n",
       "F          1   2.09%\n",
       "F          0   6.50%\n",
       "M          1   2.77%\n",
       "M          0   9.12%"
      ]
     },
     "execution_count": 7,
     "metadata": {},
     "output_type": "execute_result"
    }
   ],
   "source": [
    "Fsmoker = insurance[(insurance['smoker'] == 'yes') & (insurance['sex'] == 'female') & (insurance['younger'] == 1)]['sex'].count()\n",
    "FNsmoker = insurance[(insurance['smoker'] == 'yes') & (insurance['sex'] == 'female')& (insurance['younger'] == 0)]['sex'].count()\n",
    "Msmoker = insurance[(insurance['smoker'] == 'yes') & (insurance['sex'] == 'male')& (insurance['younger'] == 1)]['sex'].count()\n",
    "MNsmoker = insurance[(insurance['smoker'] == 'yes') & (insurance['sex'] == 'male')& (insurance['younger'] == 0)]['sex'].count()\n",
    "df_from_dict = pd.DataFrame({ 'sex' : ['F', 'F', 'M ','M'],\n",
    "                      'younger' : [  1,   0,   1,  0],\n",
    "                      '%smoker' : [  \"%.2f%%\" % (Fsmoker/1338 * 100),\"%.2f%%\" % (FNsmoker/1338 * 100),\"%.2f%%\" % (Msmoker/1338 * 100),\"%.2f%%\" % (MNsmoker/1338 * 100)]\n",
    "                      })\n",
    "df_from_dict.set_index('sex')"
   ]
  },
  {
   "cell_type": "markdown",
   "id": "0a232032",
   "metadata": {},
   "source": [
    "## For younger people, the health charges of smokers and non-smokers differ or not?"
   ]
  },
  {
   "cell_type": "markdown",
   "id": "e1261895",
   "metadata": {},
   "source": [
    "<font color='red'>**Question:**</font> Just for younger persons, make two boxplots in one plot to show the charges for smokers and non-smokers. "
   ]
  },
  {
   "cell_type": "code",
   "execution_count": 8,
   "id": "f1d5965a",
   "metadata": {
    "ExecuteTime": {
     "end_time": "2021-11-08T08:59:06.419419Z",
     "start_time": "2021-11-08T08:59:06.243415Z"
    }
   },
   "outputs": [
    {
     "data": {
      "image/png": "[encoded data removed]",
      "text/plain": [
       "<Figure size 288x216 with 1 Axes>"
      ]
     },
     "metadata": {
      "needs_background": "light"
     },
     "output_type": "display_data"
    }
   ],
   "source": [
    "fig = plt.figure(figsize=(4, 3))\n",
    "axes = fig.add_axes([0, 0, 1, 1]) \n",
    "younger_condition = insurance[insurance[\"younger\"] == 1]\n",
    "masksmoker = (younger_condition['smoker'] == 'yes' )\n",
    "axes.boxplot([younger_condition['charges'][masksmoker], younger_condition['charges'][~masksmoker]]);\n",
    "axes.set_ylabel('Charges')\n",
    "axes.set_xticklabels(['Smokers', 'Nonsmokers']);"
   ]
  },
  {
   "cell_type": "markdown",
   "id": "00dfd9c6",
   "metadata": {},
   "source": [
    "## age v.s. charges for non-smokers"
   ]
  },
  {
   "cell_type": "markdown",
   "id": "94fb2980",
   "metadata": {},
   "source": [
    "<font color='red'>**Question:**</font> For non-smokers, make a scatterplot to show the correlation between ``age`` and ``charges``, add a linear line to represent the relationship (hint: using ``stats.linregress``)"
   ]
  },
  {
   "cell_type": "code",
   "execution_count": 104,
   "id": "9d926f84",
   "metadata": {},
   "outputs": [
    {
     "data": {
      "image/png": "[encoded data removed]",
      "text/plain": [
       "<Figure size 360x288 with 1 Axes>"
      ]
     },
     "metadata": {
      "needs_background": "light"
     },
     "output_type": "display_data"
    }
   ],
   "source": [
    "fig = plt.figure(figsize=(5, 4))\n",
    "axes = fig.add_axes([0, 0, 1, 1])\n",
    "\n",
    "non_smokers  = insurance[insurance['smoker'] == 'no']\n",
    "axes.scatter(non_smokers['age'], non_smokers['charges'], label='Data', edgecolors='w');\n",
    "\n",
    "# Plot fit\n",
    "slope, intercept, r_value, _, _ = stats.linregress(non_smokers['age'], non_smokers['charges'])\n",
    "line = slope * non_smokers['age'] + intercept\n",
    "axes.plot(non_smokers['age'], line, linewidth=2.5, color='k', label='Fit')\n",
    "\n",
    "axes.text(45, 24000, \"r = \" + str(round(r_value, 3)))\n",
    "axes.legend(loc='upper left'); axes.set_xlabel('age'); axes.set_ylabel('Charges'); axes.set_title('Non-smokers Scatter plot');\n"
   ]
  },
  {
   "cell_type": "markdown",
   "id": "2fac790f",
   "metadata": {},
   "source": [
    "<font color='red'>**Question:**</font> For smokers, make a scatterplot to show the correlation between ``age`` and ``charges``, add a linear line to represent the relationship (hint: using ``stats.linregress``)"
   ]
  },
  {
   "cell_type": "code",
   "execution_count": 105,
   "id": "421efcc5",
   "metadata": {},
   "outputs": [
    {
     "data": {
      "image/png": "[encoded data removed]",
      "text/plain": [
       "<Figure size 360x288 with 1 Axes>"
      ]
     },
     "metadata": {
      "needs_background": "light"
     },
     "output_type": "display_data"
    }
   ],
   "source": [
    "fig = plt.figure(figsize=(5, 4))\n",
    "axes = fig.add_axes([0, 0, 1, 1])\n",
    "\n",
    "smoker_data = insurance[insurance['smoker'] == 'yes']\n",
    "axes.scatter(smoker_data['age'], smoker_data['charges'], label='Data', edgecolors='w');\n",
    "\n",
    "# Plot fit\n",
    "slope, intercept, r_value, _, _ = stats.linregress(smoker_data['age'], smoker_data['charges'])\n",
    "line = slope * smoker_data['age'] + intercept\n",
    "axes.plot(smoker_data['age'], line, linewidth=2.5, color='k', label='Fit')\n",
    "\n",
    "axes.text(45, 24000, \"r = \" + str(round(r_value, 3)))\n",
    "axes.legend(loc='upper left'); axes.set_xlabel('age'); axes.set_ylabel('Charges'); axes.set_title('Smokers Scatter plot');\n"
   ]
  },
  {
   "cell_type": "markdown",
   "id": "5b112390",
   "metadata": {},
   "source": [
    "<font color='red'>**Question:**</font> Using different colors for smokers and non-smokers, make scatterplots to show the correlation between ``age`` and ``charges``, add linear lines to represent the relationship respectively."
   ]
  },
  {
   "cell_type": "code",
   "execution_count": 101,
   "id": "9430f5a2",
   "metadata": {},
   "outputs": [
    {
     "data": {
      "image/png": "[encoded data removed]",
      "text/plain": [
       "<Figure size 360x288 with 1 Axes>"
      ]
     },
     "metadata": {
      "needs_background": "light"
     },
     "output_type": "display_data"
    }
   ],
   "source": [
    "fig = plt.figure(figsize=(5, 4))\n",
    "axes = fig.add_axes([0, 0, 1, 1])\n",
    "\n",
    "masksmoker = (insurance['smoker'] == 'yes' )\n",
    "\n",
    "# Plot data\n",
    "axes.scatter(insurance['age'][~masksmoker], insurance['charges'][~masksmoker], color='orange', label=\"Data nonsmoker\", edgecolors='w');\n",
    "axes.scatter(insurance['age'][masksmoker], insurance['charges'][masksmoker], color='k', label=\"Data smoker\", edgecolors='w');\n",
    "\n",
    "# Plot fits\n",
    "slope, intercept, r_value, _, _ = stats.linregress(insurance['age'][~masksmoker], insurance['charges'][~masksmoker])\n",
    "axes.plot(insurance['age'][~masksmoker], slope * insurance['age'][~masksmoker] + intercept, linewidth=2.5, color='orange', label='Fit nonsmoker')\n",
    "axes.text(45, 13000, \"r = \" + str(round(r_value, 3)))\n",
    "slope, intercept, r_value, _, _ = stats.linregress(insurance['age'][masksmoker], insurance['charges'][masksmoker])\n",
    "axes.plot(insurance['age'][masksmoker], slope * insurance['age'][masksmoker] + intercept, linewidth=2.5, color='k', label='Fit smoker')\n",
    "axes.text(42, 58000, \"r = \" + str(round(r_value, 3)))\n",
    "\n",
    "axes.legend(); axes.set_xlabel('age'); axes.set_ylabel('Charges'); axes.set_title('Scatter plot');"
   ]
  },
  {
   "cell_type": "markdown",
   "id": "21a6a1b0",
   "metadata": {},
   "source": [
    "<font color='red'>**Question:**</font> What you can conclude from the above analysis?"
   ]
  },
  {
   "cell_type": "markdown",
   "id": "e77169a2",
   "metadata": {},
   "source": [
    "Younger people smoke less.\n",
    "从统计数据看，在charges上，对于年轻人：吸烟的比不吸烟花费多；对于不吸烟的，年龄小的花费更少且较为集中；对于吸烟的人，charges的差异较大，总体来看年龄小的花费更少；相同年龄状况下，不吸烟的比吸烟的花费少。"
   ]
  },
  {
   "cell_type": "markdown",
   "id": "a9f80ec9",
   "metadata": {},
   "source": [
    "# pandas groupby and merge"
   ]
  },
  {
   "cell_type": "markdown",
   "id": "141332bc",
   "metadata": {},
   "source": [
    "<font color='red'>**Question:**</font> Load the ``state_population.csv``, ``state_areas.csv`` and the ``state_abbrevs.csv`` in the following three cells."
   ]
  },
  {
   "cell_type": "code",
   "execution_count": 10,
   "id": "25a3e38e",
   "metadata": {},
   "outputs": [
    {
     "data": {
      "text/html": [
       "<div>\n",
       "<style scoped>\n",
       "    .dataframe tbody tr th:only-of-type {\n",
       "        vertical-align: middle;\n",
       "    }\n",
       "\n",
       "    .dataframe tbody tr th {\n",
       "        vertical-align: top;\n",
       "    }\n",
       "\n",
       "    .dataframe thead th {\n",
       "        text-align: right;\n",
       "    }\n",
       "</style>\n",
       "<table border=\"1\" class=\"dataframe\">\n",
       "  <thead>\n",
       "    <tr style=\"text-align: right;\">\n",
       "      <th></th>\n",
       "      <th>state/region</th>\n",
       "      <th>ages</th>\n",
       "      <th>year</th>\n",
       "      <th>population</th>\n",
       "    </tr>\n",
       "  </thead>\n",
       "  <tbody>\n",
       "    <tr>\n",
       "      <th>0</th>\n",
       "      <td>AL</td>\n",
       "      <td>under18</td>\n",
       "      <td>2012</td>\n",
       "      <td>1117489.0</td>\n",
       "    </tr>\n",
       "    <tr>\n",
       "      <th>1</th>\n",
       "      <td>AL</td>\n",
       "      <td>total</td>\n",
       "      <td>2012</td>\n",
       "      <td>4817528.0</td>\n",
       "    </tr>\n",
       "    <tr>\n",
       "      <th>2</th>\n",
       "      <td>AL</td>\n",
       "      <td>under18</td>\n",
       "      <td>2010</td>\n",
       "      <td>1130966.0</td>\n",
       "    </tr>\n",
       "    <tr>\n",
       "      <th>3</th>\n",
       "      <td>AL</td>\n",
       "      <td>total</td>\n",
       "      <td>2010</td>\n",
       "      <td>4785570.0</td>\n",
       "    </tr>\n",
       "    <tr>\n",
       "      <th>4</th>\n",
       "      <td>AL</td>\n",
       "      <td>under18</td>\n",
       "      <td>2011</td>\n",
       "      <td>1125763.0</td>\n",
       "    </tr>\n",
       "  </tbody>\n",
       "</table>\n",
       "</div>"
      ],
      "text/plain": [
       "  state/region     ages  year  population\n",
       "0           AL  under18  2012   1117489.0\n",
       "1           AL    total  2012   4817528.0\n",
       "2           AL  under18  2010   1130966.0\n",
       "3           AL    total  2010   4785570.0\n",
       "4           AL  under18  2011   1125763.0"
      ]
     },
     "execution_count": 10,
     "metadata": {},
     "output_type": "execute_result"
    }
   ],
   "source": [
    "# load the state_population here\n",
    "state_population = pd.read_csv(\"./state_population.csv\")\n",
    "state_population.head()"
   ]
  },
  {
   "cell_type": "code",
   "execution_count": 11,
   "id": "0e1ba591",
   "metadata": {},
   "outputs": [
    {
     "data": {
      "text/html": [
       "<div>\n",
       "<style scoped>\n",
       "    .dataframe tbody tr th:only-of-type {\n",
       "        vertical-align: middle;\n",
       "    }\n",
       "\n",
       "    .dataframe tbody tr th {\n",
       "        vertical-align: top;\n",
       "    }\n",
       "\n",
       "    .dataframe thead th {\n",
       "        text-align: right;\n",
       "    }\n",
       "</style>\n",
       "<table border=\"1\" class=\"dataframe\">\n",
       "  <thead>\n",
       "    <tr style=\"text-align: right;\">\n",
       "      <th></th>\n",
       "      <th>state</th>\n",
       "      <th>area (sq. mi)</th>\n",
       "    </tr>\n",
       "  </thead>\n",
       "  <tbody>\n",
       "    <tr>\n",
       "      <th>0</th>\n",
       "      <td>Alabama</td>\n",
       "      <td>52423</td>\n",
       "    </tr>\n",
       "    <tr>\n",
       "      <th>1</th>\n",
       "      <td>Alaska</td>\n",
       "      <td>656425</td>\n",
       "    </tr>\n",
       "    <tr>\n",
       "      <th>2</th>\n",
       "      <td>Arizona</td>\n",
       "      <td>114006</td>\n",
       "    </tr>\n",
       "    <tr>\n",
       "      <th>3</th>\n",
       "      <td>Arkansas</td>\n",
       "      <td>53182</td>\n",
       "    </tr>\n",
       "    <tr>\n",
       "      <th>4</th>\n",
       "      <td>California</td>\n",
       "      <td>163707</td>\n",
       "    </tr>\n",
       "  </tbody>\n",
       "</table>\n",
       "</div>"
      ],
      "text/plain": [
       "        state  area (sq. mi)\n",
       "0     Alabama          52423\n",
       "1      Alaska         656425\n",
       "2     Arizona         114006\n",
       "3    Arkansas          53182\n",
       "4  California         163707"
      ]
     },
     "execution_count": 11,
     "metadata": {},
     "output_type": "execute_result"
    }
   ],
   "source": [
    "# load the state_areas here\n",
    "state_areas = pd.read_csv(\"./state_areas.csv\")\n",
    "state_areas.head()"
   ]
  },
  {
   "cell_type": "code",
   "execution_count": 12,
   "id": "b71a6fdc",
   "metadata": {},
   "outputs": [
    {
     "data": {
      "text/html": [
       "<div>\n",
       "<style scoped>\n",
       "    .dataframe tbody tr th:only-of-type {\n",
       "        vertical-align: middle;\n",
       "    }\n",
       "\n",
       "    .dataframe tbody tr th {\n",
       "        vertical-align: top;\n",
       "    }\n",
       "\n",
       "    .dataframe thead th {\n",
       "        text-align: right;\n",
       "    }\n",
       "</style>\n",
       "<table border=\"1\" class=\"dataframe\">\n",
       "  <thead>\n",
       "    <tr style=\"text-align: right;\">\n",
       "      <th></th>\n",
       "      <th>state</th>\n",
       "      <th>abbreviation</th>\n",
       "    </tr>\n",
       "  </thead>\n",
       "  <tbody>\n",
       "    <tr>\n",
       "      <th>0</th>\n",
       "      <td>Alabama</td>\n",
       "      <td>AL</td>\n",
       "    </tr>\n",
       "    <tr>\n",
       "      <th>1</th>\n",
       "      <td>Alaska</td>\n",
       "      <td>AK</td>\n",
       "    </tr>\n",
       "    <tr>\n",
       "      <th>2</th>\n",
       "      <td>Arizona</td>\n",
       "      <td>AZ</td>\n",
       "    </tr>\n",
       "    <tr>\n",
       "      <th>3</th>\n",
       "      <td>Arkansas</td>\n",
       "      <td>AR</td>\n",
       "    </tr>\n",
       "    <tr>\n",
       "      <th>4</th>\n",
       "      <td>California</td>\n",
       "      <td>CA</td>\n",
       "    </tr>\n",
       "  </tbody>\n",
       "</table>\n",
       "</div>"
      ],
      "text/plain": [
       "        state abbreviation\n",
       "0     Alabama           AL\n",
       "1      Alaska           AK\n",
       "2     Arizona           AZ\n",
       "3    Arkansas           AR\n",
       "4  California           CA"
      ]
     },
     "execution_count": 12,
     "metadata": {},
     "output_type": "execute_result"
    }
   ],
   "source": [
    "# load the state_abbrevs here\n",
    "state_abbrev = pd.read_csv(\"./state_abbrevs.csv\")\n",
    "state_abbrev.head()"
   ]
  },
  {
   "cell_type": "markdown",
   "id": "2c139593",
   "metadata": {},
   "source": [
    "<font color='red'>**Question:**</font> Rank US ***states with full name*** by their 2010 population density. \n",
    "\n",
    "Note: \n",
    "1. Here the population density is the total population devided by area.\n",
    "1. You need to take care of missing values when merging data. In case of missing values, just drop them.\n",
    "1. The total population is the population with ``ages`` equals to ``total``."
   ]
  },
  {
   "cell_type": "code",
   "execution_count": 13,
   "id": "52909627",
   "metadata": {},
   "outputs": [
    {
     "data": {
      "text/plain": [
       "1     District of Columbia\n",
       "2               New Jersey\n",
       "3             Rhode Island\n",
       "4              Connecticut\n",
       "5            Massachusetts\n",
       "6                 Maryland\n",
       "7                 Delaware\n",
       "8                 New York\n",
       "9                  Florida\n",
       "10            Pennsylvania\n",
       "11                    Ohio\n",
       "12              California\n",
       "13                Illinois\n",
       "14                Virginia\n",
       "15                 Indiana\n",
       "16          North Carolina\n",
       "17                 Georgia\n",
       "18               Tennessee\n",
       "19          South Carolina\n",
       "20           New Hampshire\n",
       "21                  Hawaii\n",
       "22                Kentucky\n",
       "23                Michigan\n",
       "24              Washington\n",
       "25                   Texas\n",
       "26                 Alabama\n",
       "27               Louisiana\n",
       "28               Wisconsin\n",
       "29                Missouri\n",
       "30           West Virginia\n",
       "31                 Vermont\n",
       "32             Mississippi\n",
       "33               Minnesota\n",
       "34                 Arizona\n",
       "35                Arkansas\n",
       "36                    Iowa\n",
       "37                Oklahoma\n",
       "38                Colorado\n",
       "39                  Oregon\n",
       "40                   Maine\n",
       "41                  Kansas\n",
       "42                    Utah\n",
       "43                  Nevada\n",
       "44                Nebraska\n",
       "45                   Idaho\n",
       "46              New Mexico\n",
       "47            South Dakota\n",
       "48            North Dakota\n",
       "49                 Montana\n",
       "50                 Wyoming\n",
       "51                  Alaska\n",
       "dtype: object"
      ]
     },
     "execution_count": 13,
     "metadata": {},
     "output_type": "execute_result"
    }
   ],
   "source": [
    "df1 = state_population[(state_population['year'] == 2010) & (state_population['ages'] == 'total')]\n",
    "df2 = pd.merge(state_areas, state_abbrev, on = 'state', how='inner')\n",
    "df3 = pd.merge(df1, df2, left_on = 'state/region',right_on = 'abbreviation')\n",
    "df3['population_density']= df3['population']/df3['area (sq. mi)']\n",
    "df4 = df3.sort_values(by=\"population_density\",ascending=False)\n",
    "rank = pd.Series(df4['state'].values, index = range(1, len(df4['state'].values)+1))\n",
    "rank"
   ]
  },
  {
   "cell_type": "markdown",
   "id": "e27a019f",
   "metadata": {},
   "source": [
    "<font color='red'>**Question:**</font> Question: For each age category, calculate the average and standard deviations of the yearly population density for each states."
   ]
  },
  {
   "cell_type": "code",
   "execution_count": 124,
   "id": "2fb3f159",
   "metadata": {},
   "outputs": [
    {
     "name": "stdout",
     "output_type": "stream",
     "text": [
      "Alabama\n",
      "average:  [85.54504464]\n",
      "standard deviations:  [4.48672079]\n",
      "\n",
      "Alaska\n",
      "average:  [0.98443056]\n",
      "standard deviations:  [0.07798328]\n",
      "\n",
      "Arizona\n",
      "average:  [46.4414139]\n",
      "standard deviations:  [8.38520254]\n",
      "\n",
      "Arkansas\n",
      "average:  [50.64077445]\n",
      "standard deviations:  [3.53527702]\n",
      "\n",
      "California\n",
      "average:  [209.72919454]\n",
      "standard deviations:  [15.8180954]\n",
      "\n",
      "Colorado\n",
      "average:  [41.87697606]\n",
      "standard deviations:  [5.71794442]\n",
      "\n",
      "Connecticut\n",
      "average:  [620.65345418]\n",
      "standard deviations:  [19.63944588]\n",
      "\n",
      "Delaware\n",
      "average:  [410.93777721]\n",
      "standard deviations:  [41.13591629]\n",
      "\n",
      "District of Columbia\n",
      "average:  [8633.37193627]\n",
      "standard deviations:  [326.75070425]\n",
      "\n",
      "Florida\n",
      "average:  [250.86746353]\n",
      "standard deviations:  [31.57396559]\n",
      "\n",
      "Georgia\n",
      "average:  [140.92096435]\n",
      "standard deviations:  [18.82149957]\n",
      "\n",
      "Hawaii\n",
      "average:  [114.88692981]\n",
      "standard deviations:  [7.60150267]\n",
      "\n",
      "Idaho\n",
      "average:  [15.99596166]\n",
      "standard deviations:  [2.26196029]\n",
      "\n",
      "Illinois\n",
      "average:  [213.59156983]\n",
      "standard deviations:  [7.52067665]\n",
      "\n",
      "Indiana\n",
      "average:  [168.10029517]\n",
      "standard deviations:  [8.5371983]\n",
      "\n",
      "Iowa\n",
      "average:  [52.20584411]\n",
      "standard deviations:  [1.57735088]\n",
      "\n",
      "Kansas\n",
      "average:  [32.8376189]\n",
      "standard deviations:  [1.48790952]\n",
      "\n",
      "Kentucky\n",
      "average:  [100.87165726]\n",
      "standard deviations:  [5.42128799]\n",
      "\n",
      "Louisiana\n",
      "average:  [85.66104553]\n",
      "standard deviations:  [2.1792384]\n",
      "\n",
      "Maine\n",
      "average:  [36.36693913]\n",
      "standard deviations:  [1.07171045]\n",
      "\n",
      "Maryland\n",
      "average:  [434.17355122]\n",
      "standard deviations:  [27.84434006]\n",
      "\n",
      "Massachusetts\n",
      "average:  [600.47389863]\n",
      "standard deviations:  [19.23288752]\n",
      "\n",
      "Michigan\n",
      "average:  [101.50434442]\n",
      "standard deviations:  [2.22784941]\n",
      "\n",
      "Minnesota\n",
      "average:  [56.96675073]\n",
      "standard deviations:  [3.65069477]\n",
      "\n",
      "Mississippi\n",
      "average:  [58.42593099]\n",
      "standard deviations:  [2.65853345]\n",
      "\n",
      "Missouri\n",
      "average:  [80.90059868]\n",
      "standard deviations:  [4.18278658]\n",
      "\n",
      "Montana\n",
      "average:  [6.22907543]\n",
      "standard deviations:  [0.42072013]\n",
      "\n",
      "Nebraska\n",
      "average:  [22.32247796]\n",
      "standard deviations:  [1.07884851]\n",
      "\n",
      "Nevada\n",
      "average:  [18.96455731]\n",
      "standard deviations:  [4.77318183]\n",
      "\n",
      "New Hampshire\n",
      "average:  [132.4609712]\n",
      "standard deviations:  [8.36129029]\n",
      "\n",
      "New Jersey\n",
      "average:  [965.45414851]\n",
      "standard deviations:  [41.07651511]\n",
      "\n",
      "New Mexico\n",
      "average:  [15.20562964]\n",
      "standard deviations:  [1.41690498]\n",
      "\n",
      "New York\n",
      "average:  [347.42184641]\n",
      "standard deviations:  [8.44976999]\n",
      "\n",
      "North Carolina\n",
      "average:  [153.85648105]\n",
      "standard deviations:  [18.85188158]\n",
      "\n",
      "North Dakota\n",
      "average:  [9.24923979]\n",
      "standard deviations:  [0.30758449]\n",
      "\n",
      "Ohio\n",
      "average:  [253.01995405]\n",
      "standard deviations:  [4.5208124]\n",
      "\n",
      "Oklahoma\n",
      "average:  [49.92454008]\n",
      "standard deviations:  [2.96129027]\n",
      "\n",
      "Oregon\n",
      "average:  [35.18929565]\n",
      "standard deviations:  [3.28142296]\n",
      "\n",
      "Pennsylvania\n",
      "average:  [268.56566358]\n",
      "standard deviations:  [5.49399157]\n",
      "\n",
      "Rhode Island\n",
      "average:  [674.65585221]\n",
      "standard deviations:  [14.02893129]\n",
      "\n",
      "South Carolina\n",
      "average:  [128.76930697]\n",
      "standard deviations:  [12.44046411]\n",
      "\n",
      "South Dakota\n",
      "average:  [9.92518467]\n",
      "standard deviations:  [0.52597342]\n",
      "\n",
      "Tennessee\n",
      "average:  [136.68296813]\n",
      "standard deviations:  [11.77778268]\n",
      "\n",
      "Texas\n",
      "average:  [80.439992]\n",
      "standard deviations:  [10.81812986]\n",
      "\n",
      "Utah\n",
      "average:  [27.33732412]\n",
      "standard deviations:  [4.1982597]\n",
      "\n",
      "Vermont\n",
      "average:  [63.04859594]\n",
      "standard deviations:  [2.13026723]\n",
      "\n",
      "Virginia\n",
      "average:  [169.47555083]\n",
      "standard deviations:  [14.82478517]\n",
      "\n",
      "Washington\n",
      "average:  [84.18427112]\n",
      "standard deviations:  [8.580093]\n",
      "\n",
      "West Virginia\n",
      "average:  [75.25179006]\n",
      "standard deviations:  [0.78818455]\n",
      "\n",
      "Wisconsin\n",
      "average:  [82.40935339]\n",
      "standard deviations:  [3.90582315]\n",
      "\n",
      "Wyoming\n",
      "average:  [5.21711793]\n",
      "standard deviations:  [0.38881994]\n",
      "\n"
     ]
    }
   ],
   "source": [
    "d1 = state_population[state_population['ages'] == 'total']\n",
    "d2 = pd.merge(state_areas, state_abbrev, on = 'state', how='inner')\n",
    "d3 = pd.merge(d1, d2, left_on = 'state/region',right_on = 'abbreviation')\n",
    "d3['population_density']= d3['population']/d3['area (sq. mi)']\n",
    "for state in np.unique(d3['state']):\n",
    "    d4 = d3.loc[d3[\"state\"] == state, [\"population_density\"]]\n",
    "    print(str(state))\n",
    "    print(\"average: \",d4.mean().values)\n",
    "    print(\"standard deviations: \",d4.std().values)\n",
    "    print()"
   ]
  },
  {
   "cell_type": "markdown",
   "id": "2e4ed79b",
   "metadata": {},
   "source": [
    "# The end"
   ]
  }
 ],
 "metadata": {
  "kernelspec": {
   "display_name": "Python 3 (ipykernel)",
   "language": "python",
   "name": "python3"
  },
  "language_info": {
   "codemirror_mode": {
    "name": "ipython",
    "version": 3
   },
   "file_extension": ".py",
   "mimetype": "text/x-python",
   "name": "python",
   "nbconvert_exporter": "python",
   "pygments_lexer": "ipython3",
   "version": "3.10.9"
  },
  "toc": {
   "base_numbering": 1,
   "nav_menu": {},
   "number_sections": true,
   "sideBar": true,
   "skip_h1_title": false,
   "title_cell": "Table of Contents",
   "title_sidebar": "Contents",
   "toc_cell": false,
   "toc_position": {},
   "toc_section_display": true,
   "toc_window_display": false
  }
 },
 "nbformat": 4,
 "nbformat_minor": 5
}
