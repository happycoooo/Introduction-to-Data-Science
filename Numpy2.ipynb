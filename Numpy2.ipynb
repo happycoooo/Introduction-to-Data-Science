{
 "cells": [
  {
   "cell_type": "code",
   "execution_count": 2,
   "id": "bd20eea7",
   "metadata": {},
   "outputs": [],
   "source": [
    "import numpy as np\n",
    "import pandas as pd"
   ]
  },
  {
   "cell_type": "code",
   "execution_count": 7,
   "id": "6c53736b",
   "metadata": {},
   "outputs": [
    {
     "data": {
      "text/plain": [
       "array([[     1,      1,      0,     41,  40367,      0],\n",
       "       [     2,      1,      0,     54,  45084,      0],\n",
       "       [     3,      1,      0,     42,  52483,      0],\n",
       "       ...,\n",
       "       [149998,      7,      0,     26, 111885,      0],\n",
       "       [149999,      7,      0,     25, 111878,      0],\n",
       "       [150000,      7,      1,     37,  87251,      0]], dtype=int64)"
      ]
     },
     "execution_count": 7,
     "metadata": {},
     "output_type": "execute_result"
    }
   ],
   "source": [
    "#load data 以文本形式读入，对于不同的数据类型要做处理\n",
    "#datademographic_array = np.loadtxt('files/demographics.csv') # First attempt to load data\n",
    "datademographic_array = np.loadtxt('files/demographics.csv',skiprows=1, delimiter=',', dtype= 'int64') # Success!\n",
    "datademographic_array"
   ]
  },
  {
   "cell_type": "code",
   "execution_count": 8,
   "id": "79e72fbf",
   "metadata": {},
   "outputs": [
    {
     "data": {
      "text/html": [
       "<div>\n",
       "<style scoped>\n",
       "    .dataframe tbody tr th:only-of-type {\n",
       "        vertical-align: middle;\n",
       "    }\n",
       "\n",
       "    .dataframe tbody tr th {\n",
       "        vertical-align: top;\n",
       "    }\n",
       "\n",
       "    .dataframe thead th {\n",
       "        text-align: right;\n",
       "    }\n",
       "</style>\n",
       "<table border=\"1\" class=\"dataframe\">\n",
       "  <thead>\n",
       "    <tr style=\"text-align: right;\">\n",
       "      <th></th>\n",
       "      <th>ID</th>\n",
       "      <th>City</th>\n",
       "      <th>Gender</th>\n",
       "      <th>Age</th>\n",
       "      <th>Income</th>\n",
       "      <th>Illness</th>\n",
       "    </tr>\n",
       "  </thead>\n",
       "  <tbody>\n",
       "    <tr>\n",
       "      <th>0</th>\n",
       "      <td>1</td>\n",
       "      <td>1</td>\n",
       "      <td>0</td>\n",
       "      <td>41</td>\n",
       "      <td>40367</td>\n",
       "      <td>0</td>\n",
       "    </tr>\n",
       "    <tr>\n",
       "      <th>1</th>\n",
       "      <td>2</td>\n",
       "      <td>1</td>\n",
       "      <td>0</td>\n",
       "      <td>54</td>\n",
       "      <td>45084</td>\n",
       "      <td>0</td>\n",
       "    </tr>\n",
       "    <tr>\n",
       "      <th>2</th>\n",
       "      <td>3</td>\n",
       "      <td>1</td>\n",
       "      <td>0</td>\n",
       "      <td>42</td>\n",
       "      <td>52483</td>\n",
       "      <td>0</td>\n",
       "    </tr>\n",
       "    <tr>\n",
       "      <th>3</th>\n",
       "      <td>4</td>\n",
       "      <td>1</td>\n",
       "      <td>0</td>\n",
       "      <td>40</td>\n",
       "      <td>40941</td>\n",
       "      <td>0</td>\n",
       "    </tr>\n",
       "    <tr>\n",
       "      <th>4</th>\n",
       "      <td>5</td>\n",
       "      <td>1</td>\n",
       "      <td>0</td>\n",
       "      <td>46</td>\n",
       "      <td>50289</td>\n",
       "      <td>0</td>\n",
       "    </tr>\n",
       "  </tbody>\n",
       "</table>\n",
       "</div>"
      ],
      "text/plain": [
       "   ID  City  Gender  Age  Income  Illness\n",
       "0   1     1       0   41   40367        0\n",
       "1   2     1       0   54   45084        0\n",
       "2   3     1       0   42   52483        0\n",
       "3   4     1       0   40   40941        0\n",
       "4   5     1       0   46   50289        0"
      ]
     },
     "execution_count": 8,
     "metadata": {},
     "output_type": "execute_result"
    }
   ],
   "source": [
    "# load data\n",
    "datademographic = pd.read_csv('files/demographics.csv') # First attempt to load data\n",
    "datademographic.head()"
   ]
  },
  {
   "cell_type": "code",
   "execution_count": 9,
   "id": "5d935dda",
   "metadata": {},
   "outputs": [
    {
     "name": "stdout",
     "output_type": "stream",
     "text": [
      "(150000, 6)\n",
      "900000\n"
     ]
    }
   ],
   "source": [
    "print(datademographic.shape)\n",
    "print(datademographic.size)"
   ]
  },
  {
   "cell_type": "code",
   "execution_count": 17,
   "id": "321efd3d",
   "metadata": {},
   "outputs": [
    {
     "name": "stdout",
     "output_type": "stream",
     "text": [
      "ID\n",
      "150000\n",
      "1         1\n",
      "100013    1\n",
      "99997     1\n",
      "99998     1\n",
      "99999     1\n",
      "         ..\n",
      "50001     1\n",
      "50002     1\n",
      "50003     1\n",
      "50004     1\n",
      "150000    1\n",
      "Name: ID, Length: 150000, dtype: int64\n",
      "\n",
      "\n",
      "\n",
      "City\n",
      "150000\n",
      "2    50307\n",
      "3    32173\n",
      "1    19707\n",
      "4    14219\n",
      "7    12292\n",
      "5     8301\n",
      "6     8120\n",
      "8     4881\n",
      "Name: City, dtype: int64\n",
      "\n",
      "\n",
      "\n",
      "Gender\n",
      "150000\n",
      "0    83800\n",
      "1    66200\n",
      "Name: Gender, dtype: int64\n",
      "\n",
      "\n",
      "\n",
      "Age\n",
      "150000\n",
      "26    3918\n",
      "64    3879\n",
      "43    3862\n",
      "41    3862\n",
      "54    3838\n",
      "29    3805\n",
      "28    3798\n",
      "27    3790\n",
      "63    3784\n",
      "44    3782\n",
      "36    3780\n",
      "59    3775\n",
      "47    3773\n",
      "37    3771\n",
      "33    3769\n",
      "58    3762\n",
      "49    3762\n",
      "42    3760\n",
      "32    3759\n",
      "52    3753\n",
      "31    3749\n",
      "48    3743\n",
      "40    3740\n",
      "61    3737\n",
      "38    3734\n",
      "57    3732\n",
      "30    3731\n",
      "51    3729\n",
      "53    3724\n",
      "34    3710\n",
      "46    3707\n",
      "50    3692\n",
      "55    3687\n",
      "62    3684\n",
      "39    3675\n",
      "45    3670\n",
      "35    3658\n",
      "56    3602\n",
      "60    3582\n",
      "25    1868\n",
      "65    1864\n",
      "Name: Age, dtype: int64\n",
      "\n",
      "\n",
      "\n",
      "Income\n",
      "150000\n",
      "98410     15\n",
      "93808     13\n",
      "94606     13\n",
      "88730     12\n",
      "96376     12\n",
      "          ..\n",
      "91227      1\n",
      "119770     1\n",
      "81621      1\n",
      "117809     1\n",
      "77823      1\n",
      "Name: Income, Length: 71762, dtype: int64\n",
      "\n",
      "\n",
      "\n",
      "Illness\n",
      "150000\n",
      "0    137861\n",
      "1     12139\n",
      "Name: Illness, dtype: int64\n",
      "\n",
      "\n",
      "\n"
     ]
    }
   ],
   "source": [
    "for col in datademographic.columns:\n",
    "    print(col, \"\\n\", datademographic.loc[:,col].size, \"\\n\", datademographic.loc[:,col].value_counts(),  \"\\n\\n\\n\", sep = \"\")"
   ]
  },
  {
   "cell_type": "code",
   "execution_count": 23,
   "id": "6258f71b",
   "metadata": {},
   "outputs": [
    {
     "data": {
      "text/plain": [
       "(array([1, 2, 3, 4, 5, 6, 7, 8], dtype=int64),\n",
       " array([19707, 50307, 32173, 14219,  8301,  8120, 12292,  4881],\n",
       "       dtype=int64))"
      ]
     },
     "execution_count": 23,
     "metadata": {},
     "output_type": "execute_result"
    }
   ],
   "source": [
    "np.unique(datademographic_array[:,1], return_counts=True)"
   ]
  },
  {
   "cell_type": "code",
   "execution_count": 24,
   "id": "bb9b7557",
   "metadata": {},
   "outputs": [
    {
     "data": {
      "text/plain": [
       "(array([1, 2, 3, 4, 5, 6, 7, 8], dtype=int64),\n",
       " array([19707, 50307, 32173, 14219,  8301,  8120, 12292,  4881],\n",
       "       dtype=int64))"
      ]
     },
     "execution_count": 24,
     "metadata": {},
     "output_type": "execute_result"
    }
   ],
   "source": [
    "categories, counts = np.unique(datademographic_array[:,1], return_counts=True)\n",
    "categories,counts"
   ]
  },
  {
   "cell_type": "code",
   "execution_count": 22,
   "id": "d71c90ad",
   "metadata": {},
   "outputs": [
    {
     "name": "stdout",
     "output_type": "stream",
     "text": [
      "0 150000 (array([     1,      2,      3, ..., 149998, 149999, 150000], dtype=int64), array([1, 1, 1, ..., 1, 1, 1], dtype=int64)) \n",
      "\n",
      "1 8 (array([1, 2, 3, 4, 5, 6, 7, 8], dtype=int64), array([19707, 50307, 32173, 14219,  8301,  8120, 12292,  4881],\n",
      "      dtype=int64)) \n",
      "\n",
      "2 2 (array([0, 1], dtype=int64), array([83800, 66200], dtype=int64)) \n",
      "\n",
      "3 41 (array([25, 26, 27, 28, 29, 30, 31, 32, 33, 34, 35, 36, 37, 38, 39, 40, 41,\n",
      "       42, 43, 44, 45, 46, 47, 48, 49, 50, 51, 52, 53, 54, 55, 56, 57, 58,\n",
      "       59, 60, 61, 62, 63, 64, 65], dtype=int64), array([1868, 3918, 3790, 3798, 3805, 3731, 3749, 3759, 3769, 3710, 3658,\n",
      "       3780, 3771, 3734, 3675, 3740, 3862, 3760, 3862, 3782, 3670, 3707,\n",
      "       3773, 3743, 3762, 3692, 3729, 3753, 3724, 3838, 3687, 3602, 3732,\n",
      "       3762, 3775, 3582, 3737, 3684, 3784, 3879, 1864], dtype=int64)) \n",
      "\n",
      "4 71762 (array([        -654,          584,         2474, ..., 415240000000,\n",
      "       500820000000, 547770000000], dtype=int64), array([1, 1, 1, ..., 1, 1, 1], dtype=int64)) \n",
      "\n",
      "5 2 (array([0, 1], dtype=int64), array([137861,  12139], dtype=int64)) \n",
      "\n"
     ]
    }
   ],
   "source": [
    "for col in range(datademographic_array.shape[1]):\n",
    "    print(col, np.unique(datademographic_array[:,col]).size, np.unique(datademographic_array[:,col], return_counts = True), \"\\n\")"
   ]
  },
  {
   "cell_type": "markdown",
   "id": "9f207c42",
   "metadata": {},
   "source": [
    " 随机抽取数字组成数组 numpy.random.choice(a, size=None, replace=True, p=None)\n",
    "    从a(只要是ndarray都可以，但必须是一维的)中随机抽取数字，并组成指定大小(size)的数组\n",
    "    replace:True表示可以取相同数字，False表示不可以取相同数字\n",
    "    数组p：与数组a相对应，表示取数组a中每个元素的概率，默认为选取每个元素的概率相同。"
   ]
  },
  {
   "cell_type": "code",
   "execution_count": null,
   "id": "e0271a9e",
   "metadata": {},
   "outputs": [],
   "source": []
  },
  {
   "cell_type": "code",
   "execution_count": null,
   "id": "628e5e51",
   "metadata": {},
   "outputs": [],
   "source": []
  },
  {
   "cell_type": "code",
   "execution_count": null,
   "id": "98c3663d",
   "metadata": {},
   "outputs": [],
   "source": []
  },
  {
   "cell_type": "code",
   "execution_count": null,
   "id": "e563c83e",
   "metadata": {},
   "outputs": [],
   "source": []
  },
  {
   "cell_type": "code",
   "execution_count": null,
   "id": "37a29f06",
   "metadata": {},
   "outputs": [],
   "source": []
  },
  {
   "cell_type": "code",
   "execution_count": null,
   "id": "eaead1ca",
   "metadata": {},
   "outputs": [],
   "source": []
  },
  {
   "cell_type": "code",
   "execution_count": null,
   "id": "8147df62",
   "metadata": {},
   "outputs": [],
   "source": []
  },
  {
   "cell_type": "code",
   "execution_count": null,
   "id": "856c1e35",
   "metadata": {},
   "outputs": [],
   "source": []
  },
  {
   "cell_type": "code",
   "execution_count": null,
   "id": "6d264621",
   "metadata": {},
   "outputs": [],
   "source": []
  }
 ],
 "metadata": {
  "kernelspec": {
   "display_name": "Python 3 (ipykernel)",
   "language": "python",
   "name": "python3"
  },
  "language_info": {
   "codemirror_mode": {
    "name": "ipython",
    "version": 3
   },
   "file_extension": ".py",
   "mimetype": "text/x-python",
   "name": "python",
   "nbconvert_exporter": "python",
   "pygments_lexer": "ipython3",
   "version": "3.9.12"
  }
 },
 "nbformat": 4,
 "nbformat_minor": 5
}
