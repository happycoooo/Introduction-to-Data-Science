{
 "cells": [
  {
   "cell_type": "markdown",
   "id": "8bb0b653",
   "metadata": {},
   "source": [
    "<p style=\"font-size:15pt; text-align:center\">\n",
    "    Introduction to Data Science\n",
    "</p>\n",
    "<p style=\"font-size:20pt; text-align:center\">\n",
    "    Data Collection\n",
    "</p>"
   ]
  },
  {
   "cell_type": "code",
   "execution_count": 1,
   "id": "c52b21eb",
   "metadata": {
    "ExecuteTime": {
     "end_time": "2022-12-13T08:10:32.573127Z",
     "start_time": "2022-12-13T08:10:31.786473Z"
    }
   },
   "outputs": [],
   "source": [
    "import pandas as pd\n",
    "import requests"
   ]
  },
  {
   "cell_type": "markdown",
   "id": "932d0758",
   "metadata": {},
   "source": [
    "# HTTP"
   ]
  },
  {
   "cell_type": "markdown",
   "id": "4718b345",
   "metadata": {},
   "source": [
    "The Python `requests` library allows us to make HTTP requests in Python. "
   ]
  },
  {
   "cell_type": "code",
   "execution_count": 4,
   "id": "249ff428",
   "metadata": {
    "ExecuteTime": {
     "end_time": "2022-12-13T08:10:35.693505Z",
     "start_time": "2022-12-13T08:10:34.713419Z"
    }
   },
   "outputs": [
    {
     "data": {
      "text/plain": [
       "<Response [200]>"
      ]
     },
     "execution_count": 4,
     "metadata": {},
     "output_type": "execute_result"
    }
   ],
   "source": [
    "url = \"https://httpbin.org/html\"\n",
    "response = requests.get(url)\n",
    "response"
   ]
  },
  {
   "cell_type": "markdown",
   "id": "fcf29765",
   "metadata": {},
   "source": [
    "## The Request"
   ]
  },
  {
   "cell_type": "markdown",
   "id": "342ef757",
   "metadata": {},
   "source": [
    "Let’s take a closer look at the request we made. We can access the original request using `response` object; we display the request’s HTTP headers below:"
   ]
  },
  {
   "cell_type": "code",
   "execution_count": 3,
   "id": "8c93b9e6",
   "metadata": {
    "ExecuteTime": {
     "end_time": "2022-12-13T08:23:39.425256Z",
     "start_time": "2022-12-13T08:23:39.414257Z"
    }
   },
   "outputs": [
    {
     "name": "stdout",
     "output_type": "stream",
     "text": [
      "User-Agent: python-requests/2.27.1\n",
      "Accept-Encoding: gzip, deflate, br\n",
      "Accept: */*\n",
      "Connection: keep-alive\n"
     ]
    }
   ],
   "source": [
    "request = response.request\n",
    "for key in request.headers: # The headers in the response are stored as a dictionary.\n",
    "    print(f'{key}: {request.headers[key]}')"
   ]
  },
  {
   "cell_type": "markdown",
   "id": "5a653e71",
   "metadata": {},
   "source": [
    "Every HTTP request has a type. In this case, we used a `GET` request which retrieves information from a server."
   ]
  },
  {
   "cell_type": "code",
   "execution_count": 5,
   "id": "6bf9fa9b",
   "metadata": {
    "ExecuteTime": {
     "end_time": "2022-12-13T08:23:41.547922Z",
     "start_time": "2022-12-13T08:23:41.541921Z"
    }
   },
   "outputs": [
    {
     "data": {
      "text/plain": [
       "'GET'"
      ]
     },
     "execution_count": 5,
     "metadata": {},
     "output_type": "execute_result"
    }
   ],
   "source": [
    "request.method"
   ]
  },
  {
   "cell_type": "markdown",
   "id": "d35cac22",
   "metadata": {},
   "source": [
    "## The Response"
   ]
  },
  {
   "cell_type": "markdown",
   "id": "46d9c26c",
   "metadata": {},
   "source": [
    "Let’s examine the response we received from the server. First, we will print the response’s HTTP headers."
   ]
  },
  {
   "cell_type": "code",
   "execution_count": 6,
   "id": "7854085a",
   "metadata": {
    "ExecuteTime": {
     "end_time": "2022-12-13T08:24:00.892481Z",
     "start_time": "2022-12-13T08:24:00.874481Z"
    }
   },
   "outputs": [
    {
     "name": "stdout",
     "output_type": "stream",
     "text": [
      "Date: Wed, 14 Dec 2022 09:28:04 GMT\n",
      "Content-Type: text/html; charset=utf-8\n",
      "Content-Length: 3741\n",
      "Connection: keep-alive\n",
      "Server: gunicorn/19.9.0\n",
      "Access-Control-Allow-Origin: *\n",
      "Access-Control-Allow-Credentials: true\n"
     ]
    }
   ],
   "source": [
    "for key in response.headers:\n",
    "    print(f'{key}: {response.headers[key]}')"
   ]
  },
  {
   "cell_type": "markdown",
   "id": "869394ee",
   "metadata": {},
   "source": [
    "An HTTP response contains a status code, a special number that indicates whether the request succeeded or failed. The status code `200` indicates that the request succeeded."
   ]
  },
  {
   "cell_type": "code",
   "execution_count": 7,
   "id": "02e95f0d",
   "metadata": {
    "ExecuteTime": {
     "end_time": "2022-12-13T08:24:05.144344Z",
     "start_time": "2022-12-13T08:24:05.126345Z"
    }
   },
   "outputs": [
    {
     "data": {
      "text/plain": [
       "200"
      ]
     },
     "execution_count": 7,
     "metadata": {},
     "output_type": "execute_result"
    }
   ],
   "source": [
    "response.status_code"
   ]
  },
  {
   "cell_type": "markdown",
   "id": "5fa2bb83",
   "metadata": {},
   "source": [
    "Finally, we display the first 100 characters of the response’s content (the entire response content is too long to display nicely here)."
   ]
  },
  {
   "cell_type": "code",
   "execution_count": 8,
   "id": "6d2abb2e",
   "metadata": {
    "ExecuteTime": {
     "end_time": "2022-12-13T08:24:09.215887Z",
     "start_time": "2022-12-13T08:24:09.197887Z"
    }
   },
   "outputs": [
    {
     "data": {
      "text/plain": [
       "\"<!DOCTYPE html>\\n<html>\\n  <head>\\n  </head>\\n  <body>\\n      <h1>Herman Melville - Moby-Dick</h1>\\n\\n      <div>\\n        <p>\\n          Availing himself of the mild, summer-cool weather that now reigned in these latitudes, and in preparation for the peculiarly active pursuits shortly to be anticipated, Perth, the begrimed, blistered old blacksmith, had not removed his portable forge to the hold again, after concluding his contributory work for Ahab's leg, but still retained it on deck, fast lashed to ringbolts by the foremast; being now almost incessantly invoked by the headsmen, and harpooneers, and bowsmen to do some little job for them; altering, or repairing, or new shaping their various weapons and boat furniture. Often he would be surrounded by an eager circle, all waiting to be served; holding boat-spades, pike-heads, harpoons, and lances, and jealously watching his every sooty movement, as he toiled. Nevertheless, this old man's was a patient hammer wielded by a patient arm. No murmur, no impatience, no petulance did come from him. Silent, slow, and solemn; bowing over still further his chronically broken back, he toiled away, as if toil were life itself, and the heavy beating of his hammer the heavy beating of his heart. And so it was.—Most miserable! A peculiar walk in this old man, a certain slight but painful appearing yawing in his gait, had at an early period of the voyage excited the curiosity of the mariners. And to the importunity of their persisted questionings he had finally given in; and so it came to pass that every one now knew the shameful story of his wretched fate. Belated, and not innocently, one bitter winter's midnight, on the road running between two country towns, the blacksmith half-stupidly felt the deadly numbness stealing over him, and sought refuge in a leaning, dilapidated barn. The issue was, the loss of the extremities of both feet. Out of this revelation, part by part, at last came out the four acts of the gladness, and the one long, and as yet uncatastrophied fifth act of the grief of his life's drama. He was an old man, who, at the age of nearly sixty, had postponedly encountered that thing in sorrow's technicals called ruin. He had been an artisan of famed excellence, and with plenty to do; owned a house and garden; embraced a youthful, daughter-like, loving wife, and three blithe, ruddy children; every Sunday went to a cheerful-looking church, planted in a grove. But one night, under cover of darkness, and further concealed in a most cunning disguisement, a desperate burglar slid into his happy home, and robbed them all of everything. And darker yet to tell, the blacksmith himself did ignorantly conduct this burglar into his family's heart. It was the Bottle Conjuror! Upon the opening of that fatal cork, forth flew the fiend, and shrivelled up his home. Now, for prudent, most wise, and economic reasons, the blacksmith's shop was in the basement of his dwelling, but with a separate entrance to it; so that always had the young and loving healthy wife listened with no unhappy nervousness, but with vigorous pleasure, to the stout ringing of her young-armed old husband's hammer; whose reverberations, muffled by passing through the floors and walls, came up to her, not unsweetly, in her nursery; and so, to stout Labor's iron lullaby, the blacksmith's infants were rocked to slumber. Oh, woe on woe! Oh, Death, why canst thou not sometimes be timely? Hadst thou taken this old blacksmith to thyself ere his full ruin came upon him, then had the young widow had a delicious grief, and her orphans a truly venerable, legendary sire to dream of in their after years; and all of them a care-killing competency.\\n        </p>\\n      </div>\\n  </body>\\n</html>\""
      ]
     },
     "execution_count": 8,
     "metadata": {},
     "output_type": "execute_result"
    }
   ],
   "source": [
    "response.text"
   ]
  },
  {
   "cell_type": "markdown",
   "id": "6fe813b2",
   "metadata": {},
   "source": [
    "## Types of Requests"
   ]
  },
  {
   "cell_type": "markdown",
   "id": "223d3e13",
   "metadata": {},
   "source": [
    "### GET Requests"
   ]
  },
  {
   "cell_type": "markdown",
   "id": "8b170302",
   "metadata": {},
   "source": [
    "The `GET` request is used to retrieve information from the server. Since your web browser makes GET request whenever you enter in a URL into its address bar, `GET` requests are the most common type of HTTP requests."
   ]
  },
  {
   "cell_type": "markdown",
   "id": "ea6b0c39",
   "metadata": {},
   "source": [
    "### POST Request"
   ]
  },
  {
   "cell_type": "markdown",
   "id": "80f53130",
   "metadata": {},
   "source": [
    "The `POST` request is used to send information from the client to the server. For example, some web pages contain forms for the user to fill out—a login form, for example. After clicking the “Submit” button, most web browsers will make a `POST` request to send the form data to the server for processing."
   ]
  },
  {
   "cell_type": "markdown",
   "id": "5da8234d",
   "metadata": {},
   "source": [
    "### Types of Response Status Codes"
   ]
  },
  {
   "cell_type": "markdown",
   "id": "7b1b5766",
   "metadata": {},
   "source": [
    "* ***100s*** - Informational: More input is expected from client or server (e.g. 100 Continue, 102 Processing)\n",
    "\n",
    "* ***200s*** - Success: The client’s request was successful (e.g. 200 OK, 202 Accepted)\n",
    "\n",
    "* ***300s*** - Redirection: Requested URL is located elsewhere; May need user’s further action (e.g. 300 Multiple Choices, 301 Moved Permanently)\n",
    "\n",
    "* ***400s*** - Client Error: Client-side error (e.g. 400 Bad Request, 403 Forbidden, 404 Not Found)\n",
    "\n",
    "* ***500s*** - Server Error: Server-side error or server is incapable of performing the request (e.g. 500 Internal Server Error, 503 Service Unavailable)"
   ]
  },
  {
   "cell_type": "markdown",
   "id": "4b8d71b9",
   "metadata": {},
   "source": [
    "# Web Crawler"
   ]
  },
  {
   "cell_type": "markdown",
   "id": "a5c094a4",
   "metadata": {},
   "source": [
    "## get the html content"
   ]
  },
  {
   "cell_type": "code",
   "execution_count": 9,
   "id": "ad30cab3",
   "metadata": {
    "ExecuteTime": {
     "end_time": "2022-12-13T08:25:19.415789Z",
     "start_time": "2022-12-13T08:25:19.242109Z"
    }
   },
   "outputs": [],
   "source": [
    "url = 'https://vp.fact.qq.com/home'\n",
    "content = requests.get(url)"
   ]
  },
  {
   "cell_type": "code",
   "execution_count": 12,
   "id": "2a175d0d",
   "metadata": {},
   "outputs": [
    {
     "data": {
      "text/plain": [
       "<Response [200]>"
      ]
     },
     "execution_count": 12,
     "metadata": {},
     "output_type": "execute_result"
    }
   ],
   "source": [
    "content"
   ]
  },
  {
   "cell_type": "code",
   "execution_count": 13,
   "id": "3f8320e5",
   "metadata": {
    "ExecuteTime": {
     "end_time": "2022-12-13T08:25:20.981848Z",
     "start_time": "2022-12-13T08:25:20.971842Z"
    }
   },
   "outputs": [
    {
     "name": "stdout",
     "output_type": "stream",
     "text": [
      "Help on function get in module requests.api:\n",
      "\n",
      "get(url, params=None, **kwargs)\n",
      "    Sends a GET request.\n",
      "    \n",
      "    :param url: URL for the new :class:`Request` object.\n",
      "    :param params: (optional) Dictionary, list of tuples or bytes to send\n",
      "        in the query string for the :class:`Request`.\n",
      "    :param \\*\\*kwargs: Optional arguments that ``request`` takes.\n",
      "    :return: :class:`Response <Response>` object\n",
      "    :rtype: requests.Response\n",
      "\n"
     ]
    }
   ],
   "source": [
    "help(requests.get)"
   ]
  },
  {
   "cell_type": "code",
   "execution_count": 14,
   "id": "9a5c0c80",
   "metadata": {
    "ExecuteTime": {
     "end_time": "2022-12-13T08:25:25.770992Z",
     "start_time": "2022-12-13T08:25:25.750993Z"
    }
   },
   "outputs": [
    {
     "data": {
      "text/plain": [
       "'<!DOCTYPE html><html lang=\"zh-CN\"><head><meta charSet=\"utf-8\"/><meta name=\"description\" content=\"查真假，就上腾讯新闻较真平台\"/><title>腾讯较真实时辟谣</title><meta name=\"apple-mobile-web-app-capable\" content=\"yes\"/><meta name=\"browsermode\" content=\"application\"/><meta name=\"viewport\" content=\"width=device-width, initial-scale=1.0, minimum-scale=1.0, maximum-scale=1.0, user-scalable=no\"/><meta name=\"next-head-count\" content=\"6\"/><script src=\"https://beacon.cdn.qq.com/sdk/4.5.9/beacon_web.min.js\"></script><script src=\"https://mat1.gtimg.com/www/js/emonitor/custom_e439ff7f.js\" charSet=\"utf-8\"></script><link rel=\"preload\" href=\"https://tnfe.gtimg.com/jiaozhen/h5ssr/_next/static/css/e930cd01eea79c4b.css\" as=\"style\"/><link rel=\"stylesheet\" href=\"https://tnfe.gtimg.com/jiaozhen/h5ssr/_next/static/css/e930cd01eea79c4b.css\" data-n-g=\"\"/><link rel=\"preload\" href=\"https://tnfe.gtimg.com/jiaozhen/h5ssr/_next/static/css/a9a2977851c84c91.css\" as=\"style\"/><link rel=\"stylesheet\" href=\"https://tnfe.gtimg.com/jiaozhen/h5ssr/_next/static/css/a9a2977851c84c91.css\" data-n-p=\"\"/><noscript data-n-css=\"\"></noscript><script defer=\"\" nomodule=\"\" src=\"https://tnfe.gtimg.com/jiaozhen/h5ssr/_next/static/chunks/polyfills-5cd94c89d3acac5f.js\"></script><script src=\"https://tnfe.gtimg.com/jiaozhen/h5ssr/_next/static/chunks/webpack-ad999b52c4806be9.js\" defer=\"\"></script><script src=\"https://tnfe.gtimg.com/jiaozhen/h5ssr/_next/static/chunks/framework-a87821de553db91d.js\" defer=\"\"></script><script src=\"https://tnfe.gtimg.com/jiaozhen/h5ssr/_next/static/chunks/main-b71241d05b0b7894.js\" defer=\"\"></script><script src=\"https://tnfe.gtimg.com/jiaozhen/h5ssr/_next/static/chunks/pages/_app-59c4c0632fdbdc31.js\" defer=\"\"></script><script src=\"https://tnfe.gtimg.com/jiaozhen/h5ssr/_next/static/chunks/411-06acadaecf47fb1a.js\" defer=\"\"></script><script src=\"https://tnfe.gtimg.com/jiaozhen/h5ssr/_next/static/chunks/289-7847df664503be45.js\" defer=\"\"></script><script src=\"https://tnfe.gtimg.com/jiaozhen/h5ssr/_next/static/chunks/308-a91b3c3728c15d59.js\" defer=\"\"></script><script src=\"https://tnfe.gtimg.com/jiaozhen/h5ssr/_next/static/chunks/392-91c0d71753455ac9.js\" defer=\"\"></script><script src=\"https://tnfe.gtimg.com/jiaozhen/h5ssr/_next/static/chunks/pages/home-6e480299d9a15d1f.js\" defer=\"\"></script><script src=\"https://tnfe.gtimg.com/jiaozhen/h5ssr/_next/static/5wr92_GIrQETxvS-evl6n/_buildManifest.js\" defer=\"\"></script><script src=\"https://tnfe.gtimg.com/jiaozhen/h5ssr/_next/static/5wr92_GIrQETxvS-evl6n/_ssgManifest.js\" defer=\"\"></script><script src=\"https://tnfe.gtimg.com/jiaozhen/h5ssr/_next/static/5wr92_GIrQETxvS-evl6n/_middlewareManifest.js\" defer=\"\"></script></head><body><div id=\"__next\"><div class=\"home_container__6BLKx\"><div class=\"maskComponent_container__15AGy\"></div><div class=\"adm-pull-to-refresh\"><div style=\"height:0\" class=\"adm-pull-to-refresh-head\"><div class=\"adm-pull-to-refresh-head-content\" style=\"height:40px\">下拉刷新</div></div><div class=\"adm-pull-to-refresh-content\"><div class=\"home_homeContainer__iZ6w9 home_isSticky__d6BTO\"><div class=\"home_bannerMain__dTBBO home_bannerMainNoneImg__A5wFM\" style=\"height:9.5rem\"><img class=\"home_positionLogo__lDuKi\" src=\"https://new.inews.gtimg.com/tnews/896f8970/9642/896f8970-9642-48da-ae00-23b13a5916f2.png\" alt=\"top banner img\"/><div class=\"home_logo__tgAEv\"></div><img src=\"https://new.inews.gtimg.com/tnews/bd7ac180/2902/bd7ac180-2902-4c84-9695-a6fe20a6de49.png\" alt=\"tencentnews logo\" class=\"home_logo__tgAEv\"/><div class=\"home_logoTitle__itUgl\"><img src=\"https://new.inews.gtimg.com/tnews/36b75b08/753e/36b75b08-753e-498d-91b7-a439a482346b.png\" class=\"home_topBannerTitle__62hxo\" alt=\"home ask title logo\"/></div><div><div class=\"home_searchBox__zJnfa\"><div class=\"home_searchMain__S_38D\"><div class=\"inputSwiper_swiperMain__m6tzV\"><img src=\"https://new.inews.gtimg.com/tnews/023ad3dd/4df6/023ad3dd-4df6-4819-a717-7ce10feeac16.png\" alt=\"swiper img\" class=\"inputSwiper_swiperSearchIcon__Z_9ht\"/></div></div><div class=\"home_askQuestions__UepuE\"><span style=\"width:calc(100% / 3 + 3px);text-align:center\"><div class=\"home_defaultTab__FBZbH\"><p><a class=\"\">向较真提问</a></p></div></span><span style=\"width:calc(100% / 3);text-align:center\" class=\"home_tabListLine__9KGc3\"><a href=\"https://news.qq.com//zt2020/page/feiyan.htm\">疫情数据</a></span><span style=\"width:calc(100% / 3);text-align:center\" class=\"home_tabListLine__9KGc3\"><a href=\"https://news.qq.com/elk/publish/elk_63918c6afb94c78a41209f4d.html\">防护手册</a></span></div></div><div class=\"home_fixedHeader___tokp\"><div class=\"commonHeader_commonHeaderMian__AN9Zf\"><div class=\"commonHeader_header__OiJWz\"><div class=\"commonHeader_HomePath__KXDMa\"><span style=\"box-sizing:border-box;display:inline-block;overflow:hidden;width:initial;height:initial;background:none;opacity:1;border:0;margin:0;padding:0;position:relative;max-width:100%\"><span style=\"box-sizing:border-box;display:block;width:initial;height:initial;background:none;opacity:1;border:0;margin:0;padding:0;max-width:100%\"><img style=\"display:block;max-width:100%;width:initial;height:initial;background:none;opacity:1;border:0;margin:0;padding:0\" alt=\"\" aria-hidden=\"true\" src=\"data:image/svg+xml,%3csvg%20xmlns=%27http://www.w3.org/2000/svg%27%20version=%271.1%27%20width=%2710%27%20height=%2718%27/%3e\"/></span><img alt=\"back icon\" src=\"data:image/gif;base64,R0lGODlhAQABAIAAAAAAAP///yH5BAEAAAAALAAAAAABAAEAAAIBRAA7\" decoding=\"async\" data-nimg=\"intrinsic\" style=\"position:absolute;top:0;left:0;bottom:0;right:0;box-sizing:border-box;padding:0;border:none;margin:auto;display:block;width:0;height:0;min-width:100%;max-width:100%;min-height:100%;max-height:100%\"/><noscript><img alt=\"back icon\" srcSet=\"/_next/image?url=https%3A%2F%2Fnew.inews.gtimg.com%2Ftnews%2F4d5d6e36%2F64ee%2F4d5d6e36-64ee-4c87-b65b-f5eceaf75135.png&amp;w=16&amp;q=75 1x, /_next/image?url=https%3A%2F%2Fnew.inews.gtimg.com%2Ftnews%2F4d5d6e36%2F64ee%2F4d5d6e36-64ee-4c87-b65b-f5eceaf75135.png&amp;w=32&amp;q=75 2x\" src=\"/_next/image?url=https%3A%2F%2Fnew.inews.gtimg.com%2Ftnews%2F4d5d6e36%2F64ee%2F4d5d6e36-64ee-4c87-b65b-f5eceaf75135.png&amp;w=32&amp;q=75\" decoding=\"async\" data-nimg=\"intrinsic\" style=\"position:absolute;top:0;left:0;bottom:0;right:0;box-sizing:border-box;padding:0;border:none;margin:auto;display:block;width:0;height:0;min-width:100%;max-width:100%;min-height:100%;max-height:100%\" loading=\"lazy\"/></noscript></span></div><div class=\"\"><img src=\"https://new.inews.gtimg.com/tnews/023ad3dd/4df6/023ad3dd-4df6-4819-a717-7ce10feeac16.png\" alt=\"swiper img\" class=\"inputSwiper_swiperSearchIcon__Z_9ht\"/></div><span class=\"commonHeader_searchText__Wn_fF\">搜索</span></div></div></div></div></div><div class=\"\"><div class=\"home_questionTabMain__Y9_kM\"><div class=\"adm-tabs\"><div class=\"adm-tabs-header\"><div class=\"adm-tabs-header-mask adm-tabs-header-mask-left\" style=\"opacity:0\"></div><div class=\"adm-tabs-header-mask adm-tabs-header-mask-right\" style=\"opacity:0\"></div><div class=\"adm-tabs-tab-list\"><div class=\"adm-tabs-tab-line\" style=\"width:0;transform:none\"></div><div class=\"adm-tabs-tab-wrapper adm-tabs-tab-wrapper-stretch\"><div class=\"adm-tabs-tab adm-tabs-tab-active\">全部内容</div></div><div class=\"adm-tabs-tab-wrapper adm-tabs-tab-wrapper-stretch\"><div class=\"adm-tabs-tab\">只看真</div></div><div class=\"adm-tabs-tab-wrapper adm-tabs-tab-wrapper-stretch\"><div class=\"adm-tabs-tab\">只看假</div></div></div></div></div></div></div></div><div class=\"adm-swiper adm-swiper-horizontal\" style=\"--slide-size:100%;--track-offset:0%\"><div class=\"adm-swiper-track adm-swiper-track-allow-touch-move\"><div class=\"adm-swiper-track-inner\"><div class=\"adm-swiper-slide\" style=\"left:-0%;transform:none\"><div class=\"adm-swiper-item\"><div id=\"scrollableDiv\" style=\"overflow:auto;height:calc(100vh - 50px);width:calc(100% - 1.6rem);text-align:center;margin:0 auto\"><div class=\"infinite-scroll-component__outerdiv\"><div class=\"infinite-scroll-component \" style=\"height:auto;overflow:auto;-webkit-overflow-scrolling:touch\"><div class=\"InfiniteList_InfiniteList__688Zu\"><div class=\"adm-card\" style=\"border-radius:4px;width:100%;min-height:157px;margin-bottom:12px\"><div class=\"adm-card-header\"><div class=\"adm-card-header-title\"><div class=\"InfiniteList_InfiniteListCardFalse__B_vlo\"><div class=\"InfiniteList_backgroundfalse__JK57x\">谣言</div><div class=\"InfiniteList_displayMain__3mWD3\" style=\"margin-right:12px\"><span class=\"InfiniteList_authorShare__YRTwI\"><span class=\"InfiniteList_cardTitle__cPRz5\"> <!-- -->查证者</span><span class=\"InfiniteList_titleLine__CMWSH\">·</span><span class=\"InfiniteList_cardTitle__cPRz5\">Y博</span></span><div class=\"InfiniteList_listHeaderImgBox__xMTsQ\"><img src=\"https://jiaozhen-70111.picnjc.qpic.cn/udzqL7PDEErSBRzDMaskGQ\" alt=\"list card img\" class=\"InfiniteList_authorImg__AGAt0\"/></div></div></div></div></div><div class=\"adm-card-body\"><div class=\"InfiniteList_listContent__PF3gC\"><div class=\"InfiniteList_listContentLeft__AzsRn\"><span class=\"InfiniteList_listContentText__89_ud\">感染一次之后三个月内不可能再被感染，因此早阳早好</span><p class=\"InfiniteList_listContentTime__NFgUF\">2022-12-14</p></div><div class=\"InfiniteList_listContentRight__Dftkv\"><img src=\"https://jiaozhen-70111.picnjc.qpic.cn/wb39hLXpoZSbYyryAqfuaC?imageView2/2/w/300/h/300\" alt=\"list card right img\" class=\"InfiniteList_listContentRightImg__p_zRt\"/></div></div><div class=\"InfiniteList_displayCenter__i6cxV InfiniteList_listBottom__F4sWt\"><img src=\"https://new.inews.gtimg.com/tnews/e4184b7b/f4cc/e4184b7b-f4cc-4223-98cd-5b46be673eab.png\" alt=\"home list bottom share logo\" class=\"InfiniteList_listShareLogo__7wNH3\"/><span class=\"InfiniteList_authordesc__3igmE\"> <!-- -->分享一下 终结谣言</span></div></div></div><div class=\"adm-card\" style=\"border-radius:4px;width:100%;min-height:157px;margin-bottom:12px\"><div class=\"adm-card-header\"><div class=\"adm-card-header-title\"><div class=\"InfiniteList_InfiniteListCardFalse__B_vlo\"><div class=\"InfiniteList_backgroundfalse__JK57x\">谣言</div><div class=\"InfiniteList_displayMain__3mWD3\" style=\"margin-right:12px\"><span class=\"InfiniteList_authorShare__YRTwI\"><span class=\"InfiniteList_cardTitle__cPRz5\"> <!-- -->查证者</span><span class=\"InfiniteList_titleLine__CMWSH\">·</span><span class=\"InfiniteList_cardTitle__cPRz5\">张卫</span></span><div class=\"InfiniteList_listHeaderImgBox__xMTsQ\"><img src=\"https://jiaozhen-70111.picnjc.qpic.cn/fNHJ8HYTxqYscGQKZQQYRx\" alt=\"list card img\" class=\"InfiniteList_authorImg__AGAt0\"/></div></div></div></div></div><div class=\"adm-card-body\"><div class=\"InfiniteList_listContent__PF3gC\"><div class=\"InfiniteList_listContentLeft__AzsRn\"><span class=\"InfiniteList_listContentText__89_ud\">打疫苗时的症状乘十倍，就是感染后的症状</span><p class=\"InfiniteList_listContentTime__NFgUF\">2022-12-14</p></div><div class=\"InfiniteList_listContentRight__Dftkv\"><img src=\"https://jiaozhen-70111.picnjc.qpic.cn/57MVvVWChfKMC3M93Vb1cv?imageView2/2/w/300/h/300\" alt=\"list card right img\" class=\"InfiniteList_listContentRightImg__p_zRt\"/></div></div><div class=\"InfiniteList_displayCenter__i6cxV InfiniteList_listBottom__F4sWt\"><img src=\"https://new.inews.gtimg.com/tnews/e4184b7b/f4cc/e4184b7b-f4cc-4223-98cd-5b46be673eab.png\" alt=\"home list bottom share logo\" class=\"InfiniteList_listShareLogo__7wNH3\"/><span class=\"InfiniteList_authordesc__3igmE\"> <!-- -->分享一下 终结谣言</span></div></div></div><div class=\"adm-card\" style=\"border-radius:4px;width:100%;min-height:157px;margin-bottom:12px\"><div class=\"adm-card-header\"><div class=\"adm-card-header-title\"><div class=\"InfiniteList_InfiniteListCardFalse__B_vlo\"><div class=\"InfiniteList_backgroundfalse__JK57x\">谣言</div><div class=\"InfiniteList_displayMain__3mWD3\" style=\"margin-right:12px\"><span class=\"InfiniteList_authorShare__YRTwI\"><span class=\"InfiniteList_cardTitle__cPRz5\"> <!-- -->查证者</span><span class=\"InfiniteList_titleLine__CMWSH\">·</span><span class=\"InfiniteList_cardTitle__cPRz5\">Y博</span></span><div class=\"InfiniteList_listHeaderImgBox__xMTsQ\"><img src=\"https://jiaozhen-70111.picnjc.qpic.cn/udzqL7PDEErSBRzDMaskGQ\" alt=\"list card img\" class=\"InfiniteList_authorImg__AGAt0\"/></div></div></div></div></div><div class=\"adm-card-body\"><div class=\"InfiniteList_listContent__PF3gC\"><div class=\"InfiniteList_listContentLeft__AzsRn\"><span class=\"InfiniteList_listContentText__89_ud\">如果感染过但病毒载量低，就可能短期再次感染</span><p class=\"InfiniteList_listContentTime__NFgUF\">2022-12-14</p></div><div class=\"InfiniteList_listContentRight__Dftkv\"><img src=\"https://jiaozhen-70111.picnjc.qpic.cn/huSgc4hvKoyP29GNtF2f9k?imageView2/2/w/300/h/300\" alt=\"list card right img\" class=\"InfiniteList_listContentRightImg__p_zRt\"/></div></div><div class=\"InfiniteList_displayCenter__i6cxV InfiniteList_listBottom__F4sWt\"><img src=\"https://new.inews.gtimg.com/tnews/e4184b7b/f4cc/e4184b7b-f4cc-4223-98cd-5b46be673eab.png\" alt=\"home list bottom share logo\" class=\"InfiniteList_listShareLogo__7wNH3\"/><span class=\"InfiniteList_authordesc__3igmE\"> <!-- -->分享一下 终结谣言</span></div></div></div><div class=\"adm-card\" style=\"border-radius:4px;width:100%;min-height:157px;margin-bottom:12px\"><div class=\"adm-card-header\"><div class=\"adm-card-header-title\"><div class=\"InfiniteList_InfiniteListCardFalse__B_vlo\"><div class=\"InfiniteList_backgroundfalse__JK57x\">谣言</div><div class=\"InfiniteList_displayMain__3mWD3\" style=\"margin-right:12px\"><span class=\"InfiniteList_authorShare__YRTwI\"><span class=\"InfiniteList_cardTitle__cPRz5\"> <!-- -->查证者</span><span class=\"InfiniteList_titleLine__CMWSH\">·</span><span class=\"InfiniteList_cardTitle__cPRz5\">一节生姜</span></span><div class=\"InfiniteList_listHeaderImgBox__xMTsQ\"><img src=\"http://p.qpic.cn/jiaozhen/0/5c51c3dda0034078ac9fd13760dec0a5/0\" alt=\"list card img\" class=\"InfiniteList_authorImg__AGAt0\"/></div></div></div></div></div><div class=\"adm-card-body\"><div class=\"InfiniteList_listContent__PF3gC\"><div class=\"InfiniteList_listContentLeft__AzsRn\"><span class=\"InfiniteList_listContentText__89_ud\">长得好看的人不容易得新冠</span><p class=\"InfiniteList_listContentTime__NFgUF\">2022-12-13</p></div><div class=\"InfiniteList_listContentRight__Dftkv\"><img src=\"https://inews.gtimg.com/newsapp_bt/0/10493663291/641?imageView2/2/w/300/h/300\" alt=\"list card right img\" class=\"InfiniteList_listContentRightImg__p_zRt\"/></div></div><div class=\"InfiniteList_displayCenter__i6cxV InfiniteList_listBottom__F4sWt\"><img src=\"https://new.inews.gtimg.com/tnews/e4184b7b/f4cc/e4184b7b-f4cc-4223-98cd-5b46be673eab.png\" alt=\"home list bottom share logo\" class=\"InfiniteList_listShareLogo__7wNH3\"/><span class=\"InfiniteList_authordesc__3igmE\"> <!-- -->分享一下 终结谣言</span></div></div></div><div class=\"adm-card\" style=\"border-radius:4px;width:100%;min-height:157px;margin-bottom:12px\"><div class=\"adm-card-header\"><div class=\"adm-card-header-title\"><div class=\"InfiniteList_InfiniteListCardFalse__B_vlo\"><div class=\"InfiniteList_backgroundfalse__JK57x\">谣言</div><div class=\"InfiniteList_displayMain__3mWD3\" style=\"margin-right:12px\"><span class=\"InfiniteList_authorShare__YRTwI\"><span class=\"InfiniteList_cardTitle__cPRz5\"> <!-- -->查证者</span><span class=\"InfiniteList_titleLine__CMWSH\">·</span><span class=\"InfiniteList_cardTitle__cPRz5\">一节生姜</span></span><div class=\"InfiniteList_listHeaderImgBox__xMTsQ\"><img src=\"http://p.qpic.cn/jiaozhen/0/5c51c3dda0034078ac9fd13760dec0a5/0\" alt=\"list card img\" class=\"InfiniteList_authorImg__AGAt0\"/></div></div></div></div></div><div class=\"adm-card-body\"><div class=\"InfiniteList_listContent__PF3gC\"><div class=\"InfiniteList_listContentLeft__AzsRn\"><span class=\"InfiniteList_listContentText__89_ud\">新冠病毒能杀死肺癌细胞</span><p class=\"InfiniteList_listContentTime__NFgUF\">2022-12-13</p></div><div class=\"InfiniteList_listContentRight__Dftkv\"><img src=\"https://inews.gtimg.com/newsapp_bt/0/13840269407/641?imageView2/2/w/300/h/300\" alt=\"list card right img\" class=\"InfiniteList_listContentRightImg__p_zRt\"/></div></div><div class=\"InfiniteList_displayCenter__i6cxV InfiniteList_listBottom__F4sWt\"><img src=\"https://new.inews.gtimg.com/tnews/e4184b7b/f4cc/e4184b7b-f4cc-4223-98cd-5b46be673eab.png\" alt=\"home list bottom share logo\" class=\"InfiniteList_listShareLogo__7wNH3\"/><span class=\"InfiniteList_authordesc__3igmE\"> <!-- -->分享一下 终结谣言</span></div></div></div><div class=\"adm-card\" style=\"border-radius:4px;width:100%;min-height:157px;margin-bottom:12px\"><div class=\"adm-card-header\"><div class=\"adm-card-header-title\"><div class=\"InfiniteList_InfiniteListCardFalse__B_vlo\"><div class=\"InfiniteList_backgroundfalse__JK57x\">谣言</div><div class=\"InfiniteList_displayMain__3mWD3\" style=\"margin-right:12px\"><span class=\"InfiniteList_authorShare__YRTwI\"><span class=\"InfiniteList_cardTitle__cPRz5\"> <!-- -->查证者</span><span class=\"InfiniteList_titleLine__CMWSH\">·</span><span class=\"InfiniteList_cardTitle__cPRz5\">李治中</span></span><div class=\"InfiniteList_listHeaderImgBox__xMTsQ\"><img src=\"https://p.qpic.cn/jiaozhen/0/authorpic378/0\" alt=\"list card img\" class=\"InfiniteList_authorImg__AGAt0\"/></div></div></div></div></div><div class=\"adm-card-body\"><div class=\"InfiniteList_listContent__PF3gC\"><div class=\"InfiniteList_listContentLeft__AzsRn\"><span class=\"InfiniteList_listContentText__89_ud\">喝白酒能有效预防新冠</span><p class=\"InfiniteList_listContentTime__NFgUF\">2022-12-13</p></div><div class=\"InfiniteList_listContentRight__Dftkv\"><img src=\"https://jiaozhen-70111.picnjc.qpic.cn/kEZeu73ReTXo2m2dxNj43s?imageView2/2/w/300/h/300\" alt=\"list card right img\" class=\"InfiniteList_listContentRightImg__p_zRt\"/></div></div><div class=\"InfiniteList_displayCenter__i6cxV InfiniteList_listBottom__F4sWt\"><img src=\"https://new.inews.gtimg.com/tnews/e4184b7b/f4cc/e4184b7b-f4cc-4223-98cd-5b46be673eab.png\" alt=\"home list bottom share logo\" class=\"InfiniteList_listShareLogo__7wNH3\"/><span class=\"InfiniteList_authordesc__3igmE\"> <!-- -->分享一下 终结谣言</span></div></div></div><div class=\"adm-card\" style=\"border-radius:4px;width:100%;min-height:157px;margin-bottom:12px\"><div class=\"adm-card-header\"><div class=\"adm-card-header-title\"><div class=\"InfiniteList_InfiniteListCardFalse__B_vlo\"><div class=\"InfiniteList_backgroundfalse__JK57x\">谣言</div><div class=\"InfiniteList_displayMain__3mWD3\" style=\"margin-right:12px\"><span class=\"InfiniteList_authorShare__YRTwI\"><span class=\"InfiniteList_cardTitle__cPRz5\"> <!-- -->查证者</span><span class=\"InfiniteList_titleLine__CMWSH\">·</span><span class=\"InfiniteList_cardTitle__cPRz5\">Y博</span></span><div class=\"InfiniteList_listHeaderImgBox__xMTsQ\"><img src=\"https://jiaozhen-70111.picnjc.qpic.cn/udzqL7PDEErSBRzDMaskGQ\" alt=\"list card img\" class=\"InfiniteList_authorImg__AGAt0\"/></div></div></div></div></div><div class=\"adm-card-body\"><div class=\"InfiniteList_listContent__PF3gC\"><div class=\"InfiniteList_listContentLeft__AzsRn\"><span class=\"InfiniteList_listContentText__89_ud\">奥密克戎是小艾滋，反复感染会免疫衰竭</span><p class=\"InfiniteList_listContentTime__NFgUF\">2022-12-09</p></div><div class=\"InfiniteList_listContentRight__Dftkv\"><img src=\"https://jiaozhen-70111.picnjc.qpic.cn/j36pKuAgjSsunHDYtfqA1n?imageView2/2/w/300/h/300\" alt=\"list card right img\" class=\"InfiniteList_listContentRightImg__p_zRt\"/></div></div><div class=\"InfiniteList_displayCenter__i6cxV InfiniteList_listBottom__F4sWt\"><img src=\"https://new.inews.gtimg.com/tnews/e4184b7b/f4cc/e4184b7b-f4cc-4223-98cd-5b46be673eab.png\" alt=\"home list bottom share logo\" class=\"InfiniteList_listShareLogo__7wNH3\"/><span class=\"InfiniteList_authordesc__3igmE\"> <!-- -->分享一下 终结谣言</span></div></div></div><div class=\"adm-card\" style=\"border-radius:4px;width:100%;min-height:157px;margin-bottom:12px\"><div class=\"adm-card-header\"><div class=\"adm-card-header-title\"><div class=\"InfiniteList_InfiniteListCardDoubt__OWyDb\"><div class=\"InfiniteList_backgrounddoubt__5UokF\">分情况</div><div class=\"InfiniteList_displayMain__3mWD3\" style=\"margin-right:12px\"><span class=\"InfiniteList_authorShare__YRTwI\"><span class=\"InfiniteList_cardTitle__cPRz5\"> <!-- -->查证者</span><span class=\"InfiniteList_titleLine__CMWSH\">·</span><span class=\"InfiniteList_cardTitle__cPRz5\">谢望时</span></span><div class=\"InfiniteList_listHeaderImgBox__xMTsQ\"><img src=\"http://p.qpic.cn/jiaozhen/0/3eb6378948294822a55ef8e8fbc4ece0/0\" alt=\"list card img\" class=\"InfiniteList_authorImg__AGAt0\"/></div></div></div></div></div><div class=\"adm-card-body\"><div class=\"InfiniteList_listContent__PF3gC\"><div class=\"InfiniteList_listContentLeft__AzsRn\"><span class=\"InfiniteList_listContentText__89_ud\">喝电解质水缓解新冠症状比喝白开水更有效</span><p class=\"InfiniteList_listContentTime__NFgUF\">2022-12-09</p></div><div class=\"InfiniteList_listContentRight__Dftkv\"><img src=\"https://jiaozhen-70111.picnjc.qpic.cn/qyweayJp4E7qQp3bGYZGnU?imageView2/2/w/300/h/300\" alt=\"list card right img\" class=\"InfiniteList_listContentRightImg__p_zRt\"/></div></div><div class=\"InfiniteList_displayCenter__i6cxV InfiniteList_listBottom__F4sWt\"><img src=\"https://new.inews.gtimg.com/tnews/e4184b7b/f4cc/e4184b7b-f4cc-4223-98cd-5b46be673eab.png\" alt=\"home list bottom share logo\" class=\"InfiniteList_listShareLogo__7wNH3\"/><span class=\"InfiniteList_authordesc__3igmE\"> <!-- -->分享一下 终结谣言</span></div></div></div><div class=\"adm-card\" style=\"border-radius:4px;width:100%;min-height:157px;margin-bottom:12px\"><div class=\"adm-card-header\"><div class=\"adm-card-header-title\"><div class=\"InfiniteList_InfiniteListCardFalse__B_vlo\"><div class=\"InfiniteList_backgroundfalse__JK57x\">谣言</div><div class=\"InfiniteList_displayMain__3mWD3\" style=\"margin-right:12px\"><span class=\"InfiniteList_authorShare__YRTwI\"><span class=\"InfiniteList_cardTitle__cPRz5\"> <!-- -->查证者</span><span class=\"InfiniteList_titleLine__CMWSH\">·</span><span class=\"InfiniteList_cardTitle__cPRz5\">较真团队</span></span><div class=\"InfiniteList_listHeaderImgBox__xMTsQ\"><img src=\"http://p.qpic.cn/jiaozhen/0/7eb4533c1d604ecfa3f25a0d1cae29cd/0\" alt=\"list card img\" class=\"InfiniteList_authorImg__AGAt0\"/></div></div></div></div></div><div class=\"adm-card-body\"><div class=\"InfiniteList_listContent__PF3gC\"><div class=\"InfiniteList_listContentLeft__AzsRn\"><span class=\"InfiniteList_listContentText__89_ud\">感染新冠后不能吃布洛芬，否则会加重病情</span><p class=\"InfiniteList_listContentTime__NFgUF\">2022-12-09</p></div><div class=\"InfiniteList_listContentRight__Dftkv\"><img src=\"https://jiaozhen-70111.picnjc.qpic.cn/d8Rs9xdRDt7ZyDb6heDFGH?imageView2/2/w/300/h/300\" alt=\"list card right img\" class=\"InfiniteList_listContentRightImg__p_zRt\"/></div></div><div class=\"InfiniteList_displayCenter__i6cxV InfiniteList_listBottom__F4sWt\"><img src=\"https://new.inews.gtimg.com/tnews/e4184b7b/f4cc/e4184b7b-f4cc-4223-98cd-5b46be673eab.png\" alt=\"home list bottom share logo\" class=\"InfiniteList_listShareLogo__7wNH3\"/><span class=\"InfiniteList_authordesc__3igmE\"> <!-- -->分享一下 终结谣言</span></div></div></div><div class=\"adm-card\" style=\"border-radius:4px;width:100%;min-height:157px;margin-bottom:12px\"><div class=\"adm-card-header\"><div class=\"adm-card-header-title\"><div class=\"InfiniteList_InfiniteListCardFalse__B_vlo\"><div class=\"InfiniteList_backgroundfalse__JK57x\">谣言</div><div class=\"InfiniteList_displayMain__3mWD3\" style=\"margin-right:12px\"><span class=\"InfiniteList_authorShare__YRTwI\"><span class=\"InfiniteList_cardTitle__cPRz5\"> <!-- -->查证者</span><span class=\"InfiniteList_titleLine__CMWSH\">·</span><span class=\"InfiniteList_cardTitle__cPRz5\">中国互联网联合辟谣平台</span></span><div class=\"InfiniteList_listHeaderImgBox__xMTsQ\"><img src=\"http://p.qpic.cn/jiaozhen/0/5da459174e1d4404973107b078a8ae93/0\" alt=\"list card img\" class=\"InfiniteList_authorImg__AGAt0\"/></div></div></div></div></div><div class=\"adm-card-body\"><div class=\"InfiniteList_listContent__PF3gC\"><div class=\"InfiniteList_listContentLeft__AzsRn\"><span class=\"InfiniteList_listContentText__89_ud\">国务院联防联控小组正式摘牌</span><p class=\"InfiniteList_listContentTime__NFgUF\">2022-12-09</p></div><div class=\"InfiniteList_listContentRight__Dftkv\"><img src=\"https://jiaozhen-70111.picnjc.qpic.cn/3YY8tPboHfAokveaDnD3Ve?imageView2/2/w/300/h/300\" alt=\"list card right img\" class=\"InfiniteList_listContentRightImg__p_zRt\"/></div></div><div class=\"InfiniteList_displayCenter__i6cxV InfiniteList_listBottom__F4sWt\"><img src=\"https://new.inews.gtimg.com/tnews/e4184b7b/f4cc/e4184b7b-f4cc-4223-98cd-5b46be673eab.png\" alt=\"home list bottom share logo\" class=\"InfiniteList_listShareLogo__7wNH3\"/><span class=\"InfiniteList_authordesc__3igmE\"> <!-- -->分享一下 终结谣言</span></div></div></div><div class=\"adm-card\" style=\"border-radius:4px;width:100%;min-height:157px;margin-bottom:12px\"><div class=\"adm-card-header\"><div class=\"adm-card-header-title\"><div class=\"InfiniteList_InfiniteListCardFalse__B_vlo\"><div class=\"InfiniteList_backgroundfalse__JK57x\">谣言</div><div class=\"InfiniteList_displayMain__3mWD3\" style=\"margin-right:12px\"><span class=\"InfiniteList_authorShare__YRTwI\"><span class=\"InfiniteList_cardTitle__cPRz5\"> <!-- -->查证者</span><span class=\"InfiniteList_titleLine__CMWSH\">·</span><span class=\"InfiniteList_cardTitle__cPRz5\">阿司匹林42195米</span></span><div class=\"InfiniteList_listHeaderImgBox__xMTsQ\"><img src=\"https://jiaozhen-70111.picnjc.qpic.cn/oXw1dH4xMDqqHJSQPhKsyH\" alt=\"list card img\" class=\"InfiniteList_authorImg__AGAt0\"/></div></div></div></div></div><div class=\"adm-card-body\"><div class=\"InfiniteList_listContent__PF3gC\"><div class=\"InfiniteList_listContentLeft__AzsRn\"><span class=\"InfiniteList_listContentText__89_ud\">新冠患者不能服用布洛芬</span><p class=\"InfiniteList_listContentTime__NFgUF\">2022-12-07</p></div><div class=\"InfiniteList_listContentRight__Dftkv\"><img src=\"https://jiaozhen-70111.picnjc.qpic.cn/xsUy6oaWRAENtpLFEzwyGP?imageView2/2/w/300/h/300\" alt=\"list card right img\" class=\"InfiniteList_listContentRightImg__p_zRt\"/></div></div><div class=\"InfiniteList_displayCenter__i6cxV InfiniteList_listBottom__F4sWt\"><img src=\"https://new.inews.gtimg.com/tnews/e4184b7b/f4cc/e4184b7b-f4cc-4223-98cd-5b46be673eab.png\" alt=\"home list bottom share logo\" class=\"InfiniteList_listShareLogo__7wNH3\"/><span class=\"InfiniteList_authordesc__3igmE\"> <!-- -->分享一下 终结谣言</span></div></div></div><div class=\"adm-card\" style=\"border-radius:4px;width:100%;min-height:157px;margin-bottom:12px\"><div class=\"adm-card-header\"><div class=\"adm-card-header-title\"><div class=\"InfiniteList_InfiniteListCardDoubt__OWyDb\"><div class=\"InfiniteList_backgrounddoubt__5UokF\">分情况</div><div class=\"InfiniteList_displayMain__3mWD3\" style=\"margin-right:12px\"><span class=\"InfiniteList_authorShare__YRTwI\"><span class=\"InfiniteList_cardTitle__cPRz5\"> <!-- -->查证者</span><span class=\"InfiniteList_titleLine__CMWSH\">·</span><span class=\"InfiniteList_cardTitle__cPRz5\">阿司匹林42195米</span></span><div class=\"InfiniteList_listHeaderImgBox__xMTsQ\"><img src=\"https://jiaozhen-70111.picnjc.qpic.cn/oXw1dH4xMDqqHJSQPhKsyH\" alt=\"list card img\" class=\"InfiniteList_authorImg__AGAt0\"/></div></div></div></div></div><div class=\"adm-card-body\"><div class=\"InfiniteList_listContent__PF3gC\"><div class=\"InfiniteList_listContentLeft__AzsRn\"><span class=\"InfiniteList_listContentText__89_ud\">新冠感染者居家隔离，会经楼道气溶胶传播病毒</span><p class=\"InfiniteList_listContentTime__NFgUF\">2022-12-02</p></div><div class=\"InfiniteList_listContentRight__Dftkv\"><img src=\"https://jiaozhen-70111.picnjc.qpic.cn/jY3r5hyaZqYpuFrC369wUE?imageView2/2/w/300/h/300\" alt=\"list card right img\" class=\"InfiniteList_listContentRightImg__p_zRt\"/></div></div><div class=\"InfiniteList_displayCenter__i6cxV InfiniteList_listBottom__F4sWt\"><img src=\"https://new.inews.gtimg.com/tnews/e4184b7b/f4cc/e4184b7b-f4cc-4223-98cd-5b46be673eab.png\" alt=\"home list bottom share logo\" class=\"InfiniteList_listShareLogo__7wNH3\"/><span class=\"InfiniteList_authordesc__3igmE\"> <!-- -->分享一下 终结谣言</span></div></div></div><div class=\"adm-card\" style=\"border-radius:4px;width:100%;min-height:157px;margin-bottom:12px\"><div class=\"adm-card-header\"><div class=\"adm-card-header-title\"><div class=\"InfiniteList_InfiniteListCardFalse__B_vlo\"><div class=\"InfiniteList_backgroundfalse__JK57x\">谣言</div><div class=\"InfiniteList_displayMain__3mWD3\" style=\"margin-right:12px\"><span class=\"InfiniteList_authorShare__YRTwI\"><span class=\"InfiniteList_cardTitle__cPRz5\"> <!-- -->查证者</span><span class=\"InfiniteList_titleLine__CMWSH\">·</span><span class=\"InfiniteList_cardTitle__cPRz5\">羊城派</span></span><div class=\"InfiniteList_listHeaderImgBox__xMTsQ\"><img src=\"http://p.qpic.cn/jiaozhen/0/210816872bf84341a1be42554c344a43/0\" alt=\"list card img\" class=\"InfiniteList_authorImg__AGAt0\"/></div></div></div></div></div><div class=\"adm-card-body\"><div class=\"InfiniteList_listContent__PF3gC\"><div class=\"InfiniteList_listContentLeft__AzsRn\"><span class=\"InfiniteList_listContentText__89_ud\">羊城晚报：奥密克戎病毒正式更名为新型冠状病毒感冒</span><p class=\"InfiniteList_listContentTime__NFgUF\">2022-12-01</p></div><div class=\"InfiniteList_listContentRight__Dftkv\"><img src=\"https://jiaozhen-70111.picnjc.qpic.cn/i15g8VwjarE1A17KpnMa9E?imageView2/2/w/300/h/300\" alt=\"list card right img\" class=\"InfiniteList_listContentRightImg__p_zRt\"/></div></div><div class=\"InfiniteList_displayCenter__i6cxV InfiniteList_listBottom__F4sWt\"><img src=\"https://new.inews.gtimg.com/tnews/e4184b7b/f4cc/e4184b7b-f4cc-4223-98cd-5b46be673eab.png\" alt=\"home list bottom share logo\" class=\"InfiniteList_listShareLogo__7wNH3\"/><span class=\"InfiniteList_authordesc__3igmE\"> <!-- -->分享一下 终结谣言</span></div></div></div><div class=\"adm-card\" style=\"border-radius:4px;width:100%;min-height:157px;margin-bottom:12px\"><div class=\"adm-card-header\"><div class=\"adm-card-header-title\"><div class=\"InfiniteList_InfiniteListCardFalse__B_vlo\"><div class=\"InfiniteList_backgroundfalse__JK57x\">谣言</div><div class=\"InfiniteList_displayMain__3mWD3\" style=\"margin-right:12px\"><span class=\"InfiniteList_authorShare__YRTwI\"><span class=\"InfiniteList_cardTitle__cPRz5\"> <!-- -->查证者</span><span class=\"InfiniteList_titleLine__CMWSH\">·</span><span class=\"InfiniteList_cardTitle__cPRz5\">科普中国</span></span><div class=\"InfiniteList_listHeaderImgBox__xMTsQ\"><img src=\"https://p.qpic.cn/jiaozhen/0/authorpic538/0\" alt=\"list card img\" class=\"InfiniteList_authorImg__AGAt0\"/></div></div></div></div></div><div class=\"adm-card-body\"><div class=\"InfiniteList_listContent__PF3gC\"><div class=\"InfiniteList_listContentLeft__AzsRn\"><span class=\"InfiniteList_listContentText__89_ud\">常戴口罩会吸入口罩纤维到肺里，患上肺结节</span><p class=\"InfiniteList_listContentTime__NFgUF\">2022-11-27</p></div><div class=\"InfiniteList_listContentRight__Dftkv\"><img src=\"https://jiaozhen-70111.picnjc.qpic.cn/7wZPc8qJM3hyVswtyxbXCj?imageView2/2/w/300/h/300\" alt=\"list card right img\" class=\"InfiniteList_listContentRightImg__p_zRt\"/></div></div><div class=\"InfiniteList_displayCenter__i6cxV InfiniteList_listBottom__F4sWt\"><img src=\"https://new.inews.gtimg.com/tnews/e4184b7b/f4cc/e4184b7b-f4cc-4223-98cd-5b46be673eab.png\" alt=\"home list bottom share logo\" class=\"InfiniteList_listShareLogo__7wNH3\"/><span class=\"InfiniteList_authordesc__3igmE\"> <!-- -->分享一下 终结谣言</span></div></div></div><div class=\"adm-card\" style=\"border-radius:4px;width:100%;min-height:157px;margin-bottom:12px\"><div class=\"adm-card-header\"><div class=\"adm-card-header-title\"><div class=\"InfiniteList_InfiniteListCardFalse__B_vlo\"><div class=\"InfiniteList_backgroundfalse__JK57x\">伪常识</div><div class=\"InfiniteList_displayMain__3mWD3\" style=\"margin-right:12px\"><span class=\"InfiniteList_authorShare__YRTwI\"><span class=\"InfiniteList_cardTitle__cPRz5\"> <!-- -->查证者</span><span class=\"InfiniteList_titleLine__CMWSH\">·</span><span class=\"InfiniteList_cardTitle__cPRz5\">钟堃</span></span><div class=\"InfiniteList_listHeaderImgBox__xMTsQ\"><img src=\"https://jiaozhen-70111.picnjc.qpic.cn/mDs9VV3thzRcwYJHdDE646\" alt=\"list card img\" class=\"InfiniteList_authorImg__AGAt0\"/></div></div></div></div></div><div class=\"adm-card-body\"><div class=\"InfiniteList_listContent__PF3gC\"><div class=\"InfiniteList_listContentLeft__AzsRn\"><span class=\"InfiniteList_listContentText__89_ud\">抗原检测试剂盒不准，用橘子汁做都能阳</span><p class=\"InfiniteList_listContentTime__NFgUF\">2022-11-29</p></div><div class=\"InfiniteList_listContentRight__Dftkv\"><img src=\"https://jiaozhen-70111.picnjc.qpic.cn/mK2nDrwV47xhij42TGFDWB?imageView2/2/w/300/h/300\" alt=\"list card right img\" class=\"InfiniteList_listContentRightImg__p_zRt\"/></div></div><div class=\"InfiniteList_displayCenter__i6cxV InfiniteList_listBottom__F4sWt\"><img src=\"https://new.inews.gtimg.com/tnews/e4184b7b/f4cc/e4184b7b-f4cc-4223-98cd-5b46be673eab.png\" alt=\"home list bottom share logo\" class=\"InfiniteList_listShareLogo__7wNH3\"/><span class=\"InfiniteList_authordesc__3igmE\"> <!-- -->分享一下 终结谣言</span></div></div></div><div class=\"adm-card\" style=\"border-radius:4px;width:100%;min-height:157px;margin-bottom:12px\"><div class=\"adm-card-header\"><div class=\"adm-card-header-title\"><div class=\"InfiniteList_InfiniteListCardFalse__B_vlo\"><div class=\"InfiniteList_backgroundfalse__JK57x\">谣言</div><div class=\"InfiniteList_displayMain__3mWD3\" style=\"margin-right:12px\"><span class=\"InfiniteList_authorShare__YRTwI\"><span class=\"InfiniteList_cardTitle__cPRz5\"> <!-- -->查证者</span><span class=\"InfiniteList_titleLine__CMWSH\">·</span><span class=\"InfiniteList_cardTitle__cPRz5\">Y博</span></span><div class=\"InfiniteList_listHeaderImgBox__xMTsQ\"><img src=\"https://jiaozhen-70111.picnjc.qpic.cn/udzqL7PDEErSBRzDMaskGQ\" alt=\"list card img\" class=\"InfiniteList_authorImg__AGAt0\"/></div></div></div></div></div><div class=\"adm-card-body\"><div class=\"InfiniteList_listContent__PF3gC\"><div class=\"InfiniteList_listContentLeft__AzsRn\"><span class=\"InfiniteList_listContentText__89_ud\">高烧四十度也是无症状，出现肺炎才算确诊</span><p class=\"InfiniteList_listContentTime__NFgUF\">2022-11-25</p></div><div class=\"InfiniteList_listContentRight__Dftkv\"><img src=\"https://jiaozhen-70111.picnjc.qpic.cn/pVPo5S6d8g7b4kgi9yihpT?imageView2/2/w/300/h/300\" alt=\"list card right img\" class=\"InfiniteList_listContentRightImg__p_zRt\"/></div></div><div class=\"InfiniteList_displayCenter__i6cxV InfiniteList_listBottom__F4sWt\"><img src=\"https://new.inews.gtimg.com/tnews/e4184b7b/f4cc/e4184b7b-f4cc-4223-98cd-5b46be673eab.png\" alt=\"home list bottom share logo\" class=\"InfiniteList_listShareLogo__7wNH3\"/><span class=\"InfiniteList_authordesc__3igmE\"> <!-- -->分享一下 终结谣言</span></div></div></div><div class=\"adm-card\" style=\"border-radius:4px;width:100%;min-height:157px;margin-bottom:12px\"><div class=\"adm-card-header\"><div class=\"adm-card-header-title\"><div class=\"InfiniteList_InfiniteListCardFalse__B_vlo\"><div class=\"InfiniteList_backgroundfalse__JK57x\">谣言</div><div class=\"InfiniteList_displayMain__3mWD3\" style=\"margin-right:12px\"><span class=\"InfiniteList_authorShare__YRTwI\"><span class=\"InfiniteList_cardTitle__cPRz5\"> <!-- -->查证者</span><span class=\"InfiniteList_titleLine__CMWSH\">·</span><span class=\"InfiniteList_cardTitle__cPRz5\">中国新闻网</span></span><div class=\"InfiniteList_listHeaderImgBox__xMTsQ\"><img src=\"https://p.qpic.cn/jiaozhen/0/authorpic70/0\" alt=\"list card img\" class=\"InfiniteList_authorImg__AGAt0\"/></div></div></div></div></div><div class=\"adm-card-body\"><div class=\"InfiniteList_listContent__PF3gC\"><div class=\"InfiniteList_listContentLeft__AzsRn\"><span class=\"InfiniteList_listContentText__89_ud\">重庆火车站拉人到方舱医院有补贴</span><p class=\"InfiniteList_listContentTime__NFgUF\">2022-11-23</p></div><div class=\"InfiniteList_listContentRight__Dftkv\"><img src=\"https://jiaozhen-70111.picnjc.qpic.cn/g7guJdFWxKmm1GbasGSFtB?imageView2/2/w/300/h/300\" alt=\"list card right img\" class=\"InfiniteList_listContentRightImg__p_zRt\"/></div></div><div class=\"InfiniteList_displayCenter__i6cxV InfiniteList_listBottom__F4sWt\"><img src=\"https://new.inews.gtimg.com/tnews/e4184b7b/f4cc/e4184b7b-f4cc-4223-98cd-5b46be673eab.png\" alt=\"home list bottom share logo\" class=\"InfiniteList_listShareLogo__7wNH3\"/><span class=\"InfiniteList_authordesc__3igmE\"> <!-- -->分享一下 终结谣言</span></div></div></div><div class=\"adm-card\" style=\"border-radius:4px;width:100%;min-height:157px;margin-bottom:12px\"><div class=\"adm-card-header\"><div class=\"adm-card-header-title\"><div class=\"InfiniteList_InfiniteListCardFalse__B_vlo\"><div class=\"InfiniteList_backgroundfalse__JK57x\">谣言</div><div class=\"InfiniteList_displayMain__3mWD3\" style=\"margin-right:12px\"><span class=\"InfiniteList_authorShare__YRTwI\"><span class=\"InfiniteList_cardTitle__cPRz5\"> <!-- -->查证者</span><span class=\"InfiniteList_titleLine__CMWSH\">·</span><span class=\"InfiniteList_cardTitle__cPRz5\">中国互联网联合辟谣平台</span></span><div class=\"InfiniteList_listHeaderImgBox__xMTsQ\"><img src=\"https://p.qpic.cn/jiaozhen/0/authorpic68/0\" alt=\"list card img\" class=\"InfiniteList_authorImg__AGAt0\"/></div></div></div></div></div><div class=\"adm-card-body\"><div class=\"InfiniteList_listContent__PF3gC\"><div class=\"InfiniteList_listContentLeft__AzsRn\"><span class=\"InfiniteList_listContentText__89_ud\">石家庄查出白肺，可能是新冠变异</span><p class=\"InfiniteList_listContentTime__NFgUF\">2022-11-16</p></div><div class=\"InfiniteList_listContentRight__Dftkv\"><img src=\"https://jiaozhen-70111.picnjc.qpic.cn/cwLZtTw55DLNP7Tt9eePS7?imageView2/2/w/300/h/300\" alt=\"list card right img\" class=\"InfiniteList_listContentRightImg__p_zRt\"/></div></div><div class=\"InfiniteList_displayCenter__i6cxV InfiniteList_listBottom__F4sWt\"><img src=\"https://new.inews.gtimg.com/tnews/e4184b7b/f4cc/e4184b7b-f4cc-4223-98cd-5b46be673eab.png\" alt=\"home list bottom share logo\" class=\"InfiniteList_listShareLogo__7wNH3\"/><span class=\"InfiniteList_authordesc__3igmE\"> <!-- -->分享一下 终结谣言</span></div></div></div><div class=\"adm-card\" style=\"border-radius:4px;width:100%;min-height:157px;margin-bottom:12px\"><div class=\"adm-card-header\"><div class=\"adm-card-header-title\"><div class=\"InfiniteList_InfiniteListCardFalse__B_vlo\"><div class=\"InfiniteList_backgroundfalse__JK57x\">谣言</div><div class=\"InfiniteList_displayMain__3mWD3\" style=\"margin-right:12px\"><span class=\"InfiniteList_authorShare__YRTwI\"><span class=\"InfiniteList_cardTitle__cPRz5\"> <!-- -->查证者</span><span class=\"InfiniteList_titleLine__CMWSH\">·</span><span class=\"InfiniteList_cardTitle__cPRz5\">天津辟谣</span></span><div class=\"InfiniteList_listHeaderImgBox__xMTsQ\"><img src=\"https://jiaozhen-70111.picnjc.qpic.cn/4vBeDiVnZASvWaL9KZjmwE\" alt=\"list card img\" class=\"InfiniteList_authorImg__AGAt0\"/></div></div></div></div></div><div class=\"adm-card-body\"><div class=\"InfiniteList_listContent__PF3gC\"><div class=\"InfiniteList_listContentLeft__AzsRn\"><span class=\"InfiniteList_listContentText__89_ud\">天津老太太发口罩拐骗儿童</span><p class=\"InfiniteList_listContentTime__NFgUF\">2022-11-14</p></div><div class=\"InfiniteList_listContentRight__Dftkv\"><img src=\"https://jiaozhen-70111.picnjc.qpic.cn/8yMJbC5bkAnXRurRa4wePg?imageView2/2/w/300/h/300\" alt=\"list card right img\" class=\"InfiniteList_listContentRightImg__p_zRt\"/></div></div><div class=\"InfiniteList_displayCenter__i6cxV InfiniteList_listBottom__F4sWt\"><img src=\"https://new.inews.gtimg.com/tnews/e4184b7b/f4cc/e4184b7b-f4cc-4223-98cd-5b46be673eab.png\" alt=\"home list bottom share logo\" class=\"InfiniteList_listShareLogo__7wNH3\"/><span class=\"InfiniteList_authordesc__3igmE\"> <!-- -->分享一下 终结谣言</span></div></div></div><div class=\"adm-card\" style=\"border-radius:4px;width:100%;min-height:157px;margin-bottom:12px\"><div class=\"adm-card-header\"><div class=\"adm-card-header-title\"><div class=\"InfiniteList_InfiniteListCardFalse__B_vlo\"><div class=\"InfiniteList_backgroundfalse__JK57x\">谣言</div><div class=\"InfiniteList_displayMain__3mWD3\" style=\"margin-right:12px\"><span class=\"InfiniteList_authorShare__YRTwI\"><span class=\"InfiniteList_cardTitle__cPRz5\"> <!-- -->查证者</span><span class=\"InfiniteList_titleLine__CMWSH\">·</span><span class=\"InfiniteList_cardTitle__cPRz5\">中国互联网联合辟谣平台</span></span><div class=\"InfiniteList_listHeaderImgBox__xMTsQ\"><img src=\"http://p.qpic.cn/jiaozhen/0/5da459174e1d4404973107b078a8ae93/0\" alt=\"list card img\" class=\"InfiniteList_authorImg__AGAt0\"/></div></div></div></div></div><div class=\"adm-card-body\"><div class=\"InfiniteList_listContent__PF3gC\"><div class=\"InfiniteList_listContentLeft__AzsRn\"><span class=\"InfiniteList_listContentText__89_ud\">北京重庆河北山东山西等地飞机喷洒打药全城消杀</span><p class=\"InfiniteList_listContentTime__NFgUF\">2022-10-31</p></div><div class=\"InfiniteList_listContentRight__Dftkv\"><img src=\"https://jiaozhen-70111.picnjc.qpic.cn/jghSFbDM8EEzDfM5PNhv2B?imageView2/2/w/300/h/300\" alt=\"list card right img\" class=\"InfiniteList_listContentRightImg__p_zRt\"/></div></div><div class=\"InfiniteList_displayCenter__i6cxV InfiniteList_listBottom__F4sWt\"><img src=\"https://new.inews.gtimg.com/tnews/e4184b7b/f4cc/e4184b7b-f4cc-4223-98cd-5b46be673eab.png\" alt=\"home list bottom share logo\" class=\"InfiniteList_listShareLogo__7wNH3\"/><span class=\"InfiniteList_authordesc__3igmE\"> <!-- -->分享一下 终结谣言</span></div></div></div></div>loading</div></div></div></div></div><div class=\"adm-swiper-slide\" style=\"left:-100%;transform:translate3d(100%,0,0)\"><div class=\"adm-swiper-item\"></div></div><div class=\"adm-swiper-slide\" style=\"left:-200%;transform:translate3d(-100%,0,0)\"><div class=\"adm-swiper-item\"></div></div></div></div></div><div class=\"home_homeShareIcon__qW3Cj\"><img src=\"https://new.inews.gtimg.com/tnews/eabed6d9/014e/eabed6d9-014e-4d27-b91a-ab0a547d8075.png\" alt=\"home bottom share logo\"/></div></div></div></div></div><script id=\"__NEXT_DATA__\" type=\"application/json\">{\"props\":{\"pageProps\":{\"initialState\":{\"pageData\":{\"hotarticles\":[{\"title\":\"感染一次之后三个月内不可能再被感染，因此早阳早好\",\"author\":\"Y博\",\"authordesc\":\"遗传学博士，科普作者，新药研发从业者\",\"id\":\"4c20c69a437d00e7aa1481a7907bc763\",\"Author\":{\"id\":1476,\"name\":\"Y博\",\"desc\":\"遗传学博士，科普作者，新药研发从业者\",\"head\":\"//jiaozhen-70111.picnjc.qpic.cn/udzqL7PDEErSBRzDMaskGQ\",\"level\":0,\"artList\":null,\"openid\":\"\",\"unionid\":\"\",\"inviteId\":\"\",\"nickname\":\"\",\"headimgurl\":\"\",\"ext1\":\"\",\"ext2\":null,\"ext3\":null,\"ext4\":null,\"ext5\":null,\"createdAt\":\"2021-06-17T02:09:16.000Z\",\"updatedAt\":\"2021-06-17T02:09:16.000Z\"},\"date\":\"2022-12-14\",\"markstyle\":\"fake\",\"result\":\"假\",\"explain\":\"谣言\",\"abstract\":\"阻断二次感染受到多个因素影响：过往感染时个体产生的中和抗体差异、感染发生了多久以及是否出现新的突变株。因此只能说过往感染能降低二次感染的风险，但不能打包票说多久之内绝对没事。\\\\n研究者们分析3个月内二次感染风险低的本意是指导疫苗接种，因为如果人体对新冠的免疫反应尚在高峰，再接种疫苗很难诱导出好的免疫反应，相当于白打一针。\\\\n虽然奥密克戎致病性比过往的新冠病毒株有下降，但病毒感染在个体身上仍有一定的不确定性，不能把“阳”当作绝对安全的体验，更不存在“早阳早好”。\",\"tag\":[\"二次感染\",\"新冠\"],\"type\":1,\"videourl\":\"\",\"cover\":\"//jiaozhen-70111.picnjc.qpic.cn/wb39hLXpoZSbYyryAqfuaC?imageView2/2/w/150/h/90\",\"coverrect\":\"//jiaozhen-70111.picnjc.qpic.cn/wb39hLXpoZSbYyryAqfuaC\",\"coversqual\":\"//jiaozhen-70111.picnjc.qpic.cn/wb39hLXpoZSbYyryAqfuaC?imageView2/2/w/300/h/300\",\"section\":\"\",\"iscolled\":false,\"arttype\":\"normal\"},{\"title\":\"打疫苗时的症状乘十倍，就是感染后的症状\",\"author\":\"北京市疾病预防控制中心研究员、医学博士\",\"authordesc\":\"北京市疾病预防控制中心研究员、医学博士\",\"id\":\"a722f8b5d2b0361f1be9c3b8aab78586\",\"Author\":{\"id\":1599,\"name\":\"张卫\",\"desc\":\"北京市疾病预防控制中心研究员、医学博士\",\"head\":\"//jiaozhen-70111.picnjc.qpic.cn/fNHJ8HYTxqYscGQKZQQYRx\",\"level\":0,\"artList\":null,\"openid\":\"\",\"unionid\":\"\",\"inviteId\":\"\",\"nickname\":\"\",\"headimgurl\":\"\",\"ext1\":\"\",\"ext2\":null,\"ext3\":null,\"ext4\":null,\"ext5\":null,\"createdAt\":\"2022-12-13T03:32:23.000Z\",\"updatedAt\":\"2022-12-13T03:32:23.000Z\"},\"date\":\"2022-12-14\",\"markstyle\":\"fake\",\"result\":\"假\",\"explain\":\"谣言\",\"abstract\":\"这种说法是错误的，对于灭活疫苗来说，虽然里面也含有新冠病毒，但是已经灭活的病毒，这与自然感染造成机体损伤的过程不一样。\\\\n另外，一个人接种疫苗时的身体反应，不只是灭活的病毒本身，也与疫苗中其他成分有关系。比如，灭活疫苗一般是用非洲绿猴肾细胞（VERO细胞）培养的，疫苗中多少会有细胞培养以及细胞本身的残片，以及佐剂、添加剂。所以，疫苗的不良反应不能与感染病毒后的症状直接比较。\",\"tag\":[\"疫苗\",\"新冠症状\"],\"type\":1,\"videourl\":\"\",\"cover\":\"//jiaozhen-70111.picnjc.qpic.cn/57MVvVWChfKMC3M93Vb1cv?imageView2/2/w/150/h/90\",\"coverrect\":\"//jiaozhen-70111.picnjc.qpic.cn/57MVvVWChfKMC3M93Vb1cv\",\"coversqual\":\"//jiaozhen-70111.picnjc.qpic.cn/57MVvVWChfKMC3M93Vb1cv?imageView2/2/w/300/h/300\",\"section\":\"\",\"iscolled\":false,\"arttype\":\"normal\"},{\"title\":\"如果感染过但病毒载量低，就可能短期再次感染\",\"author\":\"遗传学博士，科普作者，新药研发从业者\",\"authordesc\":\"遗传学博士，科普作者，新药研发从业者\",\"id\":\"ae398cf70047cc33cc73cda7a42b79b5\",\"Author\":{\"id\":1476,\"name\":\"Y博\",\"desc\":\"遗传学博士，科普作者，新药研发从业者\",\"head\":\"//jiaozhen-70111.picnjc.qpic.cn/udzqL7PDEErSBRzDMaskGQ\",\"level\":0,\"artList\":null,\"openid\":\"\",\"unionid\":\"\",\"inviteId\":\"\",\"nickname\":\"\",\"headimgurl\":\"\",\"ext1\":\"\",\"ext2\":null,\"ext3\":null,\"ext4\":null,\"ext5\":null,\"createdAt\":\"2021-06-17T02:09:16.000Z\",\"updatedAt\":\"2021-06-17T02:09:16.000Z\"},\"date\":\"2022-12-14\",\"markstyle\":\"fake\",\"result\":\"假\",\"explain\":\"谣言\",\"abstract\":\"载毒量会受多个因素影响，例如采样标准程度，试剂盒本身质量。而且即便这些技术上都非常标准了，载毒量本身是动态的。因此，仅看某一次核酸检测带来的一个载毒量数字，都不能反映实际感染过程中的载毒量变化情况。\\\\n免疫反应强弱取决于人体免疫系统对病毒的识别，然后被激活，与载毒量没有直接对应关系。现在的研究发现轻症以及无症状感染的免疫反应弱一些，表现为康复后中和抗体滴度更低。但轻症无症状核酸检测的载毒量并不比症状较重的低。\\\\n总之，载毒量高低和免疫反应强弱没有明确的关联，因此也很难和二次感染防护程度联系在一起。\",\"tag\":[\"病毒载量\",\"二次感染\"],\"type\":1,\"videourl\":\"\",\"cover\":\"//jiaozhen-70111.picnjc.qpic.cn/huSgc4hvKoyP29GNtF2f9k?imageView2/2/w/150/h/90\",\"coverrect\":\"//jiaozhen-70111.picnjc.qpic.cn/huSgc4hvKoyP29GNtF2f9k\",\"coversqual\":\"//jiaozhen-70111.picnjc.qpic.cn/huSgc4hvKoyP29GNtF2f9k?imageView2/2/w/300/h/300\",\"section\":\"\",\"iscolled\":false,\"arttype\":\"normal\"},{\"title\":\"长得好看的人不容易得新冠\",\"author\":\"药物研究人员，科普创作者\",\"authordesc\":\"药物研究人员，科普创作者\",\"id\":\"eea18dea23aa76662b4a3bf30044ec3c\",\"Author\":{\"id\":22,\"name\":\"一节生姜\",\"desc\":\"药物研究人员，科普创作者\",\"head\":\"http://p.qpic.cn/jiaozhen/0/5c51c3dda0034078ac9fd13760dec0a5/0\",\"level\":0,\"artList\":null,\"openid\":\"odbfO1ItvXZ1AOTt_G0HD9QQtiQo\",\"unionid\":\"ot9tX06btwnQUJoOnFJDDmh-za4k\",\"inviteId\":\"NzI=\",\"nickname\":\"Hongtao Zhang\",\"headimgurl\":\"http://thirdwx.qlogo.cn/mmopen/vi_32/UnOx94UubFLUicDYC4Lgarj9fLoOdicJm3Ioic1G73sf85f6LoiazQIW7PT8oy7DdBNM0mSVcA6rC8aoaSXWiaO3onA/132\",\"ext1\":\"\",\"ext2\":null,\"ext3\":null,\"ext4\":null,\"ext5\":null,\"createdAt\":\"2019-03-20T03:31:28.000Z\",\"updatedAt\":\"2022-04-11T06:36:21.000Z\"},\"date\":\"2022-12-13\",\"markstyle\":\"fake\",\"result\":\"假\",\"explain\":\"谣言\",\"abstract\":\"网文中提到的研究论文，今年2月发表于《英国皇家学会学报B》(Proceedings of The Royal Society B)。但是，仔细读了一下这篇论文，其实跟新冠病毒感染没有半毛钱的关系。\\\\n研究人员通过调查发现：长得越好看的人，身体越健康！但仅此而已，这就是一个相关的结果，其实并没有证实“身体健康” 和“长得好看”之间有因果关系。\\\\n论文研究者都不敢说，网文作者就脑洞大开，总结出荒谬的结论：“漂亮的人免疫力更好，更能抵抗新冠病毒”。\",\"tag\":[\"新冠\",\"颜值\"],\"type\":1,\"videourl\":\"\",\"cover\":\"https://inews.gtimg.com/newsapp_bt/0/10493663291/641?imageView2/2/w/150/h/90\",\"coverrect\":\"https://inews.gtimg.com/newsapp_bt/0/10493663291/641\",\"coversqual\":\"https://inews.gtimg.com/newsapp_bt/0/10493663291/641?imageView2/2/w/300/h/300\",\"section\":\"\",\"iscolled\":false,\"arttype\":\"normal\"},{\"title\":\"新冠病毒能杀死肺癌细胞\",\"author\":\"药物研究人员，科普创作者\",\"authordesc\":\"药物研究人员，科普创作者\",\"id\":\"1600da99c3c264b3768ca0c38a28a8d3\",\"Author\":{\"id\":22,\"name\":\"一节生姜\",\"desc\":\"药物研究人员，科普创作者\",\"head\":\"http://p.qpic.cn/jiaozhen/0/5c51c3dda0034078ac9fd13760dec0a5/0\",\"level\":0,\"artList\":null,\"openid\":\"odbfO1ItvXZ1AOTt_G0HD9QQtiQo\",\"unionid\":\"ot9tX06btwnQUJoOnFJDDmh-za4k\",\"inviteId\":\"NzI=\",\"nickname\":\"Hongtao Zhang\",\"headimgurl\":\"http://thirdwx.qlogo.cn/mmopen/vi_32/UnOx94UubFLUicDYC4Lgarj9fLoOdicJm3Ioic1G73sf85f6LoiazQIW7PT8oy7DdBNM0mSVcA6rC8aoaSXWiaO3onA/132\",\"ext1\":\"\",\"ext2\":null,\"ext3\":null,\"ext4\":null,\"ext5\":null,\"createdAt\":\"2019-03-20T03:31:28.000Z\",\"updatedAt\":\"2022-04-11T06:36:21.000Z\"},\"date\":\"2022-12-13\",\"markstyle\":\"fake\",\"result\":\"假\",\"explain\":\"谣言\",\"abstract\":\"这只是一个动物实验，新冠病毒刺突蛋白是否在人体中也能让肺癌细胞萎缩？这还是一个未知数，还需要更多的研究来证实。\\\\n即便未来的研究证实刺突蛋白的抗癌作用，那也必须清楚地认识到这样一个事实：用来治疗肺癌的药物是病毒的蛋白，并不是整个病毒颗粒；也就是说，只是让病毒蛋白在细胞外蹭一蹭，并不是让活病毒来感染患者。\",\"tag\":[\"肺癌\",\"新冠\"],\"type\":1,\"videourl\":\"\",\"cover\":\"https://inews.gtimg.com/newsapp_bt/0/13840269407/641?imageView2/2/w/150/h/90\",\"coverrect\":\"https://inews.gtimg.com/newsapp_bt/0/13840269407/641\",\"coversqual\":\"https://inews.gtimg.com/newsapp_bt/0/13840269407/641?imageView2/2/w/300/h/300\",\"section\":\"\",\"iscolled\":false,\"arttype\":\"normal\"},{\"title\":\"喝白酒能有效预防新冠\",\"author\":\"笔名“菠萝因子” 、癌症科普作者\",\"authordesc\":\"笔名“菠萝因子” 、癌症科普作者\",\"id\":\"fc33f8691cbd6eeaf844c850acfdf155\",\"Author\":{\"id\":440,\"name\":\"李治中\",\"desc\":\"笔名“菠萝因子” 、癌症科普作者\",\"head\":\"https://p.qpic.cn/jiaozhen/0/authorpic378/0\",\"level\":0,\"artList\":null,\"openid\":\"\",\"unionid\":\"\",\"inviteId\":\"\",\"nickname\":\"\",\"headimgurl\":\"\",\"ext1\":\"\",\"ext2\":null,\"ext3\":null,\"ext4\":null,\"ext5\":null,\"createdAt\":\"2019-03-20T03:31:31.000Z\",\"updatedAt\":\"2019-03-21T10:28:08.000Z\"},\"date\":\"2022-12-13\",\"markstyle\":\"fake\",\"result\":\"假\",\"explain\":\"谣言\",\"abstract\":\"“饮酒防疫”这说法早在疫情流行之初就有了。外用酒精可以杀灭病毒，这没啥问题，但曲解成“喝酒可以抗新冠状病毒”就太扯了。“酒含有活性成分，能激活免疫力”更是陈词滥调。\\\\n科学界早就有共识：为了健康，无论是洋酒还是白酒，无论葡萄酒还是养生酒，都应该少喝，最好不喝。原因很简单，不管里面号称有多少有益活性物质，它们最主要的活性成分，都是酒精。而任何含酒精的饮料，都是一级致癌物。\",\"tag\":[\"喝酒\",\"新冠\"],\"type\":1,\"videourl\":\"\",\"cover\":\"//jiaozhen-70111.picnjc.qpic.cn/kEZeu73ReTXo2m2dxNj43s?imageView2/2/w/150/h/90\",\"coverrect\":\"//jiaozhen-70111.picnjc.qpic.cn/kEZeu73ReTXo2m2dxNj43s\",\"coversqual\":\"//jiaozhen-70111.picnjc.qpic.cn/kEZeu73ReTXo2m2dxNj43s?imageView2/2/w/300/h/300\",\"section\":\"\",\"iscolled\":false,\"arttype\":\"normal\"},{\"title\":\"奥密克戎是小艾滋，反复感染会免疫衰竭\",\"author\":\"遗传学博士，科普作者，新药研发从业者\",\"authordesc\":\"遗传学博士，科普作者，新药研发从业者\",\"id\":\"b713e5d8cd05f1ce28e909f6d3bced01\",\"Author\":{\"id\":1476,\"name\":\"Y博\",\"desc\":\"遗传学博士，科普作者，新药研发从业者\",\"head\":\"//jiaozhen-70111.picnjc.qpic.cn/udzqL7PDEErSBRzDMaskGQ\",\"level\":0,\"artList\":null,\"openid\":\"\",\"unionid\":\"\",\"inviteId\":\"\",\"nickname\":\"\",\"headimgurl\":\"\",\"ext1\":\"\",\"ext2\":null,\"ext3\":null,\"ext4\":null,\"ext5\":null,\"createdAt\":\"2021-06-17T02:09:16.000Z\",\"updatedAt\":\"2021-06-17T02:09:16.000Z\"},\"date\":\"2022-12-09\",\"markstyle\":\"fake\",\"result\":\"假\",\"explain\":\"谣言\",\"abstract\":\"新冠二次感染的风险是存在的，但没有网上一些谣言传得那么神，什么小艾滋、免疫耗竭，这些都是不对的。\\\\n新冠是急性感染，感染之后病毒就被清除了，会留下免疫记忆，二次感染的时候，免疫记忆被激发，普遍会让人的健康风险更小一些。\\\\n虽然每一次病毒感染都有一定的不确定性，但总体上新冠二次感染的危险会低于第一次。\",\"tag\":[\"新冠感染\",\"艾滋\"],\"type\":1,\"videourl\":\"\",\"cover\":\"//jiaozhen-70111.picnjc.qpic.cn/j36pKuAgjSsunHDYtfqA1n?imageView2/2/w/150/h/90\",\"coverrect\":\"//jiaozhen-70111.picnjc.qpic.cn/j36pKuAgjSsunHDYtfqA1n\",\"coversqual\":\"//jiaozhen-70111.picnjc.qpic.cn/j36pKuAgjSsunHDYtfqA1n?imageView2/2/w/300/h/300\",\"section\":\"\",\"iscolled\":false,\"arttype\":\"normal\"},{\"title\":\"喝电解质水缓解新冠症状比喝白开水更有效\",\"author\":\"药理学硕士\",\"authordesc\":\"药理学硕士\",\"id\":\"e625502a4a38bed5607231bc64d74fc1\",\"Author\":{\"id\":226,\"name\":\"谢望时\",\"desc\":\"药理学硕士\",\"head\":\"http://p.qpic.cn/jiaozhen/0/3eb6378948294822a55ef8e8fbc4ece0/0\",\"level\":0,\"artList\":null,\"openid\":\"odbfO1FMyQRb6cs9aWlDxP2DaB0o\",\"unionid\":\"ot9tX0xY79HqwpucqLlvcGj--QKY\",\"inviteId\":\"NTc=\",\"nickname\":\"Adam\",\"headimgurl\":\"http://thirdwx.qlogo.cn/mmopen/vi_32/Q0j4TwGTfTIqfCFJvbFuzNpbV9oVaYJ0wk9OrTdAgicRyNgbm7OkKC7Sbq50tyks0YbBiamapmhNmLuPBu510w4w/132\",\"ext1\":\"\",\"ext2\":null,\"ext3\":null,\"ext4\":null,\"ext5\":null,\"createdAt\":\"2019-03-20T03:31:29.000Z\",\"updatedAt\":\"2020-11-03T15:07:28.000Z\"},\"date\":\"2022-12-09\",\"markstyle\":\"doubt\",\"result\":\"疑\",\"explain\":\"分情况\",\"abstract\":\"得了新冠之后，带水的液体对于身体的恢复都有好处。因为新冠感染可能导致发烧、出汗，水分和电解质流失；另外，还可能出现喉咙痛，喝冰水可以有轻微的麻木效果，可以让你更舒服一点。\\\\n但在缓解新冠症状的作用大小上，电解质水是不是比普通的白开水更好，这就不一定了。对绝大多数人来说，保证充足的液体摄入基本是够的，白开水、汤汁、矿泉水、电解质水都行；对于腹泻的患者，电解质丢失比较严重，喝电解质水会很有帮助。而如果是那些无法摄入液体的比较严重的情况，则可能要去医院输液，不建议在家自行处理。\",\"tag\":[\"\"],\"type\":1,\"videourl\":\"\",\"cover\":\"//jiaozhen-70111.picnjc.qpic.cn/qyweayJp4E7qQp3bGYZGnU?imageView2/2/w/150/h/90\",\"coverrect\":\"//jiaozhen-70111.picnjc.qpic.cn/qyweayJp4E7qQp3bGYZGnU\",\"coversqual\":\"//jiaozhen-70111.picnjc.qpic.cn/qyweayJp4E7qQp3bGYZGnU?imageView2/2/w/300/h/300\",\"section\":\"\",\"iscolled\":false,\"arttype\":\"normal\"},{\"title\":\"感染新冠后不能吃布洛芬，否则会加重病情\",\"author\":\"腾讯新闻旗下专业事实查证平台\",\"authordesc\":\"腾讯新闻旗下专业事实查证平台\",\"id\":\"eda42c214f0f7d768bc85812ca3172a3\",\"Author\":{\"id\":371,\"name\":\"较真团队\",\"desc\":\"腾讯新闻旗下专业事实查证平台\",\"head\":\"http://p.qpic.cn/jiaozhen/0/7eb4533c1d604ecfa3f25a0d1cae29cd/0\",\"level\":0,\"artList\":null,\"openid\":\"\",\"unionid\":\"\",\"inviteId\":\"\",\"nickname\":\"\",\"headimgurl\":\"\",\"ext1\":\"\",\"ext2\":null,\"ext3\":null,\"ext4\":null,\"ext5\":null,\"createdAt\":\"2019-03-20T03:31:30.000Z\",\"updatedAt\":\"2020-11-10T11:07:15.000Z\"},\"date\":\"2022-12-09\",\"markstyle\":\"fake\",\"result\":\"假\",\"explain\":\"谣言\",\"abstract\":\"“得了新冠不能用布洛芬加重病情”的说法是一个未经证实的谣言，起源于2020年初的一个假设，而非客观事实。\\\\n多个国际权威机构已表示“没有证据表明布洛芬与新冠感染症状恶化之间存在联系”“不建议反对使用布洛芬”，因此如果得了新冠出现发烧疼痛，在没有药物禁忌的情况下，完全可以使用布洛芬。\\\\n接种新冠疫苗后，可能出现发烧，或者注射部位有时候会出现疼痛，这种情况下用布洛芬或对乙酰氨基酚等止痛药也不会削弱疫苗效果。\",\"tag\":[\"新冠\",\"布洛芬\"],\"type\":1,\"videourl\":\"\",\"cover\":\"//jiaozhen-70111.picnjc.qpic.cn/d8Rs9xdRDt7ZyDb6heDFGH?imageView2/2/w/150/h/90\",\"coverrect\":\"//jiaozhen-70111.picnjc.qpic.cn/d8Rs9xdRDt7ZyDb6heDFGH\",\"coversqual\":\"//jiaozhen-70111.picnjc.qpic.cn/d8Rs9xdRDt7ZyDb6heDFGH?imageView2/2/w/300/h/300\",\"section\":\"\",\"iscolled\":false,\"arttype\":\"normal\"},{\"title\":\"国务院联防联控小组正式摘牌\",\"author\":\"中央网信办违法和不良信息举报中心主办、新华网承办的辟谣平台\",\"authordesc\":\"中央网信办违法和不良信息举报中心主办、新华网承办的辟谣平台\",\"id\":\"92026de8e8e3c90d0434bd96a9cb8109\",\"Author\":{\"id\":964,\"name\":\"中国互联网联合辟谣平台\",\"desc\":\"中央网信办违法和不良信息举报中心主办、新华网承办的辟谣平台\",\"head\":\"http://p.qpic.cn/jiaozhen/0/5da459174e1d4404973107b078a8ae93/0\",\"level\":0,\"artList\":null,\"openid\":\"\",\"unionid\":\"\",\"inviteId\":\"\",\"nickname\":\"\",\"headimgurl\":\"\",\"ext1\":\"\",\"ext2\":null,\"ext3\":null,\"ext4\":null,\"ext5\":null,\"createdAt\":\"2019-05-14T11:39:37.000Z\",\"updatedAt\":\"2019-09-23T02:00:48.000Z\"},\"date\":\"2022-12-09\",\"markstyle\":\"fake\",\"result\":\"假\",\"explain\":\"谣言\",\"abstract\":\"据核实，网上流传的图片并不是什么联防联控小组摘牌场景，而是国家卫健委2020年将其新闻发布会背景改成国务院联防联控机制发布会背景的照片。\\\\n而在12月8日下午召开的国务院联防联控机制新闻发布会现场，蓝底白字的背景上仍然写着“国务院联防联控机制新闻发布会”，显然“联防联控机制”仍在运行，而“联防联控小组”子虚乌有。\",\"tag\":[\"新冠\",\"卫健委\"],\"type\":1,\"videourl\":\"\",\"cover\":\"//jiaozhen-70111.picnjc.qpic.cn/3YY8tPboHfAokveaDnD3Ve?imageView2/2/w/150/h/90\",\"coverrect\":\"//jiaozhen-70111.picnjc.qpic.cn/3YY8tPboHfAokveaDnD3Ve\",\"coversqual\":\"//jiaozhen-70111.picnjc.qpic.cn/3YY8tPboHfAokveaDnD3Ve?imageView2/2/w/300/h/300\",\"section\":\"\",\"iscolled\":false,\"arttype\":\"normal\"},{\"title\":\"新冠患者不能服用布洛芬\",\"author\":\"生物医学博士、美国执业医生\",\"authordesc\":\"生物医学博士、美国执业医生\",\"id\":\"bde016f6c256e771494b9bc5e94a0eea\",\"Author\":{\"id\":1598,\"name\":\"阿司匹林42195米\",\"desc\":\"生物医学博士、美国执业医生\",\"head\":\"//jiaozhen-70111.picnjc.qpic.cn/oXw1dH4xMDqqHJSQPhKsyH\",\"level\":0,\"artList\":null,\"openid\":\"\",\"unionid\":\"\",\"inviteId\":\"\",\"nickname\":\"\",\"headimgurl\":\"\",\"ext1\":\"\",\"ext2\":null,\"ext3\":null,\"ext4\":null,\"ext5\":null,\"createdAt\":\"2022-12-02T08:55:38.000Z\",\"updatedAt\":\"2022-12-02T09:03:36.000Z\"},\"date\":\"2022-12-07\",\"markstyle\":\"fake\",\"result\":\"假\",\"explain\":\"谣言\",\"abstract\":\"2020年3月，科学家发现新冠病毒经过ACE受体起作用。已知非甾体抗炎药NSAID（包括布洛芬）也是通过ACE受体工作，世卫发言人回应：保险起见，目前“建议使用扑热息痛，不用布洛芬。”\\\\n2020年3月18日，综合专家研究和一线医生的意见，世界卫生组织正式表态：布洛芬可以用于新冠患者。至此，这件纷纷扬扬的事情画了一个句号。这两天大家见到的自媒体文章，就是2020年蹭流量的一波。\",\"tag\":[\"新冠\",\"布洛芬\"],\"type\":1,\"videourl\":\"\",\"cover\":\"//jiaozhen-70111.picnjc.qpic.cn/xsUy6oaWRAENtpLFEzwyGP?imageView2/2/w/150/h/90\",\"coverrect\":\"//jiaozhen-70111.picnjc.qpic.cn/xsUy6oaWRAENtpLFEzwyGP\",\"coversqual\":\"//jiaozhen-70111.picnjc.qpic.cn/xsUy6oaWRAENtpLFEzwyGP?imageView2/2/w/300/h/300\",\"section\":\"\",\"iscolled\":false,\"arttype\":\"normal\"},{\"title\":\"新冠感染者居家隔离，会经楼道气溶胶传播病毒\",\"author\":\"生物医学博士、美国执业医生\",\"authordesc\":\"生物医学博士、美国执业医生\",\"id\":\"b15043a0ee2a39f73fe662a45b6438e2\",\"Author\":{\"id\":1598,\"name\":\"阿司匹林42195米\",\"desc\":\"生物医学博士、美国执业医生\",\"head\":\"//jiaozhen-70111.picnjc.qpic.cn/oXw1dH4xMDqqHJSQPhKsyH\",\"level\":0,\"artList\":null,\"openid\":\"\",\"unionid\":\"\",\"inviteId\":\"\",\"nickname\":\"\",\"headimgurl\":\"\",\"ext1\":\"\",\"ext2\":null,\"ext3\":null,\"ext4\":null,\"ext5\":null,\"createdAt\":\"2022-12-02T08:55:38.000Z\",\"updatedAt\":\"2022-12-02T09:03:36.000Z\"},\"date\":\"2022-12-02\",\"markstyle\":\"doubt\",\"result\":\"疑\",\"explain\":\"分情况\",\"abstract\":\"从科学上来说，值得写成病例报道本身就说明是罕见现象。而且不少这样的报道只说“可能”“也许”是楼道/管道传播的，因为并没有直接的证据。\\\\n经管道传播新冠的情形一般是这样的：房屋管道较陈旧或结构特殊；阳性病人房间里空气中病毒的浓度很高，病毒传到邻居家后，在邻居空气中稀释之后还要有足够的浓度去感染别人，因此通过气溶胶经管道传播的风险是极低的。\",\"tag\":[\"气溶胶传播\",\"新冠\"],\"type\":1,\"videourl\":\"\",\"cover\":\"//jiaozhen-70111.picnjc.qpic.cn/jY3r5hyaZqYpuFrC369wUE?imageView2/2/w/150/h/90\",\"coverrect\":\"//jiaozhen-70111.picnjc.qpic.cn/jY3r5hyaZqYpuFrC369wUE\",\"coversqual\":\"//jiaozhen-70111.picnjc.qpic.cn/jY3r5hyaZqYpuFrC369wUE?imageView2/2/w/300/h/300\",\"section\":\"\",\"iscolled\":false,\"arttype\":\"normal\"},{\"title\":\"羊城晚报：奥密克戎病毒正式更名为新型冠状病毒感冒\",\"author\":\"羊城晚报报业集团数字化产品\",\"authordesc\":\"羊城晚报报业集团数字化产品\",\"id\":\"4b4f9e01564c76390bfb7679d7503fbb\",\"Author\":{\"id\":1192,\"name\":\"羊城派\",\"desc\":\"羊城晚报报业集团数字化产品\",\"head\":\"http://p.qpic.cn/jiaozhen/0/210816872bf84341a1be42554c344a43/0\",\"level\":0,\"artList\":null,\"openid\":\"\",\"unionid\":\"\",\"inviteId\":\"\",\"nickname\":\"\",\"headimgurl\":\"\",\"ext1\":\"\",\"ext2\":null,\"ext3\":null,\"ext4\":null,\"ext5\":null,\"createdAt\":\"2019-11-01T06:36:39.000Z\",\"updatedAt\":\"2019-11-01T06:36:39.000Z\"},\"date\":\"2022-12-01\",\"markstyle\":\"fake\",\"result\":\"假\",\"explain\":\"谣言\",\"abstract\":\"2022年11月30日18时35分，有人恶意P图，假冒羊城晚报官方微博之名，发布“本次奥密克戎病毒正式更名为新型冠状病毒感冒”等不实言论，造成恶劣影响。现严正声明：本报所有端口从未发表类似言论，已报警处理。网络不是法外之地，对恶意编造及散布不实信息者，本报将依法追究其一切责任。\",\"tag\":[\"奥密克戎\",\"新冠\"],\"type\":1,\"videourl\":\"\",\"cover\":\"//jiaozhen-70111.picnjc.qpic.cn/i15g8VwjarE1A17KpnMa9E?imageView2/2/w/150/h/90\",\"coverrect\":\"//jiaozhen-70111.picnjc.qpic.cn/i15g8VwjarE1A17KpnMa9E\",\"coversqual\":\"//jiaozhen-70111.picnjc.qpic.cn/i15g8VwjarE1A17KpnMa9E?imageView2/2/w/300/h/300\",\"section\":\"\",\"iscolled\":false,\"arttype\":\"normal\"},{\"title\":\"常戴口罩会吸入口罩纤维到肺里，患上肺结节\",\"author\":\"中国科协为深入推进科普信息化建设而塑造的全新品牌\",\"authordesc\":\"中国科协为深入推进科普信息化建设而塑造的全新品牌\",\"id\":\"c67e86f75865bada2204d22bd708e70d\",\"Author\":{\"id\":447,\"name\":\"科普中国\",\"desc\":\"中国科协为深入推进科普信息化建设而塑造的全新品牌\",\"head\":\"https://p.qpic.cn/jiaozhen/0/authorpic538/0\",\"level\":0,\"artList\":null,\"openid\":\"\",\"unionid\":\"\",\"inviteId\":\"\",\"nickname\":\"\",\"headimgurl\":\"\",\"ext1\":\"\",\"ext2\":null,\"ext3\":null,\"ext4\":null,\"ext5\":null,\"createdAt\":\"2019-03-20T03:31:31.000Z\",\"updatedAt\":\"2019-08-05T03:37:23.000Z\"},\"date\":\"2022-11-27\",\"markstyle\":\"fake\",\"result\":\"假\",\"explain\":\"谣言\",\"abstract\":\"很多人体检发现肺结节，主要因为是现在医学影像技术进步了，肺结节越来越容易被检测出来了。以前的X线检查分辨率不够，CT又太贵很少有人做，所以查不出来那么多结节，这和口罩没什么关系。\\\\n至于口罩上会掉“渣”的说法，由于我们的呼吸道有自洁的功能，所以能阻挡很多异物进入肺泡，真正能进入肺泡的只有我们很熟悉的PM2.5-PM10大小的微粒。熔喷布是口罩的核心材料，以石油化工产品聚丙烯为主要原料，为高分子结构，正常情况下分子与分子粘接在一起，不可能“降解”或“释放”出小颗粒。合格的医用外科口罩，正常使用的情况下，并不会掉“渣”被我们吸入肺里引起危害。而且正确佩戴口罩，恰恰能保护我们免于吸入病原体或其他异物。\",\"tag\":[\"口罩\",\"肺结节\"],\"type\":1,\"videourl\":\"\",\"cover\":\"//jiaozhen-70111.picnjc.qpic.cn/7wZPc8qJM3hyVswtyxbXCj?imageView2/2/w/150/h/90\",\"coverrect\":\"//jiaozhen-70111.picnjc.qpic.cn/7wZPc8qJM3hyVswtyxbXCj\",\"coversqual\":\"//jiaozhen-70111.picnjc.qpic.cn/7wZPc8qJM3hyVswtyxbXCj?imageView2/2/w/300/h/300\",\"section\":\"\",\"iscolled\":false,\"arttype\":\"normal\"},{\"title\":\"抗原检测试剂盒不准，用橘子汁做都能阳\",\"author\":\"北京医院临检中心副研究员\",\"authordesc\":\"北京医院临检中心副研究员\",\"id\":\"243d5d72bd90e812bcdb62c1b47de4d1\",\"Author\":{\"id\":380,\"name\":\"钟堃\",\"desc\":\"北京医院临检中心副研究员\",\"head\":\"//jiaozhen-70111.picnjc.qpic.cn/mDs9VV3thzRcwYJHdDE646\",\"level\":0,\"artList\":null,\"openid\":\"\",\"unionid\":\"\",\"inviteId\":\"\",\"nickname\":\"\",\"headimgurl\":\"\",\"ext1\":\"\",\"ext2\":null,\"ext3\":null,\"ext4\":null,\"ext5\":null,\"createdAt\":\"2019-03-20T03:31:30.000Z\",\"updatedAt\":\"2020-06-23T06:59:25.000Z\"},\"date\":\"2022-11-29\",\"markstyle\":\"fake\",\"result\":\"假\",\"explain\":\"伪常识\",\"abstract\":\"这其实是一种假阳性结果，甚至可以认为这样的操作只是在浪费检测试剂盒，因为标本类型不适用，检测结果没有意义。\\\\n出现这样的结果是因为橙汁的pH值较低，会使溶液的酸性增加破坏胶体金颗粒的状态而导致了假阳性的结果。\\\\n此外，直接拿果汁或者饮料来做其实是没有按照检测的操作规程来做的。如果用原装的稀释液或者反应液对检测的样本进行前处理，应该会得到预期的结果。\\\\n最后，即使是吃了橘子喝了果汁饮料，也是从口咽部顺食道到达胃部，一定时间之后很难有残留不说，抗原检测多是鼻部分泌物，几乎也不会有交集。\",\"tag\":[\"橘子汁\",\"抗原检测\"],\"type\":1,\"videourl\":\"\",\"cover\":\"//jiaozhen-70111.picnjc.qpic.cn/mK2nDrwV47xhij42TGFDWB?imageView2/2/w/150/h/90\",\"coverrect\":\"//jiaozhen-70111.picnjc.qpic.cn/mK2nDrwV47xhij42TGFDWB\",\"coversqual\":\"//jiaozhen-70111.picnjc.qpic.cn/mK2nDrwV47xhij42TGFDWB?imageView2/2/w/300/h/300\",\"section\":\"\",\"iscolled\":false,\"arttype\":\"normal\"},{\"title\":\"高烧四十度也是无症状，出现肺炎才算确诊\",\"author\":\"遗传学博士，科普作者，新药研发从业者\",\"authordesc\":\"遗传学博士，科普作者，新药研发从业者\",\"id\":\"5996e95ed257a96805000c887050d0b1\",\"Author\":{\"id\":1476,\"name\":\"Y博\",\"desc\":\"遗传学博士，科普作者，新药研发从业者\",\"head\":\"//jiaozhen-70111.picnjc.qpic.cn/udzqL7PDEErSBRzDMaskGQ\",\"level\":0,\"artList\":null,\"openid\":\"\",\"unionid\":\"\",\"inviteId\":\"\",\"nickname\":\"\",\"headimgurl\":\"\",\"ext1\":\"\",\"ext2\":null,\"ext3\":null,\"ext4\":null,\"ext5\":null,\"createdAt\":\"2021-06-17T02:09:16.000Z\",\"updatedAt\":\"2021-06-17T02:09:16.000Z\"},\"date\":\"2022-11-25\",\"markstyle\":\"fake\",\"result\":\"假\",\"explain\":\"谣言\",\"abstract\":\"无症状是指没有任何明显症状，包括发烧、咳嗽、喉咙痛等各种呼吸道传染病症状在内，所以“高烧四十度不退”并非“无症状”；\\\\n无症状感染在现实中包括真的全程无症状，以及感染者处于症状前暂时无症状，或者感染者忽略了自己的症状；\\\\n无症状感染在新冠传播中占了较高的比例，疫情防控需要关注无症状感染。\",\"tag\":[\"\"],\"type\":1,\"videourl\":\"\",\"cover\":\"//jiaozhen-70111.picnjc.qpic.cn/pVPo5S6d8g7b4kgi9yihpT?imageView2/2/w/150/h/90\",\"coverrect\":\"//jiaozhen-70111.picnjc.qpic.cn/pVPo5S6d8g7b4kgi9yihpT\",\"coversqual\":\"//jiaozhen-70111.picnjc.qpic.cn/pVPo5S6d8g7b4kgi9yihpT?imageView2/2/w/300/h/300\",\"section\":\"\",\"iscolled\":false,\"arttype\":\"normal\"},{\"title\":\"重庆火车站拉人到方舱医院有补贴\",\"author\":\"中国新闻网\",\"authordesc\":\"由国家级通讯社中国新闻社主办\",\"id\":\"690b58832ff5194346ce7cb3c0f7ee93\",\"Author\":{\"id\":361,\"name\":\"中国新闻网\",\"desc\":\"由国家级通讯社中国新闻社主办\",\"head\":\"https://p.qpic.cn/jiaozhen/0/authorpic70/0\",\"level\":0,\"artList\":null,\"openid\":\"\",\"unionid\":\"\",\"inviteId\":\"\",\"nickname\":\"\",\"headimgurl\":\"\",\"ext1\":\"\",\"ext2\":null,\"ext3\":null,\"ext4\":null,\"ext5\":null,\"createdAt\":\"2019-03-20T03:31:30.000Z\",\"updatedAt\":\"2019-08-05T03:20:36.000Z\"},\"date\":\"2022-11-23\",\"markstyle\":\"fake\",\"result\":\"假\",\"explain\":\"谣言\",\"abstract\":\"重庆市公安局江北区分局官方微信“平安江北”22日发布警情通报称，网传重庆北站羊儿客拉人到方舱医院有补贴系谣言，造谣者已被警方抓获并开展调查。\",\"tag\":[\"重庆\",\"方舱\"],\"type\":1,\"videourl\":\"\",\"cover\":\"//jiaozhen-70111.picnjc.qpic.cn/g7guJdFWxKmm1GbasGSFtB?imageView2/2/w/150/h/90\",\"coverrect\":\"//jiaozhen-70111.picnjc.qpic.cn/g7guJdFWxKmm1GbasGSFtB\",\"coversqual\":\"//jiaozhen-70111.picnjc.qpic.cn/g7guJdFWxKmm1GbasGSFtB?imageView2/2/w/300/h/300\",\"section\":\"\",\"iscolled\":false,\"arttype\":\"normal\"},{\"title\":\"石家庄查出白肺，可能是新冠变异\",\"author\":\"中央网信办违法和不良信息举报中心主办\",\"authordesc\":\"中央网信办违法和不良信息举报中心主办\",\"id\":\"4ba348a86898c49230faa42af9f032a6\",\"Author\":{\"id\":398,\"name\":\"中国互联网联合辟谣平台\",\"desc\":\"中央网信办违法和不良信息举报中心主办\",\"head\":\"https://p.qpic.cn/jiaozhen/0/authorpic68/0\",\"level\":0,\"artList\":null,\"openid\":\"\",\"unionid\":\"\",\"inviteId\":\"\",\"nickname\":\"\",\"headimgurl\":\"\",\"ext1\":\"\",\"ext2\":null,\"ext3\":null,\"ext4\":null,\"ext5\":null,\"createdAt\":\"2019-03-20T03:31:30.000Z\",\"updatedAt\":\"2019-03-21T10:28:08.000Z\"},\"date\":\"2022-11-16\",\"markstyle\":\"fake\",\"result\":\"假\",\"explain\":\"谣言\",\"abstract\":\"对此，红星新闻记者拨打石家庄市12345政务服务便民热线，反映网传消息。11月15日上午，石家庄市第二人民医院一名工作人员回电称，院方收到相关部门派发的工单后，经调查核实，网传的“石家庄查出白肺”系谣言，“我们医院没有这个事儿，谣言止于智者。”\",\"tag\":[\"石家庄\",\"白肺\"],\"type\":1,\"videourl\":\"\",\"cover\":\"//jiaozhen-70111.picnjc.qpic.cn/cwLZtTw55DLNP7Tt9eePS7?imageView2/2/w/150/h/90\",\"coverrect\":\"//jiaozhen-70111.picnjc.qpic.cn/cwLZtTw55DLNP7Tt9eePS7\",\"coversqual\":\"//jiaozhen-70111.picnjc.qpic.cn/cwLZtTw55DLNP7Tt9eePS7?imageView2/2/w/300/h/300\",\"section\":\"\",\"iscolled\":false,\"arttype\":\"normal\"},{\"title\":\"天津老太太发口罩拐骗儿童\",\"author\":\"天津辟谣\",\"authordesc\":\"天津市互联网违法和不良信息举报中心\",\"id\":\"9c0a103c801d8f7c92b0ba25ab37386f\",\"Author\":{\"id\":1596,\"name\":\"天津辟谣\",\"desc\":\"天津市互联网违法和不良信息举报中心\",\"head\":\"//jiaozhen-70111.picnjc.qpic.cn/4vBeDiVnZASvWaL9KZjmwE\",\"level\":0,\"artList\":null,\"openid\":\"\",\"unionid\":\"\",\"inviteId\":\"\",\"nickname\":\"\",\"headimgurl\":\"\",\"ext1\":\"\",\"ext2\":null,\"ext3\":null,\"ext4\":null,\"ext5\":null,\"createdAt\":\"2022-11-14T07:43:54.000Z\",\"updatedAt\":\"2022-11-14T07:43:54.000Z\"},\"date\":\"2022-11-14\",\"markstyle\":\"fake\",\"result\":\"假\",\"explain\":\"谣言\",\"abstract\":\"经与公安部门核实，11月13日10时许，梁某某（女，70岁）途经河北区金海道某小区门前时，看到两名12岁男孩在路边玩耍未佩戴口罩，遂主动提供口罩，被两名男孩拒绝，在双方纠缠期间群众报警。经进一步调查，梁某某患有小脑萎缩，口罩上无有害物质，不存在拐骗儿童行为。现双方已消除误解。\",\"tag\":[\"口罩\",\"拐卖\"],\"type\":1,\"videourl\":\"\",\"cover\":\"//jiaozhen-70111.picnjc.qpic.cn/8yMJbC5bkAnXRurRa4wePg?imageView2/2/w/150/h/90\",\"coverrect\":\"//jiaozhen-70111.picnjc.qpic.cn/8yMJbC5bkAnXRurRa4wePg\",\"coversqual\":\"//jiaozhen-70111.picnjc.qpic.cn/8yMJbC5bkAnXRurRa4wePg?imageView2/2/w/300/h/300\",\"section\":\"\",\"iscolled\":false,\"arttype\":\"normal\"},{\"title\":\"北京重庆河北山东山西等地飞机喷洒打药全城消杀\",\"author\":\"中央网信办违法和不良信息举报中心主办、新华网承办的辟谣平台\",\"authordesc\":\"中央网信办违法和不良信息举报中心主办、新华网承办的辟谣平台\",\"id\":\"028c5c7b2e95100e7f9c3df37c0055f2\",\"Author\":{\"id\":964,\"name\":\"中国互联网联合辟谣平台\",\"desc\":\"中央网信办违法和不良信息举报中心主办、新华网承办的辟谣平台\",\"head\":\"http://p.qpic.cn/jiaozhen/0/5da459174e1d4404973107b078a8ae93/0\",\"level\":0,\"artList\":null,\"openid\":\"\",\"unionid\":\"\",\"inviteId\":\"\",\"nickname\":\"\",\"headimgurl\":\"\",\"ext1\":\"\",\"ext2\":null,\"ext3\":null,\"ext4\":null,\"ext5\":null,\"createdAt\":\"2019-05-14T11:39:37.000Z\",\"updatedAt\":\"2019-09-23T02:00:48.000Z\"},\"date\":\"2022-10-31\",\"markstyle\":\"fake\",\"result\":\"假\",\"explain\":\"谣言\",\"abstract\":\"针对这一网传信息，多地官方回应：传言不实！\",\"tag\":[\"飞机喷洒打药\",\"消毒\"],\"type\":1,\"videourl\":\"\",\"cover\":\"//jiaozhen-70111.picnjc.qpic.cn/jghSFbDM8EEzDfM5PNhv2B?imageView2/2/w/150/h/90\",\"coverrect\":\"//jiaozhen-70111.picnjc.qpic.cn/jghSFbDM8EEzDfM5PNhv2B\",\"coversqual\":\"//jiaozhen-70111.picnjc.qpic.cn/jghSFbDM8EEzDfM5PNhv2B?imageView2/2/w/300/h/300\",\"section\":\"\",\"iscolled\":false,\"arttype\":\"normal\"}],\"hotSearchs\":[{\"question\":\"布洛芬 新冠\"},{\"question\":\"电解质水\"},{\"question\":\"奥密克戎 艾滋\"},{\"question\":\"抗原检测 橘子\"},{\"question\":\"口罩 肺结节\"},{\"question\":\"无症状感染 高烧\"},{\"question\":\"石家庄 白肺\"},{\"question\":\"疫苗 肺结节\"},{\"question\":\"一码扫两次\"},{\"question\":\"核酸 鼻咽癌喉癌\"}],\"titleLink\":\"//new.inews.gtimg.com/tnews/07031a22/a111/07031a22-a111-4927-a437-f4916cda87c1.png\",\"tabs\":[{\"icon\":\"//mat1.gtimg.com/www/coral/jiaozhen/imgs/feiyan_topcell2.png\",\"title\":\"疫情数据\",\"url\":\"https://news.qq.com//zt2020/page/feiyan.htm\"},{\"icon\":\"//mat1.gtimg.com/www/coral/jiaozhen/imgs/feiyan_topcell3.png\",\"title\":\"防护手册\",\"url\":\"https://news.qq.com/elk/publish/elk_63918c6afb94c78a41209f4d.html\"}]},\"cookieAppid\":\"101501549\"},\"deployENV\":\"formal\",\"query\":{},\"errmsg\":\"\",\"_nextI18Next\":{\"initialI18nStore\":{\"zh-CN\":{\"home\":{\"shareTitle\":\"分享一下 终结谣言\",\"bannerTitle\":\"新冠病毒实时辟谣\",\"allTab\":\"全部内容\",\"onlyTrue\":\"只看真\",\"onlyFale\":\"只看假\",\"jzAak\":\"向较真提问\",\"alreadyExists\":\"已显示全部内容\",\"trueTitle\":\"分享一下 守护家人\",\"lookAuthor\":\"查证者\",\"deatultSwiperText\":\"请输入搜索内容\"}}},\"initialLocale\":\"zh-CN\",\"userConfig\":{\"i18n\":{\"defaultLocale\":\"zh-CN\",\"locales\":[\"zh-CN\",\"zh-HK\",\"zh-TW\"]},\"default\":{\"i18n\":{\"defaultLocale\":\"zh-CN\",\"locales\":[\"zh-CN\",\"zh-HK\",\"zh-TW\"]}}}}},\"__N_SSP\":true},\"page\":\"/home\",\"query\":{},\"buildId\":\"5wr92_GIrQETxvS-evl6n\",\"assetPrefix\":\"https://tnfe.gtimg.com/jiaozhen/h5ssr\",\"isFallback\":false,\"gssp\":true,\"customServer\":true,\"locale\":\"zh-CN\",\"locales\":[\"zh-CN\",\"zh-HK\",\"zh-TW\"],\"defaultLocale\":\"zh-CN\",\"scriptLoader\":[]}</script><script>\\n  var emonitorIns = emonitor.create({\\n    name: \\'feiyanh5\\',\\n    mode: \\'007\\',\\n    atta: {\\n      name: \\'jiaozhen_h5_ssr\\'\\n    },\\n    onBeforeSend: function(data) {\\n      // 过滤特定地址\\n      if (data.type === \\'cdn\\') {\\n        return false;\\n      }\\n    }\\n});</script></body></html>'"
      ]
     },
     "execution_count": 14,
     "metadata": {},
     "output_type": "execute_result"
    }
   ],
   "source": [
    "content.text"
   ]
  },
  {
   "cell_type": "markdown",
   "id": "e2f52d2e",
   "metadata": {},
   "source": [
    "## parse content from html"
   ]
  },
  {
   "cell_type": "markdown",
   "id": "9e2c315a",
   "metadata": {},
   "source": [
    "***Beautiful Soup***\n",
    "\n",
    "> Beautiful Soup is a Python library designed for quick turnaround projects like screen-scraping. Three features make it powerful:\n",
    "\n",
    "- Beautiful Soup provides a few simple methods. It doesn't take much code to write an application\n",
    "- Beautiful Soup automatically converts incoming documents to Unicode and outgoing documents to UTF-8. Then you just have to specify the original encoding.\n",
    "- Beautiful Soup sits on top of popular Python parsers like `lxml` and `html5lib`."
   ]
  },
  {
   "cell_type": "markdown",
   "id": "699bc30f",
   "metadata": {},
   "source": [
    "***Usefull methods in beautiful soup:***\n",
    "* ***select***\n",
    "* ***find***\n",
    "* ***find_all***"
   ]
  },
  {
   "cell_type": "code",
   "execution_count": 15,
   "id": "1627d5bd",
   "metadata": {
    "ExecuteTime": {
     "end_time": "2022-12-13T08:25:33.406852Z",
     "start_time": "2022-12-13T08:25:33.240556Z"
    }
   },
   "outputs": [],
   "source": [
    "from bs4 import BeautifulSoup # if error, you need to install the package"
   ]
  },
  {
   "cell_type": "code",
   "execution_count": 16,
   "id": "5136d94b",
   "metadata": {
    "ExecuteTime": {
     "end_time": "2022-12-13T08:25:35.413802Z",
     "start_time": "2022-12-13T08:25:35.376492Z"
    }
   },
   "outputs": [],
   "source": [
    "soup = BeautifulSoup(content.text, 'html.parser') "
   ]
  },
  {
   "cell_type": "code",
   "execution_count": 17,
   "id": "40907c3f",
   "metadata": {
    "ExecuteTime": {
     "end_time": "2022-12-13T08:25:38.350868Z",
     "start_time": "2022-12-13T08:25:38.302862Z"
    },
    "scrolled": true
   },
   "outputs": [
    {
     "data": {
      "text/plain": [
       "<!DOCTYPE html>\n",
       "<html lang=\"zh-CN\"><head><meta charset=\"utf-8\"/><meta content=\"查真假，就上腾讯新闻较真平台\" name=\"description\"/><title>腾讯较真实时辟谣</title><meta content=\"yes\" name=\"apple-mobile-web-app-capable\"/><meta content=\"application\" name=\"browsermode\"/><meta content=\"width=device-width, initial-scale=1.0, minimum-scale=1.0, maximum-scale=1.0, user-scalable=no\" name=\"viewport\"/><meta content=\"6\" name=\"next-head-count\"/><script src=\"https://beacon.cdn.qq.com/sdk/4.5.9/beacon_web.min.js\"></script><script charset=\"utf-8\" src=\"https://mat1.gtimg.com/www/js/emonitor/custom_e439ff7f.js\"></script><link as=\"style\" href=\"https://tnfe.gtimg.com/jiaozhen/h5ssr/_next/static/css/e930cd01eea79c4b.css\" rel=\"preload\"/><link data-n-g=\"\" href=\"https://tnfe.gtimg.com/jiaozhen/h5ssr/_next/static/css/e930cd01eea79c4b.css\" rel=\"stylesheet\"/><link as=\"style\" href=\"https://tnfe.gtimg.com/jiaozhen/h5ssr/_next/static/css/a9a2977851c84c91.css\" rel=\"preload\"/><link data-n-p=\"\" href=\"https://tnfe.gtimg.com/jiaozhen/h5ssr/_next/static/css/a9a2977851c84c91.css\" rel=\"stylesheet\"/><noscript data-n-css=\"\"></noscript><script defer=\"\" nomodule=\"\" src=\"https://tnfe.gtimg.com/jiaozhen/h5ssr/_next/static/chunks/polyfills-5cd94c89d3acac5f.js\"></script><script defer=\"\" src=\"https://tnfe.gtimg.com/jiaozhen/h5ssr/_next/static/chunks/webpack-ad999b52c4806be9.js\"></script><script defer=\"\" src=\"https://tnfe.gtimg.com/jiaozhen/h5ssr/_next/static/chunks/framework-a87821de553db91d.js\"></script><script defer=\"\" src=\"https://tnfe.gtimg.com/jiaozhen/h5ssr/_next/static/chunks/main-b71241d05b0b7894.js\"></script><script defer=\"\" src=\"https://tnfe.gtimg.com/jiaozhen/h5ssr/_next/static/chunks/pages/_app-59c4c0632fdbdc31.js\"></script><script defer=\"\" src=\"https://tnfe.gtimg.com/jiaozhen/h5ssr/_next/static/chunks/411-06acadaecf47fb1a.js\"></script><script defer=\"\" src=\"https://tnfe.gtimg.com/jiaozhen/h5ssr/_next/static/chunks/289-7847df664503be45.js\"></script><script defer=\"\" src=\"https://tnfe.gtimg.com/jiaozhen/h5ssr/_next/static/chunks/308-a91b3c3728c15d59.js\"></script><script defer=\"\" src=\"https://tnfe.gtimg.com/jiaozhen/h5ssr/_next/static/chunks/392-91c0d71753455ac9.js\"></script><script defer=\"\" src=\"https://tnfe.gtimg.com/jiaozhen/h5ssr/_next/static/chunks/pages/home-6e480299d9a15d1f.js\"></script><script defer=\"\" src=\"https://tnfe.gtimg.com/jiaozhen/h5ssr/_next/static/5wr92_GIrQETxvS-evl6n/_buildManifest.js\"></script><script defer=\"\" src=\"https://tnfe.gtimg.com/jiaozhen/h5ssr/_next/static/5wr92_GIrQETxvS-evl6n/_ssgManifest.js\"></script><script defer=\"\" src=\"https://tnfe.gtimg.com/jiaozhen/h5ssr/_next/static/5wr92_GIrQETxvS-evl6n/_middlewareManifest.js\"></script></head><body><div id=\"__next\"><div class=\"home_container__6BLKx\"><div class=\"maskComponent_container__15AGy\"></div><div class=\"adm-pull-to-refresh\"><div class=\"adm-pull-to-refresh-head\" style=\"height:0\"><div class=\"adm-pull-to-refresh-head-content\" style=\"height:40px\">下拉刷新</div></div><div class=\"adm-pull-to-refresh-content\"><div class=\"home_homeContainer__iZ6w9 home_isSticky__d6BTO\"><div class=\"home_bannerMain__dTBBO home_bannerMainNoneImg__A5wFM\" style=\"height:9.5rem\"><img alt=\"top banner img\" class=\"home_positionLogo__lDuKi\" src=\"https://new.inews.gtimg.com/tnews/896f8970/9642/896f8970-9642-48da-ae00-23b13a5916f2.png\"/><div class=\"home_logo__tgAEv\"></div><img alt=\"tencentnews logo\" class=\"home_logo__tgAEv\" src=\"https://new.inews.gtimg.com/tnews/bd7ac180/2902/bd7ac180-2902-4c84-9695-a6fe20a6de49.png\"/><div class=\"home_logoTitle__itUgl\"><img alt=\"home ask title logo\" class=\"home_topBannerTitle__62hxo\" src=\"https://new.inews.gtimg.com/tnews/36b75b08/753e/36b75b08-753e-498d-91b7-a439a482346b.png\"/></div><div><div class=\"home_searchBox__zJnfa\"><div class=\"home_searchMain__S_38D\"><div class=\"inputSwiper_swiperMain__m6tzV\"><img alt=\"swiper img\" class=\"inputSwiper_swiperSearchIcon__Z_9ht\" src=\"https://new.inews.gtimg.com/tnews/023ad3dd/4df6/023ad3dd-4df6-4819-a717-7ce10feeac16.png\"/></div></div><div class=\"home_askQuestions__UepuE\"><span style=\"width:calc(100% / 3 + 3px);text-align:center\"><div class=\"home_defaultTab__FBZbH\"><p><a class=\"\">向较真提问</a></p></div></span><span class=\"home_tabListLine__9KGc3\" style=\"width:calc(100% / 3);text-align:center\"><a href=\"https://news.qq.com//zt2020/page/feiyan.htm\">疫情数据</a></span><span class=\"home_tabListLine__9KGc3\" style=\"width:calc(100% / 3);text-align:center\"><a href=\"https://news.qq.com/elk/publish/elk_63918c6afb94c78a41209f4d.html\">防护手册</a></span></div></div><div class=\"home_fixedHeader___tokp\"><div class=\"commonHeader_commonHeaderMian__AN9Zf\"><div class=\"commonHeader_header__OiJWz\"><div class=\"commonHeader_HomePath__KXDMa\"><span style=\"box-sizing:border-box;display:inline-block;overflow:hidden;width:initial;height:initial;background:none;opacity:1;border:0;margin:0;padding:0;position:relative;max-width:100%\"><span style=\"box-sizing:border-box;display:block;width:initial;height:initial;background:none;opacity:1;border:0;margin:0;padding:0;max-width:100%\"><img alt=\"\" aria-hidden=\"true\" src=\"data:image/svg+xml,%3csvg%20xmlns=%27http://www.w3.org/2000/svg%27%20version=%271.1%27%20width=%2710%27%20height=%2718%27/%3e\" style=\"display:block;max-width:100%;width:initial;height:initial;background:none;opacity:1;border:0;margin:0;padding:0\"/></span><img alt=\"back icon\" data-nimg=\"intrinsic\" decoding=\"async\" src=\"data:image/gif;base64,R0lGODlhAQABAIAAAAAAAP///yH5BAEAAAAALAAAAAABAAEAAAIBRAA7\" style=\"position:absolute;top:0;left:0;bottom:0;right:0;box-sizing:border-box;padding:0;border:none;margin:auto;display:block;width:0;height:0;min-width:100%;max-width:100%;min-height:100%;max-height:100%\"/><noscript><img alt=\"back icon\" data-nimg=\"intrinsic\" decoding=\"async\" loading=\"lazy\" src=\"/_next/image?url=https%3A%2F%2Fnew.inews.gtimg.com%2Ftnews%2F4d5d6e36%2F64ee%2F4d5d6e36-64ee-4c87-b65b-f5eceaf75135.png&amp;w=32&amp;q=75\" srcset=\"/_next/image?url=https%3A%2F%2Fnew.inews.gtimg.com%2Ftnews%2F4d5d6e36%2F64ee%2F4d5d6e36-64ee-4c87-b65b-f5eceaf75135.png&amp;w=16&amp;q=75 1x, /_next/image?url=https%3A%2F%2Fnew.inews.gtimg.com%2Ftnews%2F4d5d6e36%2F64ee%2F4d5d6e36-64ee-4c87-b65b-f5eceaf75135.png&amp;w=32&amp;q=75 2x\" style=\"position:absolute;top:0;left:0;bottom:0;right:0;box-sizing:border-box;padding:0;border:none;margin:auto;display:block;width:0;height:0;min-width:100%;max-width:100%;min-height:100%;max-height:100%\"/></noscript></span></div><div class=\"\"><img alt=\"swiper img\" class=\"inputSwiper_swiperSearchIcon__Z_9ht\" src=\"https://new.inews.gtimg.com/tnews/023ad3dd/4df6/023ad3dd-4df6-4819-a717-7ce10feeac16.png\"/></div><span class=\"commonHeader_searchText__Wn_fF\">搜索</span></div></div></div></div></div><div class=\"\"><div class=\"home_questionTabMain__Y9_kM\"><div class=\"adm-tabs\"><div class=\"adm-tabs-header\"><div class=\"adm-tabs-header-mask adm-tabs-header-mask-left\" style=\"opacity:0\"></div><div class=\"adm-tabs-header-mask adm-tabs-header-mask-right\" style=\"opacity:0\"></div><div class=\"adm-tabs-tab-list\"><div class=\"adm-tabs-tab-line\" style=\"width:0;transform:none\"></div><div class=\"adm-tabs-tab-wrapper adm-tabs-tab-wrapper-stretch\"><div class=\"adm-tabs-tab adm-tabs-tab-active\">全部内容</div></div><div class=\"adm-tabs-tab-wrapper adm-tabs-tab-wrapper-stretch\"><div class=\"adm-tabs-tab\">只看真</div></div><div class=\"adm-tabs-tab-wrapper adm-tabs-tab-wrapper-stretch\"><div class=\"adm-tabs-tab\">只看假</div></div></div></div></div></div></div></div><div class=\"adm-swiper adm-swiper-horizontal\" style=\"--slide-size:100%;--track-offset:0%\"><div class=\"adm-swiper-track adm-swiper-track-allow-touch-move\"><div class=\"adm-swiper-track-inner\"><div class=\"adm-swiper-slide\" style=\"left:-0%;transform:none\"><div class=\"adm-swiper-item\"><div id=\"scrollableDiv\" style=\"overflow:auto;height:calc(100vh - 50px);width:calc(100% - 1.6rem);text-align:center;margin:0 auto\"><div class=\"infinite-scroll-component__outerdiv\"><div class=\"infinite-scroll-component\" style=\"height:auto;overflow:auto;-webkit-overflow-scrolling:touch\"><div class=\"InfiniteList_InfiniteList__688Zu\"><div class=\"adm-card\" style=\"border-radius:4px;width:100%;min-height:157px;margin-bottom:12px\"><div class=\"adm-card-header\"><div class=\"adm-card-header-title\"><div class=\"InfiniteList_InfiniteListCardFalse__B_vlo\"><div class=\"InfiniteList_backgroundfalse__JK57x\">谣言</div><div class=\"InfiniteList_displayMain__3mWD3\" style=\"margin-right:12px\"><span class=\"InfiniteList_authorShare__YRTwI\"><span class=\"InfiniteList_cardTitle__cPRz5\"> <!-- -->查证者</span><span class=\"InfiniteList_titleLine__CMWSH\">·</span><span class=\"InfiniteList_cardTitle__cPRz5\">Y博</span></span><div class=\"InfiniteList_listHeaderImgBox__xMTsQ\"><img alt=\"list card img\" class=\"InfiniteList_authorImg__AGAt0\" src=\"https://jiaozhen-70111.picnjc.qpic.cn/udzqL7PDEErSBRzDMaskGQ\"/></div></div></div></div></div><div class=\"adm-card-body\"><div class=\"InfiniteList_listContent__PF3gC\"><div class=\"InfiniteList_listContentLeft__AzsRn\"><span class=\"InfiniteList_listContentText__89_ud\">感染一次之后三个月内不可能再被感染，因此早阳早好</span><p class=\"InfiniteList_listContentTime__NFgUF\">2022-12-14</p></div><div class=\"InfiniteList_listContentRight__Dftkv\"><img alt=\"list card right img\" class=\"InfiniteList_listContentRightImg__p_zRt\" src=\"https://jiaozhen-70111.picnjc.qpic.cn/wb39hLXpoZSbYyryAqfuaC?imageView2/2/w/300/h/300\"/></div></div><div class=\"InfiniteList_displayCenter__i6cxV InfiniteList_listBottom__F4sWt\"><img alt=\"home list bottom share logo\" class=\"InfiniteList_listShareLogo__7wNH3\" src=\"https://new.inews.gtimg.com/tnews/e4184b7b/f4cc/e4184b7b-f4cc-4223-98cd-5b46be673eab.png\"/><span class=\"InfiniteList_authordesc__3igmE\"> <!-- -->分享一下 终结谣言</span></div></div></div><div class=\"adm-card\" style=\"border-radius:4px;width:100%;min-height:157px;margin-bottom:12px\"><div class=\"adm-card-header\"><div class=\"adm-card-header-title\"><div class=\"InfiniteList_InfiniteListCardFalse__B_vlo\"><div class=\"InfiniteList_backgroundfalse__JK57x\">谣言</div><div class=\"InfiniteList_displayMain__3mWD3\" style=\"margin-right:12px\"><span class=\"InfiniteList_authorShare__YRTwI\"><span class=\"InfiniteList_cardTitle__cPRz5\"> <!-- -->查证者</span><span class=\"InfiniteList_titleLine__CMWSH\">·</span><span class=\"InfiniteList_cardTitle__cPRz5\">张卫</span></span><div class=\"InfiniteList_listHeaderImgBox__xMTsQ\"><img alt=\"list card img\" class=\"InfiniteList_authorImg__AGAt0\" src=\"https://jiaozhen-70111.picnjc.qpic.cn/fNHJ8HYTxqYscGQKZQQYRx\"/></div></div></div></div></div><div class=\"adm-card-body\"><div class=\"InfiniteList_listContent__PF3gC\"><div class=\"InfiniteList_listContentLeft__AzsRn\"><span class=\"InfiniteList_listContentText__89_ud\">打疫苗时的症状乘十倍，就是感染后的症状</span><p class=\"InfiniteList_listContentTime__NFgUF\">2022-12-14</p></div><div class=\"InfiniteList_listContentRight__Dftkv\"><img alt=\"list card right img\" class=\"InfiniteList_listContentRightImg__p_zRt\" src=\"https://jiaozhen-70111.picnjc.qpic.cn/57MVvVWChfKMC3M93Vb1cv?imageView2/2/w/300/h/300\"/></div></div><div class=\"InfiniteList_displayCenter__i6cxV InfiniteList_listBottom__F4sWt\"><img alt=\"home list bottom share logo\" class=\"InfiniteList_listShareLogo__7wNH3\" src=\"https://new.inews.gtimg.com/tnews/e4184b7b/f4cc/e4184b7b-f4cc-4223-98cd-5b46be673eab.png\"/><span class=\"InfiniteList_authordesc__3igmE\"> <!-- -->分享一下 终结谣言</span></div></div></div><div class=\"adm-card\" style=\"border-radius:4px;width:100%;min-height:157px;margin-bottom:12px\"><div class=\"adm-card-header\"><div class=\"adm-card-header-title\"><div class=\"InfiniteList_InfiniteListCardFalse__B_vlo\"><div class=\"InfiniteList_backgroundfalse__JK57x\">谣言</div><div class=\"InfiniteList_displayMain__3mWD3\" style=\"margin-right:12px\"><span class=\"InfiniteList_authorShare__YRTwI\"><span class=\"InfiniteList_cardTitle__cPRz5\"> <!-- -->查证者</span><span class=\"InfiniteList_titleLine__CMWSH\">·</span><span class=\"InfiniteList_cardTitle__cPRz5\">Y博</span></span><div class=\"InfiniteList_listHeaderImgBox__xMTsQ\"><img alt=\"list card img\" class=\"InfiniteList_authorImg__AGAt0\" src=\"https://jiaozhen-70111.picnjc.qpic.cn/udzqL7PDEErSBRzDMaskGQ\"/></div></div></div></div></div><div class=\"adm-card-body\"><div class=\"InfiniteList_listContent__PF3gC\"><div class=\"InfiniteList_listContentLeft__AzsRn\"><span class=\"InfiniteList_listContentText__89_ud\">如果感染过但病毒载量低，就可能短期再次感染</span><p class=\"InfiniteList_listContentTime__NFgUF\">2022-12-14</p></div><div class=\"InfiniteList_listContentRight__Dftkv\"><img alt=\"list card right img\" class=\"InfiniteList_listContentRightImg__p_zRt\" src=\"https://jiaozhen-70111.picnjc.qpic.cn/huSgc4hvKoyP29GNtF2f9k?imageView2/2/w/300/h/300\"/></div></div><div class=\"InfiniteList_displayCenter__i6cxV InfiniteList_listBottom__F4sWt\"><img alt=\"home list bottom share logo\" class=\"InfiniteList_listShareLogo__7wNH3\" src=\"https://new.inews.gtimg.com/tnews/e4184b7b/f4cc/e4184b7b-f4cc-4223-98cd-5b46be673eab.png\"/><span class=\"InfiniteList_authordesc__3igmE\"> <!-- -->分享一下 终结谣言</span></div></div></div><div class=\"adm-card\" style=\"border-radius:4px;width:100%;min-height:157px;margin-bottom:12px\"><div class=\"adm-card-header\"><div class=\"adm-card-header-title\"><div class=\"InfiniteList_InfiniteListCardFalse__B_vlo\"><div class=\"InfiniteList_backgroundfalse__JK57x\">谣言</div><div class=\"InfiniteList_displayMain__3mWD3\" style=\"margin-right:12px\"><span class=\"InfiniteList_authorShare__YRTwI\"><span class=\"InfiniteList_cardTitle__cPRz5\"> <!-- -->查证者</span><span class=\"InfiniteList_titleLine__CMWSH\">·</span><span class=\"InfiniteList_cardTitle__cPRz5\">一节生姜</span></span><div class=\"InfiniteList_listHeaderImgBox__xMTsQ\"><img alt=\"list card img\" class=\"InfiniteList_authorImg__AGAt0\" src=\"http://p.qpic.cn/jiaozhen/0/5c51c3dda0034078ac9fd13760dec0a5/0\"/></div></div></div></div></div><div class=\"adm-card-body\"><div class=\"InfiniteList_listContent__PF3gC\"><div class=\"InfiniteList_listContentLeft__AzsRn\"><span class=\"InfiniteList_listContentText__89_ud\">长得好看的人不容易得新冠</span><p class=\"InfiniteList_listContentTime__NFgUF\">2022-12-13</p></div><div class=\"InfiniteList_listContentRight__Dftkv\"><img alt=\"list card right img\" class=\"InfiniteList_listContentRightImg__p_zRt\" src=\"https://inews.gtimg.com/newsapp_bt/0/10493663291/641?imageView2/2/w/300/h/300\"/></div></div><div class=\"InfiniteList_displayCenter__i6cxV InfiniteList_listBottom__F4sWt\"><img alt=\"home list bottom share logo\" class=\"InfiniteList_listShareLogo__7wNH3\" src=\"https://new.inews.gtimg.com/tnews/e4184b7b/f4cc/e4184b7b-f4cc-4223-98cd-5b46be673eab.png\"/><span class=\"InfiniteList_authordesc__3igmE\"> <!-- -->分享一下 终结谣言</span></div></div></div><div class=\"adm-card\" style=\"border-radius:4px;width:100%;min-height:157px;margin-bottom:12px\"><div class=\"adm-card-header\"><div class=\"adm-card-header-title\"><div class=\"InfiniteList_InfiniteListCardFalse__B_vlo\"><div class=\"InfiniteList_backgroundfalse__JK57x\">谣言</div><div class=\"InfiniteList_displayMain__3mWD3\" style=\"margin-right:12px\"><span class=\"InfiniteList_authorShare__YRTwI\"><span class=\"InfiniteList_cardTitle__cPRz5\"> <!-- -->查证者</span><span class=\"InfiniteList_titleLine__CMWSH\">·</span><span class=\"InfiniteList_cardTitle__cPRz5\">一节生姜</span></span><div class=\"InfiniteList_listHeaderImgBox__xMTsQ\"><img alt=\"list card img\" class=\"InfiniteList_authorImg__AGAt0\" src=\"http://p.qpic.cn/jiaozhen/0/5c51c3dda0034078ac9fd13760dec0a5/0\"/></div></div></div></div></div><div class=\"adm-card-body\"><div class=\"InfiniteList_listContent__PF3gC\"><div class=\"InfiniteList_listContentLeft__AzsRn\"><span class=\"InfiniteList_listContentText__89_ud\">新冠病毒能杀死肺癌细胞</span><p class=\"InfiniteList_listContentTime__NFgUF\">2022-12-13</p></div><div class=\"InfiniteList_listContentRight__Dftkv\"><img alt=\"list card right img\" class=\"InfiniteList_listContentRightImg__p_zRt\" src=\"https://inews.gtimg.com/newsapp_bt/0/13840269407/641?imageView2/2/w/300/h/300\"/></div></div><div class=\"InfiniteList_displayCenter__i6cxV InfiniteList_listBottom__F4sWt\"><img alt=\"home list bottom share logo\" class=\"InfiniteList_listShareLogo__7wNH3\" src=\"https://new.inews.gtimg.com/tnews/e4184b7b/f4cc/e4184b7b-f4cc-4223-98cd-5b46be673eab.png\"/><span class=\"InfiniteList_authordesc__3igmE\"> <!-- -->分享一下 终结谣言</span></div></div></div><div class=\"adm-card\" style=\"border-radius:4px;width:100%;min-height:157px;margin-bottom:12px\"><div class=\"adm-card-header\"><div class=\"adm-card-header-title\"><div class=\"InfiniteList_InfiniteListCardFalse__B_vlo\"><div class=\"InfiniteList_backgroundfalse__JK57x\">谣言</div><div class=\"InfiniteList_displayMain__3mWD3\" style=\"margin-right:12px\"><span class=\"InfiniteList_authorShare__YRTwI\"><span class=\"InfiniteList_cardTitle__cPRz5\"> <!-- -->查证者</span><span class=\"InfiniteList_titleLine__CMWSH\">·</span><span class=\"InfiniteList_cardTitle__cPRz5\">李治中</span></span><div class=\"InfiniteList_listHeaderImgBox__xMTsQ\"><img alt=\"list card img\" class=\"InfiniteList_authorImg__AGAt0\" src=\"https://p.qpic.cn/jiaozhen/0/authorpic378/0\"/></div></div></div></div></div><div class=\"adm-card-body\"><div class=\"InfiniteList_listContent__PF3gC\"><div class=\"InfiniteList_listContentLeft__AzsRn\"><span class=\"InfiniteList_listContentText__89_ud\">喝白酒能有效预防新冠</span><p class=\"InfiniteList_listContentTime__NFgUF\">2022-12-13</p></div><div class=\"InfiniteList_listContentRight__Dftkv\"><img alt=\"list card right img\" class=\"InfiniteList_listContentRightImg__p_zRt\" src=\"https://jiaozhen-70111.picnjc.qpic.cn/kEZeu73ReTXo2m2dxNj43s?imageView2/2/w/300/h/300\"/></div></div><div class=\"InfiniteList_displayCenter__i6cxV InfiniteList_listBottom__F4sWt\"><img alt=\"home list bottom share logo\" class=\"InfiniteList_listShareLogo__7wNH3\" src=\"https://new.inews.gtimg.com/tnews/e4184b7b/f4cc/e4184b7b-f4cc-4223-98cd-5b46be673eab.png\"/><span class=\"InfiniteList_authordesc__3igmE\"> <!-- -->分享一下 终结谣言</span></div></div></div><div class=\"adm-card\" style=\"border-radius:4px;width:100%;min-height:157px;margin-bottom:12px\"><div class=\"adm-card-header\"><div class=\"adm-card-header-title\"><div class=\"InfiniteList_InfiniteListCardFalse__B_vlo\"><div class=\"InfiniteList_backgroundfalse__JK57x\">谣言</div><div class=\"InfiniteList_displayMain__3mWD3\" style=\"margin-right:12px\"><span class=\"InfiniteList_authorShare__YRTwI\"><span class=\"InfiniteList_cardTitle__cPRz5\"> <!-- -->查证者</span><span class=\"InfiniteList_titleLine__CMWSH\">·</span><span class=\"InfiniteList_cardTitle__cPRz5\">Y博</span></span><div class=\"InfiniteList_listHeaderImgBox__xMTsQ\"><img alt=\"list card img\" class=\"InfiniteList_authorImg__AGAt0\" src=\"https://jiaozhen-70111.picnjc.qpic.cn/udzqL7PDEErSBRzDMaskGQ\"/></div></div></div></div></div><div class=\"adm-card-body\"><div class=\"InfiniteList_listContent__PF3gC\"><div class=\"InfiniteList_listContentLeft__AzsRn\"><span class=\"InfiniteList_listContentText__89_ud\">奥密克戎是小艾滋，反复感染会免疫衰竭</span><p class=\"InfiniteList_listContentTime__NFgUF\">2022-12-09</p></div><div class=\"InfiniteList_listContentRight__Dftkv\"><img alt=\"list card right img\" class=\"InfiniteList_listContentRightImg__p_zRt\" src=\"https://jiaozhen-70111.picnjc.qpic.cn/j36pKuAgjSsunHDYtfqA1n?imageView2/2/w/300/h/300\"/></div></div><div class=\"InfiniteList_displayCenter__i6cxV InfiniteList_listBottom__F4sWt\"><img alt=\"home list bottom share logo\" class=\"InfiniteList_listShareLogo__7wNH3\" src=\"https://new.inews.gtimg.com/tnews/e4184b7b/f4cc/e4184b7b-f4cc-4223-98cd-5b46be673eab.png\"/><span class=\"InfiniteList_authordesc__3igmE\"> <!-- -->分享一下 终结谣言</span></div></div></div><div class=\"adm-card\" style=\"border-radius:4px;width:100%;min-height:157px;margin-bottom:12px\"><div class=\"adm-card-header\"><div class=\"adm-card-header-title\"><div class=\"InfiniteList_InfiniteListCardDoubt__OWyDb\"><div class=\"InfiniteList_backgrounddoubt__5UokF\">分情况</div><div class=\"InfiniteList_displayMain__3mWD3\" style=\"margin-right:12px\"><span class=\"InfiniteList_authorShare__YRTwI\"><span class=\"InfiniteList_cardTitle__cPRz5\"> <!-- -->查证者</span><span class=\"InfiniteList_titleLine__CMWSH\">·</span><span class=\"InfiniteList_cardTitle__cPRz5\">谢望时</span></span><div class=\"InfiniteList_listHeaderImgBox__xMTsQ\"><img alt=\"list card img\" class=\"InfiniteList_authorImg__AGAt0\" src=\"http://p.qpic.cn/jiaozhen/0/3eb6378948294822a55ef8e8fbc4ece0/0\"/></div></div></div></div></div><div class=\"adm-card-body\"><div class=\"InfiniteList_listContent__PF3gC\"><div class=\"InfiniteList_listContentLeft__AzsRn\"><span class=\"InfiniteList_listContentText__89_ud\">喝电解质水缓解新冠症状比喝白开水更有效</span><p class=\"InfiniteList_listContentTime__NFgUF\">2022-12-09</p></div><div class=\"InfiniteList_listContentRight__Dftkv\"><img alt=\"list card right img\" class=\"InfiniteList_listContentRightImg__p_zRt\" src=\"https://jiaozhen-70111.picnjc.qpic.cn/qyweayJp4E7qQp3bGYZGnU?imageView2/2/w/300/h/300\"/></div></div><div class=\"InfiniteList_displayCenter__i6cxV InfiniteList_listBottom__F4sWt\"><img alt=\"home list bottom share logo\" class=\"InfiniteList_listShareLogo__7wNH3\" src=\"https://new.inews.gtimg.com/tnews/e4184b7b/f4cc/e4184b7b-f4cc-4223-98cd-5b46be673eab.png\"/><span class=\"InfiniteList_authordesc__3igmE\"> <!-- -->分享一下 终结谣言</span></div></div></div><div class=\"adm-card\" style=\"border-radius:4px;width:100%;min-height:157px;margin-bottom:12px\"><div class=\"adm-card-header\"><div class=\"adm-card-header-title\"><div class=\"InfiniteList_InfiniteListCardFalse__B_vlo\"><div class=\"InfiniteList_backgroundfalse__JK57x\">谣言</div><div class=\"InfiniteList_displayMain__3mWD3\" style=\"margin-right:12px\"><span class=\"InfiniteList_authorShare__YRTwI\"><span class=\"InfiniteList_cardTitle__cPRz5\"> <!-- -->查证者</span><span class=\"InfiniteList_titleLine__CMWSH\">·</span><span class=\"InfiniteList_cardTitle__cPRz5\">较真团队</span></span><div class=\"InfiniteList_listHeaderImgBox__xMTsQ\"><img alt=\"list card img\" class=\"InfiniteList_authorImg__AGAt0\" src=\"http://p.qpic.cn/jiaozhen/0/7eb4533c1d604ecfa3f25a0d1cae29cd/0\"/></div></div></div></div></div><div class=\"adm-card-body\"><div class=\"InfiniteList_listContent__PF3gC\"><div class=\"InfiniteList_listContentLeft__AzsRn\"><span class=\"InfiniteList_listContentText__89_ud\">感染新冠后不能吃布洛芬，否则会加重病情</span><p class=\"InfiniteList_listContentTime__NFgUF\">2022-12-09</p></div><div class=\"InfiniteList_listContentRight__Dftkv\"><img alt=\"list card right img\" class=\"InfiniteList_listContentRightImg__p_zRt\" src=\"https://jiaozhen-70111.picnjc.qpic.cn/d8Rs9xdRDt7ZyDb6heDFGH?imageView2/2/w/300/h/300\"/></div></div><div class=\"InfiniteList_displayCenter__i6cxV InfiniteList_listBottom__F4sWt\"><img alt=\"home list bottom share logo\" class=\"InfiniteList_listShareLogo__7wNH3\" src=\"https://new.inews.gtimg.com/tnews/e4184b7b/f4cc/e4184b7b-f4cc-4223-98cd-5b46be673eab.png\"/><span class=\"InfiniteList_authordesc__3igmE\"> <!-- -->分享一下 终结谣言</span></div></div></div><div class=\"adm-card\" style=\"border-radius:4px;width:100%;min-height:157px;margin-bottom:12px\"><div class=\"adm-card-header\"><div class=\"adm-card-header-title\"><div class=\"InfiniteList_InfiniteListCardFalse__B_vlo\"><div class=\"InfiniteList_backgroundfalse__JK57x\">谣言</div><div class=\"InfiniteList_displayMain__3mWD3\" style=\"margin-right:12px\"><span class=\"InfiniteList_authorShare__YRTwI\"><span class=\"InfiniteList_cardTitle__cPRz5\"> <!-- -->查证者</span><span class=\"InfiniteList_titleLine__CMWSH\">·</span><span class=\"InfiniteList_cardTitle__cPRz5\">中国互联网联合辟谣平台</span></span><div class=\"InfiniteList_listHeaderImgBox__xMTsQ\"><img alt=\"list card img\" class=\"InfiniteList_authorImg__AGAt0\" src=\"http://p.qpic.cn/jiaozhen/0/5da459174e1d4404973107b078a8ae93/0\"/></div></div></div></div></div><div class=\"adm-card-body\"><div class=\"InfiniteList_listContent__PF3gC\"><div class=\"InfiniteList_listContentLeft__AzsRn\"><span class=\"InfiniteList_listContentText__89_ud\">国务院联防联控小组正式摘牌</span><p class=\"InfiniteList_listContentTime__NFgUF\">2022-12-09</p></div><div class=\"InfiniteList_listContentRight__Dftkv\"><img alt=\"list card right img\" class=\"InfiniteList_listContentRightImg__p_zRt\" src=\"https://jiaozhen-70111.picnjc.qpic.cn/3YY8tPboHfAokveaDnD3Ve?imageView2/2/w/300/h/300\"/></div></div><div class=\"InfiniteList_displayCenter__i6cxV InfiniteList_listBottom__F4sWt\"><img alt=\"home list bottom share logo\" class=\"InfiniteList_listShareLogo__7wNH3\" src=\"https://new.inews.gtimg.com/tnews/e4184b7b/f4cc/e4184b7b-f4cc-4223-98cd-5b46be673eab.png\"/><span class=\"InfiniteList_authordesc__3igmE\"> <!-- -->分享一下 终结谣言</span></div></div></div><div class=\"adm-card\" style=\"border-radius:4px;width:100%;min-height:157px;margin-bottom:12px\"><div class=\"adm-card-header\"><div class=\"adm-card-header-title\"><div class=\"InfiniteList_InfiniteListCardFalse__B_vlo\"><div class=\"InfiniteList_backgroundfalse__JK57x\">谣言</div><div class=\"InfiniteList_displayMain__3mWD3\" style=\"margin-right:12px\"><span class=\"InfiniteList_authorShare__YRTwI\"><span class=\"InfiniteList_cardTitle__cPRz5\"> <!-- -->查证者</span><span class=\"InfiniteList_titleLine__CMWSH\">·</span><span class=\"InfiniteList_cardTitle__cPRz5\">阿司匹林42195米</span></span><div class=\"InfiniteList_listHeaderImgBox__xMTsQ\"><img alt=\"list card img\" class=\"InfiniteList_authorImg__AGAt0\" src=\"https://jiaozhen-70111.picnjc.qpic.cn/oXw1dH4xMDqqHJSQPhKsyH\"/></div></div></div></div></div><div class=\"adm-card-body\"><div class=\"InfiniteList_listContent__PF3gC\"><div class=\"InfiniteList_listContentLeft__AzsRn\"><span class=\"InfiniteList_listContentText__89_ud\">新冠患者不能服用布洛芬</span><p class=\"InfiniteList_listContentTime__NFgUF\">2022-12-07</p></div><div class=\"InfiniteList_listContentRight__Dftkv\"><img alt=\"list card right img\" class=\"InfiniteList_listContentRightImg__p_zRt\" src=\"https://jiaozhen-70111.picnjc.qpic.cn/xsUy6oaWRAENtpLFEzwyGP?imageView2/2/w/300/h/300\"/></div></div><div class=\"InfiniteList_displayCenter__i6cxV InfiniteList_listBottom__F4sWt\"><img alt=\"home list bottom share logo\" class=\"InfiniteList_listShareLogo__7wNH3\" src=\"https://new.inews.gtimg.com/tnews/e4184b7b/f4cc/e4184b7b-f4cc-4223-98cd-5b46be673eab.png\"/><span class=\"InfiniteList_authordesc__3igmE\"> <!-- -->分享一下 终结谣言</span></div></div></div><div class=\"adm-card\" style=\"border-radius:4px;width:100%;min-height:157px;margin-bottom:12px\"><div class=\"adm-card-header\"><div class=\"adm-card-header-title\"><div class=\"InfiniteList_InfiniteListCardDoubt__OWyDb\"><div class=\"InfiniteList_backgrounddoubt__5UokF\">分情况</div><div class=\"InfiniteList_displayMain__3mWD3\" style=\"margin-right:12px\"><span class=\"InfiniteList_authorShare__YRTwI\"><span class=\"InfiniteList_cardTitle__cPRz5\"> <!-- -->查证者</span><span class=\"InfiniteList_titleLine__CMWSH\">·</span><span class=\"InfiniteList_cardTitle__cPRz5\">阿司匹林42195米</span></span><div class=\"InfiniteList_listHeaderImgBox__xMTsQ\"><img alt=\"list card img\" class=\"InfiniteList_authorImg__AGAt0\" src=\"https://jiaozhen-70111.picnjc.qpic.cn/oXw1dH4xMDqqHJSQPhKsyH\"/></div></div></div></div></div><div class=\"adm-card-body\"><div class=\"InfiniteList_listContent__PF3gC\"><div class=\"InfiniteList_listContentLeft__AzsRn\"><span class=\"InfiniteList_listContentText__89_ud\">新冠感染者居家隔离，会经楼道气溶胶传播病毒</span><p class=\"InfiniteList_listContentTime__NFgUF\">2022-12-02</p></div><div class=\"InfiniteList_listContentRight__Dftkv\"><img alt=\"list card right img\" class=\"InfiniteList_listContentRightImg__p_zRt\" src=\"https://jiaozhen-70111.picnjc.qpic.cn/jY3r5hyaZqYpuFrC369wUE?imageView2/2/w/300/h/300\"/></div></div><div class=\"InfiniteList_displayCenter__i6cxV InfiniteList_listBottom__F4sWt\"><img alt=\"home list bottom share logo\" class=\"InfiniteList_listShareLogo__7wNH3\" src=\"https://new.inews.gtimg.com/tnews/e4184b7b/f4cc/e4184b7b-f4cc-4223-98cd-5b46be673eab.png\"/><span class=\"InfiniteList_authordesc__3igmE\"> <!-- -->分享一下 终结谣言</span></div></div></div><div class=\"adm-card\" style=\"border-radius:4px;width:100%;min-height:157px;margin-bottom:12px\"><div class=\"adm-card-header\"><div class=\"adm-card-header-title\"><div class=\"InfiniteList_InfiniteListCardFalse__B_vlo\"><div class=\"InfiniteList_backgroundfalse__JK57x\">谣言</div><div class=\"InfiniteList_displayMain__3mWD3\" style=\"margin-right:12px\"><span class=\"InfiniteList_authorShare__YRTwI\"><span class=\"InfiniteList_cardTitle__cPRz5\"> <!-- -->查证者</span><span class=\"InfiniteList_titleLine__CMWSH\">·</span><span class=\"InfiniteList_cardTitle__cPRz5\">羊城派</span></span><div class=\"InfiniteList_listHeaderImgBox__xMTsQ\"><img alt=\"list card img\" class=\"InfiniteList_authorImg__AGAt0\" src=\"http://p.qpic.cn/jiaozhen/0/210816872bf84341a1be42554c344a43/0\"/></div></div></div></div></div><div class=\"adm-card-body\"><div class=\"InfiniteList_listContent__PF3gC\"><div class=\"InfiniteList_listContentLeft__AzsRn\"><span class=\"InfiniteList_listContentText__89_ud\">羊城晚报：奥密克戎病毒正式更名为新型冠状病毒感冒</span><p class=\"InfiniteList_listContentTime__NFgUF\">2022-12-01</p></div><div class=\"InfiniteList_listContentRight__Dftkv\"><img alt=\"list card right img\" class=\"InfiniteList_listContentRightImg__p_zRt\" src=\"https://jiaozhen-70111.picnjc.qpic.cn/i15g8VwjarE1A17KpnMa9E?imageView2/2/w/300/h/300\"/></div></div><div class=\"InfiniteList_displayCenter__i6cxV InfiniteList_listBottom__F4sWt\"><img alt=\"home list bottom share logo\" class=\"InfiniteList_listShareLogo__7wNH3\" src=\"https://new.inews.gtimg.com/tnews/e4184b7b/f4cc/e4184b7b-f4cc-4223-98cd-5b46be673eab.png\"/><span class=\"InfiniteList_authordesc__3igmE\"> <!-- -->分享一下 终结谣言</span></div></div></div><div class=\"adm-card\" style=\"border-radius:4px;width:100%;min-height:157px;margin-bottom:12px\"><div class=\"adm-card-header\"><div class=\"adm-card-header-title\"><div class=\"InfiniteList_InfiniteListCardFalse__B_vlo\"><div class=\"InfiniteList_backgroundfalse__JK57x\">谣言</div><div class=\"InfiniteList_displayMain__3mWD3\" style=\"margin-right:12px\"><span class=\"InfiniteList_authorShare__YRTwI\"><span class=\"InfiniteList_cardTitle__cPRz5\"> <!-- -->查证者</span><span class=\"InfiniteList_titleLine__CMWSH\">·</span><span class=\"InfiniteList_cardTitle__cPRz5\">科普中国</span></span><div class=\"InfiniteList_listHeaderImgBox__xMTsQ\"><img alt=\"list card img\" class=\"InfiniteList_authorImg__AGAt0\" src=\"https://p.qpic.cn/jiaozhen/0/authorpic538/0\"/></div></div></div></div></div><div class=\"adm-card-body\"><div class=\"InfiniteList_listContent__PF3gC\"><div class=\"InfiniteList_listContentLeft__AzsRn\"><span class=\"InfiniteList_listContentText__89_ud\">常戴口罩会吸入口罩纤维到肺里，患上肺结节</span><p class=\"InfiniteList_listContentTime__NFgUF\">2022-11-27</p></div><div class=\"InfiniteList_listContentRight__Dftkv\"><img alt=\"list card right img\" class=\"InfiniteList_listContentRightImg__p_zRt\" src=\"https://jiaozhen-70111.picnjc.qpic.cn/7wZPc8qJM3hyVswtyxbXCj?imageView2/2/w/300/h/300\"/></div></div><div class=\"InfiniteList_displayCenter__i6cxV InfiniteList_listBottom__F4sWt\"><img alt=\"home list bottom share logo\" class=\"InfiniteList_listShareLogo__7wNH3\" src=\"https://new.inews.gtimg.com/tnews/e4184b7b/f4cc/e4184b7b-f4cc-4223-98cd-5b46be673eab.png\"/><span class=\"InfiniteList_authordesc__3igmE\"> <!-- -->分享一下 终结谣言</span></div></div></div><div class=\"adm-card\" style=\"border-radius:4px;width:100%;min-height:157px;margin-bottom:12px\"><div class=\"adm-card-header\"><div class=\"adm-card-header-title\"><div class=\"InfiniteList_InfiniteListCardFalse__B_vlo\"><div class=\"InfiniteList_backgroundfalse__JK57x\">伪常识</div><div class=\"InfiniteList_displayMain__3mWD3\" style=\"margin-right:12px\"><span class=\"InfiniteList_authorShare__YRTwI\"><span class=\"InfiniteList_cardTitle__cPRz5\"> <!-- -->查证者</span><span class=\"InfiniteList_titleLine__CMWSH\">·</span><span class=\"InfiniteList_cardTitle__cPRz5\">钟堃</span></span><div class=\"InfiniteList_listHeaderImgBox__xMTsQ\"><img alt=\"list card img\" class=\"InfiniteList_authorImg__AGAt0\" src=\"https://jiaozhen-70111.picnjc.qpic.cn/mDs9VV3thzRcwYJHdDE646\"/></div></div></div></div></div><div class=\"adm-card-body\"><div class=\"InfiniteList_listContent__PF3gC\"><div class=\"InfiniteList_listContentLeft__AzsRn\"><span class=\"InfiniteList_listContentText__89_ud\">抗原检测试剂盒不准，用橘子汁做都能阳</span><p class=\"InfiniteList_listContentTime__NFgUF\">2022-11-29</p></div><div class=\"InfiniteList_listContentRight__Dftkv\"><img alt=\"list card right img\" class=\"InfiniteList_listContentRightImg__p_zRt\" src=\"https://jiaozhen-70111.picnjc.qpic.cn/mK2nDrwV47xhij42TGFDWB?imageView2/2/w/300/h/300\"/></div></div><div class=\"InfiniteList_displayCenter__i6cxV InfiniteList_listBottom__F4sWt\"><img alt=\"home list bottom share logo\" class=\"InfiniteList_listShareLogo__7wNH3\" src=\"https://new.inews.gtimg.com/tnews/e4184b7b/f4cc/e4184b7b-f4cc-4223-98cd-5b46be673eab.png\"/><span class=\"InfiniteList_authordesc__3igmE\"> <!-- -->分享一下 终结谣言</span></div></div></div><div class=\"adm-card\" style=\"border-radius:4px;width:100%;min-height:157px;margin-bottom:12px\"><div class=\"adm-card-header\"><div class=\"adm-card-header-title\"><div class=\"InfiniteList_InfiniteListCardFalse__B_vlo\"><div class=\"InfiniteList_backgroundfalse__JK57x\">谣言</div><div class=\"InfiniteList_displayMain__3mWD3\" style=\"margin-right:12px\"><span class=\"InfiniteList_authorShare__YRTwI\"><span class=\"InfiniteList_cardTitle__cPRz5\"> <!-- -->查证者</span><span class=\"InfiniteList_titleLine__CMWSH\">·</span><span class=\"InfiniteList_cardTitle__cPRz5\">Y博</span></span><div class=\"InfiniteList_listHeaderImgBox__xMTsQ\"><img alt=\"list card img\" class=\"InfiniteList_authorImg__AGAt0\" src=\"https://jiaozhen-70111.picnjc.qpic.cn/udzqL7PDEErSBRzDMaskGQ\"/></div></div></div></div></div><div class=\"adm-card-body\"><div class=\"InfiniteList_listContent__PF3gC\"><div class=\"InfiniteList_listContentLeft__AzsRn\"><span class=\"InfiniteList_listContentText__89_ud\">高烧四十度也是无症状，出现肺炎才算确诊</span><p class=\"InfiniteList_listContentTime__NFgUF\">2022-11-25</p></div><div class=\"InfiniteList_listContentRight__Dftkv\"><img alt=\"list card right img\" class=\"InfiniteList_listContentRightImg__p_zRt\" src=\"https://jiaozhen-70111.picnjc.qpic.cn/pVPo5S6d8g7b4kgi9yihpT?imageView2/2/w/300/h/300\"/></div></div><div class=\"InfiniteList_displayCenter__i6cxV InfiniteList_listBottom__F4sWt\"><img alt=\"home list bottom share logo\" class=\"InfiniteList_listShareLogo__7wNH3\" src=\"https://new.inews.gtimg.com/tnews/e4184b7b/f4cc/e4184b7b-f4cc-4223-98cd-5b46be673eab.png\"/><span class=\"InfiniteList_authordesc__3igmE\"> <!-- -->分享一下 终结谣言</span></div></div></div><div class=\"adm-card\" style=\"border-radius:4px;width:100%;min-height:157px;margin-bottom:12px\"><div class=\"adm-card-header\"><div class=\"adm-card-header-title\"><div class=\"InfiniteList_InfiniteListCardFalse__B_vlo\"><div class=\"InfiniteList_backgroundfalse__JK57x\">谣言</div><div class=\"InfiniteList_displayMain__3mWD3\" style=\"margin-right:12px\"><span class=\"InfiniteList_authorShare__YRTwI\"><span class=\"InfiniteList_cardTitle__cPRz5\"> <!-- -->查证者</span><span class=\"InfiniteList_titleLine__CMWSH\">·</span><span class=\"InfiniteList_cardTitle__cPRz5\">中国新闻网</span></span><div class=\"InfiniteList_listHeaderImgBox__xMTsQ\"><img alt=\"list card img\" class=\"InfiniteList_authorImg__AGAt0\" src=\"https://p.qpic.cn/jiaozhen/0/authorpic70/0\"/></div></div></div></div></div><div class=\"adm-card-body\"><div class=\"InfiniteList_listContent__PF3gC\"><div class=\"InfiniteList_listContentLeft__AzsRn\"><span class=\"InfiniteList_listContentText__89_ud\">重庆火车站拉人到方舱医院有补贴</span><p class=\"InfiniteList_listContentTime__NFgUF\">2022-11-23</p></div><div class=\"InfiniteList_listContentRight__Dftkv\"><img alt=\"list card right img\" class=\"InfiniteList_listContentRightImg__p_zRt\" src=\"https://jiaozhen-70111.picnjc.qpic.cn/g7guJdFWxKmm1GbasGSFtB?imageView2/2/w/300/h/300\"/></div></div><div class=\"InfiniteList_displayCenter__i6cxV InfiniteList_listBottom__F4sWt\"><img alt=\"home list bottom share logo\" class=\"InfiniteList_listShareLogo__7wNH3\" src=\"https://new.inews.gtimg.com/tnews/e4184b7b/f4cc/e4184b7b-f4cc-4223-98cd-5b46be673eab.png\"/><span class=\"InfiniteList_authordesc__3igmE\"> <!-- -->分享一下 终结谣言</span></div></div></div><div class=\"adm-card\" style=\"border-radius:4px;width:100%;min-height:157px;margin-bottom:12px\"><div class=\"adm-card-header\"><div class=\"adm-card-header-title\"><div class=\"InfiniteList_InfiniteListCardFalse__B_vlo\"><div class=\"InfiniteList_backgroundfalse__JK57x\">谣言</div><div class=\"InfiniteList_displayMain__3mWD3\" style=\"margin-right:12px\"><span class=\"InfiniteList_authorShare__YRTwI\"><span class=\"InfiniteList_cardTitle__cPRz5\"> <!-- -->查证者</span><span class=\"InfiniteList_titleLine__CMWSH\">·</span><span class=\"InfiniteList_cardTitle__cPRz5\">中国互联网联合辟谣平台</span></span><div class=\"InfiniteList_listHeaderImgBox__xMTsQ\"><img alt=\"list card img\" class=\"InfiniteList_authorImg__AGAt0\" src=\"https://p.qpic.cn/jiaozhen/0/authorpic68/0\"/></div></div></div></div></div><div class=\"adm-card-body\"><div class=\"InfiniteList_listContent__PF3gC\"><div class=\"InfiniteList_listContentLeft__AzsRn\"><span class=\"InfiniteList_listContentText__89_ud\">石家庄查出白肺，可能是新冠变异</span><p class=\"InfiniteList_listContentTime__NFgUF\">2022-11-16</p></div><div class=\"InfiniteList_listContentRight__Dftkv\"><img alt=\"list card right img\" class=\"InfiniteList_listContentRightImg__p_zRt\" src=\"https://jiaozhen-70111.picnjc.qpic.cn/cwLZtTw55DLNP7Tt9eePS7?imageView2/2/w/300/h/300\"/></div></div><div class=\"InfiniteList_displayCenter__i6cxV InfiniteList_listBottom__F4sWt\"><img alt=\"home list bottom share logo\" class=\"InfiniteList_listShareLogo__7wNH3\" src=\"https://new.inews.gtimg.com/tnews/e4184b7b/f4cc/e4184b7b-f4cc-4223-98cd-5b46be673eab.png\"/><span class=\"InfiniteList_authordesc__3igmE\"> <!-- -->分享一下 终结谣言</span></div></div></div><div class=\"adm-card\" style=\"border-radius:4px;width:100%;min-height:157px;margin-bottom:12px\"><div class=\"adm-card-header\"><div class=\"adm-card-header-title\"><div class=\"InfiniteList_InfiniteListCardFalse__B_vlo\"><div class=\"InfiniteList_backgroundfalse__JK57x\">谣言</div><div class=\"InfiniteList_displayMain__3mWD3\" style=\"margin-right:12px\"><span class=\"InfiniteList_authorShare__YRTwI\"><span class=\"InfiniteList_cardTitle__cPRz5\"> <!-- -->查证者</span><span class=\"InfiniteList_titleLine__CMWSH\">·</span><span class=\"InfiniteList_cardTitle__cPRz5\">天津辟谣</span></span><div class=\"InfiniteList_listHeaderImgBox__xMTsQ\"><img alt=\"list card img\" class=\"InfiniteList_authorImg__AGAt0\" src=\"https://jiaozhen-70111.picnjc.qpic.cn/4vBeDiVnZASvWaL9KZjmwE\"/></div></div></div></div></div><div class=\"adm-card-body\"><div class=\"InfiniteList_listContent__PF3gC\"><div class=\"InfiniteList_listContentLeft__AzsRn\"><span class=\"InfiniteList_listContentText__89_ud\">天津老太太发口罩拐骗儿童</span><p class=\"InfiniteList_listContentTime__NFgUF\">2022-11-14</p></div><div class=\"InfiniteList_listContentRight__Dftkv\"><img alt=\"list card right img\" class=\"InfiniteList_listContentRightImg__p_zRt\" src=\"https://jiaozhen-70111.picnjc.qpic.cn/8yMJbC5bkAnXRurRa4wePg?imageView2/2/w/300/h/300\"/></div></div><div class=\"InfiniteList_displayCenter__i6cxV InfiniteList_listBottom__F4sWt\"><img alt=\"home list bottom share logo\" class=\"InfiniteList_listShareLogo__7wNH3\" src=\"https://new.inews.gtimg.com/tnews/e4184b7b/f4cc/e4184b7b-f4cc-4223-98cd-5b46be673eab.png\"/><span class=\"InfiniteList_authordesc__3igmE\"> <!-- -->分享一下 终结谣言</span></div></div></div><div class=\"adm-card\" style=\"border-radius:4px;width:100%;min-height:157px;margin-bottom:12px\"><div class=\"adm-card-header\"><div class=\"adm-card-header-title\"><div class=\"InfiniteList_InfiniteListCardFalse__B_vlo\"><div class=\"InfiniteList_backgroundfalse__JK57x\">谣言</div><div class=\"InfiniteList_displayMain__3mWD3\" style=\"margin-right:12px\"><span class=\"InfiniteList_authorShare__YRTwI\"><span class=\"InfiniteList_cardTitle__cPRz5\"> <!-- -->查证者</span><span class=\"InfiniteList_titleLine__CMWSH\">·</span><span class=\"InfiniteList_cardTitle__cPRz5\">中国互联网联合辟谣平台</span></span><div class=\"InfiniteList_listHeaderImgBox__xMTsQ\"><img alt=\"list card img\" class=\"InfiniteList_authorImg__AGAt0\" src=\"http://p.qpic.cn/jiaozhen/0/5da459174e1d4404973107b078a8ae93/0\"/></div></div></div></div></div><div class=\"adm-card-body\"><div class=\"InfiniteList_listContent__PF3gC\"><div class=\"InfiniteList_listContentLeft__AzsRn\"><span class=\"InfiniteList_listContentText__89_ud\">北京重庆河北山东山西等地飞机喷洒打药全城消杀</span><p class=\"InfiniteList_listContentTime__NFgUF\">2022-10-31</p></div><div class=\"InfiniteList_listContentRight__Dftkv\"><img alt=\"list card right img\" class=\"InfiniteList_listContentRightImg__p_zRt\" src=\"https://jiaozhen-70111.picnjc.qpic.cn/jghSFbDM8EEzDfM5PNhv2B?imageView2/2/w/300/h/300\"/></div></div><div class=\"InfiniteList_displayCenter__i6cxV InfiniteList_listBottom__F4sWt\"><img alt=\"home list bottom share logo\" class=\"InfiniteList_listShareLogo__7wNH3\" src=\"https://new.inews.gtimg.com/tnews/e4184b7b/f4cc/e4184b7b-f4cc-4223-98cd-5b46be673eab.png\"/><span class=\"InfiniteList_authordesc__3igmE\"> <!-- -->分享一下 终结谣言</span></div></div></div></div>loading</div></div></div></div></div><div class=\"adm-swiper-slide\" style=\"left:-100%;transform:translate3d(100%,0,0)\"><div class=\"adm-swiper-item\"></div></div><div class=\"adm-swiper-slide\" style=\"left:-200%;transform:translate3d(-100%,0,0)\"><div class=\"adm-swiper-item\"></div></div></div></div></div><div class=\"home_homeShareIcon__qW3Cj\"><img alt=\"home bottom share logo\" src=\"https://new.inews.gtimg.com/tnews/eabed6d9/014e/eabed6d9-014e-4d27-b91a-ab0a547d8075.png\"/></div></div></div></div></div><script id=\"__NEXT_DATA__\" type=\"application/json\">{\"props\":{\"pageProps\":{\"initialState\":{\"pageData\":{\"hotarticles\":[{\"title\":\"感染一次之后三个月内不可能再被感染，因此早阳早好\",\"author\":\"Y博\",\"authordesc\":\"遗传学博士，科普作者，新药研发从业者\",\"id\":\"4c20c69a437d00e7aa1481a7907bc763\",\"Author\":{\"id\":1476,\"name\":\"Y博\",\"desc\":\"遗传学博士，科普作者，新药研发从业者\",\"head\":\"//jiaozhen-70111.picnjc.qpic.cn/udzqL7PDEErSBRzDMaskGQ\",\"level\":0,\"artList\":null,\"openid\":\"\",\"unionid\":\"\",\"inviteId\":\"\",\"nickname\":\"\",\"headimgurl\":\"\",\"ext1\":\"\",\"ext2\":null,\"ext3\":null,\"ext4\":null,\"ext5\":null,\"createdAt\":\"2021-06-17T02:09:16.000Z\",\"updatedAt\":\"2021-06-17T02:09:16.000Z\"},\"date\":\"2022-12-14\",\"markstyle\":\"fake\",\"result\":\"假\",\"explain\":\"谣言\",\"abstract\":\"阻断二次感染受到多个因素影响：过往感染时个体产生的中和抗体差异、感染发生了多久以及是否出现新的突变株。因此只能说过往感染能降低二次感染的风险，但不能打包票说多久之内绝对没事。\\n研究者们分析3个月内二次感染风险低的本意是指导疫苗接种，因为如果人体对新冠的免疫反应尚在高峰，再接种疫苗很难诱导出好的免疫反应，相当于白打一针。\\n虽然奥密克戎致病性比过往的新冠病毒株有下降，但病毒感染在个体身上仍有一定的不确定性，不能把“阳”当作绝对安全的体验，更不存在“早阳早好”。\",\"tag\":[\"二次感染\",\"新冠\"],\"type\":1,\"videourl\":\"\",\"cover\":\"//jiaozhen-70111.picnjc.qpic.cn/wb39hLXpoZSbYyryAqfuaC?imageView2/2/w/150/h/90\",\"coverrect\":\"//jiaozhen-70111.picnjc.qpic.cn/wb39hLXpoZSbYyryAqfuaC\",\"coversqual\":\"//jiaozhen-70111.picnjc.qpic.cn/wb39hLXpoZSbYyryAqfuaC?imageView2/2/w/300/h/300\",\"section\":\"\",\"iscolled\":false,\"arttype\":\"normal\"},{\"title\":\"打疫苗时的症状乘十倍，就是感染后的症状\",\"author\":\"北京市疾病预防控制中心研究员、医学博士\",\"authordesc\":\"北京市疾病预防控制中心研究员、医学博士\",\"id\":\"a722f8b5d2b0361f1be9c3b8aab78586\",\"Author\":{\"id\":1599,\"name\":\"张卫\",\"desc\":\"北京市疾病预防控制中心研究员、医学博士\",\"head\":\"//jiaozhen-70111.picnjc.qpic.cn/fNHJ8HYTxqYscGQKZQQYRx\",\"level\":0,\"artList\":null,\"openid\":\"\",\"unionid\":\"\",\"inviteId\":\"\",\"nickname\":\"\",\"headimgurl\":\"\",\"ext1\":\"\",\"ext2\":null,\"ext3\":null,\"ext4\":null,\"ext5\":null,\"createdAt\":\"2022-12-13T03:32:23.000Z\",\"updatedAt\":\"2022-12-13T03:32:23.000Z\"},\"date\":\"2022-12-14\",\"markstyle\":\"fake\",\"result\":\"假\",\"explain\":\"谣言\",\"abstract\":\"这种说法是错误的，对于灭活疫苗来说，虽然里面也含有新冠病毒，但是已经灭活的病毒，这与自然感染造成机体损伤的过程不一样。\\n另外，一个人接种疫苗时的身体反应，不只是灭活的病毒本身，也与疫苗中其他成分有关系。比如，灭活疫苗一般是用非洲绿猴肾细胞（VERO细胞）培养的，疫苗中多少会有细胞培养以及细胞本身的残片，以及佐剂、添加剂。所以，疫苗的不良反应不能与感染病毒后的症状直接比较。\",\"tag\":[\"疫苗\",\"新冠症状\"],\"type\":1,\"videourl\":\"\",\"cover\":\"//jiaozhen-70111.picnjc.qpic.cn/57MVvVWChfKMC3M93Vb1cv?imageView2/2/w/150/h/90\",\"coverrect\":\"//jiaozhen-70111.picnjc.qpic.cn/57MVvVWChfKMC3M93Vb1cv\",\"coversqual\":\"//jiaozhen-70111.picnjc.qpic.cn/57MVvVWChfKMC3M93Vb1cv?imageView2/2/w/300/h/300\",\"section\":\"\",\"iscolled\":false,\"arttype\":\"normal\"},{\"title\":\"如果感染过但病毒载量低，就可能短期再次感染\",\"author\":\"遗传学博士，科普作者，新药研发从业者\",\"authordesc\":\"遗传学博士，科普作者，新药研发从业者\",\"id\":\"ae398cf70047cc33cc73cda7a42b79b5\",\"Author\":{\"id\":1476,\"name\":\"Y博\",\"desc\":\"遗传学博士，科普作者，新药研发从业者\",\"head\":\"//jiaozhen-70111.picnjc.qpic.cn/udzqL7PDEErSBRzDMaskGQ\",\"level\":0,\"artList\":null,\"openid\":\"\",\"unionid\":\"\",\"inviteId\":\"\",\"nickname\":\"\",\"headimgurl\":\"\",\"ext1\":\"\",\"ext2\":null,\"ext3\":null,\"ext4\":null,\"ext5\":null,\"createdAt\":\"2021-06-17T02:09:16.000Z\",\"updatedAt\":\"2021-06-17T02:09:16.000Z\"},\"date\":\"2022-12-14\",\"markstyle\":\"fake\",\"result\":\"假\",\"explain\":\"谣言\",\"abstract\":\"载毒量会受多个因素影响，例如采样标准程度，试剂盒本身质量。而且即便这些技术上都非常标准了，载毒量本身是动态的。因此，仅看某一次核酸检测带来的一个载毒量数字，都不能反映实际感染过程中的载毒量变化情况。\\n免疫反应强弱取决于人体免疫系统对病毒的识别，然后被激活，与载毒量没有直接对应关系。现在的研究发现轻症以及无症状感染的免疫反应弱一些，表现为康复后中和抗体滴度更低。但轻症无症状核酸检测的载毒量并不比症状较重的低。\\n总之，载毒量高低和免疫反应强弱没有明确的关联，因此也很难和二次感染防护程度联系在一起。\",\"tag\":[\"病毒载量\",\"二次感染\"],\"type\":1,\"videourl\":\"\",\"cover\":\"//jiaozhen-70111.picnjc.qpic.cn/huSgc4hvKoyP29GNtF2f9k?imageView2/2/w/150/h/90\",\"coverrect\":\"//jiaozhen-70111.picnjc.qpic.cn/huSgc4hvKoyP29GNtF2f9k\",\"coversqual\":\"//jiaozhen-70111.picnjc.qpic.cn/huSgc4hvKoyP29GNtF2f9k?imageView2/2/w/300/h/300\",\"section\":\"\",\"iscolled\":false,\"arttype\":\"normal\"},{\"title\":\"长得好看的人不容易得新冠\",\"author\":\"药物研究人员，科普创作者\",\"authordesc\":\"药物研究人员，科普创作者\",\"id\":\"eea18dea23aa76662b4a3bf30044ec3c\",\"Author\":{\"id\":22,\"name\":\"一节生姜\",\"desc\":\"药物研究人员，科普创作者\",\"head\":\"http://p.qpic.cn/jiaozhen/0/5c51c3dda0034078ac9fd13760dec0a5/0\",\"level\":0,\"artList\":null,\"openid\":\"odbfO1ItvXZ1AOTt_G0HD9QQtiQo\",\"unionid\":\"ot9tX06btwnQUJoOnFJDDmh-za4k\",\"inviteId\":\"NzI=\",\"nickname\":\"Hongtao Zhang\",\"headimgurl\":\"http://thirdwx.qlogo.cn/mmopen/vi_32/UnOx94UubFLUicDYC4Lgarj9fLoOdicJm3Ioic1G73sf85f6LoiazQIW7PT8oy7DdBNM0mSVcA6rC8aoaSXWiaO3onA/132\",\"ext1\":\"\",\"ext2\":null,\"ext3\":null,\"ext4\":null,\"ext5\":null,\"createdAt\":\"2019-03-20T03:31:28.000Z\",\"updatedAt\":\"2022-04-11T06:36:21.000Z\"},\"date\":\"2022-12-13\",\"markstyle\":\"fake\",\"result\":\"假\",\"explain\":\"谣言\",\"abstract\":\"网文中提到的研究论文，今年2月发表于《英国皇家学会学报B》(Proceedings of The Royal Society B)。但是，仔细读了一下这篇论文，其实跟新冠病毒感染没有半毛钱的关系。\\n研究人员通过调查发现：长得越好看的人，身体越健康！但仅此而已，这就是一个相关的结果，其实并没有证实“身体健康” 和“长得好看”之间有因果关系。\\n论文研究者都不敢说，网文作者就脑洞大开，总结出荒谬的结论：“漂亮的人免疫力更好，更能抵抗新冠病毒”。\",\"tag\":[\"新冠\",\"颜值\"],\"type\":1,\"videourl\":\"\",\"cover\":\"https://inews.gtimg.com/newsapp_bt/0/10493663291/641?imageView2/2/w/150/h/90\",\"coverrect\":\"https://inews.gtimg.com/newsapp_bt/0/10493663291/641\",\"coversqual\":\"https://inews.gtimg.com/newsapp_bt/0/10493663291/641?imageView2/2/w/300/h/300\",\"section\":\"\",\"iscolled\":false,\"arttype\":\"normal\"},{\"title\":\"新冠病毒能杀死肺癌细胞\",\"author\":\"药物研究人员，科普创作者\",\"authordesc\":\"药物研究人员，科普创作者\",\"id\":\"1600da99c3c264b3768ca0c38a28a8d3\",\"Author\":{\"id\":22,\"name\":\"一节生姜\",\"desc\":\"药物研究人员，科普创作者\",\"head\":\"http://p.qpic.cn/jiaozhen/0/5c51c3dda0034078ac9fd13760dec0a5/0\",\"level\":0,\"artList\":null,\"openid\":\"odbfO1ItvXZ1AOTt_G0HD9QQtiQo\",\"unionid\":\"ot9tX06btwnQUJoOnFJDDmh-za4k\",\"inviteId\":\"NzI=\",\"nickname\":\"Hongtao Zhang\",\"headimgurl\":\"http://thirdwx.qlogo.cn/mmopen/vi_32/UnOx94UubFLUicDYC4Lgarj9fLoOdicJm3Ioic1G73sf85f6LoiazQIW7PT8oy7DdBNM0mSVcA6rC8aoaSXWiaO3onA/132\",\"ext1\":\"\",\"ext2\":null,\"ext3\":null,\"ext4\":null,\"ext5\":null,\"createdAt\":\"2019-03-20T03:31:28.000Z\",\"updatedAt\":\"2022-04-11T06:36:21.000Z\"},\"date\":\"2022-12-13\",\"markstyle\":\"fake\",\"result\":\"假\",\"explain\":\"谣言\",\"abstract\":\"这只是一个动物实验，新冠病毒刺突蛋白是否在人体中也能让肺癌细胞萎缩？这还是一个未知数，还需要更多的研究来证实。\\n即便未来的研究证实刺突蛋白的抗癌作用，那也必须清楚地认识到这样一个事实：用来治疗肺癌的药物是病毒的蛋白，并不是整个病毒颗粒；也就是说，只是让病毒蛋白在细胞外蹭一蹭，并不是让活病毒来感染患者。\",\"tag\":[\"肺癌\",\"新冠\"],\"type\":1,\"videourl\":\"\",\"cover\":\"https://inews.gtimg.com/newsapp_bt/0/13840269407/641?imageView2/2/w/150/h/90\",\"coverrect\":\"https://inews.gtimg.com/newsapp_bt/0/13840269407/641\",\"coversqual\":\"https://inews.gtimg.com/newsapp_bt/0/13840269407/641?imageView2/2/w/300/h/300\",\"section\":\"\",\"iscolled\":false,\"arttype\":\"normal\"},{\"title\":\"喝白酒能有效预防新冠\",\"author\":\"笔名“菠萝因子” 、癌症科普作者\",\"authordesc\":\"笔名“菠萝因子” 、癌症科普作者\",\"id\":\"fc33f8691cbd6eeaf844c850acfdf155\",\"Author\":{\"id\":440,\"name\":\"李治中\",\"desc\":\"笔名“菠萝因子” 、癌症科普作者\",\"head\":\"https://p.qpic.cn/jiaozhen/0/authorpic378/0\",\"level\":0,\"artList\":null,\"openid\":\"\",\"unionid\":\"\",\"inviteId\":\"\",\"nickname\":\"\",\"headimgurl\":\"\",\"ext1\":\"\",\"ext2\":null,\"ext3\":null,\"ext4\":null,\"ext5\":null,\"createdAt\":\"2019-03-20T03:31:31.000Z\",\"updatedAt\":\"2019-03-21T10:28:08.000Z\"},\"date\":\"2022-12-13\",\"markstyle\":\"fake\",\"result\":\"假\",\"explain\":\"谣言\",\"abstract\":\"“饮酒防疫”这说法早在疫情流行之初就有了。外用酒精可以杀灭病毒，这没啥问题，但曲解成“喝酒可以抗新冠状病毒”就太扯了。“酒含有活性成分，能激活免疫力”更是陈词滥调。\\n科学界早就有共识：为了健康，无论是洋酒还是白酒，无论葡萄酒还是养生酒，都应该少喝，最好不喝。原因很简单，不管里面号称有多少有益活性物质，它们最主要的活性成分，都是酒精。而任何含酒精的饮料，都是一级致癌物。\",\"tag\":[\"喝酒\",\"新冠\"],\"type\":1,\"videourl\":\"\",\"cover\":\"//jiaozhen-70111.picnjc.qpic.cn/kEZeu73ReTXo2m2dxNj43s?imageView2/2/w/150/h/90\",\"coverrect\":\"//jiaozhen-70111.picnjc.qpic.cn/kEZeu73ReTXo2m2dxNj43s\",\"coversqual\":\"//jiaozhen-70111.picnjc.qpic.cn/kEZeu73ReTXo2m2dxNj43s?imageView2/2/w/300/h/300\",\"section\":\"\",\"iscolled\":false,\"arttype\":\"normal\"},{\"title\":\"奥密克戎是小艾滋，反复感染会免疫衰竭\",\"author\":\"遗传学博士，科普作者，新药研发从业者\",\"authordesc\":\"遗传学博士，科普作者，新药研发从业者\",\"id\":\"b713e5d8cd05f1ce28e909f6d3bced01\",\"Author\":{\"id\":1476,\"name\":\"Y博\",\"desc\":\"遗传学博士，科普作者，新药研发从业者\",\"head\":\"//jiaozhen-70111.picnjc.qpic.cn/udzqL7PDEErSBRzDMaskGQ\",\"level\":0,\"artList\":null,\"openid\":\"\",\"unionid\":\"\",\"inviteId\":\"\",\"nickname\":\"\",\"headimgurl\":\"\",\"ext1\":\"\",\"ext2\":null,\"ext3\":null,\"ext4\":null,\"ext5\":null,\"createdAt\":\"2021-06-17T02:09:16.000Z\",\"updatedAt\":\"2021-06-17T02:09:16.000Z\"},\"date\":\"2022-12-09\",\"markstyle\":\"fake\",\"result\":\"假\",\"explain\":\"谣言\",\"abstract\":\"新冠二次感染的风险是存在的，但没有网上一些谣言传得那么神，什么小艾滋、免疫耗竭，这些都是不对的。\\n新冠是急性感染，感染之后病毒就被清除了，会留下免疫记忆，二次感染的时候，免疫记忆被激发，普遍会让人的健康风险更小一些。\\n虽然每一次病毒感染都有一定的不确定性，但总体上新冠二次感染的危险会低于第一次。\",\"tag\":[\"新冠感染\",\"艾滋\"],\"type\":1,\"videourl\":\"\",\"cover\":\"//jiaozhen-70111.picnjc.qpic.cn/j36pKuAgjSsunHDYtfqA1n?imageView2/2/w/150/h/90\",\"coverrect\":\"//jiaozhen-70111.picnjc.qpic.cn/j36pKuAgjSsunHDYtfqA1n\",\"coversqual\":\"//jiaozhen-70111.picnjc.qpic.cn/j36pKuAgjSsunHDYtfqA1n?imageView2/2/w/300/h/300\",\"section\":\"\",\"iscolled\":false,\"arttype\":\"normal\"},{\"title\":\"喝电解质水缓解新冠症状比喝白开水更有效\",\"author\":\"药理学硕士\",\"authordesc\":\"药理学硕士\",\"id\":\"e625502a4a38bed5607231bc64d74fc1\",\"Author\":{\"id\":226,\"name\":\"谢望时\",\"desc\":\"药理学硕士\",\"head\":\"http://p.qpic.cn/jiaozhen/0/3eb6378948294822a55ef8e8fbc4ece0/0\",\"level\":0,\"artList\":null,\"openid\":\"odbfO1FMyQRb6cs9aWlDxP2DaB0o\",\"unionid\":\"ot9tX0xY79HqwpucqLlvcGj--QKY\",\"inviteId\":\"NTc=\",\"nickname\":\"Adam\",\"headimgurl\":\"http://thirdwx.qlogo.cn/mmopen/vi_32/Q0j4TwGTfTIqfCFJvbFuzNpbV9oVaYJ0wk9OrTdAgicRyNgbm7OkKC7Sbq50tyks0YbBiamapmhNmLuPBu510w4w/132\",\"ext1\":\"\",\"ext2\":null,\"ext3\":null,\"ext4\":null,\"ext5\":null,\"createdAt\":\"2019-03-20T03:31:29.000Z\",\"updatedAt\":\"2020-11-03T15:07:28.000Z\"},\"date\":\"2022-12-09\",\"markstyle\":\"doubt\",\"result\":\"疑\",\"explain\":\"分情况\",\"abstract\":\"得了新冠之后，带水的液体对于身体的恢复都有好处。因为新冠感染可能导致发烧、出汗，水分和电解质流失；另外，还可能出现喉咙痛，喝冰水可以有轻微的麻木效果，可以让你更舒服一点。\\n但在缓解新冠症状的作用大小上，电解质水是不是比普通的白开水更好，这就不一定了。对绝大多数人来说，保证充足的液体摄入基本是够的，白开水、汤汁、矿泉水、电解质水都行；对于腹泻的患者，电解质丢失比较严重，喝电解质水会很有帮助。而如果是那些无法摄入液体的比较严重的情况，则可能要去医院输液，不建议在家自行处理。\",\"tag\":[\"\"],\"type\":1,\"videourl\":\"\",\"cover\":\"//jiaozhen-70111.picnjc.qpic.cn/qyweayJp4E7qQp3bGYZGnU?imageView2/2/w/150/h/90\",\"coverrect\":\"//jiaozhen-70111.picnjc.qpic.cn/qyweayJp4E7qQp3bGYZGnU\",\"coversqual\":\"//jiaozhen-70111.picnjc.qpic.cn/qyweayJp4E7qQp3bGYZGnU?imageView2/2/w/300/h/300\",\"section\":\"\",\"iscolled\":false,\"arttype\":\"normal\"},{\"title\":\"感染新冠后不能吃布洛芬，否则会加重病情\",\"author\":\"腾讯新闻旗下专业事实查证平台\",\"authordesc\":\"腾讯新闻旗下专业事实查证平台\",\"id\":\"eda42c214f0f7d768bc85812ca3172a3\",\"Author\":{\"id\":371,\"name\":\"较真团队\",\"desc\":\"腾讯新闻旗下专业事实查证平台\",\"head\":\"http://p.qpic.cn/jiaozhen/0/7eb4533c1d604ecfa3f25a0d1cae29cd/0\",\"level\":0,\"artList\":null,\"openid\":\"\",\"unionid\":\"\",\"inviteId\":\"\",\"nickname\":\"\",\"headimgurl\":\"\",\"ext1\":\"\",\"ext2\":null,\"ext3\":null,\"ext4\":null,\"ext5\":null,\"createdAt\":\"2019-03-20T03:31:30.000Z\",\"updatedAt\":\"2020-11-10T11:07:15.000Z\"},\"date\":\"2022-12-09\",\"markstyle\":\"fake\",\"result\":\"假\",\"explain\":\"谣言\",\"abstract\":\"“得了新冠不能用布洛芬加重病情”的说法是一个未经证实的谣言，起源于2020年初的一个假设，而非客观事实。\\n多个国际权威机构已表示“没有证据表明布洛芬与新冠感染症状恶化之间存在联系”“不建议反对使用布洛芬”，因此如果得了新冠出现发烧疼痛，在没有药物禁忌的情况下，完全可以使用布洛芬。\\n接种新冠疫苗后，可能出现发烧，或者注射部位有时候会出现疼痛，这种情况下用布洛芬或对乙酰氨基酚等止痛药也不会削弱疫苗效果。\",\"tag\":[\"新冠\",\"布洛芬\"],\"type\":1,\"videourl\":\"\",\"cover\":\"//jiaozhen-70111.picnjc.qpic.cn/d8Rs9xdRDt7ZyDb6heDFGH?imageView2/2/w/150/h/90\",\"coverrect\":\"//jiaozhen-70111.picnjc.qpic.cn/d8Rs9xdRDt7ZyDb6heDFGH\",\"coversqual\":\"//jiaozhen-70111.picnjc.qpic.cn/d8Rs9xdRDt7ZyDb6heDFGH?imageView2/2/w/300/h/300\",\"section\":\"\",\"iscolled\":false,\"arttype\":\"normal\"},{\"title\":\"国务院联防联控小组正式摘牌\",\"author\":\"中央网信办违法和不良信息举报中心主办、新华网承办的辟谣平台\",\"authordesc\":\"中央网信办违法和不良信息举报中心主办、新华网承办的辟谣平台\",\"id\":\"92026de8e8e3c90d0434bd96a9cb8109\",\"Author\":{\"id\":964,\"name\":\"中国互联网联合辟谣平台\",\"desc\":\"中央网信办违法和不良信息举报中心主办、新华网承办的辟谣平台\",\"head\":\"http://p.qpic.cn/jiaozhen/0/5da459174e1d4404973107b078a8ae93/0\",\"level\":0,\"artList\":null,\"openid\":\"\",\"unionid\":\"\",\"inviteId\":\"\",\"nickname\":\"\",\"headimgurl\":\"\",\"ext1\":\"\",\"ext2\":null,\"ext3\":null,\"ext4\":null,\"ext5\":null,\"createdAt\":\"2019-05-14T11:39:37.000Z\",\"updatedAt\":\"2019-09-23T02:00:48.000Z\"},\"date\":\"2022-12-09\",\"markstyle\":\"fake\",\"result\":\"假\",\"explain\":\"谣言\",\"abstract\":\"据核实，网上流传的图片并不是什么联防联控小组摘牌场景，而是国家卫健委2020年将其新闻发布会背景改成国务院联防联控机制发布会背景的照片。\\n而在12月8日下午召开的国务院联防联控机制新闻发布会现场，蓝底白字的背景上仍然写着“国务院联防联控机制新闻发布会”，显然“联防联控机制”仍在运行，而“联防联控小组”子虚乌有。\",\"tag\":[\"新冠\",\"卫健委\"],\"type\":1,\"videourl\":\"\",\"cover\":\"//jiaozhen-70111.picnjc.qpic.cn/3YY8tPboHfAokveaDnD3Ve?imageView2/2/w/150/h/90\",\"coverrect\":\"//jiaozhen-70111.picnjc.qpic.cn/3YY8tPboHfAokveaDnD3Ve\",\"coversqual\":\"//jiaozhen-70111.picnjc.qpic.cn/3YY8tPboHfAokveaDnD3Ve?imageView2/2/w/300/h/300\",\"section\":\"\",\"iscolled\":false,\"arttype\":\"normal\"},{\"title\":\"新冠患者不能服用布洛芬\",\"author\":\"生物医学博士、美国执业医生\",\"authordesc\":\"生物医学博士、美国执业医生\",\"id\":\"bde016f6c256e771494b9bc5e94a0eea\",\"Author\":{\"id\":1598,\"name\":\"阿司匹林42195米\",\"desc\":\"生物医学博士、美国执业医生\",\"head\":\"//jiaozhen-70111.picnjc.qpic.cn/oXw1dH4xMDqqHJSQPhKsyH\",\"level\":0,\"artList\":null,\"openid\":\"\",\"unionid\":\"\",\"inviteId\":\"\",\"nickname\":\"\",\"headimgurl\":\"\",\"ext1\":\"\",\"ext2\":null,\"ext3\":null,\"ext4\":null,\"ext5\":null,\"createdAt\":\"2022-12-02T08:55:38.000Z\",\"updatedAt\":\"2022-12-02T09:03:36.000Z\"},\"date\":\"2022-12-07\",\"markstyle\":\"fake\",\"result\":\"假\",\"explain\":\"谣言\",\"abstract\":\"2020年3月，科学家发现新冠病毒经过ACE受体起作用。已知非甾体抗炎药NSAID（包括布洛芬）也是通过ACE受体工作，世卫发言人回应：保险起见，目前“建议使用扑热息痛，不用布洛芬。”\\n2020年3月18日，综合专家研究和一线医生的意见，世界卫生组织正式表态：布洛芬可以用于新冠患者。至此，这件纷纷扬扬的事情画了一个句号。这两天大家见到的自媒体文章，就是2020年蹭流量的一波。\",\"tag\":[\"新冠\",\"布洛芬\"],\"type\":1,\"videourl\":\"\",\"cover\":\"//jiaozhen-70111.picnjc.qpic.cn/xsUy6oaWRAENtpLFEzwyGP?imageView2/2/w/150/h/90\",\"coverrect\":\"//jiaozhen-70111.picnjc.qpic.cn/xsUy6oaWRAENtpLFEzwyGP\",\"coversqual\":\"//jiaozhen-70111.picnjc.qpic.cn/xsUy6oaWRAENtpLFEzwyGP?imageView2/2/w/300/h/300\",\"section\":\"\",\"iscolled\":false,\"arttype\":\"normal\"},{\"title\":\"新冠感染者居家隔离，会经楼道气溶胶传播病毒\",\"author\":\"生物医学博士、美国执业医生\",\"authordesc\":\"生物医学博士、美国执业医生\",\"id\":\"b15043a0ee2a39f73fe662a45b6438e2\",\"Author\":{\"id\":1598,\"name\":\"阿司匹林42195米\",\"desc\":\"生物医学博士、美国执业医生\",\"head\":\"//jiaozhen-70111.picnjc.qpic.cn/oXw1dH4xMDqqHJSQPhKsyH\",\"level\":0,\"artList\":null,\"openid\":\"\",\"unionid\":\"\",\"inviteId\":\"\",\"nickname\":\"\",\"headimgurl\":\"\",\"ext1\":\"\",\"ext2\":null,\"ext3\":null,\"ext4\":null,\"ext5\":null,\"createdAt\":\"2022-12-02T08:55:38.000Z\",\"updatedAt\":\"2022-12-02T09:03:36.000Z\"},\"date\":\"2022-12-02\",\"markstyle\":\"doubt\",\"result\":\"疑\",\"explain\":\"分情况\",\"abstract\":\"从科学上来说，值得写成病例报道本身就说明是罕见现象。而且不少这样的报道只说“可能”“也许”是楼道/管道传播的，因为并没有直接的证据。\\n经管道传播新冠的情形一般是这样的：房屋管道较陈旧或结构特殊；阳性病人房间里空气中病毒的浓度很高，病毒传到邻居家后，在邻居空气中稀释之后还要有足够的浓度去感染别人，因此通过气溶胶经管道传播的风险是极低的。\",\"tag\":[\"气溶胶传播\",\"新冠\"],\"type\":1,\"videourl\":\"\",\"cover\":\"//jiaozhen-70111.picnjc.qpic.cn/jY3r5hyaZqYpuFrC369wUE?imageView2/2/w/150/h/90\",\"coverrect\":\"//jiaozhen-70111.picnjc.qpic.cn/jY3r5hyaZqYpuFrC369wUE\",\"coversqual\":\"//jiaozhen-70111.picnjc.qpic.cn/jY3r5hyaZqYpuFrC369wUE?imageView2/2/w/300/h/300\",\"section\":\"\",\"iscolled\":false,\"arttype\":\"normal\"},{\"title\":\"羊城晚报：奥密克戎病毒正式更名为新型冠状病毒感冒\",\"author\":\"羊城晚报报业集团数字化产品\",\"authordesc\":\"羊城晚报报业集团数字化产品\",\"id\":\"4b4f9e01564c76390bfb7679d7503fbb\",\"Author\":{\"id\":1192,\"name\":\"羊城派\",\"desc\":\"羊城晚报报业集团数字化产品\",\"head\":\"http://p.qpic.cn/jiaozhen/0/210816872bf84341a1be42554c344a43/0\",\"level\":0,\"artList\":null,\"openid\":\"\",\"unionid\":\"\",\"inviteId\":\"\",\"nickname\":\"\",\"headimgurl\":\"\",\"ext1\":\"\",\"ext2\":null,\"ext3\":null,\"ext4\":null,\"ext5\":null,\"createdAt\":\"2019-11-01T06:36:39.000Z\",\"updatedAt\":\"2019-11-01T06:36:39.000Z\"},\"date\":\"2022-12-01\",\"markstyle\":\"fake\",\"result\":\"假\",\"explain\":\"谣言\",\"abstract\":\"2022年11月30日18时35分，有人恶意P图，假冒羊城晚报官方微博之名，发布“本次奥密克戎病毒正式更名为新型冠状病毒感冒”等不实言论，造成恶劣影响。现严正声明：本报所有端口从未发表类似言论，已报警处理。网络不是法外之地，对恶意编造及散布不实信息者，本报将依法追究其一切责任。\",\"tag\":[\"奥密克戎\",\"新冠\"],\"type\":1,\"videourl\":\"\",\"cover\":\"//jiaozhen-70111.picnjc.qpic.cn/i15g8VwjarE1A17KpnMa9E?imageView2/2/w/150/h/90\",\"coverrect\":\"//jiaozhen-70111.picnjc.qpic.cn/i15g8VwjarE1A17KpnMa9E\",\"coversqual\":\"//jiaozhen-70111.picnjc.qpic.cn/i15g8VwjarE1A17KpnMa9E?imageView2/2/w/300/h/300\",\"section\":\"\",\"iscolled\":false,\"arttype\":\"normal\"},{\"title\":\"常戴口罩会吸入口罩纤维到肺里，患上肺结节\",\"author\":\"中国科协为深入推进科普信息化建设而塑造的全新品牌\",\"authordesc\":\"中国科协为深入推进科普信息化建设而塑造的全新品牌\",\"id\":\"c67e86f75865bada2204d22bd708e70d\",\"Author\":{\"id\":447,\"name\":\"科普中国\",\"desc\":\"中国科协为深入推进科普信息化建设而塑造的全新品牌\",\"head\":\"https://p.qpic.cn/jiaozhen/0/authorpic538/0\",\"level\":0,\"artList\":null,\"openid\":\"\",\"unionid\":\"\",\"inviteId\":\"\",\"nickname\":\"\",\"headimgurl\":\"\",\"ext1\":\"\",\"ext2\":null,\"ext3\":null,\"ext4\":null,\"ext5\":null,\"createdAt\":\"2019-03-20T03:31:31.000Z\",\"updatedAt\":\"2019-08-05T03:37:23.000Z\"},\"date\":\"2022-11-27\",\"markstyle\":\"fake\",\"result\":\"假\",\"explain\":\"谣言\",\"abstract\":\"很多人体检发现肺结节，主要因为是现在医学影像技术进步了，肺结节越来越容易被检测出来了。以前的X线检查分辨率不够，CT又太贵很少有人做，所以查不出来那么多结节，这和口罩没什么关系。\\n至于口罩上会掉“渣”的说法，由于我们的呼吸道有自洁的功能，所以能阻挡很多异物进入肺泡，真正能进入肺泡的只有我们很熟悉的PM2.5-PM10大小的微粒。熔喷布是口罩的核心材料，以石油化工产品聚丙烯为主要原料，为高分子结构，正常情况下分子与分子粘接在一起，不可能“降解”或“释放”出小颗粒。合格的医用外科口罩，正常使用的情况下，并不会掉“渣”被我们吸入肺里引起危害。而且正确佩戴口罩，恰恰能保护我们免于吸入病原体或其他异物。\",\"tag\":[\"口罩\",\"肺结节\"],\"type\":1,\"videourl\":\"\",\"cover\":\"//jiaozhen-70111.picnjc.qpic.cn/7wZPc8qJM3hyVswtyxbXCj?imageView2/2/w/150/h/90\",\"coverrect\":\"//jiaozhen-70111.picnjc.qpic.cn/7wZPc8qJM3hyVswtyxbXCj\",\"coversqual\":\"//jiaozhen-70111.picnjc.qpic.cn/7wZPc8qJM3hyVswtyxbXCj?imageView2/2/w/300/h/300\",\"section\":\"\",\"iscolled\":false,\"arttype\":\"normal\"},{\"title\":\"抗原检测试剂盒不准，用橘子汁做都能阳\",\"author\":\"北京医院临检中心副研究员\",\"authordesc\":\"北京医院临检中心副研究员\",\"id\":\"243d5d72bd90e812bcdb62c1b47de4d1\",\"Author\":{\"id\":380,\"name\":\"钟堃\",\"desc\":\"北京医院临检中心副研究员\",\"head\":\"//jiaozhen-70111.picnjc.qpic.cn/mDs9VV3thzRcwYJHdDE646\",\"level\":0,\"artList\":null,\"openid\":\"\",\"unionid\":\"\",\"inviteId\":\"\",\"nickname\":\"\",\"headimgurl\":\"\",\"ext1\":\"\",\"ext2\":null,\"ext3\":null,\"ext4\":null,\"ext5\":null,\"createdAt\":\"2019-03-20T03:31:30.000Z\",\"updatedAt\":\"2020-06-23T06:59:25.000Z\"},\"date\":\"2022-11-29\",\"markstyle\":\"fake\",\"result\":\"假\",\"explain\":\"伪常识\",\"abstract\":\"这其实是一种假阳性结果，甚至可以认为这样的操作只是在浪费检测试剂盒，因为标本类型不适用，检测结果没有意义。\\n出现这样的结果是因为橙汁的pH值较低，会使溶液的酸性增加破坏胶体金颗粒的状态而导致了假阳性的结果。\\n此外，直接拿果汁或者饮料来做其实是没有按照检测的操作规程来做的。如果用原装的稀释液或者反应液对检测的样本进行前处理，应该会得到预期的结果。\\n最后，即使是吃了橘子喝了果汁饮料，也是从口咽部顺食道到达胃部，一定时间之后很难有残留不说，抗原检测多是鼻部分泌物，几乎也不会有交集。\",\"tag\":[\"橘子汁\",\"抗原检测\"],\"type\":1,\"videourl\":\"\",\"cover\":\"//jiaozhen-70111.picnjc.qpic.cn/mK2nDrwV47xhij42TGFDWB?imageView2/2/w/150/h/90\",\"coverrect\":\"//jiaozhen-70111.picnjc.qpic.cn/mK2nDrwV47xhij42TGFDWB\",\"coversqual\":\"//jiaozhen-70111.picnjc.qpic.cn/mK2nDrwV47xhij42TGFDWB?imageView2/2/w/300/h/300\",\"section\":\"\",\"iscolled\":false,\"arttype\":\"normal\"},{\"title\":\"高烧四十度也是无症状，出现肺炎才算确诊\",\"author\":\"遗传学博士，科普作者，新药研发从业者\",\"authordesc\":\"遗传学博士，科普作者，新药研发从业者\",\"id\":\"5996e95ed257a96805000c887050d0b1\",\"Author\":{\"id\":1476,\"name\":\"Y博\",\"desc\":\"遗传学博士，科普作者，新药研发从业者\",\"head\":\"//jiaozhen-70111.picnjc.qpic.cn/udzqL7PDEErSBRzDMaskGQ\",\"level\":0,\"artList\":null,\"openid\":\"\",\"unionid\":\"\",\"inviteId\":\"\",\"nickname\":\"\",\"headimgurl\":\"\",\"ext1\":\"\",\"ext2\":null,\"ext3\":null,\"ext4\":null,\"ext5\":null,\"createdAt\":\"2021-06-17T02:09:16.000Z\",\"updatedAt\":\"2021-06-17T02:09:16.000Z\"},\"date\":\"2022-11-25\",\"markstyle\":\"fake\",\"result\":\"假\",\"explain\":\"谣言\",\"abstract\":\"无症状是指没有任何明显症状，包括发烧、咳嗽、喉咙痛等各种呼吸道传染病症状在内，所以“高烧四十度不退”并非“无症状”；\\n无症状感染在现实中包括真的全程无症状，以及感染者处于症状前暂时无症状，或者感染者忽略了自己的症状；\\n无症状感染在新冠传播中占了较高的比例，疫情防控需要关注无症状感染。\",\"tag\":[\"\"],\"type\":1,\"videourl\":\"\",\"cover\":\"//jiaozhen-70111.picnjc.qpic.cn/pVPo5S6d8g7b4kgi9yihpT?imageView2/2/w/150/h/90\",\"coverrect\":\"//jiaozhen-70111.picnjc.qpic.cn/pVPo5S6d8g7b4kgi9yihpT\",\"coversqual\":\"//jiaozhen-70111.picnjc.qpic.cn/pVPo5S6d8g7b4kgi9yihpT?imageView2/2/w/300/h/300\",\"section\":\"\",\"iscolled\":false,\"arttype\":\"normal\"},{\"title\":\"重庆火车站拉人到方舱医院有补贴\",\"author\":\"中国新闻网\",\"authordesc\":\"由国家级通讯社中国新闻社主办\",\"id\":\"690b58832ff5194346ce7cb3c0f7ee93\",\"Author\":{\"id\":361,\"name\":\"中国新闻网\",\"desc\":\"由国家级通讯社中国新闻社主办\",\"head\":\"https://p.qpic.cn/jiaozhen/0/authorpic70/0\",\"level\":0,\"artList\":null,\"openid\":\"\",\"unionid\":\"\",\"inviteId\":\"\",\"nickname\":\"\",\"headimgurl\":\"\",\"ext1\":\"\",\"ext2\":null,\"ext3\":null,\"ext4\":null,\"ext5\":null,\"createdAt\":\"2019-03-20T03:31:30.000Z\",\"updatedAt\":\"2019-08-05T03:20:36.000Z\"},\"date\":\"2022-11-23\",\"markstyle\":\"fake\",\"result\":\"假\",\"explain\":\"谣言\",\"abstract\":\"重庆市公安局江北区分局官方微信“平安江北”22日发布警情通报称，网传重庆北站羊儿客拉人到方舱医院有补贴系谣言，造谣者已被警方抓获并开展调查。\",\"tag\":[\"重庆\",\"方舱\"],\"type\":1,\"videourl\":\"\",\"cover\":\"//jiaozhen-70111.picnjc.qpic.cn/g7guJdFWxKmm1GbasGSFtB?imageView2/2/w/150/h/90\",\"coverrect\":\"//jiaozhen-70111.picnjc.qpic.cn/g7guJdFWxKmm1GbasGSFtB\",\"coversqual\":\"//jiaozhen-70111.picnjc.qpic.cn/g7guJdFWxKmm1GbasGSFtB?imageView2/2/w/300/h/300\",\"section\":\"\",\"iscolled\":false,\"arttype\":\"normal\"},{\"title\":\"石家庄查出白肺，可能是新冠变异\",\"author\":\"中央网信办违法和不良信息举报中心主办\",\"authordesc\":\"中央网信办违法和不良信息举报中心主办\",\"id\":\"4ba348a86898c49230faa42af9f032a6\",\"Author\":{\"id\":398,\"name\":\"中国互联网联合辟谣平台\",\"desc\":\"中央网信办违法和不良信息举报中心主办\",\"head\":\"https://p.qpic.cn/jiaozhen/0/authorpic68/0\",\"level\":0,\"artList\":null,\"openid\":\"\",\"unionid\":\"\",\"inviteId\":\"\",\"nickname\":\"\",\"headimgurl\":\"\",\"ext1\":\"\",\"ext2\":null,\"ext3\":null,\"ext4\":null,\"ext5\":null,\"createdAt\":\"2019-03-20T03:31:30.000Z\",\"updatedAt\":\"2019-03-21T10:28:08.000Z\"},\"date\":\"2022-11-16\",\"markstyle\":\"fake\",\"result\":\"假\",\"explain\":\"谣言\",\"abstract\":\"对此，红星新闻记者拨打石家庄市12345政务服务便民热线，反映网传消息。11月15日上午，石家庄市第二人民医院一名工作人员回电称，院方收到相关部门派发的工单后，经调查核实，网传的“石家庄查出白肺”系谣言，“我们医院没有这个事儿，谣言止于智者。”\",\"tag\":[\"石家庄\",\"白肺\"],\"type\":1,\"videourl\":\"\",\"cover\":\"//jiaozhen-70111.picnjc.qpic.cn/cwLZtTw55DLNP7Tt9eePS7?imageView2/2/w/150/h/90\",\"coverrect\":\"//jiaozhen-70111.picnjc.qpic.cn/cwLZtTw55DLNP7Tt9eePS7\",\"coversqual\":\"//jiaozhen-70111.picnjc.qpic.cn/cwLZtTw55DLNP7Tt9eePS7?imageView2/2/w/300/h/300\",\"section\":\"\",\"iscolled\":false,\"arttype\":\"normal\"},{\"title\":\"天津老太太发口罩拐骗儿童\",\"author\":\"天津辟谣\",\"authordesc\":\"天津市互联网违法和不良信息举报中心\",\"id\":\"9c0a103c801d8f7c92b0ba25ab37386f\",\"Author\":{\"id\":1596,\"name\":\"天津辟谣\",\"desc\":\"天津市互联网违法和不良信息举报中心\",\"head\":\"//jiaozhen-70111.picnjc.qpic.cn/4vBeDiVnZASvWaL9KZjmwE\",\"level\":0,\"artList\":null,\"openid\":\"\",\"unionid\":\"\",\"inviteId\":\"\",\"nickname\":\"\",\"headimgurl\":\"\",\"ext1\":\"\",\"ext2\":null,\"ext3\":null,\"ext4\":null,\"ext5\":null,\"createdAt\":\"2022-11-14T07:43:54.000Z\",\"updatedAt\":\"2022-11-14T07:43:54.000Z\"},\"date\":\"2022-11-14\",\"markstyle\":\"fake\",\"result\":\"假\",\"explain\":\"谣言\",\"abstract\":\"经与公安部门核实，11月13日10时许，梁某某（女，70岁）途经河北区金海道某小区门前时，看到两名12岁男孩在路边玩耍未佩戴口罩，遂主动提供口罩，被两名男孩拒绝，在双方纠缠期间群众报警。经进一步调查，梁某某患有小脑萎缩，口罩上无有害物质，不存在拐骗儿童行为。现双方已消除误解。\",\"tag\":[\"口罩\",\"拐卖\"],\"type\":1,\"videourl\":\"\",\"cover\":\"//jiaozhen-70111.picnjc.qpic.cn/8yMJbC5bkAnXRurRa4wePg?imageView2/2/w/150/h/90\",\"coverrect\":\"//jiaozhen-70111.picnjc.qpic.cn/8yMJbC5bkAnXRurRa4wePg\",\"coversqual\":\"//jiaozhen-70111.picnjc.qpic.cn/8yMJbC5bkAnXRurRa4wePg?imageView2/2/w/300/h/300\",\"section\":\"\",\"iscolled\":false,\"arttype\":\"normal\"},{\"title\":\"北京重庆河北山东山西等地飞机喷洒打药全城消杀\",\"author\":\"中央网信办违法和不良信息举报中心主办、新华网承办的辟谣平台\",\"authordesc\":\"中央网信办违法和不良信息举报中心主办、新华网承办的辟谣平台\",\"id\":\"028c5c7b2e95100e7f9c3df37c0055f2\",\"Author\":{\"id\":964,\"name\":\"中国互联网联合辟谣平台\",\"desc\":\"中央网信办违法和不良信息举报中心主办、新华网承办的辟谣平台\",\"head\":\"http://p.qpic.cn/jiaozhen/0/5da459174e1d4404973107b078a8ae93/0\",\"level\":0,\"artList\":null,\"openid\":\"\",\"unionid\":\"\",\"inviteId\":\"\",\"nickname\":\"\",\"headimgurl\":\"\",\"ext1\":\"\",\"ext2\":null,\"ext3\":null,\"ext4\":null,\"ext5\":null,\"createdAt\":\"2019-05-14T11:39:37.000Z\",\"updatedAt\":\"2019-09-23T02:00:48.000Z\"},\"date\":\"2022-10-31\",\"markstyle\":\"fake\",\"result\":\"假\",\"explain\":\"谣言\",\"abstract\":\"针对这一网传信息，多地官方回应：传言不实！\",\"tag\":[\"飞机喷洒打药\",\"消毒\"],\"type\":1,\"videourl\":\"\",\"cover\":\"//jiaozhen-70111.picnjc.qpic.cn/jghSFbDM8EEzDfM5PNhv2B?imageView2/2/w/150/h/90\",\"coverrect\":\"//jiaozhen-70111.picnjc.qpic.cn/jghSFbDM8EEzDfM5PNhv2B\",\"coversqual\":\"//jiaozhen-70111.picnjc.qpic.cn/jghSFbDM8EEzDfM5PNhv2B?imageView2/2/w/300/h/300\",\"section\":\"\",\"iscolled\":false,\"arttype\":\"normal\"}],\"hotSearchs\":[{\"question\":\"布洛芬 新冠\"},{\"question\":\"电解质水\"},{\"question\":\"奥密克戎 艾滋\"},{\"question\":\"抗原检测 橘子\"},{\"question\":\"口罩 肺结节\"},{\"question\":\"无症状感染 高烧\"},{\"question\":\"石家庄 白肺\"},{\"question\":\"疫苗 肺结节\"},{\"question\":\"一码扫两次\"},{\"question\":\"核酸 鼻咽癌喉癌\"}],\"titleLink\":\"//new.inews.gtimg.com/tnews/07031a22/a111/07031a22-a111-4927-a437-f4916cda87c1.png\",\"tabs\":[{\"icon\":\"//mat1.gtimg.com/www/coral/jiaozhen/imgs/feiyan_topcell2.png\",\"title\":\"疫情数据\",\"url\":\"https://news.qq.com//zt2020/page/feiyan.htm\"},{\"icon\":\"//mat1.gtimg.com/www/coral/jiaozhen/imgs/feiyan_topcell3.png\",\"title\":\"防护手册\",\"url\":\"https://news.qq.com/elk/publish/elk_63918c6afb94c78a41209f4d.html\"}]},\"cookieAppid\":\"101501549\"},\"deployENV\":\"formal\",\"query\":{},\"errmsg\":\"\",\"_nextI18Next\":{\"initialI18nStore\":{\"zh-CN\":{\"home\":{\"shareTitle\":\"分享一下 终结谣言\",\"bannerTitle\":\"新冠病毒实时辟谣\",\"allTab\":\"全部内容\",\"onlyTrue\":\"只看真\",\"onlyFale\":\"只看假\",\"jzAak\":\"向较真提问\",\"alreadyExists\":\"已显示全部内容\",\"trueTitle\":\"分享一下 守护家人\",\"lookAuthor\":\"查证者\",\"deatultSwiperText\":\"请输入搜索内容\"}}},\"initialLocale\":\"zh-CN\",\"userConfig\":{\"i18n\":{\"defaultLocale\":\"zh-CN\",\"locales\":[\"zh-CN\",\"zh-HK\",\"zh-TW\"]},\"default\":{\"i18n\":{\"defaultLocale\":\"zh-CN\",\"locales\":[\"zh-CN\",\"zh-HK\",\"zh-TW\"]}}}}},\"__N_SSP\":true},\"page\":\"/home\",\"query\":{},\"buildId\":\"5wr92_GIrQETxvS-evl6n\",\"assetPrefix\":\"https://tnfe.gtimg.com/jiaozhen/h5ssr\",\"isFallback\":false,\"gssp\":true,\"customServer\":true,\"locale\":\"zh-CN\",\"locales\":[\"zh-CN\",\"zh-HK\",\"zh-TW\"],\"defaultLocale\":\"zh-CN\",\"scriptLoader\":[]}</script><script>\n",
       "  var emonitorIns = emonitor.create({\n",
       "    name: 'feiyanh5',\n",
       "    mode: '007',\n",
       "    atta: {\n",
       "      name: 'jiaozhen_h5_ssr'\n",
       "    },\n",
       "    onBeforeSend: function(data) {\n",
       "      // 过滤特定地址\n",
       "      if (data.type === 'cdn') {\n",
       "        return false;\n",
       "      }\n",
       "    }\n",
       "});</script></body></html>"
      ]
     },
     "execution_count": 17,
     "metadata": {},
     "output_type": "execute_result"
    }
   ],
   "source": [
    "soup"
   ]
  },
  {
   "cell_type": "code",
   "execution_count": 18,
   "id": "ccaa0cbd",
   "metadata": {
    "ExecuteTime": {
     "end_time": "2022-12-13T08:33:05.623883Z",
     "start_time": "2022-12-13T08:33:05.612882Z"
    }
   },
   "outputs": [
    {
     "data": {
      "text/plain": [
       "['感染一次之后三个月内不可能再被感染，因此早阳早好',\n",
       " '打疫苗时的症状乘十倍，就是感染后的症状',\n",
       " '如果感染过但病毒载量低，就可能短期再次感染',\n",
       " '长得好看的人不容易得新冠',\n",
       " '新冠病毒能杀死肺癌细胞',\n",
       " '喝白酒能有效预防新冠',\n",
       " '奥密克戎是小艾滋，反复感染会免疫衰竭',\n",
       " '喝电解质水缓解新冠症状比喝白开水更有效',\n",
       " '感染新冠后不能吃布洛芬，否则会加重病情',\n",
       " '国务院联防联控小组正式摘牌',\n",
       " '新冠患者不能服用布洛芬',\n",
       " '新冠感染者居家隔离，会经楼道气溶胶传播病毒',\n",
       " '羊城晚报：奥密克戎病毒正式更名为新型冠状病毒感冒',\n",
       " '常戴口罩会吸入口罩纤维到肺里，患上肺结节',\n",
       " '抗原检测试剂盒不准，用橘子汁做都能阳',\n",
       " '高烧四十度也是无症状，出现肺炎才算确诊',\n",
       " '重庆火车站拉人到方舱医院有补贴',\n",
       " '石家庄查出白肺，可能是新冠变异',\n",
       " '天津老太太发口罩拐骗儿童',\n",
       " '北京重庆河北山东山西等地飞机喷洒打药全城消杀']"
      ]
     },
     "execution_count": 18,
     "metadata": {},
     "output_type": "execute_result"
    }
   ],
   "source": [
    "[i.text for i in soup.select('.InfiniteList_listContentText__89_ud')]\n",
    "#[i.text.split('\\xa0')[0].replace('\\u200b', '') for i in soup.select('.InfiniteList_listContentText__89_ud')]"
   ]
  },
  {
   "cell_type": "code",
   "execution_count": 20,
   "id": "caddd859",
   "metadata": {},
   "outputs": [
    {
     "data": {
      "text/plain": [
       "[' 查证者',\n",
       " 'Y博',\n",
       " ' 查证者',\n",
       " '张卫',\n",
       " ' 查证者',\n",
       " 'Y博',\n",
       " ' 查证者',\n",
       " '一节生姜',\n",
       " ' 查证者',\n",
       " '一节生姜',\n",
       " ' 查证者',\n",
       " '李治中',\n",
       " ' 查证者',\n",
       " 'Y博',\n",
       " ' 查证者',\n",
       " '谢望时',\n",
       " ' 查证者',\n",
       " '较真团队',\n",
       " ' 查证者',\n",
       " '中国互联网联合辟谣平台',\n",
       " ' 查证者',\n",
       " '阿司匹林42195米',\n",
       " ' 查证者',\n",
       " '阿司匹林42195米',\n",
       " ' 查证者',\n",
       " '羊城派',\n",
       " ' 查证者',\n",
       " '科普中国',\n",
       " ' 查证者',\n",
       " '钟堃',\n",
       " ' 查证者',\n",
       " 'Y博',\n",
       " ' 查证者',\n",
       " '中国新闻网',\n",
       " ' 查证者',\n",
       " '中国互联网联合辟谣平台',\n",
       " ' 查证者',\n",
       " '天津辟谣',\n",
       " ' 查证者',\n",
       " '中国互联网联合辟谣平台']"
      ]
     },
     "execution_count": 20,
     "metadata": {},
     "output_type": "execute_result"
    }
   ],
   "source": [
    "[i.text for i in soup.select('.InfiniteList_cardTitle__cPRz5')]"
   ]
  },
  {
   "cell_type": "code",
   "execution_count": 19,
   "id": "d6ac0bbb",
   "metadata": {
    "ExecuteTime": {
     "end_time": "2022-12-13T08:33:46.729580Z",
     "start_time": "2022-12-13T08:33:46.705583Z"
    }
   },
   "outputs": [
    {
     "data": {
      "text/plain": [
       "['谣言',\n",
       " '谣言',\n",
       " '谣言',\n",
       " '谣言',\n",
       " '谣言',\n",
       " '谣言',\n",
       " '谣言',\n",
       " '谣言',\n",
       " '谣言',\n",
       " '谣言',\n",
       " '谣言',\n",
       " '谣言',\n",
       " '伪常识',\n",
       " '谣言',\n",
       " '谣言',\n",
       " '谣言',\n",
       " '谣言',\n",
       " '谣言']"
      ]
     },
     "execution_count": 19,
     "metadata": {},
     "output_type": "execute_result"
    }
   ],
   "source": [
    "[i.text for i in soup.select('.InfiniteList_backgroundfalse__JK57x')]"
   ]
  },
  {
   "cell_type": "markdown",
   "id": "7e82c868",
   "metadata": {},
   "source": [
    "## simple to parse table by `Pandas`"
   ]
  },
  {
   "cell_type": "code",
   "execution_count": 22,
   "id": "d8a7bac6",
   "metadata": {
    "ExecuteTime": {
     "end_time": "2022-12-13T08:41:10.037781Z",
     "start_time": "2022-12-13T08:41:09.465824Z"
    }
   },
   "outputs": [],
   "source": [
    "# pandas只能爬取表格数据\n",
    "#url = \"https://www.douban.com/group/730749/discussion?start=0\"\n",
    "url = \"https://www.douban.com/group/14771/\"\n",
    "headers ={'User-Agent': 'Mozilla/5.0 (Windows NT 10.0; Win64; x64) AppleWebKit/537.36 (KHTML, like Gecko) Chrome/89.0.4343.0 Safari/537.36',\n",
    "         }\n",
    "response = requests.get(url, headers=headers)\n",
    "tables  = pd.read_html(response.text)\n"
   ]
  },
  {
   "cell_type": "code",
   "execution_count": 23,
   "id": "d6c87908",
   "metadata": {
    "ExecuteTime": {
     "end_time": "2022-12-13T08:41:11.006561Z",
     "start_time": "2022-12-13T08:41:10.991530Z"
    }
   },
   "outputs": [
    {
     "data": {
      "text/plain": [
       "<Response [200]>"
      ]
     },
     "execution_count": 23,
     "metadata": {},
     "output_type": "execute_result"
    }
   ],
   "source": [
    "response"
   ]
  },
  {
   "cell_type": "code",
   "execution_count": 24,
   "id": "b741bde3",
   "metadata": {
    "ExecuteTime": {
     "end_time": "2022-12-13T08:41:11.848534Z",
     "start_time": "2022-12-13T08:41:11.838537Z"
    }
   },
   "outputs": [
    {
     "data": {
      "text/plain": [
       "1"
      ]
     },
     "execution_count": 24,
     "metadata": {},
     "output_type": "execute_result"
    }
   ],
   "source": [
    "len(tables)"
   ]
  },
  {
   "cell_type": "code",
   "execution_count": 27,
   "id": "be6190af",
   "metadata": {
    "ExecuteTime": {
     "end_time": "2022-12-13T08:41:13.730836Z",
     "start_time": "2022-12-13T08:41:13.707836Z"
    }
   },
   "outputs": [
    {
     "data": {
      "text/html": [
       "<div>\n",
       "<style scoped>\n",
       "    .dataframe tbody tr th:only-of-type {\n",
       "        vertical-align: middle;\n",
       "    }\n",
       "\n",
       "    .dataframe tbody tr th {\n",
       "        vertical-align: top;\n",
       "    }\n",
       "\n",
       "    .dataframe thead th {\n",
       "        text-align: right;\n",
       "    }\n",
       "</style>\n",
       "<table border=\"1\" class=\"dataframe\">\n",
       "  <thead>\n",
       "    <tr style=\"text-align: right;\">\n",
       "      <th></th>\n",
       "      <th>0</th>\n",
       "      <th>1</th>\n",
       "      <th>2</th>\n",
       "      <th>3</th>\n",
       "    </tr>\n",
       "  </thead>\n",
       "  <tbody>\n",
       "    <tr>\n",
       "      <th>0</th>\n",
       "      <td>讨论</td>\n",
       "      <td>作者</td>\n",
       "      <td>回应</td>\n",
       "      <td>最后回应</td>\n",
       "    </tr>\n",
       "    <tr>\n",
       "      <th>1</th>\n",
       "      <td>新人来报道，大家互相认识一下</td>\n",
       "      <td>°D</td>\n",
       "      <td>2645</td>\n",
       "      <td>2019-07-12</td>\n",
       "    </tr>\n",
       "    <tr>\n",
       "      <th>2</th>\n",
       "      <td>♥你想要不变心的情人 还是永远不老的青春</td>\n",
       "      <td>蜉蝣。</td>\n",
       "      <td>792</td>\n",
       "      <td>12-13 12:07</td>\n",
       "    </tr>\n",
       "    <tr>\n",
       "      <th>3</th>\n",
       "      <td>一见倾心的短文字</td>\n",
       "      <td>欧喏</td>\n",
       "      <td>892</td>\n",
       "      <td>12-12 23:53</td>\n",
       "    </tr>\n",
       "    <tr>\n",
       "      <th>4</th>\n",
       "      <td>❤ 可以不光芒万丈，但不能停止自己发光 ❤</td>\n",
       "      <td>茶㑍凁</td>\n",
       "      <td>28118</td>\n",
       "      <td>12-12 10:50</td>\n",
       "    </tr>\n",
       "    <tr>\n",
       "      <th>5</th>\n",
       "      <td>【不過•遇见】——而已</td>\n",
       "      <td>C°</td>\n",
       "      <td>873</td>\n",
       "      <td>12-12 00:30</td>\n",
       "    </tr>\n",
       "    <tr>\n",
       "      <th>6</th>\n",
       "      <td>谁省，谁省。从此簟纹灯影。</td>\n",
       "      <td>Sukie</td>\n",
       "      <td>199</td>\n",
       "      <td>12-10 00:31</td>\n",
       "    </tr>\n",
       "    <tr>\n",
       "      <th>7</th>\n",
       "      <td>总有一句 正中你心（我不在的时候 请自行进入我的...</td>\n",
       "      <td>邵略略</td>\n",
       "      <td>8934</td>\n",
       "      <td>12-08 21:08</td>\n",
       "    </tr>\n",
       "    <tr>\n",
       "      <th>8</th>\n",
       "      <td>心硬者得世界，温柔者成神。</td>\n",
       "      <td>Cat_Ting</td>\n",
       "      <td>5326</td>\n",
       "      <td>12-08 18:08</td>\n",
       "    </tr>\n",
       "    <tr>\n",
       "      <th>9</th>\n",
       "      <td>【若旧人终是不覆，让时间替我送上祝福】</td>\n",
       "      <td>Crush</td>\n",
       "      <td>1752</td>\n",
       "      <td>12-07 23:45</td>\n",
       "    </tr>\n",
       "    <tr>\n",
       "      <th>10</th>\n",
       "      <td>时光。</td>\n",
       "      <td>盧强。</td>\n",
       "      <td>556</td>\n",
       "      <td>12-06 14:45</td>\n",
       "    </tr>\n",
       "    <tr>\n",
       "      <th>11</th>\n",
       "      <td>♡：☏ 。[ 我 的 话 匣 子 ] 。绿：♡（重...</td>\n",
       "      <td>❤ 。韩小绿</td>\n",
       "      <td>12667</td>\n",
       "      <td>12-05 00:05</td>\n",
       "    </tr>\n",
       "    <tr>\n",
       "      <th>12</th>\n",
       "      <td>有些欢喜、不言爱</td>\n",
       "      <td>小贝</td>\n",
       "      <td>1664</td>\n",
       "      <td>11-30 07:20</td>\n",
       "    </tr>\n",
       "    <tr>\n",
       "      <th>13</th>\n",
       "      <td>明明那么累了还会失眠，真是自己被自己欺负了还没...</td>\n",
       "      <td>糯米团子是大福</td>\n",
       "      <td>958</td>\n",
       "      <td>11-29 12:26</td>\n",
       "    </tr>\n",
       "    <tr>\n",
       "      <th>14</th>\n",
       "      <td>后来的你 爱上了谁。</td>\n",
       "      <td>否极泰来</td>\n",
       "      <td>92</td>\n",
       "      <td>11-28 05:11</td>\n",
       "    </tr>\n",
       "    <tr>\n",
       "      <th>15</th>\n",
       "      <td>生于一九九几。</td>\n",
       "      <td>💫火锅瓶</td>\n",
       "      <td>2071</td>\n",
       "      <td>11-27 13:08</td>\n",
       "    </tr>\n",
       "    <tr>\n",
       "      <th>16</th>\n",
       "      <td>路遥漫漫，与谁比肩。</td>\n",
       "      <td>卿卿</td>\n",
       "      <td>1940</td>\n",
       "      <td>11-25 09:58</td>\n",
       "    </tr>\n",
       "    <tr>\n",
       "      <th>17</th>\n",
       "      <td>愿每一场欢聚都爱得尽兴</td>\n",
       "      <td>有点甜</td>\n",
       "      <td>372</td>\n",
       "      <td>11-24 21:30</td>\n",
       "    </tr>\n",
       "    <tr>\n",
       "      <th>18</th>\n",
       "      <td>『偶尔躲藏 是为了更好的绽放』</td>\n",
       "      <td>酒心棠</td>\n",
       "      <td>11195</td>\n",
       "      <td>11-23 14:47</td>\n",
       "    </tr>\n",
       "    <tr>\n",
       "      <th>19</th>\n",
       "      <td>仍是旧句子</td>\n",
       "      <td>シエツクン</td>\n",
       "      <td>134</td>\n",
       "      <td>11-23 11:48</td>\n",
       "    </tr>\n",
       "    <tr>\n",
       "      <th>20</th>\n",
       "      <td>路过我的心上</td>\n",
       "      <td>MSHAN咕咚</td>\n",
       "      <td>NaN</td>\n",
       "      <td>11-18 14:37</td>\n",
       "    </tr>\n",
       "    <tr>\n",
       "      <th>21</th>\n",
       "      <td>心有林夕</td>\n",
       "      <td>Doraemon.梦</td>\n",
       "      <td>1646</td>\n",
       "      <td>11-16 11:22</td>\n",
       "    </tr>\n",
       "    <tr>\n",
       "      <th>22</th>\n",
       "      <td>陌生人，愿你幸福，无所畏惧。</td>\n",
       "      <td>泠晞</td>\n",
       "      <td>1491</td>\n",
       "      <td>11-10 00:28</td>\n",
       "    </tr>\n",
       "    <tr>\n",
       "      <th>23</th>\n",
       "      <td>长成一个炉火纯青的宿命者</td>\n",
       "      <td>小免</td>\n",
       "      <td>921</td>\n",
       "      <td>11-09 11:25</td>\n",
       "    </tr>\n",
       "    <tr>\n",
       "      <th>24</th>\n",
       "      <td>『无我原非你，从他不解伊』</td>\n",
       "      <td>星沉海阔</td>\n",
       "      <td>1048</td>\n",
       "      <td>11-08 23:59</td>\n",
       "    </tr>\n",
       "    <tr>\n",
       "      <th>25</th>\n",
       "      <td>【幸我还有骄傲不许我苟且】 梦河摘抄</td>\n",
       "      <td>梦河</td>\n",
       "      <td>191</td>\n",
       "      <td>11-05 11:13</td>\n",
       "    </tr>\n",
       "    <tr>\n",
       "      <th>26</th>\n",
       "      <td>暖暖的心途~</td>\n",
       "      <td>平平蛋蛋</td>\n",
       "      <td>520</td>\n",
       "      <td>11-02 21:00</td>\n",
       "    </tr>\n",
       "    <tr>\n",
       "      <th>27</th>\n",
       "      <td>与时光有染</td>\n",
       "      <td>浅草风铃</td>\n",
       "      <td>3273</td>\n",
       "      <td>10-29 19:52</td>\n",
       "    </tr>\n",
       "    <tr>\n",
       "      <th>28</th>\n",
       "      <td>与我所爱年年不见 愿他岁岁平安</td>\n",
       "      <td>人潮拥挤告别你</td>\n",
       "      <td>491</td>\n",
       "      <td>10-26 08:58</td>\n",
       "    </tr>\n",
       "    <tr>\n",
       "      <th>29</th>\n",
       "      <td>如何心事终虚化</td>\n",
       "      <td>五原里美</td>\n",
       "      <td>220</td>\n",
       "      <td>10-19 20:00</td>\n",
       "    </tr>\n",
       "    <tr>\n",
       "      <th>30</th>\n",
       "      <td>“如果尽头是你，世界荒芜我都不怕。”</td>\n",
       "      <td>送你一颗子弹</td>\n",
       "      <td>1413</td>\n",
       "      <td>10-10 15:25</td>\n",
       "    </tr>\n",
       "    <tr>\n",
       "      <th>31</th>\n",
       "      <td>我的摘抄-点点滴滴。</td>\n",
       "      <td>柒。</td>\n",
       "      <td>3567</td>\n",
       "      <td>10-10 10:23</td>\n",
       "    </tr>\n",
       "    <tr>\n",
       "      <th>32</th>\n",
       "      <td>一念成魔疯半生。（摘）</td>\n",
       "      <td>荞麦</td>\n",
       "      <td>511</td>\n",
       "      <td>10-04 10:40</td>\n",
       "    </tr>\n",
       "    <tr>\n",
       "      <th>33</th>\n",
       "      <td>让我们面对现实，让我们忠于理想</td>\n",
       "      <td>明月出天山</td>\n",
       "      <td>28</td>\n",
       "      <td>10-02 13:18</td>\n",
       "    </tr>\n",
       "    <tr>\n",
       "      <th>34</th>\n",
       "      <td>穿 过 温 柔 的 晚 风</td>\n",
       "      <td>what？</td>\n",
       "      <td>1524</td>\n",
       "      <td>09-19 10:19</td>\n",
       "    </tr>\n",
       "    <tr>\n",
       "      <th>35</th>\n",
       "      <td>向日葵小姐</td>\n",
       "      <td>午饭排骨粥</td>\n",
       "      <td>4</td>\n",
       "      <td>09-14 21:41</td>\n",
       "    </tr>\n",
       "    <tr>\n",
       "      <th>36</th>\n",
       "      <td>弗洛伊德爱上少年维特 （in saigon）</td>\n",
       "      <td>横波</td>\n",
       "      <td>6812</td>\n",
       "      <td>09-07 14:05</td>\n",
       "    </tr>\n",
       "    <tr>\n",
       "      <th>37</th>\n",
       "      <td>有些句子，触动内心</td>\n",
       "      <td>差不多小姐</td>\n",
       "      <td>54</td>\n",
       "      <td>09-04 23:04</td>\n",
       "    </tr>\n",
       "    <tr>\n",
       "      <th>38</th>\n",
       "      <td>【书摘】世人谓我爱长安，其实只爱长安某✿</td>\n",
       "      <td>姽婳。</td>\n",
       "      <td>239</td>\n",
       "      <td>08-30 12:49</td>\n",
       "    </tr>\n",
       "    <tr>\n",
       "      <th>39</th>\n",
       "      <td>妥帖的字，有粘性，忘不了。</td>\n",
       "      <td>迷恋人间</td>\n",
       "      <td>1095</td>\n",
       "      <td>08-22 15:22</td>\n",
       "    </tr>\n",
       "    <tr>\n",
       "      <th>40</th>\n",
       "      <td>也許，莪們［生死相許］。 或者，莪們［各奔東西］。</td>\n",
       "      <td>旧梦失词</td>\n",
       "      <td>621</td>\n",
       "      <td>08-18 11:36</td>\n",
       "    </tr>\n",
       "    <tr>\n",
       "      <th>41</th>\n",
       "      <td>【自留文摘】……繁花遍野，见辽阔之地</td>\n",
       "      <td>万俟祺</td>\n",
       "      <td>1735</td>\n",
       "      <td>07-31 21:44</td>\n",
       "    </tr>\n",
       "    <tr>\n",
       "      <th>42</th>\n",
       "      <td>是不是，到最后，这城市，剩下的只是，我一人的兵...</td>\n",
       "      <td>pudese</td>\n",
       "      <td>20322</td>\n",
       "      <td>07-27 22:20</td>\n",
       "    </tr>\n",
       "    <tr>\n",
       "      <th>43</th>\n",
       "      <td>『我的摘抄私筆記』.甚少情愛.專注自在</td>\n",
       "      <td>閻浮琥珀</td>\n",
       "      <td>4547</td>\n",
       "      <td>07-26 11:11</td>\n",
       "    </tr>\n",
       "    <tr>\n",
       "      <th>44</th>\n",
       "      <td>你好 旧时光。</td>\n",
       "      <td>ActingCool</td>\n",
       "      <td>1321</td>\n",
       "      <td>07-22 16:43</td>\n",
       "    </tr>\n",
       "    <tr>\n",
       "      <th>45</th>\n",
       "      <td>Le lucermaire。</td>\n",
       "      <td>ActingCool</td>\n",
       "      <td>94</td>\n",
       "      <td>07-18 16:16</td>\n",
       "    </tr>\n",
       "    <tr>\n",
       "      <th>46</th>\n",
       "      <td>冰雪不语寒夜的你那难隐藏的光彩。</td>\n",
       "      <td>啵叽一口小甜饼</td>\n",
       "      <td>454</td>\n",
       "      <td>07-16 07:37</td>\n",
       "    </tr>\n",
       "    <tr>\n",
       "      <th>47</th>\n",
       "      <td>♡° 韶华易逝，容颜易老 °♡</td>\n",
       "      <td>轻盈一水间</td>\n",
       "      <td>656</td>\n",
       "      <td>07-12 18:30</td>\n",
       "    </tr>\n",
       "    <tr>\n",
       "      <th>48</th>\n",
       "      <td>酒 泛 桃 红 画 入 馔</td>\n",
       "      <td>蓮</td>\n",
       "      <td>89</td>\n",
       "      <td>07-12 12:01</td>\n",
       "    </tr>\n",
       "    <tr>\n",
       "      <th>49</th>\n",
       "      <td>人心中都有自己的早晨，时候到了人会自己醒来。</td>\n",
       "      <td>阿凉″</td>\n",
       "      <td>1001</td>\n",
       "      <td>07-07 22:27</td>\n",
       "    </tr>\n",
       "    <tr>\n",
       "      <th>50</th>\n",
       "      <td>就都留在这里。</td>\n",
       "      <td>说点废话</td>\n",
       "      <td>155</td>\n",
       "      <td>06-28 02:55</td>\n",
       "    </tr>\n",
       "    <tr>\n",
       "      <th>51</th>\n",
       "      <td>热闹的场景吹过寒冬的风</td>\n",
       "      <td>松饼</td>\n",
       "      <td>1314</td>\n",
       "      <td>06-17 01:59</td>\n",
       "    </tr>\n",
       "    <tr>\n",
       "      <th>52</th>\n",
       "      <td>愿岁岁闪亮，照翩翩少年</td>\n",
       "      <td>谜</td>\n",
       "      <td>268</td>\n",
       "      <td>05-11 13:44</td>\n",
       "    </tr>\n",
       "    <tr>\n",
       "      <th>53</th>\n",
       "      <td>惟书有色，艳于西子；惟文有华，秀于百卉。</td>\n",
       "      <td>疯疯癫癫的地球</td>\n",
       "      <td>2471</td>\n",
       "      <td>05-10 15:31</td>\n",
       "    </tr>\n",
       "    <tr>\n",
       "      <th>54</th>\n",
       "      <td>传章</td>\n",
       "      <td>咸奶油热可可</td>\n",
       "      <td>436</td>\n",
       "      <td>05-09 14:52</td>\n",
       "    </tr>\n",
       "    <tr>\n",
       "      <th>55</th>\n",
       "      <td>我还有俩孩子</td>\n",
       "      <td>咸奶油热可可</td>\n",
       "      <td>29</td>\n",
       "      <td>05-09 14:51</td>\n",
       "    </tr>\n",
       "  </tbody>\n",
       "</table>\n",
       "</div>"
      ],
      "text/plain": [
       "                               0           1      2            3\n",
       "0                             讨论          作者     回应         最后回应\n",
       "1                 新人来报道，大家互相认识一下          °D   2645   2019-07-12\n",
       "2           ♥你想要不变心的情人 还是永远不老的青春         蜉蝣。    792  12-13 12:07\n",
       "3                       一见倾心的短文字          欧喏    892  12-12 23:53\n",
       "4          ❤ 可以不光芒万丈，但不能停止自己发光 ❤         茶㑍凁  28118  12-12 10:50\n",
       "5                    【不過•遇见】——而已          C°    873  12-12 00:30\n",
       "6                  谁省，谁省。从此簟纹灯影。       Sukie    199  12-10 00:31\n",
       "7    总有一句 正中你心（我不在的时候 请自行进入我的...         邵略略   8934  12-08 21:08\n",
       "8                  心硬者得世界，温柔者成神。    Cat_Ting   5326  12-08 18:08\n",
       "9            【若旧人终是不覆，让时间替我送上祝福】       Crush   1752  12-07 23:45\n",
       "10                           时光。         盧强。    556  12-06 14:45\n",
       "11  ♡：☏ 。[ 我 的 话 匣 子 ] 。绿：♡（重...      ❤ 。韩小绿  12667  12-05 00:05\n",
       "12                      有些欢喜、不言爱          小贝   1664  11-30 07:20\n",
       "13    明明那么累了还会失眠，真是自己被自己欺负了还没...     糯米团子是大福    958  11-29 12:26\n",
       "14                    后来的你 爱上了谁。        否极泰来     92  11-28 05:11\n",
       "15                       生于一九九几。        💫火锅瓶   2071  11-27 13:08\n",
       "16                    路遥漫漫，与谁比肩。          卿卿   1940  11-25 09:58\n",
       "17                   愿每一场欢聚都爱得尽兴         有点甜    372  11-24 21:30\n",
       "18               『偶尔躲藏 是为了更好的绽放』         酒心棠  11195  11-23 14:47\n",
       "19                         仍是旧句子       シエツクン    134  11-23 11:48\n",
       "20                        路过我的心上     MSHAN咕咚    NaN  11-18 14:37\n",
       "21                          心有林夕  Doraemon.梦   1646  11-16 11:22\n",
       "22                陌生人，愿你幸福，无所畏惧。          泠晞   1491  11-10 00:28\n",
       "23                  长成一个炉火纯青的宿命者          小免    921  11-09 11:25\n",
       "24                 『无我原非你，从他不解伊』        星沉海阔   1048  11-08 23:59\n",
       "25            【幸我还有骄傲不许我苟且】 梦河摘抄          梦河    191  11-05 11:13\n",
       "26                        暖暖的心途~        平平蛋蛋    520  11-02 21:00\n",
       "27                         与时光有染        浅草风铃   3273  10-29 19:52\n",
       "28               与我所爱年年不见 愿他岁岁平安     人潮拥挤告别你    491  10-26 08:58\n",
       "29                       如何心事终虚化        五原里美    220  10-19 20:00\n",
       "30            “如果尽头是你，世界荒芜我都不怕。”      送你一颗子弹   1413  10-10 15:25\n",
       "31                    我的摘抄-点点滴滴。          柒。   3567  10-10 10:23\n",
       "32                   一念成魔疯半生。（摘）          荞麦    511  10-04 10:40\n",
       "33               让我们面对现实，让我们忠于理想       明月出天山     28  10-02 13:18\n",
       "34                 穿 过 温 柔 的 晚 风       what？   1524  09-19 10:19\n",
       "35                         向日葵小姐       午饭排骨粥      4  09-14 21:41\n",
       "36        弗洛伊德爱上少年维特 （in saigon）          横波   6812  09-07 14:05\n",
       "37                     有些句子，触动内心       差不多小姐     54  09-04 23:04\n",
       "38          【书摘】世人谓我爱长安，其实只爱长安某✿         姽婳。    239  08-30 12:49\n",
       "39                 妥帖的字，有粘性，忘不了。        迷恋人间   1095  08-22 15:22\n",
       "40     也許，莪們［生死相許］。 或者，莪們［各奔東西］。        旧梦失词    621  08-18 11:36\n",
       "41            【自留文摘】……繁花遍野，见辽阔之地         万俟祺   1735  07-31 21:44\n",
       "42    是不是，到最后，这城市，剩下的只是，我一人的兵...      pudese  20322  07-27 22:20\n",
       "43           『我的摘抄私筆記』.甚少情愛.專注自在        閻浮琥珀   4547  07-26 11:11\n",
       "44                       你好 旧时光。  ActingCool   1321  07-22 16:43\n",
       "45                Le lucermaire。  ActingCool     94  07-18 16:16\n",
       "46              冰雪不语寒夜的你那难隐藏的光彩。     啵叽一口小甜饼    454  07-16 07:37\n",
       "47               ♡° 韶华易逝，容颜易老 °♡       轻盈一水间    656  07-12 18:30\n",
       "48                 酒 泛 桃 红 画 入 馔           蓮     89  07-12 12:01\n",
       "49        人心中都有自己的早晨，时候到了人会自己醒来。         阿凉″   1001  07-07 22:27\n",
       "50                       就都留在这里。        说点废话    155  06-28 02:55\n",
       "51                   热闹的场景吹过寒冬的风          松饼   1314  06-17 01:59\n",
       "52                   愿岁岁闪亮，照翩翩少年           谜    268  05-11 13:44\n",
       "53          惟书有色，艳于西子；惟文有华，秀于百卉。     疯疯癫癫的地球   2471  05-10 15:31\n",
       "54                            传章      咸奶油热可可    436  05-09 14:52\n",
       "55                        我还有俩孩子      咸奶油热可可     29  05-09 14:51"
      ]
     },
     "execution_count": 27,
     "metadata": {},
     "output_type": "execute_result"
    }
   ],
   "source": [
    "tables[0]"
   ]
  },
  {
   "cell_type": "code",
   "execution_count": null,
   "id": "7b7aaee0",
   "metadata": {},
   "outputs": [],
   "source": []
  },
  {
   "cell_type": "markdown",
   "id": "c7e53bc3",
   "metadata": {},
   "source": [
    "# The End \n",
    "\n",
    "**Source**\n",
    "\n",
    "This notebook was adapted from:\n",
    "* Data 100: Principles and Techniques of Data Science\n",
    "* Introduction to Computational Communication by Chengjun Wang"
   ]
  }
 ],
 "metadata": {
  "kernelspec": {
   "display_name": "Python 3 (ipykernel)",
   "language": "python",
   "name": "python3"
  },
  "language_info": {
   "codemirror_mode": {
    "name": "ipython",
    "version": 3
   },
   "file_extension": ".py",
   "mimetype": "text/x-python",
   "name": "python",
   "nbconvert_exporter": "python",
   "pygments_lexer": "ipython3",
   "version": "3.10.9"
  },
  "toc": {
   "base_numbering": 1,
   "nav_menu": {},
   "number_sections": true,
   "sideBar": true,
   "skip_h1_title": false,
   "title_cell": "Table of Contents",
   "title_sidebar": "Contents",
   "toc_cell": false,
   "toc_position": {},
   "toc_section_display": true,
   "toc_window_display": false
  }
 },
 "nbformat": 4,
 "nbformat_minor": 5
}
