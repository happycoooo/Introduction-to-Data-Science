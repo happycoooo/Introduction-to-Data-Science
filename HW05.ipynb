{
 "cells": [
  {
   "cell_type": "markdown",
   "id": "d7c09735",
   "metadata": {},
   "source": [
    "<div style=\"text-align: center; font-size: 25pt\"> Homework 5 </div>"
   ]
  },
  {
   "cell_type": "markdown",
   "id": "95ad0285",
   "metadata": {},
   "source": [
    "# load package"
   ]
  },
  {
   "cell_type": "code",
   "execution_count": 1,
   "id": "0fbb73c4",
   "metadata": {
    "ExecuteTime": {
     "end_time": "2021-11-22T12:18:01.966766Z",
     "start_time": "2021-11-22T12:18:01.957786Z"
    }
   },
   "outputs": [],
   "source": [
    "# packages\n",
    "import numpy as np\n",
    "import pandas as pd\n",
    "import matplotlib.pyplot as plt\n",
    "%matplotlib inline  \n",
    "\n",
    "# you may add more if you need"
   ]
  },
  {
   "cell_type": "markdown",
   "id": "bfd6f749",
   "metadata": {},
   "source": [
    "# Skewed data"
   ]
  },
  {
   "cell_type": "code",
   "execution_count": 3,
   "id": "3d59b3cd",
   "metadata": {
    "ExecuteTime": {
     "end_time": "2021-11-22T12:05:35.609911Z",
     "start_time": "2021-11-22T12:05:35.256913Z"
    }
   },
   "outputs": [
    {
     "name": "stdout",
     "output_type": "stream",
     "text": [
      "(215464, 4)\n"
     ]
    },
    {
     "data": {
      "text/html": [
       "<div>\n",
       "<style scoped>\n",
       "    .dataframe tbody tr th:only-of-type {\n",
       "        vertical-align: middle;\n",
       "    }\n",
       "\n",
       "    .dataframe tbody tr th {\n",
       "        vertical-align: top;\n",
       "    }\n",
       "\n",
       "    .dataframe thead th {\n",
       "        text-align: right;\n",
       "    }\n",
       "</style>\n",
       "<table border=\"1\" class=\"dataframe\">\n",
       "  <thead>\n",
       "    <tr style=\"text-align: right;\">\n",
       "      <th></th>\n",
       "      <th>user_name</th>\n",
       "      <th>user_created</th>\n",
       "      <th>user_followers</th>\n",
       "      <th>user_friends</th>\n",
       "    </tr>\n",
       "  </thead>\n",
       "  <tbody>\n",
       "    <tr>\n",
       "      <th>0</th>\n",
       "      <td>MyNewsNE</td>\n",
       "      <td>24-05-2020 10:18</td>\n",
       "      <td>64.0</td>\n",
       "      <td>11.0</td>\n",
       "    </tr>\n",
       "    <tr>\n",
       "      <th>1</th>\n",
       "      <td>Shubham Gupta</td>\n",
       "      <td>14-08-2020 16:42</td>\n",
       "      <td>1.0</td>\n",
       "      <td>17.0</td>\n",
       "    </tr>\n",
       "    <tr>\n",
       "      <th>2</th>\n",
       "      <td>Journal of Infectiology</td>\n",
       "      <td>14-12-2017 07:07</td>\n",
       "      <td>143.0</td>\n",
       "      <td>566.0</td>\n",
       "    </tr>\n",
       "    <tr>\n",
       "      <th>3</th>\n",
       "      <td>Zane</td>\n",
       "      <td>18-09-2019 11:01</td>\n",
       "      <td>29.0</td>\n",
       "      <td>25.0</td>\n",
       "    </tr>\n",
       "    <tr>\n",
       "      <th>4</th>\n",
       "      <td>Ann-Maree O’Connor</td>\n",
       "      <td>24-01-2013 14:53</td>\n",
       "      <td>83.0</td>\n",
       "      <td>497.0</td>\n",
       "    </tr>\n",
       "  </tbody>\n",
       "</table>\n",
       "</div>"
      ],
      "text/plain": [
       "                 user_name      user_created  user_followers user_friends\n",
       "0                 MyNewsNE  24-05-2020 10:18            64.0         11.0\n",
       "1            Shubham Gupta  14-08-2020 16:42             1.0         17.0\n",
       "2  Journal of Infectiology  14-12-2017 07:07           143.0        566.0\n",
       "3                     Zane  18-09-2019 11:01            29.0         25.0\n",
       "4       Ann-Maree O’Connor  24-01-2013 14:53            83.0        497.0"
      ]
     },
     "execution_count": 3,
     "metadata": {},
     "output_type": "execute_result"
    }
   ],
   "source": [
    "# load the online user followers data\n",
    " user_follower = pd.read_csv(\"./online_user_followers.csv\")\n",
    "#u = pd.read_csv(\"./online_user_followers.csv\")\n",
    "print(user_follower.shape)\n",
    "user_follower.head()"
   ]
  },
  {
   "cell_type": "markdown",
   "id": "86188f90",
   "metadata": {},
   "source": [
    "<font color='red'>**Question:**</font> The ``user_followers`` and ``user_friends`` have missing values: \n",
    "\n",
    "At first, try to remove the missing rows for ``user_followers``,\n",
    "\n",
    "Then, try to fill the missing values with 0 for ``user_friends``."
   ]
  },
  {
   "cell_type": "code",
   "execution_count": null,
   "id": "6245bd07",
   "metadata": {},
   "outputs": [],
   "source": []
  },
  {
   "cell_type": "code",
   "execution_count": 4,
   "id": "604d08ed",
   "metadata": {
    "ExecuteTime": {
     "end_time": "2021-11-22T12:06:37.122263Z",
     "start_time": "2021-11-22T12:06:37.093295Z"
    }
   },
   "outputs": [
    {
     "data": {
      "text/html": [
       "<div>\n",
       "<style scoped>\n",
       "    .dataframe tbody tr th:only-of-type {\n",
       "        vertical-align: middle;\n",
       "    }\n",
       "\n",
       "    .dataframe tbody tr th {\n",
       "        vertical-align: top;\n",
       "    }\n",
       "\n",
       "    .dataframe thead th {\n",
       "        text-align: right;\n",
       "    }\n",
       "</style>\n",
       "<table border=\"1\" class=\"dataframe\">\n",
       "  <thead>\n",
       "    <tr style=\"text-align: right;\">\n",
       "      <th></th>\n",
       "      <th>user_name</th>\n",
       "      <th>user_created</th>\n",
       "      <th>user_followers</th>\n",
       "      <th>user_friends</th>\n",
       "    </tr>\n",
       "  </thead>\n",
       "  <tbody>\n",
       "    <tr>\n",
       "      <th>0</th>\n",
       "      <td>MyNewsNE</td>\n",
       "      <td>24-05-2020 10:18</td>\n",
       "      <td>64.0</td>\n",
       "      <td>11.0</td>\n",
       "    </tr>\n",
       "    <tr>\n",
       "      <th>1</th>\n",
       "      <td>Shubham Gupta</td>\n",
       "      <td>14-08-2020 16:42</td>\n",
       "      <td>1.0</td>\n",
       "      <td>17.0</td>\n",
       "    </tr>\n",
       "    <tr>\n",
       "      <th>2</th>\n",
       "      <td>Journal of Infectiology</td>\n",
       "      <td>14-12-2017 07:07</td>\n",
       "      <td>143.0</td>\n",
       "      <td>566.0</td>\n",
       "    </tr>\n",
       "    <tr>\n",
       "      <th>3</th>\n",
       "      <td>Zane</td>\n",
       "      <td>18-09-2019 11:01</td>\n",
       "      <td>29.0</td>\n",
       "      <td>25.0</td>\n",
       "    </tr>\n",
       "    <tr>\n",
       "      <th>4</th>\n",
       "      <td>Ann-Maree O’Connor</td>\n",
       "      <td>24-01-2013 14:53</td>\n",
       "      <td>83.0</td>\n",
       "      <td>497.0</td>\n",
       "    </tr>\n",
       "    <tr>\n",
       "      <th>...</th>\n",
       "      <td>...</td>\n",
       "      <td>...</td>\n",
       "      <td>...</td>\n",
       "      <td>...</td>\n",
       "    </tr>\n",
       "    <tr>\n",
       "      <th>215459</th>\n",
       "      <td>Marcela Ulate</td>\n",
       "      <td>2012-05-05 19:32:50</td>\n",
       "      <td>67.0</td>\n",
       "      <td>196</td>\n",
       "    </tr>\n",
       "    <tr>\n",
       "      <th>215460</th>\n",
       "      <td>Dr. Alison Obr</td>\n",
       "      <td>2009-01-26 21:43:44</td>\n",
       "      <td>806.0</td>\n",
       "      <td>2360</td>\n",
       "    </tr>\n",
       "    <tr>\n",
       "      <th>215461</th>\n",
       "      <td>Hillary Hoffmann</td>\n",
       "      <td>2019-05-07 19:30:49</td>\n",
       "      <td>348.0</td>\n",
       "      <td>588</td>\n",
       "    </tr>\n",
       "    <tr>\n",
       "      <th>215462</th>\n",
       "      <td>JudeME</td>\n",
       "      <td>2018-04-19 00:26:25</td>\n",
       "      <td>1439.0</td>\n",
       "      <td>951</td>\n",
       "    </tr>\n",
       "    <tr>\n",
       "      <th>215463</th>\n",
       "      <td>hobbitseeker 🦃 Get Vaccinated!</td>\n",
       "      <td>2008-03-15 01:30:45</td>\n",
       "      <td>146.0</td>\n",
       "      <td>371</td>\n",
       "    </tr>\n",
       "  </tbody>\n",
       "</table>\n",
       "<p>215438 rows × 4 columns</p>\n",
       "</div>"
      ],
      "text/plain": [
       "                             user_name         user_created  user_followers  \\\n",
       "0                             MyNewsNE     24-05-2020 10:18            64.0   \n",
       "1                        Shubham Gupta     14-08-2020 16:42             1.0   \n",
       "2              Journal of Infectiology     14-12-2017 07:07           143.0   \n",
       "3                                 Zane     18-09-2019 11:01            29.0   \n",
       "4                   Ann-Maree O’Connor     24-01-2013 14:53            83.0   \n",
       "...                                ...                  ...             ...   \n",
       "215459                   Marcela Ulate  2012-05-05 19:32:50            67.0   \n",
       "215460                  Dr. Alison Obr  2009-01-26 21:43:44           806.0   \n",
       "215461                Hillary Hoffmann  2019-05-07 19:30:49           348.0   \n",
       "215462                          JudeME  2018-04-19 00:26:25          1439.0   \n",
       "215463  hobbitseeker 🦃 Get Vaccinated!  2008-03-15 01:30:45           146.0   \n",
       "\n",
       "       user_friends  \n",
       "0              11.0  \n",
       "1              17.0  \n",
       "2             566.0  \n",
       "3              25.0  \n",
       "4             497.0  \n",
       "...             ...  \n",
       "215459          196  \n",
       "215460         2360  \n",
       "215461          588  \n",
       "215462          951  \n",
       "215463          371  \n",
       "\n",
       "[215438 rows x 4 columns]"
      ]
     },
     "execution_count": 4,
     "metadata": {},
     "output_type": "execute_result"
    }
   ],
   "source": [
    "d1 = user_follower.dropna(axis=0,subset = [\"user_followers\"]).copy()\n",
    "d1[\"user_friends\"].fillna(0, inplace = True)\n",
    "d1"
   ]
  },
  {
   "cell_type": "markdown",
   "id": "a5f18a6b",
   "metadata": {},
   "source": [
    "<font color='red'>**Question:**</font> Show the min, 25% percentile, median, 75% percentile, max, mean and the stardard deviations of ``user_followers``."
   ]
  },
  {
   "cell_type": "code",
   "execution_count": 5,
   "id": "f77ca5fc",
   "metadata": {
    "ExecuteTime": {
     "end_time": "2021-11-22T11:37:19.306480Z",
     "start_time": "2021-11-22T11:37:19.272475Z"
    }
   },
   "outputs": [
    {
     "data": {
      "text/plain": [
       "(0.0, 121.0, 509.0, 2123.0, 16270203.0, 44859.586354310755, 609132.4231951021)"
      ]
     },
     "execution_count": 5,
     "metadata": {},
     "output_type": "execute_result"
    }
   ],
   "source": [
    "datamin = d1['user_followers'].min()\n",
    "\n",
    "percentile1 = d1['user_followers'].quantile(0.25)\n",
    "\n",
    "datamedian = d1['user_followers'].median()\n",
    "\n",
    "percentile2 = d1['user_followers'].quantile(0.75)\n",
    "\n",
    "datamax = d1['user_followers'].max()\n",
    "\n",
    "datamean = d1['user_followers'].mean()\n",
    "\n",
    "datastd = d1['user_followers'].std()\n",
    "\n",
    "(datamin, percentile1,  datamedian, percentile2, datamax, datamean, datastd)"
   ]
  },
  {
   "cell_type": "markdown",
   "id": "4bf204b8",
   "metadata": {},
   "source": [
    "<font color='red'>**Question:**</font> Make a histogram with linear binning for ``user_followers``, try to choose a proper number of bins."
   ]
  },
  {
   "cell_type": "code",
   "execution_count": 6,
   "id": "00c956a0",
   "metadata": {
    "ExecuteTime": {
     "end_time": "2021-11-22T11:50:18.600128Z",
     "start_time": "2021-11-22T11:50:18.338065Z"
    }
   },
   "outputs": [
    {
     "data": {
      "image/png": "[encoded data removed]",
      "text/plain": [
       "<Figure size 432x288 with 1 Axes>"
      ]
     },
     "metadata": {
      "needs_background": "light"
     },
     "output_type": "display_data"
    }
   ],
   "source": [
    "fig = plt.figure(figsize=(6, 4))\n",
    "axes = fig.add_axes([0, 0, 1, 1]) # left, bottom, width, height (range 0 to 1)\n",
    "\n",
    "mask = (d1[\"user_followers\"] < 10 **3)\n",
    "\n",
    "# 得到清理后的数据\n",
    "d1_cleaned = d1[mask]\n",
    "\n",
    "axes.hist(d1_cleaned[\"user_followers\"],bins = 50); # The second argument sets the number of bins.\n",
    "# 利用cleaned将差值大的数值去除\n",
    "axes.set_xlabel('user_followers')\n",
    "axes.set_ylabel('Counts')\n",
    "axes.set_title('Histogram of user_followers');"
   ]
  },
  {
   "cell_type": "markdown",
   "id": "88470612",
   "metadata": {},
   "source": [
    "<font color='red'>**Question:**</font> Make a histogram with logarithmic binning for ``user_followers``. Because the values has lots of zeros, we need to make a translation by adding 1 for each value, i.e., make the histogram for ``user_followers``+1."
   ]
  },
  {
   "cell_type": "code",
   "execution_count": 7,
   "id": "d3777fcc",
   "metadata": {
    "scrolled": false
   },
   "outputs": [
    {
     "data": {
      "image/png": "[encoded data removed]",
      "text/plain": [
       "<Figure size 432x288 with 1 Axes>"
      ]
     },
     "metadata": {
      "needs_background": "light"
     },
     "output_type": "display_data"
    }
   ],
   "source": [
    "fig = plt.figure(figsize=(6, 4))\n",
    "axes = fig.add_axes([0, 0, 1, 1]) # left, bottom, width, height (range 0 to 1)\n",
    "axes.hist(d1[\"user_followers\"]+1,  bins=np.logspace(0, 7, 50), edgecolor=\"w\")\n",
    "axes.set_xscale('log') \n",
    "axes.grid(True,which=\"both\",ls=\"-\") # Shown for teaching"
   ]
  },
  {
   "cell_type": "markdown",
   "id": "08b5e4e3",
   "metadata": {},
   "source": [
    "<font color='red'>**Question:**</font> Show the PDF, CDF and CCDF for ``user_followers``+1 using the logarithmic binning."
   ]
  },
  {
   "cell_type": "code",
   "execution_count": 8,
   "id": "d4154078",
   "metadata": {
    "ExecuteTime": {
     "end_time": "2021-11-22T11:51:52.508725Z",
     "start_time": "2021-11-22T11:51:51.468767Z"
    }
   },
   "outputs": [
    {
     "data": {
      "image/png": "[encoded data removed]",
      "text/plain": [
       "<Figure size 1152x216 with 3 Axes>"
      ]
     },
     "metadata": {
      "needs_background": "light"
     },
     "output_type": "display_data"
    }
   ],
   "source": [
    "def plot_pdfcdfccdf(x, setylog=False, setxlog=False, n_bins=100):\n",
    "    \"\"\"Plots the PDF, CDF, and CCDF for a given data set x, using hist.\"\"\" \n",
    "\n",
    "    fig, axes = plt.subplots(nrows=1, ncols=3, figsize=(16, 3))\n",
    "    xlim = [np.min(x),np.max(x)]\n",
    "    if setxlog:\n",
    "        xlogstring = \"log \"\n",
    "    else:\n",
    "        xlogstring = \"\"\n",
    "\n",
    "    # Plot the density curve\n",
    "    ax = axes[0]\n",
    "    ax.hist(x, n_bins, density=True, cumulative=False, log=setylog)\n",
    "    ax.set_ylabel('$f(x)$')\n",
    "    ax.set_xlabel('Data '+ xlogstring +'$x$')\n",
    "    ax.set_title('PDF')\n",
    "\n",
    "    # Plot the cumulative density curve\n",
    "    ax = axes[1]\n",
    "    ax.hist(x, n_bins, density=True, cumulative=True, log=setylog)\n",
    "    ax.set_ylabel('$P_{\\leq}(x)$')\n",
    "    ax.set_xlabel('Data '+ xlogstring +'$x$')\n",
    "    ax.set_title('CDF')\n",
    "\n",
    "    # Plot the complementary cumulative density curve\n",
    "    ax = axes[2]\n",
    "    ax.hist(x, n_bins, density=True, cumulative=-1, log=setylog)\n",
    "    ax.set_ylabel('$P_{>}(x)$')\n",
    "    ax.set_xlabel('Data '+ xlogstring +'$x$')\n",
    "    ax.set_title('CCDF')\n",
    "\n",
    "    for ax in axes:\n",
    "        ax.set_xlim(xlim)\n",
    "\n",
    "        \n",
    "plot_pdfcdfccdf(np.log10(d1[\"user_followers\"]+1), True, True)"
   ]
  },
  {
   "cell_type": "markdown",
   "id": "18312a56",
   "metadata": {},
   "source": [
    "<font color='red'>**Question:**</font> For the ``user_friends`` values, try to convert it to float values.\n",
    "\n",
    "Hint: the values may contain strings that are not numbers, you need to convert them to ``NAN``, then drop the missing values."
   ]
  },
  {
   "cell_type": "code",
   "execution_count": 9,
   "id": "c9807c82",
   "metadata": {
    "ExecuteTime": {
     "end_time": "2021-11-22T11:56:56.149410Z",
     "start_time": "2021-11-22T11:56:56.103391Z"
    }
   },
   "outputs": [
    {
     "data": {
      "text/html": [
       "<div>\n",
       "<style scoped>\n",
       "    .dataframe tbody tr th:only-of-type {\n",
       "        vertical-align: middle;\n",
       "    }\n",
       "\n",
       "    .dataframe tbody tr th {\n",
       "        vertical-align: top;\n",
       "    }\n",
       "\n",
       "    .dataframe thead th {\n",
       "        text-align: right;\n",
       "    }\n",
       "</style>\n",
       "<table border=\"1\" class=\"dataframe\">\n",
       "  <thead>\n",
       "    <tr style=\"text-align: right;\">\n",
       "      <th></th>\n",
       "      <th>user_name</th>\n",
       "      <th>user_created</th>\n",
       "      <th>user_followers</th>\n",
       "      <th>user_friends</th>\n",
       "    </tr>\n",
       "  </thead>\n",
       "  <tbody>\n",
       "    <tr>\n",
       "      <th>0</th>\n",
       "      <td>MyNewsNE</td>\n",
       "      <td>24-05-2020 10:18</td>\n",
       "      <td>64.0</td>\n",
       "      <td>11.0</td>\n",
       "    </tr>\n",
       "    <tr>\n",
       "      <th>1</th>\n",
       "      <td>Shubham Gupta</td>\n",
       "      <td>14-08-2020 16:42</td>\n",
       "      <td>1.0</td>\n",
       "      <td>17.0</td>\n",
       "    </tr>\n",
       "    <tr>\n",
       "      <th>2</th>\n",
       "      <td>Journal of Infectiology</td>\n",
       "      <td>14-12-2017 07:07</td>\n",
       "      <td>143.0</td>\n",
       "      <td>566.0</td>\n",
       "    </tr>\n",
       "    <tr>\n",
       "      <th>3</th>\n",
       "      <td>Zane</td>\n",
       "      <td>18-09-2019 11:01</td>\n",
       "      <td>29.0</td>\n",
       "      <td>25.0</td>\n",
       "    </tr>\n",
       "    <tr>\n",
       "      <th>4</th>\n",
       "      <td>Ann-Maree O’Connor</td>\n",
       "      <td>24-01-2013 14:53</td>\n",
       "      <td>83.0</td>\n",
       "      <td>497.0</td>\n",
       "    </tr>\n",
       "    <tr>\n",
       "      <th>...</th>\n",
       "      <td>...</td>\n",
       "      <td>...</td>\n",
       "      <td>...</td>\n",
       "      <td>...</td>\n",
       "    </tr>\n",
       "    <tr>\n",
       "      <th>215459</th>\n",
       "      <td>Marcela Ulate</td>\n",
       "      <td>2012-05-05 19:32:50</td>\n",
       "      <td>67.0</td>\n",
       "      <td>196.0</td>\n",
       "    </tr>\n",
       "    <tr>\n",
       "      <th>215460</th>\n",
       "      <td>Dr. Alison Obr</td>\n",
       "      <td>2009-01-26 21:43:44</td>\n",
       "      <td>806.0</td>\n",
       "      <td>2360.0</td>\n",
       "    </tr>\n",
       "    <tr>\n",
       "      <th>215461</th>\n",
       "      <td>Hillary Hoffmann</td>\n",
       "      <td>2019-05-07 19:30:49</td>\n",
       "      <td>348.0</td>\n",
       "      <td>588.0</td>\n",
       "    </tr>\n",
       "    <tr>\n",
       "      <th>215462</th>\n",
       "      <td>JudeME</td>\n",
       "      <td>2018-04-19 00:26:25</td>\n",
       "      <td>1439.0</td>\n",
       "      <td>951.0</td>\n",
       "    </tr>\n",
       "    <tr>\n",
       "      <th>215463</th>\n",
       "      <td>hobbitseeker 🦃 Get Vaccinated!</td>\n",
       "      <td>2008-03-15 01:30:45</td>\n",
       "      <td>146.0</td>\n",
       "      <td>371.0</td>\n",
       "    </tr>\n",
       "  </tbody>\n",
       "</table>\n",
       "<p>215429 rows × 4 columns</p>\n",
       "</div>"
      ],
      "text/plain": [
       "                             user_name         user_created  user_followers  \\\n",
       "0                             MyNewsNE     24-05-2020 10:18            64.0   \n",
       "1                        Shubham Gupta     14-08-2020 16:42             1.0   \n",
       "2              Journal of Infectiology     14-12-2017 07:07           143.0   \n",
       "3                                 Zane     18-09-2019 11:01            29.0   \n",
       "4                   Ann-Maree O’Connor     24-01-2013 14:53            83.0   \n",
       "...                                ...                  ...             ...   \n",
       "215459                   Marcela Ulate  2012-05-05 19:32:50            67.0   \n",
       "215460                  Dr. Alison Obr  2009-01-26 21:43:44           806.0   \n",
       "215461                Hillary Hoffmann  2019-05-07 19:30:49           348.0   \n",
       "215462                          JudeME  2018-04-19 00:26:25          1439.0   \n",
       "215463  hobbitseeker 🦃 Get Vaccinated!  2008-03-15 01:30:45           146.0   \n",
       "\n",
       "        user_friends  \n",
       "0               11.0  \n",
       "1               17.0  \n",
       "2              566.0  \n",
       "3               25.0  \n",
       "4              497.0  \n",
       "...              ...  \n",
       "215459         196.0  \n",
       "215460        2360.0  \n",
       "215461         588.0  \n",
       "215462         951.0  \n",
       "215463         371.0  \n",
       "\n",
       "[215429 rows x 4 columns]"
      ]
     },
     "execution_count": 9,
     "metadata": {},
     "output_type": "execute_result"
    }
   ],
   "source": [
    "def isnum(j):\n",
    "    try:\n",
    "        num = float(i)\n",
    "        return True\n",
    "    except ValueError:\n",
    "        return False\n",
    "new = []\n",
    "for i in user_follower[\"user_friends\"]:\n",
    "    if isnum(i):\n",
    "        new.append(float(i))\n",
    "    else:\n",
    "        new.append(np.nan)\n",
    "user_follower[\"user_friends\"] = new\n",
    "ndata = user_follower[user_follower[\"user_friends\"].notnull()]\n",
    "ndata"
   ]
  },
  {
   "cell_type": "markdown",
   "id": "155a0bb4",
   "metadata": {},
   "source": [
    "<font color='red'>**Question:**</font>  Make a histogram with logarithmic binning for ``user_friends``+1. "
   ]
  },
  {
   "cell_type": "code",
   "execution_count": 11,
   "id": "5f9d504f",
   "metadata": {},
   "outputs": [
    {
     "data": {
      "image/png": "[encoded data removed]",
      "text/plain": [
       "<Figure size 288x216 with 1 Axes>"
      ]
     },
     "metadata": {
      "needs_background": "light"
     },
     "output_type": "display_data"
    }
   ],
   "source": [
    "fig = plt.figure(figsize=(4, 3))\n",
    "axes = fig.add_axes([0, 0, 1, 1]) # left, bottom, width, height (range 0 to 1)\n",
    "axes.hist(ndata['user_friends']+1, bins = np.logspace(0,6,50), edgecolor = 'w')\n",
    "axes.set_xscale('log') \n",
    "axes.grid( True, which=\"both\",ls=\"-\") # Shown for teaching"
   ]
  },
  {
   "cell_type": "markdown",
   "id": "f0be9e5d",
   "metadata": {},
   "source": [
    "# Network data"
   ]
  },
  {
   "cell_type": "markdown",
   "id": "b7f23054",
   "metadata": {},
   "source": [
    "**Data Description:**\n",
    "\n",
    "**Character Interaction Networks for the HBO Series \"Game of Thrones\"**\n",
    "\n",
    "The network data contains the nodes ``(got-s1-nodes.csv)`` and edges ``(got-s1-edges.csv)`` for the season one series.\n",
    "\n",
    "Pairs of characters are connected by (undirected) edges weighted by the number of interactions.\n",
    "\n",
    "There are five interaction types. Character A and Character B are connected whenever:\n",
    "\n",
    "1. Character A speaks directly after Character B\n",
    "1. Character A speaks about Character B\n",
    "1. Character C speaks about Character A and Character B\n",
    "1. Character A and Character B are mentioned in the same stage direction\n",
    "1. Character A and Character B appear in a scene together\n"
   ]
  },
  {
   "cell_type": "markdown",
   "id": "2b888dd4",
   "metadata": {},
   "source": [
    "<font color='red'>**Question:**</font>  Create the ``Adjacency List`` for this network using the edge data: ``got-s1-edges.csv``. \n",
    "Print the adjacency list for ``Ned`` and ``Cersei``."
   ]
  },
  {
   "cell_type": "code",
   "execution_count": 22,
   "id": "030ca5f1",
   "metadata": {},
   "outputs": [
    {
     "name": "stdout",
     "output_type": "stream",
     "text": [
      "{'RENLY', 'HIGH_SEPTON', 'AERYS', 'DAENERYS', 'BERIC', 'TOMARD', 'MAESTER_LUWIN', 'LYANNA', 'ROBB', 'PYCELLE', 'TYRION', 'RODRIK', 'GENDRY', 'HOUND', 'BRANDON_STARK', 'YOREN', 'MERYN_TRANT', 'BRAN', 'JANOS', 'TOBHO_MOTT', 'CERSEI', 'MOUNTAIN', 'BARRISTAN', 'HUGH_OF_THE_VALE', 'SANSA', 'BENJEN', 'LITTLEFINGER', 'LORAS', 'JEOR', 'WILL', 'STANNIS', 'RICKARD_STARK', 'GREATJON_UMBER', 'LANCEL', 'STEFFON', 'MHAEGEN', 'PYP', 'SEPTA_MORDANE', 'VARLY', 'ROOSE_BOLTON', 'JAIME', 'ARYA', 'TYWIN', 'ILYN_PAYNE', 'THEON', 'CATELYN', 'JON', 'ROS', 'MYCAH', 'BAELOR', 'JORAH', 'JORY_CASSEL', 'JOFFREY', 'VARYS', 'SYRIO_FOREL', 'ROBERT', 'JON_ARRYN'}\n",
      "{'RENLY', 'LYANNA', 'ROBB', 'PYCELLE', 'TYRION', 'HOUND', 'YOREN', 'MERYN_TRANT', 'BRAN', 'BARRISTAN', 'SANSA', 'BENJEN', 'LITTLEFINGER', 'JEOR', 'STANNIS', 'NED', 'ILYN_PAYNE', 'JAIME', 'ARYA', 'TYWIN', 'CATELYN', 'JON', 'ROS', 'BAELOR', 'JOFFREY', 'VARYS', 'LANCEL', 'ROBERT', 'JON_ARRYN'}\n"
     ]
    }
   ],
   "source": [
    "from pprint import pprint\n",
    "df1 = pd.read_csv(\"./got-s1-edges.csv\")\n",
    "x1 = df1[[\"Source\",\"Target\"]].values \n",
    "adj_list = {}\n",
    "for node_i, node_j in x1:\n",
    "    if node_i not in adj_list:\n",
    "        adj_list[node_i] = set() # 'set' is used to prevent accidental multiple edges\n",
    "    \n",
    "    adj_list[node_i].add(node_j)  # 无向图加两次节点元素\n",
    "    \n",
    "    # Manually add the opposite direction edge\n",
    "    if node_j not in adj_list:\n",
    "        adj_list[node_j] = set()\n",
    "    \n",
    "    adj_list[node_j].add(node_i)\n",
    "    \n",
    "print(adj_list[\"NED\"])\n",
    "print(adj_list[\"CERSEI\"])\n",
    "    \n"
   ]
  },
  {
   "cell_type": "markdown",
   "id": "e9c4b317",
   "metadata": {},
   "source": [
    "<font color='red'>**Question:**</font> For each character (node) $i$, calculate the number of nodes connected to it, denote as $k_i$. Then make a histgram of the distribution of $k_i$ for all nodes."
   ]
  },
  {
   "cell_type": "code",
   "execution_count": 24,
   "id": "01cbb65f",
   "metadata": {},
   "outputs": [
    {
     "data": {
      "image/png": "[encoded data removed]",
      "text/plain": [
       "<Figure size 432x288 with 1 Axes>"
      ]
     },
     "metadata": {
      "needs_background": "light"
     },
     "output_type": "display_data"
    }
   ],
   "source": [
    "a = df1.iloc[:,0:2].values\n",
    "adj_list1 = {}\n",
    "for node_i, node_j in a:\n",
    "    if node_i not in adj_list1:\n",
    "        adj_list1[node_i] = set() # 'set' is used to prevent accidental multiple edges\n",
    "    \n",
    "    adj_list1[node_i].add(node_j)  # 无向图加两次节点元素\n",
    "    \n",
    "    # Manually add the opposite direction edge\n",
    "    if node_j not in adj_list1:\n",
    "        adj_list1[node_j] = set()\n",
    "    \n",
    "    adj_list1[node_j].add(node_i)\n",
    "\n",
    "list1 = [len(adj_list1.get(element)) for element in adj_list1]\n",
    "list2 = adj_list1.keys()\n",
    "d = dict(zip(list2, list1))\n",
    "df = pd.DataFrame(pd.Series(d), columns=['count'])\n",
    "df = df.reset_index().rename(columns={'index':'nodes'})\n",
    "\n",
    "fig = plt.figure(figsize=(6, 4))\n",
    "axes = fig.add_axes([0, 0, 1, 1]) # left, bottom, width, height (range 0 to 1)\n",
    "axes.hist(df[\"count\"].values,bins = 40); # The second argument sets the number of bins.\n"
   ]
  },
  {
   "cell_type": "markdown",
   "id": "82e8772a",
   "metadata": {},
   "source": [
    "# The End"
   ]
  },
  {
   "cell_type": "code",
   "execution_count": null,
   "id": "02992b2b",
   "metadata": {},
   "outputs": [],
   "source": []
  }
 ],
 "metadata": {
  "kernelspec": {
   "display_name": "Python 3 (ipykernel)",
   "language": "python",
   "name": "python3"
  },
  "language_info": {
   "codemirror_mode": {
    "name": "ipython",
    "version": 3
   },
   "file_extension": ".py",
   "mimetype": "text/x-python",
   "name": "python",
   "nbconvert_exporter": "python",
   "pygments_lexer": "ipython3",
   "version": "3.10.9"
  },
  "toc": {
   "base_numbering": 1,
   "nav_menu": {},
   "number_sections": true,
   "sideBar": true,
   "skip_h1_title": false,
   "title_cell": "Table of Contents",
   "title_sidebar": "Contents",
   "toc_cell": false,
   "toc_position": {},
   "toc_section_display": true,
   "toc_window_display": false
  }
 },
 "nbformat": 4,
 "nbformat_minor": 5
}
