{
 "cells": [
  {
   "cell_type": "markdown",
   "metadata": {
    "slideshow": {
     "slide_type": "slide"
    }
   },
   "source": [
    "<p style=\"font-size:15pt; text-align:center\">\n",
    "    Introduction to Data Science\n",
    "</p>\n",
    "<p style=\"font-size:20pt; text-align:center\">\n",
    "    Skewed data\n",
    "</p>"
   ]
  },
  {
   "cell_type": "code",
   "execution_count": 1,
   "metadata": {
    "ExecuteTime": {
     "end_time": "2022-11-13T08:49:57.150102Z",
     "start_time": "2022-11-13T08:49:55.791966Z"
    }
   },
   "outputs": [],
   "source": [
    "import numpy as np\n",
    "import pandas as pd\n",
    "import matplotlib.pyplot as plt\n",
    "%matplotlib inline  \n"
   ]
  },
  {
   "cell_type": "code",
   "execution_count": 2,
   "metadata": {
    "ExecuteTime": {
     "end_time": "2022-11-13T08:49:57.166090Z",
     "start_time": "2022-11-13T08:49:57.152138Z"
    }
   },
   "outputs": [],
   "source": [
    "from random import *\n",
    "np.random.seed(seed=10)"
   ]
  },
  {
   "cell_type": "markdown",
   "metadata": {},
   "source": [
    "# From narrow to broad data"
   ]
  },
  {
   "cell_type": "markdown",
   "metadata": {},
   "source": [
    "### Narrow data"
   ]
  },
  {
   "cell_type": "markdown",
   "metadata": {},
   "source": [
    "In many physical systems a quantity is distributed following a normal distribution tightly around some central value. For example, the heights of humans.\n",
    "\n",
    "You can see this distribution with a histogram:"
   ]
  },
  {
   "cell_type": "code",
   "execution_count": 3,
   "metadata": {
    "ExecuteTime": {
     "end_time": "2022-11-13T08:49:57.339458Z",
     "start_time": "2022-11-13T08:49:57.167057Z"
    },
    "scrolled": false
   },
   "outputs": [
    {
     "data": {
      "image/png": "[encoded data removed]",
      "text/plain": [
       "<Figure size 288x216 with 1 Axes>"
      ]
     },
     "metadata": {
      "needs_background": "light"
     },
     "output_type": "display_data"
    }
   ],
   "source": [
    "heights = 1.75 + np.random.randn(1000,1)*0.1\n",
    "\n",
    "fig = plt.figure(figsize=(4, 3))\n",
    "axes = fig.add_axes([0, 0, 1, 1])\n",
    "\n",
    "axes.hist(heights, 20, edgecolor=\"w\")\n",
    "axes.set_xlabel(\"Height [m]\")\n",
    "axes.set_ylabel(\"Number of subjects\");"
   ]
  },
  {
   "cell_type": "markdown",
   "metadata": {},
   "source": [
    "It's called the \"normal distribution\" because it's so common.\n",
    "\n",
    "You don't see humans that are 20 meters tall, or 20 kilometers."
   ]
  },
  {
   "cell_type": "markdown",
   "metadata": {},
   "source": [
    "### Broad data"
   ]
  },
  {
   "cell_type": "markdown",
   "metadata": {},
   "source": [
    "But many systems, like social systems, do not exhibit such a narrow spread of values!\n",
    "\n",
    "USA income distribution:\n",
    "\n",
    "<img src=\"files/us-income-distribution.gif\" width=800>\n",
    "\n",
    "If we compute a histogram going from 5k/year of income to 500M/year, we're going to need a huge number of bins to cover that range, and almost all of the data is going to be crammed into the first few bins (covering everyone earning less than, say, 1M/year)."
   ]
  },
  {
   "cell_type": "markdown",
   "metadata": {},
   "source": [
    "***"
   ]
  },
  {
   "cell_type": "markdown",
   "metadata": {},
   "source": [
    "**Broad data** covers a very large range of values. Much larger than you would see from a normal distribution.\n",
    "\n",
    "It is **skewed** in one direction. You can see if this is happening by comparing the mean and the median:"
   ]
  },
  {
   "cell_type": "code",
   "execution_count": 5,
   "metadata": {
    "ExecuteTime": {
     "end_time": "2022-11-13T08:49:57.354444Z",
     "start_time": "2022-11-13T08:49:57.340454Z"
    }
   },
   "outputs": [
    {
     "name": "stdout",
     "output_type": "stream",
     "text": [
      "   min = 10017\n",
      "   max = 7348143\n",
      "  mean = 70475.866\n",
      "median = 19824.5\n"
     ]
    }
   ],
   "source": [
    "np.random.seed(seed=10)  # 设置种子保证每次结果相同\n",
    "incomes = 10000*(1+np.random.pareto(1.0, 1000)) # fake data that somewhat models real income distributions\n",
    "incomes = incomes.astype(int)\n",
    "\n",
    "print(\"   min = \" + str(min(incomes)))\n",
    "print(\"   max = \" + str(max(incomes)))\n",
    "print(\"  mean = \" + str(np.mean(incomes)))\n",
    "print(\"median = \" + str(np.median(incomes)))"
   ]
  },
  {
   "cell_type": "code",
   "execution_count": 6,
   "metadata": {
    "ExecuteTime": {
     "end_time": "2022-11-13T08:49:57.370408Z",
     "start_time": "2022-11-13T08:49:57.355414Z"
    }
   },
   "outputs": [
    {
     "data": {
      "text/plain": [
       "array([  43729,   10211,   27296,   39809,   19940,   12899,   12469,\n",
       "         41759,   12035,   10968,   31782,  214561,   10039,   20499,\n",
       "         53367,   25808,   35939,   14121,  121616,   35035,   21860,\n",
       "         11657,   15957,   30687,   17915,   17668,   26162,   20539,\n",
       "         28603,   25065,   51340,   20905,  109467,   14689,   10994,\n",
       "         14300,   11286,   58370,   10492,   26758,   22103,   55336,\n",
       "         12483,   69856,   15423,   40757,   14203,   86159,   14826,\n",
       "         11976,   16461,   11030,   55898,   11780,   16236,  179406,\n",
       "        808111,   18392,   57511,   13357,   24836,  102914,   21484,\n",
       "         24402,   10408,   15556,   10864,   14398,   14941,   44214,\n",
       "         10416,   17528,   14596,   27509,   15298,   10450,   83274,\n",
       "         42236,   82032,   17167,   25353,   20553,   24865,   13554,\n",
       "         14303,   10260,   14348,   13193,   22602,   23015,   19052,\n",
       "         14140,   10686,  472124,   15144,   19803,  436313,   17881,\n",
       "         14668,   20824,   23704,   68462,   10730,   18675,   45860,\n",
       "         35536,   24155,   10385,   15400,   22893,   14280,   20505,\n",
       "         30624,   11893,   10531,   15101,   11211,   12178,   87586,\n",
       "         15757,   12800,   40403,   11196,   39154,   18860,   24891,\n",
       "         11731,   12255,   28174,   10511,   13308,   21853,   12932,\n",
       "         16165,  128588,  133970,   23081,   21434,   10150,  452473,\n",
       "         23420,   48020,   22808,   81523,   24049,   34346,   11744,\n",
       "         17496,   32668,   11168,   17844,   11993,   20283,   55259,\n",
       "         10990,   50017,   22995,   24351,   12470,   17734,   14202,\n",
       "         10390,   10316,   18285,   39194,   22588,   16263,   12020,\n",
       "         61828,   24940,   46022,   66010,   25199,   45674,   26023,\n",
       "         10216,   40074,   12136,   18467,   20539,   19380,   64261,\n",
       "         12118,   10148,   66121,   38861,   18405,   17149,   11321,\n",
       "         15121,   11045,   35190,   10835,   12593,   23461,   14160,\n",
       "         29046,   50908,   15413,   11030,   53566,   46482,   16485,\n",
       "         73789,   16234,   13464,   58617,   37933,   20308,   28115,\n",
       "         12709,   95885,  293653,   14641,   74378,   14498,   10259,\n",
       "         10517,   12264,   10741,   13467,  115716,   18445,   11497,\n",
       "         52601,   16763,   10250,   69847,   13779,   34376,   15522,\n",
       "         48616,   64357,   21651,   22680,   11396,   16067,   17505,\n",
       "         20458,   92389,   14290,   16568,   48373,   17014,   12267,\n",
       "         62596,   23216,   10638,  902280,   12966,   25953,   15823,\n",
       "         50703,   26850,   55933,   14049,   13789,   25065,  162639,\n",
       "         34164,   13575,   11393,   18474,  397022,   31306,   12395,\n",
       "         10490,  211166,   70745,   58106,  277012,   24933,  144750,\n",
       "         11720,   11286,   15924,   42837,   14730,   27626,   10093,\n",
       "         21904,   15100,   98062,  168654,   16236,   16559,   97351,\n",
       "         10624,   16817,   11496,   10952,   46288,   14379,   24041,\n",
       "         82281,   83887,   25059,   28187,   10600,   14234,   32443,\n",
       "         12330,   50763,   20608,   41200,   12162,   10900,   19307,\n",
       "         21224,   32928,   12574,   30429,   48372,   10435,  272907,\n",
       "        406383,   22254,   10694,   15272,   10208,   50213,   12625,\n",
       "         11672,   33321,   10615,   13451,   20421, 2109163,   11716,\n",
       "         18165,   25090,   11077,   14059,   35816,   22262,   61949,\n",
       "         23828,   12263,   26007,   88460,   20694,   26748,   20204,\n",
       "        110696,   17044,   21527,   15212,   11488,   29657,  155448,\n",
       "         25821,   63588,   12786,  103275,   10098,   12916,   11521,\n",
       "        108158,  111396,   23869,   10958,   11323,   43681,   37424,\n",
       "         10954,   15563,   44093,   11513,   21637,   40770,   13746,\n",
       "         23068,   19108,   22554,   17880,   32651,   35490,   41047,\n",
       "         10387,   31136,   19128,   11113,   25919,   61695,   37579,\n",
       "         14739,   10727,   10387,   22682,   11916,   13659,   13084,\n",
       "         10197,   11788,   10350,  550504,   15636,   57294,   17013,\n",
       "         13390,   13101,   44075,   30418,   34051,   68099,   20922,\n",
       "         17945,   22408,   28735,   47293,   92824,   14473,   11568,\n",
       "         40148,   21134,   46455,   17541,   62052,   21614,   13340,\n",
       "         10625,   11012,   12109,   17833,   52891,  111609,   23589,\n",
       "         14107,   28718,   27618,   20144,  290298,   51730,  139898,\n",
       "         25902,  555676,   35086,   10087,   14047,   63051,   17959,\n",
       "         12092,   11293,   49475,   28482,   20070,   13998,   27525,\n",
       "         15831,   21717,   42028,   62456,   11172,   20434,   28207,\n",
       "         11807,   10017,  303451,   52047,   13775,   13871,   11372,\n",
       "         19256,  147714,  117546,   13225,   16525,  336016,   13804,\n",
       "        160899,   43292,   86744,   77522,   11716,   47435,  110159,\n",
       "         61793,   34725,   14437,   15474,   13095,   10986,   12414,\n",
       "         26028,  147240,   32371,   22875,   13582,   21148,   51120,\n",
       "         14185,   12244,   10201,   38959,   10398,   17657,   59553,\n",
       "         10136,   20380,   19214,   10305,   10115,   14966,   10654,\n",
       "         24886,   87657,   17010,   10397,   10879,   10892,   52456,\n",
       "         50174,   10172,   72095,  112739,   16691,   14023,   63712,\n",
       "         26112,   11636,   12966,   63090,   64250,   12822,   52948,\n",
       "         21549,   25669,   21002,   27749,   10051,   10253,   32260,\n",
       "         12071,   32672,   13991,   10583,   23936,   14200,   14767,\n",
       "        302932,   12421,   15323,   11160,   16716,   11023,   20195,\n",
       "         38848,   10053,   10990,   10595,   86449,  693763,   20840,\n",
       "         12475,  150033,   28951,   48028,   20458,   47217,   15032,\n",
       "         11277,  105057,   10042,   10793,   11524,  172860,   14345,\n",
       "         12711,   13434,   11060,   16716,   37178,   28426,   13348,\n",
       "         12943,   19834,   73945,   27327,   40731,   17765,   16672,\n",
       "         36090,   15932,   22351,   10875,   24647,   13906,   38827,\n",
       "         14261,   41243,   12925,   10044,   11624,   14199,   12431,\n",
       "         22167,   12658,   45145,   19405,   27726,   12014,  132771,\n",
       "         35378,   11831,   36183,   12291,   58707,   12447,  258402,\n",
       "         22104,   12867,   12702,   26880,   27268,   14352,   54456,\n",
       "         17213,   53722,   13609,  603335,   78311,   18133,   15046,\n",
       "         10306, 1103356,   31343,   12332,   10471,   10133,   29569,\n",
       "         11204,   14491,   14449,   11331,  188435,  442292,  104689,\n",
       "         49062,   10700,   35340,   18379,   11785,   28306,   10301,\n",
       "         40571,   90688,   10104,   14868,   58306,   11268,   10253,\n",
       "         53865,   13313,   13319,   11879,   13813,   17504,   13484,\n",
       "         15796,   15367,   14993,   14354,   14601,   13702,  100295,\n",
       "        302793,   96804,   15955,   28431,   14523,   52623,   51222,\n",
       "         48642,   11254,   53078,   45362,   87017,   14758,   11200,\n",
       "         11922,   30561,   34983,   13110,   51471,  122393,  650273,\n",
       "       3386553,   20657,   33342,   10829,  101154,   53643,   15602,\n",
       "        411585,   16286,   10164,   10190,   21936,   17958,   10263,\n",
       "         15830,   17250,   16818, 5202005,   11857,   17760,   13702,\n",
       "        322200,   24378,   33805,   28566,   40884,   87194,   13387,\n",
       "         12953,   25166,   13091,   37172,   29761,   13145,   12283,\n",
       "         14551,   15781,   24384,   41534,   14756,   20081,   24028,\n",
       "         13635,   34946,   18425,   28590,   20107,   17586,   35431,\n",
       "         10125,   10873,   23605,   53654,   22806,   25226,   12830,\n",
       "        124286,   12586,   32086,   16005,   12682,   55863,   11294,\n",
       "         44062,   19344,  198845,   22207,   21027,   79104,   28306,\n",
       "         14908,   10105,   11588,   43538,   59904,   29822,   23560,\n",
       "        109227,   35010,   19301,   34175,   27729,   10255,   50780,\n",
       "         39424,   16315,   24173,   13095,  879523,   24318,   12485,\n",
       "       1017060,   68074,   15246,   29158,  149388,   22679,   26116,\n",
       "         18832, 1934148,  150316,   10290,   18128,   15150,   11845,\n",
       "         14197,   35366,   19493,   14457,  124919,   32868,   13825,\n",
       "         48345, 7348143,   33818,   19041,   48890,   21390,   23509,\n",
       "        296120,  174481,   24346,   12979,   19815,   17719,   14947,\n",
       "         25236,   11045,   11309,  329905,  212290,   16129,  804890,\n",
       "         35490,  131981,   14965,   63534,   25311,   63216,   10962,\n",
       "         15396,   17519,   50670,   13193,   10033,   16357,  127539,\n",
       "         11801,   39999,  190416,   13347,   11868,   15221,   14130,\n",
       "         13706,   19029,   22655,   10063,   63880,   11574,   42094,\n",
       "         10898,   42330,   15708,   13188,   41429,   10591,   18141,\n",
       "        100832,  107857,   18828,   59187,   30110,   13544,   15565,\n",
       "        138157,   84818,  236004,   12840,   11776,   11405,   19155,\n",
       "         13466,  186712,   19644,   35828, 2654115,   17709,   10219,\n",
       "         10153,   18928,   27627,   11180,   12814,   37726,   34858,\n",
       "        252445,   37220,   62518,   24646,   31445,   34579,   12130,\n",
       "         16178,   16632,   16317,   12304,   17342,   38164, 1012158,\n",
       "         10739,   67771,   46457,   19206,   14235,   19353,   16471,\n",
       "         99695,   13889,   11045,   20182,   12161,   13011,   33085,\n",
       "         87101,   96541,   51764,   46956,   53060,   14805,   26373,\n",
       "         12218,   67863,  237176,   13379,   10746,   36962,  120562,\n",
       "         63880,   10132,   17571,   16539,   17283,   11631,   41882,\n",
       "         32515,   25761,  140666,   35139,   14772,   54361,  188787,\n",
       "         11923,   21230,   45318,   15572,   15840,   33464,   22375,\n",
       "         26507,   12582,   28025,   19845,   29149,   14144,   11645,\n",
       "         61254,   11276,   11261,   18481,   17092,  183239,   17010,\n",
       "         14832,   14737,   13319,   38303,   10299,   28437,   10695,\n",
       "         13161,   10994,   41834,   12744,   31299,   19042,  144541,\n",
       "         11876,   19276,   11002,   12142,   10794,   15243,   30959,\n",
       "         13843,   14502,   10575,   14338,   69080,   23139,  334170,\n",
       "         32460,   11530,   11909,   16419,   12089,   10277,   12971,\n",
       "         16721,   20643,   12660,   11977,   32252,   11052])"
      ]
     },
     "execution_count": 6,
     "metadata": {},
     "output_type": "execute_result"
    }
   ],
   "source": [
    "incomes"
   ]
  },
  {
   "cell_type": "markdown",
   "metadata": {},
   "source": [
    "If we try to make a histogram, we're **going to have a bad time**:"
   ]
  },
  {
   "cell_type": "code",
   "execution_count": 13,
   "metadata": {
    "ExecuteTime": {
     "end_time": "2022-11-13T08:49:57.481137Z",
     "start_time": "2022-11-13T08:49:57.371371Z"
    }
   },
   "outputs": [
    {
     "data": {
      "image/png": "[encoded data removed]",
      "text/plain": [
       "<Figure size 288x216 with 1 Axes>"
      ]
     },
     "metadata": {
      "needs_background": "light"
     },
     "output_type": "display_data"
    }
   ],
   "source": [
    "fig = plt.figure(figsize=(4, 3))\n",
    "axes = fig.add_axes([0, 0, 1, 1])\n",
    "\n",
    "axes.hist(incomes,30, edgecolor=\"w\")\n",
    "axes.set_xlabel(\"Income\")\n",
    "axes.set_ylabel(\"Number of people in income group\");"
   ]
  },
  {
   "cell_type": "markdown",
   "metadata": {},
   "source": [
    "We can use more bins and zoom in, but we're still not going to see much:"
   ]
  },
  {
   "cell_type": "code",
   "execution_count": 14,
   "metadata": {
    "ExecuteTime": {
     "end_time": "2022-11-13T08:49:58.054530Z",
     "start_time": "2022-11-13T08:49:57.482101Z"
    }
   },
   "outputs": [
    {
     "data": {
      "image/png": "[encoded data removed]",
      "text/plain": [
       "<Figure size 288x216 with 1 Axes>"
      ]
     },
     "metadata": {
      "needs_background": "light"
     },
     "output_type": "display_data"
    }
   ],
   "source": [
    "fig = plt.figure(figsize=(4, 3))\n",
    "axes = fig.add_axes([0, 0, 1, 1])\n",
    "\n",
    "axes.hist(incomes, 500, edgecolor=\"w\")\n",
    "axes.set_xlim([10000,200000])\n",
    "axes.set_xlabel(\"Income\")\n",
    "axes.set_ylabel(\"Number of people in income group\");"
   ]
  },
  {
   "cell_type": "markdown",
   "metadata": {},
   "source": [
    "We need a log transformation!"
   ]
  },
  {
   "cell_type": "markdown",
   "metadata": {},
   "source": [
    "## Log transformation"
   ]
  },
  {
   "cell_type": "markdown",
   "metadata": {},
   "source": [
    "The function $y= \\log(x)$ grows very very slowly. \n",
    "We can make $x$ **HUGE** and the log will just **cram** it way down to a small number.\n",
    "\n",
    "Let's see this:"
   ]
  },
  {
   "cell_type": "code",
   "execution_count": 15,
   "metadata": {
    "ExecuteTime": {
     "end_time": "2022-11-13T08:49:58.070472Z",
     "start_time": "2022-11-13T08:49:58.056493Z"
    }
   },
   "outputs": [],
   "source": [
    "x = np.linspace(1,1000,400)\n",
    "y = np.log10(x)"
   ]
  },
  {
   "cell_type": "code",
   "execution_count": 16,
   "metadata": {
    "ExecuteTime": {
     "end_time": "2022-11-13T08:49:58.163791Z",
     "start_time": "2022-11-13T08:49:58.071212Z"
    }
   },
   "outputs": [
    {
     "data": {
      "image/png": "[encoded data removed]",
      "text/plain": [
       "<Figure size 288x216 with 1 Axes>"
      ]
     },
     "metadata": {
      "needs_background": "light"
     },
     "output_type": "display_data"
    }
   ],
   "source": [
    "fig = plt.figure(figsize=(4, 3))\n",
    "axes = fig.add_axes([0, 0, 1, 1])\n",
    "\n",
    "axes.plot(x, y, '-', lw=3)\n",
    "axes.grid(True,which=\"both\",ls=\"-\")\n",
    "axes.set_xlabel(\"x\")\n",
    "axes.set_ylabel(\"y = log(x)\")\n",
    "axes.set_title(\"Linear plot\");"
   ]
  },
  {
   "cell_type": "markdown",
   "metadata": {},
   "source": [
    "### Log transforming the plot scale"
   ]
  },
  {
   "cell_type": "markdown",
   "metadata": {},
   "source": [
    "We now plot **exactly** the same data, just on a semilogx scale:"
   ]
  },
  {
   "cell_type": "code",
   "execution_count": 17,
   "metadata": {
    "ExecuteTime": {
     "end_time": "2022-11-13T08:49:58.575050Z",
     "start_time": "2022-11-13T08:49:58.166753Z"
    },
    "scrolled": false
   },
   "outputs": [
    {
     "data": {
      "image/png": "[encoded data removed]",
      "text/plain": [
       "<Figure size 288x216 with 1 Axes>"
      ]
     },
     "metadata": {
      "needs_background": "light"
     },
     "output_type": "display_data"
    }
   ],
   "source": [
    "fig = plt.figure(figsize=(4, 3))\n",
    "axes = fig.add_axes([0, 0, 1, 1])\n",
    "\n",
    "axes.semilogx(x, y, '-', lw=3)\n",
    "axes.grid(True,which=\"both\",ls=\"-\")\n",
    "axes.set_xlabel(\"x\")\n",
    "axes.set_ylabel(\"y = log(x)\")\n",
    "axes.set_title(\"Nonlinear plot\");"
   ]
  },
  {
   "cell_type": "markdown",
   "metadata": {},
   "source": [
    "We can **change space** as we move along the x-axis, squashing larger and larger chunks into a given visual length in such as way that the slow-growing log function now **appears linear!**"
   ]
  },
  {
   "cell_type": "markdown",
   "metadata": {},
   "source": [
    "### Log transforming the data itself"
   ]
  },
  {
   "cell_type": "markdown",
   "metadata": {},
   "source": [
    "Instead of squeezing the plot scale, we could just squeeze the data, and use a linear plot scale. The visual outcome is the same:"
   ]
  },
  {
   "cell_type": "code",
   "execution_count": 18,
   "metadata": {
    "ExecuteTime": {
     "end_time": "2022-11-13T08:49:58.668075Z",
     "start_time": "2022-11-13T08:49:58.576051Z"
    },
    "scrolled": true
   },
   "outputs": [
    {
     "data": {
      "image/png": "[encoded data removed]",
      "text/plain": [
       "<Figure size 288x216 with 1 Axes>"
      ]
     },
     "metadata": {
      "needs_background": "light"
     },
     "output_type": "display_data"
    }
   ],
   "source": [
    "fig = plt.figure(figsize=(4, 3))\n",
    "axes = fig.add_axes([0, 0, 1, 1])\n",
    "\n",
    "axes.plot(np.log10(x), y, '-', lw=3 )\n",
    "axes.grid(True,which=\"both\",ls=\"-\")\n",
    "axes.set_xlabel(\"log(x)\")\n",
    "axes.set_ylabel(\"y = log(x)\")\n",
    "axes.set_title(\"Linear plot on log-transformed data\");"
   ]
  },
  {
   "cell_type": "markdown",
   "metadata": {},
   "source": [
    "The only difference is that `semilogx` is smart enough to nicely label the x-axis with $10^0$ instead of $0$, $10^1$ instead of $1$, $10^2$ instead of $2$, etc., and to allow displaying a logarithmic grid."
   ]
  },
  {
   "cell_type": "markdown",
   "metadata": {},
   "source": [
    "### Log transforming the income data"
   ]
  },
  {
   "cell_type": "markdown",
   "metadata": {},
   "source": [
    "The income data is too broad to see what is happening. \n",
    "\n",
    "We can log-transform the broad data to squash it down into a range where we can see what's going on!"
   ]
  },
  {
   "cell_type": "code",
   "execution_count": 19,
   "metadata": {
    "ExecuteTime": {
     "end_time": "2022-11-13T08:49:58.916097Z",
     "start_time": "2022-11-13T08:49:58.670040Z"
    }
   },
   "outputs": [
    {
     "data": {
      "image/png": "[encoded data removed]",
      "text/plain": [
       "<Figure size 720x216 with 2 Axes>"
      ]
     },
     "metadata": {
      "needs_background": "light"
     },
     "output_type": "display_data"
    }
   ],
   "source": [
    "fig, ax = plt.subplots(nrows=1, ncols=2, figsize=(10, 3))\n",
    "\n",
    "# Left subplot: Original income data\n",
    "axes = ax[0]\n",
    "axes.hist(incomes, 30, edgecolor=\"w\")\n",
    "axes.set_xlabel(\"Income\")\n",
    "axes.set_ylabel(\"Number of people in income group\")\n",
    "\n",
    "# Right subplot: log transformed income data\n",
    "axes = ax[1]\n",
    "axes.hist(np.log10(incomes), 30, edgecolor=\"w\")\n",
    "axes.set_xlabel(\"log(Income)\")\n",
    "axes.set_ylabel(\"Number of people in log(income) group\");"
   ]
  },
  {
   "cell_type": "markdown",
   "metadata": {},
   "source": [
    "We see much more now. And we can even spot the millionaires at 6 ($10^6$)."
   ]
  },
  {
   "cell_type": "markdown",
   "metadata": {},
   "source": [
    "### Plotting a histogram in log scale"
   ]
  },
  {
   "cell_type": "markdown",
   "metadata": {},
   "source": [
    "What happens if we bin the original income data and then plot that on a log-axis?"
   ]
  },
  {
   "cell_type": "code",
   "execution_count": 20,
   "metadata": {
    "ExecuteTime": {
     "end_time": "2022-11-13T08:49:59.184054Z",
     "start_time": "2022-11-13T08:49:58.917093Z"
    },
    "scrolled": true
   },
   "outputs": [
    {
     "data": {
      "image/png": "[encoded data removed]",
      "text/plain": [
       "<Figure size 288x216 with 1 Axes>"
      ]
     },
     "metadata": {
      "needs_background": "light"
     },
     "output_type": "display_data"
    }
   ],
   "source": [
    "fig = plt.figure(figsize=(4, 3))\n",
    "axes = fig.add_axes([0, 0, 1, 1])\n",
    "\n",
    "axes.hist(incomes, 30, edgecolor=\"w\")\n",
    "axes.set_xlabel(\"Income\")\n",
    "axes.set_ylabel(\"Number of people in income group\");\n",
    "\n",
    "axes.set_xscale('log') \n",
    "axes.grid(True,which=\"both\",ls=\"-\") # Shown for teaching"
   ]
  },
  {
   "cell_type": "markdown",
   "metadata": {},
   "source": [
    "All we've done is taken the original bins and stretched them logarithmically. That one huge bin still contains the vast majority of the data."
   ]
  },
  {
   "cell_type": "markdown",
   "metadata": {},
   "source": [
    "***\n",
    "To make a nice plot, what we should do is choose **non-uniform** bins. If you choose bins that are spaced wider and wider apart, the log will squash them down until (if chosen well) they are all the same width on the logarithmic scale:"
   ]
  },
  {
   "cell_type": "code",
   "execution_count": 21,
   "metadata": {
    "ExecuteTime": {
     "end_time": "2022-11-13T08:49:59.434557Z",
     "start_time": "2022-11-13T08:49:59.184521Z"
    }
   },
   "outputs": [
    {
     "data": {
      "image/png": "[encoded data removed]",
      "text/plain": [
       "<Figure size 288x216 with 1 Axes>"
      ]
     },
     "metadata": {
      "needs_background": "light"
     },
     "output_type": "display_data"
    }
   ],
   "source": [
    "fig = plt.figure(figsize=(4, 3))\n",
    "axes = fig.add_axes([0, 0, 1, 1])\n",
    "\n",
    "axes.hist(incomes,  bins=np.logspace(4, 7, 30), edgecolor=\"w\")\n",
    "axes.set_xlabel(\"Income\")\n",
    "axes.set_ylabel(\"Number of people in income group\");\n",
    "axes.set_xscale('log') \n",
    "axes.grid(True,which=\"both\",ls=\"-\") # Shown for teaching"
   ]
  },
  {
   "cell_type": "markdown",
   "metadata": {},
   "source": [
    "### loglog scale"
   ]
  },
  {
   "cell_type": "markdown",
   "metadata": {},
   "source": [
    "Sometimes both your x- and your y-values are broadly distribued. We can also log-transform y.\n",
    "\n",
    "If we plot a function $y=f(x)$ on a plot where both the x- and the y-scales are logarithmic and we see a **straight line** what kind of function is $f$?\n",
    "\n",
    "\n",
    "Ans: power function.\n",
    "\n",
    "\n",
    "$$y = a x^b$$\n",
    "\n",
    "To see this take the log of both sides and replace $\\log(y) \\to y'$ and $\\log(x) \\to x'$.\n",
    "\n",
    "$$\n",
    "\\log(y) = \\log(a x^b) = \\log(a) + \\log(x^b) = a' + b \\log(x)\n",
    "$$\n",
    "\n",
    "so\n",
    "\n",
    "$$y' = a' + b x'$$\n",
    "\n",
    "which is a straight line when we plot $x'$ vs. $y'$. The slope of the straight line is $b$, the exponent of $x$."
   ]
  },
  {
   "cell_type": "markdown",
   "metadata": {},
   "source": [
    "*** \n",
    "\n",
    "Let's see this in action:"
   ]
  },
  {
   "cell_type": "code",
   "execution_count": 22,
   "metadata": {
    "ExecuteTime": {
     "end_time": "2022-11-13T08:49:59.815318Z",
     "start_time": "2022-11-13T08:49:59.435559Z"
    }
   },
   "outputs": [
    {
     "data": {
      "image/png": "[encoded data removed]",
      "text/plain": [
       "<Figure size 288x216 with 1 Axes>"
      ]
     },
     "metadata": {
      "needs_background": "light"
     },
     "output_type": "display_data"
    }
   ],
   "source": [
    "minx = min(incomes)\n",
    "maxx = max(incomes)\n",
    "num_bins = 50\n",
    "logbins = np.logspace(np.log10(minx), np.log10(maxx), num_bins)\n",
    "\n",
    "fig = plt.figure(figsize=(4, 3))\n",
    "axes = fig.add_axes([0, 0, 1, 1])\n",
    "\n",
    "axes.hist(incomes,  bins=logbins, edgecolor=\"r\", histtype=\"step\")\n",
    "axes.set_xlabel(\"Income\")\n",
    "axes.set_ylabel(\"Number of people in income group\");\n",
    "axes.set_xscale('log') \n",
    "axes.set_yscale('log') \n",
    "axes.grid(True,which=\"both\",ls=\"-\") # Shown for teaching"
   ]
  },
  {
   "cell_type": "markdown",
   "metadata": {},
   "source": [
    "\n",
    "***\n",
    "\n",
    "But notice how we don't really need bars, and how they are infinitely tall due to $log(0) \\to -\\infty$? Therefore it is more customary to draw a plot using lines or points. Also it is nicer to draw a density function using `density=True`:"
   ]
  },
  {
   "cell_type": "code",
   "execution_count": 25,
   "metadata": {
    "ExecuteTime": {
     "end_time": "2022-11-13T08:50:00.246674Z",
     "start_time": "2022-11-13T08:49:59.816317Z"
    },
    "scrolled": true
   },
   "outputs": [
    {
     "data": {
      "image/png": "[encoded data removed]",
      "text/plain": [
       "<Figure size 288x216 with 1 Axes>"
      ]
     },
     "metadata": {
      "needs_background": "light"
     },
     "output_type": "display_data"
    }
   ],
   "source": [
    "fig = plt.figure(figsize=(4, 3))\n",
    "axes = fig.add_axes([0, 0, 1, 1])\n",
    "\n",
    "h, binedges = np.histogram(incomes,  bins=logbins, density=True) # We use np.histogram to make the binning calculations. Plotting is done with axes.plot below.\n",
    "binmidpoints = (binedges[1:] + binedges[:-1]) / 2\n",
    "axes.plot(binmidpoints, h, \"o\")\n",
    "axes.set_xlabel(\"Income x\")\n",
    "axes.set_ylabel(\"f(x)\");\n",
    "axes.set_xscale('log') \n",
    "axes.set_yscale('log') \n",
    "axes.grid(True,which=\"both\",ls=\"-\") # Shown for teaching"
   ]
  },
  {
   "cell_type": "markdown",
   "metadata": {},
   "source": [
    "We can see well the power law relation here, but there are also fluctuations. Going next to the complementary cumulative density function solves this issue."
   ]
  },
  {
   "cell_type": "markdown",
   "metadata": {
    "slideshow": {
     "slide_type": "slide"
    }
   },
   "source": [
    "# From probability density function (PDF) to complementary cumulative density function (CCDF)"
   ]
  },
  {
   "cell_type": "code",
   "execution_count": 27,
   "metadata": {
    "ExecuteTime": {
     "end_time": "2022-11-13T08:50:00.262744Z",
     "start_time": "2022-11-13T08:50:00.247650Z"
    },
    "code_folding": []
   },
   "outputs": [],
   "source": [
    "def plot_pdfcdfccdf(x, setylog=False, setxlog=False, n_bins=100):\n",
    "    \"\"\"Plots the PDF, CDF, and CCDF for a given data set x, using hist.\"\"\" \n",
    "\n",
    "    fig, axes = plt.subplots(nrows=1, ncols=3, figsize=(16, 3))\n",
    "    xlim = [np.min(x),np.max(x)]\n",
    "    if setxlog:\n",
    "        xlogstring = \"log \"\n",
    "    else:\n",
    "        xlogstring = \"\"\n",
    "\n",
    "    # Plot the density curve\n",
    "    ax = axes[0]\n",
    "    ax.hist(x, n_bins, density=True, cumulative=False, log=setylog)\n",
    "    ax.set_ylabel('$f(x)$')\n",
    "    ax.set_xlabel('Data '+ xlogstring +'$x$')\n",
    "    ax.set_title('PDF')\n",
    "\n",
    "    # Plot the cumulative density curve\n",
    "    ax = axes[1]\n",
    "    ax.hist(x, n_bins, density=True, cumulative=True, log=setylog)\n",
    "    ax.set_ylabel('$P_{\\leq}(x)$')\n",
    "    ax.set_xlabel('Data '+ xlogstring +'$x$')\n",
    "    ax.set_title('CDF')\n",
    "\n",
    "    # Plot the complementary cumulative density curve\n",
    "    ax = axes[2]\n",
    "    ax.hist(x, n_bins, density=True, cumulative=-1, log=setylog)\n",
    "    ax.set_ylabel('$P_{>}(x)$')\n",
    "    ax.set_xlabel('Data '+ xlogstring +'$x$')\n",
    "    ax.set_title('CCDF')\n",
    "\n",
    "    for ax in axes:\n",
    "        ax.set_xlim(xlim)"
   ]
  },
  {
   "cell_type": "markdown",
   "metadata": {},
   "source": [
    "$$y=e^x$$"
   ]
  },
  {
   "cell_type": "markdown",
   "metadata": {},
   "source": [
    "## Uniform distribution"
   ]
  },
  {
   "cell_type": "markdown",
   "metadata": {},
   "source": [
    "### Theoretical"
   ]
  },
  {
   "cell_type": "code",
   "execution_count": 28,
   "metadata": {
    "ExecuteTime": {
     "end_time": "2022-11-13T08:50:00.817162Z",
     "start_time": "2022-11-13T08:50:00.263742Z"
    }
   },
   "outputs": [
    {
     "data": {
      "image/png": "[encoded data removed]",
      "text/plain": [
       "<Figure size 1152x216 with 3 Axes>"
      ]
     },
     "metadata": {
      "needs_background": "light"
     },
     "output_type": "display_data"
    }
   ],
   "source": [
    "plot_pdfcdfccdf(range(100))"
   ]
  },
  {
   "cell_type": "markdown",
   "metadata": {},
   "source": [
    "### Sampled"
   ]
  },
  {
   "cell_type": "code",
   "execution_count": 29,
   "metadata": {
    "ExecuteTime": {
     "end_time": "2022-11-13T08:50:01.323019Z",
     "start_time": "2022-11-13T08:50:00.819096Z"
    },
    "scrolled": false,
    "slideshow": {
     "slide_type": "-"
    }
   },
   "outputs": [
    {
     "data": {
      "image/png": "[encoded data removed]",
      "text/plain": [
       "<Figure size 1152x216 with 3 Axes>"
      ]
     },
     "metadata": {
      "needs_background": "light"
     },
     "output_type": "display_data"
    }
   ],
   "source": [
    "x = np.random.uniform(0, 100, size=10000)\n",
    "plot_pdfcdfccdf(x)"
   ]
  },
  {
   "cell_type": "markdown",
   "metadata": {},
   "source": [
    "Nice: the CDF and CCDF get rid of all the fluctuations."
   ]
  },
  {
   "cell_type": "markdown",
   "metadata": {},
   "source": [
    "## Normal distribution"
   ]
  },
  {
   "cell_type": "code",
   "execution_count": 30,
   "metadata": {
    "ExecuteTime": {
     "end_time": "2022-11-13T08:50:01.893494Z",
     "start_time": "2022-11-13T08:50:01.324039Z"
    },
    "scrolled": true
   },
   "outputs": [
    {
     "data": {
      "image/png": "[encoded data removed]",
      "text/plain": [
       "<Figure size 1152x216 with 3 Axes>"
      ]
     },
     "metadata": {
      "needs_background": "light"
     },
     "output_type": "display_data"
    }
   ],
   "source": [
    "x = np.random.normal(175, 5, size=10000)\n",
    "plot_pdfcdfccdf(x)"
   ]
  },
  {
   "cell_type": "markdown",
   "metadata": {},
   "source": [
    "## Exponential distribution"
   ]
  },
  {
   "cell_type": "markdown",
   "metadata": {},
   "source": [
    "### Linear scale"
   ]
  },
  {
   "cell_type": "code",
   "execution_count": 3,
   "metadata": {
    "ExecuteTime": {
     "end_time": "2022-11-13T08:50:02.396247Z",
     "start_time": "2022-11-13T08:50:01.894363Z"
    },
    "scrolled": true
   },
   "outputs": [
    {
     "ename": "NameError",
     "evalue": "name 'np' is not defined",
     "output_type": "error",
     "traceback": [
      "\u001b[1;31m---------------------------------------------------------------------------\u001b[0m",
      "\u001b[1;31mNameError\u001b[0m                                 Traceback (most recent call last)",
      "Input \u001b[1;32mIn [3]\u001b[0m, in \u001b[0;36m<cell line: 1>\u001b[1;34m()\u001b[0m\n\u001b[1;32m----> 1\u001b[0m x \u001b[38;5;241m=\u001b[39m \u001b[43mnp\u001b[49m\u001b[38;5;241m.\u001b[39mrandom\u001b[38;5;241m.\u001b[39mexponential(\u001b[38;5;241m100\u001b[39m, size\u001b[38;5;241m=\u001b[39m\u001b[38;5;241m10000\u001b[39m)\n\u001b[0;32m      2\u001b[0m plot_pdfcdfccdf(x)\n",
      "\u001b[1;31mNameError\u001b[0m: name 'np' is not defined"
     ]
    }
   ],
   "source": [
    "x = np.random.exponential(100, size=10000)\n",
    "plot_pdfcdfccdf(x)"
   ]
  },
  {
   "cell_type": "markdown",
   "metadata": {},
   "source": [
    "### Semilogy scale (better)"
   ]
  },
  {
   "cell_type": "code",
   "execution_count": 32,
   "metadata": {
    "ExecuteTime": {
     "end_time": "2022-11-13T08:50:03.246907Z",
     "start_time": "2022-11-13T08:50:02.397121Z"
    }
   },
   "outputs": [
    {
     "data": {
      "image/png": "[encoded data removed]",
      "text/plain": [
       "<Figure size 1152x216 with 3 Axes>"
      ]
     },
     "metadata": {
      "needs_background": "light"
     },
     "output_type": "display_data"
    }
   ],
   "source": [
    "plot_pdfcdfccdf(x, True)"
   ]
  },
  {
   "cell_type": "markdown",
   "metadata": {},
   "source": [
    "We can see how the exponential becomes a straight line in the semilogy PDF and CCDF. The CCDF has the added value of being monotonically non-increasing: it is getting rid of fluctuations.\n",
    "\n",
    "Also note how on a semilogy scale we really need to go from CDF to CCDF so that we can investigate the tail."
   ]
  },
  {
   "cell_type": "markdown",
   "metadata": {},
   "source": [
    "## Power law distribution"
   ]
  },
  {
   "cell_type": "markdown",
   "metadata": {},
   "source": [
    "### Linear scale (bad)"
   ]
  },
  {
   "cell_type": "code",
   "execution_count": 2,
   "metadata": {
    "ExecuteTime": {
     "end_time": "2022-11-13T08:50:03.808632Z",
     "start_time": "2022-11-13T08:50:03.249924Z"
    },
    "scrolled": false
   },
   "outputs": [
    {
     "ename": "NameError",
     "evalue": "name 'plot_pdfcdfccdf' is not defined",
     "output_type": "error",
     "traceback": [
      "\u001b[1;31m---------------------------------------------------------------------------\u001b[0m",
      "\u001b[1;31mNameError\u001b[0m                                 Traceback (most recent call last)",
      "Input \u001b[1;32mIn [2]\u001b[0m, in \u001b[0;36m<cell line: 1>\u001b[1;34m()\u001b[0m\n\u001b[1;32m----> 1\u001b[0m \u001b[43mplot_pdfcdfccdf\u001b[49m(incomes)\n",
      "\u001b[1;31mNameError\u001b[0m: name 'plot_pdfcdfccdf' is not defined"
     ]
    }
   ],
   "source": [
    "plot_pdfcdfccdf(incomes)"
   ]
  },
  {
   "cell_type": "markdown",
   "metadata": {},
   "source": [
    "### Semilogy scale (better)"
   ]
  },
  {
   "cell_type": "code",
   "execution_count": 1,
   "metadata": {
    "ExecuteTime": {
     "end_time": "2022-11-13T08:50:04.724183Z",
     "start_time": "2022-11-13T08:50:03.809282Z"
    },
    "scrolled": true
   },
   "outputs": [
    {
     "ename": "NameError",
     "evalue": "name 'plot_pdfcdfccdf' is not defined",
     "output_type": "error",
     "traceback": [
      "\u001b[1;31m---------------------------------------------------------------------------\u001b[0m",
      "\u001b[1;31mNameError\u001b[0m                                 Traceback (most recent call last)",
      "Input \u001b[1;32mIn [1]\u001b[0m, in \u001b[0;36m<cell line: 1>\u001b[1;34m()\u001b[0m\n\u001b[1;32m----> 1\u001b[0m \u001b[43mplot_pdfcdfccdf\u001b[49m(incomes, \u001b[38;5;28;01mTrue\u001b[39;00m)\n",
      "\u001b[1;31mNameError\u001b[0m: name 'plot_pdfcdfccdf' is not defined"
     ]
    }
   ],
   "source": [
    "plot_pdfcdfccdf(incomes, True)"
   ]
  },
  {
   "cell_type": "markdown",
   "metadata": {},
   "source": [
    "### Loglog (best)"
   ]
  },
  {
   "cell_type": "code",
   "execution_count": 34,
   "metadata": {
    "ExecuteTime": {
     "end_time": "2022-11-13T08:50:05.544202Z",
     "start_time": "2022-11-13T08:50:04.724993Z"
    }
   },
   "outputs": [
    {
     "data": {
      "image/png": "[encoded data removed]",
      "text/plain": [
       "<Figure size 1152x216 with 3 Axes>"
      ]
     },
     "metadata": {
      "needs_background": "light"
     },
     "output_type": "display_data"
    }
   ],
   "source": [
    "plot_pdfcdfccdf(np.log10(incomes), True, True)"
   ]
  },
  {
   "cell_type": "markdown",
   "metadata": {},
   "source": [
    "We can see how the power law becomes a straight line in the loglog PDF and CCDF. The CCDF has the added value of being monotonically non-increasing: it is getting rid of fluctuations.\n",
    "\n",
    "Also note how on a loglog scale we really need to go from CDF to CCDF so that we can investigate the tail."
   ]
  },
  {
   "cell_type": "markdown",
   "metadata": {},
   "source": [
    "***\n",
    "Look how different this is to the normal distribution in loglog scale:"
   ]
  },
  {
   "cell_type": "code",
   "execution_count": 35,
   "metadata": {
    "ExecuteTime": {
     "end_time": "2022-11-13T08:50:06.416287Z",
     "start_time": "2022-11-13T08:50:05.544202Z"
    }
   },
   "outputs": [
    {
     "data": {
      "image/png": "[encoded data removed]",
      "text/plain": [
       "<Figure size 1152x216 with 3 Axes>"
      ]
     },
     "metadata": {
      "needs_background": "light"
     },
     "output_type": "display_data"
    }
   ],
   "source": [
    "x = np.random.normal(175, 5, size=10000)\n",
    "plot_pdfcdfccdf(np.log10(x), True, True)"
   ]
  },
  {
   "cell_type": "markdown",
   "metadata": {},
   "source": [
    "The range of log x values is **miniscule**: 2.19 to 2.29! The tail drops off *extremely* fast."
   ]
  },
  {
   "cell_type": "markdown",
   "metadata": {},
   "source": [
    "# exercise"
   ]
  },
  {
   "cell_type": "code",
   "execution_count": null,
   "metadata": {
    "ExecuteTime": {
     "end_time": "2022-11-13T08:50:06.685917Z",
     "start_time": "2022-11-13T08:50:06.417051Z"
    }
   },
   "outputs": [],
   "source": [
    "# us household income data\n",
    "user_follower_df = pd.read_csv(\"./files/online_user_followers.csv\")\n",
    "print(user_follower_df.shape)\n",
    "user_follower_df.head()"
   ]
  },
  {
   "cell_type": "code",
   "execution_count": null,
   "metadata": {},
   "outputs": [],
   "source": []
  },
  {
   "cell_type": "markdown",
   "metadata": {},
   "source": [
    "# The End"
   ]
  },
  {
   "cell_type": "markdown",
   "metadata": {},
   "source": [
    "**Source**\n",
    "\n",
    "This notebook was adapted from:\n",
    "* Data 8: The Foundations of Data Science\n",
    "* Data 100: Principles and Techniques of Data Science\n",
    "* Introduction to Data Science and Visualization by James Bagrow"
   ]
  }
 ],
 "metadata": {
  "celltoolbar": "幻灯片",
  "kernelspec": {
   "display_name": "Python 3 (ipykernel)",
   "language": "python",
   "name": "python3"
  },
  "language_info": {
   "codemirror_mode": {
    "name": "ipython",
    "version": 3
   },
   "file_extension": ".py",
   "mimetype": "text/x-python",
   "name": "python",
   "nbconvert_exporter": "python",
   "pygments_lexer": "ipython3",
   "version": "3.10.9"
  },
  "toc": {
   "base_numbering": 1,
   "nav_menu": {},
   "number_sections": true,
   "sideBar": true,
   "skip_h1_title": false,
   "title_cell": "Table of Contents",
   "title_sidebar": "Contents",
   "toc_cell": false,
   "toc_position": {
    "height": "calc(100% - 180px)",
    "left": "10px",
    "top": "150px",
    "width": "277.375px"
   },
   "toc_section_display": true,
   "toc_window_display": true
  }
 },
 "nbformat": 4,
 "nbformat_minor": 1
}
