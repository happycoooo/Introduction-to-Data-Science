{
 "cells": [
  {
   "cell_type": "markdown",
   "metadata": {},
   "source": [
    "<p style=\"font-size:15pt; text-align:center\">\n",
    "    Introduction to Data Science\n",
    "</p>\n",
    "<p style=\"font-size:20pt; text-align:center\">\n",
    "    Data visualization, Part I\n",
    "    -vis basics\n",
    "</p>"
   ]
  },
  {
   "cell_type": "code",
   "execution_count": 1,
   "metadata": {
    "ExecuteTime": {
     "end_time": "2022-11-27T02:43:02.118885Z",
     "start_time": "2022-11-27T02:42:59.926697Z"
    }
   },
   "outputs": [],
   "source": [
    "import numpy as np\n",
    "import pandas as pd\n",
    "import matplotlib.pyplot as plt\n",
    "import seaborn as sns"
   ]
  },
  {
   "cell_type": "code",
   "execution_count": 2,
   "metadata": {
    "ExecuteTime": {
     "end_time": "2021-11-29T03:48:55.325838Z",
     "start_time": "2021-11-29T03:48:27.534799Z"
    }
   },
   "outputs": [
    {
     "name": "stdout",
     "output_type": "stream",
     "text": [
      "Requirement already satisfied: plotly in d:\\appgallery\\python\\lib\\site-packages (5.6.0)\n",
      "Requirement already satisfied: six in d:\\appgallery\\python\\lib\\site-packages (from plotly) (1.16.0)\n",
      "Requirement already satisfied: tenacity>=6.2.0 in d:\\appgallery\\python\\lib\\site-packages (from plotly) (8.0.1)\n"
     ]
    }
   ],
   "source": [
    "!pip install plotly"
   ]
  },
  {
   "cell_type": "code",
   "execution_count": 3,
   "metadata": {
    "ExecuteTime": {
     "end_time": "2022-11-27T02:43:16.759944Z",
     "start_time": "2022-11-27T02:43:15.450471Z"
    }
   },
   "outputs": [],
   "source": [
    "# Installing Plotly:\n",
    "#!pip install plotly\n",
    "# Jupyter Lab Extensions required for jupyter:\n",
    "#!jupyter labextension install jupyterlab-plotly\n",
    "import plotly.express as px\n",
    "import plotly.figure_factory as ff\n",
    "import plotly.graph_objs as go"
   ]
  },
  {
   "cell_type": "code",
   "execution_count": 4,
   "metadata": {
    "ExecuteTime": {
     "end_time": "2022-11-27T02:43:21.427384Z",
     "start_time": "2022-11-27T02:43:21.399981Z"
    }
   },
   "outputs": [],
   "source": [
    "births = pd.read_csv('./files/baby.csv')"
   ]
  },
  {
   "cell_type": "code",
   "execution_count": 5,
   "metadata": {
    "ExecuteTime": {
     "end_time": "2022-11-27T02:43:22.478703Z",
     "start_time": "2022-11-27T02:43:22.454969Z"
    }
   },
   "outputs": [
    {
     "data": {
      "text/html": [
       "<div>\n",
       "<style scoped>\n",
       "    .dataframe tbody tr th:only-of-type {\n",
       "        vertical-align: middle;\n",
       "    }\n",
       "\n",
       "    .dataframe tbody tr th {\n",
       "        vertical-align: top;\n",
       "    }\n",
       "\n",
       "    .dataframe thead th {\n",
       "        text-align: right;\n",
       "    }\n",
       "</style>\n",
       "<table border=\"1\" class=\"dataframe\">\n",
       "  <thead>\n",
       "    <tr style=\"text-align: right;\">\n",
       "      <th></th>\n",
       "      <th>Birth Weight</th>\n",
       "      <th>Gestational Days</th>\n",
       "      <th>Maternal Age</th>\n",
       "      <th>Maternal Height</th>\n",
       "      <th>Maternal Pregnancy Weight</th>\n",
       "      <th>Maternal Smoker</th>\n",
       "    </tr>\n",
       "  </thead>\n",
       "  <tbody>\n",
       "    <tr>\n",
       "      <th>0</th>\n",
       "      <td>120</td>\n",
       "      <td>284</td>\n",
       "      <td>27</td>\n",
       "      <td>62</td>\n",
       "      <td>100</td>\n",
       "      <td>False</td>\n",
       "    </tr>\n",
       "    <tr>\n",
       "      <th>1</th>\n",
       "      <td>113</td>\n",
       "      <td>282</td>\n",
       "      <td>33</td>\n",
       "      <td>64</td>\n",
       "      <td>135</td>\n",
       "      <td>False</td>\n",
       "    </tr>\n",
       "    <tr>\n",
       "      <th>2</th>\n",
       "      <td>128</td>\n",
       "      <td>279</td>\n",
       "      <td>28</td>\n",
       "      <td>64</td>\n",
       "      <td>115</td>\n",
       "      <td>True</td>\n",
       "    </tr>\n",
       "    <tr>\n",
       "      <th>3</th>\n",
       "      <td>108</td>\n",
       "      <td>282</td>\n",
       "      <td>23</td>\n",
       "      <td>67</td>\n",
       "      <td>125</td>\n",
       "      <td>True</td>\n",
       "    </tr>\n",
       "    <tr>\n",
       "      <th>4</th>\n",
       "      <td>136</td>\n",
       "      <td>286</td>\n",
       "      <td>25</td>\n",
       "      <td>62</td>\n",
       "      <td>93</td>\n",
       "      <td>False</td>\n",
       "    </tr>\n",
       "  </tbody>\n",
       "</table>\n",
       "</div>"
      ],
      "text/plain": [
       "   Birth Weight  Gestational Days  Maternal Age  Maternal Height  \\\n",
       "0           120               284            27               62   \n",
       "1           113               282            33               64   \n",
       "2           128               279            28               64   \n",
       "3           108               282            23               67   \n",
       "4           136               286            25               62   \n",
       "\n",
       "   Maternal Pregnancy Weight  Maternal Smoker  \n",
       "0                        100            False  \n",
       "1                        135            False  \n",
       "2                        115             True  \n",
       "3                        125             True  \n",
       "4                         93            False  "
      ]
     },
     "execution_count": 5,
     "metadata": {},
     "output_type": "execute_result"
    }
   ],
   "source": [
    "births.head()"
   ]
  },
  {
   "cell_type": "code",
   "execution_count": 6,
   "metadata": {
    "ExecuteTime": {
     "end_time": "2022-11-27T02:43:25.624712Z",
     "start_time": "2022-11-27T02:43:25.609090Z"
    }
   },
   "outputs": [
    {
     "data": {
      "text/plain": [
       "(1174, 6)"
      ]
     },
     "execution_count": 6,
     "metadata": {},
     "output_type": "execute_result"
    }
   ],
   "source": [
    "births.shape"
   ]
  },
  {
   "cell_type": "markdown",
   "metadata": {},
   "source": [
    "## Bar Plots"
   ]
  },
  {
   "cell_type": "markdown",
   "metadata": {},
   "source": [
    "We often use bar plots to display distributions of a categorical variable:"
   ]
  },
  {
   "cell_type": "code",
   "execution_count": 7,
   "metadata": {
    "ExecuteTime": {
     "end_time": "2022-11-27T02:43:28.149564Z",
     "start_time": "2022-11-27T02:43:28.140568Z"
    }
   },
   "outputs": [
    {
     "data": {
      "text/plain": [
       "False    715\n",
       "True     459\n",
       "Name: Maternal Smoker, dtype: int64"
      ]
     },
     "execution_count": 7,
     "metadata": {},
     "output_type": "execute_result"
    }
   ],
   "source": [
    "births['Maternal Smoker'].value_counts()"
   ]
  },
  {
   "cell_type": "code",
   "execution_count": 8,
   "metadata": {
    "ExecuteTime": {
     "end_time": "2022-11-27T02:43:30.527895Z",
     "start_time": "2022-11-27T02:43:30.411567Z"
    }
   },
   "outputs": [
    {
     "data": {
      "image/png": "[encoded data removed]",
      "text/plain": [
       "<Figure size 432x288 with 1 Axes>"
      ]
     },
     "metadata": {
      "needs_background": "light"
     },
     "output_type": "display_data"
    }
   ],
   "source": [
    "births['Maternal Smoker'].value_counts().plot(kind = 'bar');"
   ]
  },
  {
   "cell_type": "markdown",
   "metadata": {},
   "source": [
    "Note: putting a semicolon after a plot call hides all of the unnecessary text that comes after it (the `<matplotlib.axes_....>`)."
   ]
  },
  {
   "cell_type": "code",
   "execution_count": null,
   "metadata": {
    "ExecuteTime": {
     "end_time": "2022-11-27T02:44:02.136863Z",
     "start_time": "2022-11-27T02:44:02.128860Z"
    }
   },
   "outputs": [],
   "source": [
    "#pd.options.plotting.backend = \"plotly\""
   ]
  },
  {
   "cell_type": "code",
   "execution_count": null,
   "metadata": {
    "ExecuteTime": {
     "end_time": "2022-11-27T02:44:07.924645Z",
     "start_time": "2022-11-27T02:44:07.875368Z"
    }
   },
   "outputs": [],
   "source": [
    "fig = births['Maternal Smoker'].value_counts().plot(kind = 'bar');\n",
    "#fig.show()"
   ]
  },
  {
   "cell_type": "code",
   "execution_count": null,
   "metadata": {
    "ExecuteTime": {
     "end_time": "2022-11-27T02:44:15.352951Z",
     "start_time": "2022-11-27T02:44:15.299790Z"
    }
   },
   "outputs": [],
   "source": [
    "fig = births['Maternal Smoker'].value_counts().plot(kind = 'bar');\n",
    "fig.update_xaxes(title=\"Maternal Smoker\")\n",
    "fig.update_yaxes(title=\"Count\")\n",
    "fig.show()"
   ]
  },
  {
   "cell_type": "code",
   "execution_count": null,
   "metadata": {
    "ExecuteTime": {
     "end_time": "2022-11-27T02:44:20.888396Z",
     "start_time": "2022-11-27T02:44:20.814496Z"
    }
   },
   "outputs": [],
   "source": [
    "sns.countplot(x=births['Maternal Smoker']);"
   ]
  },
  {
   "cell_type": "markdown",
   "metadata": {},
   "source": [
    "Or even better:"
   ]
  },
  {
   "cell_type": "code",
   "execution_count": null,
   "metadata": {
    "ExecuteTime": {
     "end_time": "2022-11-27T02:44:23.399480Z",
     "start_time": "2022-11-27T02:44:23.322352Z"
    }
   },
   "outputs": [],
   "source": [
    "px.histogram(births, x=\"Maternal Smoker\")"
   ]
  },
  {
   "cell_type": "markdown",
   "metadata": {},
   "source": [
    "But we can also use them to display a numerical variable that has been measured on individuals in different categories."
   ]
  },
  {
   "cell_type": "code",
   "execution_count": null,
   "metadata": {
    "ExecuteTime": {
     "end_time": "2022-11-27T02:44:45.883673Z",
     "start_time": "2022-11-27T02:44:45.866719Z"
    }
   },
   "outputs": [],
   "source": [
    "# These are made up!\n",
    "majors = ['Data Science', 'History', 'Biology', 'Business']\n",
    "gpas = [3.35, 3.20, 2.98, 3.51]"
   ]
  },
  {
   "cell_type": "code",
   "execution_count": null,
   "metadata": {
    "ExecuteTime": {
     "end_time": "2022-11-27T02:44:47.199744Z",
     "start_time": "2022-11-27T02:44:47.117983Z"
    }
   },
   "outputs": [],
   "source": [
    "# What if we change bar to barh?\n",
    "plt.bar(majors, gpas);"
   ]
  },
  {
   "cell_type": "code",
   "execution_count": null,
   "metadata": {
    "ExecuteTime": {
     "end_time": "2022-11-27T02:44:49.479915Z",
     "start_time": "2022-11-27T02:44:49.399131Z"
    }
   },
   "outputs": [],
   "source": [
    "sns.barplot(x=majors, y=gpas);"
   ]
  },
  {
   "cell_type": "code",
   "execution_count": null,
   "metadata": {
    "ExecuteTime": {
     "end_time": "2022-11-27T02:44:51.714254Z",
     "start_time": "2022-11-27T02:44:51.660398Z"
    }
   },
   "outputs": [],
   "source": [
    "px.bar(x=majors, y=gpas)"
   ]
  },
  {
   "cell_type": "markdown",
   "metadata": {},
   "source": [
    "## Rug plots\n",
    "\n",
    "Used for visualizing a single quantitative variable. Rug plots show us each and every value."
   ]
  },
  {
   "cell_type": "code",
   "execution_count": null,
   "metadata": {
    "ExecuteTime": {
     "end_time": "2022-11-27T02:44:54.904892Z",
     "start_time": "2022-11-27T02:44:54.889908Z"
    }
   },
   "outputs": [],
   "source": [
    "bweights = births[\"Birth Weight\"]"
   ]
  },
  {
   "cell_type": "code",
   "execution_count": null,
   "metadata": {
    "ExecuteTime": {
     "end_time": "2022-11-27T02:44:56.078144Z",
     "start_time": "2022-11-27T02:44:56.070176Z"
    }
   },
   "outputs": [],
   "source": [
    "bweights"
   ]
  },
  {
   "cell_type": "code",
   "execution_count": null,
   "metadata": {
    "ExecuteTime": {
     "end_time": "2022-11-27T02:44:57.990357Z",
     "start_time": "2022-11-27T02:44:57.881785Z"
    }
   },
   "outputs": [],
   "source": [
    "sns.rugplot(bweights);"
   ]
  },
  {
   "cell_type": "code",
   "execution_count": null,
   "metadata": {
    "ExecuteTime": {
     "end_time": "2022-11-27T02:45:00.682173Z",
     "start_time": "2022-11-27T02:45:00.537644Z"
    }
   },
   "outputs": [],
   "source": [
    "px.histogram(births, \n",
    "             x=\"Birth Weight\", \n",
    "             color=\"Maternal Smoker\", \n",
    "             hover_data=births.columns,\n",
    "             marginal=\"rug\")"
   ]
  },
  {
   "cell_type": "markdown",
   "metadata": {},
   "source": [
    "## Histograms\n"
   ]
  },
  {
   "cell_type": "code",
   "execution_count": null,
   "metadata": {
    "ExecuteTime": {
     "end_time": "2022-11-27T02:45:05.574533Z",
     "start_time": "2022-11-27T02:45:05.475153Z"
    }
   },
   "outputs": [],
   "source": [
    "# By default, you get some arbitrary bins. We often like to pick our own.\n",
    "plt.hist(bweights);"
   ]
  },
  {
   "cell_type": "code",
   "execution_count": null,
   "metadata": {
    "ExecuteTime": {
     "end_time": "2022-11-27T02:45:07.838219Z",
     "start_time": "2022-11-27T02:45:07.827248Z"
    }
   },
   "outputs": [],
   "source": [
    "min(bweights), max(bweights)"
   ]
  },
  {
   "cell_type": "code",
   "execution_count": null,
   "metadata": {
    "ExecuteTime": {
     "end_time": "2022-11-27T02:45:09.306613Z",
     "start_time": "2022-11-27T02:45:09.290562Z"
    }
   },
   "outputs": [],
   "source": [
    "bw_bins = range(50, 200, 5)"
   ]
  },
  {
   "cell_type": "code",
   "execution_count": null,
   "metadata": {
    "ExecuteTime": {
     "end_time": "2022-11-27T02:45:11.312597Z",
     "start_time": "2022-11-27T02:45:11.204427Z"
    }
   },
   "outputs": [],
   "source": [
    "plt.hist(bweights, bins=bw_bins, ec='w');"
   ]
  },
  {
   "cell_type": "markdown",
   "metadata": {},
   "source": [
    "The above plot shows _counts_, if we want to see a _distribution_ we can use the `density` keyword:"
   ]
  },
  {
   "cell_type": "code",
   "execution_count": null,
   "metadata": {
    "ExecuteTime": {
     "end_time": "2022-11-27T02:45:13.857325Z",
     "start_time": "2022-11-27T02:45:13.744968Z"
    }
   },
   "outputs": [],
   "source": [
    "plt.hist(bweights, density=True, bins=bw_bins, ec='w');"
   ]
  },
  {
   "cell_type": "code",
   "execution_count": null,
   "metadata": {
    "ExecuteTime": {
     "end_time": "2022-11-27T02:45:15.991001Z",
     "start_time": "2022-11-27T02:45:15.973001Z"
    }
   },
   "outputs": [],
   "source": [
    "pd.options.plotting.backend = \"matplotlib\""
   ]
  },
  {
   "cell_type": "code",
   "execution_count": null,
   "metadata": {
    "ExecuteTime": {
     "end_time": "2022-11-27T02:45:18.397435Z",
     "start_time": "2022-11-27T02:45:18.277891Z"
    }
   },
   "outputs": [],
   "source": [
    "# alternative way of getting this plot\n",
    "bweights.plot(kind = 'hist', density=True, bins=bw_bins, ec='w');"
   ]
  },
  {
   "cell_type": "code",
   "execution_count": null,
   "metadata": {
    "ExecuteTime": {
     "end_time": "2022-11-27T02:45:21.061478Z",
     "start_time": "2022-11-27T02:45:21.045855Z"
    }
   },
   "outputs": [],
   "source": [
    "pd.options.plotting.backend = \"plotly\""
   ]
  },
  {
   "cell_type": "code",
   "execution_count": null,
   "metadata": {
    "ExecuteTime": {
     "end_time": "2022-11-27T02:45:22.451989Z",
     "start_time": "2022-11-27T02:45:22.396639Z"
    }
   },
   "outputs": [],
   "source": [
    "fig = bweights.plot(kind = 'hist', \n",
    "                    histnorm='probability density', \n",
    "                    bins=bw_bins);\n",
    "fig.update_layout(bargap=0.1)\n",
    "fig.show()"
   ]
  },
  {
   "cell_type": "markdown",
   "metadata": {},
   "source": [
    "Increasing bin width loses granularity, but this may be fine for our purposes."
   ]
  },
  {
   "cell_type": "code",
   "execution_count": null,
   "metadata": {
    "ExecuteTime": {
     "end_time": "2022-11-27T02:45:30.307891Z",
     "start_time": "2022-11-27T02:45:30.215822Z"
    }
   },
   "outputs": [],
   "source": [
    "plt.hist(bweights, bins = np.arange(50, 200, 20), density=True, ec='w');"
   ]
  },
  {
   "cell_type": "code",
   "execution_count": null,
   "metadata": {
    "ExecuteTime": {
     "end_time": "2022-11-27T02:45:33.449638Z",
     "start_time": "2022-11-27T02:45:33.421712Z"
    }
   },
   "outputs": [],
   "source": [
    "fig = go.Figure(go.Histogram(x=bweights, \n",
    "                             histnorm='probability density', \n",
    "                             xbins=dict(start=50, end=200, size=20)))\n",
    "fig.update_layout(bargap=0.1)\n",
    "# fig"
   ]
  },
  {
   "cell_type": "markdown",
   "metadata": {},
   "source": [
    "The bin widths don't all need to be the same!"
   ]
  },
  {
   "cell_type": "code",
   "execution_count": null,
   "metadata": {
    "ExecuteTime": {
     "end_time": "2022-11-27T02:45:36.726639Z",
     "start_time": "2022-11-27T02:45:36.628588Z"
    }
   },
   "outputs": [],
   "source": [
    "plt.hist(bweights, bins = [50, 100, 120, 140, 200], density=True, ec='w');"
   ]
  },
  {
   "cell_type": "markdown",
   "metadata": {},
   "source": [
    "## Density Curves"
   ]
  },
  {
   "cell_type": "code",
   "execution_count": null,
   "metadata": {
    "ExecuteTime": {
     "end_time": "2022-11-27T02:45:39.734777Z",
     "start_time": "2022-11-27T02:45:39.090944Z"
    }
   },
   "outputs": [],
   "source": [
    "sns.kdeplot(bweights);"
   ]
  },
  {
   "cell_type": "code",
   "execution_count": null,
   "metadata": {
    "ExecuteTime": {
     "end_time": "2022-11-27T02:45:42.310265Z",
     "start_time": "2022-11-27T02:45:42.150688Z"
    }
   },
   "outputs": [],
   "source": [
    "sns.histplot(bweights, kde=True);"
   ]
  },
  {
   "cell_type": "markdown",
   "metadata": {},
   "source": [
    "Can even show a rugplot with it!"
   ]
  },
  {
   "cell_type": "code",
   "execution_count": null,
   "metadata": {
    "ExecuteTime": {
     "end_time": "2022-11-27T02:45:46.200158Z",
     "start_time": "2022-11-27T02:45:46.009678Z"
    }
   },
   "outputs": [],
   "source": [
    "sns.displot(bweights, kde=True, rug=True);"
   ]
  },
  {
   "cell_type": "markdown",
   "metadata": {},
   "source": [
    "`displot` is quite flexible, so instead of a histogram we can ask it, for example, to show the density curve and rugplot only:"
   ]
  },
  {
   "cell_type": "code",
   "execution_count": null,
   "metadata": {
    "ExecuteTime": {
     "end_time": "2022-11-27T02:45:48.776411Z",
     "start_time": "2022-11-27T02:45:48.553831Z"
    }
   },
   "outputs": [],
   "source": [
    "sns.displot(bweights, kind='kde', rug=True);"
   ]
  },
  {
   "cell_type": "code",
   "execution_count": null,
   "metadata": {
    "ExecuteTime": {
     "end_time": "2022-11-27T02:45:51.296130Z",
     "start_time": "2022-11-27T02:45:51.237643Z"
    }
   },
   "outputs": [],
   "source": [
    "fig = ff.create_distplot(\n",
    "    [births[\"Birth Weight\"]],\n",
    "    group_labels=[\"Birth Weight\"],\n",
    "    bin_size=2)\n",
    "fig.update_layout(bargap=0.1)\n",
    "fig"
   ]
  },
  {
   "cell_type": "markdown",
   "metadata": {},
   "source": [
    "## Box Plots"
   ]
  },
  {
   "cell_type": "code",
   "execution_count": null,
   "metadata": {
    "ExecuteTime": {
     "end_time": "2022-11-27T02:45:54.298745Z",
     "start_time": "2022-11-27T02:45:54.223977Z"
    }
   },
   "outputs": [],
   "source": [
    "plt.figure(figsize = (3, 6))\n",
    "sns.boxplot(y=bweights);"
   ]
  },
  {
   "cell_type": "code",
   "execution_count": null,
   "metadata": {
    "ExecuteTime": {
     "end_time": "2022-11-27T02:45:56.067302Z",
     "start_time": "2022-11-27T02:45:56.011075Z"
    }
   },
   "outputs": [],
   "source": [
    "px.box(births, y=\"Birth Weight\", x=\"Maternal Smoker\")"
   ]
  },
  {
   "cell_type": "code",
   "execution_count": null,
   "metadata": {
    "ExecuteTime": {
     "end_time": "2022-11-27T02:45:58.685910Z",
     "start_time": "2022-11-27T02:45:58.654851Z"
    }
   },
   "outputs": [],
   "source": [
    "q1 = np.percentile(bweights, 25)\n",
    "q2 = np.percentile(bweights, 50)\n",
    "q3 = np.percentile(bweights, 75)\n",
    "iqr = q3 - q1\n",
    "whisk1 = q1 - 1.5*iqr\n",
    "whisk2 = q3 + 1.5*iqr\n",
    "\n",
    "whisk1, q1, q2, q3, whisk2"
   ]
  },
  {
   "cell_type": "markdown",
   "metadata": {},
   "source": [
    "## Violin Plots"
   ]
  },
  {
   "cell_type": "code",
   "execution_count": null,
   "metadata": {
    "ExecuteTime": {
     "end_time": "2022-11-27T02:46:01.724218Z",
     "start_time": "2022-11-27T02:46:01.647524Z"
    }
   },
   "outputs": [],
   "source": [
    "plt.figure(figsize = (3, 6))\n",
    "sns.violinplot(y=bweights);"
   ]
  },
  {
   "cell_type": "code",
   "execution_count": null,
   "metadata": {
    "ExecuteTime": {
     "end_time": "2022-11-27T02:46:04.102568Z",
     "start_time": "2022-11-27T02:46:04.022504Z"
    }
   },
   "outputs": [],
   "source": [
    "px.violin(births, y=\"Birth Weight\", x=\"Maternal Smoker\")"
   ]
  },
  {
   "cell_type": "markdown",
   "metadata": {},
   "source": [
    "## Overlaid Histograms and Density Curves"
   ]
  },
  {
   "cell_type": "code",
   "execution_count": null,
   "metadata": {
    "ExecuteTime": {
     "end_time": "2022-11-27T02:46:10.320613Z",
     "start_time": "2022-11-27T02:46:10.310679Z"
    }
   },
   "outputs": [],
   "source": [
    "births.head()"
   ]
  },
  {
   "cell_type": "code",
   "execution_count": null,
   "metadata": {
    "ExecuteTime": {
     "end_time": "2022-11-27T02:46:13.230809Z",
     "start_time": "2022-11-27T02:46:13.224785Z"
    }
   },
   "outputs": [],
   "source": [
    "sm_bweights = births[births['Maternal Smoker'] == True]['Birth Weight']\n",
    "nsm_bweights = births[births['Maternal Smoker'] == False]['Birth Weight']"
   ]
  },
  {
   "cell_type": "code",
   "execution_count": null,
   "metadata": {
    "ExecuteTime": {
     "end_time": "2022-11-27T02:46:14.801755Z",
     "start_time": "2022-11-27T02:46:14.539722Z"
    }
   },
   "outputs": [],
   "source": [
    "sns.histplot(nsm_bweights, bins=bw_bins, kde=True, stat='density', label='non smoker', ec='w');\n",
    "sns.histplot(sm_bweights, bins=bw_bins, kde=True, stat='density', label='smoker', color='orange', ec='w');\n",
    "plt.legend();"
   ]
  },
  {
   "cell_type": "code",
   "execution_count": null,
   "metadata": {
    "ExecuteTime": {
     "end_time": "2022-11-27T02:46:16.874212Z",
     "start_time": "2022-11-27T02:46:16.834419Z"
    }
   },
   "outputs": [],
   "source": [
    "fig = ff.create_distplot(\n",
    "    [births.query(\"`Maternal Smoker` == True\")['Birth Weight'],\n",
    "     births.query(\"`Maternal Smoker` == False\")['Birth Weight']],\n",
    "    [\"Smoker\", \"Non-Smoker\"], \n",
    "    bin_size=2)\n",
    "fig.update_layout(bargap=0.1)\n",
    "fig"
   ]
  },
  {
   "cell_type": "markdown",
   "metadata": {},
   "source": [
    "## Side by side box plots and violin plots"
   ]
  },
  {
   "cell_type": "code",
   "execution_count": null,
   "metadata": {
    "ExecuteTime": {
     "end_time": "2022-11-27T02:46:20.466421Z",
     "start_time": "2022-11-27T02:46:20.378877Z"
    }
   },
   "outputs": [],
   "source": [
    "plt.figure(figsize=(5, 8))\n",
    "sns.boxplot(data=births, x = 'Maternal Smoker', y = 'Birth Weight');"
   ]
  },
  {
   "cell_type": "code",
   "execution_count": null,
   "metadata": {
    "ExecuteTime": {
     "end_time": "2022-11-27T02:46:22.877858Z",
     "start_time": "2022-11-27T02:46:22.774694Z"
    }
   },
   "outputs": [],
   "source": [
    "plt.figure(figsize=(5, 8))\n",
    "sns.violinplot(data=births, x = 'Maternal Smoker', y = 'Birth Weight');"
   ]
  },
  {
   "cell_type": "markdown",
   "metadata": {},
   "source": [
    "A less fancy version of the above two plots:"
   ]
  },
  {
   "cell_type": "code",
   "execution_count": null,
   "metadata": {
    "ExecuteTime": {
     "end_time": "2022-11-27T02:46:24.962226Z",
     "start_time": "2022-11-27T02:46:24.951212Z"
    }
   },
   "outputs": [],
   "source": [
    "two_distributions = [nsm_bweights.values, sm_bweights.values]\n",
    "groups = ['non-smokers', 'smokers']"
   ]
  },
  {
   "cell_type": "code",
   "execution_count": null,
   "metadata": {
    "ExecuteTime": {
     "end_time": "2022-11-27T02:46:26.129734Z",
     "start_time": "2022-11-27T02:46:26.049846Z"
    }
   },
   "outputs": [],
   "source": [
    "plt.boxplot(two_distributions, labels=groups);"
   ]
  },
  {
   "cell_type": "code",
   "execution_count": null,
   "metadata": {
    "ExecuteTime": {
     "end_time": "2022-11-27T02:46:28.400603Z",
     "start_time": "2022-11-27T02:46:28.310095Z"
    }
   },
   "outputs": [],
   "source": [
    "plt.violinplot(two_distributions);"
   ]
  },
  {
   "cell_type": "markdown",
   "metadata": {},
   "source": [
    "## Scatter plots"
   ]
  },
  {
   "cell_type": "code",
   "execution_count": null,
   "metadata": {
    "ExecuteTime": {
     "end_time": "2022-11-27T02:46:30.829608Z",
     "start_time": "2022-11-27T02:46:30.818638Z"
    }
   },
   "outputs": [],
   "source": [
    "births.head()"
   ]
  },
  {
   "cell_type": "code",
   "execution_count": null,
   "metadata": {
    "ExecuteTime": {
     "end_time": "2022-11-27T02:46:32.540144Z",
     "start_time": "2022-11-27T02:46:32.438391Z"
    }
   },
   "outputs": [],
   "source": [
    "plt.scatter(births['Maternal Height'], births['Birth Weight'], s=40,c=\"#000000\",alpha=0.1);\n",
    "plt.xlabel('Maternal Height')\n",
    "plt.ylabel('Birth Weight');"
   ]
  },
  {
   "cell_type": "code",
   "execution_count": null,
   "metadata": {
    "ExecuteTime": {
     "end_time": "2022-11-27T02:46:34.352208Z",
     "start_time": "2022-11-27T02:46:34.250303Z"
    }
   },
   "outputs": [],
   "source": [
    "plt.scatter(data=births, x='Maternal Height', y='Birth Weight');\n",
    "plt.xlabel('Maternal Height')\n",
    "plt.ylabel('Birth Weight');"
   ]
  },
  {
   "cell_type": "code",
   "execution_count": null,
   "metadata": {
    "ExecuteTime": {
     "end_time": "2022-11-27T02:46:36.311255Z",
     "start_time": "2022-11-27T02:46:36.152726Z"
    }
   },
   "outputs": [],
   "source": [
    "sns.scatterplot(data = births, x = 'Maternal Height', y = 'Birth Weight', hue = 'Maternal Smoker');"
   ]
  },
  {
   "cell_type": "code",
   "execution_count": null,
   "metadata": {
    "ExecuteTime": {
     "end_time": "2022-11-27T02:46:38.515689Z",
     "start_time": "2022-11-27T02:46:38.447297Z"
    }
   },
   "outputs": [],
   "source": [
    "px.scatter(births, \n",
    "           x = 'Maternal Height', \n",
    "           y = 'Birth Weight', \n",
    "           color = 'Maternal Smoker')"
   ]
  },
  {
   "cell_type": "code",
   "execution_count": null,
   "metadata": {
    "ExecuteTime": {
     "end_time": "2022-11-27T02:46:42.248411Z",
     "start_time": "2022-11-27T02:46:41.777227Z"
    }
   },
   "outputs": [],
   "source": [
    "sns.lmplot(data = births, x = 'Maternal Height', y = 'Birth Weight', ci=False, hue='Maternal Smoker');"
   ]
  },
  {
   "cell_type": "code",
   "execution_count": null,
   "metadata": {
    "ExecuteTime": {
     "end_time": "2022-11-27T02:46:45.918749Z",
     "start_time": "2022-11-27T02:46:45.162569Z"
    }
   },
   "outputs": [],
   "source": [
    "fig = px.scatter(births, \n",
    "                 x = 'Maternal Height', \n",
    "                 y = 'Birth Weight', \n",
    "                 color = 'Maternal Smoker',\n",
    "                 trendline = \"ols\")\n",
    "fig"
   ]
  },
  {
   "cell_type": "code",
   "execution_count": null,
   "metadata": {
    "ExecuteTime": {
     "end_time": "2022-11-27T02:46:49.753421Z",
     "start_time": "2022-11-27T02:46:49.730473Z"
    }
   },
   "outputs": [],
   "source": [
    "results = px.get_trendline_results(fig)\n",
    "for (_, i, t) in results.itertuples():\n",
    "    print(\"Maternal Smoker = \", i)\n",
    "    print(t.summary())\n",
    "    print(\"\\n\\n\")"
   ]
  },
  {
   "cell_type": "code",
   "execution_count": null,
   "metadata": {
    "ExecuteTime": {
     "end_time": "2022-11-27T02:47:15.769034Z",
     "start_time": "2022-11-27T02:47:15.481532Z"
    }
   },
   "outputs": [],
   "source": [
    "sns.jointplot(data = births, x = 'Maternal Height', y = 'Birth Weight');"
   ]
  },
  {
   "cell_type": "code",
   "execution_count": null,
   "metadata": {
    "ExecuteTime": {
     "end_time": "2022-11-27T02:47:18.264475Z",
     "start_time": "2022-11-27T02:47:17.982595Z"
    }
   },
   "outputs": [],
   "source": [
    "sns.jointplot(data = births, x = 'Maternal Height', y = 'Birth Weight', hue='Maternal Smoker');"
   ]
  },
  {
   "cell_type": "code",
   "execution_count": null,
   "metadata": {},
   "outputs": [],
   "source": []
  },
  {
   "cell_type": "markdown",
   "metadata": {},
   "source": [
    "## Hex plots and contour plots"
   ]
  },
  {
   "cell_type": "code",
   "execution_count": null,
   "metadata": {
    "ExecuteTime": {
     "end_time": "2022-11-27T02:47:21.474057Z",
     "start_time": "2022-11-27T02:47:21.197420Z"
    }
   },
   "outputs": [],
   "source": [
    "sns.jointplot(data = births, x = 'Maternal Height', y = 'Birth Weight', kind='hex');"
   ]
  },
  {
   "cell_type": "code",
   "execution_count": null,
   "metadata": {
    "ExecuteTime": {
     "end_time": "2022-11-27T02:47:24.258164Z",
     "start_time": "2022-11-27T02:47:23.493847Z"
    }
   },
   "outputs": [],
   "source": [
    "sns.jointplot(data = births, x = 'Maternal Height', y = 'Birth Weight', kind='kde', fill=True);"
   ]
  },
  {
   "cell_type": "code",
   "execution_count": null,
   "metadata": {
    "ExecuteTime": {
     "end_time": "2022-11-27T02:47:27.680258Z",
     "start_time": "2022-11-27T02:47:26.665034Z"
    }
   },
   "outputs": [],
   "source": [
    "sns.jointplot(data = births, x = 'Maternal Height', y = 'Birth Weight', kind='kde', hue='Maternal Smoker');"
   ]
  },
  {
   "cell_type": "code",
   "execution_count": null,
   "metadata": {
    "ExecuteTime": {
     "end_time": "2022-11-27T02:47:30.302322Z",
     "start_time": "2022-11-27T02:47:30.255082Z"
    }
   },
   "outputs": [],
   "source": [
    "fig = px.scatter(births, x = 'Maternal Height', y = 'Birth Weight')\n",
    "fig.data"
   ]
  },
  {
   "cell_type": "code",
   "execution_count": null,
   "metadata": {
    "ExecuteTime": {
     "end_time": "2022-11-27T02:47:32.906501Z",
     "start_time": "2022-11-27T02:47:32.739384Z"
    }
   },
   "outputs": [],
   "source": [
    "fig = px.density_contour(births, \n",
    "                         x = 'Maternal Height', \n",
    "                         y = 'Birth Weight', \n",
    "                         color ='Maternal Smoker',\n",
    "                         marginal_x=\"histogram\", \n",
    "                         marginal_y=\"histogram\")\n",
    "fig.add_traces(px.scatter(\n",
    "    births, x = 'Maternal Height', y = 'Birth Weight', \n",
    "    color ='Maternal Smoker').data)"
   ]
  },
  {
   "cell_type": "code",
   "execution_count": null,
   "metadata": {},
   "outputs": [],
   "source": []
  },
  {
   "cell_type": "markdown",
   "metadata": {},
   "source": [
    "## The End"
   ]
  },
  {
   "cell_type": "markdown",
   "metadata": {},
   "source": [
    "**Source**\n",
    "\n",
    "This notebook was adapted from:\n",
    "* Data 8: The Foundations of Data Science\n",
    "* Data 100: Principles and Techniques of Data Science by Suraj Rampure,  Fernando Pérez, Ani Adhikari and Joseph Gonzalez\n",
    "* Introduction to Data Science and Visualization by James Bagrow\n"
   ]
  }
 ],
 "metadata": {
  "kernelspec": {
   "display_name": "Python 3 (ipykernel)",
   "language": "python",
   "name": "python3"
  },
  "language_info": {
   "codemirror_mode": {
    "name": "ipython",
    "version": 3
   },
   "file_extension": ".py",
   "mimetype": "text/x-python",
   "name": "python",
   "nbconvert_exporter": "python",
   "pygments_lexer": "ipython3",
   "version": "3.9.12"
  },
  "toc": {
   "base_numbering": 1,
   "nav_menu": {},
   "number_sections": true,
   "sideBar": true,
   "skip_h1_title": false,
   "title_cell": "Table of Contents",
   "title_sidebar": "Contents",
   "toc_cell": false,
   "toc_position": {
    "height": "calc(100% - 180px)",
    "left": "10px",
    "top": "150px",
    "width": "459px"
   },
   "toc_section_display": true,
   "toc_window_display": false
  }
 },
 "nbformat": 4,
 "nbformat_minor": 4
}
