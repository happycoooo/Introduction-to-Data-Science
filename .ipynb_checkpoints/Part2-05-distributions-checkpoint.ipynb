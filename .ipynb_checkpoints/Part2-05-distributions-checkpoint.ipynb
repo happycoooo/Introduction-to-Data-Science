{
 "cells": [
  {
   "cell_type": "markdown",
   "metadata": {
    "slideshow": {
     "slide_type": "slide"
    }
   },
   "source": [
    "<p style=\"font-size:15pt; text-align:center\">\n",
    "    Introduction to Data Science\n",
    "</p>\n",
    "<p style=\"font-size:20pt; text-align:center\">\n",
    "    Distributions\n",
    "</p>"
   ]
  },
  {
   "cell_type": "code",
   "execution_count": 1,
   "metadata": {
    "ExecuteTime": {
     "end_time": "2022-10-31T01:35:40.296552Z",
     "start_time": "2022-10-31T01:35:38.576465Z"
    },
    "slideshow": {
     "slide_type": "slide"
    }
   },
   "outputs": [],
   "source": [
    "import numpy as np\n",
    "import pandas as pd\n",
    "import matplotlib.pyplot as plt\n",
    "%matplotlib inline  "
   ]
  },
  {
   "cell_type": "markdown",
   "metadata": {
    "slideshow": {
     "slide_type": "slide"
    }
   },
   "source": [
    "# Loading a data set and initial data analysis"
   ]
  },
  {
   "cell_type": "markdown",
   "metadata": {},
   "source": [
    "This data set contains gender, height [inches，1 inch = 2.54 cm], and weight [pounds, 1 pound =0.45kg] about individuals."
   ]
  },
  {
   "cell_type": "code",
   "execution_count": 2,
   "metadata": {
    "ExecuteTime": {
     "end_time": "2022-10-31T01:35:40.343547Z",
     "start_time": "2022-10-31T01:35:40.299551Z"
    },
    "slideshow": {
     "slide_type": "slide"
    }
   },
   "outputs": [
    {
     "data": {
      "text/html": [
       "<div>\n",
       "<style scoped>\n",
       "    .dataframe tbody tr th:only-of-type {\n",
       "        vertical-align: middle;\n",
       "    }\n",
       "\n",
       "    .dataframe tbody tr th {\n",
       "        vertical-align: top;\n",
       "    }\n",
       "\n",
       "    .dataframe thead th {\n",
       "        text-align: right;\n",
       "    }\n",
       "</style>\n",
       "<table border=\"1\" class=\"dataframe\">\n",
       "  <thead>\n",
       "    <tr style=\"text-align: right;\">\n",
       "      <th></th>\n",
       "      <th>Gender</th>\n",
       "      <th>Height</th>\n",
       "      <th>Weight</th>\n",
       "    </tr>\n",
       "  </thead>\n",
       "  <tbody>\n",
       "    <tr>\n",
       "      <th>0</th>\n",
       "      <td>0</td>\n",
       "      <td>73.847017</td>\n",
       "      <td>241.893563</td>\n",
       "    </tr>\n",
       "    <tr>\n",
       "      <th>1</th>\n",
       "      <td>0</td>\n",
       "      <td>68.781904</td>\n",
       "      <td>162.310473</td>\n",
       "    </tr>\n",
       "    <tr>\n",
       "      <th>2</th>\n",
       "      <td>0</td>\n",
       "      <td>74.110105</td>\n",
       "      <td>212.740856</td>\n",
       "    </tr>\n",
       "    <tr>\n",
       "      <th>3</th>\n",
       "      <td>0</td>\n",
       "      <td>71.730978</td>\n",
       "      <td>220.042470</td>\n",
       "    </tr>\n",
       "    <tr>\n",
       "      <th>4</th>\n",
       "      <td>0</td>\n",
       "      <td>69.881796</td>\n",
       "      <td>206.349801</td>\n",
       "    </tr>\n",
       "  </tbody>\n",
       "</table>\n",
       "</div>"
      ],
      "text/plain": [
       "   Gender     Height      Weight\n",
       "0       0  73.847017  241.893563\n",
       "1       0  68.781904  162.310473\n",
       "2       0  74.110105  212.740856\n",
       "3       0  71.730978  220.042470\n",
       "4       0  69.881796  206.349801"
      ]
     },
     "execution_count": 2,
     "metadata": {},
     "output_type": "execute_result"
    }
   ],
   "source": [
    "#dataweightheight = np.loadtxt('files/weightheight.csv', skiprows=1, delimiter=',')\n",
    "dataweightheight = pd.read_csv(\"./files/weightheight.csv\")\n",
    "dataweightheight.head()"
   ]
  },
  {
   "cell_type": "code",
   "execution_count": 3,
   "metadata": {
    "ExecuteTime": {
     "end_time": "2022-10-31T01:35:40.359547Z",
     "start_time": "2022-10-31T01:35:40.345547Z"
    }
   },
   "outputs": [
    {
     "name": "stdout",
     "output_type": "stream",
     "text": [
      "73.847017017515\n"
     ]
    }
   ],
   "source": [
    "for v in dataweightheight.loc[:,\"Height\"].values:\n",
    "    print (v)\n",
    "    break"
   ]
  },
  {
   "cell_type": "code",
   "execution_count": null,
   "metadata": {
    "ExecuteTime": {
     "end_time": "2022-10-31T01:35:40.374547Z",
     "start_time": "2022-10-31T01:35:40.361548Z"
    }
   },
   "outputs": [],
   "source": [
    "print(dataweightheight.shape)"
   ]
  },
  {
   "cell_type": "code",
   "execution_count": null,
   "metadata": {
    "ExecuteTime": {
     "end_time": "2022-10-31T01:35:40.390547Z",
     "start_time": "2022-10-31T01:35:40.376547Z"
    },
    "slideshow": {
     "slide_type": "slide"
    }
   },
   "outputs": [],
   "source": [
    "# Turn data metric\n",
    "dataweightheight.loc[:,\"Height\"] = 2.54*dataweightheight.loc[:,\"Height\"]\n",
    "dataweightheight.loc[:,\"Weight\"] = 0.453592*dataweightheight.loc[:,\"Weight\"]\n",
    "dataweightheight.head(10)"
   ]
  },
  {
   "cell_type": "markdown",
   "metadata": {
    "slideshow": {
     "slide_type": "slide"
    }
   },
   "source": [
    "# Exploratory data analysis of quantitative variables"
   ]
  },
  {
   "cell_type": "code",
   "execution_count": null,
   "metadata": {
    "ExecuteTime": {
     "end_time": "2022-10-31T01:35:43.225590Z",
     "start_time": "2022-10-31T01:35:40.391547Z"
    },
    "slideshow": {
     "slide_type": "-"
    }
   },
   "outputs": [],
   "source": [
    "bins = [5, 30, 200, 2000]\n",
    "fig, axes = plt.subplots(nrows=1, ncols=4, figsize=(16, 3))\n",
    "\n",
    "maskmale = (dataweightheight.loc[:,\"Gender\"] == 0)\n",
    "for ax, i in zip(axes, range(4)):\n",
    "    ax.hist(dataweightheight.loc[maskmale,\"Height\"].values, bins[i], density=True);\n",
    "    ax.set_ylim([0,0.1])\n",
    "    ax.set_xlabel('Height')\n",
    "    if i==0:\n",
    "        ax.set_ylabel('Relative frequency')\n",
    "    ax.set_title('Histogram of male heights');"
   ]
  },
  {
   "cell_type": "markdown",
   "metadata": {
    "slideshow": {
     "slide_type": "slide"
    }
   },
   "source": [
    "***\n",
    "What is going on?\n",
    "***"
   ]
  },
  {
   "cell_type": "code",
   "execution_count": null,
   "metadata": {
    "ExecuteTime": {
     "end_time": "2022-10-31T01:35:44.396390Z",
     "start_time": "2022-10-31T01:35:43.227590Z"
    },
    "code_folding": [],
    "slideshow": {
     "slide_type": "slide"
    }
   },
   "outputs": [],
   "source": [
    "#\n",
    "fig = plt.figure(figsize=(4, 3)) # create figure object with a (width,height)\n",
    "axes = fig.add_axes([0, 0, 1, 1]) # left, bottom, width, height (range 0 to 1)\n",
    "\n",
    "# Plot histogram of data\n",
    "axes.hist(dataweightheight.loc[maskmale,\"Height\"].values, 40, density=True, alpha=0.6, color='g', edgecolor='black', linewidth=1.2);\n",
    "axes.set_xlabel('Height')\n",
    "axes.set_ylabel('Relative frequency')\n",
    "axes.set_title('Histogram of male heights');\n",
    "\n",
    "# Plot a normal distribution on top\n",
    "import scipy.stats as stats\n",
    "mu, sigma = stats.norm.fit(dataweightheight.loc[maskmale,\"Height\"].values)\n",
    "\n",
    "xmin, xmax = axes.get_xlim()\n",
    "x = np.linspace(xmin, xmax, 100)\n",
    "p = stats.norm.pdf(x, mu, sigma)\n",
    "axes.plot(x, p, 'k', linewidth=2.5);"
   ]
  },
  {
   "cell_type": "code",
   "execution_count": null,
   "metadata": {
    "ExecuteTime": {
     "end_time": "2022-10-31T01:35:44.412397Z",
     "start_time": "2022-10-31T01:35:44.399393Z"
    }
   },
   "outputs": [],
   "source": [
    "mu, sigma"
   ]
  },
  {
   "cell_type": "code",
   "execution_count": null,
   "metadata": {
    "ExecuteTime": {
     "end_time": "2022-10-31T01:35:44.651392Z",
     "start_time": "2022-10-31T01:35:44.415391Z"
    },
    "scrolled": true,
    "slideshow": {
     "slide_type": "slide"
    }
   },
   "outputs": [],
   "source": [
    "# Interactive version\n",
    "from ipywidgets import interact\n",
    "import ipywidgets as widgets\n",
    "\n",
    "def plot_func(bins):\n",
    "    fig = plt.figure(figsize=(4, 3)) # create figure object with a (width,height)\n",
    "    axes = fig.add_axes([0, 0, 1, 1])\n",
    "    axes.hist(dataweightheight.loc[maskmale,\"Height\"].values, int(bins), density=True, alpha=0.6, color='g', edgecolor='black', linewidth=1);\n",
    "    axes.set_ylim([0,0.06])\n",
    "    axes.set_xlabel('Height')\n",
    "    axes.set_ylabel('Relative frequency')\n",
    "    axes.set_title('Histogram of male heights');\n",
    "    axes.plot(x, p, 'k', linewidth=2.5);\n",
    "\n",
    "interact(plot_func, bins = widgets.FloatSlider(value=3, min=3, max=40, step=1));"
   ]
  },
  {
   "cell_type": "markdown",
   "metadata": {
    "slideshow": {
     "slide_type": "-"
    }
   },
   "source": [
    "We plotted a normal distribution on top. Visually it looks like a good fit. Play around with the bins.\n",
    "\n",
    "This normal distribution has two parameters: the mean mu and standard deviation sigma.\n",
    "They completely determine the shape of the whole curve."
   ]
  },
  {
   "cell_type": "markdown",
   "metadata": {
    "slideshow": {
     "slide_type": "slide"
    }
   },
   "source": [
    "Play around with different spreads. The area under the whole curve always has to be 1."
   ]
  },
  {
   "cell_type": "code",
   "execution_count": null,
   "metadata": {
    "ExecuteTime": {
     "end_time": "2022-10-31T01:35:44.808390Z",
     "start_time": "2022-10-31T01:35:44.653393Z"
    },
    "slideshow": {
     "slide_type": "-"
    }
   },
   "outputs": [],
   "source": [
    "# Interactive version\n",
    "from ipywidgets import interact\n",
    "import ipywidgets as widgets\n",
    "\n",
    "def plot_func(sigma):\n",
    "    fig = plt.figure(figsize=(4, 3)) \n",
    "    axes = fig.add_axes([0, 0, 1, 1])\n",
    "    p = stats.norm.pdf(x, mu, sigma)\n",
    "    axes.plot(x, p, 'k', linewidth=2.5);\n",
    "    axes.set_ylim([0,0.12])\n",
    "    axes.set_xlim([x.min(),x.max()])\n",
    "    axes.set_xlabel('Height')\n",
    "    axes.set_ylabel('Relative frequency')\n",
    "    axes.set_title('Model of male heights with different spreads');\n",
    "    \n",
    "interact(plot_func, sigma = widgets.FloatSlider(value=7, min=1, max=12, step=0.5));"
   ]
  },
  {
   "cell_type": "markdown",
   "metadata": {
    "slideshow": {
     "slide_type": "slide"
    }
   },
   "source": [
    "## Q-Q plots"
   ]
  },
  {
   "cell_type": "code",
   "execution_count": null,
   "metadata": {
    "ExecuteTime": {
     "end_time": "2022-10-31T01:35:45.811620Z",
     "start_time": "2022-10-31T01:35:44.810392Z"
    }
   },
   "outputs": [],
   "source": [
    "import statsmodels.api as sm  # For the Q-Q plot\n",
    "import scipy.stats as stats  # For generating random data and for fitting"
   ]
  },
  {
   "cell_type": "markdown",
   "metadata": {
    "slideshow": {
     "slide_type": "slide"
    }
   },
   "source": [
    "Let's check if the male heights are normally distributed:"
   ]
  },
  {
   "cell_type": "code",
   "execution_count": null,
   "metadata": {
    "ExecuteTime": {
     "end_time": "2022-10-31T01:35:45.971620Z",
     "start_time": "2022-10-31T01:35:45.814622Z"
    },
    "scrolled": true
   },
   "outputs": [],
   "source": [
    "#\n",
    "fig = plt.figure(figsize=(3, 3))\n",
    "axes = fig.add_axes([0, 0, 1, 1])\n",
    "sm.qqplot(dataweightheight.loc[maskmale,\"Height\"].values, stats.norm, fit=True, line='45',ax=axes)\n",
    "# fit=True just means that the quantiles are formed from the standardized data\n",
    "\n",
    "# Few commands to make the plot look nicer:\n",
    "axes.set_ylim([-4,4]); axes.set_xlim([-4,4])\n",
    "axes.set_xticks(axes.get_yticks()); axes.grid()\n",
    "axes.set_title(\"Q-Q plot for male heights\");"
   ]
  },
  {
   "cell_type": "markdown",
   "metadata": {},
   "source": [
    "All the points lie on the straight line, so the normal distribution is a good assumption."
   ]
  },
  {
   "cell_type": "code",
   "execution_count": null,
   "metadata": {
    "ExecuteTime": {
     "end_time": "2022-10-31T01:35:46.179620Z",
     "start_time": "2022-10-31T01:35:45.973624Z"
    },
    "slideshow": {
     "slide_type": "slide"
    }
   },
   "outputs": [],
   "source": [
    "# Alternatively, use scipy.stats.probplot\n",
    "\n",
    "fig = plt.figure(figsize=(3, 3)) # create figure object with a (width,height)\n",
    "axes = fig.add_axes([0, 0, 1, 1])\n",
    "stats.probplot(dataweightheight.loc[maskmale,\"Height\"], dist='norm', plot=axes);"
   ]
  },
  {
   "cell_type": "markdown",
   "metadata": {
    "slideshow": {
     "slide_type": "slide"
    }
   },
   "source": [
    "## Random data\n",
    "\n",
    "We now generate a new data set of 500 \"alien heights\" that is unimodal and symmetric to test normality. Notice anything particular when you scroll through the data?"
   ]
  },
  {
   "cell_type": "code",
   "execution_count": null,
   "metadata": {
    "ExecuteTime": {
     "end_time": "2022-10-31T01:35:46.210628Z",
     "start_time": "2022-10-31T01:35:46.182665Z"
    },
    "slideshow": {
     "slide_type": "-"
    }
   },
   "outputs": [],
   "source": [
    "np.random.seed(seed=6)\n",
    "#https://en.wikipedia.org/wiki/Cauchy_distribution\n",
    "dataalienheights = stats.cauchy.rvs(loc=175, scale=6.7, size=514) \n",
    "dataalienheights = dataalienheights[dataalienheights > 100]\n",
    "\n",
    "print(dataalienheights.mean())\n",
    "dataalienheights"
   ]
  },
  {
   "cell_type": "code",
   "execution_count": null,
   "metadata": {
    "ExecuteTime": {
     "end_time": "2022-10-31T01:35:46.386622Z",
     "start_time": "2022-10-31T01:35:46.213623Z"
    },
    "slideshow": {
     "slide_type": "slide"
    }
   },
   "outputs": [],
   "source": [
    "fig = plt.figure(figsize=(4, 3))\n",
    "axes = fig.add_axes([0, 0, 1, 1])\n",
    "\n",
    "# Plot histogram of data\n",
    "axes.hist(dataalienheights, 30, range=(145,205), density=True, alpha=0.6, color='g', edgecolor='black', linewidth=1.2);\n",
    "axes.set_xlabel('Height')\n",
    "axes.set_ylabel('Relative frequency')\n",
    "axes.set_title('Histogram of alien heights');"
   ]
  },
  {
   "cell_type": "markdown",
   "metadata": {
    "slideshow": {
     "slide_type": "-"
    }
   },
   "source": [
    "Looks like this could be a normal distribution. To make sure let's check the Q-Q plot."
   ]
  },
  {
   "cell_type": "code",
   "execution_count": null,
   "metadata": {
    "ExecuteTime": {
     "end_time": "2022-10-31T01:35:46.513627Z",
     "start_time": "2022-10-31T01:35:46.388623Z"
    },
    "slideshow": {
     "slide_type": "slide"
    }
   },
   "outputs": [],
   "source": [
    "fig = plt.figure(figsize=(3, 3)) # create figure object with a (width,height)\n",
    "axes = fig.add_axes([0, 0, 1, 1])\n",
    "sm.qqplot(dataalienheights, stats.norm, fit=True, line='45',ax=axes);\n",
    "\n",
    "# Few commands to make the plot look nicer:\n",
    "axes.set_ylim([-5,20]); axes.set_xlim([-5,20])\n",
    "axes.grid()\n",
    "axes.set_title(\"Q-Q plot for alien heights\");"
   ]
  },
  {
   "cell_type": "markdown",
   "metadata": {},
   "source": [
    "This is definitely not a normal distribution!"
   ]
  },
  {
   "cell_type": "markdown",
   "metadata": {
    "slideshow": {
     "slide_type": "slide"
    }
   },
   "source": [
    "If we remove the \"outliers\" it is still a bad fit:"
   ]
  },
  {
   "cell_type": "code",
   "execution_count": null,
   "metadata": {
    "ExecuteTime": {
     "end_time": "2022-10-31T01:35:46.641625Z",
     "start_time": "2022-10-31T01:35:46.516622Z"
    }
   },
   "outputs": [],
   "source": [
    "fig = plt.figure(figsize=(3, 3)) # create figure object with a (width,height)\n",
    "axes = fig.add_axes([0, 0, 1, 1])\n",
    "sm.qqplot(dataalienheights[dataalienheights<250], stats.norm, fit=True, line='45',ax=axes);\n",
    "\n",
    "# Few commands to make the plot look nicer:\n",
    "axes.set_ylim([-5,5]); axes.set_xlim([-5,5])\n",
    "axes.grid()\n",
    "axes.set_title(\"Q-Q plot for alien heights without outliers\");"
   ]
  },
  {
   "cell_type": "markdown",
   "metadata": {
    "slideshow": {
     "slide_type": "slide"
    }
   },
   "source": [
    "If you had a normal distribution with outliers, this would be different:"
   ]
  },
  {
   "cell_type": "code",
   "execution_count": null,
   "metadata": {
    "ExecuteTime": {
     "end_time": "2022-10-31T01:35:46.817621Z",
     "start_time": "2022-10-31T01:35:46.644621Z"
    }
   },
   "outputs": [],
   "source": [
    "#\n",
    "datanormalwithoutliers = np.append(np.random.normal(mu, sigma, 495), [260,300,400,600,700]);\n",
    "fig = plt.figure(figsize=(4, 3)) \n",
    "axes = fig.add_axes([0, 0, 1, 1]) \n",
    "\n",
    "# Plot histogram of data\n",
    "axes.hist(datanormalwithoutliers, 30, range=(145,205), density=True, alpha=0.6, color='g', edgecolor='black', linewidth=1.2);\n",
    "axes.set_xlabel('Height')\n",
    "axes.set_ylabel('Relative frequency')\n",
    "axes.set_title('Histogram of normal data with outliers');\n",
    "\n",
    "# Plot a normal distribution on top\n",
    "axes.plot(x, p, 'k', linewidth=2.5);"
   ]
  },
  {
   "cell_type": "code",
   "execution_count": null,
   "metadata": {
    "ExecuteTime": {
     "end_time": "2022-10-31T01:35:47.071620Z",
     "start_time": "2022-10-31T01:35:46.820622Z"
    },
    "slideshow": {
     "slide_type": "slide"
    }
   },
   "outputs": [],
   "source": [
    "fig, axes = plt.subplots(nrows=1, ncols=2, figsize=(9, 4))\n",
    "\n",
    "axes[0].set_title(\"Q-Q plot for normal data with outliers\");\n",
    "sm.qqplot(datanormalwithoutliers, stats.norm, fit=True, line='45',ax=axes[0]);\n",
    "\n",
    "axes[1].set_title(\"Q-Q plot for normal data without outliers\");\n",
    "sm.qqplot(datanormalwithoutliers[datanormalwithoutliers < 230], stats.norm, fit=True, line='45',ax=axes[1]);\n",
    "\n",
    "# Few commands to make the plot look nicer:\n",
    "for ax in axes:\n",
    "    ax.set_ylim([-4,4]); ax.set_xlim([-4,4])\n",
    "    ax.set_xticks(ax.get_yticks()); ax.grid()"
   ]
  },
  {
   "cell_type": "markdown",
   "metadata": {
    "slideshow": {
     "slide_type": "slide"
    }
   },
   "source": [
    "# sample variability"
   ]
  },
  {
   "cell_type": "code",
   "execution_count": null,
   "metadata": {
    "ExecuteTime": {
     "end_time": "2022-10-31T01:35:47.087623Z",
     "start_time": "2022-10-31T01:35:47.073621Z"
    }
   },
   "outputs": [],
   "source": [
    "dataweightheight.head()"
   ]
  },
  {
   "cell_type": "markdown",
   "metadata": {
    "slideshow": {
     "slide_type": "slide"
    }
   },
   "source": [
    "Let's get the heights of females this time."
   ]
  },
  {
   "cell_type": "code",
   "execution_count": null,
   "metadata": {
    "ExecuteTime": {
     "end_time": "2022-10-31T01:35:47.119622Z",
     "start_time": "2022-10-31T01:35:47.089623Z"
    },
    "slideshow": {
     "slide_type": "-"
    }
   },
   "outputs": [],
   "source": [
    "dataweightheight[dataweightheight.Gender==1].describe()"
   ]
  },
  {
   "cell_type": "markdown",
   "metadata": {
    "slideshow": {
     "slide_type": "slide"
    }
   },
   "source": [
    "For females, if we resamle $n=100$ data, what's the average height?"
   ]
  },
  {
   "cell_type": "code",
   "execution_count": null,
   "metadata": {
    "ExecuteTime": {
     "end_time": "2022-10-31T01:35:47.405626Z",
     "start_time": "2022-10-31T01:35:47.121627Z"
    },
    "slideshow": {
     "slide_type": "slide"
    }
   },
   "outputs": [],
   "source": [
    "n = 100\n",
    "means = []\n",
    "repetitions = 10000\n",
    "\n",
    "female_height = dataweightheight.loc[dataweightheight.Gender==1, \"Height\"].values\n",
    "\n",
    "for i in np.arange(repetitions):\n",
    "    sample_female_height = np.random.choice(female_height, n, replace=True)\n",
    "    means.append(np.mean(sample_female_height))\n",
    "\n",
    "means = np.array(means)"
   ]
  },
  {
   "cell_type": "code",
   "execution_count": null,
   "metadata": {
    "ExecuteTime": {
     "end_time": "2022-10-31T01:35:47.565630Z",
     "start_time": "2022-10-31T01:35:47.409625Z"
    }
   },
   "outputs": [],
   "source": [
    "fig = plt.figure(figsize=(4, 3))\n",
    "axes = fig.add_axes([0, 0, 1, 1]) \n",
    "\n",
    "# Plot histogram of data\n",
    "axes.hist(means, 30, density=True, alpha=0.6, color='g', edgecolor='black', linewidth=1.2);\n",
    "axes.set_xlabel('Sample Mean of Female Height')\n",
    "axes.set_ylabel('Relative frequency')\n",
    "axes.set_title('Histogram');\n"
   ]
  },
  {
   "cell_type": "code",
   "execution_count": null,
   "metadata": {
    "ExecuteTime": {
     "end_time": "2022-10-31T01:35:48.012620Z",
     "start_time": "2022-10-31T01:35:47.570647Z"
    },
    "code_folding": [
     0
    ]
   },
   "outputs": [],
   "source": [
    "#\n",
    "n = 1000\n",
    "means2 = []\n",
    "repetitions = 10000\n",
    "\n",
    "female_height = dataweightheight.loc[dataweightheight.Gender==1, \"Height\"].values\n",
    "\n",
    "for i in np.arange(repetitions):\n",
    "    sample_female_height = np.random.choice(female_height, n, replace=True)\n",
    "    means2.append(np.mean(sample_female_height))\n",
    "\n",
    "means2 = np.array(means2)"
   ]
  },
  {
   "cell_type": "code",
   "execution_count": null,
   "metadata": {
    "ExecuteTime": {
     "end_time": "2022-10-31T01:35:48.203621Z",
     "start_time": "2022-10-31T01:35:48.014622Z"
    },
    "code_folding": [
     0
    ]
   },
   "outputs": [],
   "source": [
    "#\n",
    "fig = plt.figure(figsize=(4, 3))\n",
    "axes = fig.add_axes([0, 0, 1, 1]) \n",
    "\n",
    "# Plot histogram of data\n",
    "axes.hist(means2, 30, density=True, alpha=0.6, color='g', edgecolor='black', linewidth=1.2);\n",
    "axes.set_xlabel('Sample Mean of Female Height')\n",
    "axes.set_ylabel('Relative frequency')\n",
    "axes.set_title('Histogram');"
   ]
  },
  {
   "cell_type": "code",
   "execution_count": null,
   "metadata": {
    "ExecuteTime": {
     "end_time": "2022-10-31T01:35:48.345625Z",
     "start_time": "2022-10-31T01:35:48.205622Z"
    }
   },
   "outputs": [],
   "source": [
    "fig = plt.figure(figsize=(4, 3))\n",
    "axes = fig.add_axes([0, 0, 1, 1]) \n",
    "\n",
    "# Plot histogram of data\n",
    "axes.hist(means, 30, density=True, edgecolor='g', linewidth=3, histtype=\"step\");\n",
    "axes.hist(means2, 30, density=True, edgecolor='r', linewidth=3, histtype=\"step\");\n",
    "\n",
    "axes.set_xlabel('Sample Mean of Female Height')\n",
    "axes.set_ylabel('Relative frequency')\n",
    "axes.set_title('Histogram');"
   ]
  },
  {
   "cell_type": "markdown",
   "metadata": {
    "slideshow": {
     "slide_type": "slide"
    }
   },
   "source": [
    "# The end"
   ]
  },
  {
   "cell_type": "markdown",
   "metadata": {},
   "source": [
    "**Source**\n",
    "\n",
    "This notebook was adapted from:\n",
    "* Introduction to data science by Michael Szell\n",
    "* Data 8: The Foundations of Data Science\n",
    "* Data 100: Principles and Techniques of Data Science\n"
   ]
  }
 ],
 "metadata": {
  "celltoolbar": "幻灯片",
  "kernelspec": {
   "display_name": "Python 3 (ipykernel)",
   "language": "python",
   "name": "python3"
  },
  "language_info": {
   "codemirror_mode": {
    "name": "ipython",
    "version": 3
   },
   "file_extension": ".py",
   "mimetype": "text/x-python",
   "name": "python",
   "nbconvert_exporter": "python",
   "pygments_lexer": "ipython3",
   "version": "3.9.12"
  },
  "toc": {
   "base_numbering": 1,
   "nav_menu": {},
   "number_sections": true,
   "sideBar": true,
   "skip_h1_title": false,
   "title_cell": "Table of Contents",
   "title_sidebar": "Contents",
   "toc_cell": false,
   "toc_position": {},
   "toc_section_display": true,
   "toc_window_display": false
  }
 },
 "nbformat": 4,
 "nbformat_minor": 1
}
