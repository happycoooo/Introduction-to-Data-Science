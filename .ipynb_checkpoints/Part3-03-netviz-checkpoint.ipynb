{
 "cells": [
  {
   "cell_type": "markdown",
   "metadata": {},
   "source": [
    "<p style=\"font-size:15pt; text-align:center\">\n",
    "    Introduction to Data Science\n",
    "</p>\n",
    "<p style=\"font-size:20pt; text-align:center\">\n",
    "    Networked data analyis and visualization\n",
    "</p>\n"
   ]
  },
  {
   "cell_type": "markdown",
   "metadata": {
    "slideshow": {
     "slide_type": "slide"
    }
   },
   "source": [
    "# Importing required modules"
   ]
  },
  {
   "cell_type": "code",
   "execution_count": 1,
   "metadata": {
    "ExecuteTime": {
     "end_time": "2022-12-05T03:14:24.719955Z",
     "start_time": "2022-12-05T03:14:23.539126Z"
    },
    "slideshow": {
     "slide_type": "-"
    }
   },
   "outputs": [],
   "source": [
    "import numpy as np\n",
    "import networkx as nx\n",
    "import matplotlib.pyplot as plt\n",
    "import matplotlib as mpl\n",
    "%matplotlib inline"
   ]
  },
  {
   "cell_type": "markdown",
   "metadata": {
    "slideshow": {
     "slide_type": "slide"
    }
   },
   "source": [
    "# Basic data types in NetworkX\n",
    "NetworkX provides the following classes that represent network-related data,\n",
    "as well as network analysis algorithms that operate on these objects:"
   ]
  },
  {
   "cell_type": "markdown",
   "metadata": {
    "slideshow": {
     "slide_type": "skip"
    }
   },
   "source": [
    "**Graph**       - Undirected graph with self loops"
   ]
  },
  {
   "cell_type": "markdown",
   "metadata": {
    "slideshow": {
     "slide_type": "fragment"
    }
   },
   "source": [
    "**DiGraph**      - Directed graph with self loops"
   ]
  },
  {
   "cell_type": "markdown",
   "metadata": {
    "slideshow": {
     "slide_type": "fragment"
    }
   },
   "source": [
    "**MultiGraph**   - Undirected Graph with self loops and multiple edges"
   ]
  },
  {
   "cell_type": "markdown",
   "metadata": {
    "slideshow": {
     "slide_type": "fragment"
    }
   },
   "source": [
    "**MultiDiGraph** - Directed Graph with self loops and multiple edges"
   ]
  },
  {
   "cell_type": "markdown",
   "metadata": {
    "slideshow": {
     "slide_type": "slide"
    }
   },
   "source": [
    "# Getting started\n",
    "Create an empty, undirected network"
   ]
  },
  {
   "cell_type": "code",
   "execution_count": 2,
   "metadata": {
    "ExecuteTime": {
     "end_time": "2021-12-13T02:24:14.852279Z",
     "start_time": "2021-12-13T02:24:14.848184Z"
    }
   },
   "outputs": [],
   "source": [
    "G = nx.Graph()"
   ]
  },
  {
   "cell_type": "code",
   "execution_count": 3,
   "metadata": {
    "ExecuteTime": {
     "end_time": "2021-12-13T02:24:23.472847Z",
     "start_time": "2021-12-13T02:24:23.447144Z"
    }
   },
   "outputs": [
    {
     "data": {
      "text/plain": [
       "<networkx.classes.graph.Graph at 0x289afa79cd0>"
      ]
     },
     "execution_count": 3,
     "metadata": {},
     "output_type": "execute_result"
    }
   ],
   "source": [
    "G"
   ]
  },
  {
   "cell_type": "markdown",
   "metadata": {
    "slideshow": {
     "slide_type": "slide"
    }
   },
   "source": [
    "# Nodes\n",
    "Nodes can be almost anything, including numbers, strings, GPS coordinates, you name it."
   ]
  },
  {
   "cell_type": "markdown",
   "metadata": {
    "slideshow": {
     "slide_type": "fragment"
    }
   },
   "source": [
    "Nodes can be added one at a time:"
   ]
  },
  {
   "cell_type": "code",
   "execution_count": 4,
   "metadata": {
    "ExecuteTime": {
     "end_time": "2021-12-13T02:24:53.248338Z",
     "start_time": "2021-12-13T02:24:53.243213Z"
    }
   },
   "outputs": [],
   "source": [
    "G.add_node(0)\n",
    "G.add_node(\"John\")\n",
    "\n",
    "# tuple object representing, say, longitude and latitude\n",
    "pos = (1.2, 3.4) \n",
    "G.add_node(pos)"
   ]
  },
  {
   "cell_type": "markdown",
   "metadata": {
    "slideshow": {
     "slide_type": "fragment"
    }
   },
   "source": [
    "...or many at once from a python container"
   ]
  },
  {
   "cell_type": "code",
   "execution_count": 5,
   "metadata": {
    "ExecuteTime": {
     "end_time": "2021-12-13T02:25:15.727087Z",
     "start_time": "2021-12-13T02:25:15.719686Z"
    }
   },
   "outputs": [],
   "source": [
    "# [1,2,3] is a list containing 1, 2, and 3\n",
    "G.add_nodes_from([1, 2, 3])"
   ]
  },
  {
   "cell_type": "code",
   "execution_count": 6,
   "metadata": {
    "ExecuteTime": {
     "end_time": "2021-12-13T02:25:20.204202Z",
     "start_time": "2021-12-13T02:25:20.197867Z"
    }
   },
   "outputs": [
    {
     "data": {
      "text/plain": [
       "NodeView((0, 'John', (1.2, 3.4), 1, 2, 3))"
      ]
     },
     "execution_count": 6,
     "metadata": {},
     "output_type": "execute_result"
    }
   ],
   "source": [
    "G.nodes"
   ]
  },
  {
   "cell_type": "markdown",
   "metadata": {
    "slideshow": {
     "slide_type": "slide"
    }
   },
   "source": [
    "# Node attributes\n",
    "Nodes can have arbitrary attributes associated with them, contained in a string-index dictionary"
   ]
  },
  {
   "cell_type": "markdown",
   "metadata": {
    "slideshow": {
     "slide_type": "fragment"
    }
   },
   "source": [
    "Adding attributes at the time of node creation using keyword arguments:"
   ]
  },
  {
   "cell_type": "code",
   "execution_count": 7,
   "metadata": {
    "ExecuteTime": {
     "end_time": "2021-12-13T02:25:42.727365Z",
     "start_time": "2021-12-13T02:25:42.718471Z"
    }
   },
   "outputs": [],
   "source": [
    "G.add_node(\"Michael\", eye_color='brown', height=180)"
   ]
  },
  {
   "cell_type": "code",
   "execution_count": 8,
   "metadata": {
    "ExecuteTime": {
     "end_time": "2021-12-13T02:26:09.378138Z",
     "start_time": "2021-12-13T02:26:09.371484Z"
    }
   },
   "outputs": [
    {
     "data": {
      "text/plain": [
       "{'eye_color': 'brown', 'height': 180}"
      ]
     },
     "execution_count": 8,
     "metadata": {},
     "output_type": "execute_result"
    }
   ],
   "source": [
    "G.nodes[\"Michael\"]"
   ]
  },
  {
   "cell_type": "markdown",
   "metadata": {
    "slideshow": {
     "slide_type": "fragment"
    }
   },
   "source": [
    "You can also add attributes to an already existing node"
   ]
  },
  {
   "cell_type": "code",
   "execution_count": 9,
   "metadata": {
    "ExecuteTime": {
     "end_time": "2021-12-13T02:26:30.861697Z",
     "start_time": "2021-12-13T02:26:30.848717Z"
    }
   },
   "outputs": [],
   "source": [
    "G.add_node(\"Natalie\")\n",
    "\n",
    "# add an attribute \"books\" with value 500 to Natalie\n",
    "G.nodes[\"Natalie\"][\"books\"] = 500"
   ]
  },
  {
   "cell_type": "markdown",
   "metadata": {
    "slideshow": {
     "slide_type": "fragment"
    }
   },
   "source": [
    "G.node[n] gives a dictionary containing all the attribute:value pairs associated with node n"
   ]
  },
  {
   "cell_type": "code",
   "execution_count": 10,
   "metadata": {
    "ExecuteTime": {
     "end_time": "2021-12-13T02:27:08.112187Z",
     "start_time": "2021-12-13T02:27:08.105831Z"
    }
   },
   "outputs": [
    {
     "name": "stdout",
     "output_type": "stream",
     "text": [
      "Michael's eyes are  brown  and he is  180  cm tall.\n",
      "Natalie has  500  books.\n"
     ]
    }
   ],
   "source": [
    "print(\"Michael's eyes are \", G.nodes[\"Michael\"][\"eye_color\"], \" and he is \", G.nodes['Michael']['height'], \" cm tall.\")\n",
    "print(\"Natalie has \", G.nodes[\"Natalie\"][\"books\"], \" books.\")"
   ]
  },
  {
   "cell_type": "markdown",
   "metadata": {
    "slideshow": {
     "slide_type": "slide"
    }
   },
   "source": [
    "# Edges\n",
    "\n",
    "An edge between node1 and node2 is represented by a tuple (node1, node2)  \n",
    "They can be added one at a time:"
   ]
  },
  {
   "cell_type": "code",
   "execution_count": 11,
   "metadata": {
    "ExecuteTime": {
     "end_time": "2021-12-13T02:27:19.471617Z",
     "start_time": "2021-12-13T02:27:19.462145Z"
    }
   },
   "outputs": [],
   "source": [
    "# add edge between node 0 and node 1\n",
    "G.add_edge(0, 1)"
   ]
  },
  {
   "cell_type": "markdown",
   "metadata": {},
   "source": [
    "Or many at once from a container"
   ]
  },
  {
   "cell_type": "code",
   "execution_count": 12,
   "metadata": {
    "ExecuteTime": {
     "end_time": "2021-12-13T02:27:56.649164Z",
     "start_time": "2021-12-13T02:27:56.643097Z"
    }
   },
   "outputs": [
    {
     "name": "stdout",
     "output_type": "stream",
     "text": [
      "[0, 'John', (1.2, 3.4), 1, 2, 3, 'Michael', 'Natalie', 4]\n",
      "[(0, 1), (1, 2), (3, 4), ('Michael', 'Natalie')]\n"
     ]
    }
   ],
   "source": [
    "edge_list = [ (2, 1), (\"Michael\", \"Natalie\"), (3, 4) ]\n",
    "G.add_edges_from(edge_list)\n",
    "print(list(G.nodes))\n",
    "print(list(G.edges))"
   ]
  },
  {
   "cell_type": "markdown",
   "metadata": {
    "slideshow": {
     "slide_type": "fragment"
    }
   },
   "source": [
    "**Note:** Nodes will be automatically created if they don't already exist."
   ]
  },
  {
   "cell_type": "markdown",
   "metadata": {
    "slideshow": {
     "slide_type": "slide"
    }
   },
   "source": [
    "# Edge attributes\n",
    "Like nodes, edges can also have arbitrary attributes. An important and special one (for many algorithms) is \"weight\"  \n",
    "\n",
    "The syntax for adding/accessing edge attributes is the similar to that for nodes:"
   ]
  },
  {
   "cell_type": "code",
   "execution_count": 13,
   "metadata": {
    "ExecuteTime": {
     "end_time": "2021-12-13T02:28:35.283719Z",
     "start_time": "2021-12-13T02:28:35.276579Z"
    },
    "slideshow": {
     "slide_type": "fragment"
    }
   },
   "outputs": [
    {
     "data": {
      "text/plain": [
       "{'weight': 10}"
      ]
     },
     "execution_count": 13,
     "metadata": {},
     "output_type": "execute_result"
    }
   ],
   "source": [
    "G.add_edge(\"Michael\", \"Natalie\", weight=10)\n",
    "G[\"Michael\"][\"Natalie\"]"
   ]
  },
  {
   "cell_type": "markdown",
   "metadata": {},
   "source": [
    "`G[node1][node2]` is a dictionary containing all attribute:value pairs associated with the edge from node1 to node2"
   ]
  },
  {
   "cell_type": "code",
   "execution_count": 14,
   "metadata": {
    "ExecuteTime": {
     "end_time": "2021-12-13T02:29:49.185594Z",
     "start_time": "2021-12-13T02:29:49.179746Z"
    }
   },
   "outputs": [
    {
     "name": "stdout",
     "output_type": "stream",
     "text": [
      "[(0, 1), (1, 2), (3, 4), ('Michael', 'Natalie'), ('Copenhagen', 'Aarhus')]\n",
      "186.7\n",
      "{'distance': 186.7}\n"
     ]
    }
   ],
   "source": [
    "G.add_edge(\"Copenhagen\", \"Aarhus\")\n",
    "attrs = {(\"Copenhagen\", \"Aarhus\"): {'distance': 186.7}}\n",
    "nx.set_edge_attributes(G, attrs)\n",
    "\n",
    "print(list(G.edges))\n",
    "print(G[\"Copenhagen\"][\"Aarhus\"]['distance'])\n",
    "print(G.get_edge_data(\"Copenhagen\", \"Aarhus\"))"
   ]
  },
  {
   "cell_type": "markdown",
   "metadata": {
    "slideshow": {
     "slide_type": "slide"
    }
   },
   "source": [
    "# Basic operations"
   ]
  },
  {
   "cell_type": "markdown",
   "metadata": {
    "slideshow": {
     "slide_type": "subslide"
    }
   },
   "source": [
    "### Size of the network"
   ]
  },
  {
   "cell_type": "code",
   "execution_count": 15,
   "metadata": {
    "ExecuteTime": {
     "end_time": "2021-12-13T02:31:45.368812Z",
     "start_time": "2021-12-13T02:31:45.363615Z"
    },
    "slideshow": {
     "slide_type": "-"
    }
   },
   "outputs": [
    {
     "name": "stdout",
     "output_type": "stream",
     "text": [
      "11\n",
      "11\n",
      "5\n",
      "5\n",
      "G has 11 nodes and 5 edges.\n"
     ]
    }
   ],
   "source": [
    "# number of nodes\n",
    "print(G.number_of_nodes())\n",
    "\n",
    "# another way\n",
    "print(len(G))\n",
    "\n",
    "# number of edges\n",
    "print(G.number_of_edges())\n",
    "\n",
    "# another way\n",
    "print(G.size())\n",
    "\n",
    "print(\"G has {0} nodes and {1} edges.\".format(len(G), G.size()))"
   ]
  },
  {
   "cell_type": "markdown",
   "metadata": {
    "slideshow": {
     "slide_type": "subslide"
    }
   },
   "source": [
    "### Testing to see whether nodes or edges exist"
   ]
  },
  {
   "cell_type": "code",
   "execution_count": 16,
   "metadata": {
    "ExecuteTime": {
     "end_time": "2021-12-05T13:56:27.071175Z",
     "start_time": "2021-12-05T13:56:27.062199Z"
    },
    "slideshow": {
     "slide_type": "-"
    }
   },
   "outputs": [
    {
     "data": {
      "text/plain": [
       "True"
      ]
     },
     "execution_count": 16,
     "metadata": {},
     "output_type": "execute_result"
    }
   ],
   "source": [
    "G.has_node(\"Michael\")"
   ]
  },
  {
   "cell_type": "markdown",
   "metadata": {
    "slideshow": {
     "slide_type": "fragment"
    }
   },
   "source": [
    "Another way:"
   ]
  },
  {
   "cell_type": "code",
   "execution_count": 17,
   "metadata": {
    "ExecuteTime": {
     "end_time": "2021-12-05T13:56:29.037334Z",
     "start_time": "2021-12-05T13:56:29.030353Z"
    }
   },
   "outputs": [
    {
     "data": {
      "text/plain": [
       "True"
      ]
     },
     "execution_count": 17,
     "metadata": {},
     "output_type": "execute_result"
    }
   ],
   "source": [
    "\"Natalie\" in G"
   ]
  },
  {
   "cell_type": "markdown",
   "metadata": {
    "slideshow": {
     "slide_type": "fragment"
    }
   },
   "source": [
    "For edges, you must use `has_edge()` (no syntax like `edge in G`)"
   ]
  },
  {
   "cell_type": "code",
   "execution_count": 18,
   "metadata": {
    "ExecuteTime": {
     "end_time": "2021-12-05T13:56:30.529700Z",
     "start_time": "2021-12-05T13:56:30.516766Z"
    },
    "slideshow": {
     "slide_type": "-"
    }
   },
   "outputs": [
    {
     "name": "stdout",
     "output_type": "stream",
     "text": [
      "True\n",
      "False\n"
     ]
    }
   ],
   "source": [
    "print(G.has_edge(3, 4))\n",
    "print(G.has_edge(\"Michael\", 0))"
   ]
  },
  {
   "cell_type": "markdown",
   "metadata": {
    "slideshow": {
     "slide_type": "subslide"
    }
   },
   "source": [
    "### Finding neighbors of a node"
   ]
  },
  {
   "cell_type": "code",
   "execution_count": 19,
   "metadata": {
    "ExecuteTime": {
     "end_time": "2021-12-13T02:33:58.965339Z",
     "start_time": "2021-12-13T02:33:58.960162Z"
    }
   },
   "outputs": [
    {
     "name": "stdout",
     "output_type": "stream",
     "text": [
      "0\n",
      "2\n"
     ]
    }
   ],
   "source": [
    "for node in G.neighbors(1):\n",
    "    print(node)"
   ]
  },
  {
   "cell_type": "code",
   "execution_count": 20,
   "metadata": {
    "ExecuteTime": {
     "end_time": "2021-12-13T02:33:00.413093Z",
     "start_time": "2021-12-13T02:33:00.387071Z"
    },
    "slideshow": {
     "slide_type": "-"
    }
   },
   "outputs": [
    {
     "data": {
      "text/plain": [
       "[0, 2]"
      ]
     },
     "execution_count": 20,
     "metadata": {},
     "output_type": "execute_result"
    }
   ],
   "source": [
    "list(G.neighbors(1))"
   ]
  },
  {
   "cell_type": "markdown",
   "metadata": {
    "slideshow": {
     "slide_type": "subslide"
    }
   },
   "source": [
    "### Iterating over nodes and edges\n",
    "Nodes and edges can be iterated over with `G.nodes()` and `G.edges()` respectively  "
   ]
  },
  {
   "cell_type": "markdown",
   "metadata": {
    "slideshow": {
     "slide_type": "fragment"
    }
   },
   "source": [
    "* In `DiGraph` objects, `G.neighbors(node)` gives the successors of `node`, as does `G.successors(node)`  \n",
    "* Predecessors of `node` can be obtained with `G.predecessors(node)`"
   ]
  },
  {
   "cell_type": "code",
   "execution_count": null,
   "metadata": {
    "ExecuteTime": {
     "end_time": "2021-12-13T02:36:29.617739Z",
     "start_time": "2021-12-13T02:36:29.611381Z"
    }
   },
   "outputs": [],
   "source": []
  },
  {
   "cell_type": "code",
   "execution_count": 21,
   "metadata": {
    "ExecuteTime": {
     "end_time": "2021-12-13T02:37:47.529011Z",
     "start_time": "2021-12-13T02:37:47.524075Z"
    },
    "slideshow": {
     "slide_type": "fragment"
    }
   },
   "outputs": [
    {
     "name": "stdout",
     "output_type": "stream",
     "text": [
      "Node 0\t\t\t: {}\n",
      "Node John\t\t\t: {}\n",
      "Node (1.2, 3.4)\t\t\t: {}\n",
      "Node 1\t\t\t: {}\n",
      "Node 2\t\t\t: {}\n",
      "Node 3\t\t\t: {}\n",
      "Node Michael\t\t\t: {'eye_color': 'brown', 'height': 180}\n",
      "Node Natalie\t\t\t: {'books': 500}\n",
      "Node 4\t\t\t: {}\n",
      "Node Copenhagen\t\t\t: {}\n",
      "Node Aarhus\t\t\t: {}\n"
     ]
    }
   ],
   "source": [
    "for node, data in list(G.nodes(data=True)): # data=True includes node attributes as dictionaries\n",
    "    print(\"Node {0}\\t\\t\\t: {1}\".format(node, data))"
   ]
  },
  {
   "cell_type": "code",
   "execution_count": 22,
   "metadata": {
    "ExecuteTime": {
     "end_time": "2021-12-13T02:38:18.734761Z",
     "start_time": "2021-12-13T02:38:18.729568Z"
    },
    "slideshow": {
     "slide_type": "fragment"
    }
   },
   "outputs": [
    {
     "name": "stdout",
     "output_type": "stream",
     "text": [
      "0 <----> 1: {}\n",
      "1 <----> 2: {}\n",
      "3 <----> 4: {}\n",
      "Michael <----> Natalie: {'weight': 10}\n",
      "Copenhagen <----> Aarhus: {'distance': 186.7}\n"
     ]
    }
   ],
   "source": [
    "for n1, n2, data in list(G.edges(data=True)):\n",
    "    print(\"{0} <----> {1}: {2}\".format(n1, n2, data))"
   ]
  },
  {
   "cell_type": "markdown",
   "metadata": {
    "slideshow": {
     "slide_type": "subslide"
    }
   },
   "source": [
    "### Calculating degrees"
   ]
  },
  {
   "cell_type": "code",
   "execution_count": 23,
   "metadata": {
    "ExecuteTime": {
     "end_time": "2021-12-13T02:39:46.919897Z",
     "start_time": "2021-12-13T02:39:46.914104Z"
    }
   },
   "outputs": [
    {
     "name": "stdout",
     "output_type": "stream",
     "text": [
      "1\n",
      "[(0, 1), ('John', 0), ((1.2, 3.4), 0), (1, 2), (2, 1), (3, 1), ('Michael', 1), ('Natalie', 1), (4, 1), ('Copenhagen', 1), ('Aarhus', 1)]\n",
      "[1, 0, 0, 2, 1, 1, 1, 1, 1, 1, 1]\n"
     ]
    }
   ],
   "source": [
    "# one node\n",
    "print(G.degree(\"Michael\")) # returns an integer\n",
    "\n",
    "# all nodes (returns a dictionary with node : degree pairs for all nodes)\n",
    "print(G.degree())\n",
    "\n",
    "# just the degree sequence\n",
    "degree_sequence = [d for _, d in G.degree()]\n",
    "print(degree_sequence)"
   ]
  },
  {
   "cell_type": "markdown",
   "metadata": {
    "slideshow": {
     "slide_type": "fragment"
    }
   },
   "source": [
    "As you know, in directed graphs (of class `DiGraph`) there are two types of degree. Things work just as you expect\n",
    "* `G.in_degree(node) `\n",
    "* `G.out_degree(node) # same as G.degree()`\n"
   ]
  },
  {
   "cell_type": "markdown",
   "metadata": {
    "slideshow": {
     "slide_type": "slide"
    }
   },
   "source": [
    "# Other operations"
   ]
  },
  {
   "cell_type": "markdown",
   "metadata": {
    "slideshow": {
     "slide_type": "fragment"
    }
   },
   "source": [
    "* ***`subgraph(G, nbunch)` or `G.subgraph(nbunch)`***       \n",
    "subgraph of G induced by nodes in nbunch    \n",
    "\n",
    "* ***`reverse(G)`***       \n",
    "DiGraph with edges reversed \n",
    "\n",
    "* ***`union(G1, G2)`***      \n",
    "graph union    \n",
    "\n",
    "* ***`disjoint_union(G1, G2)`***     \n",
    "same, but treats nodes of G1, G2 as different \n",
    "\n",
    "* ***`intersection(G1, G2)`***      \n",
    "graph with only the edges in common between G1, G2\n",
    "\n",
    "* ***`difference(G1, G2)`***      \n",
    "graph with only the edges G1 that aren't in G2\n",
    "\n",
    "* ***`copy(G)` or `G.copy()`***     \n",
    "copy of G\n",
    "\n",
    "* ***`complement(G)` or `G.complement()`***     \n",
    "the complement graph of G \n",
    "\n",
    "* ***`convert_to_undirected(G)` or `G.to_undirected()`***     \n",
    "undirected version of G (a Graph or MultiGraph)  \n",
    "\n",
    "* ***`convert_to_directed(G)` or `G.to_directed()`***      \n",
    "directed version of G (a DiGraph of MultiDiGraph)\n",
    "\n",
    "* ***`adjacency_matrix(G)`***      \n",
    "adjacency matrix A of G (in sparse matrix format; to get full matrix, use A.toarray() )"
   ]
  },
  {
   "cell_type": "code",
   "execution_count": 24,
   "metadata": {
    "ExecuteTime": {
     "end_time": "2021-12-13T02:42:27.762946Z",
     "start_time": "2021-12-13T02:42:27.758945Z"
    }
   },
   "outputs": [
    {
     "name": "stderr",
     "output_type": "stream",
     "text": [
      "C:\\Windows\\Temp\\ipykernel_18588\\2731642759.py:1: FutureWarning: adjacency_matrix will return a scipy.sparse array instead of a matrix in Networkx 3.0.\n",
      "  mat = nx.adjacency_matrix(G)\n"
     ]
    },
    {
     "ename": "AttributeError",
     "evalue": "module 'scipy.sparse' has no attribute 'coo_array'",
     "output_type": "error",
     "traceback": [
      "\u001b[1;31m---------------------------------------------------------------------------\u001b[0m",
      "\u001b[1;31mAttributeError\u001b[0m                            Traceback (most recent call last)",
      "Input \u001b[1;32mIn [24]\u001b[0m, in \u001b[0;36m<cell line: 1>\u001b[1;34m()\u001b[0m\n\u001b[1;32m----> 1\u001b[0m mat \u001b[38;5;241m=\u001b[39m \u001b[43mnx\u001b[49m\u001b[38;5;241;43m.\u001b[39;49m\u001b[43madjacency_matrix\u001b[49m\u001b[43m(\u001b[49m\u001b[43mG\u001b[49m\u001b[43m)\u001b[49m\n\u001b[0;32m      2\u001b[0m mat\u001b[38;5;241m.\u001b[39mtoarray()\n",
      "File \u001b[1;32mD:\\AppGallery\\python\\lib\\site-packages\\networkx\\linalg\\graphmatrix.py:173\u001b[0m, in \u001b[0;36madjacency_matrix\u001b[1;34m(G, nodelist, dtype, weight)\u001b[0m\n\u001b[0;32m    167\u001b[0m warnings\u001b[38;5;241m.\u001b[39mwarn(\n\u001b[0;32m    168\u001b[0m     \u001b[38;5;124m\"\u001b[39m\u001b[38;5;124madjacency_matrix will return a scipy.sparse array instead of a matrix in Networkx 3.0.\u001b[39m\u001b[38;5;124m\"\u001b[39m,\n\u001b[0;32m    169\u001b[0m     \u001b[38;5;167;01mFutureWarning\u001b[39;00m,\n\u001b[0;32m    170\u001b[0m     stacklevel\u001b[38;5;241m=\u001b[39m\u001b[38;5;241m2\u001b[39m,\n\u001b[0;32m    171\u001b[0m )\n\u001b[0;32m    172\u001b[0m \u001b[38;5;66;03m# TODO: Change to `to_scipy_sparse_array` for networkx 3.0\u001b[39;00m\n\u001b[1;32m--> 173\u001b[0m \u001b[38;5;28;01mreturn\u001b[39;00m \u001b[43mnx\u001b[49m\u001b[38;5;241;43m.\u001b[39;49m\u001b[43mto_scipy_sparse_matrix\u001b[49m\u001b[43m(\u001b[49m\u001b[43mG\u001b[49m\u001b[43m,\u001b[49m\u001b[43m \u001b[49m\u001b[43mnodelist\u001b[49m\u001b[38;5;241;43m=\u001b[39;49m\u001b[43mnodelist\u001b[49m\u001b[43m,\u001b[49m\u001b[43m \u001b[49m\u001b[43mdtype\u001b[49m\u001b[38;5;241;43m=\u001b[39;49m\u001b[43mdtype\u001b[49m\u001b[43m,\u001b[49m\u001b[43m \u001b[49m\u001b[43mweight\u001b[49m\u001b[38;5;241;43m=\u001b[39;49m\u001b[43mweight\u001b[49m\u001b[43m)\u001b[49m\n",
      "File \u001b[1;32mD:\\AppGallery\\python\\lib\\site-packages\\networkx\\convert_matrix.py:1019\u001b[0m, in \u001b[0;36mto_scipy_sparse_matrix\u001b[1;34m(G, nodelist, dtype, weight, format)\u001b[0m\n\u001b[0;32m   1009\u001b[0m \u001b[38;5;28;01mimport\u001b[39;00m \u001b[38;5;21;01mscipy\u001b[39;00m\u001b[38;5;21;01m.\u001b[39;00m\u001b[38;5;21;01msparse\u001b[39;00m\n\u001b[0;32m   1011\u001b[0m warnings\u001b[38;5;241m.\u001b[39mwarn(\n\u001b[0;32m   1012\u001b[0m     (\n\u001b[0;32m   1013\u001b[0m         \u001b[38;5;124m\"\u001b[39m\u001b[38;5;130;01m\\n\u001b[39;00m\u001b[38;5;130;01m\\n\u001b[39;00m\u001b[38;5;124mThe scipy.sparse array containers will be used instead of matrices\u001b[39m\u001b[38;5;130;01m\\n\u001b[39;00m\u001b[38;5;124m\"\u001b[39m\n\u001b[1;32m   (...)\u001b[0m\n\u001b[0;32m   1017\u001b[0m     stacklevel\u001b[38;5;241m=\u001b[39m\u001b[38;5;241m2\u001b[39m,\n\u001b[0;32m   1018\u001b[0m )\n\u001b[1;32m-> 1019\u001b[0m A \u001b[38;5;241m=\u001b[39m \u001b[43mto_scipy_sparse_array\u001b[49m\u001b[43m(\u001b[49m\n\u001b[0;32m   1020\u001b[0m \u001b[43m    \u001b[49m\u001b[43mG\u001b[49m\u001b[43m,\u001b[49m\u001b[43m \u001b[49m\u001b[43mnodelist\u001b[49m\u001b[38;5;241;43m=\u001b[39;49m\u001b[43mnodelist\u001b[49m\u001b[43m,\u001b[49m\u001b[43m \u001b[49m\u001b[43mdtype\u001b[49m\u001b[38;5;241;43m=\u001b[39;49m\u001b[43mdtype\u001b[49m\u001b[43m,\u001b[49m\u001b[43m \u001b[49m\u001b[43mweight\u001b[49m\u001b[38;5;241;43m=\u001b[39;49m\u001b[43mweight\u001b[49m\u001b[43m,\u001b[49m\u001b[43m \u001b[49m\u001b[38;5;28;43mformat\u001b[39;49m\u001b[38;5;241;43m=\u001b[39;49m\u001b[38;5;28;43mformat\u001b[39;49m\n\u001b[0;32m   1021\u001b[0m \u001b[43m\u001b[49m\u001b[43m)\u001b[49m\n\u001b[0;32m   1022\u001b[0m \u001b[38;5;28;01mreturn\u001b[39;00m sp\u001b[38;5;241m.\u001b[39msparse\u001b[38;5;241m.\u001b[39mcsr_matrix(A)\u001b[38;5;241m.\u001b[39masformat(\u001b[38;5;28mformat\u001b[39m)\n",
      "File \u001b[1;32mD:\\AppGallery\\python\\lib\\site-packages\\networkx\\convert_matrix.py:921\u001b[0m, in \u001b[0;36mto_scipy_sparse_array\u001b[1;34m(G, nodelist, dtype, weight, format)\u001b[0m\n\u001b[0;32m    919\u001b[0m         r \u001b[38;5;241m+\u001b[39m\u001b[38;5;241m=\u001b[39m diag_index\n\u001b[0;32m    920\u001b[0m         c \u001b[38;5;241m+\u001b[39m\u001b[38;5;241m=\u001b[39m diag_index\n\u001b[1;32m--> 921\u001b[0m     A \u001b[38;5;241m=\u001b[39m \u001b[43msp\u001b[49m\u001b[38;5;241;43m.\u001b[39;49m\u001b[43msparse\u001b[49m\u001b[38;5;241;43m.\u001b[39;49m\u001b[43mcoo_array\u001b[49m((d, (r, c)), shape\u001b[38;5;241m=\u001b[39m(nlen, nlen), dtype\u001b[38;5;241m=\u001b[39mdtype)\n\u001b[0;32m    922\u001b[0m \u001b[38;5;28;01mtry\u001b[39;00m:\n\u001b[0;32m    923\u001b[0m     \u001b[38;5;28;01mreturn\u001b[39;00m A\u001b[38;5;241m.\u001b[39masformat(\u001b[38;5;28mformat\u001b[39m)\n",
      "\u001b[1;31mAttributeError\u001b[0m: module 'scipy.sparse' has no attribute 'coo_array'"
     ]
    }
   ],
   "source": [
    "mat = nx.adjacency_matrix(G)\n",
    "mat.toarray()"
   ]
  },
  {
   "cell_type": "markdown",
   "metadata": {
    "slideshow": {
     "slide_type": "slide"
    }
   },
   "source": [
    "# Graph I/O\n",
    "\n",
    "Usually you will not be building a network from scratch one node/link at a time. Instead, you will\n",
    "want to read it in from an appropriate data file. NetworkX can understand the following common graph\n",
    "formats:"
   ]
  },
  {
   "cell_type": "markdown",
   "metadata": {},
   "source": [
    "* edge lists\n",
    "* adjacency lists\n",
    "* GML\n",
    "* GEXF\n",
    "* Python 'pickle'\n",
    "* GraphML\n",
    "* Pajek\n",
    "* LEDA\n",
    "* YAML"
   ]
  },
  {
   "cell_type": "markdown",
   "metadata": {
    "slideshow": {
     "slide_type": "fragment"
    }
   },
   "source": [
    "# Getting started: reading in an edge list\n",
    "\n",
    "Read in the file `test.txt` with the following options\n",
    "* lines starting with `#` are treated as comments and ignored  \n",
    "* use a `Graph` object to hold the data (i.e., network is undirected)  \n",
    "* data are separated by whitespace (' ')\n",
    "* nodes should be treated as integers (`int`)\n",
    "* encoding of the text file containing the edge list is utf-8"
   ]
  },
  {
   "cell_type": "code",
   "execution_count": null,
   "metadata": {
    "ExecuteTime": {
     "end_time": "2021-12-13T02:45:55.203035Z",
     "start_time": "2021-12-13T02:45:55.166142Z"
    },
    "slideshow": {
     "slide_type": "-"
    }
   },
   "outputs": [],
   "source": [
    "# read in an edge list from the file 'test.txt'\n",
    "G = nx.read_edgelist('files/test.txt', comments='#',\n",
    "                     create_using=nx.Graph(), \n",
    "                     delimiter=' ', \n",
    "                     nodetype=int, \n",
    "                     encoding='utf-8')"
   ]
  },
  {
   "cell_type": "markdown",
   "metadata": {
    "slideshow": {
     "slide_type": "fragment"
    }
   },
   "source": [
    "### Allowed formats\n",
    "* Node pairs with no data  \n",
    "`1 2`\n",
    "* Node pairs with python dictionary  \n",
    "`1 2 {weight:7, color:\"green\"}`"
   ]
  },
  {
   "cell_type": "markdown",
   "metadata": {
    "slideshow": {
     "slide_type": "slide"
    }
   },
   "source": [
    "# Basic analysis\n",
    "A large number of basic analyses can be done in one line using NetworkX + numpy or builtin python functions like `min`, `max`, etc."
   ]
  },
  {
   "cell_type": "code",
   "execution_count": null,
   "metadata": {
    "ExecuteTime": {
     "end_time": "2021-12-13T02:49:00.331151Z",
     "start_time": "2021-12-13T02:49:00.325726Z"
    },
    "slideshow": {
     "slide_type": "-"
    }
   },
   "outputs": [],
   "source": [
    "N = len(G)\n",
    "L = G.size()\n",
    "degrees = [d for _, d in G.degree()]\n",
    "kmin = min(degrees)\n",
    "kmax = max(degrees)"
   ]
  },
  {
   "cell_type": "code",
   "execution_count": null,
   "metadata": {
    "ExecuteTime": {
     "end_time": "2021-12-13T02:46:49.358040Z",
     "start_time": "2021-12-13T02:46:49.350979Z"
    },
    "slideshow": {
     "slide_type": "fragment"
    }
   },
   "outputs": [],
   "source": [
    "print(\"Number of nodes: \", N)\n",
    "print(\"Number of edges: \", L)\n",
    "print()\n",
    "print(\"Average degree: \", 2*L/N)\n",
    "print(\"Average degree (alternate calculation)\", np.mean(degrees))\n",
    "print()\n",
    "print(\"Minimum degree: \", kmin)\n",
    "print(\"Maximum degree: \", kmax)"
   ]
  },
  {
   "cell_type": "markdown",
   "metadata": {
    "slideshow": {
     "slide_type": "slide"
    }
   },
   "source": [
    "# Drawing the network\n",
    "* NetworkX can draw networks using a large number of layout algorithms  \n",
    "* The results are not as pretty as Gephi, but NetworkX is better for a quick 'n dirty visualization and\n",
    "gives you finer-grained control over the layout."
   ]
  },
  {
   "cell_type": "code",
   "execution_count": null,
   "metadata": {
    "ExecuteTime": {
     "end_time": "2021-12-13T02:47:01.975889Z",
     "start_time": "2021-12-13T02:47:01.342656Z"
    },
    "slideshow": {
     "slide_type": "subslide"
    }
   },
   "outputs": [],
   "source": [
    "# using the force-based or \"spring\" layout algorithm\n",
    "fig = plt.figure(figsize=(8,8))\n",
    "nx.draw_spring(G, node_size=30, )"
   ]
  },
  {
   "cell_type": "code",
   "execution_count": null,
   "metadata": {
    "ExecuteTime": {
     "end_time": "2021-12-13T02:47:29.217916Z",
     "start_time": "2021-12-13T02:47:28.978981Z"
    },
    "slideshow": {
     "slide_type": "subslide"
    }
   },
   "outputs": [],
   "source": [
    "# using the fcircular layout algorithm\n",
    "fig = plt.figure(figsize=(8,8))\n",
    "nx.draw_circular(G, node_size=30)"
   ]
  },
  {
   "cell_type": "markdown",
   "metadata": {
    "slideshow": {
     "slide_type": "slide"
    }
   },
   "source": [
    "# Plotting the degree distribution"
   ]
  },
  {
   "cell_type": "markdown",
   "metadata": {
    "slideshow": {
     "slide_type": "fragment"
    }
   },
   "source": [
    "Let's plot it in log scale first with log-binning, using `np.logspace` and `np.histogram`:"
   ]
  },
  {
   "cell_type": "code",
   "execution_count": 25,
   "metadata": {
    "ExecuteTime": {
     "end_time": "2021-12-13T02:49:11.028789Z",
     "start_time": "2021-12-13T02:49:10.281965Z"
    }
   },
   "outputs": [
    {
     "ename": "NameError",
     "evalue": "name 'kmin' is not defined",
     "output_type": "error",
     "traceback": [
      "\u001b[1;31m---------------------------------------------------------------------------\u001b[0m",
      "\u001b[1;31mNameError\u001b[0m                                 Traceback (most recent call last)",
      "Input \u001b[1;32mIn [25]\u001b[0m, in \u001b[0;36m<cell line: 4>\u001b[1;34m()\u001b[0m\n\u001b[0;32m      1\u001b[0m fig \u001b[38;5;241m=\u001b[39m plt\u001b[38;5;241m.\u001b[39mfigure(figsize\u001b[38;5;241m=\u001b[39m(\u001b[38;5;241m8\u001b[39m, \u001b[38;5;241m6\u001b[39m))\n\u001b[0;32m      2\u001b[0m axes \u001b[38;5;241m=\u001b[39m fig\u001b[38;5;241m.\u001b[39madd_axes([\u001b[38;5;241m0\u001b[39m, \u001b[38;5;241m0\u001b[39m, \u001b[38;5;241m1\u001b[39m, \u001b[38;5;241m1\u001b[39m])\n\u001b[1;32m----> 4\u001b[0m logbins \u001b[38;5;241m=\u001b[39m np\u001b[38;5;241m.\u001b[39mlogspace(np\u001b[38;5;241m.\u001b[39mlog10(\u001b[43mkmin\u001b[49m), np\u001b[38;5;241m.\u001b[39mlog10(kmax), num\u001b[38;5;241m=\u001b[39m\u001b[38;5;241m10\u001b[39m)\n\u001b[0;32m      5\u001b[0m h, binedges \u001b[38;5;241m=\u001b[39m np\u001b[38;5;241m.\u001b[39mhistogram(degrees,  bins\u001b[38;5;241m=\u001b[39mlogbins, density\u001b[38;5;241m=\u001b[39m\u001b[38;5;28;01mTrue\u001b[39;00m) \u001b[38;5;66;03m# We use np.histogram to make the binning calculations. Plotting is done with axes.plot below.\u001b[39;00m\n\u001b[0;32m      6\u001b[0m binmidpoints \u001b[38;5;241m=\u001b[39m (binedges[\u001b[38;5;241m1\u001b[39m:] \u001b[38;5;241m+\u001b[39m binedges[:\u001b[38;5;241m-\u001b[39m\u001b[38;5;241m1\u001b[39m]) \u001b[38;5;241m/\u001b[39m \u001b[38;5;241m2\u001b[39m\n",
      "\u001b[1;31mNameError\u001b[0m: name 'kmin' is not defined"
     ]
    },
    {
     "data": {
      "image/png": "[encoded data removed]",
      "text/plain": [
       "<Figure size 576x432 with 1 Axes>"
      ]
     },
     "metadata": {
      "needs_background": "light"
     },
     "output_type": "display_data"
    }
   ],
   "source": [
    "fig = plt.figure(figsize=(8, 6))\n",
    "axes = fig.add_axes([0, 0, 1, 1])\n",
    "\n",
    "logbins = np.logspace(np.log10(kmin), np.log10(kmax), num=10)\n",
    "h, binedges = np.histogram(degrees,  bins=logbins, density=True) # We use np.histogram to make the binning calculations. Plotting is done with axes.plot below.\n",
    "binmidpoints = (binedges[1:] + binedges[:-1]) / 2\n",
    "\n",
    "axes.plot(binmidpoints, h, \"o\")\n",
    "axes.set_xlabel(\"Degree k\")\n",
    "axes.set_ylabel(\"P(x)\")\n",
    "axes.set_xscale('log') \n",
    "axes.set_yscale('log') "
   ]
  },
  {
   "cell_type": "code",
   "execution_count": null,
   "metadata": {
    "ExecuteTime": {
     "end_time": "2021-12-13T02:52:44.500972Z",
     "start_time": "2021-12-13T02:52:44.489856Z"
    }
   },
   "outputs": [],
   "source": [
    "degrees"
   ]
  },
  {
   "cell_type": "markdown",
   "metadata": {
    "slideshow": {
     "slide_type": "fragment"
    }
   },
   "source": [
    "This is clearly not a network with anything like a heavy-tailed degree distribution.\n",
    "So let's plot it in linear scale without any binning:"
   ]
  },
  {
   "cell_type": "code",
   "execution_count": 26,
   "metadata": {
    "ExecuteTime": {
     "end_time": "2021-12-13T02:49:59.456936Z",
     "start_time": "2021-12-13T02:49:59.270484Z"
    }
   },
   "outputs": [
    {
     "name": "stdout",
     "output_type": "stream",
     "text": [
      "Counter({1: 8, 0: 2, 2: 1})\n",
      "dict_items([(1, 0.7272727272727273), (0, 0.18181818181818182), (2, 0.09090909090909091)])\n"
     ]
    },
    {
     "data": {
      "image/png": "[encoded data removed]",
      "text/plain": [
       "<Figure size 288x216 with 1 Axes>"
      ]
     },
     "metadata": {
      "needs_background": "light"
     },
     "output_type": "display_data"
    }
   ],
   "source": [
    "fig = plt.figure(figsize=(4, 3))\n",
    "axes = fig.add_axes([0, 0, 1, 1])\n",
    "\n",
    "# See: https://networkx.github.io/documentation/stable/auto_examples/drawing/plot_degree_histogram.html\n",
    "from collections import Counter\n",
    "degree_sequence = [d for _, d in G.degree()]  # degree sequence\n",
    "degreeCount = Counter(degree_sequence)\n",
    "print(degreeCount) # print for teaching\n",
    "\n",
    "# Normalize\n",
    "total = sum(degreeCount.values())\n",
    "for key in degreeCount:\n",
    "    degreeCount[key] /= total\n",
    "print(degreeCount.items()) # print for teaching\n",
    "    \n",
    "deg, prob = zip(*degreeCount.items()) # unpacks the first tuple elements into deg, unpacks the second tuple elements into prob\n",
    "\n",
    "\n",
    "axes.plot(deg, prob, \"o\")\n",
    "axes.set_xlabel(\"Degree k\")\n",
    "axes.set_ylabel(\"P(k)\");"
   ]
  },
  {
   "cell_type": "markdown",
   "metadata": {},
   "source": [
    "# node importance\n",
    "\n",
    "`nx.centrality.betweenness_centrality()`\n",
    "\n",
    "`nx.centrality.degree_centrality()`\n",
    "\n",
    "`nx.centrality.closeness_centrality()`\n",
    "\n",
    "`nx.pagerank()`"
   ]
  },
  {
   "cell_type": "code",
   "execution_count": 27,
   "metadata": {
    "ExecuteTime": {
     "end_time": "2021-12-13T02:55:05.167269Z",
     "start_time": "2021-12-13T02:55:05.046634Z"
    },
    "scrolled": true
   },
   "outputs": [
    {
     "ename": "AttributeError",
     "evalue": "module 'scipy.sparse' has no attribute 'coo_array'",
     "output_type": "error",
     "traceback": [
      "\u001b[1;31m---------------------------------------------------------------------------\u001b[0m",
      "\u001b[1;31mAttributeError\u001b[0m                            Traceback (most recent call last)",
      "Input \u001b[1;32mIn [27]\u001b[0m, in \u001b[0;36m<cell line: 1>\u001b[1;34m()\u001b[0m\n\u001b[1;32m----> 1\u001b[0m \u001b[43mnx\u001b[49m\u001b[38;5;241;43m.\u001b[39;49m\u001b[43mpagerank\u001b[49m\u001b[43m(\u001b[49m\u001b[43mG\u001b[49m\u001b[43m)\u001b[49m\n",
      "File \u001b[1;32mD:\\AppGallery\\python\\lib\\site-packages\\networkx\\algorithms\\link_analysis\\pagerank_alg.py:108\u001b[0m, in \u001b[0;36mpagerank\u001b[1;34m(G, alpha, personalization, max_iter, tol, nstart, weight, dangling)\u001b[0m\n\u001b[0;32m      9\u001b[0m \u001b[38;5;28;01mdef\u001b[39;00m \u001b[38;5;21mpagerank\u001b[39m(\n\u001b[0;32m     10\u001b[0m     G,\n\u001b[0;32m     11\u001b[0m     alpha\u001b[38;5;241m=\u001b[39m\u001b[38;5;241m0.85\u001b[39m,\n\u001b[1;32m   (...)\u001b[0m\n\u001b[0;32m     17\u001b[0m     dangling\u001b[38;5;241m=\u001b[39m\u001b[38;5;28;01mNone\u001b[39;00m,\n\u001b[0;32m     18\u001b[0m ):\n\u001b[0;32m     19\u001b[0m     \u001b[38;5;124;03m\"\"\"Returns the PageRank of the nodes in the graph.\u001b[39;00m\n\u001b[0;32m     20\u001b[0m \n\u001b[0;32m     21\u001b[0m \u001b[38;5;124;03m    PageRank computes a ranking of the nodes in the graph G based on\u001b[39;00m\n\u001b[1;32m   (...)\u001b[0m\n\u001b[0;32m    106\u001b[0m \n\u001b[0;32m    107\u001b[0m \u001b[38;5;124;03m    \"\"\"\u001b[39;00m\n\u001b[1;32m--> 108\u001b[0m     \u001b[38;5;28;01mreturn\u001b[39;00m \u001b[43mpagerank_scipy\u001b[49m\u001b[43m(\u001b[49m\n\u001b[0;32m    109\u001b[0m \u001b[43m        \u001b[49m\u001b[43mG\u001b[49m\u001b[43m,\u001b[49m\u001b[43m \u001b[49m\u001b[43malpha\u001b[49m\u001b[43m,\u001b[49m\u001b[43m \u001b[49m\u001b[43mpersonalization\u001b[49m\u001b[43m,\u001b[49m\u001b[43m \u001b[49m\u001b[43mmax_iter\u001b[49m\u001b[43m,\u001b[49m\u001b[43m \u001b[49m\u001b[43mtol\u001b[49m\u001b[43m,\u001b[49m\u001b[43m \u001b[49m\u001b[43mnstart\u001b[49m\u001b[43m,\u001b[49m\u001b[43m \u001b[49m\u001b[43mweight\u001b[49m\u001b[43m,\u001b[49m\u001b[43m \u001b[49m\u001b[43mdangling\u001b[49m\n\u001b[0;32m    110\u001b[0m \u001b[43m    \u001b[49m\u001b[43m)\u001b[49m\n",
      "File \u001b[1;32mD:\\AppGallery\\python\\lib\\site-packages\\networkx\\algorithms\\link_analysis\\pagerank_alg.py:469\u001b[0m, in \u001b[0;36mpagerank_scipy\u001b[1;34m(G, alpha, personalization, max_iter, tol, nstart, weight, dangling)\u001b[0m\n\u001b[0;32m    466\u001b[0m     \u001b[38;5;28;01mreturn\u001b[39;00m {}\n\u001b[0;32m    468\u001b[0m nodelist \u001b[38;5;241m=\u001b[39m \u001b[38;5;28mlist\u001b[39m(G)\n\u001b[1;32m--> 469\u001b[0m A \u001b[38;5;241m=\u001b[39m \u001b[43mnx\u001b[49m\u001b[38;5;241;43m.\u001b[39;49m\u001b[43mto_scipy_sparse_array\u001b[49m\u001b[43m(\u001b[49m\u001b[43mG\u001b[49m\u001b[43m,\u001b[49m\u001b[43m \u001b[49m\u001b[43mnodelist\u001b[49m\u001b[38;5;241;43m=\u001b[39;49m\u001b[43mnodelist\u001b[49m\u001b[43m,\u001b[49m\u001b[43m \u001b[49m\u001b[43mweight\u001b[49m\u001b[38;5;241;43m=\u001b[39;49m\u001b[43mweight\u001b[49m\u001b[43m,\u001b[49m\u001b[43m \u001b[49m\u001b[43mdtype\u001b[49m\u001b[38;5;241;43m=\u001b[39;49m\u001b[38;5;28;43mfloat\u001b[39;49m\u001b[43m)\u001b[49m\n\u001b[0;32m    470\u001b[0m S \u001b[38;5;241m=\u001b[39m A\u001b[38;5;241m.\u001b[39msum(axis\u001b[38;5;241m=\u001b[39m\u001b[38;5;241m1\u001b[39m)\n\u001b[0;32m    471\u001b[0m S[S \u001b[38;5;241m!=\u001b[39m \u001b[38;5;241m0\u001b[39m] \u001b[38;5;241m=\u001b[39m \u001b[38;5;241m1.0\u001b[39m \u001b[38;5;241m/\u001b[39m S[S \u001b[38;5;241m!=\u001b[39m \u001b[38;5;241m0\u001b[39m]\n",
      "File \u001b[1;32mD:\\AppGallery\\python\\lib\\site-packages\\networkx\\convert_matrix.py:921\u001b[0m, in \u001b[0;36mto_scipy_sparse_array\u001b[1;34m(G, nodelist, dtype, weight, format)\u001b[0m\n\u001b[0;32m    919\u001b[0m         r \u001b[38;5;241m+\u001b[39m\u001b[38;5;241m=\u001b[39m diag_index\n\u001b[0;32m    920\u001b[0m         c \u001b[38;5;241m+\u001b[39m\u001b[38;5;241m=\u001b[39m diag_index\n\u001b[1;32m--> 921\u001b[0m     A \u001b[38;5;241m=\u001b[39m \u001b[43msp\u001b[49m\u001b[38;5;241;43m.\u001b[39;49m\u001b[43msparse\u001b[49m\u001b[38;5;241;43m.\u001b[39;49m\u001b[43mcoo_array\u001b[49m((d, (r, c)), shape\u001b[38;5;241m=\u001b[39m(nlen, nlen), dtype\u001b[38;5;241m=\u001b[39mdtype)\n\u001b[0;32m    922\u001b[0m \u001b[38;5;28;01mtry\u001b[39;00m:\n\u001b[0;32m    923\u001b[0m     \u001b[38;5;28;01mreturn\u001b[39;00m A\u001b[38;5;241m.\u001b[39masformat(\u001b[38;5;28mformat\u001b[39m)\n",
      "\u001b[1;31mAttributeError\u001b[0m: module 'scipy.sparse' has no attribute 'coo_array'"
     ]
    }
   ],
   "source": [
    "nx.pagerank(G)"
   ]
  },
  {
   "cell_type": "markdown",
   "metadata": {},
   "source": [
    "# Network visualization with Netwulf\n",
    "\n",
    "It's a very new package (right now version v0.1.5) developed by Ben Maier and Ulf Aslak, so use with caution: https://pypi.org/project/netwulf/\n",
    "\n",
    "That being said, many people are already using it because of its easy controls and Jupyter notebook integration.\n",
    "Install: `pip install netwulf`"
   ]
  },
  {
   "cell_type": "code",
   "execution_count": 28,
   "metadata": {
    "ExecuteTime": {
     "end_time": "2022-12-05T03:15:13.280644Z",
     "start_time": "2022-12-05T03:15:01.736534Z"
    }
   },
   "outputs": [],
   "source": [
    "#!pip install netwulf"
   ]
  },
  {
   "cell_type": "code",
   "execution_count": 29,
   "metadata": {
    "ExecuteTime": {
     "end_time": "2022-12-05T03:20:25.868700Z",
     "start_time": "2022-12-05T03:15:26.234818Z"
    }
   },
   "outputs": [
    {
     "ename": "ModuleNotFoundError",
     "evalue": "No module named 'netwulf'",
     "output_type": "error",
     "traceback": [
      "\u001b[1;31m---------------------------------------------------------------------------\u001b[0m",
      "\u001b[1;31mModuleNotFoundError\u001b[0m                       Traceback (most recent call last)",
      "Input \u001b[1;32mIn [29]\u001b[0m, in \u001b[0;36m<cell line: 1>\u001b[1;34m()\u001b[0m\n\u001b[1;32m----> 1\u001b[0m \u001b[38;5;28;01mimport\u001b[39;00m \u001b[38;5;21;01mnetwulf\u001b[39;00m \u001b[38;5;28;01mas\u001b[39;00m \u001b[38;5;21;01mwulf\u001b[39;00m\n\u001b[0;32m      3\u001b[0m G \u001b[38;5;241m=\u001b[39m nx\u001b[38;5;241m.\u001b[39mbarabasi_albert_graph(\u001b[38;5;241m100\u001b[39m,m\u001b[38;5;241m=\u001b[39m\u001b[38;5;241m1\u001b[39m)\n\u001b[0;32m      4\u001b[0m stylized_network, config \u001b[38;5;241m=\u001b[39m wulf\u001b[38;5;241m.\u001b[39mvisualize(G)\n",
      "\u001b[1;31mModuleNotFoundError\u001b[0m: No module named 'netwulf'"
     ]
    }
   ],
   "source": [
    "import netwulf as wulf\n",
    "\n",
    "G = nx.barabasi_albert_graph(100,m=1)\n",
    "stylized_network, config = wulf.visualize(G)"
   ]
  },
  {
   "cell_type": "code",
   "execution_count": null,
   "metadata": {},
   "outputs": [],
   "source": []
  },
  {
   "cell_type": "markdown",
   "metadata": {},
   "source": [
    "# The End\n",
    "\n",
    "**Source**\n",
    "\n",
    "This notebook was adapted from:\n",
    "* A network science class by Sean Cornelius and Emma Thompson\n",
    "* Introduction to Data Science and Visualization by James Bagrow\n",
    "* Introduction to Data Science by Michael Szell"
   ]
  },
  {
   "cell_type": "code",
   "execution_count": null,
   "metadata": {},
   "outputs": [],
   "source": []
  },
  {
   "cell_type": "code",
   "execution_count": null,
   "metadata": {},
   "outputs": [],
   "source": []
  },
  {
   "cell_type": "code",
   "execution_count": null,
   "metadata": {},
   "outputs": [],
   "source": []
  },
  {
   "cell_type": "code",
   "execution_count": null,
   "metadata": {},
   "outputs": [],
   "source": []
  },
  {
   "cell_type": "code",
   "execution_count": null,
   "metadata": {},
   "outputs": [],
   "source": []
  },
  {
   "cell_type": "code",
   "execution_count": null,
   "metadata": {},
   "outputs": [],
   "source": []
  },
  {
   "cell_type": "code",
   "execution_count": null,
   "metadata": {},
   "outputs": [],
   "source": []
  },
  {
   "cell_type": "code",
   "execution_count": null,
   "metadata": {},
   "outputs": [],
   "source": []
  }
 ],
 "metadata": {
  "celltoolbar": "Slideshow",
  "kernelspec": {
   "display_name": "Python 3 (ipykernel)",
   "language": "python",
   "name": "python3"
  },
  "language_info": {
   "codemirror_mode": {
    "name": "ipython",
    "version": 3
   },
   "file_extension": ".py",
   "mimetype": "text/x-python",
   "name": "python",
   "nbconvert_exporter": "python",
   "pygments_lexer": "ipython3",
   "version": "3.9.12"
  },
  "toc": {
   "base_numbering": 1,
   "nav_menu": {},
   "number_sections": true,
   "sideBar": true,
   "skip_h1_title": false,
   "title_cell": "Table of Contents",
   "title_sidebar": "Contents",
   "toc_cell": false,
   "toc_position": {},
   "toc_section_display": true,
   "toc_window_display": false
  }
 },
 "nbformat": 4,
 "nbformat_minor": 1
}
