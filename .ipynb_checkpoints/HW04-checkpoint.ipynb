{
 "cells": [
  {
   "cell_type": "markdown",
   "id": "2cf67291",
   "metadata": {},
   "source": [
    "<div style=\"text-align: center; font-size: 25pt\"> Homework 4 </div>"
   ]
  },
  {
   "cell_type": "markdown",
   "id": "f748b344",
   "metadata": {},
   "source": [
    "# load packages"
   ]
  },
  {
   "cell_type": "code",
   "execution_count": 1,
   "id": "fc8651a9",
   "metadata": {
    "ExecuteTime": {
     "end_time": "2021-11-08T08:58:38.595596Z",
     "start_time": "2021-11-08T08:58:38.430523Z"
    }
   },
   "outputs": [],
   "source": [
    "# packages\n",
    "import numpy as np\n",
    "import pandas as pd\n",
    "import matplotlib.pyplot as plt\n",
    "%matplotlib inline  \n",
    "import scipy.stats as stats\n",
    "# you may add more if you need"
   ]
  },
  {
   "cell_type": "markdown",
   "id": "ad87776d",
   "metadata": {},
   "source": [
    "# Data Relationships"
   ]
  },
  {
   "cell_type": "markdown",
   "id": "f1eac779",
   "metadata": {},
   "source": [
    "<font color='red'>**Question:**</font>  Load the ``insurance.csv`` dataset."
   ]
  },
  {
   "cell_type": "code",
   "execution_count": null,
   "id": "b45e16b1",
   "metadata": {
    "ExecuteTime": {
     "end_time": "2021-11-08T06:48:09.800336Z",
     "start_time": "2021-11-08T06:48:09.768333Z"
    }
   },
   "outputs": [],
   "source": [
    "# load the insurance data\n",
    "insurance  =  pd.read_csv('files/demographics.csv') \n",
    "print (insurance.shape)\n",
    "insurance.head()"
   ]
  },
  {
   "cell_type": "markdown",
   "id": "ebede282",
   "metadata": {},
   "source": [
    "## Do younger people smoker less?"
   ]
  },
  {
   "cell_type": "markdown",
   "id": "fcb85a9b",
   "metadata": {},
   "source": [
    "<font color='red'>**Question:**</font>  Create a new dummy variable called ``younger`` which split the observations into 2 groups based on age. 1 for people with age <=25; 0 for others.\n",
    "\n"
   ]
  },
  {
   "cell_type": "code",
   "execution_count": null,
   "id": "6b43718c",
   "metadata": {},
   "outputs": [],
   "source": []
  },
  {
   "cell_type": "markdown",
   "id": "3fdef01b",
   "metadata": {},
   "source": [
    "<font color='red'>**Question:**</font> For female and male person respectively, what's the percentage of smokers for younger and older persons?\n",
    "i.e., make a datafram like this:\n",
    "\n",
    "| sex | younger | %smoker |\n",
    "|:---:|:-------:|:-------:|\n",
    "|  F  | 1       |         |\n",
    "|  F  | 0       |         |\n",
    "|  M  | 1       |         |\n",
    "|  M  | 0       |         |"
   ]
  },
  {
   "cell_type": "code",
   "execution_count": null,
   "id": "5f4b61ce",
   "metadata": {},
   "outputs": [],
   "source": []
  },
  {
   "cell_type": "markdown",
   "id": "0a232032",
   "metadata": {},
   "source": [
    "## For younger people, the health charges of smokers and non-smokers differ or not?"
   ]
  },
  {
   "cell_type": "markdown",
   "id": "e1261895",
   "metadata": {},
   "source": [
    "<font color='red'>**Question:**</font> Just for younger persons, make two boxplots in one plot to show the charges for smokers and non-smokers. "
   ]
  },
  {
   "cell_type": "code",
   "execution_count": null,
   "id": "f1d5965a",
   "metadata": {
    "ExecuteTime": {
     "end_time": "2021-11-08T08:59:06.419419Z",
     "start_time": "2021-11-08T08:59:06.243415Z"
    }
   },
   "outputs": [],
   "source": []
  },
  {
   "cell_type": "markdown",
   "id": "00dfd9c6",
   "metadata": {},
   "source": [
    "## age v.s. charges for non-smokers"
   ]
  },
  {
   "cell_type": "markdown",
   "id": "94fb2980",
   "metadata": {},
   "source": [
    "<font color='red'>**Question:**</font> For non-smokers, make a scatterplot to show the correlation between ``age`` and ``charges``, add a linear line to represent the relationship (hint: using ``stats.linregress``)"
   ]
  },
  {
   "cell_type": "code",
   "execution_count": null,
   "id": "9d926f84",
   "metadata": {},
   "outputs": [],
   "source": []
  },
  {
   "cell_type": "markdown",
   "id": "2fac790f",
   "metadata": {},
   "source": [
    "<font color='red'>**Question:**</font> For smokers, make a scatterplot to show the correlation between ``age`` and ``charges``, add a linear line to represent the relationship (hint: using ``stats.linregress``)"
   ]
  },
  {
   "cell_type": "code",
   "execution_count": null,
   "id": "421efcc5",
   "metadata": {},
   "outputs": [],
   "source": []
  },
  {
   "cell_type": "markdown",
   "id": "5b112390",
   "metadata": {},
   "source": [
    "<font color='red'>**Question:**</font> Using different colors for smokers and non-smokers, make scatterplots to show the correlation between ``age`` and ``charges``, add linear lines to represent the relationship respectively."
   ]
  },
  {
   "cell_type": "code",
   "execution_count": null,
   "id": "9430f5a2",
   "metadata": {},
   "outputs": [],
   "source": []
  },
  {
   "cell_type": "markdown",
   "id": "21a6a1b0",
   "metadata": {},
   "source": [
    "<font color='red'>**Question:**</font> What you can conclude from the above analysis?"
   ]
  },
  {
   "cell_type": "markdown",
   "id": "e77169a2",
   "metadata": {},
   "source": [
    "---"
   ]
  },
  {
   "cell_type": "markdown",
   "id": "a9f80ec9",
   "metadata": {},
   "source": [
    "# pandas groupby and merge"
   ]
  },
  {
   "cell_type": "markdown",
   "id": "141332bc",
   "metadata": {},
   "source": [
    "<font color='red'>**Question:**</font> Load the ``state_population.csv``, ``state_areas.csv`` and the ``state_abbrevs.csv`` in the following three cells."
   ]
  },
  {
   "cell_type": "code",
   "execution_count": null,
   "id": "25a3e38e",
   "metadata": {},
   "outputs": [],
   "source": [
    "# load the state_population here\n",
    "state_population = ...\n",
    "\n",
    "state_population.head()"
   ]
  },
  {
   "cell_type": "code",
   "execution_count": null,
   "id": "0e1ba591",
   "metadata": {},
   "outputs": [],
   "source": [
    "# load the state_areas here\n",
    "state_areas = ...\n",
    "\n",
    "state_areas.head()"
   ]
  },
  {
   "cell_type": "code",
   "execution_count": null,
   "id": "b71a6fdc",
   "metadata": {},
   "outputs": [],
   "source": [
    "# load the state_abbrevs here\n",
    "state_abbrev = ...\n",
    "\n",
    "state_abbrev.head()"
   ]
  },
  {
   "cell_type": "markdown",
   "id": "2c139593",
   "metadata": {},
   "source": [
    "<font color='red'>**Question:**</font> Rank US ***states with full name*** by their 2010 population density. \n",
    "\n",
    "Note: \n",
    "1. Here the population density is the total population devided by area.\n",
    "1. You need to take care of missing values when merging data. In case of missing values, just drop them.\n",
    "1. The total population is the population with ``ages`` equals to ``total``."
   ]
  },
  {
   "cell_type": "code",
   "execution_count": null,
   "id": "52909627",
   "metadata": {},
   "outputs": [],
   "source": []
  },
  {
   "cell_type": "markdown",
   "id": "e27a019f",
   "metadata": {},
   "source": [
    "<font color='red'>**Question:**</font> Based on the above merged table, calculate the average and standard deviations of population density for each states."
   ]
  },
  {
   "cell_type": "code",
   "execution_count": null,
   "id": "2fb3f159",
   "metadata": {},
   "outputs": [],
   "source": []
  },
  {
   "cell_type": "markdown",
   "id": "2e4ed79b",
   "metadata": {},
   "source": [
    "# The end"
   ]
  }
 ],
 "metadata": {
  "kernelspec": {
   "display_name": "Python 3 (ipykernel)",
   "language": "python",
   "name": "python3"
  },
  "language_info": {
   "codemirror_mode": {
    "name": "ipython",
    "version": 3
   },
   "file_extension": ".py",
   "mimetype": "text/x-python",
   "name": "python",
   "nbconvert_exporter": "python",
   "pygments_lexer": "ipython3",
   "version": "3.9.12"
  },
  "toc": {
   "base_numbering": 1,
   "nav_menu": {},
   "number_sections": true,
   "sideBar": true,
   "skip_h1_title": false,
   "title_cell": "Table of Contents",
   "title_sidebar": "Contents",
   "toc_cell": false,
   "toc_position": {},
   "toc_section_display": true,
   "toc_window_display": false
  }
 },
 "nbformat": 4,
 "nbformat_minor": 5
}
