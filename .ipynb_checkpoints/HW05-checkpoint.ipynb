{
 "cells": [
  {
   "cell_type": "markdown",
   "id": "d7c09735",
   "metadata": {},
   "source": [
    "<div style=\"text-align: center; font-size: 25pt\"> Homework 5 </div>"
   ]
  },
  {
   "cell_type": "markdown",
   "id": "95ad0285",
   "metadata": {},
   "source": [
    "# load package"
   ]
  },
  {
   "cell_type": "code",
   "execution_count": 1,
   "id": "0fbb73c4",
   "metadata": {
    "ExecuteTime": {
     "end_time": "2021-11-22T12:18:01.966766Z",
     "start_time": "2021-11-22T12:18:01.957786Z"
    }
   },
   "outputs": [],
   "source": [
    "# packages\n",
    "import numpy as np\n",
    "import pandas as pd\n",
    "import matplotlib.pyplot as plt\n",
    "%matplotlib inline  \n",
    "\n",
    "# you may add more if you need"
   ]
  },
  {
   "cell_type": "markdown",
   "id": "bfd6f749",
   "metadata": {},
   "source": [
    "# Skewed data"
   ]
  },
  {
   "cell_type": "code",
   "execution_count": 2,
   "id": "3d59b3cd",
   "metadata": {
    "ExecuteTime": {
     "end_time": "2021-11-22T12:05:35.609911Z",
     "start_time": "2021-11-22T12:05:35.256913Z"
    }
   },
   "outputs": [
    {
     "name": "stdout",
     "output_type": "stream",
     "text": [
      "(215464, 4)\n"
     ]
    },
    {
     "data": {
      "text/html": [
       "<div>\n",
       "<style scoped>\n",
       "    .dataframe tbody tr th:only-of-type {\n",
       "        vertical-align: middle;\n",
       "    }\n",
       "\n",
       "    .dataframe tbody tr th {\n",
       "        vertical-align: top;\n",
       "    }\n",
       "\n",
       "    .dataframe thead th {\n",
       "        text-align: right;\n",
       "    }\n",
       "</style>\n",
       "<table border=\"1\" class=\"dataframe\">\n",
       "  <thead>\n",
       "    <tr style=\"text-align: right;\">\n",
       "      <th></th>\n",
       "      <th>user_name</th>\n",
       "      <th>user_created</th>\n",
       "      <th>user_followers</th>\n",
       "      <th>user_friends</th>\n",
       "    </tr>\n",
       "  </thead>\n",
       "  <tbody>\n",
       "    <tr>\n",
       "      <th>0</th>\n",
       "      <td>MyNewsNE</td>\n",
       "      <td>24-05-2020 10:18</td>\n",
       "      <td>64.0</td>\n",
       "      <td>11.0</td>\n",
       "    </tr>\n",
       "    <tr>\n",
       "      <th>1</th>\n",
       "      <td>Shubham Gupta</td>\n",
       "      <td>14-08-2020 16:42</td>\n",
       "      <td>1.0</td>\n",
       "      <td>17.0</td>\n",
       "    </tr>\n",
       "    <tr>\n",
       "      <th>2</th>\n",
       "      <td>Journal of Infectiology</td>\n",
       "      <td>14-12-2017 07:07</td>\n",
       "      <td>143.0</td>\n",
       "      <td>566.0</td>\n",
       "    </tr>\n",
       "    <tr>\n",
       "      <th>3</th>\n",
       "      <td>Zane</td>\n",
       "      <td>18-09-2019 11:01</td>\n",
       "      <td>29.0</td>\n",
       "      <td>25.0</td>\n",
       "    </tr>\n",
       "    <tr>\n",
       "      <th>4</th>\n",
       "      <td>Ann-Maree O’Connor</td>\n",
       "      <td>24-01-2013 14:53</td>\n",
       "      <td>83.0</td>\n",
       "      <td>497.0</td>\n",
       "    </tr>\n",
       "  </tbody>\n",
       "</table>\n",
       "</div>"
      ],
      "text/plain": [
       "                 user_name      user_created  user_followers user_friends\n",
       "0                 MyNewsNE  24-05-2020 10:18            64.0         11.0\n",
       "1            Shubham Gupta  14-08-2020 16:42             1.0         17.0\n",
       "2  Journal of Infectiology  14-12-2017 07:07           143.0        566.0\n",
       "3                     Zane  18-09-2019 11:01            29.0         25.0\n",
       "4       Ann-Maree O’Connor  24-01-2013 14:53            83.0        497.0"
      ]
     },
     "execution_count": 2,
     "metadata": {},
     "output_type": "execute_result"
    }
   ],
   "source": [
    "# load the online user followers data\n",
    "user_follower = pd.read_csv(\"./online_user_followers.csv\")\n",
    "print(user_follower.shape)\n",
    "user_follower.head()"
   ]
  },
  {
   "cell_type": "markdown",
   "id": "86188f90",
   "metadata": {},
   "source": [
    "<font color='red'>**Question:**</font> The ``user_followers`` and ``user_friends`` have missing values: \n",
    "\n",
    "At first, try to remove the missing rows for ``user_followers``,\n",
    "\n",
    "Then, try to fill the missing values with 0 for ``user_friends``."
   ]
  },
  {
   "cell_type": "code",
   "execution_count": null,
   "id": "604d08ed",
   "metadata": {
    "ExecuteTime": {
     "end_time": "2021-11-22T12:06:37.122263Z",
     "start_time": "2021-11-22T12:06:37.093295Z"
    }
   },
   "outputs": [],
   "source": []
  },
  {
   "cell_type": "markdown",
   "id": "a5f18a6b",
   "metadata": {},
   "source": [
    "<font color='red'>**Question:**</font> Show the min, 25% percentile, median, 75% percentile, max, mean and the stardard deviations of ``user_followers``."
   ]
  },
  {
   "cell_type": "code",
   "execution_count": null,
   "id": "f77ca5fc",
   "metadata": {
    "ExecuteTime": {
     "end_time": "2021-11-22T11:37:19.306480Z",
     "start_time": "2021-11-22T11:37:19.272475Z"
    }
   },
   "outputs": [],
   "source": []
  },
  {
   "cell_type": "markdown",
   "id": "4bf204b8",
   "metadata": {},
   "source": [
    "<font color='red'>**Question:**</font> Make a histogram with linear binning for ``user_followers``, try to choose a proper number of bins."
   ]
  },
  {
   "cell_type": "code",
   "execution_count": null,
   "id": "00c956a0",
   "metadata": {
    "ExecuteTime": {
     "end_time": "2021-11-22T11:50:18.600128Z",
     "start_time": "2021-11-22T11:50:18.338065Z"
    }
   },
   "outputs": [],
   "source": []
  },
  {
   "cell_type": "markdown",
   "id": "88470612",
   "metadata": {},
   "source": [
    "<font color='red'>**Question:**</font> Make a histogram with logarithmic binning for ``user_followers``. Because the values has lots of zeros, we need to make a translation by adding 1 for each value, i.e., make the histogram for ``user_followers``+1."
   ]
  },
  {
   "cell_type": "code",
   "execution_count": null,
   "id": "d3777fcc",
   "metadata": {},
   "outputs": [],
   "source": []
  },
  {
   "cell_type": "markdown",
   "id": "08b5e4e3",
   "metadata": {},
   "source": [
    "<font color='red'>**Question:**</font> Show the PDF, CDF and CCDF for ``user_followers``+1 using the logarithmic binning."
   ]
  },
  {
   "cell_type": "code",
   "execution_count": null,
   "id": "d4154078",
   "metadata": {
    "ExecuteTime": {
     "end_time": "2021-11-22T11:51:52.508725Z",
     "start_time": "2021-11-22T11:51:51.468767Z"
    }
   },
   "outputs": [],
   "source": []
  },
  {
   "cell_type": "markdown",
   "id": "18312a56",
   "metadata": {},
   "source": [
    "<font color='red'>**Question:**</font> For the ``user_friends`` values, try to convert it to float values.\n",
    "\n",
    "Hint: the values may contain strings that are not numbers, you need to convert them to ``NAN``, then drop the missing values."
   ]
  },
  {
   "cell_type": "code",
   "execution_count": null,
   "id": "c9807c82",
   "metadata": {
    "ExecuteTime": {
     "end_time": "2021-11-22T11:56:56.149410Z",
     "start_time": "2021-11-22T11:56:56.103391Z"
    }
   },
   "outputs": [],
   "source": []
  },
  {
   "cell_type": "markdown",
   "id": "155a0bb4",
   "metadata": {},
   "source": [
    "<font color='red'>**Question:**</font>  Make a histogram with logarithmic binning for ``user_friends``+1. "
   ]
  },
  {
   "cell_type": "code",
   "execution_count": null,
   "id": "5f9d504f",
   "metadata": {},
   "outputs": [],
   "source": []
  },
  {
   "cell_type": "markdown",
   "id": "f0be9e5d",
   "metadata": {},
   "source": [
    "# Network data"
   ]
  },
  {
   "cell_type": "markdown",
   "id": "b7f23054",
   "metadata": {},
   "source": [
    "**Data Description:**\n",
    "\n",
    "**Character Interaction Networks for the HBO Series \"Game of Thrones\"**\n",
    "\n",
    "The network data contains the nodes ``(got-s1-nodes.csv)`` and edges ``(got-s1-edges.csv)`` for the season one series.\n",
    "\n",
    "Pairs of characters are connected by (undirected) edges weighted by the number of interactions.\n",
    "\n",
    "There are five interaction types. Character A and Character B are connected whenever:\n",
    "\n",
    "1. Character A speaks directly after Character B\n",
    "1. Character A speaks about Character B\n",
    "1. Character C speaks about Character A and Character B\n",
    "1. Character A and Character B are mentioned in the same stage direction\n",
    "1. Character A and Character B appear in a scene together\n"
   ]
  },
  {
   "cell_type": "markdown",
   "id": "2b888dd4",
   "metadata": {},
   "source": [
    "<font color='red'>**Question:**</font>  Create the ``Adjacency List`` for this network using the edge data: ``got-s1-edges.csv``. \n",
    "Print the adjacency list for ``Ned`` and ``Cersei``."
   ]
  },
  {
   "cell_type": "code",
   "execution_count": null,
   "id": "bf0e4521",
   "metadata": {},
   "outputs": [],
   "source": [
    "# your code here\n",
    "\n",
    "\n",
    "\n",
    "\n",
    "\n",
    "print(adjacencylist[\"NED\"])\n",
    "print(adjacencylist[\"CERSEI\"])"
   ]
  },
  {
   "cell_type": "markdown",
   "id": "e9c4b317",
   "metadata": {},
   "source": [
    "<font color='red'>**Question:**</font> For each character (node) $i$, calculate the number of nodes connected to it, denote as $k_i$. Then make a histgram of the distribution of $k_i$ for all nodes."
   ]
  },
  {
   "cell_type": "code",
   "execution_count": null,
   "id": "01cbb65f",
   "metadata": {},
   "outputs": [],
   "source": [
    "# your code here\n",
    "\n",
    "\n",
    "\n"
   ]
  },
  {
   "cell_type": "markdown",
   "id": "82e8772a",
   "metadata": {},
   "source": [
    "# The End"
   ]
  }
 ],
 "metadata": {
  "kernelspec": {
   "display_name": "Python 3 (ipykernel)",
   "language": "python",
   "name": "python3"
  },
  "language_info": {
   "codemirror_mode": {
    "name": "ipython",
    "version": 3
   },
   "file_extension": ".py",
   "mimetype": "text/x-python",
   "name": "python",
   "nbconvert_exporter": "python",
   "pygments_lexer": "ipython3",
   "version": "3.9.12"
  },
  "toc": {
   "base_numbering": 1,
   "nav_menu": {},
   "number_sections": true,
   "sideBar": true,
   "skip_h1_title": false,
   "title_cell": "Table of Contents",
   "title_sidebar": "Contents",
   "toc_cell": false,
   "toc_position": {},
   "toc_section_display": true,
   "toc_window_display": false
  }
 },
 "nbformat": 4,
 "nbformat_minor": 5
}
