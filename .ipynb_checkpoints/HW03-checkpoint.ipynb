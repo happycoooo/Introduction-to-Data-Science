{
 "cells": [
  {
   "cell_type": "markdown",
   "id": "48c2cf10",
   "metadata": {},
   "source": [
    "homework 3"
   ]
  },
  {
   "cell_type": "code",
   "execution_count": 2,
   "id": "05d85603",
   "metadata": {
    "ExecuteTime": {
     "end_time": "2022-10-18T13:12:39.884896Z",
     "start_time": "2022-10-18T13:12:39.038895Z"
    }
   },
   "outputs": [],
   "source": [
    "%matplotlib inline\n",
    "import matplotlib.pyplot as plt\n",
    "import numpy as np\n",
    "import pandas as pd"
   ]
  },
  {
   "cell_type": "markdown",
   "id": "ca25f5f2",
   "metadata": {},
   "source": [
    "# Numpy"
   ]
  },
  {
   "cell_type": "markdown",
   "id": "e17d76df",
   "metadata": {},
   "source": [
    "## Cosine Similarity\n",
    "Calculate the cosine similarity of 2 vectors (as numpy arrays).\n",
    "\n",
    "Give vector $\\vec{\\mu}$ and vector $\\vec{v}$, the cosine similarity of them is \n",
    "\n",
    "$$S_{\\vec{\\mu}\\vec{v}}=\\frac{\\vec{\\mu}\\cdot\\vec{v}}{||\\vec{\\mu}||_2\\times||\\vec{v}||_2}$$\n",
    "\n",
    "Where $||\\cdot||_2$ is the L-2 norm."
   ]
  },
  {
   "cell_type": "markdown",
   "id": "56c4ff8a",
   "metadata": {},
   "source": [
    "**<font color='red'>Question:</font>**  Define a CosSim function, with inputs are two one-D arrays, and the output is their cosine similarity."
   ]
  },
  {
   "cell_type": "code",
   "execution_count": null,
   "id": "34d1b9ec",
   "metadata": {
    "ExecuteTime": {
     "end_time": "2022-10-18T13:12:39.900895Z",
     "start_time": "2022-10-18T13:12:39.886895Z"
    }
   },
   "outputs": [],
   "source": [
    "# your code here\n",
    "def CosSim(u, v):\n",
    "    ...\n",
    "    return"
   ]
  },
  {
   "cell_type": "code",
   "execution_count": null,
   "id": "91fee6f1",
   "metadata": {
    "ExecuteTime": {
     "end_time": "2022-10-18T13:12:40.121896Z",
     "start_time": "2022-10-18T13:12:39.902896Z"
    }
   },
   "outputs": [],
   "source": [
    "# validate your results\n",
    "\n",
    "x = np.linspace(-1,1,100)\n",
    "y = np.linspace(1,-1,100)\n",
    "\n",
    "print(\n",
    "    \"\"\"The cosine similarity between x and x is {:.5f}\n",
    "The cosine similarity between x and y is {:.5f}\n",
    "    \"\"\".format(CosSim(x,x), CosSim(x,y))\n",
    "     )\n"
   ]
  },
  {
   "cell_type": "markdown",
   "id": "a2794c8c",
   "metadata": {},
   "source": [
    "## Linear Algebra"
   ]
  },
  {
   "cell_type": "markdown",
   "id": "bfdaf5b2",
   "metadata": {},
   "source": [
    "Solve the following Linear equation system:\n",
    "\n",
    "$$\n",
    "\\begin{cases} \n",
    "4x+3y+2z=25\\\\ \n",
    "-2x+2y+3z=-10\\\\ \n",
    "3x-5y+2z=-4\\\\ \n",
    "\\end{cases} \n",
    "$$"
   ]
  },
  {
   "cell_type": "markdown",
   "id": "9e8a334a",
   "metadata": {},
   "source": [
    "**<font color='red'>Question:</font>** Define a 2-d array $A$ and a 1-d array $b$ according to the above equation, which satisfy $AX=b$, where $X=(x, y, z)^T$"
   ]
  },
  {
   "cell_type": "code",
   "execution_count": null,
   "id": "3614e360",
   "metadata": {
    "ExecuteTime": {
     "end_time": "2022-10-18T13:12:40.124898Z",
     "start_time": "2022-10-18T13:12:39.041Z"
    }
   },
   "outputs": [],
   "source": [
    "# your code here\n",
    "\n",
    "\n",
    "print (A)\n",
    "print (b)"
   ]
  },
  {
   "cell_type": "markdown",
   "id": "a86013fd",
   "metadata": {},
   "source": [
    "**<font color='red'>Question:</font>** Solve the equation, to get the values of $X$. \n",
    "\n",
    "Hint: you may use `numpy.linalg.inv()` to get the inverse of a matrix."
   ]
  },
  {
   "cell_type": "code",
   "execution_count": null,
   "id": "59f29b31",
   "metadata": {},
   "outputs": [],
   "source": []
  },
  {
   "cell_type": "markdown",
   "id": "6cd8e1c7",
   "metadata": {},
   "source": [
    "# Baby Names Data Analysis\n",
    "\n",
    "Load the ``baby_name_NY.txt`` dataset, which contains the baby names in New York city."
   ]
  },
  {
   "cell_type": "code",
   "execution_count": 3,
   "id": "2d2316ff",
   "metadata": {
    "ExecuteTime": {
     "end_time": "2022-10-18T13:12:40.125896Z",
     "start_time": "2022-10-18T13:12:39.043Z"
    }
   },
   "outputs": [
    {
     "data": {
      "text/html": [
       "<div>\n",
       "<style scoped>\n",
       "    .dataframe tbody tr th:only-of-type {\n",
       "        vertical-align: middle;\n",
       "    }\n",
       "\n",
       "    .dataframe tbody tr th {\n",
       "        vertical-align: top;\n",
       "    }\n",
       "\n",
       "    .dataframe thead th {\n",
       "        text-align: right;\n",
       "    }\n",
       "</style>\n",
       "<table border=\"1\" class=\"dataframe\">\n",
       "  <thead>\n",
       "    <tr style=\"text-align: right;\">\n",
       "      <th></th>\n",
       "      <th>State</th>\n",
       "      <th>Sex</th>\n",
       "      <th>Year</th>\n",
       "      <th>Name</th>\n",
       "      <th>Count</th>\n",
       "    </tr>\n",
       "  </thead>\n",
       "  <tbody>\n",
       "    <tr>\n",
       "      <th>0</th>\n",
       "      <td>NY</td>\n",
       "      <td>F</td>\n",
       "      <td>1910</td>\n",
       "      <td>Mary</td>\n",
       "      <td>1923</td>\n",
       "    </tr>\n",
       "    <tr>\n",
       "      <th>1</th>\n",
       "      <td>NY</td>\n",
       "      <td>F</td>\n",
       "      <td>1910</td>\n",
       "      <td>Helen</td>\n",
       "      <td>1290</td>\n",
       "    </tr>\n",
       "    <tr>\n",
       "      <th>2</th>\n",
       "      <td>NY</td>\n",
       "      <td>F</td>\n",
       "      <td>1910</td>\n",
       "      <td>Rose</td>\n",
       "      <td>990</td>\n",
       "    </tr>\n",
       "    <tr>\n",
       "      <th>3</th>\n",
       "      <td>NY</td>\n",
       "      <td>F</td>\n",
       "      <td>1910</td>\n",
       "      <td>Anna</td>\n",
       "      <td>951</td>\n",
       "    </tr>\n",
       "    <tr>\n",
       "      <th>4</th>\n",
       "      <td>NY</td>\n",
       "      <td>F</td>\n",
       "      <td>1910</td>\n",
       "      <td>Margaret</td>\n",
       "      <td>926</td>\n",
       "    </tr>\n",
       "  </tbody>\n",
       "</table>\n",
       "</div>"
      ],
      "text/plain": [
       "  State Sex  Year      Name  Count\n",
       "0    NY   F  1910      Mary   1923\n",
       "1    NY   F  1910     Helen   1290\n",
       "2    NY   F  1910      Rose    990\n",
       "3    NY   F  1910      Anna    951\n",
       "4    NY   F  1910  Margaret    926"
      ]
     },
     "execution_count": 3,
     "metadata": {},
     "output_type": "execute_result"
    }
   ],
   "source": [
    "# load the data\n",
    "column_names = ['State', 'Sex', 'Year', 'Name', 'Count']\n",
    "babynames = pd.read_csv(\"./baby_name_NY.TXT\", header=None, names=column_names)\n",
    "\n",
    "babynames.head(5)"
   ]
  },
  {
   "cell_type": "markdown",
   "id": "d836e204",
   "metadata": {},
   "source": [
    "**<font color='red'>Question:</font>** What's the data types of each column?"
   ]
  },
  {
   "cell_type": "code",
   "execution_count": null,
   "id": "bf260c7c",
   "metadata": {
    "ExecuteTime": {
     "end_time": "2021-10-25T13:45:42.270792Z",
     "start_time": "2021-10-25T13:45:42.258854Z"
    }
   },
   "outputs": [],
   "source": []
  },
  {
   "cell_type": "markdown",
   "id": "ec1f81ca",
   "metadata": {},
   "source": [
    "**<font color='red'>Question:</font>** Find the most popular baby name in IL in 2018"
   ]
  },
  {
   "cell_type": "code",
   "execution_count": null,
   "id": "97da53b9",
   "metadata": {},
   "outputs": [],
   "source": []
  },
  {
   "cell_type": "markdown",
   "id": "26c5338e",
   "metadata": {
    "ExecuteTime": {
     "end_time": "2021-10-25T11:53:01.822594Z",
     "start_time": "2021-10-25T11:53:01.799593Z"
    }
   },
   "source": [
    "**<font color='red'>Question:</font>**  For female and male, what's the most popular baby names in 2017 respectively?"
   ]
  },
  {
   "cell_type": "code",
   "execution_count": null,
   "id": "7364827c",
   "metadata": {},
   "outputs": [],
   "source": []
  },
  {
   "cell_type": "markdown",
   "id": "491510f6",
   "metadata": {},
   "source": [
    "**<font color='red'>Question:</font>** List all baby names that start with J."
   ]
  },
  {
   "cell_type": "code",
   "execution_count": null,
   "id": "572b5db7",
   "metadata": {},
   "outputs": [],
   "source": []
  },
  {
   "cell_type": "markdown",
   "id": "9bb2e935",
   "metadata": {},
   "source": [
    "**<font color='red'>Question:</font>** Sort names by their length, then print the top 5 by length."
   ]
  },
  {
   "cell_type": "code",
   "execution_count": null,
   "id": "cd1f607a",
   "metadata": {},
   "outputs": [],
   "source": []
  },
  {
   "cell_type": "markdown",
   "id": "a9acd1ed",
   "metadata": {},
   "source": [
    "**<font color='red'>Question:</font>** Name whose popularity has changed the most.\n",
    "\n",
    "**Hint**: First you may need to define change in popularity, i.e., for each name, you need to find the difference between the name's maximum occurrence and minimum occurrence. "
   ]
  },
  {
   "cell_type": "code",
   "execution_count": null,
   "id": "bd507d1c",
   "metadata": {},
   "outputs": [],
   "source": []
  },
  {
   "cell_type": "markdown",
   "id": "b09ef6b6",
   "metadata": {},
   "source": [
    "# Single variable analysis\n",
    "\n",
    "The `Salaries.csv` dataset contains the salaries of employees in San Francisco, see details [here](https://transparentcalifornia.com/salaries/san-francisco/)."
   ]
  },
  {
   "cell_type": "markdown",
   "id": "833b0743",
   "metadata": {},
   "source": [
    "**<font color='red'>Question:</font>** Read the data using pandas, save it as a Dataframe called `Salaries_df`"
   ]
  },
  {
   "cell_type": "code",
   "execution_count": null,
   "id": "a82cdb1e",
   "metadata": {
    "ExecuteTime": {
     "end_time": "2022-10-18T13:12:40.126897Z",
     "start_time": "2022-10-18T13:12:39.051Z"
    }
   },
   "outputs": [],
   "source": [
    "Salaries_df = ...\n",
    "\n",
    "Salaries_df"
   ]
  },
  {
   "cell_type": "markdown",
   "id": "5a573ef9",
   "metadata": {},
   "source": [
    "**<font color='red'>Question:</font>** Make a bar plot to show the number of DataRecords by year."
   ]
  },
  {
   "cell_type": "code",
   "execution_count": null,
   "id": "e919e2db",
   "metadata": {
    "ExecuteTime": {
     "end_time": "2021-10-25T12:49:32.090070Z",
     "start_time": "2021-10-25T12:49:32.081130Z"
    }
   },
   "outputs": [],
   "source": []
  },
  {
   "cell_type": "markdown",
   "id": "d7e4ed9c",
   "metadata": {},
   "source": [
    "**<font color='red'>Question:</font>** Make a histogram to show distribution of the variable `TotalPayBenefits`."
   ]
  },
  {
   "cell_type": "code",
   "execution_count": null,
   "id": "93f7545a",
   "metadata": {},
   "outputs": [],
   "source": []
  },
  {
   "cell_type": "markdown",
   "id": "7f65590d",
   "metadata": {},
   "source": [
    "**<font color='red'>Question:</font>** Calculate the (min, 1st quartile, median, 3rd quartile, max) of the variable `TotalPayBenefits`."
   ]
  },
  {
   "cell_type": "code",
   "execution_count": null,
   "id": "083a202e",
   "metadata": {},
   "outputs": [],
   "source": []
  },
  {
   "cell_type": "markdown",
   "id": "b14a7cc1",
   "metadata": {},
   "source": [
    "**<font color='red'>Question:</font>** Make a box plot for the variable `TotalPayBenefits`."
   ]
  },
  {
   "cell_type": "code",
   "execution_count": null,
   "id": "f84b402c",
   "metadata": {},
   "outputs": [],
   "source": []
  },
  {
   "cell_type": "markdown",
   "id": "3e6e3513",
   "metadata": {},
   "source": [
    "**<font color='red'>Question:</font>** What you can conclude from the box plot above?"
   ]
  },
  {
   "cell_type": "markdown",
   "id": "e0d6991c",
   "metadata": {},
   "source": [
    " "
   ]
  },
  {
   "cell_type": "markdown",
   "id": "a9c48670",
   "metadata": {},
   "source": [
    "# The end"
   ]
  }
 ],
 "metadata": {
  "kernelspec": {
   "display_name": "Python 3 (ipykernel)",
   "language": "python",
   "name": "python3"
  },
  "language_info": {
   "codemirror_mode": {
    "name": "ipython",
    "version": 3
   },
   "file_extension": ".py",
   "mimetype": "text/x-python",
   "name": "python",
   "nbconvert_exporter": "python",
   "pygments_lexer": "ipython3",
   "version": "3.9.12"
  },
  "toc": {
   "base_numbering": 1,
   "nav_menu": {},
   "number_sections": true,
   "sideBar": true,
   "skip_h1_title": false,
   "title_cell": "Table of Contents",
   "title_sidebar": "Contents",
   "toc_cell": false,
   "toc_position": {},
   "toc_section_display": true,
   "toc_window_display": false
  }
 },
 "nbformat": 4,
 "nbformat_minor": 5
}
