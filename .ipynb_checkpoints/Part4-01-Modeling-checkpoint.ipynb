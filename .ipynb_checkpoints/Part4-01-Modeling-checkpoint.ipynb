{
 "cells": [
  {
   "cell_type": "markdown",
   "metadata": {
    "ExecuteTime": {
     "end_time": "2021-12-09T03:09:04.362989Z",
     "start_time": "2021-12-09T03:09:04.343968Z"
    }
   },
   "source": [
    "<p style=\"font-size:15pt; text-align:center\">\n",
    "    Introduction to Data Science\n",
    "</p>\n",
    "<p style=\"font-size:20pt; text-align:center\">\n",
    "    Data Modeling\n",
    "</p>\n"
   ]
  },
  {
   "cell_type": "code",
   "execution_count": 1,
   "metadata": {
    "ExecuteTime": {
     "end_time": "2022-12-12T05:47:59.192643Z",
     "start_time": "2022-12-12T05:47:56.287644Z"
    }
   },
   "outputs": [],
   "source": [
    "import matplotlib.pyplot as plt\n",
    "import numpy as np\n",
    "import pandas as pd\n",
    "import seaborn as sns\n",
    "import networkx as nx\n",
    "\n",
    "%matplotlib inline"
   ]
  },
  {
   "cell_type": "markdown",
   "metadata": {},
   "source": [
    "# Modeling Basics"
   ]
  },
  {
   "cell_type": "markdown",
   "metadata": {},
   "source": [
    "## Losses"
   ]
  },
  {
   "cell_type": "code",
   "execution_count": 2,
   "metadata": {
    "ExecuteTime": {
     "end_time": "2022-12-12T05:47:59.208643Z",
     "start_time": "2022-12-12T05:47:59.194643Z"
    }
   },
   "outputs": [],
   "source": [
    "def l2_loss(y, yhat):\n",
    "    return (y - yhat)**2\n",
    "\n",
    "def l1_loss(y, yhat):\n",
    "    return np.abs(y - yhat)"
   ]
  },
  {
   "cell_type": "markdown",
   "metadata": {},
   "source": [
    "## Toy Data"
   ]
  },
  {
   "cell_type": "code",
   "execution_count": 4,
   "metadata": {
    "ExecuteTime": {
     "end_time": "2022-12-12T05:48:01.776644Z",
     "start_time": "2022-12-12T05:48:01.766644Z"
    }
   },
   "outputs": [],
   "source": [
    "toy = np.array([20, 21, 22, 29, 33])\n",
    "single_obs = toy[0]"
   ]
  },
  {
   "cell_type": "markdown",
   "metadata": {},
   "source": [
    "Let's plot the $L_2$ loss for a **single** observation. We'll plot the $L_2$ loss for the first observation; since $y_1 = 20$, we'll be plotting\n",
    "\n",
    "$$L_2(20, \\theta) = (20 - \\theta)^2$$"
   ]
  },
  {
   "cell_type": "code",
   "execution_count": 5,
   "metadata": {
    "ExecuteTime": {
     "end_time": "2022-12-12T05:48:03.673643Z",
     "start_time": "2022-12-12T05:48:03.657643Z"
    }
   },
   "outputs": [],
   "source": [
    "thetas = np.linspace(10, 30, 1000)\n",
    "l2_loss_single_obvs = l2_loss(single_obs, thetas)"
   ]
  },
  {
   "cell_type": "code",
   "execution_count": 6,
   "metadata": {
    "ExecuteTime": {
     "end_time": "2021-12-15T02:31:01.265356Z",
     "start_time": "2021-12-15T02:31:00.799280Z"
    }
   },
   "outputs": [
    {
     "data": {
      "image/png": "[encoded data removed]",
      "text/plain": [
       "<Figure size 432x288 with 1 Axes>"
      ]
     },
     "metadata": {
      "needs_background": "light"
     },
     "output_type": "display_data"
    }
   ],
   "source": [
    "plt.plot(thetas, l2_loss_single_obvs);\n",
    "plt.xlabel(r'$\\theta$');\n",
    "plt.ylabel(r'$L(20, \\theta) = (20 - \\theta)^2$');\n",
    "#plt.savefig('l2_single_obvs.png', bbox_inches = 'tight');"
   ]
  },
  {
   "cell_type": "markdown",
   "metadata": {},
   "source": [
    "We can see that the loss for a single observation is minimized by that observation itself (i.e. when $\\theta = 20$, the above loss is minimized).\n",
    "\n",
    "Let's now compute the average loss over all of our toy data."
   ]
  },
  {
   "cell_type": "code",
   "execution_count": null,
   "metadata": {
    "ExecuteTime": {
     "end_time": "2021-12-15T02:32:02.931865Z",
     "start_time": "2021-12-15T02:32:02.928067Z"
    }
   },
   "outputs": [],
   "source": [
    "def avg_loss(loss, est, data):\n",
    "    return np.mean(np.array([loss(est, y_obs) for y_obs in data]), axis=0)"
   ]
  },
  {
   "cell_type": "code",
   "execution_count": null,
   "metadata": {
    "ExecuteTime": {
     "end_time": "2021-12-15T02:32:32.065589Z",
     "start_time": "2021-12-15T02:32:31.864288Z"
    }
   },
   "outputs": [],
   "source": [
    "thetas = np.linspace(10, 40, 1000)\n",
    "l2_loss_thetas = avg_loss(l2_loss, thetas, toy)\n",
    "\n",
    "plt.plot(thetas, l2_loss_thetas, color = 'green');\n",
    "plt.xlabel(r'$\\theta$');\n",
    "plt.ylabel(r'MSE across all points');"
   ]
  },
  {
   "cell_type": "markdown",
   "metadata": {},
   "source": [
    "The explicit expression for the MSE here is\n",
    "\n",
    "$$R(\\theta) = \\frac{1}{5} \\big((20 - \\theta)^2 + (21 - \\theta)^2 + (22 - \\theta)^2 + (29 - \\theta)^2 + (33 - \\theta)^2\\big)$$"
   ]
  },
  {
   "cell_type": "markdown",
   "metadata": {},
   "source": [
    "Note; the shape looks similar, but the minimizing value of $\\theta$ is now shifted. It appears to be closer to 25 (which you may notice as the mean of [20, 21, 22, 29, 33])."
   ]
  },
  {
   "cell_type": "markdown",
   "metadata": {},
   "source": [
    "Let's now do the same, but for L1 loss. For our first observation, the $L_1$ loss is\n",
    "\n",
    "$$L_1(20, \\theta) = |20 - \\theta|$$"
   ]
  },
  {
   "cell_type": "code",
   "execution_count": null,
   "metadata": {
    "ExecuteTime": {
     "end_time": "2021-12-15T02:33:53.908158Z",
     "start_time": "2021-12-15T02:33:53.903589Z"
    }
   },
   "outputs": [],
   "source": [
    "thetas = np.linspace(10, 30, 1000)\n",
    "l1_loss_single_obvs = l1_loss(single_obs, thetas)"
   ]
  },
  {
   "cell_type": "code",
   "execution_count": null,
   "metadata": {
    "ExecuteTime": {
     "end_time": "2021-12-15T02:34:30.715182Z",
     "start_time": "2021-12-15T02:34:30.436358Z"
    }
   },
   "outputs": [],
   "source": [
    "plt.plot(thetas, l1_loss_single_obvs);\n",
    "plt.xlabel(r'$\\theta$');\n",
    "plt.ylabel(r'$L(20, \\theta) = |20 - \\theta|$');\n",
    "#plt.savefig('l1_single_obvs.png', bbox_inches = 'tight');"
   ]
  },
  {
   "cell_type": "markdown",
   "metadata": {},
   "source": [
    "Again this is centered on the observation itself, 20.\n",
    "\n",
    "Averaging across all of our data:"
   ]
  },
  {
   "cell_type": "code",
   "execution_count": null,
   "metadata": {
    "ExecuteTime": {
     "end_time": "2021-12-15T02:35:32.530882Z",
     "start_time": "2021-12-15T02:35:32.273259Z"
    }
   },
   "outputs": [],
   "source": [
    "thetas = np.linspace(10, 40, 1000)\n",
    "l1_loss_thetas = avg_loss(l1_loss, thetas, toy)\n",
    "\n",
    "plt.plot(thetas, l1_loss_thetas, color = 'green');\n",
    "plt.xlabel(r'$\\theta$');\n",
    "plt.ylabel(r'MAE across all points');"
   ]
  },
  {
   "cell_type": "markdown",
   "metadata": {},
   "source": [
    "The explicit expression for the MAE here is\n",
    "\n",
    "$$R(\\theta) = \\frac{1}{5} \\big(|20 - \\theta| + |21 - \\theta| + |22 - \\theta| + |29 - \\theta| + |33 - \\theta|\\big)$$\n",
    "\n",
    "Note, it is pointy, and not smooth like the MSE. It also doesn't exactly look like a simple absolute value curve. It's a combination of several absolute value functions.\n",
    "\n",
    "The minimizing value of the MAE here is $\\theta = 22$, as that is the median of our observations."
   ]
  },
  {
   "cell_type": "code",
   "execution_count": null,
   "metadata": {
    "ExecuteTime": {
     "end_time": "2021-12-15T02:37:04.026899Z",
     "start_time": "2021-12-15T02:37:03.704165Z"
    }
   },
   "outputs": [],
   "source": [
    "plt.figure(figsize = (10, 2))\n",
    "plt.plot([18, 35], [5, 5], color = 'grey')\n",
    "plt.scatter([20, 21, 29, 33], [5, 5, 5, 5])\n",
    "plt.scatter([22], [5], color = 'red')\n",
    "\n",
    "plt.ylim(4.5, 5.5)\n",
    "plt.xticks(np.arange(18, 36, 1))\n",
    "plt.yticks([]);"
   ]
  },
  {
   "cell_type": "markdown",
   "metadata": {},
   "source": [
    "What if we instead had an even number of points. There wouldn't be a unique median! Let's see what happens:"
   ]
  },
  {
   "cell_type": "code",
   "execution_count": null,
   "metadata": {
    "ExecuteTime": {
     "end_time": "2021-12-15T02:37:52.026032Z",
     "start_time": "2021-12-15T02:37:51.762275Z"
    }
   },
   "outputs": [],
   "source": [
    "toy2 = np.array([20, 21, 22, 29, 33, 35])\n",
    "thetas = np.linspace(10, 40, 1000)\n",
    "l1_loss_thetas = avg_loss(l1_loss, thetas, toy2)\n",
    "\n",
    "plt.plot(thetas, l1_loss_thetas, color = 'green');\n",
    "plt.xlabel(r'$\\theta$');\n",
    "plt.ylabel(r'MAE across all points');"
   ]
  },
  {
   "cell_type": "markdown",
   "metadata": {},
   "source": [
    "# Simple Linear Regression"
   ]
  },
  {
   "cell_type": "code",
   "execution_count": null,
   "metadata": {
    "ExecuteTime": {
     "end_time": "2021-12-15T02:39:21.237364Z",
     "start_time": "2021-12-15T02:39:21.232661Z"
    }
   },
   "outputs": [],
   "source": [
    "def standard_units(x):\n",
    "    return (x - np.mean(x)) / np.std(x)\n",
    "\n",
    "def correlation(x, y):\n",
    "    return np.mean(standard_units(x) * standard_units(y))"
   ]
  },
  {
   "cell_type": "markdown",
   "metadata": {},
   "source": [
    "Let's read in our data."
   ]
  },
  {
   "cell_type": "code",
   "execution_count": null,
   "metadata": {
    "ExecuteTime": {
     "end_time": "2021-12-15T02:40:11.703789Z",
     "start_time": "2021-12-15T02:40:11.685945Z"
    }
   },
   "outputs": [],
   "source": [
    "df = pd.read_csv('./data/galton.csv').iloc[:, 1:]\n",
    "df.head()"
   ]
  },
  {
   "cell_type": "markdown",
   "metadata": {},
   "source": [
    "An interesting issue is that both our `parent` and `child` columns occur at fixed positions. We need to add some random noise, otherwise we'll suffer from gross overplotting."
   ]
  },
  {
   "cell_type": "code",
   "execution_count": null,
   "metadata": {
    "ExecuteTime": {
     "end_time": "2021-12-15T02:41:21.443774Z",
     "start_time": "2021-12-15T02:41:21.192536Z"
    }
   },
   "outputs": [],
   "source": [
    "plt.scatter(df['parent'],df['child'])"
   ]
  },
  {
   "cell_type": "code",
   "execution_count": null,
   "metadata": {
    "ExecuteTime": {
     "end_time": "2021-12-15T02:42:36.324407Z",
     "start_time": "2021-12-15T02:42:36.303717Z"
    }
   },
   "outputs": [],
   "source": [
    "df['parent'] = df['parent'] + np.random.randn(len(df))/2\n",
    "df['child'] = df['child'] + np.random.randn(len(df))/2"
   ]
  },
  {
   "cell_type": "code",
   "execution_count": null,
   "metadata": {
    "ExecuteTime": {
     "end_time": "2021-12-15T02:42:48.083012Z",
     "start_time": "2021-12-15T02:42:47.823362Z"
    }
   },
   "outputs": [],
   "source": [
    "plt.scatter(df['parent'],df['child'])"
   ]
  },
  {
   "cell_type": "markdown",
   "metadata": {},
   "source": [
    "Using our `correlation` function:"
   ]
  },
  {
   "cell_type": "code",
   "execution_count": null,
   "metadata": {
    "ExecuteTime": {
     "end_time": "2021-12-15T02:43:34.212546Z",
     "start_time": "2021-12-15T02:43:34.202566Z"
    }
   },
   "outputs": [],
   "source": [
    "correlation(df['parent'], df['child'])"
   ]
  },
  {
   "cell_type": "markdown",
   "metadata": {},
   "source": [
    "Using an in-built `correlation` function:"
   ]
  },
  {
   "cell_type": "code",
   "execution_count": null,
   "metadata": {
    "ExecuteTime": {
     "end_time": "2021-12-15T02:44:07.872343Z",
     "start_time": "2021-12-15T02:44:07.864232Z"
    }
   },
   "outputs": [],
   "source": [
    "np.corrcoef(df['parent'], df['child'])"
   ]
  },
  {
   "cell_type": "code",
   "execution_count": null,
   "metadata": {
    "ExecuteTime": {
     "end_time": "2021-12-15T02:44:30.586100Z",
     "start_time": "2021-12-15T02:44:30.566757Z"
    }
   },
   "outputs": [],
   "source": [
    "df.corr()"
   ]
  },
  {
   "cell_type": "markdown",
   "metadata": {},
   "source": [
    "\n",
    "What we now want to do is compute the **average $y$ for a given $x$**. A practical way to do this is to \"bin\" our x axis into 1-unit wide buckets, and then compute the average $y$ value for everything in that bucket."
   ]
  },
  {
   "cell_type": "code",
   "execution_count": null,
   "metadata": {
    "ExecuteTime": {
     "end_time": "2021-12-15T02:51:01.122432Z",
     "start_time": "2021-12-15T02:51:01.118409Z"
    }
   },
   "outputs": [],
   "source": [
    "def predict_mean_y(x):\n",
    "    return df.loc[np.abs(df['parent'] - x) <= 0.5, 'child'].mean()"
   ]
  },
  {
   "cell_type": "code",
   "execution_count": null,
   "metadata": {
    "ExecuteTime": {
     "end_time": "2021-12-15T02:48:17.986009Z",
     "start_time": "2021-12-15T02:48:17.977364Z"
    }
   },
   "outputs": [],
   "source": [
    "df.head()"
   ]
  },
  {
   "cell_type": "code",
   "execution_count": null,
   "metadata": {
    "ExecuteTime": {
     "end_time": "2021-12-15T02:51:06.048046Z",
     "start_time": "2021-12-15T02:51:05.462015Z"
    }
   },
   "outputs": [],
   "source": [
    "df['child_predicted'] = df['parent'].apply(predict_mean_y)\n",
    "df.head()"
   ]
  },
  {
   "cell_type": "markdown",
   "metadata": {},
   "source": [
    "Now, let's look at our predictions:"
   ]
  },
  {
   "cell_type": "code",
   "execution_count": null,
   "metadata": {
    "ExecuteTime": {
     "end_time": "2021-12-15T02:52:18.238064Z",
     "start_time": "2021-12-15T02:52:17.890418Z"
    }
   },
   "outputs": [],
   "source": [
    "fig, ax = plt.subplots(1,1, figsize=(8,6))# \n",
    "sns.scatterplot(data=df, x = 'parent', y = 'child', color=\"blue\", label=\"actual\", ax=ax)\n",
    "sns.scatterplot(data=df, x = 'parent', y = 'child_predicted', color='red', \n",
    "                label = 'predicted means', ax=ax)\n",
    "ax.set_xlabel('MidParent Height')\n",
    "ax.set_ylabel('Child Height')"
   ]
  },
  {
   "cell_type": "code",
   "execution_count": null,
   "metadata": {},
   "outputs": [],
   "source": [
    "#sns.regplot()"
   ]
  },
  {
   "cell_type": "markdown",
   "metadata": {},
   "source": [
    "Save for the tails where there are fewer values to draw from, it seems like our red predictions roughly follow a straight line piercing through the \"middle\" of our point cloud. That's our motivation for using a line to model this bivariate data.\n",
    "\n",
    "Now, it's time to implement the optimal coefficients."
   ]
  },
  {
   "cell_type": "code",
   "execution_count": null,
   "metadata": {
    "ExecuteTime": {
     "end_time": "2021-12-15T02:53:51.717462Z",
     "start_time": "2021-12-15T02:53:51.712946Z"
    }
   },
   "outputs": [],
   "source": [
    "def slope(x, y):\n",
    "    return correlation(x, y) * np.std(y) / np.std(x)\n",
    "\n",
    "def intercept(x, y):\n",
    "    return np.mean(y) - slope(x, y)*np.mean(x)"
   ]
  },
  {
   "cell_type": "code",
   "execution_count": null,
   "metadata": {
    "ExecuteTime": {
     "end_time": "2021-12-15T02:54:16.945946Z",
     "start_time": "2021-12-15T02:54:16.937783Z"
    }
   },
   "outputs": [],
   "source": [
    "ahat = intercept(df['parent'], df['child'])\n",
    "bhat = slope(df['parent'], df['child'])\n",
    "\n",
    "print(\"predicted y = {0:.2f} + {1:.2f} * average parent's height\".format(ahat, bhat))"
   ]
  },
  {
   "cell_type": "code",
   "execution_count": null,
   "metadata": {
    "ExecuteTime": {
     "end_time": "2021-12-15T02:55:15.413444Z",
     "start_time": "2021-12-15T02:55:15.400254Z"
    }
   },
   "outputs": [],
   "source": [
    "# add predicted y in to df\n",
    "df.loc[:,\"predicted_parent\"] = ahat + bhat*df['parent']\n",
    "df.head()"
   ]
  },
  {
   "cell_type": "markdown",
   "metadata": {},
   "source": [
    "Let's see what our linear model looks like."
   ]
  },
  {
   "cell_type": "code",
   "execution_count": null,
   "metadata": {
    "ExecuteTime": {
     "end_time": "2021-12-15T02:55:57.888941Z",
     "start_time": "2021-12-15T02:55:57.461776Z"
    }
   },
   "outputs": [],
   "source": [
    "fig, ax = plt.subplots(1,1, figsize=(8,6))# \n",
    "sns.scatterplot(data=df, x = 'parent', y = 'child', color=\"blue\", label=\"actual\", ax=ax)\n",
    "sns.scatterplot(data=df, x = 'parent', y = 'child_predicted', color='gold', \n",
    "                label = 'predicted means', ax=ax)\n",
    "\n",
    "sns.lineplot(data=df, x=\"parent\", y= \"predicted_parent\", color=\"r\", label=\"linear model\", ax=ax)\n",
    "\n",
    "ax.set_xlabel('MidParent Height')\n",
    "ax.set_ylabel('Child Height')"
   ]
  },
  {
   "cell_type": "markdown",
   "metadata": {},
   "source": [
    "# fit an arbitrary curve"
   ]
  },
  {
   "cell_type": "code",
   "execution_count": null,
   "metadata": {
    "ExecuteTime": {
     "end_time": "2021-12-15T02:59:25.462376Z",
     "start_time": "2021-12-15T02:59:25.458697Z"
    }
   },
   "outputs": [],
   "source": [
    "from scipy import optimize"
   ]
  },
  {
   "cell_type": "code",
   "execution_count": null,
   "metadata": {
    "ExecuteTime": {
     "end_time": "2021-12-12T02:10:21.871550Z",
     "start_time": "2021-12-12T02:10:21.813190Z"
    }
   },
   "outputs": [],
   "source": [
    "help(optimize)"
   ]
  },
  {
   "cell_type": "markdown",
   "metadata": {},
   "source": [
    "## Exponential curve"
   ]
  },
  {
   "cell_type": "code",
   "execution_count": null,
   "metadata": {
    "ExecuteTime": {
     "end_time": "2021-12-15T03:06:21.555740Z",
     "start_time": "2021-12-15T03:06:21.234857Z"
    }
   },
   "outputs": [],
   "source": [
    "def func(x, a, b, c):\n",
    "    return a * np.exp(-b * x) + c\n",
    "\n",
    "xdata = np.linspace(0, 4, 50)\n",
    "y = func(xdata, 2.5, 1.3, 0.5)\n",
    "rng = np.random.default_rng()\n",
    "y_noise = 0.1 * rng.normal(size=xdata.size)\n",
    "ydata = y + y_noise\n",
    "\n",
    "\n",
    "plt.plot(xdata, ydata, 'bo', label='data')\n",
    "\n",
    "popt, pcov = optimize.curve_fit(func, xdata, ydata)\n",
    "\n",
    "print(popt)\n",
    "\n",
    "plt.plot(xdata, func(xdata, *popt), 'r-',\n",
    "         label='fit: a=%5.3f, b=%5.3f, c=%5.3f' % tuple(popt))\n",
    "\n",
    "\n",
    "plt.xlabel('x')\n",
    "plt.ylabel('y')\n",
    "plt.legend()"
   ]
  },
  {
   "cell_type": "markdown",
   "metadata": {},
   "source": [
    "## Piecewise linear"
   ]
  },
  {
   "cell_type": "code",
   "execution_count": null,
   "metadata": {
    "ExecuteTime": {
     "end_time": "2021-12-12T02:10:38.151023Z",
     "start_time": "2021-12-12T02:10:38.036298Z"
    }
   },
   "outputs": [],
   "source": [
    "def make_fake_data(x0, y0, k1, k2):\n",
    "    x = np.arange(1, 10, 0.1)\n",
    "    #print(x0, y0, k1, k2, x)\n",
    "    y = np.where(x<x0, y0+k1*(x-x0), y0+k2*(x-x0))\n",
    "    # make noise\n",
    "    x = x + np.random.randn(len(x))/8\n",
    "    y = y + np.random.randn(len(y))/8\n",
    "    return x, y\n",
    "\n",
    "real_para = [6, 5, -0.3, 2]\n",
    "x, y = make_fake_data(*real_para)\n",
    "\n",
    "\n",
    "\n",
    "# model\n",
    "def piecewise_linear(x, x0, y0, k1, k2):\n",
    "    return np.where(x<x0, y0+k1*(x-x0), y0+k2*(x-x0))\n",
    "\n",
    "\n",
    "p, e = optimize.curve_fit(piecewise_linear, x, y, p0=[4,6,-1,3])\n",
    "\n",
    "print (p,)\n",
    "x_fit = np.arange(1, 10, 0.1)\n",
    "y_fit = piecewise_linear(x_fit, *p)\n",
    "\n",
    "\n",
    "figure = plt.figure(figsize=(8., 8.))\n",
    "\n",
    "plt.plot(x, y, 'o', ms=8, markeredgecolor='none',  \n",
    "         label = 'data: x0={0:.2f}, y0={1:.2f}, k1={2:.2f}, k2={3:.2f}'.format(*real_para))\n",
    "plt.plot(x_fit, y_fit, '-', linewidth = 3, markeredgecolor='none', \n",
    "         label = 'fit:x0={0:.2f}, y0={1:.2f}, k1={2:.2f}, k2={3:.2f}'.format(*p) )\n",
    "plt.ylabel('Y')\n",
    "plt.xlabel('X')\n",
    "plt.legend();\n"
   ]
  },
  {
   "cell_type": "markdown",
   "metadata": {},
   "source": [
    "# Data Modeling"
   ]
  },
  {
   "cell_type": "markdown",
   "metadata": {},
   "source": [
    "## Load data"
   ]
  },
  {
   "cell_type": "code",
   "execution_count": null,
   "metadata": {
    "ExecuteTime": {
     "end_time": "2021-12-15T03:33:38.505836Z",
     "start_time": "2021-12-15T03:33:37.395424Z"
    }
   },
   "outputs": [],
   "source": [
    "math_topic = pd.read_csv(\"./data/math_topic_net.txt\", sep=\"\\t\")\n",
    "math_topic.loc[:,\"IsSameParent\"] = math_topic.apply(lambda x: 1 if x[\"CitingTopicParent\"]==x[\"CitedTopicParent\"] else 0, axis=1)\n",
    "math_topic = math_topic[[\"CitingTopic\",\"CitedTopic\",\"weight\",\"IsSameParent\"]]\n",
    "math_topic = math_topic[math_topic.CitingTopic != math_topic.CitedTopic]\n",
    "print(math_topic.shape)\n",
    "math_topic.head()"
   ]
  },
  {
   "cell_type": "markdown",
   "metadata": {},
   "source": [
    "## Exploration"
   ]
  },
  {
   "cell_type": "code",
   "execution_count": null,
   "metadata": {
    "ExecuteTime": {
     "end_time": "2021-12-15T03:33:42.958041Z",
     "start_time": "2021-12-15T03:33:42.938881Z"
    }
   },
   "outputs": [],
   "source": [
    "math_topic.groupby(\"IsSameParent\").agg({\"weight\":\"mean\"})"
   ]
  },
  {
   "cell_type": "markdown",
   "metadata": {},
   "source": [
    "## Network analysis"
   ]
  },
  {
   "cell_type": "code",
   "execution_count": null,
   "metadata": {
    "ExecuteTime": {
     "end_time": "2021-12-15T03:33:47.843115Z",
     "start_time": "2021-12-15T03:33:47.803570Z"
    }
   },
   "outputs": [],
   "source": [
    "def get_in_out_deg(tab):\n",
    "    in_deg = tab.groupby(\"CitedTopic\").weight.sum().rename(\"InDegree\")\n",
    "    out_deg = tab.groupby(\"CitingTopic\").weight.sum().rename(\"OutDegree\")\n",
    "    return pd.concat([in_deg, out_deg], axis=1).fillna(0)\n",
    "\n",
    "degree = get_in_out_deg(math_topic)\n",
    "degree"
   ]
  },
  {
   "cell_type": "markdown",
   "metadata": {},
   "source": [
    "we will merge table to get ``CitingTopic``'s out-degree, and ``CitedTopic``'s in-degree."
   ]
  },
  {
   "cell_type": "code",
   "execution_count": null,
   "metadata": {
    "ExecuteTime": {
     "end_time": "2021-12-15T03:33:54.304580Z",
     "start_time": "2021-12-15T03:33:54.172345Z"
    }
   },
   "outputs": [],
   "source": [
    "math_topic = math_topic.merge(degree.loc[:,\"OutDegree\"], left_on=\"CitingTopic\", right_index=True)\n",
    "math_topic = math_topic.rename(columns={\"OutDegree\":\"CitingOutDegree\"})\n",
    "\n",
    "math_topic = math_topic.merge(degree.loc[:,\"InDegree\"], left_on=\"CitedTopic\", right_index=True)\n",
    "math_topic = math_topic.rename(columns={\"InDegree\":\"CitedInDegree\"})\n",
    "\n",
    "# take the log\n",
    "math_topic.loc[:,\"log_weight\"] = np.log10(math_topic.loc[:,\"weight\"] +1 )\n",
    "math_topic.loc[:,\"log_CitingOutDegree\"] = np.log10(math_topic.loc[:,\"CitingOutDegree\"] +1 )\n",
    "math_topic.loc[:,\"log_CitedInDegree\"] = np.log10(math_topic.loc[:,\"CitedInDegree\"] +1 )\n",
    "\n",
    "math_topic.head()"
   ]
  },
  {
   "cell_type": "markdown",
   "metadata": {},
   "source": [
    "Relationship between ``CitingTopic``'s out-degree and weight:"
   ]
  },
  {
   "cell_type": "code",
   "execution_count": null,
   "metadata": {
    "ExecuteTime": {
     "end_time": "2021-12-15T03:34:13.202607Z",
     "start_time": "2021-12-15T03:34:13.138323Z"
    }
   },
   "outputs": [],
   "source": [
    "math_topic.corr()"
   ]
  },
  {
   "cell_type": "code",
   "execution_count": null,
   "metadata": {
    "ExecuteTime": {
     "end_time": "2021-12-15T03:35:38.931809Z",
     "start_time": "2021-12-15T03:35:38.168521Z"
    }
   },
   "outputs": [],
   "source": [
    "sns.displot(math_topic[\"log_weight\"], kde=True)"
   ]
  },
  {
   "cell_type": "code",
   "execution_count": null,
   "metadata": {
    "ExecuteTime": {
     "end_time": "2021-12-15T03:37:37.786107Z",
     "start_time": "2021-12-15T03:37:30.402824Z"
    }
   },
   "outputs": [],
   "source": [
    "sns.regplot(data=math_topic, x=\"log_CitingOutDegree\", y=\"log_weight\",x_bins=30, x_estimator=np.mean, )"
   ]
  },
  {
   "cell_type": "code",
   "execution_count": null,
   "metadata": {
    "ExecuteTime": {
     "end_time": "2021-12-12T02:13:28.320214Z",
     "start_time": "2021-12-12T02:13:23.283711Z"
    }
   },
   "outputs": [],
   "source": [
    "sns.regplot(data=math_topic, x=\"log_CitedInDegree\", y=\"log_weight\",x_bins=30, x_estimator=np.mean, )"
   ]
  },
  {
   "cell_type": "markdown",
   "metadata": {},
   "source": [
    "## Modeling \n",
    "\n",
    "$$C_{ij} = c'(d_i^{out})^\\alpha(d_j^{in})^\\beta f'(\\delta_{ij})$$\n",
    "\n",
    "$$f'(\\delta_{ij} ) = \\left\\{\n",
    "\\begin{aligned}\n",
    "s' &  & if\\  i, j \\ share \\ the\\  same\\  parent \\\\\n",
    "1 &  & otherwise \n",
    "\\end{aligned}\n",
    "\\right.$$\n",
    "\n",
    "\n",
    "***When take the logarithmic transformation:***\n",
    "\n",
    "$$log (C_{ij}) = c+\\alpha\\ log (d_i^{out}) + \\beta\\ log(d_j^{in}) + f(\\delta_{ij})$$\n",
    "\n",
    "$$f(\\delta_{ij} ) = \\left\\{\n",
    "\\begin{aligned}\n",
    "s &  & if\\  i, j \\ share \\ the\\  same\\  parent \\\\\n",
    "0 &  & otherwise \n",
    "\\end{aligned}\n",
    "\\right.$$\n"
   ]
  },
  {
   "cell_type": "code",
   "execution_count": null,
   "metadata": {
    "ExecuteTime": {
     "end_time": "2021-12-15T03:46:05.237204Z",
     "start_time": "2021-12-15T03:46:05.205641Z"
    }
   },
   "outputs": [],
   "source": [
    "def my_model(X, alpha, beta, s, c):\n",
    "    \"\"\"\n",
    "    X is a n*3 array.\n",
    "    X[:,0] is the array for d_i(out)\n",
    "    X[:,1] is the array for d_i(in)\n",
    "    x[0,2] is a 0-1 array for f(delta), 1 if i,j share the same parent\n",
    "    \"\"\"\n",
    "    F = s*X[:,2]\n",
    "    return c+((X[:,0])*alpha)+((X[:,1])*beta)+F\n",
    "\n",
    "X = math_topic[[\"log_CitingOutDegree\",\"log_CitedInDegree\",\"IsSameParent\"]].values\n",
    "Y = math_topic[\"log_weight\"].values\n",
    "\n",
    "\n",
    "p, e = optimize.curve_fit(my_model, X, Y, p0=[0.4, 0.4, 0.2, 1])\n",
    "\n",
    "print (p,)\n",
    "y_fit = my_model(X, *p)"
   ]
  },
  {
   "cell_type": "code",
   "execution_count": null,
   "metadata": {
    "ExecuteTime": {
     "end_time": "2021-12-15T03:46:36.171768Z",
     "start_time": "2021-12-15T03:46:33.774751Z"
    }
   },
   "outputs": [],
   "source": [
    "from sklearn.metrics import r2_score\n",
    "r2_score(Y, y_fit)"
   ]
  },
  {
   "cell_type": "code",
   "execution_count": null,
   "metadata": {
    "ExecuteTime": {
     "end_time": "2021-12-15T03:47:34.126381Z",
     "start_time": "2021-12-15T03:47:33.715714Z"
    }
   },
   "outputs": [],
   "source": [
    "f, ax = plt.subplots(figsize=(6, 6))\n",
    "sns.scatterplot(x=Y, y=y_fit, s=2, color=\".15\")\n",
    "sns.histplot(x=Y, y=y_fit, bins=50, pthresh=.1, cmap=\"mako\")\n",
    "#sns.kdeplot(x=Y, y=y_fit, levels=5, color=\"w\", linewidths=1)\n",
    "plt.ylim([-1,4])\n",
    "plt.xlim([-1,4])\n",
    "plt.xlabel(\"Real Weights\")\n",
    "plt.ylabel(\"predicted Weights\")"
   ]
  },
  {
   "cell_type": "markdown",
   "metadata": {},
   "source": [
    "### Solve with multiple linear regression"
   ]
  },
  {
   "cell_type": "code",
   "execution_count": null,
   "metadata": {
    "ExecuteTime": {
     "end_time": "2021-12-15T03:52:24.694088Z",
     "start_time": "2021-12-15T03:52:24.677645Z"
    }
   },
   "outputs": [],
   "source": [
    "import sklearn.linear_model as lm\n",
    "model = lm.LinearRegression(fit_intercept = True)\n",
    "\n",
    "model.fit(math_topic[[\"log_CitingOutDegree\",\"log_CitedInDegree\",\"IsSameParent\"]], math_topic[\"log_weight\"]);\n",
    "\n",
    "print (model.coef_, model.intercept_)"
   ]
  },
  {
   "cell_type": "code",
   "execution_count": null,
   "metadata": {},
   "outputs": [],
   "source": []
  },
  {
   "cell_type": "markdown",
   "metadata": {},
   "source": [
    "\n",
    "# The End\n",
    "\n",
    "**Source:**\n",
    "This notebook was adapted from:\n",
    "* Data 8: The Foundations of Data Science\n",
    "* Data 100: Principles and Techniques of Data Science by Suraj Rampure,  Fernando Pérez, et. al.\n",
    "* Introduction to Data Science and Visualization by James Bagrow\n"
   ]
  }
 ],
 "metadata": {
  "kernelspec": {
   "display_name": "Python 3 (ipykernel)",
   "language": "python",
   "name": "python3"
  },
  "language_info": {
   "codemirror_mode": {
    "name": "ipython",
    "version": 3
   },
   "file_extension": ".py",
   "mimetype": "text/x-python",
   "name": "python",
   "nbconvert_exporter": "python",
   "pygments_lexer": "ipython3",
   "version": "3.9.12"
  },
  "toc": {
   "base_numbering": 1,
   "nav_menu": {},
   "number_sections": true,
   "sideBar": true,
   "skip_h1_title": false,
   "title_cell": "Table of Contents",
   "title_sidebar": "Contents",
   "toc_cell": false,
   "toc_position": {
    "height": "calc(100% - 180px)",
    "left": "10px",
    "top": "150px",
    "width": "258.56px"
   },
   "toc_section_display": true,
   "toc_window_display": true
  }
 },
 "nbformat": 4,
 "nbformat_minor": 4
}
