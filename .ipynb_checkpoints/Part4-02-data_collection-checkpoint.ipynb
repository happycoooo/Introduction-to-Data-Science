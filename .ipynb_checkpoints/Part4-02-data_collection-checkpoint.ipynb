{
 "cells": [
  {
   "cell_type": "markdown",
   "id": "8bb0b653",
   "metadata": {},
   "source": [
    "<p style=\"font-size:15pt; text-align:center\">\n",
    "    Introduction to Data Science\n",
    "</p>\n",
    "<p style=\"font-size:20pt; text-align:center\">\n",
    "    Data Collection\n",
    "</p>"
   ]
  },
  {
   "cell_type": "code",
   "execution_count": 1,
   "id": "c52b21eb",
   "metadata": {
    "ExecuteTime": {
     "end_time": "2022-12-13T08:10:32.573127Z",
     "start_time": "2022-12-13T08:10:31.786473Z"
    }
   },
   "outputs": [],
   "source": [
    "import pandas as pd\n",
    "import requests"
   ]
  },
  {
   "cell_type": "markdown",
   "id": "932d0758",
   "metadata": {},
   "source": [
    "# HTTP"
   ]
  },
  {
   "cell_type": "markdown",
   "id": "4718b345",
   "metadata": {},
   "source": [
    "The Python `requests` library allows us to make HTTP requests in Python. "
   ]
  },
  {
   "cell_type": "code",
   "execution_count": 2,
   "id": "249ff428",
   "metadata": {
    "ExecuteTime": {
     "end_time": "2022-12-13T08:10:35.693505Z",
     "start_time": "2022-12-13T08:10:34.713419Z"
    }
   },
   "outputs": [
    {
     "data": {
      "text/plain": [
       "<Response [200]>"
      ]
     },
     "execution_count": 2,
     "metadata": {},
     "output_type": "execute_result"
    }
   ],
   "source": [
    "url = \"https://httpbin.org/html\"\n",
    "response = requests.get(url)\n",
    "response"
   ]
  },
  {
   "cell_type": "markdown",
   "id": "fcf29765",
   "metadata": {},
   "source": [
    "## The Request"
   ]
  },
  {
   "cell_type": "markdown",
   "id": "342ef757",
   "metadata": {},
   "source": [
    "Let’s take a closer look at the request we made. We can access the original request using `response` object; we display the request’s HTTP headers below:"
   ]
  },
  {
   "cell_type": "code",
   "execution_count": null,
   "id": "8c93b9e6",
   "metadata": {
    "ExecuteTime": {
     "end_time": "2022-12-13T08:23:39.425256Z",
     "start_time": "2022-12-13T08:23:39.414257Z"
    }
   },
   "outputs": [],
   "source": [
    "request = response.request\n",
    "for key in request.headers: # The headers in the response are stored as a dictionary.\n",
    "    print(f'{key}: {request.headers[key]}')"
   ]
  },
  {
   "cell_type": "markdown",
   "id": "5a653e71",
   "metadata": {},
   "source": [
    "Every HTTP request has a type. In this case, we used a `GET` request which retrieves information from a server."
   ]
  },
  {
   "cell_type": "code",
   "execution_count": null,
   "id": "6bf9fa9b",
   "metadata": {
    "ExecuteTime": {
     "end_time": "2022-12-13T08:23:41.547922Z",
     "start_time": "2022-12-13T08:23:41.541921Z"
    }
   },
   "outputs": [],
   "source": [
    "request.method"
   ]
  },
  {
   "cell_type": "markdown",
   "id": "d35cac22",
   "metadata": {},
   "source": [
    "## The Response"
   ]
  },
  {
   "cell_type": "markdown",
   "id": "46d9c26c",
   "metadata": {},
   "source": [
    "Let’s examine the response we received from the server. First, we will print the response’s HTTP headers."
   ]
  },
  {
   "cell_type": "code",
   "execution_count": null,
   "id": "7854085a",
   "metadata": {
    "ExecuteTime": {
     "end_time": "2022-12-13T08:24:00.892481Z",
     "start_time": "2022-12-13T08:24:00.874481Z"
    }
   },
   "outputs": [],
   "source": [
    "for key in response.headers:\n",
    "    print(f'{key}: {response.headers[key]}')"
   ]
  },
  {
   "cell_type": "markdown",
   "id": "869394ee",
   "metadata": {},
   "source": [
    "An HTTP response contains a status code, a special number that indicates whether the request succeeded or failed. The status code `200` indicates that the request succeeded."
   ]
  },
  {
   "cell_type": "code",
   "execution_count": null,
   "id": "02e95f0d",
   "metadata": {
    "ExecuteTime": {
     "end_time": "2022-12-13T08:24:05.144344Z",
     "start_time": "2022-12-13T08:24:05.126345Z"
    }
   },
   "outputs": [],
   "source": [
    "response.status_code"
   ]
  },
  {
   "cell_type": "markdown",
   "id": "5fa2bb83",
   "metadata": {},
   "source": [
    "Finally, we display the first 100 characters of the response’s content (the entire response content is too long to display nicely here)."
   ]
  },
  {
   "cell_type": "code",
   "execution_count": null,
   "id": "6d2abb2e",
   "metadata": {
    "ExecuteTime": {
     "end_time": "2022-12-13T08:24:09.215887Z",
     "start_time": "2022-12-13T08:24:09.197887Z"
    }
   },
   "outputs": [],
   "source": [
    "response.text"
   ]
  },
  {
   "cell_type": "markdown",
   "id": "6fe813b2",
   "metadata": {},
   "source": [
    "## Types of Requests"
   ]
  },
  {
   "cell_type": "markdown",
   "id": "223d3e13",
   "metadata": {},
   "source": [
    "### GET Requests"
   ]
  },
  {
   "cell_type": "markdown",
   "id": "8b170302",
   "metadata": {},
   "source": [
    "The `GET` request is used to retrieve information from the server. Since your web browser makes GET request whenever you enter in a URL into its address bar, `GET` requests are the most common type of HTTP requests."
   ]
  },
  {
   "cell_type": "markdown",
   "id": "ea6b0c39",
   "metadata": {},
   "source": [
    "### POST Request"
   ]
  },
  {
   "cell_type": "markdown",
   "id": "80f53130",
   "metadata": {},
   "source": [
    "The `POST` request is used to send information from the client to the server. For example, some web pages contain forms for the user to fill out—a login form, for example. After clicking the “Submit” button, most web browsers will make a `POST` request to send the form data to the server for processing."
   ]
  },
  {
   "cell_type": "markdown",
   "id": "5da8234d",
   "metadata": {},
   "source": [
    "### Types of Response Status Codes"
   ]
  },
  {
   "cell_type": "markdown",
   "id": "7b1b5766",
   "metadata": {},
   "source": [
    "* ***100s*** - Informational: More input is expected from client or server (e.g. 100 Continue, 102 Processing)\n",
    "\n",
    "* ***200s*** - Success: The client’s request was successful (e.g. 200 OK, 202 Accepted)\n",
    "\n",
    "* ***300s*** - Redirection: Requested URL is located elsewhere; May need user’s further action (e.g. 300 Multiple Choices, 301 Moved Permanently)\n",
    "\n",
    "* ***400s*** - Client Error: Client-side error (e.g. 400 Bad Request, 403 Forbidden, 404 Not Found)\n",
    "\n",
    "* ***500s*** - Server Error: Server-side error or server is incapable of performing the request (e.g. 500 Internal Server Error, 503 Service Unavailable)"
   ]
  },
  {
   "cell_type": "markdown",
   "id": "4b8d71b9",
   "metadata": {},
   "source": [
    "# Web Crawler"
   ]
  },
  {
   "cell_type": "markdown",
   "id": "a5c094a4",
   "metadata": {},
   "source": [
    "## get the html content"
   ]
  },
  {
   "cell_type": "code",
   "execution_count": null,
   "id": "ad30cab3",
   "metadata": {
    "ExecuteTime": {
     "end_time": "2022-12-13T08:25:19.415789Z",
     "start_time": "2022-12-13T08:25:19.242109Z"
    }
   },
   "outputs": [],
   "source": [
    "url = 'https://vp.fact.qq.com/home'\n",
    "content = requests.get(url)"
   ]
  },
  {
   "cell_type": "code",
   "execution_count": null,
   "id": "3f8320e5",
   "metadata": {
    "ExecuteTime": {
     "end_time": "2022-12-13T08:25:20.981848Z",
     "start_time": "2022-12-13T08:25:20.971842Z"
    }
   },
   "outputs": [],
   "source": [
    "help(requests.get)"
   ]
  },
  {
   "cell_type": "code",
   "execution_count": null,
   "id": "9a5c0c80",
   "metadata": {
    "ExecuteTime": {
     "end_time": "2022-12-13T08:25:25.770992Z",
     "start_time": "2022-12-13T08:25:25.750993Z"
    }
   },
   "outputs": [],
   "source": [
    "content.text"
   ]
  },
  {
   "cell_type": "markdown",
   "id": "e2f52d2e",
   "metadata": {},
   "source": [
    "## parse content from html"
   ]
  },
  {
   "cell_type": "markdown",
   "id": "9e2c315a",
   "metadata": {},
   "source": [
    "***Beautiful Soup***\n",
    "\n",
    "> Beautiful Soup is a Python library designed for quick turnaround projects like screen-scraping. Three features make it powerful:\n",
    "\n",
    "- Beautiful Soup provides a few simple methods. It doesn't take much code to write an application\n",
    "- Beautiful Soup automatically converts incoming documents to Unicode and outgoing documents to UTF-8. Then you just have to specify the original encoding.\n",
    "- Beautiful Soup sits on top of popular Python parsers like `lxml` and `html5lib`."
   ]
  },
  {
   "cell_type": "markdown",
   "id": "699bc30f",
   "metadata": {},
   "source": [
    "***Usefull methods in beautiful soup:***\n",
    "* ***select***\n",
    "* ***find***\n",
    "* ***find_all***"
   ]
  },
  {
   "cell_type": "code",
   "execution_count": null,
   "id": "1627d5bd",
   "metadata": {
    "ExecuteTime": {
     "end_time": "2022-12-13T08:25:33.406852Z",
     "start_time": "2022-12-13T08:25:33.240556Z"
    }
   },
   "outputs": [],
   "source": [
    "from bs4 import BeautifulSoup # if error, you need to install the package"
   ]
  },
  {
   "cell_type": "code",
   "execution_count": null,
   "id": "5136d94b",
   "metadata": {
    "ExecuteTime": {
     "end_time": "2022-12-13T08:25:35.413802Z",
     "start_time": "2022-12-13T08:25:35.376492Z"
    }
   },
   "outputs": [],
   "source": [
    "soup = BeautifulSoup(content.text, 'html.parser') "
   ]
  },
  {
   "cell_type": "code",
   "execution_count": null,
   "id": "40907c3f",
   "metadata": {
    "ExecuteTime": {
     "end_time": "2022-12-13T08:25:38.350868Z",
     "start_time": "2022-12-13T08:25:38.302862Z"
    },
    "scrolled": true
   },
   "outputs": [],
   "source": [
    "soup"
   ]
  },
  {
   "cell_type": "code",
   "execution_count": null,
   "id": "ccaa0cbd",
   "metadata": {
    "ExecuteTime": {
     "end_time": "2022-12-13T08:33:05.623883Z",
     "start_time": "2022-12-13T08:33:05.612882Z"
    }
   },
   "outputs": [],
   "source": [
    "[i.text for i in soup.select('.InfiniteList_listContentText__89_ud')]\n",
    "#[i.text.split('\\xa0')[0].replace('\\u200b', '') for i in soup.select('.InfiniteList_listContentText__89_ud')]"
   ]
  },
  {
   "cell_type": "code",
   "execution_count": null,
   "id": "d6ac0bbb",
   "metadata": {
    "ExecuteTime": {
     "end_time": "2022-12-13T08:33:46.729580Z",
     "start_time": "2022-12-13T08:33:46.705583Z"
    }
   },
   "outputs": [],
   "source": [
    "[i.text for i in soup.select('.InfiniteList_backgroundfalse__JK57x')]"
   ]
  },
  {
   "cell_type": "markdown",
   "id": "7e82c868",
   "metadata": {},
   "source": [
    "## simple to parse table by `Pandas`"
   ]
  },
  {
   "cell_type": "code",
   "execution_count": null,
   "id": "d8a7bac6",
   "metadata": {
    "ExecuteTime": {
     "end_time": "2022-12-13T08:41:10.037781Z",
     "start_time": "2022-12-13T08:41:09.465824Z"
    }
   },
   "outputs": [],
   "source": [
    "#url = \"https://www.douban.com/group/730749/discussion?start=0\"\n",
    "url = \"https://www.douban.com/group/14771/\"\n",
    "headers ={'User-Agent': 'Mozilla/5.0 (Windows NT 10.0; Win64; x64) AppleWebKit/537.36 (KHTML, like Gecko) Chrome/89.0.4343.0 Safari/537.36',\n",
    "         }\n",
    "response = requests.get(url, headers=headers)\n",
    "tables  = pd.read_html(response.text)\n"
   ]
  },
  {
   "cell_type": "code",
   "execution_count": null,
   "id": "d6c87908",
   "metadata": {
    "ExecuteTime": {
     "end_time": "2022-12-13T08:41:11.006561Z",
     "start_time": "2022-12-13T08:41:10.991530Z"
    }
   },
   "outputs": [],
   "source": [
    "response"
   ]
  },
  {
   "cell_type": "code",
   "execution_count": null,
   "id": "b741bde3",
   "metadata": {
    "ExecuteTime": {
     "end_time": "2022-12-13T08:41:11.848534Z",
     "start_time": "2022-12-13T08:41:11.838537Z"
    }
   },
   "outputs": [],
   "source": [
    "len(tables)"
   ]
  },
  {
   "cell_type": "code",
   "execution_count": null,
   "id": "be6190af",
   "metadata": {
    "ExecuteTime": {
     "end_time": "2022-12-13T08:41:13.730836Z",
     "start_time": "2022-12-13T08:41:13.707836Z"
    }
   },
   "outputs": [],
   "source": [
    "tables[0]"
   ]
  },
  {
   "cell_type": "code",
   "execution_count": null,
   "id": "7b7aaee0",
   "metadata": {},
   "outputs": [],
   "source": []
  },
  {
   "cell_type": "markdown",
   "id": "c7e53bc3",
   "metadata": {},
   "source": [
    "# The End \n",
    "\n",
    "**Source**\n",
    "\n",
    "This notebook was adapted from:\n",
    "* Data 100: Principles and Techniques of Data Science\n",
    "* Introduction to Computational Communication by Chengjun Wang"
   ]
  }
 ],
 "metadata": {
  "kernelspec": {
   "display_name": "Python 3 (ipykernel)",
   "language": "python",
   "name": "python3"
  },
  "language_info": {
   "codemirror_mode": {
    "name": "ipython",
    "version": 3
   },
   "file_extension": ".py",
   "mimetype": "text/x-python",
   "name": "python",
   "nbconvert_exporter": "python",
   "pygments_lexer": "ipython3",
   "version": "3.9.12"
  },
  "toc": {
   "base_numbering": 1,
   "nav_menu": {},
   "number_sections": true,
   "sideBar": true,
   "skip_h1_title": false,
   "title_cell": "Table of Contents",
   "title_sidebar": "Contents",
   "toc_cell": false,
   "toc_position": {},
   "toc_section_display": true,
   "toc_window_display": false
  }
 },
 "nbformat": 4,
 "nbformat_minor": 5
}
