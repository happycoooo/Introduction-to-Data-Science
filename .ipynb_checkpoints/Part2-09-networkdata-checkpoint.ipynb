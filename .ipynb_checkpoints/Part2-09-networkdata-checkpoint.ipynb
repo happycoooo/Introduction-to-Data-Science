{
 "cells": [
  {
   "cell_type": "markdown",
   "metadata": {
    "slideshow": {
     "slide_type": "slide"
    }
   },
   "source": [
    "<p style=\"font-size:15pt; text-align:center\">\n",
    "    Introduction to Data Science\n",
    "</p>\n",
    "<p style=\"font-size:20pt; text-align:center\">\n",
    "    Working with network data\n",
    "</p>"
   ]
  },
  {
   "cell_type": "code",
   "execution_count": 2,
   "metadata": {
    "ExecuteTime": {
     "end_time": "2022-11-21T06:02:50.413863Z",
     "start_time": "2022-11-21T06:02:49.950856Z"
    }
   },
   "outputs": [],
   "source": [
    "from collections import Counter # dict subclass for counting hashable objects\n",
    "from pprint import pprint  # pretty printer\n",
    "\n",
    "import numpy as np\n",
    "import matplotlib.pyplot as plt"
   ]
  },
  {
   "cell_type": "code",
   "execution_count": 3,
   "metadata": {
    "ExecuteTime": {
     "end_time": "2022-11-21T05:21:22.188069Z",
     "start_time": "2022-11-21T05:21:22.180068Z"
    }
   },
   "outputs": [
    {
     "data": {
      "text/plain": [
       "Counter({1: 1, 2: 1, 3: 2, 4: 1, 5: 1, 6: 2, 7: 3})"
      ]
     },
     "execution_count": 3,
     "metadata": {},
     "output_type": "execute_result"
    }
   ],
   "source": [
    "# Counter将元素数量统计，然后计数并返回一个字典，键为元素，值为元素个数\n",
    "Counter([1,2,3,3,4,5,6,6,7,7,7])"
   ]
  },
  {
   "cell_type": "markdown",
   "metadata": {
    "slideshow": {
     "slide_type": "slide"
    }
   },
   "source": [
    "# Edge List"
   ]
  },
  {
   "cell_type": "markdown",
   "metadata": {},
   "source": [
    "Let us start by defining a list of edges. This will give us our first \"dataset\" to work with. The network structure is:\n",
    "\n",
    "<img src=\"file/graph_diagram.png\" width=400>\n"
   ]
  },
  {
   "cell_type": "code",
   "execution_count": 2,
   "metadata": {
    "ExecuteTime": {
     "end_time": "2022-11-21T06:02:48.016214Z",
     "start_time": "2022-11-21T06:02:48.011212Z"
    }
   },
   "outputs": [],
   "source": [
    "edge_list = [\n",
    "    ('A', 'B'),\n",
    "    ('A', 'C'),\n",
    "    ('A', 'E'),\n",
    "    ('B', 'C'),\n",
    "    ('C', 'D'),\n",
    "    ('C', 'E'),\n",
    "    ('D', 'E')]"
   ]
  },
  {
   "cell_type": "markdown",
   "metadata": {
    "slideshow": {
     "slide_type": "slide"
    }
   },
   "source": [
    "This is a particularly useful representation as many datasets are distributed in this (or a closely related) format. From this list, we can easily measure the number of edges that constitute our network. It's main limitations are that it has no way to explictly take into account disconnected nodes (it only accounts for nodes that are part of edges) and no indication on whether it is directed or not."
   ]
  },
  {
   "cell_type": "code",
   "execution_count": 15,
   "metadata": {
    "ExecuteTime": {
     "end_time": "2022-11-21T06:04:55.058036Z",
     "start_time": "2022-11-21T06:04:55.040035Z"
    }
   },
   "outputs": [
    {
     "name": "stdout",
     "output_type": "stream",
     "text": [
      "7\n"
     ]
    }
   ],
   "source": [
    "number_edges = len(edge_list)\n",
    "print(number_edges)"
   ]
  },
  {
   "cell_type": "markdown",
   "metadata": {
    "slideshow": {
     "slide_type": "slide"
    }
   },
   "source": [
    "To get the number of node is a bit trickier. We must go edge by edge and keep track of all new nodes. For efficiency, we use a set to automatically remove duplicates"
   ]
  },
  {
   "cell_type": "code",
   "execution_count": 16,
   "metadata": {
    "ExecuteTime": {
     "end_time": "2022-11-21T06:04:56.977927Z",
     "start_time": "2022-11-21T06:04:56.967921Z"
    }
   },
   "outputs": [
    {
     "name": "stdout",
     "output_type": "stream",
     "text": [
      "5\n"
     ]
    }
   ],
   "source": [
    "nodes = set()\n",
    "\n",
    "for edge in edge_list:\n",
    "    nodes = nodes|set(edge)\n",
    "    #nodes.update(edge)\n",
    "    \n",
    "number_nodes = len(nodes)\n",
    "print(number_nodes)"
   ]
  },
  {
   "cell_type": "code",
   "execution_count": 17,
   "metadata": {
    "ExecuteTime": {
     "end_time": "2022-11-21T06:04:59.885297Z",
     "start_time": "2022-11-21T06:04:59.879298Z"
    }
   },
   "outputs": [
    {
     "data": {
      "text/plain": [
       "{'A', 'B', 'C', 'D', 'E'}"
      ]
     },
     "execution_count": 17,
     "metadata": {},
     "output_type": "execute_result"
    }
   ],
   "source": [
    "nodes"
   ]
  },
  {
   "cell_type": "markdown",
   "metadata": {
    "slideshow": {
     "slide_type": "slide"
    }
   },
   "source": [
    "Now we know that we have 5 nodes and 7 edges in our network. The node ids are:"
   ]
  },
  {
   "cell_type": "code",
   "execution_count": null,
   "metadata": {
    "ExecuteTime": {
     "end_time": "2022-11-21T05:21:22.266055Z",
     "start_time": "2022-11-21T05:21:22.252049Z"
    }
   },
   "outputs": [],
   "source": [
    "nodes"
   ]
  },
  {
   "cell_type": "markdown",
   "metadata": {
    "slideshow": {
     "slide_type": "slide"
    }
   },
   "source": [
    "# Adjacency List"
   ]
  },
  {
   "cell_type": "markdown",
   "metadata": {},
   "source": [
    "A closely related data structure to the edge list is the adjacency list. In this formulation, we use a dictionary to map each node to its set of neighbors"
   ]
  },
  {
   "cell_type": "code",
   "execution_count": 9,
   "metadata": {
    "ExecuteTime": {
     "end_time": "2022-11-21T06:04:20.619329Z",
     "start_time": "2022-11-21T06:04:20.608330Z"
    }
   },
   "outputs": [],
   "source": [
    "adj_list = {}\n",
    "\n",
    "for node_i, node_j in edge_list:\n",
    "    if node_i not in adj_list:\n",
    "        adj_list[node_i] = set()\n",
    "    \n",
    "    adj_list[node_i].add(node_j)\n"
   ]
  },
  {
   "cell_type": "code",
   "execution_count": 10,
   "metadata": {
    "ExecuteTime": {
     "end_time": "2022-11-21T06:04:23.327147Z",
     "start_time": "2022-11-21T06:04:23.307149Z"
    }
   },
   "outputs": [
    {
     "data": {
      "text/plain": [
       "{'A': {'B', 'C', 'E'}, 'B': {'C'}, 'C': {'D', 'E'}, 'D': {'E'}}"
      ]
     },
     "execution_count": 10,
     "metadata": {},
     "output_type": "execute_result"
    }
   ],
   "source": [
    "adj_list"
   ]
  },
  {
   "cell_type": "markdown",
   "metadata": {},
   "source": [
    "Our adjaceny list is then:"
   ]
  },
  {
   "cell_type": "code",
   "execution_count": 11,
   "metadata": {
    "ExecuteTime": {
     "end_time": "2022-11-21T06:04:26.354035Z",
     "start_time": "2022-11-21T06:04:26.344029Z"
    }
   },
   "outputs": [
    {
     "name": "stdout",
     "output_type": "stream",
     "text": [
      "{'A': {'B', 'E', 'C'}, 'B': {'C'}, 'C': {'E', 'D'}, 'D': {'E'}}\n"
     ]
    }
   ],
   "source": [
    "pprint(adj_list)"
   ]
  },
  {
   "cell_type": "markdown",
   "metadata": {
    "slideshow": {
     "slide_type": "slide"
    }
   },
   "source": [
    "In this approach we inherently assumed that our network is directed (or, equivalently, that both edge directions are present in the data). To generate an undirected version we must make a simple modification to our code to manually add the opposite direction edge"
   ]
  },
  {
   "cell_type": "code",
   "execution_count": 12,
   "metadata": {
    "ExecuteTime": {
     "end_time": "2022-11-21T06:04:33.900704Z",
     "start_time": "2022-11-21T06:04:33.881706Z"
    }
   },
   "outputs": [],
   "source": [
    "adj_list = {}\n",
    "\n",
    "for node_i, node_j in edge_list:\n",
    "    if node_i not in adj_list:\n",
    "        adj_list[node_i] = set() # 'set' is used to prevent accidental multiple edges\n",
    "    \n",
    "    adj_list[node_i].add(node_j)\n",
    "    \n",
    "    # Manually add the opposite direction edge\n",
    "    if node_j not in adj_list:\n",
    "        adj_list[node_j] = set()\n",
    "    \n",
    "    adj_list[node_j].add(node_i)"
   ]
  },
  {
   "cell_type": "markdown",
   "metadata": {},
   "source": [
    "The undirected adjacency list represenation is then:"
   ]
  },
  {
   "cell_type": "code",
   "execution_count": 8,
   "metadata": {
    "ExecuteTime": {
     "end_time": "2022-11-21T06:03:21.509497Z",
     "start_time": "2022-11-21T06:03:21.492496Z"
    }
   },
   "outputs": [
    {
     "name": "stdout",
     "output_type": "stream",
     "text": [
      "{'A': {'B', 'E', 'C'},\n",
      " 'B': {'A', 'C'},\n",
      " 'C': {'B', 'A', 'E', 'D'},\n",
      " 'D': {'E', 'C'},\n",
      " 'E': {'A', 'C', 'D'}}\n"
     ]
    }
   ],
   "source": [
    "pprint(adj_list)"
   ]
  },
  {
   "cell_type": "markdown",
   "metadata": {
    "slideshow": {
     "slide_type": "slide"
    }
   },
   "source": [
    "# Adjacency Matrix"
   ]
  },
  {
   "cell_type": "markdown",
   "metadata": {},
   "source": [
    "We now move on to generating an Adjacency Matrix view of the network. For this we must have two things: \n",
    "\n",
    "- the number of nodes in the network\n",
    "- A mapping between the original node ids and a sequential numerical ID\n",
    "\n",
    "We start by building out the numerical ID mapping. As we do, we get the number of nodes for free"
   ]
  },
  {
   "cell_type": "code",
   "execution_count": 18,
   "metadata": {
    "ExecuteTime": {
     "end_time": "2022-11-21T06:05:05.696830Z",
     "start_time": "2022-11-21T06:05:05.688832Z"
    }
   },
   "outputs": [],
   "source": [
    "node_id = {}\n",
    "node_count = 0\n",
    "\n",
    "for node_i, node_j in edge_list:\n",
    "    if node_i not in node_id:\n",
    "        node_id[node_i] = node_count\n",
    "        node_count += 1\n",
    "    \n",
    "    # Make sure we have an id for both nodes\n",
    "    # This is necessary, irregardless of whether the network is directed or undirected\n",
    "    if node_j not in node_id:\n",
    "        node_id[node_j] = node_count\n",
    "        node_count += 1"
   ]
  },
  {
   "cell_type": "code",
   "execution_count": 19,
   "metadata": {
    "ExecuteTime": {
     "end_time": "2022-11-21T06:05:08.142242Z",
     "start_time": "2022-11-21T06:05:08.127237Z"
    }
   },
   "outputs": [
    {
     "data": {
      "text/plain": [
       "{'C': 0, 'E': 1, 'B': 2, 'A': 3, 'D': 4}"
      ]
     },
     "execution_count": 19,
     "metadata": {},
     "output_type": "execute_result"
    }
   ],
   "source": [
    "dict(zip(nodes, range(len(nodes))))"
   ]
  },
  {
   "cell_type": "markdown",
   "metadata": {},
   "source": [
    "We can check that each of the original node ids is correctly mapped to a sequential number"
   ]
  },
  {
   "cell_type": "code",
   "execution_count": 20,
   "metadata": {
    "ExecuteTime": {
     "end_time": "2022-11-21T06:05:17.513075Z",
     "start_time": "2022-11-21T06:05:17.493070Z"
    }
   },
   "outputs": [
    {
     "data": {
      "text/plain": [
       "{'A': 0, 'B': 1, 'C': 2, 'E': 3, 'D': 4}"
      ]
     },
     "execution_count": 20,
     "metadata": {},
     "output_type": "execute_result"
    }
   ],
   "source": [
    "node_id"
   ]
  },
  {
   "cell_type": "markdown",
   "metadata": {},
   "source": [
    "Finally, we are ready to build our adjacency matrix. We start by declaring the data structurewe will use"
   ]
  },
  {
   "cell_type": "code",
   "execution_count": 21,
   "metadata": {
    "ExecuteTime": {
     "end_time": "2022-11-21T06:05:26.226067Z",
     "start_time": "2022-11-21T06:05:26.215060Z"
    }
   },
   "outputs": [
    {
     "data": {
      "text/plain": [
       "array([[0, 0, 0, 0, 0],\n",
       "       [0, 0, 0, 0, 0],\n",
       "       [0, 0, 0, 0, 0],\n",
       "       [0, 0, 0, 0, 0],\n",
       "       [0, 0, 0, 0, 0]])"
      ]
     },
     "execution_count": 21,
     "metadata": {},
     "output_type": "execute_result"
    }
   ],
   "source": [
    "adj_matrix = np.zeros((node_count, node_count), dtype='int')\n",
    "adj_matrix"
   ]
  },
  {
   "cell_type": "markdown",
   "metadata": {},
   "source": [
    "And we can now populate the matrix entries. For generality, we'll include a flag to control wether or not the graph is directed. As we don't have any weights associated with our edges, we assign to each of them a value of 1."
   ]
  },
  {
   "cell_type": "code",
   "execution_count": null,
   "metadata": {
    "ExecuteTime": {
     "end_time": "2022-11-21T05:21:22.424048Z",
     "start_time": "2022-11-21T05:21:22.409054Z"
    }
   },
   "outputs": [],
   "source": [
    "is_directed = False\n",
    "\n",
    "for node_i, node_j in edge_list:    \n",
    "    # Get the correct node ids\n",
    "    n_i = node_id[node_i]\n",
    "    n_j = node_id[node_j]\n",
    "    \n",
    "    adj_matrix[n_i, n_j] = 1 # Unweighted network\n",
    "\n",
    "    if not is_directed:\n",
    "        adj_matrix[n_j, n_i] = 1 # Undirected networks"
   ]
  },
  {
   "cell_type": "markdown",
   "metadata": {},
   "source": [
    "Our Adjacency Matrix is then:"
   ]
  },
  {
   "cell_type": "code",
   "execution_count": null,
   "metadata": {
    "ExecuteTime": {
     "end_time": "2022-11-21T05:21:22.440048Z",
     "start_time": "2022-11-21T05:21:22.425052Z"
    }
   },
   "outputs": [],
   "source": [
    "adj_matrix"
   ]
  },
  {
   "cell_type": "markdown",
   "metadata": {},
   "source": [
    "As we can see, the Adjacency matrix representation is very wasteful, using 25 values to store a 7 (14) edge network plus 5 dictionary entries for the id mappings."
   ]
  },
  {
   "cell_type": "markdown",
   "metadata": {
    "slideshow": {
     "slide_type": "slide"
    }
   },
   "source": [
    "# Adjacency Dict"
   ]
  },
  {
   "cell_type": "markdown",
   "metadata": {},
   "source": [
    "The final graph representation we will explore is the Adjacency Dict. This is a generalization of the Adjacency List covered above that is a bit more flexible and is able to accuratly account for diconnected nodes, weights, etc. For this we will need two datastructures, one to store node information and one for edges. For the sake of flexbility, we will use dicts for both."
   ]
  },
  {
   "cell_type": "code",
   "execution_count": null,
   "metadata": {
    "ExecuteTime": {
     "end_time": "2022-11-21T05:21:22.456050Z",
     "start_time": "2022-11-21T05:21:22.442050Z"
    }
   },
   "outputs": [],
   "source": [
    "nodes = {}\n",
    "edges = {}\n",
    "is_directed = False"
   ]
  },
  {
   "cell_type": "markdown",
   "metadata": {
    "slideshow": {
     "slide_type": "slide"
    }
   },
   "source": [
    "And we can now populate them from our original edge_list"
   ]
  },
  {
   "cell_type": "code",
   "execution_count": null,
   "metadata": {
    "ExecuteTime": {
     "end_time": "2022-11-21T05:21:22.472051Z",
     "start_time": "2022-11-21T05:21:22.457051Z"
    }
   },
   "outputs": [],
   "source": [
    "for node_i, node_j in edge_list:\n",
    "    if node_i not in nodes:\n",
    "        nodes[node_i] = {}\n",
    "        edges[node_i] = {}\n",
    "        \n",
    "    if node_j not in nodes:\n",
    "        nodes[node_j] = {}\n",
    "        \n",
    "        if not is_directed:\n",
    "            edges[node_j] = {}\n",
    "    \n",
    "    edges[node_i][node_j] = {\"weight\":node_i+node_j,\"others\":node_i}\n",
    "    \n",
    "    \n",
    "    if not is_directed:\n",
    "        edges[node_j][node_i] = {\"weight\":node_i+node_j,\"others\":node_j}"
   ]
  },
  {
   "cell_type": "markdown",
   "metadata": {},
   "source": [
    "Our set of nodes is:"
   ]
  },
  {
   "cell_type": "code",
   "execution_count": null,
   "metadata": {
    "ExecuteTime": {
     "end_time": "2022-11-21T05:21:22.487049Z",
     "start_time": "2022-11-21T05:21:22.474050Z"
    }
   },
   "outputs": [],
   "source": [
    "nodes"
   ]
  },
  {
   "cell_type": "markdown",
   "metadata": {},
   "source": [
    "Where we chose to use dictinaries to allow for the storage of node attributes. Further, our edges are now:"
   ]
  },
  {
   "cell_type": "code",
   "execution_count": null,
   "metadata": {
    "ExecuteTime": {
     "end_time": "2022-11-21T05:21:22.502058Z",
     "start_time": "2022-11-21T05:21:22.490050Z"
    }
   },
   "outputs": [],
   "source": [
    "pprint(edges, indent=4)"
   ]
  },
  {
   "cell_type": "code",
   "execution_count": null,
   "metadata": {
    "ExecuteTime": {
     "end_time": "2022-11-21T05:21:23.502057Z",
     "start_time": "2022-11-21T05:21:22.504050Z"
    }
   },
   "outputs": [],
   "source": [
    "import networkx"
   ]
  },
  {
   "cell_type": "markdown",
   "metadata": {},
   "source": [
    "Where we once again opted to associate a dictionary to each edge. This gives us the ability to associate edge information (such as weights, etc) to each node."
   ]
  },
  {
   "cell_type": "markdown",
   "metadata": {},
   "source": [
    "#  Network Analysis and Visualization Platform\n",
    "\n",
    "https://gephi.org/"
   ]
  },
  {
   "cell_type": "code",
   "execution_count": null,
   "metadata": {},
   "outputs": [],
   "source": []
  },
  {
   "cell_type": "code",
   "execution_count": null,
   "metadata": {},
   "outputs": [],
   "source": []
  },
  {
   "cell_type": "markdown",
   "metadata": {},
   "source": [
    "# The End\n",
    "\n",
    "**Source**\n",
    "\n",
    "This notebook was adapted from:\n",
    "* Data 8: The Foundations of Data Science\n",
    "* Introduction to Data Science by Michael Szell\n",
    "* Introduction to Data Science and Visualization by James Bagrow\n",
    "* Bruno Gonçalves, Data4Sci"
   ]
  }
 ],
 "metadata": {
  "celltoolbar": "Slideshow",
  "kernelspec": {
   "display_name": "Python 3 (ipykernel)",
   "language": "python",
   "name": "python3"
  },
  "language_info": {
   "codemirror_mode": {
    "name": "ipython",
    "version": 3
   },
   "file_extension": ".py",
   "mimetype": "text/x-python",
   "name": "python",
   "nbconvert_exporter": "python",
   "pygments_lexer": "ipython3",
   "version": "3.9.12"
  },
  "toc": {
   "base_numbering": 1,
   "nav_menu": {},
   "number_sections": true,
   "sideBar": true,
   "skip_h1_title": false,
   "title_cell": "Table of Contents",
   "title_sidebar": "Contents",
   "toc_cell": false,
   "toc_position": {},
   "toc_section_display": true,
   "toc_window_display": false
  }
 },
 "nbformat": 4,
 "nbformat_minor": 1
}
