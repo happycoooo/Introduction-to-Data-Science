{
 "cells": [
  {
   "cell_type": "markdown",
   "id": "9cc79008",
   "metadata": {
    "slideshow": {
     "slide_type": "slide"
    }
   },
   "source": [
    "# Control Flow"
   ]
  },
  {
   "cell_type": "markdown",
   "id": "4e1d03a9",
   "metadata": {},
   "source": [
    "*Control flow* is where the rubber really meets the road in programming.\n",
    "Without it, a program is simply a list of statements that are sequentially executed.\n",
    "With control flow, you can execute certain code blocks conditionally and/or repeatedly: these basic building blocks can be combined to create surprisingly sophisticated programs!\n",
    "\n",
    "Here we'll cover *conditional statements* (including \"``if``\", \"``elif``\", and \"``else``\"), *loop statements* (including \"``for``\" and \"``while``\" and the accompanying \"``break``\", \"``continue``\", and \"``pass``\")."
   ]
  },
  {
   "cell_type": "markdown",
   "id": "17c1188c",
   "metadata": {
    "slideshow": {
     "slide_type": "slide"
    }
   },
   "source": [
    "## Conditional Statements: ``if``-``elif``-``else``:\n",
    "Conditional statements, often referred to as *if-then* statements, allow the programmer to execute certain pieces of code depending on some Boolean condition.\n",
    "A basic example of a Python conditional statement is this:"
   ]
  },
  {
   "cell_type": "code",
   "execution_count": null,
   "id": "8f20afae",
   "metadata": {
    "ExecuteTime": {
     "end_time": "2022-09-25T12:29:51.359452Z",
     "start_time": "2022-09-25T12:29:51.340466Z"
    }
   },
   "outputs": [],
   "source": [
    "x = -15\n",
    "\n",
    "if x == 0:\n",
    "    print(x, \"is zero\")\n",
    "elif x > 0:\n",
    "    print(x, \"is positive\")\n",
    "elif x < 0:\n",
    "    print(x, \"is negative\")\n",
    "else:\n",
    "    print(x, \"is unlike anything I've ever seen...\")"
   ]
  },
  {
   "cell_type": "markdown",
   "id": "d78bf781",
   "metadata": {
    "slideshow": {
     "slide_type": "slide"
    }
   },
   "source": [
    "Note especially the use of colons (``:``) and whitespace to denote separate blocks of code.\n",
    "\n",
    "Python adopts the ``if`` and ``else`` often used in other languages; its more unique keyword is ``elif``, a contraction of \"else if\".\n",
    "\n",
    "In these conditional clauses, ``elif`` and ``else`` blocks are optional; additionally, you can optinally include as few or as many ``elif`` statements as you would like."
   ]
  },
  {
   "cell_type": "markdown",
   "id": "b340b47e",
   "metadata": {
    "slideshow": {
     "slide_type": "slide"
    }
   },
   "source": [
    "## ``for`` loops\n",
    "Loops in Python are a way to repeatedly execute some code statement.\n",
    "So, for example, if we'd like to print each of the items in a list, we can use a ``for`` loop:"
   ]
  },
  {
   "cell_type": "code",
   "execution_count": 1,
   "id": "eaaedd62",
   "metadata": {
    "ExecuteTime": {
     "end_time": "2022-09-25T12:29:51.374452Z",
     "start_time": "2022-09-25T12:29:51.365452Z"
    }
   },
   "outputs": [
    {
     "name": "stdout",
     "output_type": "stream",
     "text": [
      "2 3 5 7 "
     ]
    }
   ],
   "source": [
    "for N in [2, 3, 5, 7]:\n",
    "    print(N, end=' ') # print all on same line"
   ]
  },
  {
   "cell_type": "markdown",
   "id": "1915c7c8",
   "metadata": {
    "slideshow": {
     "slide_type": "slide"
    }
   },
   "source": [
    "Notice the simplicity of the `for` loop: we specify the variable we want to use, the sequence we want to loop over, and use the \"`in`\" operator to link them together in an intuitive and readable way. We do not need to deal with a looping index variable (unless we want to!).\n",
    "\n",
    "* The Python for loop is considered a \"foreach\" loop in other languages. You can read the above as \"for each N in [2,3,5,7]\".\n",
    "\n",
    "The object to the right of the \"``in``\" can be any Python *iterator*, not just a list.\n",
    "An iterator can be thought of as a generalized sequence, and we'll discuss them in [Iterators and List Comprehensions](13-Iterators-and-List-Comprehensions.ipynb).\n",
    "\n",
    "For example, one of the most commonly-used iterators in Python is the ``range`` object, which generates a sequence of numbers:"
   ]
  },
  {
   "cell_type": "code",
   "execution_count": null,
   "id": "f70dae57",
   "metadata": {
    "ExecuteTime": {
     "end_time": "2022-09-25T12:29:51.389460Z",
     "start_time": "2022-09-25T12:29:51.379476Z"
    }
   },
   "outputs": [],
   "source": [
    "for i in range(10):\n",
    "    print(i, end=' ')"
   ]
  },
  {
   "cell_type": "markdown",
   "id": "2afca862",
   "metadata": {
    "slideshow": {
     "slide_type": "slide"
    }
   },
   "source": [
    "Note that the range starts at zero by default, and that by convention the top of the range is not included in the output.\n",
    "Range objects can also have more complicated values:"
   ]
  },
  {
   "cell_type": "code",
   "execution_count": null,
   "id": "47328aa5",
   "metadata": {
    "ExecuteTime": {
     "end_time": "2022-09-25T12:29:51.405390Z",
     "start_time": "2022-09-25T12:29:51.392391Z"
    }
   },
   "outputs": [],
   "source": [
    "# range from 5 to 10\n",
    "list(range(5, 10))"
   ]
  },
  {
   "cell_type": "code",
   "execution_count": null,
   "id": "7f020c5b",
   "metadata": {
    "ExecuteTime": {
     "end_time": "2022-09-25T12:29:51.421390Z",
     "start_time": "2022-09-25T12:29:51.409390Z"
    },
    "slideshow": {
     "slide_type": "slide"
    }
   },
   "outputs": [],
   "source": [
    "# range from 0 to 10 by 2\n",
    "list(range(0, 10, 2))"
   ]
  },
  {
   "cell_type": "markdown",
   "id": "b5aed55a",
   "metadata": {},
   "source": [
    "You might notice that the meaning of ``range`` arguments is very similar to the slicing syntax that we covered in [Lists](07-Built-in-Data-Structures.ipynb#Lists).\n",
    "\n",
    "Note that the behavior of ``range()`` is one of the differences between Python 2 and Python 3: in Python 2, ``range()`` produces a list, while in Python 3, ``range()`` produces an iterable object."
   ]
  },
  {
   "cell_type": "markdown",
   "id": "d074ebb2",
   "metadata": {
    "slideshow": {
     "slide_type": "slide"
    }
   },
   "source": [
    "## ``while`` loops\n",
    "The other type of loop in Python is a ``while`` loop, which iterates until some condition is met:"
   ]
  },
  {
   "cell_type": "code",
   "execution_count": null,
   "id": "1a78a570",
   "metadata": {
    "ExecuteTime": {
     "end_time": "2022-09-25T12:29:51.437390Z",
     "start_time": "2022-09-25T12:29:51.423391Z"
    }
   },
   "outputs": [],
   "source": [
    "i = 0\n",
    "while i < 10:\n",
    "    print(i, end=' ')\n",
    "    i += 1"
   ]
  },
  {
   "cell_type": "markdown",
   "id": "4af7f112",
   "metadata": {},
   "source": [
    "The argument of the ``while`` loop is evaluated as a boolean statement, and the loop is executed until the statement evaluates to False."
   ]
  },
  {
   "cell_type": "markdown",
   "id": "5600efff",
   "metadata": {
    "slideshow": {
     "slide_type": "slide"
    }
   },
   "source": [
    "## ``break`` and ``continue``: Fine-Tuning Your Loops\n",
    "There are two useful statements that can be used within loops to fine-tune how they are executed:\n",
    "\n",
    "- The ``break`` statement breaks-out of the loop entirely\n",
    "- The ``continue`` statement skips the remainder of the current loop, and goes to the next iteration\n",
    "\n",
    "These can be used in both ``for`` and ``while`` loops.\n",
    "\n",
    "Here is an example of using ``continue`` to print a string of even numbers.\n",
    "In this case, the result could be accomplished just as well with an ``if-else`` statement, but sometimes the ``continue`` statement can be a more convenient way to express the idea you have in mind:"
   ]
  },
  {
   "cell_type": "code",
   "execution_count": null,
   "id": "695a1853",
   "metadata": {
    "ExecuteTime": {
     "end_time": "2022-09-25T12:29:51.452391Z",
     "start_time": "2022-09-25T12:29:51.439390Z"
    }
   },
   "outputs": [],
   "source": [
    "for n in range(20):\n",
    "    # check if n is even\n",
    "    if n % 2 == 0:\n",
    "        #ontinue\n",
    "        break\n",
    "    print(n, end=' ')"
   ]
  },
  {
   "cell_type": "markdown",
   "id": "3e1b5f96",
   "metadata": {
    "slideshow": {
     "slide_type": "slide"
    }
   },
   "source": [
    "Here is an example of a ``break`` statement used for a less trivial task.\n",
    "This loop will fill a list with all Fibonacci numbers up to a certain value:"
   ]
  },
  {
   "cell_type": "code",
   "execution_count": null,
   "id": "00c05fe8",
   "metadata": {
    "ExecuteTime": {
     "end_time": "2022-09-25T12:29:51.467391Z",
     "start_time": "2022-09-25T12:29:51.456391Z"
    }
   },
   "outputs": [],
   "source": [
    "a, b = 0, 1\n",
    "amax = 100\n",
    "L = []\n",
    "\n",
    "while True:\n",
    "    (a, b) = (b, a + b)\n",
    "    if a > amax:\n",
    "        break\n",
    "    L.append(a)\n",
    "\n",
    "print(L)"
   ]
  },
  {
   "cell_type": "markdown",
   "id": "dc6f7a49",
   "metadata": {},
   "source": [
    "Notice that we use a ``while True`` loop, which will loop forever unless we have a break statement!"
   ]
  },
  {
   "cell_type": "markdown",
   "id": "f3f76015",
   "metadata": {
    "slideshow": {
     "slide_type": "slide"
    }
   },
   "source": [
    "# Defining and Using Functions"
   ]
  },
  {
   "cell_type": "markdown",
   "id": "14ba9a4a",
   "metadata": {},
   "source": [
    "So far, our scripts have been simple, single-use code blocks.\n",
    "One way to organize our Python code and to make it more readable and reusable is to **factor out useful pieces into reusable functions**.\n",
    "Here we'll cover two ways of creating functions: the ``def`` statement, useful for any type of function, and the ``lambda`` statement, useful for creating short anonymous functions."
   ]
  },
  {
   "cell_type": "markdown",
   "id": "f363b445",
   "metadata": {
    "slideshow": {
     "slide_type": "slide"
    }
   },
   "source": [
    "## Using Functions\n",
    "\n",
    "Functions are groups of code that have a name, and can be called using parentheses.\n",
    "We've seen functions before. For example, ``print`` in Python 3 is a function:"
   ]
  },
  {
   "cell_type": "code",
   "execution_count": null,
   "id": "e20bedd8",
   "metadata": {
    "ExecuteTime": {
     "end_time": "2022-09-25T12:29:51.483393Z",
     "start_time": "2022-09-25T12:29:51.470389Z"
    }
   },
   "outputs": [],
   "source": [
    "print('abc')"
   ]
  },
  {
   "cell_type": "markdown",
   "id": "bb0f7302",
   "metadata": {
    "slideshow": {
     "slide_type": "slide"
    }
   },
   "source": [
    "Here ``print`` is the function name, and ``'abc'`` is the function's *argument*.\n",
    "\n",
    "In addition to arguments, functions can be designed to accept *keyword arguments* that are optional and specified by name.\n",
    "One available keyword argument for the ``print()`` function (in Python 3) is ``sep``, which tells what character or characters should be used to separate multiple items:"
   ]
  },
  {
   "cell_type": "code",
   "execution_count": null,
   "id": "c80485d9",
   "metadata": {
    "ExecuteTime": {
     "end_time": "2022-09-25T12:29:51.499452Z",
     "start_time": "2022-09-25T12:29:51.486389Z"
    },
    "slideshow": {
     "slide_type": "slide"
    }
   },
   "outputs": [],
   "source": [
    "print(1, 2, 3,4,5)"
   ]
  },
  {
   "cell_type": "code",
   "execution_count": null,
   "id": "370deff2",
   "metadata": {
    "ExecuteTime": {
     "end_time": "2022-09-25T12:29:51.515454Z",
     "start_time": "2022-09-25T12:29:51.502451Z"
    }
   },
   "outputs": [],
   "source": [
    "print(1, 2, 3, sep='--')"
   ]
  },
  {
   "cell_type": "markdown",
   "id": "c8d3b979",
   "metadata": {},
   "source": [
    "When non-keyword arguments are used together with keyword arguments, the keyword arguments must come at the end."
   ]
  },
  {
   "cell_type": "markdown",
   "id": "8e3bdc88",
   "metadata": {
    "slideshow": {
     "slide_type": "slide"
    }
   },
   "source": [
    "## Defining Functions\n",
    "Functions become even more useful when we begin to define our own, organizing functionality to be used in multiple places.\n",
    "In Python, functions are defined with the ``def`` statement.\n",
    "For example, we can encapsulate a version of the Fibonacci sequence code from the previous section as follows:"
   ]
  },
  {
   "cell_type": "code",
   "execution_count": null,
   "id": "f67c9006",
   "metadata": {
    "ExecuteTime": {
     "end_time": "2022-09-25T12:29:51.531456Z",
     "start_time": "2022-09-25T12:29:51.520451Z"
    }
   },
   "outputs": [],
   "source": [
    "def myadd(n):\n",
    "    if n<=0 :\n",
    "        return 0\n",
    "    else:\n",
    "        return n+myadd(n-1)\n",
    "myadd(10)"
   ]
  },
  {
   "cell_type": "code",
   "execution_count": null,
   "id": "92058d0f",
   "metadata": {
    "ExecuteTime": {
     "end_time": "2022-09-25T12:29:51.563452Z",
     "start_time": "2022-09-25T12:29:51.537464Z"
    }
   },
   "outputs": [],
   "source": [
    "def fibonacci(N):\n",
    "    L = []\n",
    "    a, b = 0, 1\n",
    "    while len(L) < N:\n",
    "        a, b = b, a + b\n",
    "        L.append(a)\n",
    "    return L\n",
    "\n",
    "fibonacci(100)"
   ]
  },
  {
   "cell_type": "markdown",
   "id": "bb33cfcb",
   "metadata": {
    "slideshow": {
     "slide_type": "slide"
    }
   },
   "source": [
    "Now we have a function named ``fibonacci`` which takes a single argument ``N``, does something with this argument, and ``return``s a value; in this case, a list of the first ``N`` Fibonacci numbers:"
   ]
  },
  {
   "cell_type": "code",
   "execution_count": null,
   "id": "97e4261f",
   "metadata": {
    "ExecuteTime": {
     "end_time": "2022-09-25T12:29:51.579390Z",
     "start_time": "2022-09-25T12:29:51.565390Z"
    }
   },
   "outputs": [],
   "source": [
    "fibonacci(10)"
   ]
  },
  {
   "cell_type": "markdown",
   "id": "fb0c5bfa",
   "metadata": {
    "slideshow": {
     "slide_type": "slide"
    }
   },
   "source": [
    "If you're familiar with strongly-typed languages like ``C``, you'll immediately notice that there is no type information associated with the function inputs or outputs.\n",
    "Of course, if a function is designed around an integer argument, it is likely an error will occur if it receives a string.\n",
    "\n",
    "Python functions can return any Python object, simple or compound, which means constructs that may be difficult in other languages are straightforward in Python.\n",
    "For example, multiple return values are simply put in a tuple, which is indicated by commas:"
   ]
  },
  {
   "cell_type": "code",
   "execution_count": null,
   "id": "20424f73",
   "metadata": {
    "ExecuteTime": {
     "end_time": "2022-09-25T12:29:51.595390Z",
     "start_time": "2022-09-25T12:29:51.582389Z"
    }
   },
   "outputs": [],
   "source": [
    "def real_imag_conj(val):\n",
    "    return val.real, val.imag, val.conjugate()\n",
    "\n",
    "r, i, c = real_imag_conj(3 + 4j)\n",
    "print(r, i, c)"
   ]
  },
  {
   "cell_type": "markdown",
   "id": "bd184ef2",
   "metadata": {
    "slideshow": {
     "slide_type": "slide"
    }
   },
   "source": [
    "## Default Argument Values\n",
    "\n",
    "Often when defining a function, there are certain values that we want the function to use *most* of the time, but we'd also like to give the user some flexibility.\n",
    "In this case, we can use *default values* for arguments.\n",
    "Consider the ``fibonacci`` function from before.\n",
    "What if we would like the user to be able to play with the starting values?\n",
    "We could do that as follows:"
   ]
  },
  {
   "cell_type": "code",
   "execution_count": null,
   "id": "5189c773",
   "metadata": {
    "ExecuteTime": {
     "end_time": "2022-09-25T12:29:51.959390Z",
     "start_time": "2022-09-25T12:29:51.597389Z"
    }
   },
   "outputs": [],
   "source": [
    "def fibonacci(N, a=0, b=1, fun=max):\n",
    "    L = []\n",
    "    while len(L) < N:\n",
    "        a, b = b, a + b\n",
    "        L.append(a)\n",
    "    return fun(L)\n",
    "\n",
    "fibonacci(10, a=1, b=\"y\", fun=lambda x:x)"
   ]
  },
  {
   "cell_type": "code",
   "execution_count": null,
   "id": "8a5758e8",
   "metadata": {
    "ExecuteTime": {
     "end_time": "2022-09-25T12:29:51.966391Z",
     "start_time": "2022-09-25T12:29:51.391Z"
    }
   },
   "outputs": [],
   "source": [
    "x = myadd"
   ]
  },
  {
   "cell_type": "code",
   "execution_count": null,
   "id": "7ff7f7d2",
   "metadata": {
    "ExecuteTime": {
     "end_time": "2022-09-25T12:29:51.968392Z",
     "start_time": "2022-09-25T12:29:51.394Z"
    }
   },
   "outputs": [],
   "source": [
    "x(10)"
   ]
  },
  {
   "cell_type": "markdown",
   "id": "c705480b",
   "metadata": {
    "slideshow": {
     "slide_type": "slide"
    }
   },
   "source": [
    "With a single argument, the result of the function call is identical to before:"
   ]
  },
  {
   "cell_type": "code",
   "execution_count": null,
   "id": "638b1796",
   "metadata": {
    "ExecuteTime": {
     "end_time": "2022-09-25T12:29:51.969391Z",
     "start_time": "2022-09-25T12:29:51.396Z"
    }
   },
   "outputs": [],
   "source": [
    "fibonacci(10)"
   ]
  },
  {
   "cell_type": "markdown",
   "id": "27af40bb",
   "metadata": {
    "slideshow": {
     "slide_type": "slide"
    }
   },
   "source": [
    "But now we can use the function to explore new things, such as the effect of new starting values:"
   ]
  },
  {
   "cell_type": "code",
   "execution_count": null,
   "id": "fa56ba98",
   "metadata": {
    "ExecuteTime": {
     "end_time": "2022-09-25T12:29:51.970391Z",
     "start_time": "2022-09-25T12:29:51.399Z"
    }
   },
   "outputs": [],
   "source": [
    "fibonacci(10, 0, 2)"
   ]
  },
  {
   "cell_type": "markdown",
   "id": "19e61e7d",
   "metadata": {
    "slideshow": {
     "slide_type": "slide"
    }
   },
   "source": [
    "The values can also be specified by name if desired, in which case the order of the named values does not matter:"
   ]
  },
  {
   "cell_type": "code",
   "execution_count": null,
   "id": "0071a7c1",
   "metadata": {
    "ExecuteTime": {
     "end_time": "2022-09-25T12:29:51.972389Z",
     "start_time": "2022-09-25T12:29:51.402Z"
    }
   },
   "outputs": [],
   "source": [
    "fibonacci(10, b=3, a=1)"
   ]
  },
  {
   "cell_type": "markdown",
   "id": "19291932",
   "metadata": {
    "slideshow": {
     "slide_type": "slide"
    }
   },
   "source": [
    "## ``*args`` and ``**kwargs``: Flexible Arguments\n",
    "Sometimes you might wish to write a function in which you don't initially know how many arguments the user will pass.\n",
    "In this case, you can use the special form ``*args`` and ``**kwargs`` to catch all arguments that are passed.\n",
    "Here is an example:"
   ]
  },
  {
   "cell_type": "code",
   "execution_count": null,
   "id": "4bd01f16",
   "metadata": {
    "ExecuteTime": {
     "end_time": "2022-09-25T12:29:51.973391Z",
     "start_time": "2022-09-25T12:29:51.404Z"
    },
    "slideshow": {
     "slide_type": "slide"
    }
   },
   "outputs": [],
   "source": [
    "def catch_all(*args, **kwargs):\n",
    "    plot(x,y,**kwargs)\n",
    "    print(\"args =\", args)\n",
    "    print(\"kwargs = \", kwargs)"
   ]
  },
  {
   "cell_type": "code",
   "execution_count": null,
   "id": "a4071d0d",
   "metadata": {
    "ExecuteTime": {
     "end_time": "2022-09-25T12:29:51.975390Z",
     "start_time": "2022-09-25T12:29:51.406Z"
    }
   },
   "outputs": [],
   "source": [
    "catch_all(1, 2, 3,4,5,6, a=4, b=5, c=7,d=10, lw=67)"
   ]
  },
  {
   "cell_type": "code",
   "execution_count": null,
   "id": "967b607b",
   "metadata": {
    "ExecuteTime": {
     "end_time": "2022-09-25T12:29:51.979390Z",
     "start_time": "2022-09-25T12:29:51.409Z"
    },
    "slideshow": {
     "slide_type": "slide"
    }
   },
   "outputs": [],
   "source": [
    "catch_all('a', keyword=2)"
   ]
  },
  {
   "cell_type": "markdown",
   "id": "291a49a3",
   "metadata": {
    "slideshow": {
     "slide_type": "slide"
    }
   },
   "source": [
    "Here it is not the names ``args`` and ``kwargs`` that are important, but the ``*`` characters preceding them.\n",
    "``args`` and ``kwargs`` are just the variable names often used by convention, short for \"arguments\" and \"keyword arguments\".\n",
    "\n",
    "The operative difference is the asterisk characters: a single ``*`` before a variable means \"expand this as a sequence\", while a double ``**`` before a variable means \"expand this as a dictionary\".\n",
    "In fact, this syntax can be used not only with the function definition, but with the function call as well!"
   ]
  },
  {
   "cell_type": "code",
   "execution_count": null,
   "id": "b5ee74d6",
   "metadata": {
    "ExecuteTime": {
     "end_time": "2022-09-25T12:29:51.980387Z",
     "start_time": "2022-09-25T12:29:51.412Z"
    },
    "slideshow": {
     "slide_type": "slide"
    }
   },
   "outputs": [],
   "source": [
    "inputs = (1, 2, 3)\n",
    "keywords = {'pi': 3.14}\n",
    "\n",
    "catch_all(*inputs, **keywords)\n",
    "\n",
    "print((\"a\"\n",
    "      ))"
   ]
  },
  {
   "cell_type": "markdown",
   "id": "cab9f59b",
   "metadata": {},
   "source": [
    "It is common in many large python packages, especially matplotlib, to have many functions that take ``**kwargs``."
   ]
  },
  {
   "cell_type": "markdown",
   "id": "a9fef18c",
   "metadata": {
    "slideshow": {
     "slide_type": "slide"
    }
   },
   "source": [
    "## Anonymous (``lambda``) Functions\n",
    "Earlier we quickly covered the most common way of defining functions, the ``def`` statement.\n",
    "You'll likely come across another way of defining short, one-off functions with the ``lambda`` statement.\n",
    "It looks something like this:"
   ]
  },
  {
   "cell_type": "code",
   "execution_count": null,
   "id": "f51f0f24",
   "metadata": {
    "ExecuteTime": {
     "end_time": "2022-09-25T12:29:51.981391Z",
     "start_time": "2022-09-25T12:29:51.415Z"
    }
   },
   "outputs": [],
   "source": [
    "def add(x, y):\n",
    "    \n",
    "    return x+y\n",
    "add = lambda x, y: x + y\n",
    "add(1, 2)\n",
    "\n",
    "sorted([(5,1),(9,0),(8,2)], key=lambda x:x[1])"
   ]
  },
  {
   "cell_type": "markdown",
   "id": "0c072d37",
   "metadata": {
    "slideshow": {
     "slide_type": "slide"
    }
   },
   "source": [
    "This lambda function is roughly equivalent to"
   ]
  },
  {
   "cell_type": "code",
   "execution_count": null,
   "id": "0d52e87e",
   "metadata": {
    "ExecuteTime": {
     "end_time": "2022-09-25T12:29:51.983391Z",
     "start_time": "2022-09-25T12:29:51.418Z"
    }
   },
   "outputs": [],
   "source": [
    "def add(x, y):\n",
    "    return x + y"
   ]
  },
  {
   "cell_type": "markdown",
   "id": "15edbde1",
   "metadata": {
    "slideshow": {
     "slide_type": "slide"
    }
   },
   "source": [
    "So why would you ever want to use such a thing?\n",
    "Primarily, it comes down to the fact that *everything is an object* in Python, even functions themselves!\n",
    "That means that functions can be passed as arguments to functions.\n",
    "\n",
    "As an example of this, suppose we have some data stored in a list of dictionaries:"
   ]
  },
  {
   "cell_type": "code",
   "execution_count": null,
   "id": "749e4a61",
   "metadata": {
    "ExecuteTime": {
     "end_time": "2022-09-25T12:29:51.984390Z",
     "start_time": "2022-09-25T12:29:51.420Z"
    }
   },
   "outputs": [],
   "source": [
    "data = [{'first':'Guido', 'last':'Van Rossum', 'YOB':1956},\n",
    "        {'first':'Grace', 'last':'Hopper',     'YOB':1906},\n",
    "        {'first':'Alan',  'last':'Turing',     'YOB':1912}]"
   ]
  },
  {
   "cell_type": "markdown",
   "id": "889d462a",
   "metadata": {
    "slideshow": {
     "slide_type": "slide"
    }
   },
   "source": [
    "Now suppose we want to sort this data.\n",
    "Python has a ``sorted`` function that does this:"
   ]
  },
  {
   "cell_type": "code",
   "execution_count": null,
   "id": "fa6eb3da",
   "metadata": {
    "ExecuteTime": {
     "end_time": "2022-09-25T12:29:51.985391Z",
     "start_time": "2022-09-25T12:29:51.423Z"
    }
   },
   "outputs": [],
   "source": [
    "sorted([2,4,3,5,1,6])"
   ]
  },
  {
   "cell_type": "markdown",
   "id": "00d95097",
   "metadata": {
    "slideshow": {
     "slide_type": "slide"
    }
   },
   "source": [
    "But dictionaries are not orderable: we need a way to tell the `sorted()` function *how* to sort our data.\n",
    "We can do this by specifying the ``key`` function, a function which given an item returns the sorting key for that item:"
   ]
  },
  {
   "cell_type": "code",
   "execution_count": null,
   "id": "b196e752",
   "metadata": {
    "ExecuteTime": {
     "end_time": "2022-09-25T12:29:51.986392Z",
     "start_time": "2022-09-25T12:29:51.426Z"
    }
   },
   "outputs": [],
   "source": [
    "# sort alphabetically by first name\n",
    "sorted(data, key=lambda item: item['first'])"
   ]
  },
  {
   "cell_type": "code",
   "execution_count": null,
   "id": "123191a8",
   "metadata": {
    "ExecuteTime": {
     "end_time": "2022-09-25T12:29:51.988391Z",
     "start_time": "2022-09-25T12:29:51.428Z"
    },
    "slideshow": {
     "slide_type": "slide"
    }
   },
   "outputs": [],
   "source": [
    "# sort by year of birth\n",
    "sorted(data, key=lambda item: item['YOB'], reverse=True)"
   ]
  },
  {
   "cell_type": "markdown",
   "id": "f04c287c",
   "metadata": {},
   "source": [
    "While these key functions could certainly be created by the normal, ``def`` syntax, the compact ``lambda`` syntax is convenient for such short one-off functions like these."
   ]
  },
  {
   "cell_type": "markdown",
   "id": "501da725",
   "metadata": {
    "slideshow": {
     "slide_type": "slide"
    }
   },
   "source": [
    "# Classes and Methods\n",
    "\n",
    "As mentioned before, everything in Python is an object. That means Python code can be organized into classes, allowing objects to neatly bundle up data and associated functionality. Classes allow for more modular and reusable code. Functions attached to objects are referred to as \"methods\".\n",
    "\n",
    "Even if you are not writing classes yourself, since everything is an object, it is important to understand the basics if you encounter errors related to classes or class functionality."
   ]
  },
  {
   "cell_type": "markdown",
   "id": "345c6831",
   "metadata": {
    "slideshow": {
     "slide_type": "slide"
    }
   },
   "source": [
    "## Defining classes and methods\n",
    "\n",
    "Here is a simple example of a class with an initialization function (all Python initialization functions are named `__init__`) and several methods"
   ]
  },
  {
   "cell_type": "code",
   "execution_count": null,
   "id": "9acb97b4",
   "metadata": {
    "ExecuteTime": {
     "end_time": "2022-09-25T12:29:51.989391Z",
     "start_time": "2022-09-25T12:29:51.431Z"
    },
    "slideshow": {
     "slide_type": "slide"
    }
   },
   "outputs": [],
   "source": [
    "class Dog():\n",
    "    def __init__(self, name, age,weight):\n",
    "        self.name = name\n",
    "        self.age = age\n",
    "        self.weight = weight\n",
    "        \n",
    "        self.location = (0,0)\n",
    "        self.trajectory = [self.location]\n",
    "\n",
    "    def howl(self):\n",
    "        print(\"I am {}. Hear me roar!!!\".format(self.name))\n",
    "\n",
    "    def walk(self, step=0.1):\n",
    "        \"\"\"To update the position of the dog...\"\"\"\n",
    "        x,y = self.location\n",
    "        self.location = x+step, y+step\n",
    "        self.trajectory.append(self.location)\n",
    "\n",
    "    def save(self, prefix):\n",
    "        filename = \"{}_n{name}_a{age}_w{weight}_traj.txt\".format(prefix,name=self.name, age=self.age, weight=self.weight)\n",
    "        print(filename)\n",
    "        # write to disk in some way"
   ]
  },
  {
   "cell_type": "markdown",
   "id": "0c7dff80",
   "metadata": {
    "slideshow": {
     "slide_type": "slide"
    }
   },
   "source": [
    "Here we defined a class called `Dog` and gave it several attributes (`name`, `age`, ...) and methods (`howl`, `walk`, ...). The syntax is very simple, methods are defined just like functions except they are indented within the `class` block.\n",
    "\n",
    "Each method of the class should begin with an argument called `self`. You can think of this argument as a placeholder for the object that will be created. \n"
   ]
  },
  {
   "cell_type": "code",
   "execution_count": null,
   "id": "910dd7c0",
   "metadata": {
    "ExecuteTime": {
     "end_time": "2022-09-25T12:29:51.991390Z",
     "start_time": "2022-09-25T12:29:51.434Z"
    },
    "slideshow": {
     "slide_type": "slide"
    }
   },
   "outputs": [],
   "source": [
    "fido = Dog(\"fido\", 2.5, 20)\n",
    "\n",
    "fido.howl()"
   ]
  },
  {
   "cell_type": "markdown",
   "id": "46dc2560",
   "metadata": {},
   "source": [
    "Here we create a `Dog` object giving it a name (`fido`), age (`2.5`), and weight (`20`) which are set up as attributes automatically inside the `__init__` method. We then call the `howl` method. Note that the definition of the method has an argument called `self` but this is only a placeholder for the object. Now that the object (`fido`) exists, `fido.howl()` will automatically resolve to `Dog.howl(fido)` and we do not need to worry about `self`. "
   ]
  },
  {
   "cell_type": "markdown",
   "id": "6d61c8e7",
   "metadata": {
    "slideshow": {
     "slide_type": "slide"
    }
   },
   "source": [
    "# Errors and Exceptions"
   ]
  },
  {
   "cell_type": "markdown",
   "id": "870fc5a5",
   "metadata": {
    "slideshow": {
     "slide_type": "slide"
    }
   },
   "source": [
    "No matter your skill as a programmer, you will eventually make a coding mistake.\n",
    "Such mistakes come in three basic flavors:\n",
    "\n",
    "- *Syntax errors:* Errors where the code is not valid Python (generally easy to fix)\n",
    "- *Runtime errors:* Errors where syntactically valid code fails to execute, perhaps due to invalid user input (sometimes easy to fix)\n",
    "- *Semantic errors:* Errors in logic: code executes without a problem, but the result is not what you expect (often very difficult to track-down and fix)\n",
    "\n",
    "Here we're going to focus on how to deal cleanly with *runtime errors*.\n",
    "As we'll see, Python handles runtime errors via its *exception handling* framework."
   ]
  },
  {
   "cell_type": "markdown",
   "id": "f7f3a02d",
   "metadata": {
    "slideshow": {
     "slide_type": "slide"
    }
   },
   "source": [
    "### Tracebacks\n",
    "\n",
    "Python reports error messages called \"tracebacks\" (sometimes known as \"stack traces\"). These messages highlight the portion of code where the error occurred and any code that may have called the erroneous code. This \"tracing\" backwards through the sequence of code allows you to pinpoint the location of the error and helps guide you to identifying the root cause of the error.\n",
    "\n",
    "This example (`example_traceback.py`) contains an error:\n",
    "```Python\n",
    "# example_traceback.py\n",
    "\n",
    "def loader(filename):\n",
    "    fin = open(filenam)\n",
    "\n",
    "loader(\"data/result_ab.txt\")\n",
    "```\n",
    "\n",
    "Here is the traceback that is emitted when running this code. I have added color-coding and annotations to help show how to read tracebacks."
   ]
  },
  {
   "cell_type": "code",
   "execution_count": null,
   "id": "a9579e83",
   "metadata": {
    "ExecuteTime": {
     "end_time": "2022-09-25T12:29:51.992391Z",
     "start_time": "2022-09-25T12:29:51.438Z"
    }
   },
   "outputs": [],
   "source": [
    "\n",
    "def loader(filename):\n",
    "    fin = open(filename)\n",
    "\n",
    "loader(\"./test_text.txt\")"
   ]
  },
  {
   "cell_type": "markdown",
   "id": "586f8a7c",
   "metadata": {
    "caption": "somecaption",
    "label": "fig:somelabel",
    "slideshow": {
     "slide_type": "slide"
    },
    "widefigure": true
   },
   "source": [
    "![Example Traceback Figure](fig/example_traceback.png)"
   ]
  },
  {
   "cell_type": "markdown",
   "id": "6ac3bac8",
   "metadata": {
    "slideshow": {
     "slide_type": "slide"
    }
   },
   "source": [
    "Googling for parts of tracebacks, such as error messages (after removing any information such as filenames that are unique to your code), are a great way to solve problems.\n",
    "\n",
    "\n",
    "## Runtime Errors\n",
    "\n",
    "If you've done any coding in Python, you've likely come across runtime errors.\n",
    "They can happen in a lot of ways.\n",
    "\n",
    "For example, if you try to reference an undefined variable:"
   ]
  },
  {
   "cell_type": "code",
   "execution_count": null,
   "id": "40ccc233",
   "metadata": {
    "ExecuteTime": {
     "end_time": "2022-09-25T12:29:51.993389Z",
     "start_time": "2022-09-25T12:29:51.442Z"
    },
    "slideshow": {
     "slide_type": "slide"
    }
   },
   "outputs": [],
   "source": [
    "print(Q)"
   ]
  },
  {
   "cell_type": "markdown",
   "id": "fef93398",
   "metadata": {
    "slideshow": {
     "slide_type": "slide"
    }
   },
   "source": [
    "Or if you try an operation that's not defined:"
   ]
  },
  {
   "cell_type": "code",
   "execution_count": null,
   "id": "2c009d23",
   "metadata": {
    "ExecuteTime": {
     "end_time": "2022-09-25T12:29:51.994392Z",
     "start_time": "2022-09-25T12:29:51.445Z"
    }
   },
   "outputs": [],
   "source": [
    "1 + 'abc'"
   ]
  },
  {
   "cell_type": "markdown",
   "id": "7b5b6d67",
   "metadata": {
    "slideshow": {
     "slide_type": "slide"
    }
   },
   "source": [
    "Or you might be trying to compute a mathematically ill-defined result:"
   ]
  },
  {
   "cell_type": "code",
   "execution_count": null,
   "id": "f5247901",
   "metadata": {
    "ExecuteTime": {
     "end_time": "2022-09-25T12:29:51.996389Z",
     "start_time": "2022-09-25T12:29:51.447Z"
    }
   },
   "outputs": [],
   "source": [
    "2 / 0"
   ]
  },
  {
   "cell_type": "markdown",
   "id": "29ca6861",
   "metadata": {
    "slideshow": {
     "slide_type": "slide"
    }
   },
   "source": [
    "Or maybe you're trying to access a sequence element that doesn't exist:"
   ]
  },
  {
   "cell_type": "code",
   "execution_count": null,
   "id": "fa4d779a",
   "metadata": {
    "ExecuteTime": {
     "end_time": "2022-09-25T12:29:51.997389Z",
     "start_time": "2022-09-25T12:29:51.450Z"
    }
   },
   "outputs": [],
   "source": [
    "L = [1, 2, 3]\n",
    "L[1000]"
   ]
  },
  {
   "cell_type": "markdown",
   "id": "72e0a777",
   "metadata": {
    "slideshow": {
     "slide_type": "slide"
    }
   },
   "source": [
    "Note that in each case, Python is kind enough to not simply indicate that an error happened, but to spit out a *meaningful* exception that includes information about what exactly went wrong, along with the exact line of code where the error happened.\n",
    "Although it may not always be as clear as these examples, having access to meanngful errors like this is immensely useful when trying to trace the root of problems in your code."
   ]
  },
  {
   "cell_type": "markdown",
   "id": "54f763a8",
   "metadata": {
    "slideshow": {
     "slide_type": "slide"
    }
   },
   "source": [
    "## Catching Exceptions: ``try`` and ``except``\n",
    "The main tool Python gives you for handling runtime exceptions is the ``try``...``except`` clause.\n",
    "Its basic structure is this:"
   ]
  },
  {
   "cell_type": "code",
   "execution_count": null,
   "id": "66effb87",
   "metadata": {
    "ExecuteTime": {
     "end_time": "2022-09-25T12:29:51.998392Z",
     "start_time": "2022-09-25T12:29:51.453Z"
    }
   },
   "outputs": [],
   "source": [
    "try:\n",
    "    #x[5]\n",
    "    #print(\"this gets executed first\")\n",
    "    x[5]\n",
    "except:\n",
    "    #print(\"this gets executed only if there is an error\")\n",
    "    pass\n",
    "\n",
    "print(\"good\")"
   ]
  },
  {
   "cell_type": "markdown",
   "id": "ee616cff",
   "metadata": {
    "slideshow": {
     "slide_type": "slide"
    }
   },
   "source": [
    "Note that the second block here did not get executed: this is because the first block did not return an error.\n",
    "Let's put a problematic statement in the ``try`` block and see what happens:"
   ]
  },
  {
   "cell_type": "code",
   "execution_count": null,
   "id": "42d98f7c",
   "metadata": {
    "ExecuteTime": {
     "end_time": "2022-09-25T12:29:52.000390Z",
     "start_time": "2022-09-25T12:29:51.456Z"
    }
   },
   "outputs": [],
   "source": [
    "try:\n",
    "    print(\"let's try something:\")\n",
    "    x = 1 / 0 # ZeroDivisionError\n",
    "except:\n",
    "    print(\"something bad happened!\")"
   ]
  },
  {
   "cell_type": "markdown",
   "id": "e33a0b50",
   "metadata": {
    "slideshow": {
     "slide_type": "slide"
    }
   },
   "source": [
    "Here we see that when the error was raised in the ``try`` statement (in this case, a ``ZeroDivisionError``), the error was caught, and the ``except`` statement was executed.\n",
    "\n",
    "One way this is often used is to check user input within a function or another piece of code.\n",
    "For example, we might wish to have a function that catches zero-division and returns some other value, perhaps a suitably large number like $10^{100}$:"
   ]
  },
  {
   "cell_type": "code",
   "execution_count": null,
   "id": "1fe3918c",
   "metadata": {
    "ExecuteTime": {
     "end_time": "2022-09-25T12:29:52.002389Z",
     "start_time": "2022-09-25T12:29:51.459Z"
    },
    "slideshow": {
     "slide_type": "slide"
    }
   },
   "outputs": [],
   "source": [
    "def safe_divide(a, b):\n",
    "    try:\n",
    "        return a / b\n",
    "    except:\n",
    "        return 1E100"
   ]
  },
  {
   "cell_type": "code",
   "execution_count": null,
   "id": "76e1798c",
   "metadata": {
    "ExecuteTime": {
     "end_time": "2022-09-25T12:29:52.003389Z",
     "start_time": "2022-09-25T12:29:51.461Z"
    }
   },
   "outputs": [],
   "source": [
    "safe_divide(1, 2)"
   ]
  },
  {
   "cell_type": "code",
   "execution_count": null,
   "id": "dfc4d88a",
   "metadata": {
    "ExecuteTime": {
     "end_time": "2022-09-25T12:29:52.005392Z",
     "start_time": "2022-09-25T12:29:51.463Z"
    }
   },
   "outputs": [],
   "source": [
    "safe_divide(2, 0)"
   ]
  },
  {
   "cell_type": "code",
   "execution_count": null,
   "id": "3cc3330b",
   "metadata": {
    "ExecuteTime": {
     "end_time": "2022-09-25T12:29:52.008394Z",
     "start_time": "2022-09-25T12:29:51.466Z"
    }
   },
   "outputs": [],
   "source": [
    "safe_divide"
   ]
  },
  {
   "cell_type": "markdown",
   "id": "67ca928e",
   "metadata": {
    "slideshow": {
     "slide_type": "slide"
    }
   },
   "source": [
    "There is a subtle problem with this code, though: what happens when another type of exception comes up? For example, this is probably not what we intended:"
   ]
  },
  {
   "cell_type": "code",
   "execution_count": null,
   "id": "6559ede5",
   "metadata": {
    "ExecuteTime": {
     "end_time": "2022-09-25T12:29:52.010389Z",
     "start_time": "2022-09-25T12:29:51.469Z"
    }
   },
   "outputs": [],
   "source": [
    "safe_divide (1, '2')"
   ]
  },
  {
   "cell_type": "markdown",
   "id": "46fdb722",
   "metadata": {
    "slideshow": {
     "slide_type": "slide"
    }
   },
   "source": [
    "Dividing an integer and a string raises a ``TypeError``, which our  code caught and assumed was a ``ZeroDivisionError``!\n",
    "For this reason, it's nearly always a better idea to catch exceptions *explicitly*:"
   ]
  },
  {
   "cell_type": "code",
   "execution_count": null,
   "id": "761f6368",
   "metadata": {
    "ExecuteTime": {
     "end_time": "2022-09-25T12:29:52.011389Z",
     "start_time": "2022-09-25T12:29:51.472Z"
    },
    "slideshow": {
     "slide_type": "-"
    }
   },
   "outputs": [],
   "source": [
    "def safe_divide(a, b):\n",
    "    try:\n",
    "        return a / b\n",
    "    except ZeroDivisionError:\n",
    "        return 1E100"
   ]
  },
  {
   "cell_type": "code",
   "execution_count": null,
   "id": "66608cb9",
   "metadata": {
    "ExecuteTime": {
     "end_time": "2022-09-25T12:29:52.012389Z",
     "start_time": "2022-09-25T12:29:51.474Z"
    }
   },
   "outputs": [],
   "source": [
    "safe_divide(1, 0)"
   ]
  },
  {
   "cell_type": "code",
   "execution_count": null,
   "id": "80c348b8",
   "metadata": {
    "ExecuteTime": {
     "end_time": "2022-09-25T12:29:52.013390Z",
     "start_time": "2022-09-25T12:29:51.477Z"
    },
    "slideshow": {
     "slide_type": "slide"
    }
   },
   "outputs": [],
   "source": [
    "safe_divide(1, '2')"
   ]
  },
  {
   "cell_type": "markdown",
   "id": "b1a776c0",
   "metadata": {},
   "source": [
    "We're now catching zero-division errors only, and letting all other errors pass through un-modified."
   ]
  },
  {
   "cell_type": "markdown",
   "id": "573d8094",
   "metadata": {
    "slideshow": {
     "slide_type": "slide"
    }
   },
   "source": [
    "Try-except blocks are powerful and efficient in Python, and being explicit about the errors you catch helps ensure that other errors are not being skipped over without your knowledge."
   ]
  },
  {
   "cell_type": "markdown",
   "id": "05c5b226",
   "metadata": {
    "slideshow": {
     "slide_type": "slide"
    }
   },
   "source": [
    "# Iterators and List Comprehensions\n",
    "\n",
    "Often an important piece of data analysis is repeating a similar calculation, over and over, in an automated fashion.\n",
    "For example, you may have a table of a names that you'd like to split into first and last, or perhaps of dates that you'd like to convert to some standard format.\n",
    "One of Python's answers to this is the *iterator* syntax.\n",
    "We've seen this already with the ``range`` iterator:"
   ]
  },
  {
   "cell_type": "code",
   "execution_count": null,
   "id": "5480c5c1",
   "metadata": {
    "ExecuteTime": {
     "end_time": "2022-09-25T12:29:52.014391Z",
     "start_time": "2022-09-25T12:29:51.480Z"
    }
   },
   "outputs": [],
   "source": [
    "for i in range(10):\n",
    "    print(i, end=' ')"
   ]
  },
  {
   "cell_type": "markdown",
   "id": "70d8635d",
   "metadata": {
    "slideshow": {
     "slide_type": "slide"
    }
   },
   "source": [
    "Here we're going to dig a bit deeper.\n",
    "It turns out that in Python 3, ``range`` is not a list, but is something called an *iterator*, and learning how it works is key to understanding a wide class of very useful Python functionality."
   ]
  },
  {
   "cell_type": "markdown",
   "id": "51901194",
   "metadata": {
    "slideshow": {
     "slide_type": "slide"
    }
   },
   "source": [
    "## Iterating over lists\n",
    "Iterators are perhaps most easily understood in the concrete case of iterating through a list.\n",
    "Consider the following:"
   ]
  },
  {
   "cell_type": "code",
   "execution_count": null,
   "id": "75c502c9",
   "metadata": {
    "ExecuteTime": {
     "end_time": "2022-09-25T12:29:52.016389Z",
     "start_time": "2022-09-25T12:29:51.483Z"
    }
   },
   "outputs": [],
   "source": [
    "for value in [2, 4, 6, 8, 10]:\n",
    "    # do some operation\n",
    "    print(value + 1, end=' ')"
   ]
  },
  {
   "cell_type": "markdown",
   "id": "9de33429",
   "metadata": {
    "slideshow": {
     "slide_type": "slide"
    }
   },
   "source": [
    "The familiar \"``for x in y``\" syntax allows us to repeat some operation for each value in the list.\n",
    "The fact that the syntax of the code is so close to its English description (\"*for [each] value in [the] list*\") is just one of the syntactic choices that makes Python such an intuitive language to learn and use.\n",
    "\n",
    "But the face-value behavior is not what's *really* happening.\n",
    "When you write something like \"``for val in L``\", the Python interpreter checks whether it has an *iterator* interface, which you can check yourself with the built-in ``iter`` function:"
   ]
  },
  {
   "cell_type": "code",
   "execution_count": null,
   "id": "7154fba8",
   "metadata": {
    "ExecuteTime": {
     "end_time": "2022-09-25T12:29:52.017390Z",
     "start_time": "2022-09-25T12:29:51.486Z"
    }
   },
   "outputs": [],
   "source": [
    "iter([2, 4, 6, 8, 10])"
   ]
  },
  {
   "cell_type": "markdown",
   "id": "1cf4ad37",
   "metadata": {},
   "source": [
    "It is this iterator object that provides the functionality required by the ``for`` loop.\n",
    "The ``iter`` object is a container that gives you access to the next object for as long as there **is** a next object, which can be seen with the built-in function ``next``:"
   ]
  },
  {
   "cell_type": "code",
   "execution_count": null,
   "id": "9be51a3a",
   "metadata": {
    "ExecuteTime": {
     "end_time": "2022-09-25T12:29:52.018392Z",
     "start_time": "2022-09-25T12:29:51.488Z"
    }
   },
   "outputs": [],
   "source": [
    "I = iter([2, 4, 6, 8, 10])"
   ]
  },
  {
   "cell_type": "code",
   "execution_count": null,
   "id": "8cc92edf",
   "metadata": {
    "ExecuteTime": {
     "end_time": "2022-09-25T12:29:52.019390Z",
     "start_time": "2022-09-25T12:29:51.491Z"
    }
   },
   "outputs": [],
   "source": [
    "print(next(I))"
   ]
  },
  {
   "cell_type": "code",
   "execution_count": null,
   "id": "d3d07dbc",
   "metadata": {
    "ExecuteTime": {
     "end_time": "2022-09-25T12:29:52.021391Z",
     "start_time": "2022-09-25T12:29:51.493Z"
    }
   },
   "outputs": [],
   "source": [
    "print(next(I))"
   ]
  },
  {
   "cell_type": "code",
   "execution_count": null,
   "id": "9621d679",
   "metadata": {
    "ExecuteTime": {
     "end_time": "2022-09-25T12:29:52.022389Z",
     "start_time": "2022-09-25T12:29:51.495Z"
    }
   },
   "outputs": [],
   "source": [
    "print(next(I))"
   ]
  },
  {
   "cell_type": "markdown",
   "id": "4a90ed71",
   "metadata": {},
   "source": [
    "What is the purpose of this level of indirection?\n",
    "Well, it turns out this is incredibly useful, because it allows Python to treat things as lists that are *not actually lists*."
   ]
  },
  {
   "cell_type": "markdown",
   "id": "b5231282",
   "metadata": {
    "slideshow": {
     "slide_type": "slide"
    }
   },
   "source": [
    "## ``range()``: A List Is Not Always a List\n",
    "Perhaps the most common example of this indirect iteration is the ``range()`` function in Python 3 (named ``xrange()`` in Python 2), which returns not a list, but a special ``range()`` object:"
   ]
  },
  {
   "cell_type": "code",
   "execution_count": null,
   "id": "a2737a60",
   "metadata": {
    "ExecuteTime": {
     "end_time": "2022-09-25T12:29:52.023389Z",
     "start_time": "2022-09-25T12:29:51.498Z"
    }
   },
   "outputs": [],
   "source": [
    "range(10000)"
   ]
  },
  {
   "cell_type": "markdown",
   "id": "1867fa64",
   "metadata": {},
   "source": [
    "``range``, like a list, exposes an iterator:"
   ]
  },
  {
   "cell_type": "code",
   "execution_count": null,
   "id": "fd75e624",
   "metadata": {
    "ExecuteTime": {
     "end_time": "2022-09-25T12:29:52.025389Z",
     "start_time": "2022-09-25T12:29:51.501Z"
    }
   },
   "outputs": [],
   "source": [
    "iter(range(10))"
   ]
  },
  {
   "cell_type": "markdown",
   "id": "40673983",
   "metadata": {
    "slideshow": {
     "slide_type": "slide"
    }
   },
   "source": [
    "So Python knows to treat it *as if* it's a list:"
   ]
  },
  {
   "cell_type": "code",
   "execution_count": null,
   "id": "8dfbad8f",
   "metadata": {
    "ExecuteTime": {
     "end_time": "2022-09-25T12:29:52.026389Z",
     "start_time": "2022-09-25T12:29:51.504Z"
    },
    "scrolled": true
   },
   "outputs": [],
   "source": [
    "for i in range(10):\n",
    "    print(i, end=' ')"
   ]
  },
  {
   "cell_type": "markdown",
   "id": "86133f99",
   "metadata": {
    "slideshow": {
     "slide_type": "slide"
    }
   },
   "source": [
    "The benefit of the iterator indirection is that **the full list is never explicitly created!**\n",
    "We can see this by doing a range calculation that would overwhelm our system memory if we actually instantiated it (note that in Python 2, ``range`` creates a list, so running the following will not lead to good things!):"
   ]
  },
  {
   "cell_type": "code",
   "execution_count": null,
   "id": "dfc6ee94",
   "metadata": {
    "ExecuteTime": {
     "end_time": "2022-09-25T12:29:52.028391Z",
     "start_time": "2022-09-25T12:29:51.507Z"
    }
   },
   "outputs": [],
   "source": [
    "N = 10 ** 12\n",
    "for i in range(N):\n",
    "    if i >= 10: break\n",
    "    print(i, end=', ')"
   ]
  },
  {
   "cell_type": "markdown",
   "id": "84b62f4d",
   "metadata": {
    "slideshow": {
     "slide_type": "slide"
    }
   },
   "source": [
    "If ``range`` were to actually create that list of one trillion values, it would occupy tens of terabytes of machine memory: a waste, given the fact that we're ignoring all but the first 10 values!\n",
    "\n",
    "In fact, there's no reason that iterators ever have to end at all!\n",
    "Python's ``itertools`` library contains a ``count`` function that acts as an infinite range:"
   ]
  },
  {
   "cell_type": "code",
   "execution_count": null,
   "id": "c0180ff1",
   "metadata": {
    "ExecuteTime": {
     "end_time": "2022-09-25T12:29:52.029391Z",
     "start_time": "2022-09-25T12:29:51.509Z"
    },
    "slideshow": {
     "slide_type": "slide"
    }
   },
   "outputs": [],
   "source": [
    "from itertools import count\n",
    "\n",
    "for i in count():\n",
    "    if i >= 10:\n",
    "        break\n",
    "    print(i, end=', ')"
   ]
  },
  {
   "cell_type": "markdown",
   "id": "a9333110",
   "metadata": {},
   "source": [
    "Had we not thrown in a loop break here, it would go on happily counting until the process is manually interrupted or killed (using, for example, ``ctrl-C``)."
   ]
  },
  {
   "cell_type": "markdown",
   "id": "bf44cfbf",
   "metadata": {
    "slideshow": {
     "slide_type": "slide"
    }
   },
   "source": [
    "## Useful Iterators\n",
    "This iterator syntax is used nearly universally in Python built-in types as well as the more data science-specific objects we'll explore in later sections.\n",
    "Here we'll cover some of the more useful iterators in the Python language:"
   ]
  },
  {
   "cell_type": "markdown",
   "id": "8ef68f3f",
   "metadata": {
    "slideshow": {
     "slide_type": "slide"
    }
   },
   "source": [
    "### ``enumerate``\n",
    "Often you need to iterate not only the values in an array, but also keep track of the index.\n",
    "You might be **tempted** to do things this way:"
   ]
  },
  {
   "cell_type": "code",
   "execution_count": null,
   "id": "30622ba7",
   "metadata": {
    "ExecuteTime": {
     "end_time": "2022-09-25T12:29:52.031389Z",
     "start_time": "2022-09-25T12:29:51.513Z"
    }
   },
   "outputs": [],
   "source": [
    "L = [2, 4, 6, 8, 10]\n",
    "for i in range(len(L)):\n",
    "    print(i, L[i])"
   ]
  },
  {
   "cell_type": "markdown",
   "id": "bb27f4db",
   "metadata": {
    "slideshow": {
     "slide_type": "slide"
    }
   },
   "source": [
    "Although this does work, Python provides a cleaner syntax using the ``enumerate`` iterator:"
   ]
  },
  {
   "cell_type": "code",
   "execution_count": null,
   "id": "c06c2e0c",
   "metadata": {
    "ExecuteTime": {
     "end_time": "2022-09-25T12:29:52.032389Z",
     "start_time": "2022-09-25T12:29:51.516Z"
    }
   },
   "outputs": [],
   "source": [
    "for i, val in enumerate(L):\n",
    "    print(i, val)"
   ]
  },
  {
   "cell_type": "markdown",
   "id": "d6d27054",
   "metadata": {},
   "source": [
    "This is the more \"Pythonic\" way to enumerate the indices and values in a list."
   ]
  },
  {
   "cell_type": "markdown",
   "id": "e3cac622",
   "metadata": {
    "slideshow": {
     "slide_type": "slide"
    }
   },
   "source": [
    "### ``zip``\n",
    "Other times, you may have multiple lists that you want to iterate over simultaneously.\n",
    "You could certainly iterate over the index as in the non-Pythonic example we looked at previously, but it is better to use the ``zip`` iterator, which zips together iterables:"
   ]
  },
  {
   "cell_type": "code",
   "execution_count": null,
   "id": "08fe0727",
   "metadata": {
    "ExecuteTime": {
     "end_time": "2022-09-25T12:29:52.033389Z",
     "start_time": "2022-09-25T12:29:51.519Z"
    },
    "slideshow": {
     "slide_type": "slide"
    }
   },
   "outputs": [],
   "source": [
    "L = [2, 4, 6, 8, 10]\n",
    "R = [3, 6, 9, 12, 15]\n",
    "for lval, rval in zip(L, R):\n",
    "    print(lval, rval)"
   ]
  },
  {
   "cell_type": "code",
   "execution_count": null,
   "id": "92b2a03e",
   "metadata": {
    "ExecuteTime": {
     "end_time": "2022-09-25T12:29:52.035391Z",
     "start_time": "2022-09-25T12:29:51.521Z"
    }
   },
   "outputs": [],
   "source": [
    "X = list(zip(L, R))\n",
    "X"
   ]
  },
  {
   "cell_type": "code",
   "execution_count": null,
   "id": "003ce348",
   "metadata": {
    "ExecuteTime": {
     "end_time": "2022-09-25T12:29:52.036388Z",
     "start_time": "2022-09-25T12:29:51.523Z"
    }
   },
   "outputs": [],
   "source": [
    "list(zip(*X))"
   ]
  },
  {
   "cell_type": "markdown",
   "id": "b3a67a22",
   "metadata": {},
   "source": [
    "Any number of iterables can be zipped together, and if they are different lengths, the shortest will determine the length of the ``zip``."
   ]
  },
  {
   "cell_type": "markdown",
   "id": "0aebb168",
   "metadata": {
    "slideshow": {
     "slide_type": "slide"
    }
   },
   "source": [
    "### ``map`` and ``filter``\n",
    "The ``map`` iterator takes a function and applies it to the values in an iterator:"
   ]
  },
  {
   "cell_type": "code",
   "execution_count": null,
   "id": "39f3f2de",
   "metadata": {
    "ExecuteTime": {
     "end_time": "2022-09-25T12:29:52.037389Z",
     "start_time": "2022-09-25T12:29:51.526Z"
    }
   },
   "outputs": [],
   "source": [
    "# find the first 10 square numbers\n",
    "square = lambda x: x ** 2\n",
    "for val in map(square, range(10)):\n",
    "    print(val, end=' ')"
   ]
  },
  {
   "cell_type": "markdown",
   "id": "7e99e221",
   "metadata": {
    "slideshow": {
     "slide_type": "slide"
    }
   },
   "source": [
    "The ``filter`` iterator looks similar, except it only passes-through values for which the filter function evaluates to True:"
   ]
  },
  {
   "cell_type": "code",
   "execution_count": null,
   "id": "d2fd2530",
   "metadata": {
    "ExecuteTime": {
     "end_time": "2022-09-25T12:29:52.038390Z",
     "start_time": "2022-09-25T12:29:51.529Z"
    }
   },
   "outputs": [],
   "source": [
    "# find values up to 10 for which x % 2 is zero\n",
    "is_even = lambda x: x % 2 == 0\n",
    "for val in filter(is_even, range(10)):\n",
    "    print(val, end=' ')"
   ]
  },
  {
   "cell_type": "markdown",
   "id": "433af0e9",
   "metadata": {
    "slideshow": {
     "slide_type": "slide"
    }
   },
   "source": [
    "### Iterators as function arguments\n",
    "\n",
    "We saw in [``*args`` and ``**kwargs``: Flexible Arguments]. that ``*args`` and ``**kwargs`` can be used to pass sequences and dictionaries to functions.\n",
    "It turns out that the ``*args`` syntax works not just with sequences, but with any iterator:"
   ]
  },
  {
   "cell_type": "code",
   "execution_count": null,
   "id": "ee161827",
   "metadata": {
    "ExecuteTime": {
     "end_time": "2022-09-25T12:29:52.039390Z",
     "start_time": "2022-09-25T12:29:51.532Z"
    }
   },
   "outputs": [],
   "source": [
    "print(*range(10))"
   ]
  },
  {
   "cell_type": "markdown",
   "id": "9b4af2d1",
   "metadata": {
    "slideshow": {
     "slide_type": "slide"
    }
   },
   "source": [
    "So, for example, we can get tricky and compress the ``map`` example from before into the following:"
   ]
  },
  {
   "cell_type": "code",
   "execution_count": null,
   "id": "b60bceb4",
   "metadata": {
    "ExecuteTime": {
     "end_time": "2022-09-25T12:29:52.040391Z",
     "start_time": "2022-09-25T12:29:51.535Z"
    }
   },
   "outputs": [],
   "source": [
    "print(*map(lambda x: x ** 2, range(10)))\n",
    "\n",
    "#map(lambda x: x ** 2, range(10))"
   ]
  },
  {
   "cell_type": "markdown",
   "id": "c49be03d",
   "metadata": {
    "slideshow": {
     "slide_type": "slide"
    }
   },
   "source": [
    "Using this trick lets us answer the age-old question that comes up in Python learners' forums: why is there no ``unzip()`` function which does the opposite of ``zip()``?\n",
    "If you lock yourself in a dark closet and think about it for a while, you might realize that the opposite of ``zip()`` is... ``zip()``! The key is that ``zip()`` can zip-together any number of iterators or sequences. Observe:"
   ]
  },
  {
   "cell_type": "code",
   "execution_count": null,
   "id": "b1510a7d",
   "metadata": {
    "ExecuteTime": {
     "end_time": "2022-09-25T12:29:52.042389Z",
     "start_time": "2022-09-25T12:29:51.538Z"
    }
   },
   "outputs": [],
   "source": [
    "L1 = (1, 2, 3, 4)\n",
    "L2 = ('a', 'b', 'c', 'd')"
   ]
  },
  {
   "cell_type": "code",
   "execution_count": null,
   "id": "524738c2",
   "metadata": {
    "ExecuteTime": {
     "end_time": "2022-09-25T12:29:52.043389Z",
     "start_time": "2022-09-25T12:29:51.540Z"
    }
   },
   "outputs": [],
   "source": [
    "z = zip(L1, L2)\n",
    "print(*z)"
   ]
  },
  {
   "cell_type": "code",
   "execution_count": null,
   "id": "4b3a7042",
   "metadata": {
    "ExecuteTime": {
     "end_time": "2022-09-25T12:29:52.044389Z",
     "start_time": "2022-09-25T12:29:51.542Z"
    }
   },
   "outputs": [],
   "source": [
    "print(*zip(L1,L2,L1))"
   ]
  },
  {
   "cell_type": "code",
   "execution_count": null,
   "id": "8539c6ec",
   "metadata": {
    "ExecuteTime": {
     "end_time": "2022-09-25T12:29:52.045390Z",
     "start_time": "2022-09-25T12:29:51.545Z"
    },
    "slideshow": {
     "slide_type": "slide"
    }
   },
   "outputs": [],
   "source": [
    "z = zip(L1, L2)\n",
    "new_L1, new_L2 = zip(*z)\n",
    "print(new_L1, \"  &  \", new_L2)"
   ]
  },
  {
   "cell_type": "markdown",
   "id": "d6780d9f",
   "metadata": {},
   "source": [
    "Ponder this for a while. If you understand why it works, you'll have come a long way in understanding Python iterators!"
   ]
  },
  {
   "cell_type": "markdown",
   "id": "438c34f6",
   "metadata": {
    "slideshow": {
     "slide_type": "slide"
    }
   },
   "source": [
    "## Specialized Iterators: ``itertools``\n",
    "\n",
    "We briefly looked at the infinite ``range`` iterator, ``itertools.count``.\n",
    "The ``itertools`` module contains a whole host of useful iterators; it's well worth your while to explore the module to see what's available.\n",
    "As an example, consider the ``itertools.permutations`` function, which iterates over all permutations of a sequence:"
   ]
  },
  {
   "cell_type": "code",
   "execution_count": null,
   "id": "6dccaaa6",
   "metadata": {
    "ExecuteTime": {
     "end_time": "2022-09-25T12:29:52.047389Z",
     "start_time": "2022-09-25T12:29:51.548Z"
    },
    "slideshow": {
     "slide_type": "slide"
    }
   },
   "outputs": [],
   "source": [
    "from itertools import permutations\n",
    "p = permutations(range(3))\n",
    "print(*p)"
   ]
  },
  {
   "cell_type": "markdown",
   "id": "d5930236",
   "metadata": {
    "slideshow": {
     "slide_type": "slide"
    }
   },
   "source": [
    "Similarly, the ``itertools.combinations`` function iterates over all unique combinations of ``N`` values within a list:"
   ]
  },
  {
   "cell_type": "code",
   "execution_count": null,
   "id": "f6d046bb",
   "metadata": {
    "ExecuteTime": {
     "end_time": "2022-09-25T12:29:52.048391Z",
     "start_time": "2022-09-25T12:29:51.551Z"
    }
   },
   "outputs": [],
   "source": [
    "from itertools import combinations\n",
    "c = combinations(range(4), 2)\n",
    "print(*c)"
   ]
  },
  {
   "cell_type": "markdown",
   "id": "d2d1539d",
   "metadata": {
    "slideshow": {
     "slide_type": "slide"
    }
   },
   "source": [
    "Somewhat related is the ``product`` iterator, which iterates over all sets of pairs between two or more iterables:"
   ]
  },
  {
   "cell_type": "code",
   "execution_count": null,
   "id": "8930750c",
   "metadata": {
    "ExecuteTime": {
     "end_time": "2022-09-25T12:29:52.049389Z",
     "start_time": "2022-09-25T12:29:51.554Z"
    }
   },
   "outputs": [],
   "source": [
    "from itertools import product\n",
    "p = product('ab', range(3))\n",
    "print(*p)"
   ]
  },
  {
   "cell_type": "markdown",
   "id": "abc781fa",
   "metadata": {},
   "source": [
    "Many more useful iterators exist in ``itertools``: the full list can be found, along with some examples, in Python's [online documentation](https://docs.python.org/3.5/library/itertools.html)."
   ]
  },
  {
   "cell_type": "markdown",
   "id": "3201fd32",
   "metadata": {
    "slideshow": {
     "slide_type": "slide"
    }
   },
   "source": [
    "## List Comprehensions\n",
    "If you read enough Python code, you'll eventually come across the  efficient construction known as a *list comprehension*.\n",
    "This is one feature of Python I expect **you will fall in love with** if you've not used it before; it looks something like this:"
   ]
  },
  {
   "cell_type": "code",
   "execution_count": null,
   "id": "b90f62ae",
   "metadata": {
    "ExecuteTime": {
     "end_time": "2022-09-25T12:29:52.050390Z",
     "start_time": "2022-09-25T12:29:51.587Z"
    }
   },
   "outputs": [],
   "source": [
    "x= [i for i in range(20) if i % 3 > 0]\n",
    "{i:str(i) for i in x}\n"
   ]
  },
  {
   "cell_type": "markdown",
   "id": "7a2fcae8",
   "metadata": {},
   "source": [
    "The result of this is a list of numbers which excludes multiples of 3.\n",
    "While this example may seem a bit dense and confusing at first, as familiarity with Python grows, reading and writing list comprehensions will become second nature."
   ]
  },
  {
   "cell_type": "markdown",
   "id": "d0893481",
   "metadata": {
    "slideshow": {
     "slide_type": "slide"
    }
   },
   "source": [
    "### Basic List Comprehensions\n",
    "\n",
    "List comprehensions are simply a way to compress a list-building for-loop into a single short, readable line.\n",
    "For example, here is a loop that constructs a list of the first 12 square integers:"
   ]
  },
  {
   "cell_type": "code",
   "execution_count": null,
   "id": "367a6bab",
   "metadata": {
    "ExecuteTime": {
     "end_time": "2022-09-25T12:29:52.051391Z",
     "start_time": "2022-09-25T12:29:51.590Z"
    }
   },
   "outputs": [],
   "source": [
    "L = []\n",
    "for n in range(12):\n",
    "    L.append(n ** 2)\n",
    "L"
   ]
  },
  {
   "cell_type": "markdown",
   "id": "1f04ebb0",
   "metadata": {
    "slideshow": {
     "slide_type": "slide"
    }
   },
   "source": [
    "The list comprehension equivalent of this is the following:"
   ]
  },
  {
   "cell_type": "code",
   "execution_count": null,
   "id": "96a016fa",
   "metadata": {
    "ExecuteTime": {
     "end_time": "2022-09-25T12:29:52.052389Z",
     "start_time": "2022-09-25T12:29:51.593Z"
    }
   },
   "outputs": [],
   "source": [
    "[n ** 2 for n in range(12)]"
   ]
  },
  {
   "cell_type": "markdown",
   "id": "d9dc7b36",
   "metadata": {
    "slideshow": {
     "slide_type": "slide"
    }
   },
   "source": [
    "As with many Python statements, you can almost read-off the meaning of this statement in plain English: \"construct a list consisting of the square of ``n`` for each ``n`` from zero to 12\".\n",
    "\n",
    "This basic syntax, then, is ``[``*``expr``* ``for`` *``var``* ``in`` *``iterable``*``]``, where *``expr``* is any valid expression, *``var``* is a variable name, and *``iterable``* is any iterable Python object."
   ]
  },
  {
   "cell_type": "code",
   "execution_count": null,
   "id": "a2f2b335",
   "metadata": {
    "ExecuteTime": {
     "end_time": "2022-09-25T12:29:52.053389Z",
     "start_time": "2022-09-25T12:29:51.596Z"
    }
   },
   "outputs": [],
   "source": [
    "[x*y for x in [] for y in [] if]"
   ]
  },
  {
   "cell_type": "markdown",
   "id": "2241a8fb",
   "metadata": {
    "slideshow": {
     "slide_type": "slide"
    }
   },
   "source": [
    "### Multiple Iteration\n",
    "Sometimes you want to build a list not just from one value, but from two. To do this, simply add another ``for`` expression in the comprehension:"
   ]
  },
  {
   "cell_type": "code",
   "execution_count": null,
   "id": "c736aa2a",
   "metadata": {
    "ExecuteTime": {
     "end_time": "2022-09-25T12:29:52.055389Z",
     "start_time": "2022-09-25T12:29:51.599Z"
    }
   },
   "outputs": [],
   "source": [
    "[(i, j) for i in range(2) for j in range(3)]"
   ]
  },
  {
   "cell_type": "markdown",
   "id": "5d7f0411",
   "metadata": {},
   "source": [
    "Notice that the second ``for`` expression acts as the interior index, varying the fastest in the resulting list.\n",
    "This type of construction can be extended to three, four, or more iterators within the comprehension, though at some point code readibility will suffer!"
   ]
  },
  {
   "cell_type": "markdown",
   "id": "75f01b87",
   "metadata": {
    "slideshow": {
     "slide_type": "slide"
    }
   },
   "source": [
    "### Conditionals on the Iterator\n",
    "You can further control the iteration by adding a conditional to the end of the expression.\n",
    "In the first example of the section, we iterated over all numbers from 1 to 20, but left-out multiples of 3.\n",
    "Look at this again, and notice the construction:"
   ]
  },
  {
   "cell_type": "code",
   "execution_count": null,
   "id": "5b643e65",
   "metadata": {
    "ExecuteTime": {
     "end_time": "2022-09-25T12:29:52.056391Z",
     "start_time": "2022-09-25T12:29:51.602Z"
    }
   },
   "outputs": [],
   "source": [
    "[val for val in range(20) if val % 3 > 0]"
   ]
  },
  {
   "cell_type": "markdown",
   "id": "4b240c85",
   "metadata": {
    "slideshow": {
     "slide_type": "slide"
    }
   },
   "source": [
    "The expression ``(i % 3 > 0)`` evaluates to ``True`` unless ``val`` is divisible by 3.\n",
    "Again, the English language meaning can be immediately read off: \"Construct a list of values for each value up to 20, but only if the value is not divisible by 3\".\n",
    "Once you are comfortable with it, this is much easier to write – and to understand at a glance – than the equivalent loop syntax:"
   ]
  },
  {
   "cell_type": "code",
   "execution_count": null,
   "id": "7f83a5d8",
   "metadata": {
    "ExecuteTime": {
     "end_time": "2022-09-25T12:29:52.057389Z",
     "start_time": "2022-09-25T12:29:51.605Z"
    },
    "slideshow": {
     "slide_type": "slide"
    }
   },
   "outputs": [],
   "source": [
    "L = []\n",
    "for val in range(20):\n",
    "    if val % 3:\n",
    "        L.append(val)\n",
    "L"
   ]
  },
  {
   "cell_type": "markdown",
   "id": "fdf67a34",
   "metadata": {
    "slideshow": {
     "slide_type": "slide"
    }
   },
   "source": [
    "### Conditionals on the Value\n",
    "If you've programmed in C, you might be familiar with the single-line conditional enabled by the ``?`` operator:\n",
    "``` C\n",
    "int absval = (val < 0) ? -val : val\n",
    "```\n",
    "Python has something very similar to this, which is most often used within list comprehensions, ``lambda`` functions, and other places where a simple expression is desired:"
   ]
  },
  {
   "cell_type": "code",
   "execution_count": null,
   "id": "e527cea8",
   "metadata": {
    "ExecuteTime": {
     "end_time": "2022-09-25T12:29:52.058391Z",
     "start_time": "2022-09-25T12:29:51.607Z"
    },
    "slideshow": {
     "slide_type": "slide"
    }
   },
   "outputs": [],
   "source": [
    "val = -10\n",
    "val if val >= 0 else -val"
   ]
  },
  {
   "cell_type": "markdown",
   "id": "1fb5297c",
   "metadata": {
    "slideshow": {
     "slide_type": "slide"
    }
   },
   "source": [
    "We see that this simply duplicates the functionality of the built-in ``abs()`` function, but the construction lets you do some really interesting things within list comprehensions.\n",
    "This is getting pretty complicated now, but you could do something like this:"
   ]
  },
  {
   "cell_type": "code",
   "execution_count": null,
   "id": "23921dad",
   "metadata": {
    "ExecuteTime": {
     "end_time": "2022-09-25T12:29:52.059389Z",
     "start_time": "2022-09-25T12:29:51.610Z"
    }
   },
   "outputs": [],
   "source": [
    "[val if val % 2 else -val\n",
    " #val %2 ==1 ? val :-val\n",
    " for val in range(20) if val % 3]"
   ]
  },
  {
   "cell_type": "markdown",
   "id": "757b32fb",
   "metadata": {
    "slideshow": {
     "slide_type": "slide"
    }
   },
   "source": [
    "Note the line break within the list comprehension before the ``for`` expression: this is valid in Python, and is often a nice way to break-up long list comprehensions for greater readibility.\n",
    "Look this over: what we're doing is constructing a list, leaving out multiples of 3, and negating all mutliples of 2."
   ]
  },
  {
   "cell_type": "markdown",
   "id": "bd46f42f",
   "metadata": {
    "slideshow": {
     "slide_type": "slide"
    }
   },
   "source": [
    "Once you understand the dynamics of list comprehensions, it's straightforward to move on to other types of comprehensions. The syntax is largely the same; the only difference is the type of bracket you use.\n",
    "\n",
    "For example, with curly braces you can create a ``set`` with a *set comprehension*:"
   ]
  },
  {
   "cell_type": "code",
   "execution_count": null,
   "id": "be32f108",
   "metadata": {
    "ExecuteTime": {
     "end_time": "2022-09-25T12:29:52.060391Z",
     "start_time": "2022-09-25T12:29:51.613Z"
    }
   },
   "outputs": [],
   "source": [
    "{n**2 for n in range(12)}"
   ]
  },
  {
   "cell_type": "markdown",
   "id": "d7849a14",
   "metadata": {
    "slideshow": {
     "slide_type": "slide"
    }
   },
   "source": [
    "Recall that a ``set`` is a collection that contains no duplicates.\n",
    "The set comprehension respects this rule, and eliminates any duplicate entries:"
   ]
  },
  {
   "cell_type": "code",
   "execution_count": null,
   "id": "b5d300c1",
   "metadata": {
    "ExecuteTime": {
     "end_time": "2022-09-25T12:29:52.062389Z",
     "start_time": "2022-09-25T12:29:51.616Z"
    }
   },
   "outputs": [],
   "source": [
    "{a % 3 for a in range(1000)}"
   ]
  },
  {
   "cell_type": "markdown",
   "id": "1e55b641",
   "metadata": {
    "slideshow": {
     "slide_type": "slide"
    }
   },
   "source": [
    "With a slight tweak, you can add a colon (``:``) to create a *dict comprehension*:"
   ]
  },
  {
   "cell_type": "code",
   "execution_count": null,
   "id": "5561bf52",
   "metadata": {
    "ExecuteTime": {
     "end_time": "2022-09-25T12:29:52.063389Z",
     "start_time": "2022-09-25T12:29:51.618Z"
    }
   },
   "outputs": [],
   "source": [
    "{n:n**2 for n in range(6)}"
   ]
  },
  {
   "cell_type": "markdown",
   "id": "28d4d284",
   "metadata": {
    "slideshow": {
     "slide_type": "slide"
    }
   },
   "source": [
    "### Generators\n",
    "\n",
    "Finally, if you use parentheses rather than square brackets, you get what's called a **generator expression**:"
   ]
  },
  {
   "cell_type": "code",
   "execution_count": null,
   "id": "d0de52eb",
   "metadata": {
    "ExecuteTime": {
     "end_time": "2022-09-25T12:29:52.064389Z",
     "start_time": "2022-09-25T12:29:51.621Z"
    }
   },
   "outputs": [],
   "source": [
    "(n**2 for n in range(12))"
   ]
  },
  {
   "cell_type": "markdown",
   "id": "9fd60e47",
   "metadata": {},
   "source": [
    "A generator expression is essentially a list comprehension in which **elements are generated as-needed rather than all at-once**, and the simplicity here belies the power of this language feature."
   ]
  }
 ],
 "metadata": {
  "celltoolbar": "Slideshow",
  "kernelspec": {
   "display_name": "Python 3 (ipykernel)",
   "language": "python",
   "name": "python3"
  },
  "language_info": {
   "codemirror_mode": {
    "name": "ipython",
    "version": 3
   },
   "file_extension": ".py",
   "mimetype": "text/x-python",
   "name": "python",
   "nbconvert_exporter": "python",
   "pygments_lexer": "ipython3",
   "version": "3.9.12"
  },
  "toc": {
   "base_numbering": 1,
   "nav_menu": {},
   "number_sections": true,
   "sideBar": true,
   "skip_h1_title": false,
   "title_cell": "Table of Contents",
   "title_sidebar": "Contents",
   "toc_cell": false,
   "toc_position": {
    "height": "calc(100% - 180px)",
    "left": "10px",
    "top": "150px",
    "width": "282.79px"
   },
   "toc_section_display": true,
   "toc_window_display": false
  }
 },
 "nbformat": 4,
 "nbformat_minor": 5
}
