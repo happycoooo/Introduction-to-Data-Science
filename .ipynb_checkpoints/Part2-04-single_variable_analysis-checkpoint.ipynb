{
 "cells": [
  {
   "cell_type": "markdown",
   "metadata": {
    "slideshow": {
     "slide_type": "slide"
    }
   },
   "source": [
    "<p style=\"font-size:15pt; text-align:center\">\n",
    "    Introduction to Data Science\n",
    "</p>\n",
    "<p style=\"font-size:20pt; text-align:center\">\n",
    "    Single-variable analysis\n",
    "</p>"
   ]
  },
  {
   "cell_type": "code",
   "execution_count": 3,
   "metadata": {
    "ExecuteTime": {
     "end_time": "2022-10-21T06:33:13.095066Z",
     "start_time": "2022-10-21T06:33:12.468068Z"
    },
    "slideshow": {
     "slide_type": "slide"
    }
   },
   "outputs": [],
   "source": [
    "import numpy as np\n",
    "import pandas as pd"
   ]
  },
  {
   "cell_type": "code",
   "execution_count": 4,
   "metadata": {
    "ExecuteTime": {
     "end_time": "2022-10-21T06:33:13.446067Z",
     "start_time": "2022-10-21T06:33:13.098068Z"
    }
   },
   "outputs": [],
   "source": [
    "import matplotlib.pyplot as plt  # standard way of importing matplotlib\n",
    "%matplotlib inline  \n",
    "# the second line is a so-called magic to allow jupyter\n",
    "#showing plots inline instead of opening a new window"
   ]
  },
  {
   "cell_type": "markdown",
   "metadata": {
    "slideshow": {
     "slide_type": "slide"
    }
   },
   "source": [
    "# Loading a data set and initial data analysis"
   ]
  },
  {
   "cell_type": "markdown",
   "metadata": {},
   "source": [
    "Initial data analysis is the first step of exploratory data analysis that you **must** do whenever you put hands on a new data set.\n",
    "\n",
    "The aim is to do consistency checks to see that the quality of the measurements and of the data is adequate. See wikipedia for more details: https://en.wikipedia.org/wiki/Data_analysis#Initial_data_analysis"
   ]
  },
  {
   "cell_type": "markdown",
   "metadata": {
    "slideshow": {
     "slide_type": "slide"
    }
   },
   "source": [
    "We will use the ``demographics.csv`` data. Data set adapted from [Kaggle](https://www.kaggle.com/carlolepelaars/toy-dataset/downloads/toy-dataset.zip/1).\n",
    "\n",
    "This data set contains demographic information about individuals and whether they are ill or healthy."
   ]
  },
  {
   "cell_type": "markdown",
   "metadata": {},
   "source": [
    "***\n",
    "Question: What types of variable are these?\n",
    "***"
   ]
  },
  {
   "cell_type": "code",
   "execution_count": 5,
   "metadata": {
    "ExecuteTime": {
     "end_time": "2022-10-21T06:33:14.578066Z",
     "start_time": "2022-10-21T06:33:13.449067Z"
    },
    "slideshow": {
     "slide_type": "slide"
    }
   },
   "outputs": [
    {
     "data": {
      "text/plain": [
       "dtype('int64')"
      ]
     },
     "execution_count": 5,
     "metadata": {},
     "output_type": "execute_result"
    }
   ],
   "source": [
    "#load data\n",
    "#datademographic_array = np.loadtxt('files/demographics.csv') # First attempt to load data\n",
    "datademographic_array = np.loadtxt('files/demographics.csv', skiprows=1, delimiter=',', dtype='int64') # Success!\n",
    "datademographic_array.dtype"
   ]
  },
  {
   "cell_type": "code",
   "execution_count": 6,
   "metadata": {
    "ExecuteTime": {
     "end_time": "2022-10-21T06:33:14.673066Z",
     "start_time": "2022-10-21T06:33:14.580067Z"
    },
    "slideshow": {
     "slide_type": "slide"
    }
   },
   "outputs": [
    {
     "data": {
      "text/html": [
       "<div>\n",
       "<style scoped>\n",
       "    .dataframe tbody tr th:only-of-type {\n",
       "        vertical-align: middle;\n",
       "    }\n",
       "\n",
       "    .dataframe tbody tr th {\n",
       "        vertical-align: top;\n",
       "    }\n",
       "\n",
       "    .dataframe thead th {\n",
       "        text-align: right;\n",
       "    }\n",
       "</style>\n",
       "<table border=\"1\" class=\"dataframe\">\n",
       "  <thead>\n",
       "    <tr style=\"text-align: right;\">\n",
       "      <th></th>\n",
       "      <th>ID</th>\n",
       "      <th>City</th>\n",
       "      <th>Gender</th>\n",
       "      <th>Age</th>\n",
       "      <th>Income</th>\n",
       "      <th>Illness</th>\n",
       "    </tr>\n",
       "  </thead>\n",
       "  <tbody>\n",
       "    <tr>\n",
       "      <th>0</th>\n",
       "      <td>1</td>\n",
       "      <td>1</td>\n",
       "      <td>0</td>\n",
       "      <td>41</td>\n",
       "      <td>40367</td>\n",
       "      <td>0</td>\n",
       "    </tr>\n",
       "    <tr>\n",
       "      <th>1</th>\n",
       "      <td>2</td>\n",
       "      <td>1</td>\n",
       "      <td>0</td>\n",
       "      <td>54</td>\n",
       "      <td>45084</td>\n",
       "      <td>0</td>\n",
       "    </tr>\n",
       "    <tr>\n",
       "      <th>2</th>\n",
       "      <td>3</td>\n",
       "      <td>1</td>\n",
       "      <td>0</td>\n",
       "      <td>42</td>\n",
       "      <td>52483</td>\n",
       "      <td>0</td>\n",
       "    </tr>\n",
       "    <tr>\n",
       "      <th>3</th>\n",
       "      <td>4</td>\n",
       "      <td>1</td>\n",
       "      <td>0</td>\n",
       "      <td>40</td>\n",
       "      <td>40941</td>\n",
       "      <td>0</td>\n",
       "    </tr>\n",
       "    <tr>\n",
       "      <th>4</th>\n",
       "      <td>5</td>\n",
       "      <td>1</td>\n",
       "      <td>0</td>\n",
       "      <td>46</td>\n",
       "      <td>50289</td>\n",
       "      <td>0</td>\n",
       "    </tr>\n",
       "  </tbody>\n",
       "</table>\n",
       "</div>"
      ],
      "text/plain": [
       "   ID  City  Gender  Age  Income  Illness\n",
       "0   1     1       0   41   40367        0\n",
       "1   2     1       0   54   45084        0\n",
       "2   3     1       0   42   52483        0\n",
       "3   4     1       0   40   40941        0\n",
       "4   5     1       0   46   50289        0"
      ]
     },
     "execution_count": 6,
     "metadata": {},
     "output_type": "execute_result"
    }
   ],
   "source": [
    "# load data\n",
    "datademographic = pd.read_csv('files/demographics.csv') # First attempt to load data\n",
    "datademographic.head()"
   ]
  },
  {
   "cell_type": "code",
   "execution_count": 7,
   "metadata": {
    "ExecuteTime": {
     "end_time": "2022-10-21T06:33:14.689062Z",
     "start_time": "2022-10-21T06:33:14.675063Z"
    },
    "slideshow": {
     "slide_type": "slide"
    }
   },
   "outputs": [
    {
     "data": {
      "text/html": [
       "<div>\n",
       "<style scoped>\n",
       "    .dataframe tbody tr th:only-of-type {\n",
       "        vertical-align: middle;\n",
       "    }\n",
       "\n",
       "    .dataframe tbody tr th {\n",
       "        vertical-align: top;\n",
       "    }\n",
       "\n",
       "    .dataframe thead th {\n",
       "        text-align: right;\n",
       "    }\n",
       "</style>\n",
       "<table border=\"1\" class=\"dataframe\">\n",
       "  <thead>\n",
       "    <tr style=\"text-align: right;\">\n",
       "      <th></th>\n",
       "      <th>ID</th>\n",
       "      <th>City</th>\n",
       "      <th>Gender</th>\n",
       "      <th>Age</th>\n",
       "      <th>Income</th>\n",
       "      <th>Illness</th>\n",
       "    </tr>\n",
       "  </thead>\n",
       "  <tbody>\n",
       "    <tr>\n",
       "      <th>0</th>\n",
       "      <td>1</td>\n",
       "      <td>1</td>\n",
       "      <td>0</td>\n",
       "      <td>41</td>\n",
       "      <td>40367</td>\n",
       "      <td>0</td>\n",
       "    </tr>\n",
       "    <tr>\n",
       "      <th>1</th>\n",
       "      <td>2</td>\n",
       "      <td>1</td>\n",
       "      <td>0</td>\n",
       "      <td>54</td>\n",
       "      <td>45084</td>\n",
       "      <td>0</td>\n",
       "    </tr>\n",
       "    <tr>\n",
       "      <th>2</th>\n",
       "      <td>3</td>\n",
       "      <td>1</td>\n",
       "      <td>0</td>\n",
       "      <td>42</td>\n",
       "      <td>52483</td>\n",
       "      <td>0</td>\n",
       "    </tr>\n",
       "    <tr>\n",
       "      <th>3</th>\n",
       "      <td>4</td>\n",
       "      <td>1</td>\n",
       "      <td>0</td>\n",
       "      <td>40</td>\n",
       "      <td>40941</td>\n",
       "      <td>0</td>\n",
       "    </tr>\n",
       "    <tr>\n",
       "      <th>4</th>\n",
       "      <td>5</td>\n",
       "      <td>1</td>\n",
       "      <td>0</td>\n",
       "      <td>46</td>\n",
       "      <td>50289</td>\n",
       "      <td>0</td>\n",
       "    </tr>\n",
       "    <tr>\n",
       "      <th>...</th>\n",
       "      <td>...</td>\n",
       "      <td>...</td>\n",
       "      <td>...</td>\n",
       "      <td>...</td>\n",
       "      <td>...</td>\n",
       "      <td>...</td>\n",
       "    </tr>\n",
       "    <tr>\n",
       "      <th>149995</th>\n",
       "      <td>149996</td>\n",
       "      <td>7</td>\n",
       "      <td>0</td>\n",
       "      <td>48</td>\n",
       "      <td>93669</td>\n",
       "      <td>0</td>\n",
       "    </tr>\n",
       "    <tr>\n",
       "      <th>149996</th>\n",
       "      <td>149997</td>\n",
       "      <td>7</td>\n",
       "      <td>0</td>\n",
       "      <td>25</td>\n",
       "      <td>96748</td>\n",
       "      <td>0</td>\n",
       "    </tr>\n",
       "    <tr>\n",
       "      <th>149997</th>\n",
       "      <td>149998</td>\n",
       "      <td>7</td>\n",
       "      <td>0</td>\n",
       "      <td>26</td>\n",
       "      <td>111885</td>\n",
       "      <td>0</td>\n",
       "    </tr>\n",
       "    <tr>\n",
       "      <th>149998</th>\n",
       "      <td>149999</td>\n",
       "      <td>7</td>\n",
       "      <td>0</td>\n",
       "      <td>25</td>\n",
       "      <td>111878</td>\n",
       "      <td>0</td>\n",
       "    </tr>\n",
       "    <tr>\n",
       "      <th>149999</th>\n",
       "      <td>150000</td>\n",
       "      <td>7</td>\n",
       "      <td>1</td>\n",
       "      <td>37</td>\n",
       "      <td>87251</td>\n",
       "      <td>0</td>\n",
       "    </tr>\n",
       "  </tbody>\n",
       "</table>\n",
       "<p>150000 rows × 6 columns</p>\n",
       "</div>"
      ],
      "text/plain": [
       "            ID  City  Gender  Age  Income  Illness\n",
       "0            1     1       0   41   40367        0\n",
       "1            2     1       0   54   45084        0\n",
       "2            3     1       0   42   52483        0\n",
       "3            4     1       0   40   40941        0\n",
       "4            5     1       0   46   50289        0\n",
       "...        ...   ...     ...  ...     ...      ...\n",
       "149995  149996     7       0   48   93669        0\n",
       "149996  149997     7       0   25   96748        0\n",
       "149997  149998     7       0   26  111885        0\n",
       "149998  149999     7       0   25  111878        0\n",
       "149999  150000     7       1   37   87251        0\n",
       "\n",
       "[150000 rows x 6 columns]"
      ]
     },
     "execution_count": 7,
     "metadata": {},
     "output_type": "execute_result"
    }
   ],
   "source": [
    "datademographic"
   ]
  },
  {
   "cell_type": "markdown",
   "metadata": {
    "slideshow": {
     "slide_type": "slide"
    }
   },
   "source": [
    "How big is the data set?"
   ]
  },
  {
   "cell_type": "code",
   "execution_count": null,
   "metadata": {
    "ExecuteTime": {
     "end_time": "2022-10-21T06:33:14.705067Z",
     "start_time": "2022-10-21T06:33:14.691062Z"
    }
   },
   "outputs": [],
   "source": [
    "print(datademographic.shape)\n",
    "print(datademographic.size)"
   ]
  },
  {
   "cell_type": "markdown",
   "metadata": {
    "slideshow": {
     "slide_type": "slide"
    }
   },
   "source": [
    "How many unique values are there per variable?"
   ]
  },
  {
   "cell_type": "code",
   "execution_count": null,
   "metadata": {
    "ExecuteTime": {
     "end_time": "2022-10-21T06:33:14.769068Z",
     "start_time": "2022-10-21T06:33:14.707063Z"
    },
    "scrolled": true
   },
   "outputs": [],
   "source": [
    "for col in datademographic.columns:\n",
    "    print (col, \"\\n\", datademographic.loc[:,col].size, \"\\n\", datademographic.loc[:, col].value_counts(), \"\\n\\n\\n\", sep=\"\")"
   ]
  },
  {
   "cell_type": "code",
   "execution_count": null,
   "metadata": {
    "ExecuteTime": {
     "end_time": "2022-10-21T06:33:14.833061Z",
     "start_time": "2022-10-21T06:33:14.773069Z"
    },
    "slideshow": {
     "slide_type": "slide"
    }
   },
   "outputs": [],
   "source": [
    "for col in range(datademographic_array.shape[1]):\n",
    "    print(col, np.unique(datademographic_array[:,col]).size, np.unique(datademographic_array[:,col]), \"\\n\")"
   ]
  },
  {
   "cell_type": "markdown",
   "metadata": {
    "slideshow": {
     "slide_type": "slide"
    }
   },
   "source": [
    "We observe:\n",
    "\n",
    "    - The IDs are all unique. How do we see this?\n",
    "    - There are 8 cities.\n",
    "    - There are 2 genders.\n",
    "    - There are 41 age groups (25-65 year olds).\n",
    "    - There are many different income levels.\n",
    "    - There are ill and healthy people."
   ]
  },
  {
   "cell_type": "markdown",
   "metadata": {
    "slideshow": {
     "slide_type": "slide"
    }
   },
   "source": [
    "# Exploratory data analysis of categorical variables"
   ]
  },
  {
   "cell_type": "markdown",
   "metadata": {},
   "source": [
    "How many people are from each city?"
   ]
  },
  {
   "cell_type": "code",
   "execution_count": null,
   "metadata": {
    "ExecuteTime": {
     "end_time": "2022-10-21T06:33:14.849067Z",
     "start_time": "2022-10-21T06:33:14.835067Z"
    }
   },
   "outputs": [],
   "source": [
    "datademographic.loc[:,\"City\"].value_counts()"
   ]
  },
  {
   "cell_type": "code",
   "execution_count": null,
   "metadata": {
    "ExecuteTime": {
     "end_time": "2022-10-21T06:33:14.865063Z",
     "start_time": "2022-10-21T06:33:14.850062Z"
    },
    "slideshow": {
     "slide_type": "slide"
    }
   },
   "outputs": [],
   "source": [
    "np.unique(datademographic_array[:,1], return_counts=True)"
   ]
  },
  {
   "cell_type": "markdown",
   "metadata": {},
   "source": [
    "Easy. But can we make this more visual? Yes: We need to plot. Let's use matplotlib!"
   ]
  },
  {
   "cell_type": "markdown",
   "metadata": {
    "slideshow": {
     "slide_type": "slide"
    }
   },
   "source": [
    "## matplotlib is THE python graphics library"
   ]
  },
  {
   "cell_type": "markdown",
   "metadata": {},
   "source": [
    "* [Matplotlib](http://matplotlib.org) is a powerful 2D and 3D graphics library for generating scientific figures. Some of the many advantages of this library include:\n",
    "\n",
    "* Easy to get started\n",
    "* Support for $\\LaTeX$ formatted labels and texts\n",
    "* Great control of every element in a figure, including figure size and DPI. \n",
    "* High-quality output in many formats, including PNG, PDF, SVG, EPS, and PGF.\n",
    "\n",
    "One of the key features of matplotlib is that all aspects of the figure can be controlled *programmatically*. This is important for reproducibility and convenient when one needs to regenerate the figure with updated data or change its appearance. This makes matplotlib highly suitable for generating figures for scientific publications. \n",
    "\n",
    "More information at the Matplotlib web page: http://matplotlib.org/ . There's a [nice gallery](http://matplotlib.org/gallery.html) worth checking out. \n"
   ]
  },
  {
   "cell_type": "markdown",
   "metadata": {
    "slideshow": {
     "slide_type": "slide"
    }
   },
   "source": [
    "## Use matplotlib's object-oriented interface."
   ]
  },
  {
   "cell_type": "markdown",
   "metadata": {
    "slideshow": {
     "slide_type": "slide"
    }
   },
   "source": [
    "### The matplotlib object-oriented API\n",
    "\n",
    "The main idea with object-oriented programming is to have objects that one can apply functions and actions on, and no object or program states should be global. The real advantage of this approach becomes apparent when more than one figure is created, or when a figure contains more than one subplot. \n",
    "\n",
    "The main object hierarchy is this:\n",
    "<img src=\"files/figmap.png\" width=\"400px\"/>"
   ]
  },
  {
   "cell_type": "code",
   "execution_count": null,
   "metadata": {
    "ExecuteTime": {
     "end_time": "2022-10-21T06:33:14.881067Z",
     "start_time": "2022-10-21T06:33:14.867062Z"
    },
    "slideshow": {
     "slide_type": "slide"
    }
   },
   "outputs": [],
   "source": [
    "import matplotlib.pyplot as plt  # standard way of importing matplotlib\n",
    "%matplotlib inline\n",
    "# the second line is a so-called magic to allow jupyter showing plots inline instead of opening a new window"
   ]
  },
  {
   "cell_type": "code",
   "execution_count": null,
   "metadata": {
    "ExecuteTime": {
     "end_time": "2022-10-21T06:33:14.897066Z",
     "start_time": "2022-10-21T06:33:14.883067Z"
    }
   },
   "outputs": [],
   "source": [
    "fig = plt.figure()\n",
    "type(fig)"
   ]
  },
  {
   "cell_type": "markdown",
   "metadata": {
    "slideshow": {
     "slide_type": "slide"
    }
   },
   "source": [
    "`fig` is an object containing other objects, for example:"
   ]
  },
  {
   "cell_type": "code",
   "execution_count": null,
   "metadata": {
    "ExecuteTime": {
     "end_time": "2022-10-21T06:33:14.961061Z",
     "start_time": "2022-10-21T06:33:14.899067Z"
    }
   },
   "outputs": [],
   "source": [
    "# Let's add an Axes object to our Figure\n",
    "axes = fig.add_axes([0, 0, 1, 1]) # left, bottom, width, height (range 0 to 1)\n",
    "\n",
    "one_tick = fig.axes[0].yaxis.get_major_ticks()[0]\n",
    "type(one_tick)"
   ]
  },
  {
   "cell_type": "markdown",
   "metadata": {
    "slideshow": {
     "slide_type": "-"
    }
   },
   "source": [
    "Above, `fig` (a Figure class instance) has multiple Axes (a list, for which we take the first element). Each Axes has a yaxis and xaxis, each of which have a collection of “major ticks,” and we grabbed the first one."
   ]
  },
  {
   "cell_type": "markdown",
   "metadata": {
    "slideshow": {
     "slide_type": "slide"
    }
   },
   "source": [
    "More details here: https://matplotlib.org/examples/showcase/anatomy.html\n",
    "<img src=\"files/figanatomy.png\" width=\"600px\"/>"
   ]
  },
  {
   "cell_type": "code",
   "execution_count": null,
   "metadata": {
    "ExecuteTime": {
     "end_time": "2022-10-21T06:33:15.137067Z",
     "start_time": "2022-10-21T06:33:14.963062Z"
    },
    "slideshow": {
     "slide_type": "slide"
    }
   },
   "outputs": [],
   "source": [
    "# Minimal plot example:\n",
    "x = range(0, 10) # x data (will plot on horizontal x axis)\n",
    "y = [i ** 2 for i in x] # y data (will plot on vertical y axis)\n",
    "\n",
    "fig = plt.figure(figsize=(4, 3)) # create figure object with a (width,height)\n",
    "axes = fig.add_axes([0, 0, 1, 1]) # left, bottom, width, height (range 0 to 1)\n",
    "\n",
    "axes.plot(x, y, 'r') # plot using color red\n",
    "\n",
    "axes.set_xlabel('x')\n",
    "axes.set_ylabel('y')\n",
    "axes.set_title('Title');"
   ]
  },
  {
   "cell_type": "code",
   "execution_count": null,
   "metadata": {
    "ExecuteTime": {
     "end_time": "2022-10-21T06:33:15.312068Z",
     "start_time": "2022-10-21T06:33:15.139068Z"
    },
    "slideshow": {
     "slide_type": "slide"
    }
   },
   "outputs": [],
   "source": [
    "# Minimal example for subplots\n",
    "fig, axes = plt.subplots(nrows=1, ncols=2, figsize=(8, 3)) # nrows specifies the number of rows you want, ncols how many figures in each row \n",
    "\n",
    "for ax in axes:\n",
    "    ax.plot(x, y, 'r')\n",
    "    ax.set_xlabel('x')\n",
    "    ax.set_ylabel('y')\n",
    "    ax.set_title('Title')"
   ]
  },
  {
   "cell_type": "markdown",
   "metadata": {
    "slideshow": {
     "slide_type": "slide"
    }
   },
   "source": [
    "We have full control of where the plot axes are placed, and we can easily add more than one axis to the figure:"
   ]
  },
  {
   "cell_type": "code",
   "execution_count": null,
   "metadata": {
    "ExecuteTime": {
     "end_time": "2022-10-21T06:33:15.472067Z",
     "start_time": "2022-10-21T06:33:15.314061Z"
    }
   },
   "outputs": [],
   "source": [
    "# Minimum example for inset plot\n",
    "fig = plt.figure(figsize=(4, 3))\n",
    "axes1 = fig.add_axes([0, 0, 0.8, 0.8]) # main axes\n",
    "axes2 = fig.add_axes([0.1, 0.4, 0.3, 0.25]) # inset axes\n",
    "\n",
    "# main figure\n",
    "axes1.plot(x, y, 'r')\n",
    "axes1.set_xlabel('x')\n",
    "axes1.set_ylabel('y')\n",
    "axes1.set_title('Title')\n",
    "\n",
    "# inset\n",
    "axes2.plot(y, x, 'g') # green\n",
    "axes2.set_xlabel('y')\n",
    "axes2.set_ylabel('x')\n",
    "axes2.set_title('Inset title');"
   ]
  },
  {
   "cell_type": "markdown",
   "metadata": {
    "slideshow": {
     "slide_type": "slide"
    }
   },
   "source": [
    "## Saving figures\n",
    "To save a figure to a file we can use the `savefig` method in the `Figure` class:"
   ]
  },
  {
   "cell_type": "code",
   "execution_count": null,
   "metadata": {
    "ExecuteTime": {
     "end_time": "2022-10-21T06:33:15.536068Z",
     "start_time": "2022-10-21T06:33:15.474063Z"
    }
   },
   "outputs": [],
   "source": [
    "#fig.savefig(\"filename.pdf\", dpi=300)  # dpi is the resolution"
   ]
  },
  {
   "cell_type": "markdown",
   "metadata": {},
   "source": [
    "Matplotlib can generate high-quality output in a number formats, including PNG, JPG, EPS, SVG, PGF and PDF. For scientific papers, I recommend using PDF whenever possible. (LaTeX documents compiled with `pdflatex` can include PDFs using the `includegraphics` command)."
   ]
  },
  {
   "cell_type": "markdown",
   "metadata": {
    "slideshow": {
     "slide_type": "slide"
    }
   },
   "source": [
    "## Let's get back to our single-variable exploratory data analysis"
   ]
  },
  {
   "cell_type": "markdown",
   "metadata": {},
   "source": [
    "A (frequency) **distribution** is a list, table, or graph that displays the frequency of a variable."
   ]
  },
  {
   "cell_type": "markdown",
   "metadata": {
    "slideshow": {
     "slide_type": "slide"
    }
   },
   "source": [
    "### Distribution of cities"
   ]
  },
  {
   "cell_type": "code",
   "execution_count": null,
   "metadata": {
    "ExecuteTime": {
     "end_time": "2022-10-21T06:33:15.552066Z",
     "start_time": "2022-10-21T06:33:15.540063Z"
    }
   },
   "outputs": [],
   "source": [
    "categories, counts = np.unique(datademographic_array[:,1], return_counts=True)"
   ]
  },
  {
   "cell_type": "code",
   "execution_count": null,
   "metadata": {
    "ExecuteTime": {
     "end_time": "2022-10-21T06:33:15.696066Z",
     "start_time": "2022-10-21T06:33:15.554062Z"
    },
    "scrolled": true
   },
   "outputs": [],
   "source": [
    "fig = plt.figure(figsize=(4, 3))\n",
    "axes = fig.add_axes([0, 0, 1, 1]) # left, bottom, width, height (range 0 to 1)\n",
    "axes.bar(categories, counts, fc=\"gray\") # fc is the face color\n",
    "\n",
    "axes.set_xlabel('City')\n",
    "axes.set_ylabel('Count')\n",
    "axes.set_title('Number of individuals in each city');"
   ]
  },
  {
   "cell_type": "code",
   "execution_count": null,
   "metadata": {
    "ExecuteTime": {
     "end_time": "2022-10-21T06:33:15.856066Z",
     "start_time": "2022-10-21T06:33:15.698062Z"
    }
   },
   "outputs": [],
   "source": [
    "datademographic.loc[:,\"City\"].value_counts(sort=False).plot(kind=\"bar\")"
   ]
  },
  {
   "cell_type": "markdown",
   "metadata": {
    "slideshow": {
     "slide_type": "slide"
    }
   },
   "source": [
    "### Distribution of gender"
   ]
  },
  {
   "cell_type": "code",
   "execution_count": null,
   "metadata": {
    "ExecuteTime": {
     "end_time": "2022-10-21T06:33:15.872067Z",
     "start_time": "2022-10-21T06:33:15.859062Z"
    }
   },
   "outputs": [],
   "source": [
    "categories, counts = np.unique(datademographic_array[:,2], return_counts=True)"
   ]
  },
  {
   "cell_type": "code",
   "execution_count": null,
   "metadata": {
    "ExecuteTime": {
     "end_time": "2022-10-21T06:33:15.998061Z",
     "start_time": "2022-10-21T06:33:15.875062Z"
    },
    "scrolled": true
   },
   "outputs": [],
   "source": [
    "fig = plt.figure(figsize=(4, 3))\n",
    "axes = fig.add_axes([0, 0, 1, 1]) # left, bottom, width, height (range 0 to 1)\n",
    "axes.bar(categories, counts, fc=\"gray\") # fc is the face color\n",
    "\n",
    "axes.set_xlabel('Gender')\n",
    "axes.set_ylabel('Count')\n",
    "axes.set_title('Number of male and female individuals')\n",
    "\n",
    "axes.set_xticks(categories)\n",
    "axes.set_xticklabels((\"Male\", \"Female\"));  # 0 is male, 1 is female"
   ]
  },
  {
   "cell_type": "markdown",
   "metadata": {
    "slideshow": {
     "slide_type": "slide"
    }
   },
   "source": [
    "### Distribution of age groups"
   ]
  },
  {
   "cell_type": "code",
   "execution_count": null,
   "metadata": {
    "ExecuteTime": {
     "end_time": "2022-10-21T06:33:16.013067Z",
     "start_time": "2022-10-21T06:33:16.003063Z"
    }
   },
   "outputs": [],
   "source": [
    "categories, counts = np.unique(datademographic_array[:,3], return_counts=True)"
   ]
  },
  {
   "cell_type": "code",
   "execution_count": null,
   "metadata": {
    "ExecuteTime": {
     "end_time": "2022-10-21T06:33:16.204066Z",
     "start_time": "2022-10-21T06:33:16.017063Z"
    },
    "scrolled": true
   },
   "outputs": [],
   "source": [
    "fig = plt.figure(figsize=(4, 3))\n",
    "axes = fig.add_axes([0, 0, 1, 1]) # left, bottom, width, height (range 0 to 1)\n",
    "axes.bar(categories, counts, fc=\"gray\") # fc is the face color\n",
    "\n",
    "axes.set_xlabel('Age')\n",
    "axes.set_ylabel('Count')\n",
    "axes.set_title('Age distribution');"
   ]
  },
  {
   "cell_type": "markdown",
   "metadata": {
    "slideshow": {
     "slide_type": "slide"
    }
   },
   "source": [
    "### Distribution of illness"
   ]
  },
  {
   "cell_type": "code",
   "execution_count": null,
   "metadata": {
    "ExecuteTime": {
     "end_time": "2022-10-21T06:33:16.220066Z",
     "start_time": "2022-10-21T06:33:16.206062Z"
    }
   },
   "outputs": [],
   "source": [
    "categories, counts = np.unique(datademographic_array[:,5], return_counts=True)"
   ]
  },
  {
   "cell_type": "code",
   "execution_count": null,
   "metadata": {
    "ExecuteTime": {
     "end_time": "2022-10-21T06:33:16.331063Z",
     "start_time": "2022-10-21T06:33:16.222061Z"
    },
    "scrolled": false
   },
   "outputs": [],
   "source": [
    "fig = plt.figure(figsize=(4, 3))\n",
    "axes = fig.add_axes([0, 0, 1, 1]) # left, bottom, width, height (range 0 to 1)\n",
    "axes.bar(categories, counts, fc=\"gray\") # fc is the face color\n",
    "\n",
    "axes.set_xlabel('Illness')\n",
    "axes.set_ylabel('Count')\n",
    "axes.set_title('Number of healthy and ill individuals')\n",
    "\n",
    "axes.set_xticks(categories)\n",
    "axes.set_xticklabels((\"Healthy\", \"Ill\"));  # 0 is healthy, 1 is ill"
   ]
  },
  {
   "cell_type": "markdown",
   "metadata": {
    "slideshow": {
     "slide_type": "slide"
    }
   },
   "source": [
    "## Alternative graphs for categorical distributions"
   ]
  },
  {
   "cell_type": "markdown",
   "metadata": {},
   "source": [
    "### Pie chart"
   ]
  },
  {
   "cell_type": "code",
   "execution_count": null,
   "metadata": {
    "ExecuteTime": {
     "end_time": "2022-10-21T06:33:16.427068Z",
     "start_time": "2022-10-21T06:33:16.333062Z"
    },
    "scrolled": true
   },
   "outputs": [],
   "source": [
    "fig = plt.figure(figsize=(4, 3))\n",
    "axes = fig.add_axes([0, 0, 1, 1]) # left, bottom, width, height (range 0 to 1)\n",
    "axes.pie(counts, labels=(\"Healthy\", \"Ill\"), autopct=\"%.1f\") \n",
    "# autopct displays percentage values using the given format string\n",
    "# More information about string formatting: \n",
    "# https://docs.python.org/3/library/stdtypes.html#old-string-formatting\n",
    "\n",
    "axes.set_title('Percentage of ill and healthy individuals');"
   ]
  },
  {
   "cell_type": "code",
   "execution_count": null,
   "metadata": {
    "ExecuteTime": {
     "end_time": "2022-10-21T06:33:16.506066Z",
     "start_time": "2022-10-21T06:33:16.430063Z"
    }
   },
   "outputs": [],
   "source": [
    "datademographic.loc[:,\"Illness\"].value_counts(sort=False).plot(kind=\"pie\")"
   ]
  },
  {
   "cell_type": "markdown",
   "metadata": {
    "slideshow": {
     "slide_type": "slide"
    }
   },
   "source": [
    "Be careful using pie charts! Their use is discouraged by many data visualization experts. If you have up to 4 categories they can be fine, but any more than that is absolutely not recommended, like here:"
   ]
  },
  {
   "cell_type": "code",
   "execution_count": null,
   "metadata": {
    "ExecuteTime": {
     "end_time": "2022-10-21T06:33:16.649069Z",
     "start_time": "2022-10-21T06:33:16.508062Z"
    },
    "scrolled": false
   },
   "outputs": [],
   "source": [
    "categories, counts = np.unique(datademographic_array[:,1], return_counts=True)\n",
    "fig = plt.figure(figsize=(4, 3))\n",
    "axes = fig.add_axes([0, 0, 1, 1]) # left, bottom, width, height (range 0 to 1)\n",
    "axes.pie(counts, labels=(categories), autopct=\"%.1f\") \n",
    "# autopct displays percentage values using the given format string\n",
    "\n",
    "axes.set_title('Percentage of individuals in each city');"
   ]
  },
  {
   "cell_type": "markdown",
   "metadata": {
    "slideshow": {
     "slide_type": "slide"
    }
   },
   "source": [
    "## Distributions of cities, but percentages"
   ]
  },
  {
   "cell_type": "markdown",
   "metadata": {},
   "source": [
    "When we switched to pie chart, we switched from counts (or frequencies) to percentage values (or relative values). We can also show percentages in bar plots."
   ]
  },
  {
   "cell_type": "code",
   "execution_count": null,
   "metadata": {
    "ExecuteTime": {
     "end_time": "2022-10-21T06:33:16.665064Z",
     "start_time": "2022-10-21T06:33:16.652062Z"
    },
    "slideshow": {
     "slide_type": "slide"
    }
   },
   "outputs": [],
   "source": [
    "categories, counts = np.unique(datademographic_array[:,1], return_counts=True)"
   ]
  },
  {
   "cell_type": "code",
   "execution_count": null,
   "metadata": {
    "ExecuteTime": {
     "end_time": "2022-10-21T06:33:16.838067Z",
     "start_time": "2022-10-21T06:33:16.667063Z"
    },
    "scrolled": true
   },
   "outputs": [],
   "source": [
    "fig = plt.figure(figsize=(4, 3))\n",
    "axes = fig.add_axes([0, 0, 1, 1]) # left, bottom, width, height (range 0 to 1)\n",
    "axes.bar(categories, 100*counts/sum(counts), fc=\"gray\") # fc is the face color\n",
    "\n",
    "axes.set_xlabel('City')\n",
    "axes.set_ylabel('Percentage')\n",
    "axes.set_title('Percentage of individuals in each city');"
   ]
  },
  {
   "cell_type": "markdown",
   "metadata": {
    "slideshow": {
     "slide_type": "slide"
    }
   },
   "source": [
    "How to do the same thing with Dataframe?"
   ]
  },
  {
   "cell_type": "code",
   "execution_count": null,
   "metadata": {
    "ExecuteTime": {
     "end_time": "2022-10-21T06:33:16.854067Z",
     "start_time": "2022-10-21T06:33:16.840061Z"
    }
   },
   "outputs": [],
   "source": [
    "datademographic.head(2)"
   ]
  },
  {
   "cell_type": "code",
   "execution_count": null,
   "metadata": {
    "ExecuteTime": {
     "end_time": "2022-10-21T06:33:17.012068Z",
     "start_time": "2022-10-21T06:33:16.856062Z"
    }
   },
   "outputs": [],
   "source": [
    "city_counts = datademographic.loc[:,\"City\"].value_counts(sort=0)\n",
    "(city_counts/city_counts.sum()).plot(kind=\"bar\")"
   ]
  },
  {
   "cell_type": "code",
   "execution_count": null,
   "metadata": {},
   "outputs": [],
   "source": []
  },
  {
   "cell_type": "code",
   "execution_count": null,
   "metadata": {},
   "outputs": [],
   "source": []
  },
  {
   "cell_type": "markdown",
   "metadata": {
    "slideshow": {
     "slide_type": "slide"
    }
   },
   "source": [
    "# Exploratory data analysis of quantiative variables"
   ]
  },
  {
   "cell_type": "markdown",
   "metadata": {},
   "source": [
    "We have not yet explored the quantitative variable of income. Do do so, we plot a histogram of the distribution.\n",
    "\n",
    "A **histogram** is a graphical representation of the distribution of numerical data. It is an estimate of the probability distribution of a continuous or discrete variable (quantitative variable). To construct a histogram, the first step is to \"bin\" the range of values—that is, divide the entire range of values into a series of intervals—and then count how many values fall into each interval. The bins are usually specified as consecutive, non-overlapping intervals of a variable. The bins (intervals) must be adjacent, and are often (but are not required to be) of equal size.\n",
    "\n",
    "<img src=\"files/histogram.png\" width=\"600px\"/>\n",
    "\n",
    "**Histograms look like bar charts, but they are not the same.** The horizontal axis on a histogram is continuous, whereas bar charts can have space in between categories."
   ]
  },
  {
   "cell_type": "code",
   "execution_count": null,
   "metadata": {
    "ExecuteTime": {
     "end_time": "2022-10-21T06:33:17.235066Z",
     "start_time": "2022-10-21T06:33:17.014062Z"
    },
    "slideshow": {
     "slide_type": "slide"
    }
   },
   "outputs": [],
   "source": [
    "fig = plt.figure(figsize=(4, 3))\n",
    "axes = fig.add_axes([0, 0, 1, 1]) # left, bottom, width, height (range 0 to 1)\n",
    "axes.hist(datademographic_array[:,4]);\n",
    "\n",
    "axes.set_xlabel('Income')\n",
    "axes.set_ylabel('Counts')\n",
    "axes.set_title('Histogram of incomes');"
   ]
  },
  {
   "cell_type": "markdown",
   "metadata": {},
   "source": [
    "***\n",
    "What is going on?\n",
    "***"
   ]
  },
  {
   "cell_type": "markdown",
   "metadata": {
    "slideshow": {
     "slide_type": "slide"
    }
   },
   "source": [
    "# Descriptive statistics"
   ]
  },
  {
   "cell_type": "markdown",
   "metadata": {},
   "source": [
    "Let us look at minimum, maximum, and mean."
   ]
  },
  {
   "cell_type": "code",
   "execution_count": null,
   "metadata": {
    "ExecuteTime": {
     "end_time": "2022-10-21T06:33:17.251067Z",
     "start_time": "2022-10-21T06:33:17.238062Z"
    }
   },
   "outputs": [],
   "source": [
    "incomemin = datademographic_array[:,4].min()\n",
    "incomemax = datademographic_array[:,4].max()\n",
    "incomemean = round(datademographic_array[:,4].mean())\n",
    "(incomemin, incomemean, incomemax)"
   ]
  },
  {
   "cell_type": "code",
   "execution_count": null,
   "metadata": {
    "ExecuteTime": {
     "end_time": "2022-10-21T06:33:17.267067Z",
     "start_time": "2022-10-21T06:33:17.253063Z"
    }
   },
   "outputs": [],
   "source": [
    "datademographic.loc[:,\"Income\"].describe()"
   ]
  },
  {
   "cell_type": "markdown",
   "metadata": {
    "slideshow": {
     "slide_type": "slide"
    }
   },
   "source": [
    "<img src=\"files/mean01.png\" width=\"600px\"/>"
   ]
  },
  {
   "cell_type": "markdown",
   "metadata": {
    "slideshow": {
     "slide_type": "slide"
    }
   },
   "source": [
    "The mean is not robust to outliers.\n",
    "<img src=\"files/mean02.png\" width=\"600px\"/>\n",
    "Source: https://mathwithbaddrawings.com/2016/07/13/why-not-to-trust-statistics/"
   ]
  },
  {
   "cell_type": "markdown",
   "metadata": {
    "slideshow": {
     "slide_type": "slide"
    }
   },
   "source": [
    "Let us calculate the quartiles. They are more robust to outliers.\n",
    "\n",
    "<img src=\"files/quartiles.png\" width=\"600px\"/>\n",
    "\n",
    "The first, or lower, quartile Q1 splits off the lowest 25% of data from the highest 75%.<br />\n",
    "The second quartile, or median, Q2 cuts the data set in half.<br />\n",
    "The third, or higher, quartile Q3 splits off the highest 25% of data from the lowest 75%."
   ]
  },
  {
   "cell_type": "code",
   "execution_count": null,
   "metadata": {
    "ExecuteTime": {
     "end_time": "2022-10-21T06:33:17.283063Z",
     "start_time": "2022-10-21T06:33:17.270062Z"
    }
   },
   "outputs": [],
   "source": [
    "quartiles = np.percentile(datademographic_array[:,4], [25, 50, 75])\n",
    "quartiles"
   ]
  },
  {
   "cell_type": "code",
   "execution_count": null,
   "metadata": {
    "ExecuteTime": {
     "end_time": "2022-10-21T06:33:17.299062Z",
     "start_time": "2022-10-21T06:33:17.285062Z"
    },
    "slideshow": {
     "slide_type": "slide"
    }
   },
   "outputs": [],
   "source": [
    "fivenumbersummary = [incomemin, quartiles[0], quartiles[1], quartiles[2], incomemax]\n",
    "fivenumbersummary"
   ]
  },
  {
   "cell_type": "markdown",
   "metadata": {},
   "source": [
    "The five number summary (min, Q1, Q2, Q3, max) is visualized with the box plot.\n",
    "\n",
    "<img src=\"files/boxplot.png\" width=\"300px\"/>\n",
    "\n",
    "This is a standardized way of displaying the distribution of data based on the five number summary. In the simplest box plot the central rectangle spans the first quartile to the third quartile (the interquartile range or IQR). In matplotlib, by default, whiskers span 1.5 IQR.\n"
   ]
  },
  {
   "cell_type": "markdown",
   "metadata": {
    "slideshow": {
     "slide_type": "slide"
    }
   },
   "source": [
    "The whisker length in box plots:\n",
    "\n",
    "<img src=\"files/boxlength.png\" width=\"800px\"/>"
   ]
  },
  {
   "cell_type": "code",
   "execution_count": null,
   "metadata": {
    "ExecuteTime": {
     "end_time": "2022-10-21T06:33:17.426067Z",
     "start_time": "2022-10-21T06:33:17.301062Z"
    },
    "scrolled": false,
    "slideshow": {
     "slide_type": "slide"
    }
   },
   "outputs": [],
   "source": [
    "fig = plt.figure(figsize=(4, 3))\n",
    "axes = fig.add_axes([0, 0, 1, 1]) # left, bottom, width, height (range 0 to 1)\n",
    "axes.boxplot(datademographic_array[:,4]);\n",
    "\n",
    "axes.set_ylabel('Income')\n",
    "axes.set_xticklabels('')\n",
    "axes.set_title('Boxplot of incomes');"
   ]
  },
  {
   "cell_type": "markdown",
   "metadata": {},
   "source": [
    "Looks like we have some serious outliers.\n",
    "\n",
    "*Back to presentation* (outliers)"
   ]
  },
  {
   "cell_type": "markdown",
   "metadata": {
    "slideshow": {
     "slide_type": "slide"
    }
   },
   "source": [
    "## Outlier detection and data cleaning "
   ]
  },
  {
   "cell_type": "markdown",
   "metadata": {
    "slideshow": {
     "slide_type": "-"
    }
   },
   "source": [
    "Looks like we have three extreme outliers. Let's investigate and clean the data if needed."
   ]
  },
  {
   "cell_type": "code",
   "execution_count": null,
   "metadata": {
    "ExecuteTime": {
     "end_time": "2022-10-21T06:33:17.442067Z",
     "start_time": "2022-10-21T06:33:17.428062Z"
    }
   },
   "outputs": [],
   "source": [
    "mask = (datademographic_array[:,4] < 10 ** 11) \n",
    "print(np.count_nonzero(mask))\n",
    "print(np.where(mask == False))"
   ]
  },
  {
   "cell_type": "markdown",
   "metadata": {
    "slideshow": {
     "slide_type": "slide"
    }
   },
   "source": [
    "Aha! The bad values are at positions 9,10,11. They are a clear anomaly (global outliers). Let's clean the data and remove them. "
   ]
  },
  {
   "cell_type": "code",
   "execution_count": null,
   "metadata": {
    "ExecuteTime": {
     "end_time": "2022-10-21T06:33:17.458066Z",
     "start_time": "2022-10-21T06:33:17.444062Z"
    },
    "slideshow": {
     "slide_type": "slide"
    }
   },
   "outputs": [],
   "source": [
    "datademographic_cleaned = datademographic_array[mask,:]\n",
    "datademographic_cleaned.shape # double-check"
   ]
  },
  {
   "cell_type": "markdown",
   "metadata": {},
   "source": [
    "We removed those three extreme values. How does the box plot look like now?"
   ]
  },
  {
   "cell_type": "code",
   "execution_count": null,
   "metadata": {
    "ExecuteTime": {
     "end_time": "2022-10-21T06:33:17.599066Z",
     "start_time": "2022-10-21T06:33:17.460062Z"
    },
    "scrolled": true,
    "slideshow": {
     "slide_type": "slide"
    }
   },
   "outputs": [],
   "source": [
    "fig = plt.figure(figsize=(4, 3))\n",
    "axes = fig.add_axes([0, 0, 1, 1]) # left, bottom, width, height (range 0 to 1)\n",
    "axes.boxplot(datademographic_cleaned[:,4]);\n",
    "\n",
    "axes.set_ylabel('Income')\n",
    "axes.set_xticklabels('')\n",
    "axes.set_title('Boxplot of incomes (cleaned data)');"
   ]
  },
  {
   "cell_type": "code",
   "execution_count": null,
   "metadata": {
    "ExecuteTime": {
     "end_time": "2022-10-21T06:33:17.854066Z",
     "start_time": "2022-10-21T06:33:17.601062Z"
    },
    "slideshow": {
     "slide_type": "slide"
    }
   },
   "outputs": [],
   "source": [
    "fig = plt.figure(figsize=(6, 4))\n",
    "axes = fig.add_axes([0, 0, 1, 1]) # left, bottom, width, height (range 0 to 1)\n",
    "axes.hist(datademographic_cleaned[:,4], 100); # The second argument sets the number of bins.\n",
    "\n",
    "axes.set_xlabel('Income')\n",
    "axes.set_ylabel('Counts')\n",
    "axes.set_title('Histogram of incomes (cleaned data)');"
   ]
  },
  {
   "cell_type": "markdown",
   "metadata": {
    "slideshow": {
     "slide_type": "slide"
    }
   },
   "source": [
    "# Exploratory single-variable data analysis with slices"
   ]
  },
  {
   "cell_type": "code",
   "execution_count": null,
   "metadata": {
    "ExecuteTime": {
     "end_time": "2022-10-21T06:33:18.409066Z",
     "start_time": "2022-10-21T06:33:17.856063Z"
    }
   },
   "outputs": [],
   "source": [
    "data = np.loadtxt('files/stockholm_temperatures.dat') "
   ]
  },
  {
   "cell_type": "markdown",
   "metadata": {},
   "source": [
    "The file stockholm_temperatures.dat contains the temperature in Stockholm since 1800 until 2011. The first three columns are respectively year, month and day, and the last column is the temperature."
   ]
  },
  {
   "cell_type": "markdown",
   "metadata": {},
   "source": [
    "***\n",
    "Question: What variable types are these? And what is the first thing we need to do?\n",
    "***"
   ]
  },
  {
   "cell_type": "code",
   "execution_count": null,
   "metadata": {
    "ExecuteTime": {
     "end_time": "2022-10-21T06:33:18.426061Z",
     "start_time": "2022-10-21T06:33:18.412062Z"
    }
   },
   "outputs": [],
   "source": [
    "data"
   ]
  },
  {
   "cell_type": "markdown",
   "metadata": {
    "slideshow": {
     "slide_type": "slide"
    }
   },
   "source": [
    "## Plot the data"
   ]
  },
  {
   "cell_type": "code",
   "execution_count": null,
   "metadata": {
    "ExecuteTime": {
     "end_time": "2022-10-21T06:33:18.679068Z",
     "start_time": "2022-10-21T06:33:18.428061Z"
    },
    "slideshow": {
     "slide_type": "-"
    }
   },
   "outputs": [],
   "source": [
    "fig = plt.figure(figsize=(14, 4))\n",
    "axes = fig.add_axes([0, 0, 1, 1]) # left, bottom, width, height (range 0 to 1)\n",
    "\n",
    "axes.plot(data[:,0]+data[:,1]/12.0+data[:,2]/365, data[:,3])\n",
    "\n",
    "axes.set_title('Temperatures in Stockholm')\n",
    "axes.set_xlabel('Year')\n",
    "axes.set_ylabel('Temperature (C)');"
   ]
  },
  {
   "cell_type": "markdown",
   "metadata": {
    "slideshow": {
     "slide_type": "slide"
    }
   },
   "source": [
    "## Get descriptive statistics"
   ]
  },
  {
   "cell_type": "code",
   "execution_count": null,
   "metadata": {
    "ExecuteTime": {
     "end_time": "2022-10-21T06:33:18.695068Z",
     "start_time": "2022-10-21T06:33:18.681062Z"
    }
   },
   "outputs": [],
   "source": [
    "quartiles = np.percentile(data[:,3], [25, 50, 75])\n",
    "quartiles"
   ]
  },
  {
   "cell_type": "code",
   "execution_count": null,
   "metadata": {
    "ExecuteTime": {
     "end_time": "2022-10-21T06:33:18.710062Z",
     "start_time": "2022-10-21T06:33:18.697062Z"
    },
    "slideshow": {
     "slide_type": "-"
    }
   },
   "outputs": [],
   "source": [
    "fivenumbersummary = [data[:,3].min(), quartiles[0], quartiles[1], quartiles[2], data[:,3].max()]\n",
    "fivenumbersummary, round(data[:,3].mean())"
   ]
  },
  {
   "cell_type": "code",
   "execution_count": null,
   "metadata": {
    "ExecuteTime": {
     "end_time": "2022-10-21T06:33:18.821068Z",
     "start_time": "2022-10-21T06:33:18.712062Z"
    },
    "scrolled": false,
    "slideshow": {
     "slide_type": "slide"
    }
   },
   "outputs": [],
   "source": [
    "fig = plt.figure(figsize=(6, 4))\n",
    "axes = fig.add_axes([0, 0, 1, 1]) # left, bottom, width, height (range 0 to 1)\n",
    "axes.boxplot(data[:,3]);\n",
    "\n",
    "axes.set_title('Temperatures in Stockholm')\n",
    "axes.set_xticklabels('')\n",
    "axes.set_ylabel('Temperature (C)');"
   ]
  },
  {
   "cell_type": "markdown",
   "metadata": {
    "slideshow": {
     "slide_type": "slide"
    }
   },
   "source": [
    "## Plot distribution"
   ]
  },
  {
   "cell_type": "code",
   "execution_count": null,
   "metadata": {
    "ExecuteTime": {
     "end_time": "2022-10-21T06:33:19.073067Z",
     "start_time": "2022-10-21T06:33:18.824062Z"
    }
   },
   "outputs": [],
   "source": [
    "fig = plt.figure(figsize=(6, 4))\n",
    "axes = fig.add_axes([0, 0, 1, 1]) # left, bottom, width, height (range 0 to 1)\n",
    "axes.hist(data[:,3], 50);\n",
    "\n",
    "axes.set_title('Temperatures in Stockholm')\n",
    "#axes.set_ylabel('Frequency')\n",
    "#axes.set_xlabel('Temperature (C)');"
   ]
  },
  {
   "cell_type": "markdown",
   "metadata": {
    "slideshow": {
     "slide_type": "slide"
    }
   },
   "source": [
    "## Computations on subsets of arrays"
   ]
  },
  {
   "cell_type": "markdown",
   "metadata": {},
   "source": [
    "We can compute with subsets of the data in an array using indexing, fancy indexing, and the other methods of extracting data from an array (described above).\n",
    "\n",
    "For example, if we want to calculate the average temperature in 1971 only, we can create a mask in the following way:"
   ]
  },
  {
   "cell_type": "code",
   "execution_count": null,
   "metadata": {
    "ExecuteTime": {
     "end_time": "2022-10-21T06:33:19.089069Z",
     "start_time": "2022-10-21T06:33:19.076062Z"
    }
   },
   "outputs": [],
   "source": [
    "mask = (data[:,0] == 1971)\n",
    "data[mask,3]"
   ]
  },
  {
   "cell_type": "code",
   "execution_count": null,
   "metadata": {
    "ExecuteTime": {
     "end_time": "2022-10-21T06:33:19.105068Z",
     "start_time": "2022-10-21T06:33:19.091062Z"
    },
    "slideshow": {
     "slide_type": "slide"
    }
   },
   "outputs": [],
   "source": [
    "data[mask,3]"
   ]
  },
  {
   "cell_type": "code",
   "execution_count": null,
   "metadata": {
    "ExecuteTime": {
     "end_time": "2022-10-21T06:33:19.120067Z",
     "start_time": "2022-10-21T06:33:19.107062Z"
    },
    "slideshow": {
     "slide_type": "slide"
    }
   },
   "outputs": [],
   "source": [
    "print(\"This is the mean temperature in Stockholm in 1971: \"+str(np.mean(data[mask,3])))"
   ]
  },
  {
   "cell_type": "markdown",
   "metadata": {
    "slideshow": {
     "slide_type": "slide"
    }
   },
   "source": [
    "If we are interested in the average temperature only in a particular month, say February, then we can create a index mask and use it to select only the data for that month using:"
   ]
  },
  {
   "cell_type": "code",
   "execution_count": null,
   "metadata": {
    "ExecuteTime": {
     "end_time": "2022-10-21T06:33:19.136062Z",
     "start_time": "2022-10-21T06:33:19.122062Z"
    },
    "scrolled": true
   },
   "outputs": [],
   "source": [
    "np.unique(data[:,1]) # the month column takes values from 1 to 12"
   ]
  },
  {
   "cell_type": "code",
   "execution_count": null,
   "metadata": {
    "ExecuteTime": {
     "end_time": "2022-10-21T06:33:19.152062Z",
     "start_time": "2022-10-21T06:33:19.138064Z"
    }
   },
   "outputs": [],
   "source": [
    "mask_feb = (data[:,1] == 2)"
   ]
  },
  {
   "cell_type": "code",
   "execution_count": null,
   "metadata": {
    "ExecuteTime": {
     "end_time": "2022-10-21T06:33:19.168108Z",
     "start_time": "2022-10-21T06:33:19.154063Z"
    }
   },
   "outputs": [],
   "source": [
    "# the temperature data is in column 3\n",
    "np.mean(data[mask_feb,3])"
   ]
  },
  {
   "cell_type": "markdown",
   "metadata": {
    "slideshow": {
     "slide_type": "slide"
    }
   },
   "source": [
    "With these tools we have very powerful data processing capabilities at our disposal. For example, to extract the average monthly average temperatures for each month of the year only takes a few lines of code: "
   ]
  },
  {
   "cell_type": "code",
   "execution_count": null,
   "metadata": {
    "ExecuteTime": {
     "end_time": "2022-10-21T06:33:19.295113Z",
     "start_time": "2022-10-21T06:33:19.170109Z"
    },
    "scrolled": true
   },
   "outputs": [],
   "source": [
    "months = np.arange(1,13) # or np.unique(data[:,1])\n",
    "monthly_mean = [np.mean(data[data[:,1] == month, 3]) for month in months]\n",
    "\n",
    "fig, ax = plt.subplots()\n",
    "ax.bar(months, monthly_mean)\n",
    "ax.set_xlabel(\"Month\")\n",
    "ax.set_ylabel(\"Monthly avg. temp.\");"
   ]
  },
  {
   "cell_type": "markdown",
   "metadata": {},
   "source": [
    "**Source**\n",
    "\n",
    "This notebook was adapted from:\n",
    "* [Python Data Science Handbook](http://shop.oreilly.com/product/0636920034919.do) by Jake VanderPlas\n",
    "* Data 8: The Foundations of Data Science\n",
    "* Introduction to data science by Michael Szell"
   ]
  }
 ],
 "metadata": {
  "celltoolbar": "Slideshow",
  "kernelspec": {
   "display_name": "Python 3 (ipykernel)",
   "language": "python",
   "name": "python3"
  },
  "language_info": {
   "codemirror_mode": {
    "name": "ipython",
    "version": 3
   },
   "file_extension": ".py",
   "mimetype": "text/x-python",
   "name": "python",
   "nbconvert_exporter": "python",
   "pygments_lexer": "ipython3",
   "version": "3.9.12"
  },
  "toc": {
   "base_numbering": 1,
   "nav_menu": {},
   "number_sections": true,
   "sideBar": true,
   "skip_h1_title": false,
   "title_cell": "Table of Contents",
   "title_sidebar": "Contents",
   "toc_cell": false,
   "toc_position": {},
   "toc_section_display": true,
   "toc_window_display": false
  }
 },
 "nbformat": 4,
 "nbformat_minor": 1
}
