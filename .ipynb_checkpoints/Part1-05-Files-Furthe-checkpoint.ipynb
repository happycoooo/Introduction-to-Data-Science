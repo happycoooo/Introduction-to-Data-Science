{
 "cells": [
  {
   "cell_type": "markdown",
   "id": "30d6a06f",
   "metadata": {
    "slideshow": {
     "slide_type": "slide"
    }
   },
   "source": [
    "# Modules and Packages"
   ]
  },
  {
   "cell_type": "markdown",
   "id": "e95bef96",
   "metadata": {},
   "source": [
    "One feature of Python that makes it useful for a wide range of tasks is the fact that it comes \"batteries included\" – that is, the **Python standard library** contains useful tools for a wide range of tasks.\n",
    "On top of this, there is a broad ecosystem of **third-party tools and packages** that offer more specialized functionality.\n",
    "\n",
    "Here we'll take a look at importing standard library modules and tools for installing third-party modules."
   ]
  },
  {
   "cell_type": "markdown",
   "id": "92428a33",
   "metadata": {
    "slideshow": {
     "slide_type": "slide"
    }
   },
   "source": [
    "## Loading Modules: the ``import`` Statement\n",
    "\n",
    "For loading built-in and third-party modules, Python provides the ``import`` statement.\n",
    "There are a few ways to use the statement, which we will mention briefly here, from most recommended to least recommended."
   ]
  },
  {
   "cell_type": "markdown",
   "id": "c752d4a0",
   "metadata": {
    "slideshow": {
     "slide_type": "slide"
    }
   },
   "source": [
    "### Explicit module import\n",
    "\n",
    "Explicit import of a module preserves the module's content in a namespace.\n",
    "The namespace is then used to refer to its contents with a \"``.``\" between them.\n",
    "For example, here we'll import the built-in ``math`` module and compute the sine of pi:"
   ]
  },
  {
   "cell_type": "code",
   "execution_count": null,
   "id": "d9bf91ec",
   "metadata": {
    "ExecuteTime": {
     "end_time": "2022-09-25T12:31:42.135076Z",
     "start_time": "2022-09-25T12:31:42.112075Z"
    }
   },
   "outputs": [],
   "source": [
    "import math\n",
    "math.\n",
    "math.cos(math.pi)"
   ]
  },
  {
   "cell_type": "code",
   "execution_count": null,
   "id": "3203062d",
   "metadata": {
    "ExecuteTime": {
     "end_time": "2022-09-25T12:31:42.143076Z",
     "start_time": "2022-09-25T12:31:42.109Z"
    }
   },
   "outputs": [],
   "source": [
    "import random"
   ]
  },
  {
   "cell_type": "code",
   "execution_count": null,
   "id": "a49a782c",
   "metadata": {
    "ExecuteTime": {
     "end_time": "2022-09-25T12:31:42.148074Z",
     "start_time": "2022-09-25T12:31:42.111Z"
    }
   },
   "outputs": [],
   "source": [
    "#random.seed(100)\n",
    "[random.random() for i in range(5)]"
   ]
  },
  {
   "cell_type": "markdown",
   "id": "59d5c4ec",
   "metadata": {
    "slideshow": {
     "slide_type": "slide"
    }
   },
   "source": [
    "### Explicit module import by alias\n",
    "\n",
    "For longer module names, it's not convenient to use the full module name each time you access some element.\n",
    "For this reason, we'll commonly use the \"``import ... as ...``\" pattern to create a shorter alias for the namespace.\n",
    "For example, the NumPy (Numerical Python) package, a popular third-party package useful for data science, is by convention imported under the alias ``np``:"
   ]
  },
  {
   "cell_type": "code",
   "execution_count": null,
   "id": "dae1ed43",
   "metadata": {
    "ExecuteTime": {
     "end_time": "2022-09-25T12:31:42.151075Z",
     "start_time": "2022-09-25T12:31:42.114Z"
    }
   },
   "outputs": [],
   "source": [
    "import numpy as np\n",
    "#pandas pd plt,sy,\n",
    "np.cos(np.pi)"
   ]
  },
  {
   "cell_type": "markdown",
   "id": "c13d0574",
   "metadata": {
    "slideshow": {
     "slide_type": "slide"
    }
   },
   "source": [
    "### Explicit import of module contents\n",
    "\n",
    "Sometimes rather than importing the module namespace, you would just like to import a few particular items from the module.\n",
    "This can be done with the \"``from ... import ...``\" pattern.\n",
    "For example, we can import just the ``cos`` function and the ``pi`` constant from the ``math`` module:"
   ]
  },
  {
   "cell_type": "code",
   "execution_count": null,
   "id": "f99f04d5",
   "metadata": {
    "ExecuteTime": {
     "end_time": "2022-09-25T12:31:42.154074Z",
     "start_time": "2022-09-25T12:31:42.116Z"
    }
   },
   "outputs": [],
   "source": [
    "from math import cos, pi\n",
    "cos(pi)"
   ]
  },
  {
   "cell_type": "markdown",
   "id": "e775a0de",
   "metadata": {
    "slideshow": {
     "slide_type": "slide"
    }
   },
   "source": [
    "### Implicit import of module contents\n",
    "\n",
    "Finally, it is sometimes useful to import the entirety of the module contents into the local namespace.\n",
    "This can be done with the \"``from ... import *``\" pattern:"
   ]
  },
  {
   "cell_type": "code",
   "execution_count": null,
   "id": "0d8a4a70",
   "metadata": {
    "ExecuteTime": {
     "end_time": "2022-09-25T12:31:42.157074Z",
     "start_time": "2022-09-25T12:31:42.118Z"
    }
   },
   "outputs": [],
   "source": [
    "dir()"
   ]
  },
  {
   "cell_type": "code",
   "execution_count": null,
   "id": "445b5826",
   "metadata": {
    "ExecuteTime": {
     "end_time": "2022-09-25T12:31:42.159073Z",
     "start_time": "2022-09-25T12:31:42.120Z"
    }
   },
   "outputs": [],
   "source": [
    "from math import *\n",
    "#sin(pi) ** 2 + cos(pi) ** 2"
   ]
  },
  {
   "cell_type": "code",
   "execution_count": null,
   "id": "7f687c40",
   "metadata": {
    "ExecuteTime": {
     "end_time": "2022-09-25T12:31:42.162074Z",
     "start_time": "2022-09-25T12:31:42.122Z"
    }
   },
   "outputs": [],
   "source": [
    "dir()"
   ]
  },
  {
   "cell_type": "markdown",
   "id": "4160f902",
   "metadata": {
    "slideshow": {
     "slide_type": "slide"
    }
   },
   "source": [
    "The problem is that such imports can sometimes overwrite function names that you do not intend to overwrite, and the implicitness of the statement makes it difficult to determine what has changed.\n",
    "\n",
    "For example, Python has a built-in ``sum`` function that can be used for various operations:"
   ]
  },
  {
   "cell_type": "code",
   "execution_count": null,
   "id": "d34c0de9",
   "metadata": {
    "ExecuteTime": {
     "end_time": "2022-09-25T12:31:42.164074Z",
     "start_time": "2022-09-25T12:31:42.124Z"
    },
    "slideshow": {
     "slide_type": "slide"
    }
   },
   "outputs": [],
   "source": [
    "help(sum)"
   ]
  },
  {
   "cell_type": "markdown",
   "id": "bd2af09f",
   "metadata": {
    "slideshow": {
     "slide_type": "slide"
    }
   },
   "source": [
    "We can use this to compute the sum of a sequence, starting with a certain value (here, we'll start with ``-1``):"
   ]
  },
  {
   "cell_type": "code",
   "execution_count": null,
   "id": "3e7afc1c",
   "metadata": {
    "ExecuteTime": {
     "end_time": "2022-09-25T12:31:42.165075Z",
     "start_time": "2022-09-25T12:31:42.126Z"
    }
   },
   "outputs": [],
   "source": [
    "sum(range(5),-1)"
   ]
  },
  {
   "cell_type": "markdown",
   "id": "f24ffcf0",
   "metadata": {
    "slideshow": {
     "slide_type": "slide"
    }
   },
   "source": [
    "Now observe what happens if we make the *exact same function call* after importing ``*`` from ``numpy``:"
   ]
  },
  {
   "cell_type": "code",
   "execution_count": null,
   "id": "005d5713",
   "metadata": {
    "ExecuteTime": {
     "end_time": "2022-09-25T12:31:42.166075Z",
     "start_time": "2022-09-25T12:31:42.128Z"
    }
   },
   "outputs": [],
   "source": [
    "from numpy import *"
   ]
  },
  {
   "cell_type": "code",
   "execution_count": null,
   "id": "1574e360",
   "metadata": {
    "ExecuteTime": {
     "end_time": "2022-09-25T12:31:42.168074Z",
     "start_time": "2022-09-25T12:31:42.134Z"
    }
   },
   "outputs": [],
   "source": [
    "sum(range(5), -1)\n",
    "help(sum)"
   ]
  },
  {
   "cell_type": "markdown",
   "id": "4e17ff7a",
   "metadata": {
    "slideshow": {
     "slide_type": "slide"
    }
   },
   "source": [
    "The result is off by one!\n",
    "The reason for this is that the ``import *`` statement *replaces* the built-in ``sum`` function with the ``numpy.sum`` function, which has a different call signature: in the former, we're summing ``range(5)`` starting at ``-1``; in the latter, we're summing ``range(5)`` along the last axis (indicated by ``-1``).\n",
    "This is the type of situation that may arise if care is not taken when using \"``import *``\" – for this reason, it is best to avoid this unless you know exactly what you are doing."
   ]
  },
  {
   "cell_type": "markdown",
   "id": "c663eff5",
   "metadata": {
    "slideshow": {
     "slide_type": "slide"
    }
   },
   "source": [
    "## Importing from Python's Standard Library\n",
    "\n",
    "Python's standard library contains many useful built-in modules, which you can read about fully in [Python's documentation](https://docs.python.org/3/library/).\n",
    "Any of these can be imported with the ``import`` statement, and then explored using the help function seen in the previous section.\n",
    "Here is an extremely incomplete list of some of the modules you might wish to explore and learn about:\n",
    "\n",
    "- ``os`` and ``sys``: Tools for interfacing with the operating system, including navigating file directory structures and executing shell commands\n",
    "- ``math`` and ``cmath``: Mathematical functions and operations on real and complex numbers\n",
    "- ``itertools``: Tools for constructing and interacting with iterators and generators\n",
    "- ``functools``: Tools that assist with functional programming\n",
    "- ``random``: Tools for generating pseudorandom numbers\n",
    "- ``pickle``: Tools for object persistence: saving objects to and loading objects from disk\n",
    "- ``json`` and ``csv``: Tools for reading JSON-formatted and CSV-formatted files.\n",
    "- ``urllib``: Tools for doing HTTP and other web requests.\n",
    "\n",
    "You can find information on these, and many more, in the Python standard library documentation: https://docs.python.org/3/library/."
   ]
  },
  {
   "cell_type": "markdown",
   "id": "1804d499",
   "metadata": {
    "slideshow": {
     "slide_type": "slide"
    }
   },
   "source": [
    "## Importing from Third-Party Modules\n",
    "\n",
    "One of the things that makes Python useful, especially within the world of data science, is its ecosystem of third-party modules.\n",
    "These can be imported just as the built-in modules, but first the modules must be installed on your system.\n",
    "The standard registry for such modules is the Python Package Index (*PyPI* for short), found on the Web at http://pypi.python.org/.\n",
    "For convenience, Python comes with a program called ``pip`` (a recursive acronym meaning \"pip installs packages\"), which will automatically fetch packages released and listed on PyPI (if you use Python version 2, ``pip`` must be installed separately).\n",
    "For example, if you'd like to install the ``supersmoother`` package, all that is required is to type the following at the command line:\n",
    "```\n",
    "$ pip install supersmoother\n",
    "```\n",
    "The source code for the package will be automatically downloaded from the PyPI repository, and the package installed in the standard Python path (assuming you have permission to do so on the computer you're using).\n",
    "\n",
    "For more information about PyPI and the ``pip`` installer, refer to the documentation at http://pypi.python.org/.\n",
    "\n",
    "### Anaconda Python\n",
    "\n",
    "For Anaconda python, another package manager is available called [conda](http://conda.pydata.org/docs/intro.html). When working with Anaconda Python, it is generally better to try installing first with ``conda`` and then falling back to `pip` if needed."
   ]
  },
  {
   "cell_type": "markdown",
   "id": "2f56e894",
   "metadata": {
    "slideshow": {
     "slide_type": "slide"
    }
   },
   "source": [
    "## import your module"
   ]
  },
  {
   "cell_type": "code",
   "execution_count": null,
   "id": "9c9834e9",
   "metadata": {
    "ExecuteTime": {
     "end_time": "2022-09-25T12:31:42.169079Z",
     "start_time": "2022-09-25T12:31:42.137Z"
    }
   },
   "outputs": [],
   "source": [
    "import my_module"
   ]
  },
  {
   "cell_type": "code",
   "execution_count": null,
   "id": "62be4de5",
   "metadata": {
    "ExecuteTime": {
     "end_time": "2022-09-25T12:31:42.592123Z",
     "start_time": "2022-09-25T12:31:42.294072Z"
    }
   },
   "outputs": [],
   "source": [
    "my_module.fibonacci(10)"
   ]
  },
  {
   "cell_type": "markdown",
   "id": "24b64da9",
   "metadata": {
    "slideshow": {
     "slide_type": "slide"
    }
   },
   "source": [
    "# Working with Files and Folders\n",
    "\n"
   ]
  },
  {
   "cell_type": "markdown",
   "id": "00d292d7",
   "metadata": {
    "slideshow": {
     "slide_type": "slide"
    }
   },
   "source": [
    "## Reading files"
   ]
  },
  {
   "cell_type": "markdown",
   "id": "4db2a689",
   "metadata": {
    "slideshow": {
     "slide_type": "slide"
    }
   },
   "source": [
    "Python provides functionality for accessing files and folders (directories). The `open` function is a builtin Python function that can be used to read and write files.\n",
    "```Python\n",
    "fin = open(\"f.txt\")\n",
    "```\n",
    "\n",
    "Here we have opened the text file `f.txt` for reading (the default open \"mode\", equivalent to calling `open(\"f.txt\", 'r')`). This creates an object (or \"handle\") `fin` that provides access to the file. For example,\n",
    "```Python\n",
    "fin.read()\n",
    "```\n",
    "or\n",
    "```Python\n",
    "fin.readline()\n",
    "```\n",
    "or\n",
    "```Python\n",
    "fin.readlines()\n",
    "```\n",
    "allow us different ways to read the contents of the file:\n",
    "\n",
    "* `read` reads the file into a single string\n",
    "* `readline` reads from the current position in the file until the first newline is encountered\n",
    "* `readlines` reads the file into a list of strings, one list element for each line.\n",
    "\n",
    "File handles keep track of their current position in the file, so for example if you call `fin.readline()` and then call it again, the second call will begin reading where the previous call stopped. This is handy for incrementally reading files.\n",
    "\n",
    "File handles work well with loops:\n",
    "```Python\n",
    "for line in open(\"f.txt\"):\n",
    "    print(line.strip())\n",
    "```\n",
    "Here the for loop automatically retrieves each line of the text file and assigns it to the looping variable `line`. The `line.strip()` call removes the trailing newline character that is kept with each `line`."
   ]
  },
  {
   "cell_type": "code",
   "execution_count": null,
   "id": "be304303",
   "metadata": {
    "ExecuteTime": {
     "end_time": "2022-09-25T12:31:42.595122Z",
     "start_time": "2022-09-25T12:31:42.141Z"
    }
   },
   "outputs": [],
   "source": [
    "# open a file \"test_text.txt\"\n",
    "fin = open(\"./test_text.txt\")"
   ]
  },
  {
   "cell_type": "code",
   "execution_count": null,
   "id": "f1eeaf4c",
   "metadata": {
    "ExecuteTime": {
     "end_time": "2022-09-25T12:31:42.596124Z",
     "start_time": "2022-09-25T12:31:42.143Z"
    }
   },
   "outputs": [],
   "source": [
    "fin.read()"
   ]
  },
  {
   "cell_type": "code",
   "execution_count": null,
   "id": "9ab58a6f",
   "metadata": {
    "ExecuteTime": {
     "end_time": "2022-09-25T12:31:42.597123Z",
     "start_time": "2022-09-25T12:31:42.145Z"
    }
   },
   "outputs": [],
   "source": [
    "fin.close()"
   ]
  },
  {
   "cell_type": "code",
   "execution_count": null,
   "id": "f5bf31cd",
   "metadata": {
    "ExecuteTime": {
     "end_time": "2022-09-25T12:31:42.599124Z",
     "start_time": "2022-09-25T12:31:42.146Z"
    }
   },
   "outputs": [],
   "source": [
    "with open(\"./test_text.txt\") as fin:\n",
    "    content = fin.read()\n",
    "\n",
    "content"
   ]
  },
  {
   "cell_type": "code",
   "execution_count": null,
   "id": "6cc142f0",
   "metadata": {},
   "outputs": [],
   "source": []
  },
  {
   "cell_type": "code",
   "execution_count": null,
   "id": "798e7686",
   "metadata": {
    "ExecuteTime": {
     "end_time": "2022-09-25T12:31:42.600133Z",
     "start_time": "2022-09-25T12:31:42.148Z"
    }
   },
   "outputs": [],
   "source": [
    "open()"
   ]
  },
  {
   "cell_type": "markdown",
   "id": "e07097bd",
   "metadata": {
    "slideshow": {
     "slide_type": "slide"
    }
   },
   "source": [
    "## Writing files"
   ]
  },
  {
   "cell_type": "markdown",
   "id": "9fe8aa93",
   "metadata": {},
   "source": [
    "The `open` function can also be used to write contents to a file. Here you need to make sure to open the file in \"writing mode\"\n",
    "\n",
    "```Python\n",
    "fout = open(\"g.txt\", 'w')\n",
    "fout.write(\"Saving data...\\n\")\n",
    "```\n",
    "Note that using `.write` requires dealing with newlines.\n",
    "\n",
    "The builtin `print` function interacts nicely with file handles:\n",
    "```Python\n",
    "print(\"Hello!\", file=fout)\n",
    "```\n",
    "and by default it will even add the newlines for you!\n",
    "\n",
    "It is important when you are done writing to a file to **close** it:\n",
    "```Python\n",
    "fout.close()\n",
    "```\n",
    "\n",
    "File handles can also be opened in \"append\" mode (`a`) and in binary read/write modes (`rb`, `wb`). These are less common than read mode (`r`) and write mode (`w`)."
   ]
  },
  {
   "cell_type": "markdown",
   "id": "9782f801",
   "metadata": {
    "slideshow": {
     "slide_type": "slide"
    }
   },
   "source": [
    "## File names, paths, and working directories\n",
    "\n",
    "A file **path** is used to represent the name and location of a file. For example, a file named `f.txt` stored in Alice Smith's Documents folder on a Mac may have the following path:\n",
    "```\n",
    "/Users/alicesmith/Documents/f.txt\n",
    "```\n",
    "\n",
    "Here the folder `Documents` is inside the `alicesmith` folder which is inside the `Users` folder. The forward slash character (`/`) is used as a **delimiter** to separate the elements of the path. Some operating systems use different symbols for this purpose, and Python provides an `os` and `os.path` module to handle this automatically."
   ]
  },
  {
   "cell_type": "code",
   "execution_count": null,
   "id": "ce3dfcd3",
   "metadata": {
    "ExecuteTime": {
     "end_time": "2022-09-25T12:31:42.601262Z",
     "start_time": "2022-09-25T12:31:42.151Z"
    }
   },
   "outputs": [],
   "source": [
    "import os\n",
    "os.getcwd()"
   ]
  },
  {
   "cell_type": "code",
   "execution_count": null,
   "id": "22a428f4",
   "metadata": {},
   "outputs": [],
   "source": []
  },
  {
   "cell_type": "markdown",
   "id": "74d2baee",
   "metadata": {
    "slideshow": {
     "slide_type": "slide"
    }
   },
   "source": [
    "### Working directories\n",
    "\n",
    "When Python is running it has a default directory for file operations. This is known as the **working directory** or **current working directory**. For example, when opening a file just using the filename, Python assumes the file is in the current working directory.\n",
    "\n",
    "The `os` module provides a function for printing the full path of the current working directory (cwd):\n",
    "```Python\n",
    ">>> import os\n",
    ">>> cwd = os.getcwd()\n",
    ">>> print(cwd)\n",
    "/Users/alicesmith\n",
    "```\n",
    "This example shows the current working directory is Alice's home folder.\n",
    "\n",
    "A **relative path** is a file path that starts from the current working directory, whereas an **absolute path** starts from the top of the file system. For example, the path `statistics/f.txt` assumes there is a folder inside the current working directory called `statistics` that contains the file `f.txt`.\n",
    "\n",
    "The `os.path` modules allows you to convert from relative to absolute paths:\n",
    "```Python\n",
    ">>> os.path.abspath(\"statistics/f.txt\")\n",
    "'/Users/alicesmith/statistics/f.txt'\n",
    "```\n",
    "\n",
    "Changing the working directory is a common action and is often needed to make code that is portable across different computers. By keeping file paths relative to a working directory, machine-specific information (such as the name of user's home folder) is not needed."
   ]
  },
  {
   "cell_type": "markdown",
   "id": "18bdf856",
   "metadata": {
    "slideshow": {
     "slide_type": "slide"
    }
   },
   "source": [
    "# A Preview of Data Science Tools\n",
    "\n",
    "If you would like to spring from here and go farther in using Python for scientific computing or data science, there are a few packages that will make your life much easier.\n",
    "This section will introduce and preview several of the more important ones, and give you an idea of the types of applications they are designed for.\n",
    "If you're using the *Anaconda* or *Miniconda* environment suggested at the beginning of this report, you can install the relevant packages with the following command:\n",
    "```\n",
    "$ conda install numpy scipy pandas matplotlib scikit-learn\n",
    "```\n",
    "Let's take a brief look at each of these in turn."
   ]
  },
  {
   "cell_type": "markdown",
   "id": "5f02b5e7",
   "metadata": {
    "slideshow": {
     "slide_type": "slide"
    }
   },
   "source": [
    "## NumPy: Numerical Python\n",
    "\n",
    "NumPy provides an efficient way to store and manipulate multi-dimensional dense arrays in Python.\n",
    "The important features of NumPy are:\n",
    "\n",
    "- It provides an ``ndarray`` structure, which allows efficient storage and manipulation of vectors, matrices, and higher-dimensional datasets.\n",
    "- It provides a readable and efficient syntax for operating on this data, from simple element-wise arithmetic to more complicated linear algebraic operations.\n",
    "\n",
    "In the simplest case, NumPy arrays look a lot like Python lists.\n",
    "For example, here is an array containing the range of numbers 1 to 9 (compare this with Python's built-in ``range()``):"
   ]
  },
  {
   "cell_type": "code",
   "execution_count": null,
   "id": "459bdf6d",
   "metadata": {
    "ExecuteTime": {
     "end_time": "2022-09-25T12:31:42.602157Z",
     "start_time": "2022-09-25T12:31:42.154Z"
    },
    "slideshow": {
     "slide_type": "slide"
    }
   },
   "outputs": [],
   "source": [
    "import numpy as np\n",
    "x = np.arange(1, 100000)\n",
    "x**2"
   ]
  },
  {
   "cell_type": "markdown",
   "id": "f627d035",
   "metadata": {
    "slideshow": {
     "slide_type": "slide"
    }
   },
   "source": [
    "NumPy's arrays offer both efficient storage of data, as well as efficient element-wise operations on the data.\n",
    "For example, to square each element of the array, we can apply the \"``**``\" operator to the array directly:"
   ]
  },
  {
   "cell_type": "code",
   "execution_count": null,
   "id": "1a9dcca2",
   "metadata": {
    "ExecuteTime": {
     "end_time": "2022-09-25T12:31:42.603154Z",
     "start_time": "2022-09-25T12:31:42.156Z"
    }
   },
   "outputs": [],
   "source": [
    "x ** 2"
   ]
  },
  {
   "cell_type": "markdown",
   "id": "00d591c4",
   "metadata": {
    "slideshow": {
     "slide_type": "slide"
    }
   },
   "source": [
    "Compare this with the much more verbose Python-style list comprehension for the same result:"
   ]
  },
  {
   "cell_type": "code",
   "execution_count": null,
   "id": "f8a42712",
   "metadata": {
    "ExecuteTime": {
     "end_time": "2022-09-25T12:31:42.605154Z",
     "start_time": "2022-09-25T12:31:42.158Z"
    }
   },
   "outputs": [],
   "source": [
    "x = [val ** 2 for val in range(1, 100000)]"
   ]
  },
  {
   "cell_type": "markdown",
   "id": "225e1893",
   "metadata": {
    "slideshow": {
     "slide_type": "slide"
    }
   },
   "source": [
    "Unlike Python lists (which are limited to one dimension), NumPy arrays can be multi-dimensional.\n",
    "For example, here we will reshape our ``x`` array into a 3x3 array:"
   ]
  },
  {
   "cell_type": "code",
   "execution_count": null,
   "id": "343169bf",
   "metadata": {
    "ExecuteTime": {
     "end_time": "2022-09-25T12:31:42.606154Z",
     "start_time": "2022-09-25T12:31:42.160Z"
    }
   },
   "outputs": [],
   "source": [
    "M = x.reshape((3, 3))\n",
    "M"
   ]
  },
  {
   "cell_type": "markdown",
   "id": "6b44d5d6",
   "metadata": {
    "slideshow": {
     "slide_type": "slide"
    }
   },
   "source": [
    "NumPy arrays have a `shape` attribute that is helpful to check the size of the array:"
   ]
  },
  {
   "cell_type": "code",
   "execution_count": null,
   "id": "22a082b1",
   "metadata": {
    "ExecuteTime": {
     "end_time": "2022-09-25T12:31:42.607154Z",
     "start_time": "2022-09-25T12:31:42.162Z"
    }
   },
   "outputs": [],
   "source": [
    "print(x.shape)\n",
    "print(M.shape)"
   ]
  },
  {
   "cell_type": "markdown",
   "id": "664f4192",
   "metadata": {
    "slideshow": {
     "slide_type": "slide"
    }
   },
   "source": [
    "Here `x` is a 1-dimensional array of length 9, indicated by the shape tuple containing a single element (the trailing comma is used to distinguish a tuple of one element from a number inside parentheses), whereas `M` is a 2-dimensional array that has three rows and three columns.\n",
    "\n",
    "* Note: If you are used to dealing with row- and column-vectors, please be aware that NumPy's array representation is somewhat different. A typical $N$-dimensional row vector, like you may encounter in a linear algebra course, would have shape `(1,N)` and likewise an $N$-dimensional column vector would have shape `(N,1)`. Yet a numpy array of shape `(N,)` behaves somewhat differently than an array of shape `(N,1)`."
   ]
  },
  {
   "cell_type": "markdown",
   "id": "21361cc5",
   "metadata": {
    "slideshow": {
     "slide_type": "slide"
    }
   },
   "source": [
    "A two-dimensional array is one representation of a matrix, and NumPy knows how to efficiently do typical matrix operations. For example, you can compute the transpose using ``.T``:"
   ]
  },
  {
   "cell_type": "code",
   "execution_count": null,
   "id": "5d9e21b9",
   "metadata": {
    "ExecuteTime": {
     "end_time": "2022-09-25T12:31:42.608156Z",
     "start_time": "2022-09-25T12:31:42.164Z"
    }
   },
   "outputs": [],
   "source": [
    "M.T"
   ]
  },
  {
   "cell_type": "markdown",
   "id": "0d6a37e7",
   "metadata": {
    "slideshow": {
     "slide_type": "slide"
    }
   },
   "source": [
    "or a matrix-vector product using ``np.dot``:"
   ]
  },
  {
   "cell_type": "code",
   "execution_count": null,
   "id": "025679fe",
   "metadata": {
    "ExecuteTime": {
     "end_time": "2022-09-25T12:31:42.609156Z",
     "start_time": "2022-09-25T12:31:42.166Z"
    }
   },
   "outputs": [],
   "source": [
    "np.dot(M, [5, 6, 7])"
   ]
  },
  {
   "cell_type": "markdown",
   "id": "5448881e",
   "metadata": {
    "slideshow": {
     "slide_type": "slide"
    }
   },
   "source": [
    "and even more sophisticated operations like eigenvalue decomposition:"
   ]
  },
  {
   "cell_type": "code",
   "execution_count": null,
   "id": "7ab4694a",
   "metadata": {
    "ExecuteTime": {
     "end_time": "2022-09-25T12:31:42.611156Z",
     "start_time": "2022-09-25T12:31:42.169Z"
    }
   },
   "outputs": [],
   "source": [
    "np.linalg.eigvals(M)"
   ]
  },
  {
   "cell_type": "markdown",
   "id": "bf935156",
   "metadata": {
    "slideshow": {
     "slide_type": "slide"
    }
   },
   "source": [
    "Such linear algebraic manipulation underpins much of modern data analysis, particularly when it comes to the fields of machine learning and data mining.\n"
   ]
  },
  {
   "cell_type": "markdown",
   "id": "4205a5a1",
   "metadata": {
    "slideshow": {
     "slide_type": "slide"
    }
   },
   "source": [
    "## Pandas: Labeled Column-oriented Data\n",
    "\n",
    "Pandas provides is a labeled interface to multi-dimensional data, in the form of a **DataFrame** object that will feel very familiar to users of R and related languages.\n",
    "\n",
    "DataFrames in Pandas look something like this:"
   ]
  },
  {
   "cell_type": "code",
   "execution_count": null,
   "id": "6cfc94ba",
   "metadata": {
    "ExecuteTime": {
     "end_time": "2022-09-25T12:31:42.612155Z",
     "start_time": "2022-09-25T12:31:42.171Z"
    },
    "slideshow": {
     "slide_type": "slide"
    }
   },
   "outputs": [],
   "source": [
    "import pandas as pd\n",
    "df = pd.DataFrame({'label': ['A', 'B', 'C', 'A', 'B', 'C'],\n",
    "                   'value': [1, 2, 3, 4, 5, 6]})\n",
    "df"
   ]
  },
  {
   "cell_type": "markdown",
   "id": "18afe559",
   "metadata": {
    "slideshow": {
     "slide_type": "slide"
    }
   },
   "source": [
    "The Pandas interface allows you to do things like select columns by name:"
   ]
  },
  {
   "cell_type": "code",
   "execution_count": null,
   "id": "30cdce90",
   "metadata": {
    "ExecuteTime": {
     "end_time": "2022-09-25T12:31:42.613155Z",
     "start_time": "2022-09-25T12:31:42.174Z"
    }
   },
   "outputs": [],
   "source": [
    "df['label']"
   ]
  },
  {
   "cell_type": "markdown",
   "id": "ec08145b",
   "metadata": {
    "slideshow": {
     "slide_type": "slide"
    }
   },
   "source": [
    "Apply string operations across string entries:"
   ]
  },
  {
   "cell_type": "code",
   "execution_count": null,
   "id": "6e3524d9",
   "metadata": {
    "ExecuteTime": {
     "end_time": "2022-09-25T12:31:42.614157Z",
     "start_time": "2022-09-25T12:31:42.182Z"
    }
   },
   "outputs": [],
   "source": [
    "df['label'].str.lower()"
   ]
  },
  {
   "cell_type": "markdown",
   "id": "685017a1",
   "metadata": {
    "slideshow": {
     "slide_type": "slide"
    }
   },
   "source": [
    "Apply aggregates across numerical entries:"
   ]
  },
  {
   "cell_type": "code",
   "execution_count": null,
   "id": "ad81fbe9",
   "metadata": {
    "ExecuteTime": {
     "end_time": "2022-09-25T12:31:42.615154Z",
     "start_time": "2022-09-25T12:31:42.184Z"
    }
   },
   "outputs": [],
   "source": [
    "df['value'].sum()"
   ]
  },
  {
   "cell_type": "markdown",
   "id": "f1f940e6",
   "metadata": {
    "slideshow": {
     "slide_type": "slide"
    }
   },
   "source": [
    "And, perhaps most importantly, do efficient database-style joins and groupings:"
   ]
  },
  {
   "cell_type": "code",
   "execution_count": null,
   "id": "bd1fbb5a",
   "metadata": {
    "ExecuteTime": {
     "end_time": "2022-09-25T12:31:42.617154Z",
     "start_time": "2022-09-25T12:31:42.187Z"
    },
    "slideshow": {
     "slide_type": "-"
    }
   },
   "outputs": [],
   "source": [
    "df.groupby('label').sum()"
   ]
  },
  {
   "cell_type": "markdown",
   "id": "afb87ef3",
   "metadata": {},
   "source": [
    "Here in one line we have computed the sum of all objects sharing the same label, something that is much more verbose (and much less efficient) using tools provided in Numpy and core Python.\n"
   ]
  },
  {
   "cell_type": "markdown",
   "id": "3ce2a994",
   "metadata": {
    "slideshow": {
     "slide_type": "slide"
    }
   },
   "source": [
    "## Matplotlib: MATLAB-style scientific visualization\n",
    "\n",
    "Matplotlib is currently the most popular scientific visualization packages in Python.\n",
    "Even proponents admit that its interface is sometimes overly verbose, but it is a powerful library for creating a large range of plots.\n",
    "\n",
    "To use Matplotlib, we can start by enabling the notebook mode (for use in the Jupyter notebook) and then importing the package as ``plt``\""
   ]
  },
  {
   "cell_type": "code",
   "execution_count": null,
   "id": "7a3760e7",
   "metadata": {
    "ExecuteTime": {
     "end_time": "2022-09-25T12:31:42.618155Z",
     "start_time": "2022-09-25T12:31:42.189Z"
    }
   },
   "outputs": [],
   "source": [
    "# run this only if using a Jupyter notebook\n",
    "import matplotlib.pyplot as plt\n",
    "%matplotlib inline"
   ]
  },
  {
   "cell_type": "code",
   "execution_count": null,
   "id": "99ced0f6",
   "metadata": {
    "ExecuteTime": {
     "end_time": "2022-09-25T12:31:42.619156Z",
     "start_time": "2022-09-25T12:31:42.191Z"
    },
    "slideshow": {
     "slide_type": "slide"
    }
   },
   "outputs": [],
   "source": [
    "import matplotlib.pyplot as plt"
   ]
  },
  {
   "cell_type": "markdown",
   "id": "10dcf55b",
   "metadata": {
    "slideshow": {
     "slide_type": "slide"
    }
   },
   "source": [
    "Now let's create some data (as NumPy arrays, of course) and plot the results:"
   ]
  },
  {
   "cell_type": "code",
   "execution_count": null,
   "id": "d9a29bd2",
   "metadata": {
    "ExecuteTime": {
     "end_time": "2022-09-25T12:31:42.620156Z",
     "start_time": "2022-09-25T12:31:42.193Z"
    },
    "slideshow": {
     "slide_type": "slide"
    }
   },
   "outputs": [],
   "source": [
    "x = np.linspace(0, 10)  # range of values from 0 to 10\n",
    "y = np.sin(x)           # sine of these values\n",
    "plt.plot(x, y);         # plot as a line\n",
    "plt.xlabel(\"X variable\")\n",
    "plt.ylabel(\"Y variable\");"
   ]
  },
  {
   "cell_type": "markdown",
   "id": "2d33d563",
   "metadata": {
    "slideshow": {
     "slide_type": "slide"
    }
   },
   "source": [
    "If you run this code live, you will see an **interactive plot** that lets you pan, zoom, and scroll to explore the data.\n",
    "\n",
    "This is the simplest example of a Matplotlib plot; for ideas on the wide range of plot types available, see [Matplotlib's online gallery](http://matplotlib.org/gallery.html)."
   ]
  },
  {
   "cell_type": "markdown",
   "id": "c31becad",
   "metadata": {
    "slideshow": {
     "slide_type": "slide"
    }
   },
   "source": [
    "## SciPy: Scientific Python\n",
    "\n",
    "SciPy is a collection of scientific functionality that is built on top of NumPy.\n",
    "The package began as a set of Python wrappers to well-known Fortran libraries for numerical computing, and has grown from there.\n",
    "The package is arranged as a set of submodules, each implementing some class of numerical algorithms.\n",
    "Here is an incomplete sample of some of the more important ones for data science:\n",
    "\n",
    "- ``scipy.fftpack``: Fast Fourier transforms\n",
    "- ``scipy.integrate``: Numerical integration\n",
    "- ``scipy.interpolate``: Numerical interpolation\n",
    "- ``scipy.linalg``: Linear algebra routines\n",
    "- ``scipy.optimize``: Numerical optimization of functions\n",
    "- ``scipy.sparse``: Sparse matrix storage and linear algebra\n",
    "- ``scipy.stats``: Statistical analysis routines\n",
    "\n",
    "For example, let's take a look at interpolating a smooth curve between some data"
   ]
  },
  {
   "cell_type": "code",
   "execution_count": null,
   "id": "cc853ca1",
   "metadata": {
    "ExecuteTime": {
     "end_time": "2022-09-25T12:31:42.621155Z",
     "start_time": "2022-09-25T12:31:42.195Z"
    },
    "slideshow": {
     "slide_type": "slide"
    }
   },
   "outputs": [],
   "source": [
    "from scipy import interpolate\n",
    "\n",
    "# choose eight points between 0 and 10\n",
    "x = np.linspace(0, 10, 8)\n",
    "y = np.sin(x)\n",
    "\n",
    "# create a cubic interpolation function\n",
    "func = interpolate.interp1d(x, y, kind='cubic')\n",
    "\n",
    "# interpolate on a grid of 1,000 points\n",
    "x_interp = np.linspace(0, 10, 1000)\n",
    "y_interp = func(x_interp)\n",
    "\n",
    "# plot the results\n",
    "plt.figure()  # new figure\n",
    "plt.plot(x, y, 'o')\n",
    "plt.plot(x_interp, y_interp)\n",
    "plt.xlabel(\"X\")\n",
    "plt.ylabel(\"Y\");"
   ]
  },
  {
   "cell_type": "markdown",
   "id": "fb55ae87",
   "metadata": {},
   "source": [
    "What we see is a smooth interpolation between the points."
   ]
  },
  {
   "cell_type": "markdown",
   "id": "0d895812",
   "metadata": {
    "slideshow": {
     "slide_type": "slide"
    }
   },
   "source": [
    "## Other Data Science Packages\n",
    "\n",
    "Built on top of these tools are a host of other data science packages, including general tools like [Scikit-Learn](http://scikit-learn.org) for machine learning, [Scikit-Image](http://scikit-image.org) for image analysis, and [Statsmodels](http://statsmodels.sourceforge.net/) for statistical modeling, as well as more domain-specific packages like [AstroPy](http://astropy.org) for astronomy and astrophysics, [NiPy](http://nipy.org/) for neuro-imaging, and many, many more.\n",
    "\n",
    "No matter what type of scientific, numerical, or statistical problem you are facing, it's likely there is a Python package out there that can help you solve it."
   ]
  },
  {
   "cell_type": "markdown",
   "id": "f424f6f7",
   "metadata": {
    "slideshow": {
     "slide_type": "slide"
    }
   },
   "source": [
    "# Resources for Further Learning\n",
    "\n",
    "This concludes our whirlwind tour of the Python language.\n",
    "My hope is that if you read this far, you have an idea of the essential syntax, semantics, operations, and functionality offered by the Python language, as well as some idea of the range of tools and code constructs that you can explore further.\n",
    "\n",
    "I have tried to cover the pieces and patterns in the Python language that will be most useful to a data scientist using Python, but this has by no means been a complete introduction.\n",
    "If you'd like to go deeper in understanding the Python language itself and how to use it effectively, here are a handful of resources I'd recommend:\n",
    "\n",
    "- [*Fluent Python*](http://shop.oreilly.com/product/0636920032519.do) by Luciano Ramalho. This is an excellent OReilly book that explores best practices and idioms for Python, including getting the most out of the standard library.\n",
    "- [*Dive Into Python*](http://www.diveintopython.net/) by Mark Pilgrim. This is a free online book that provides a ground-up introduction to the Python language.\n",
    "- [*Learn Python the Hard Way*](http://learnpythonthehardway.org/) by Zed Shaw. This book follows a \"learn by trying\" approach, and deliberately emphasizes developing what may be the most useful skill a programmer can learn: Googling things you don't understand.\n",
    "- [*Python Essential Reference*](http://www.dabeaz.com/per.html) by David Beazley. This 700-page monster is well-written, and covers virtually everything there is to know about the Python language and its built-in libraries. For a more application-focused Python walk-through, see Beazley's [*Python Cookbook*](http://shop.oreilly.com/product/0636920027072.do).\n",
    "\n",
    "To dig more into Python tools for data science and scientific computing:\n",
    "\n",
    "- [*The Python Data Science Handbook*](http://shop.oreilly.com/product/0636920034919.do) by Jake VanderPlas. This book starts precisely where this mini-text leaves off, and provides a comprehensive guide to the essential tools in Python's data science stack, from data munging and manipulation to machine learning.\n",
    "- [*Effective Computation in Physics*](http://shop.oreilly.com/product/0636920033424.do) by Kathryn D. Huff and Anthony Scopatz, is applicable to people far beyond the world of Physics research. It is a step-by-step, ground-up introduction to scientific computing, including an excellent introduction to many of the tools mentioned in this report.\n",
    "- [*Python for Data Analysis*](http://shop.oreilly.com/product/0636920023784.do) by Wes McKinney, creator of the Pandas package. This book covers the Pandas library in detail, as well as giving useful information on some of the other tools that enable it.\n",
    "\n",
    "Finally, for an even broader look at what's out there:\n",
    "\n",
    "- [*OReilly Python Resources*](http://shop.oreilly.com/category/browse-subjects/programming/python.do) O'Reilly features a number of excellent books on Python itself and specialized topics in the Python world.\n",
    "- *PyCon*, *SciPy*, and *PyData*. The PyCon, SciPy, and PyData conferences draw thousands of attendees each year, and archive the bulk of their programs each year as free online videos. These have turned into an incredible set of resources for learning about Python itself, Python packages, and related topics. Search online for videos of both talks and tutorials: the former tend to be shorter, covering new packages or fresh looks at old ones. The tutorials tend to be several hours, covering the use of the tools mentioned here as well as others."
   ]
  },
  {
   "cell_type": "code",
   "execution_count": null,
   "id": "377fa19e",
   "metadata": {},
   "outputs": [],
   "source": []
  },
  {
   "cell_type": "code",
   "execution_count": null,
   "id": "ba182241",
   "metadata": {},
   "outputs": [],
   "source": []
  },
  {
   "cell_type": "code",
   "execution_count": null,
   "id": "528e4510",
   "metadata": {},
   "outputs": [],
   "source": []
  }
 ],
 "metadata": {
  "celltoolbar": "幻灯片",
  "kernelspec": {
   "display_name": "Python 3 (ipykernel)",
   "language": "python",
   "name": "python3"
  },
  "language_info": {
   "codemirror_mode": {
    "name": "ipython",
    "version": 3
   },
   "file_extension": ".py",
   "mimetype": "text/x-python",
   "name": "python",
   "nbconvert_exporter": "python",
   "pygments_lexer": "ipython3",
   "version": "3.9.12"
  },
  "toc": {
   "base_numbering": 1,
   "nav_menu": {},
   "number_sections": true,
   "sideBar": true,
   "skip_h1_title": false,
   "title_cell": "Table of Contents",
   "title_sidebar": "Contents",
   "toc_cell": false,
   "toc_position": {},
   "toc_section_display": true,
   "toc_window_display": false
  }
 },
 "nbformat": 4,
 "nbformat_minor": 5
}
