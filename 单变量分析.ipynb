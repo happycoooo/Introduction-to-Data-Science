{
 "cells": [
  {
   "cell_type": "code",
   "execution_count": 2,
   "id": "12e189ce",
   "metadata": {},
   "outputs": [],
   "source": [
    "import numpy as np\n",
    "import pandas as pd\n",
    "import matplotlib.pyplot as plt  # standard way of importing matplotlib\n",
    "%matplotlib inline  \n",
    "# the second line is a so-called magic to allow jupyter\n",
    "#showing plots inline instead of opening a new window"
   ]
  },
  {
   "cell_type": "raw",
   "id": "2a5a0ff0",
   "metadata": {},
   "source": [
    "load"
   ]
  },
  {
   "cell_type": "code",
   "execution_count": 13,
   "id": "0d91e748",
   "metadata": {
    "collapsed": true,
    "jupyter": {
     "outputs_hidden": true
    }
   },
   "outputs": [
    {
     "data": {
      "text/plain": [
       "array([[     1,      1,      0,     41,  40367,      0],\n",
       "       [     2,      1,      0,     54,  45084,      0],\n",
       "       [     3,      1,      0,     42,  52483,      0],\n",
       "       ...,\n",
       "       [149998,      7,      0,     26, 111885,      0],\n",
       "       [149999,      7,      0,     25, 111878,      0],\n",
       "       [150000,      7,      1,     37,  87251,      0]], dtype=int64)"
      ]
     },
     "execution_count": 13,
     "metadata": {},
     "output_type": "execute_result"
    }
   ],
   "source": [
    "#load data\n",
    "#datademographic_array = np.loadtxt('files/demographics.csv') # First attempt to load data\n",
    "datademographic_array = np.loadtxt('files/demographics.csv',skiprows=1, delimiter=',', dtype= 'int64') # Success!\n",
    "datademographic_array"
   ]
  },
  {
   "cell_type": "code",
   "execution_count": 16,
   "id": "1499ec46",
   "metadata": {},
   "outputs": [],
   "source": [
    "datademographic = pd.read_csv('files/demographics.csv') "
   ]
  },
  {
   "cell_type": "code",
   "execution_count": 4,
   "id": "868ca851",
   "metadata": {
    "collapsed": true,
    "jupyter": {
     "outputs_hidden": true
    }
   },
   "outputs": [
    {
     "data": {
      "text/plain": [
       "ID         int64\n",
       "City       int64\n",
       "Gender     int64\n",
       "Age        int64\n",
       "Income     int64\n",
       "Illness    int64\n",
       "dtype: object"
      ]
     },
     "execution_count": 4,
     "metadata": {},
     "output_type": "execute_result"
    }
   ],
   "source": [
    "datademographic.dtypes"
   ]
  },
  {
   "cell_type": "code",
   "execution_count": 5,
   "id": "99fe31fe",
   "metadata": {
    "collapsed": true,
    "jupyter": {
     "outputs_hidden": true
    }
   },
   "outputs": [
    {
     "name": "stdout",
     "output_type": "stream",
     "text": [
      "(150000, 6)\n",
      "900000\n"
     ]
    }
   ],
   "source": [
    "print(datademographic.shape)\n",
    "print(datademographic.size)"
   ]
  },
  {
   "cell_type": "code",
   "execution_count": 15,
   "id": "3157a675",
   "metadata": {
    "collapsed": true,
    "jupyter": {
     "outputs_hidden": true
    }
   },
   "outputs": [
    {
     "name": "stdout",
     "output_type": "stream",
     "text": [
      "ID\n",
      "150000\n",
      "1         1\n",
      "100013    1\n",
      "99997     1\n",
      "99998     1\n",
      "99999     1\n",
      "         ..\n",
      "50001     1\n",
      "50002     1\n",
      "50003     1\n",
      "50004     1\n",
      "150000    1\n",
      "Name: ID, Length: 150000, dtype: int64\n",
      "\n",
      "\n",
      "\n",
      "City\n",
      "150000\n",
      "2    50307\n",
      "3    32173\n",
      "1    19707\n",
      "4    14219\n",
      "7    12292\n",
      "5     8301\n",
      "6     8120\n",
      "8     4881\n",
      "Name: City, dtype: int64\n",
      "\n",
      "\n",
      "\n",
      "Gender\n",
      "150000\n",
      "0    83800\n",
      "1    66200\n",
      "Name: Gender, dtype: int64\n",
      "\n",
      "\n",
      "\n",
      "Age\n",
      "150000\n",
      "26    3918\n",
      "64    3879\n",
      "43    3862\n",
      "41    3862\n",
      "54    3838\n",
      "29    3805\n",
      "28    3798\n",
      "27    3790\n",
      "63    3784\n",
      "44    3782\n",
      "36    3780\n",
      "59    3775\n",
      "47    3773\n",
      "37    3771\n",
      "33    3769\n",
      "58    3762\n",
      "49    3762\n",
      "42    3760\n",
      "32    3759\n",
      "52    3753\n",
      "31    3749\n",
      "48    3743\n",
      "40    3740\n",
      "61    3737\n",
      "38    3734\n",
      "57    3732\n",
      "30    3731\n",
      "51    3729\n",
      "53    3724\n",
      "34    3710\n",
      "46    3707\n",
      "50    3692\n",
      "55    3687\n",
      "62    3684\n",
      "39    3675\n",
      "45    3670\n",
      "35    3658\n",
      "56    3602\n",
      "60    3582\n",
      "25    1868\n",
      "65    1864\n",
      "Name: Age, dtype: int64\n",
      "\n",
      "\n",
      "\n",
      "Income\n",
      "150000\n",
      "98410     15\n",
      "93808     13\n",
      "94606     13\n",
      "88730     12\n",
      "96376     12\n",
      "          ..\n",
      "91227      1\n",
      "119770     1\n",
      "81621      1\n",
      "117809     1\n",
      "77823      1\n",
      "Name: Income, Length: 71762, dtype: int64\n",
      "\n",
      "\n",
      "\n",
      "Illness\n",
      "150000\n",
      "0    137861\n",
      "1     12139\n",
      "Name: Illness, dtype: int64\n",
      "\n",
      "\n",
      "\n"
     ]
    }
   ],
   "source": [
    "# 输出每一列元素个数及其各个数据出现的次数\n",
    "for col in datademographic.columns:\n",
    "    print(col, \"\\n\", datademographic.loc[:,col].size, \"\\n\", datademographic.loc[:,col].value_counts(), \"\\n\\n\\n\",sep = \"\")"
   ]
  },
  {
   "cell_type": "code",
   "execution_count": 14,
   "id": "db0fd6f9",
   "metadata": {
    "collapsed": true,
    "jupyter": {
     "outputs_hidden": true
    }
   },
   "outputs": [
    {
     "name": "stdout",
     "output_type": "stream",
     "text": [
      "0 150000 [     1      2      3 ... 149998 149999 150000] \n",
      "\n",
      "1 8 [1 2 3 4 5 6 7 8] \n",
      "\n",
      "2 2 [0 1] \n",
      "\n",
      "3 41 [25 26 27 28 29 30 31 32 33 34 35 36 37 38 39 40 41 42 43 44 45 46 47 48\n",
      " 49 50 51 52 53 54 55 56 57 58 59 60 61 62 63 64 65] \n",
      "\n",
      "4 71762 [        -654          584         2474 ... 415240000000 500820000000\n",
      " 547770000000] \n",
      "\n",
      "5 2 [0 1] \n",
      "\n"
     ]
    }
   ],
   "source": [
    "# 输出文本文档中数组的统计值\n",
    "for col in range(datademographic_array.shape[1]):\n",
    "    print(col, np.unique(datademographic_array[:,col]).size, np.unique(datademographic_array[:,col]),\"\\n\")"
   ]
  },
  {
   "cell_type": "raw",
   "id": "4e843411",
   "metadata": {},
   "source": [
    "numpy.unique(arr, return_index, return_inverse, return_counts)\n",
    "return_index：如果为true，返回新列表元素在旧列表中的位置（下标），并以列表形式储。\n",
    "return_inverse：如果为true，返回旧列表元素在新列表中的位置（下标），并以列表形式存储。\n",
    "return_counts：如果为true，返回去重数组中的元素在原数组中的出现次数。"
   ]
  },
  {
   "cell_type": "code",
   "execution_count": 17,
   "id": "f4bc7d4f",
   "metadata": {},
   "outputs": [
    {
     "data": {
      "text/plain": [
       "(array([1, 2, 3, 4, 5, 6, 7, 8], dtype=int64),\n",
       " array([19707, 50307, 32173, 14219,  8301,  8120, 12292,  4881],\n",
       "       dtype=int64))"
      ]
     },
     "execution_count": 17,
     "metadata": {},
     "output_type": "execute_result"
    }
   ],
   "source": [
    "np.unique(datademographic_array[:,1], return_counts=True)"
   ]
  },
  {
   "cell_type": "markdown",
   "id": "7b2bd470",
   "metadata": {},
   "source": [
    "Matplotlib"
   ]
  },
  {
   "cell_type": "code",
   "execution_count": 59,
   "id": "e920cad0",
   "metadata": {},
   "outputs": [
    {
     "data": {
      "text/plain": [
       "[<matplotlib.lines.Line2D at 0x20452ba8280>]"
      ]
     },
     "execution_count": 59,
     "metadata": {},
     "output_type": "execute_result"
    },
    {
     "data": {
      "image/png": "[encoded data removed]",
      "text/plain": [
       "<Figure size 432x288 with 1 Axes>"
      ]
     },
     "metadata": {
      "needs_background": "light"
     },
     "output_type": "display_data"
    }
   ],
   "source": [
    "x = np.arange(-50,50)\n",
    "y1 = x ** 2\n",
    "y2 = x\n",
    "# 图表名称\n",
    "plt.rcParams['font.sans-serif'] = [\"Kaiti\"]  # 楷体中文\n",
    "plt.rcParams['axes.unicode_minus'] = False  # 修改轴中的负号编码axis\n",
    "plt.title(\"y是x的平方\",fontsize = 16)\n",
    "plt.xlabel(\"x\",fontsize = 13) # 设置x轴名称\n",
    "plt.ylabel(\"y\", fontsize = 13) # 设置y轴名称\n",
    "\n",
    "# 设置刻度\n",
    "\n",
    "\n",
    "# 绘制图表\n",
    "plt.plot(x,y1,linewidth = 3)\n",
    "plt.plot(x,y2,linewidth = 3)"
   ]
  },
  {
   "cell_type": "raw",
   "id": "4850e77c",
   "metadata": {},
   "source": [
    "figure画板属性\n",
    "num\t画板编号\n",
    "figsize\t画板大小（列表），宽、高\n",
    "dpi\t分辨率，（图形每英寸的点数），默认是100\n",
    "facecolor\t画板的颜色，默认白色\n",
    "linewidth\t画板的边的宽度，默认是0\n",
    "edgecolor\t画板的边的颜色，边的宽度不能为0，默认白色"
   ]
  },
  {
   "cell_type": "code",
   "execution_count": 74,
   "id": "007741d6",
   "metadata": {},
   "outputs": [
    {
     "data": {
      "image/png": "[encoded data removed]",
      "text/plain": [
       "<Figure size 288x216 with 2 Axes>"
      ]
     },
     "metadata": {
      "needs_background": "light"
     },
     "output_type": "display_data"
    }
   ],
   "source": [
    "# Minimum example for inset plot\n",
    "fig = plt.figure(figsize=(4, 3))\n",
    "axes1 = fig.add_axes([0, 0, 0.8, 0.8]) # main axes\n",
    "axes2 = fig.add_axes([0.3, 0.4, 0.3, 0.25]) # inset axes\n",
    "\n",
    "# main figure\n",
    "axes1.plot(x, y, 'r')\n",
    "axes1.set_xlabel('x')\n",
    "axes1.set_ylabel('y')\n",
    "axes1.set_title('Title')\n",
    "\n",
    "# inset\n",
    "axes2.plot(y, x, 'g') # green\n",
    "axes2.set_xlabel('y')\n",
    "axes2.set_ylabel('x')\n",
    "axes2.set_title('Inset title');"
   ]
  },
  {
   "cell_type": "code",
   "execution_count": 76,
   "id": "40d18063",
   "metadata": {},
   "outputs": [],
   "source": [
    "categories, counts = np.unique(datademographic_array[:,1], return_counts=True)"
   ]
  },
  {
   "cell_type": "code",
   "execution_count": 90,
   "id": "0b0ab320",
   "metadata": {},
   "outputs": [
    {
     "data": {
      "image/png": "[encoded data removed]",
      "text/plain": [
       "<Figure size 450x300 with 1 Axes>"
      ]
     },
     "metadata": {},
     "output_type": "display_data"
    }
   ],
   "source": [
    "fig = plt.figure(figsize=(3, 2),dpi = 150,facecolor = \"c\", linewidth = 3, edgecolor = \"k\" )\n",
    "axes = fig.add_axes([0, 0, 1, 1]) # left, bottom, width, height (range 0 to 1)\n",
    "axes.bar(categories, counts, fc=\"b\") # fc is the face color\n",
    "\n",
    "axes.set_xlabel('City')\n",
    "axes.set_ylabel('Count')\n",
    "axes.set_title('Number of individuals in each city');"
   ]
  },
  {
   "cell_type": "code",
   "execution_count": 93,
   "id": "08ea5ca4",
   "metadata": {},
   "outputs": [
    {
     "data": {
      "text/plain": [
       "<AxesSubplot:ylabel='City'>"
      ]
     },
     "execution_count": 93,
     "metadata": {},
     "output_type": "execute_result"
    },
    {
     "data": {
      "image/png": "[encoded data removed]",
      "text/plain": [
       "<Figure size 432x288 with 1 Axes>"
      ]
     },
     "metadata": {},
     "output_type": "display_data"
    }
   ],
   "source": [
    "datademographic.loc[:,\"City\"].value_counts(sort=False).plot(kind=\"pie\")"
   ]
  },
  {
   "cell_type": "code",
   "execution_count": 94,
   "id": "4c83511e",
   "metadata": {},
   "outputs": [
    {
     "data": {
      "text/plain": [
       "<AxesSubplot:>"
      ]
     },
     "execution_count": 94,
     "metadata": {},
     "output_type": "execute_result"
    },
    {
     "data": {
      "image/png": "[encoded data removed]",
      "text/plain": [
       "<Figure size 432x288 with 1 Axes>"
      ]
     },
     "metadata": {
      "needs_background": "light"
     },
     "output_type": "display_data"
    }
   ],
   "source": [
    "datademographic.loc[:,\"City\"].value_counts(sort=False).plot(kind=\"bar\")"
   ]
  }
 ],
 "metadata": {
  "kernelspec": {
   "display_name": "Python 3 (ipykernel)",
   "language": "python",
   "name": "python3"
  },
  "language_info": {
   "codemirror_mode": {
    "name": "ipython",
    "version": 3
   },
   "file_extension": ".py",
   "mimetype": "text/x-python",
   "name": "python",
   "nbconvert_exporter": "python",
   "pygments_lexer": "ipython3",
   "version": "3.11.5"
  }
 },
 "nbformat": 4,
 "nbformat_minor": 5
}
