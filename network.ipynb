{
 "cells": [
  {
   "cell_type": "code",
   "execution_count": 2,
   "id": "339be025",
   "metadata": {},
   "outputs": [],
   "source": [
    "import networkx as nx"
   ]
  },
  {
   "cell_type": "code",
   "execution_count": 3,
   "id": "0e679e82",
   "metadata": {},
   "outputs": [],
   "source": [
    "G=nx.Graph() # 无向图\n",
    "G=nx.DiGraph() # 有向图\n",
    "G=nx.MultiGraph() # 多图\n",
    "G=nx.MultiDiGraph()# 多图有向"
   ]
  },
  {
   "cell_type": "code",
   "execution_count": 9,
   "id": "02ec4acc",
   "metadata": {},
   "outputs": [
    {
     "name": "stdout",
     "output_type": "stream",
     "text": [
      "[1, 2, 3, 'y', 'x', <built-in function cos>] [(1, 2, 0), (1, 2, 1), (1, 2, 2), (1, 2, 3), (2, 3, 0), (2, 3, 1), (2, 3, 2), (2, 3, 3), ('y', 'x', 0), ('y', 'x', 1)] 6 10\n"
     ]
    }
   ],
   "source": [
    "G.add_edge(1,2)  # 默认边缘数据为1\n",
    "G.add_edge(2,3,weight=0.9) # 指定边缘数据\n",
    "print(G.nodes, G.edges, G.number_of_nodes(), G.number_of_edges())"
   ]
  },
  {
   "cell_type": "code",
   "execution_count": 8,
   "id": "500d6613",
   "metadata": {},
   "outputs": [
    {
     "data": {
      "text/plain": [
       "<networkx.classes.multidigraph.MultiDiGraph at 0x21539a05af0>"
      ]
     },
     "execution_count": 8,
     "metadata": {},
     "output_type": "execute_result"
    }
   ],
   "source": [
    "import math\n",
    "G.add_edge('y','x',function=math.cos)\n",
    "G.add_node(math.cos) # 任何可哈希可以是一个节点"
   ]
  },
  {
   "cell_type": "code",
   "execution_count": null,
   "id": "686a0081",
   "metadata": {},
   "outputs": [],
   "source": []
  },
  {
   "cell_type": "code",
   "execution_count": null,
   "id": "ac0eb7b6",
   "metadata": {},
   "outputs": [],
   "source": []
  },
  {
   "cell_type": "code",
   "execution_count": null,
   "id": "d8ebc4a7",
   "metadata": {},
   "outputs": [],
   "source": []
  },
  {
   "cell_type": "code",
   "execution_count": null,
   "id": "8cf35c0f",
   "metadata": {},
   "outputs": [],
   "source": []
  },
  {
   "cell_type": "code",
   "execution_count": null,
   "id": "72765fa3",
   "metadata": {},
   "outputs": [],
   "source": []
  },
  {
   "cell_type": "code",
   "execution_count": null,
   "id": "3b34ef26",
   "metadata": {},
   "outputs": [],
   "source": []
  },
  {
   "cell_type": "code",
   "execution_count": null,
   "id": "6e8de94c",
   "metadata": {},
   "outputs": [],
   "source": []
  },
  {
   "cell_type": "code",
   "execution_count": null,
   "id": "f291b2aa",
   "metadata": {},
   "outputs": [],
   "source": []
  },
  {
   "cell_type": "code",
   "execution_count": null,
   "id": "5eeed48b",
   "metadata": {},
   "outputs": [],
   "source": []
  },
  {
   "cell_type": "code",
   "execution_count": null,
   "id": "002869d9",
   "metadata": {},
   "outputs": [],
   "source": []
  }
 ],
 "metadata": {
  "kernelspec": {
   "display_name": "Python 3 (ipykernel)",
   "language": "python",
   "name": "python3"
  },
  "language_info": {
   "codemirror_mode": {
    "name": "ipython",
    "version": 3
   },
   "file_extension": ".py",
   "mimetype": "text/x-python",
   "name": "python",
   "nbconvert_exporter": "python",
   "pygments_lexer": "ipython3",
   "version": "3.9.12"
  }
 },
 "nbformat": 4,
 "nbformat_minor": 5
}
