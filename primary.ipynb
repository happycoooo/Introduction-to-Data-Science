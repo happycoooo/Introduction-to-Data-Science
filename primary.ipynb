{
 "cells": [
  {
   "cell_type": "markdown",
   "id": "697b1680",
   "metadata": {},
   "source": [
    "input函数，将输入的数据赋值给变量，类型为字符串。\n",
    "转换为整数要通过int()或eval()函数，转换为浮点数通过float()函数"
   ]
  },
  {
   "cell_type": "code",
   "execution_count": 3,
   "id": "3f5e226e",
   "metadata": {},
   "outputs": [
    {
     "name": "stdout",
     "output_type": "stream",
     "text": [
      "请输入a,b两个数：100,99\n",
      "最大数为： 100\n"
     ]
    }
   ],
   "source": [
    "a,b = eval(input(\"请输入a,b两个数：\"))  #把字符串转化为数值\n",
    "if a>=b: \n",
    "    print(\"最大数为：\",a)\n",
    "else:\n",
    "    print(\"最大数为：\",b)"
   ]
  },
  {
   "cell_type": "markdown",
   "id": "7c018586",
   "metadata": {},
   "source": [
    "for循环"
   ]
  },
  {
   "cell_type": "code",
   "execution_count": 4,
   "id": "0ed0b841",
   "metadata": {},
   "outputs": [
    {
     "name": "stdout",
     "output_type": "stream",
     "text": [
      "[0, 1, 2, 3, 4]\n",
      "[1, 2, 3, 4, 5]\n",
      "[2, 4, 6, 8]\n"
     ]
    }
   ],
   "source": [
    "print(list(range(5)))\n",
    "print(list(range(1,6)))\n",
    "print(list(range(2,10,2)))"
   ]
  },
  {
   "cell_type": "code",
   "execution_count": 6,
   "id": "f5f012f0",
   "metadata": {},
   "outputs": [
    {
     "name": "stdout",
     "output_type": "stream",
     "text": [
      "请输入整数：7\n",
      "从小到大排列输出数字：\n",
      "1+2+3+4+5+6+7=28\n",
      "从大到小排列输出数字：\n",
      "7+6+5+4+3+2+1=28\n"
     ]
    }
   ],
   "source": [
    "sum = 0 \n",
    "number = int(input(\"请输入整数：\"))\n",
    "print(\"从小到大排列输出数字：\")\n",
    "for i in range(1,number+1):\n",
    "    sum += i\n",
    "    print(\"%d\"%(i), end = '')    #end=\"\" 可使输出不换行\n",
    "    if i < number :\n",
    "        print(\"+\",end='')\n",
    "    else:\n",
    "        print(\"=\",end = '')\n",
    "print(\"%d\"%(sum))\n",
    "sum = 0\n",
    "print(\"从大到小排列输出数字：\")\n",
    "for i in range(number, 0, -1):\n",
    "    sum +=i\n",
    "    print(\"%d\"%(i),end = '')\n",
    "    if i > 1:\n",
    "        print(\"+\",end = '')\n",
    "    else:\n",
    "        print(\"=\",end = '')\n",
    "print(\"%d\"%(sum))"
   ]
  },
  {
   "attachments": {},
   "cell_type": "markdown",
   "id": "46996d1a",
   "metadata": {},
   "source": [
    "列表"
   ]
  },
  {
   "cell_type": "code",
   "execution_count": 7,
   "id": "9042ceea",
   "metadata": {},
   "outputs": [
    {
     "name": "stdout",
     "output_type": "stream",
     "text": [
      "[1, 2, 3, 4]\n",
      "[1, 2, 3, 4, 3, 2, 1]\n",
      "[-1, 1, 2, 3, 4, 3, 2, 1]\n"
     ]
    }
   ],
   "source": [
    "a = [1,2,3]\n",
    "a.append(4)   #向列表尾部增加一个元素\n",
    "print(a)\n",
    "a.extend([3,2,1])   # 向列表尾部添加多个元素\n",
    "print(a)\n",
    "a.insert(0,-1)   # 在列表指定位置插入新值\n",
    "print(a)"
   ]
  },
  {
   "cell_type": "code",
   "execution_count": 12,
   "id": "bc841449",
   "metadata": {},
   "outputs": [
    {
     "name": "stdout",
     "output_type": "stream",
     "text": [
      "[10, 20, 30, 5, 8, 5, 8]\n",
      "[10, 20, 5, 8, 5, 8]\n",
      "[10, 20, 5, 5, 8]\n",
      "[]\n"
     ]
    }
   ],
   "source": [
    "a = [10,20,30,5,8,5,8,6]\n",
    "a.pop()    # 删除最后一个元素\n",
    "print(a)\n",
    "a.pop(2)  #删除第3个元素\n",
    "print(a)\n",
    "a.remove(8)   #从左向右移除第一个8\n",
    "print(a)\n",
    "a.clear()  #清空列表\n",
    "print(a)"
   ]
  },
  {
   "cell_type": "code",
   "execution_count": 25,
   "id": "31b7130d",
   "metadata": {},
   "outputs": [],
   "source": [
    "a = [1,2,3,4]\n",
    "b = [7,6,5]"
   ]
  },
  {
   "cell_type": "code",
   "execution_count": 26,
   "id": "96475ef1",
   "metadata": {},
   "outputs": [
    {
     "data": {
      "text/plain": [
       "2"
      ]
     },
     "execution_count": 26,
     "metadata": {},
     "output_type": "execute_result"
    }
   ],
   "source": [
    "a.index(3)   #查找元素下标"
   ]
  },
  {
   "cell_type": "code",
   "execution_count": 27,
   "id": "11321b60",
   "metadata": {},
   "outputs": [
    {
     "data": {
      "text/plain": [
       "1"
      ]
     },
     "execution_count": 27,
     "metadata": {},
     "output_type": "execute_result"
    }
   ],
   "source": [
    "a.count(2)   #计算元素次数"
   ]
  },
  {
   "cell_type": "code",
   "execution_count": 28,
   "id": "c891ff28",
   "metadata": {},
   "outputs": [
    {
     "data": {
      "text/plain": [
       "[1, 2, 3, 4, 7, 6, 5]"
      ]
     },
     "execution_count": 28,
     "metadata": {},
     "output_type": "execute_result"
    }
   ],
   "source": [
    "a+b    #连接两个链表"
   ]
  },
  {
   "cell_type": "code",
   "execution_count": 29,
   "id": "ed109560",
   "metadata": {},
   "outputs": [
    {
     "data": {
      "text/plain": [
       "[7, 6, 5, 7, 6, 5]"
      ]
     },
     "execution_count": 29,
     "metadata": {},
     "output_type": "execute_result"
    }
   ],
   "source": [
    "b*2   #列表重复n次"
   ]
  },
  {
   "cell_type": "code",
   "execution_count": 30,
   "id": "83d3e85e",
   "metadata": {},
   "outputs": [
    {
     "data": {
      "text/plain": [
       "4"
      ]
     },
     "execution_count": 30,
     "metadata": {},
     "output_type": "execute_result"
    }
   ],
   "source": [
    "len(a)   #列表长度"
   ]
  },
  {
   "cell_type": "code",
   "execution_count": 36,
   "id": "b8a512b6",
   "metadata": {},
   "outputs": [
    {
     "data": {
      "text/plain": [
       "[5, 6, 7]"
      ]
     },
     "execution_count": 36,
     "metadata": {},
     "output_type": "execute_result"
    }
   ],
   "source": [
    "c = sorted(b)\n",
    "c"
   ]
  },
  {
   "cell_type": "code",
   "execution_count": 38,
   "id": "2ff0012a",
   "metadata": {},
   "outputs": [
    {
     "data": {
      "text/plain": [
       "[7, 6, 5]"
      ]
     },
     "execution_count": 38,
     "metadata": {},
     "output_type": "execute_result"
    }
   ],
   "source": [
    "d = sorted(b,reverse = True)\n",
    "d"
   ]
  },
  {
   "cell_type": "code",
   "execution_count": 40,
   "id": "1fbace7a",
   "metadata": {},
   "outputs": [
    {
     "data": {
      "text/plain": [
       "[1, 2, 3, 4]"
      ]
     },
     "execution_count": 40,
     "metadata": {},
     "output_type": "execute_result"
    }
   ],
   "source": [
    "a.reverse()\n",
    "a"
   ]
  },
  {
   "cell_type": "markdown",
   "id": "f55a5a70",
   "metadata": {},
   "source": [
    "split函数"
   ]
  },
  {
   "cell_type": "code",
   "execution_count": 42,
   "id": "12ce284c",
   "metadata": {},
   "outputs": [
    {
     "data": {
      "text/plain": [
       "['I', 'am', 'a', 'student']"
      ]
     },
     "execution_count": 42,
     "metadata": {},
     "output_type": "execute_result"
    }
   ],
   "source": [
    "str1 = \"I am a student\"\n",
    "List1 = str1.split()\n",
    "List1"
   ]
  },
  {
   "cell_type": "code",
   "execution_count": 43,
   "id": "cac96670",
   "metadata": {},
   "outputs": [
    {
     "data": {
      "text/plain": [
       "['1', '2', '3', '4']"
      ]
     },
     "execution_count": 43,
     "metadata": {},
     "output_type": "execute_result"
    }
   ],
   "source": [
    "str2 = \"1,2,3,4\"\n",
    "List2 = str2.split(',')\n",
    "List2"
   ]
  },
  {
   "cell_type": "code",
   "execution_count": 44,
   "id": "c59d3eb9",
   "metadata": {},
   "outputs": [
    {
     "name": "stdout",
     "output_type": "stream",
     "text": [
      "1 2 3 4\n"
     ]
    }
   ],
   "source": [
    "print(' '.join(List2))"
   ]
  },
  {
   "cell_type": "code",
   "execution_count": 48,
   "id": "a953fc78",
   "metadata": {},
   "outputs": [
    {
     "data": {
      "text/plain": [
       "[0, 1, 4, 9, 16, 25]"
      ]
     },
     "execution_count": 48,
     "metadata": {},
     "output_type": "execute_result"
    }
   ],
   "source": [
    "a = map(pow,range(6),[2 for b in range(6)])\n",
    "list(a)"
   ]
  }
 ],
 "metadata": {
  "kernelspec": {
   "display_name": "Python 3 (ipykernel)",
   "language": "python",
   "name": "python3"
  },
  "language_info": {
   "codemirror_mode": {
    "name": "ipython",
    "version": 3
   },
   "file_extension": ".py",
   "mimetype": "text/x-python",
   "name": "python",
   "nbconvert_exporter": "python",
   "pygments_lexer": "ipython3",
   "version": "3.9.12"
  }
 },
 "nbformat": 4,
 "nbformat_minor": 5
}
