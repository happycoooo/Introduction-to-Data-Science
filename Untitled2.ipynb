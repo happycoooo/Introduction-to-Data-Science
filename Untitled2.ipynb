{
 "cells": [
  {
   "cell_type": "code",
   "execution_count": null,
   "id": "5123866d",
   "metadata": {},
   "outputs": [],
   "source": [
    "import pandas as pd\n",
    "import numpy as np\n",
    "import "
   ]
  },
  {
   "cell_type": "code",
   "execution_count": null,
   "id": "1f2da7a0",
   "metadata": {},
   "outputs": [],
   "source": [
    "X = np.array()"
   ]
  },
  {
   "cell_type": "code",
   "execution_count": null,
   "id": "bc9c84ef",
   "metadata": {},
   "outputs": [],
   "source": [
    "LR = LinearRegression(fit_intercept = True)"
   ]
  }
 ],
 "metadata": {
  "kernelspec": {
   "display_name": "Python 3 (ipykernel)",
   "language": "python",
   "name": "python3"
  },
  "language_info": {
   "codemirror_mode": {
    "name": "ipython",
    "version": 3
   },
   "file_extension": ".py",
   "mimetype": "text/x-python",
   "name": "python",
   "nbconvert_exporter": "python",
   "pygments_lexer": "ipython3",
   "version": "3.10.9"
  }
 },
 "nbformat": 4,
 "nbformat_minor": 5
}
