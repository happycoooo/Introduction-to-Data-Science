{
 "cells": [
  {
   "cell_type": "code",
   "execution_count": 1,
   "id": "a0f40372",
   "metadata": {},
   "outputs": [],
   "source": [
    "import numpy as np \n",
    "import pandas as pd \n",
    "import matplotlib.pyplot as plt\n",
    "import seaborn as sns\n",
    "import matplotlib"
   ]
  },
  {
   "cell_type": "code",
   "execution_count": 2,
   "id": "bf31bbac",
   "metadata": {},
   "outputs": [
    {
     "name": "stdout",
     "output_type": "stream",
     "text": [
      "1 3\n"
     ]
    }
   ],
   "source": [
    "a = 1\n",
    "def fun(a):\n",
    "    a = a+2\n",
    "    return a\n",
    "print(a, fun(a))"
   ]
  },
  {
   "cell_type": "code",
   "execution_count": 5,
   "id": "d2ee9fdf",
   "metadata": {},
   "outputs": [
    {
     "name": "stdout",
     "output_type": "stream",
     "text": [
      "s-t-a-217-\n"
     ]
    }
   ],
   "source": [
    "fun = lambda x: \"\".join([y+\"-\" for y in x])\n",
    "print(fun( [\"s\",\"t\",\"a\",\"217\"]))"
   ]
  },
  {
   "cell_type": "code",
   "execution_count": 6,
   "id": "ac95a4e9",
   "metadata": {},
   "outputs": [
    {
     "name": "stdout",
     "output_type": "stream",
     "text": [
      "-s-t-a-217\n"
     ]
    }
   ],
   "source": [
    "fun = lambda x: \"\".join([\"-\"+y for y in x])\n",
    "print(fun( [\"s\",\"t\",\"a\",\"217\"]))"
   ]
  },
  {
   "cell_type": "code",
   "execution_count": 7,
   "id": "5eb12b7e",
   "metadata": {},
   "outputs": [
    {
     "name": "stdout",
     "output_type": "stream",
     "text": [
      "s-t-a-217\n"
     ]
    }
   ],
   "source": [
    "fun = lambda x: \"-\".join(x)\n",
    "print(fun( [\"s\",\"t\",\"a\",\"217\"]))"
   ]
  },
  {
   "cell_type": "code",
   "execution_count": 10,
   "id": "82671600",
   "metadata": {},
   "outputs": [
    {
     "name": "stdout",
     "output_type": "stream",
     "text": [
      "PPYYTTHOONN"
     ]
    }
   ],
   "source": [
    "for i in \"PYTHON\":\n",
    "    for k in range(2):\n",
    "        print(i, end=\"\")\n",
    "        if i == \"H\":\n",
    "            break"
   ]
  },
  {
   "cell_type": "code",
   "execution_count": 14,
   "id": "acf70a97",
   "metadata": {},
   "outputs": [
    {
     "name": "stdout",
     "output_type": "stream",
     "text": [
      "['巴哈马', '巴林', '孟加拉国', '巴巴多斯\\n白俄罗斯', '比利时', '伯利兹', '\\n']\n"
     ]
    }
   ],
   "source": [
    "f = open('city.csv', 'r')\n",
    "ls = f.read().split(',')\n",
    "f.close()\n",
    "print(ls)"
   ]
  },
  {
   "cell_type": "code",
   "execution_count": 15,
   "id": "dede3209",
   "metadata": {},
   "outputs": [
    {
     "name": "stdout",
     "output_type": "stream",
     "text": [
      "Python"
     ]
    }
   ],
   "source": [
    "for s in 'PythonNCRE':\n",
    "    if s=='N':\n",
    "        break\n",
    "    print(s, end= '')"
   ]
  },
  {
   "cell_type": "code",
   "execution_count": 2,
   "id": "3017dfc0",
   "metadata": {},
   "outputs": [
    {
     "data": {
      "text/html": [
       "<div>\n",
       "<style scoped>\n",
       "    .dataframe tbody tr th:only-of-type {\n",
       "        vertical-align: middle;\n",
       "    }\n",
       "\n",
       "    .dataframe tbody tr th {\n",
       "        vertical-align: top;\n",
       "    }\n",
       "\n",
       "    .dataframe thead th {\n",
       "        text-align: right;\n",
       "    }\n",
       "</style>\n",
       "<table border=\"1\" class=\"dataframe\">\n",
       "  <thead>\n",
       "    <tr style=\"text-align: right;\">\n",
       "      <th></th>\n",
       "      <th>Name</th>\n",
       "      <th>Video_ID</th>\n",
       "      <th>ID</th>\n",
       "      <th>Views</th>\n",
       "      <th>#Shorts</th>\n",
       "      <th>Date</th>\n",
       "    </tr>\n",
       "  </thead>\n",
       "  <tbody>\n",
       "    <tr>\n",
       "      <th>0</th>\n",
       "      <td>strawberry trick!</td>\n",
       "      <td>V0000005</td>\n",
       "      <td>VC6D1L2vxEAg</td>\n",
       "      <td>329461822</td>\n",
       "      <td>True</td>\n",
       "      <td>06-18</td>\n",
       "    </tr>\n",
       "    <tr>\n",
       "      <th>1</th>\n",
       "      <td>How to write an official essay?</td>\n",
       "      <td>V0000006</td>\n",
       "      <td>VComP_epzeKz</td>\n",
       "      <td>272980726</td>\n",
       "      <td>False</td>\n",
       "      <td>09-10</td>\n",
       "    </tr>\n",
       "    <tr>\n",
       "      <th>2</th>\n",
       "      <td>Dance</td>\n",
       "      <td>V0000015</td>\n",
       "      <td>VC3IZKseVp</td>\n",
       "      <td>480881920</td>\n",
       "      <td>True</td>\n",
       "      <td>07-09</td>\n",
       "    </tr>\n",
       "  </tbody>\n",
       "</table>\n",
       "</div>"
      ],
      "text/plain": [
       "                              Name  Video_ID            ID      Views  \\\n",
       "0                strawberry trick!  V0000005  VC6D1L2vxEAg  329461822   \n",
       "1  How to write an official essay?  V0000006  VComP_epzeKz  272980726   \n",
       "2                            Dance  V0000015    VC3IZKseVp  480881920   \n",
       "\n",
       "   #Shorts   Date  \n",
       "0     True  06-18  \n",
       "1    False  09-10  \n",
       "2     True  07-09  "
      ]
     },
     "execution_count": 2,
     "metadata": {},
     "output_type": "execute_result"
    }
   ],
   "source": [
    "videos = pd.read_csv('./videos.csv')\n",
    "videos"
   ]
  },
  {
   "cell_type": "code",
   "execution_count": 6,
   "id": "f8d02a92",
   "metadata": {},
   "outputs": [
    {
     "data": {
      "text/plain": [
       "'Dance'"
      ]
     },
     "execution_count": 6,
     "metadata": {},
     "output_type": "execute_result"
    }
   ],
   "source": [
    "videos[videos['Views'] == videos['Views'].max()].iloc[0,0]"
   ]
  },
  {
   "cell_type": "code",
   "execution_count": 7,
   "id": "c77c8aef",
   "metadata": {},
   "outputs": [
    {
     "data": {
      "text/plain": [
       "'VC3IZKseVp'"
      ]
     },
     "execution_count": 7,
     "metadata": {},
     "output_type": "execute_result"
    }
   ],
   "source": [
    "videos.groupby(\"ID\").size().sort_values(ascending = False).index.values[0]"
   ]
  },
  {
   "cell_type": "code",
   "execution_count": 5,
   "id": "78a038e8",
   "metadata": {},
   "outputs": [
    {
     "data": {
      "text/plain": [
       "'strawberry trick!'"
      ]
     },
     "execution_count": 5,
     "metadata": {},
     "output_type": "execute_result"
    }
   ],
   "source": [
    "videos['Name'].value_counts().idxmax()"
   ]
  },
  {
   "cell_type": "code",
   "execution_count": 8,
   "id": "ccbbe742",
   "metadata": {},
   "outputs": [
    {
     "data": {
      "text/plain": [
       "'VC6D1L2vxEAg'"
      ]
     },
     "execution_count": 8,
     "metadata": {},
     "output_type": "execute_result"
    }
   ],
   "source": [
    "videos[videos['ID'] == videos['ID'].value_counts().idxmax()].iloc[0,2]"
   ]
  },
  {
   "cell_type": "code",
   "execution_count": 6,
   "id": "39d3103e",
   "metadata": {},
   "outputs": [
    {
     "name": "stdout",
     "output_type": "stream",
     "text": [
      "405171871.0 272980726.0\n"
     ]
    }
   ],
   "source": [
    "print(videos[videos['#Shorts'] == True]['Views'].mean(),videos[videos['#Shorts'] == False]['Views'].mean())"
   ]
  },
  {
   "cell_type": "code",
   "execution_count": 9,
   "id": "65709afa",
   "metadata": {},
   "outputs": [
    {
     "data": {
      "text/plain": [
       "#Shorts\n",
       "False    272980726.0\n",
       "True     405171871.0\n",
       "Name: Views, dtype: float64"
      ]
     },
     "execution_count": 9,
     "metadata": {},
     "output_type": "execute_result"
    }
   ],
   "source": [
    "videos.groupby('#Shorts')['Views'].mean()"
   ]
  },
  {
   "cell_type": "code",
   "execution_count": 18,
   "id": "22a01a25",
   "metadata": {},
   "outputs": [
    {
     "data": {
      "text/html": [
       "<div>\n",
       "<style scoped>\n",
       "    .dataframe tbody tr th:only-of-type {\n",
       "        vertical-align: middle;\n",
       "    }\n",
       "\n",
       "    .dataframe tbody tr th {\n",
       "        vertical-align: top;\n",
       "    }\n",
       "\n",
       "    .dataframe thead th {\n",
       "        text-align: right;\n",
       "    }\n",
       "</style>\n",
       "<table border=\"1\" class=\"dataframe\">\n",
       "  <thead>\n",
       "    <tr style=\"text-align: right;\">\n",
       "      <th></th>\n",
       "      <th>Name</th>\n",
       "      <th>Video_ID</th>\n",
       "      <th>ID</th>\n",
       "      <th>Views</th>\n",
       "      <th>#Shorts</th>\n",
       "      <th>Date</th>\n",
       "      <th>Month</th>\n",
       "    </tr>\n",
       "  </thead>\n",
       "  <tbody>\n",
       "    <tr>\n",
       "      <th>0</th>\n",
       "      <td>strawberry trick!</td>\n",
       "      <td>V0000005</td>\n",
       "      <td>VC6D1L2vxEAg</td>\n",
       "      <td>329461822</td>\n",
       "      <td>True</td>\n",
       "      <td>06-18</td>\n",
       "      <td>6</td>\n",
       "    </tr>\n",
       "    <tr>\n",
       "      <th>1</th>\n",
       "      <td>How to write an official essay?</td>\n",
       "      <td>V0000006</td>\n",
       "      <td>VComP_epzeKz</td>\n",
       "      <td>272980726</td>\n",
       "      <td>False</td>\n",
       "      <td>09-10</td>\n",
       "      <td>9</td>\n",
       "    </tr>\n",
       "    <tr>\n",
       "      <th>2</th>\n",
       "      <td>Dance</td>\n",
       "      <td>V0000015</td>\n",
       "      <td>VC3IZKseVp</td>\n",
       "      <td>480881920</td>\n",
       "      <td>True</td>\n",
       "      <td>07-09</td>\n",
       "      <td>7</td>\n",
       "    </tr>\n",
       "  </tbody>\n",
       "</table>\n",
       "</div>"
      ],
      "text/plain": [
       "                              Name  Video_ID            ID      Views  \\\n",
       "0                strawberry trick!  V0000005  VC6D1L2vxEAg  329461822   \n",
       "1  How to write an official essay?  V0000006  VComP_epzeKz  272980726   \n",
       "2                            Dance  V0000015    VC3IZKseVp  480881920   \n",
       "\n",
       "   #Shorts   Date  Month  \n",
       "0     True  06-18      6  \n",
       "1    False  09-10      9  \n",
       "2     True  07-09      7  "
      ]
     },
     "execution_count": 18,
     "metadata": {},
     "output_type": "execute_result"
    }
   ],
   "source": [
    "videos.loc[:,'Month'] = [int(videos.iloc[i ,5][0:2]) for i in range(len(videos))]\n",
    "videos"
   ]
  },
  {
   "cell_type": "code",
   "execution_count": 14,
   "id": "d48ee84b",
   "metadata": {},
   "outputs": [
    {
     "data": {
      "text/plain": [
       "<AxesSubplot:>"
      ]
     },
     "execution_count": 14,
     "metadata": {},
     "output_type": "execute_result"
    },
    {
     "data": {
      "image/png": "[encoded data removed]",
      "text/plain": [
       "<Figure size 432x288 with 1 Axes>"
      ]
     },
     "metadata": {
      "needs_background": "light"
     },
     "output_type": "display_data"
    }
   ],
   "source": [
    "videos.loc[:,\"Month\"].value_counts(sort=True).plot(kind=\"bar\")"
   ]
  },
  {
   "cell_type": "code",
   "execution_count": 13,
   "id": "289ae545",
   "metadata": {},
   "outputs": [
    {
     "data": {
      "text/plain": [
       "<AxesSubplot:xlabel='Month'>"
      ]
     },
     "execution_count": 13,
     "metadata": {},
     "output_type": "execute_result"
    },
    {
     "data": {
      "image/png": "[encoded data removed]",
      "text/plain": [
       "<Figure size 432x288 with 1 Axes>"
      ]
     },
     "metadata": {
      "needs_background": "light"
     },
     "output_type": "display_data"
    }
   ],
   "source": [
    "videos.groupby('Month').size().plot(kind = 'bar')"
   ]
  },
  {
   "cell_type": "code",
   "execution_count": 10,
   "id": "17b69ab3",
   "metadata": {},
   "outputs": [
    {
     "data": {
      "text/html": [
       "<div>\n",
       "<style scoped>\n",
       "    .dataframe tbody tr th:only-of-type {\n",
       "        vertical-align: middle;\n",
       "    }\n",
       "\n",
       "    .dataframe tbody tr th {\n",
       "        vertical-align: top;\n",
       "    }\n",
       "\n",
       "    .dataframe thead th {\n",
       "        text-align: right;\n",
       "    }\n",
       "</style>\n",
       "<table border=\"1\" class=\"dataframe\">\n",
       "  <thead>\n",
       "    <tr style=\"text-align: right;\">\n",
       "      <th></th>\n",
       "      <th>Viewer_Name</th>\n",
       "      <th>Video_ID</th>\n",
       "      <th>View_Date</th>\n",
       "    </tr>\n",
       "  </thead>\n",
       "  <tbody>\n",
       "    <tr>\n",
       "      <th>0</th>\n",
       "      <td>Alice</td>\n",
       "      <td>V0000005</td>\n",
       "      <td>11月30日</td>\n",
       "    </tr>\n",
       "    <tr>\n",
       "      <th>1</th>\n",
       "      <td>Bob</td>\n",
       "      <td>V0000005</td>\n",
       "      <td>12月5日</td>\n",
       "    </tr>\n",
       "    <tr>\n",
       "      <th>2</th>\n",
       "      <td>Alice</td>\n",
       "      <td>V0000235</td>\n",
       "      <td>12月17日</td>\n",
       "    </tr>\n",
       "  </tbody>\n",
       "</table>\n",
       "</div>"
      ],
      "text/plain": [
       "  Viewer_Name  Video_ID View_Date\n",
       "0       Alice  V0000005    11月30日\n",
       "1        Bob   V0000005     12月5日\n",
       "2       Alice  V0000235    12月17日"
      ]
     },
     "execution_count": 10,
     "metadata": {},
     "output_type": "execute_result"
    }
   ],
   "source": [
    "view_records = pd.read_csv('./view_records.csv')\n",
    "view_records"
   ]
  },
  {
   "cell_type": "code",
   "execution_count": 11,
   "id": "211fb4d7",
   "metadata": {},
   "outputs": [
    {
     "data": {
      "text/html": [
       "<div>\n",
       "<style scoped>\n",
       "    .dataframe tbody tr th:only-of-type {\n",
       "        vertical-align: middle;\n",
       "    }\n",
       "\n",
       "    .dataframe tbody tr th {\n",
       "        vertical-align: top;\n",
       "    }\n",
       "\n",
       "    .dataframe thead th {\n",
       "        text-align: right;\n",
       "    }\n",
       "</style>\n",
       "<table border=\"1\" class=\"dataframe\">\n",
       "  <thead>\n",
       "    <tr style=\"text-align: right;\">\n",
       "      <th></th>\n",
       "      <th>Viewer_Name</th>\n",
       "      <th>Video_ID</th>\n",
       "      <th>View_Date</th>\n",
       "      <th>#Shorts</th>\n",
       "    </tr>\n",
       "  </thead>\n",
       "  <tbody>\n",
       "    <tr>\n",
       "      <th>0</th>\n",
       "      <td>Alice</td>\n",
       "      <td>V0000005</td>\n",
       "      <td>11月30日</td>\n",
       "      <td>True</td>\n",
       "    </tr>\n",
       "    <tr>\n",
       "      <th>1</th>\n",
       "      <td>Bob</td>\n",
       "      <td>V0000005</td>\n",
       "      <td>12月5日</td>\n",
       "      <td>True</td>\n",
       "    </tr>\n",
       "  </tbody>\n",
       "</table>\n",
       "</div>"
      ],
      "text/plain": [
       "  Viewer_Name  Video_ID View_Date  #Shorts\n",
       "0       Alice  V0000005    11月30日     True\n",
       "1        Bob   V0000005     12月5日     True"
      ]
     },
     "execution_count": 11,
     "metadata": {},
     "output_type": "execute_result"
    }
   ],
   "source": [
    "pd.merge(view_records,videos[['Video_ID','#Shorts']], on='Video_ID')"
   ]
  },
  {
   "cell_type": "code",
   "execution_count": 13,
   "id": "f6e1eda9",
   "metadata": {},
   "outputs": [
    {
     "data": {
      "text/html": [
       "<div>\n",
       "<style scoped>\n",
       "    .dataframe tbody tr th:only-of-type {\n",
       "        vertical-align: middle;\n",
       "    }\n",
       "\n",
       "    .dataframe tbody tr th {\n",
       "        vertical-align: top;\n",
       "    }\n",
       "\n",
       "    .dataframe thead th {\n",
       "        text-align: right;\n",
       "    }\n",
       "</style>\n",
       "<table border=\"1\" class=\"dataframe\">\n",
       "  <thead>\n",
       "    <tr style=\"text-align: right;\">\n",
       "      <th></th>\n",
       "      <th>Viewer_Name</th>\n",
       "      <th>Video_ID</th>\n",
       "      <th>View_Date</th>\n",
       "      <th>#Shorts</th>\n",
       "    </tr>\n",
       "  </thead>\n",
       "  <tbody>\n",
       "    <tr>\n",
       "      <th>0</th>\n",
       "      <td>Alice</td>\n",
       "      <td>V0000005</td>\n",
       "      <td>11月30日</td>\n",
       "      <td>True</td>\n",
       "    </tr>\n",
       "    <tr>\n",
       "      <th>1</th>\n",
       "      <td>Bob</td>\n",
       "      <td>V0000005</td>\n",
       "      <td>12月5日</td>\n",
       "      <td>True</td>\n",
       "    </tr>\n",
       "  </tbody>\n",
       "</table>\n",
       "</div>"
      ],
      "text/plain": [
       "  Viewer_Name  Video_ID View_Date  #Shorts\n",
       "0       Alice  V0000005    11月30日     True\n",
       "1        Bob   V0000005     12月5日     True"
      ]
     },
     "execution_count": 13,
     "metadata": {},
     "output_type": "execute_result"
    }
   ],
   "source": [
    "view_records = view_records.merge(videos[['Video_ID','#Shorts']])\n",
    "view_records"
   ]
  },
  {
   "cell_type": "code",
   "execution_count": null,
   "id": "a754d622",
   "metadata": {},
   "outputs": [],
   "source": []
  }
 ],
 "metadata": {
  "kernelspec": {
   "display_name": "Python 3 (ipykernel)",
   "language": "python",
   "name": "python3"
  },
  "language_info": {
   "codemirror_mode": {
    "name": "ipython",
    "version": 3
   },
   "file_extension": ".py",
   "mimetype": "text/x-python",
   "name": "python",
   "nbconvert_exporter": "python",
   "pygments_lexer": "ipython3",
   "version": "3.9.12"
  }
 },
 "nbformat": 4,
 "nbformat_minor": 5
}
